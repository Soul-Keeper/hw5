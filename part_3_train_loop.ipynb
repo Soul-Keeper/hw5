{
 "cells": [
  {
   "cell_type": "code",
   "execution_count": 1,
   "id": "c581c4b1",
   "metadata": {
    "execution": {
     "iopub.execute_input": "2023-06-12T18:43:35.287452Z",
     "iopub.status.busy": "2023-06-12T18:43:35.286977Z",
     "iopub.status.idle": "2023-06-12T18:43:40.325234Z",
     "shell.execute_reply": "2023-06-12T18:43:40.324083Z"
    },
    "id": "9ZvXDwrn6BIa",
    "outputId": "38de95a0-189b-4239-ac15-97e2f2a97913",
    "papermill": {
     "duration": 5.046511,
     "end_time": "2023-06-12T18:43:40.327752",
     "exception": false,
     "start_time": "2023-06-12T18:43:35.281241",
     "status": "completed"
    },
    "tags": []
   },
   "outputs": [
    {
     "name": "stdout",
     "output_type": "stream",
     "text": [
      "Cloning into 'mmaction2'...\r\n"
     ]
    },
    {
     "name": "stdout",
     "output_type": "stream",
     "text": [
      "remote: Enumerating objects: 21411, done.\u001b[K\r\n",
      "remote: Counting objects:   0% (1/521)\u001b[K\r",
      "remote: Counting objects:   1% (6/521)\u001b[K\r",
      "remote: Counting objects:   2% (11/521)\u001b[K\r",
      "remote: Counting objects:   3% (16/521)\u001b[K\r",
      "remote: Counting objects:   4% (21/521)\u001b[K\r",
      "remote: Counting objects:   5% (27/521)\u001b[K\r",
      "remote: Counting objects:   6% (32/521)\u001b[K\r",
      "remote: Counting objects:   7% (37/521)\u001b[K\r",
      "remote: Counting objects:   8% (42/521)\u001b[K\r",
      "remote: Counting objects:   9% (47/521)\u001b[K\r",
      "remote: Counting objects:  10% (53/521)\u001b[K\r",
      "remote: Counting objects:  11% (58/521)\u001b[K\r",
      "remote: Counting objects:  12% (63/521)\u001b[K\r",
      "remote: Counting objects:  13% (68/521)\u001b[K\r",
      "remote: Counting objects:  14% (73/521)\u001b[K\r",
      "remote: Counting objects:  15% (79/521)\u001b[K\r",
      "remote: Counting objects:  16% (84/521)\u001b[K\r",
      "remote: Counting objects:  17% (89/521)\u001b[K\r",
      "remote: Counting objects:  18% (94/521)\u001b[K\r",
      "remote: Counting objects:  19% (99/521)\u001b[K\r",
      "remote: Counting objects:  20% (105/521)\u001b[K\r",
      "remote: Counting objects:  21% (110/521)\u001b[K\r",
      "remote: Counting objects:  22% (115/521)\u001b[K\r",
      "remote: Counting objects:  23% (120/521)\u001b[K\r",
      "remote: Counting objects:  24% (126/521)\u001b[K\r",
      "remote: Counting objects:  25% (131/521)\u001b[K\r",
      "remote: Counting objects:  26% (136/521)\u001b[K\r",
      "remote: Counting objects:  27% (141/521)\u001b[K\r",
      "remote: Counting objects:  28% (146/521)\u001b[K\r",
      "remote: Counting objects:  29% (152/521)\u001b[K\r",
      "remote: Counting objects:  30% (157/521)\u001b[K\r",
      "remote: Counting objects:  31% (162/521)\u001b[K\r",
      "remote: Counting objects:  32% (167/521)\u001b[K\r",
      "remote: Counting objects:  33% (172/521)\u001b[K\r",
      "remote: Counting objects:  34% (178/521)\u001b[K\r",
      "remote: Counting objects:  35% (183/521)\u001b[K\r",
      "remote: Counting objects:  36% (188/521)\u001b[K\r",
      "remote: Counting objects:  37% (193/521)\u001b[K\r",
      "remote: Counting objects:  38% (198/521)\u001b[K\r",
      "remote: Counting objects:  39% (204/521)\u001b[K\r",
      "remote: Counting objects:  40% (209/521)\u001b[K\r",
      "remote: Counting objects:  41% (214/521)\u001b[K\r",
      "remote: Counting objects:  42% (219/521)\u001b[K\r",
      "remote: Counting objects:  43% (225/521)\u001b[K\r",
      "remote: Counting objects:  44% (230/521)\u001b[K\r",
      "remote: Counting objects:  45% (235/521)\u001b[K\r",
      "remote: Counting objects:  46% (240/521)\u001b[K\r",
      "remote: Counting objects:  47% (245/521)\u001b[K\r",
      "remote: Counting objects:  48% (251/521)\u001b[K\r",
      "remote: Counting objects:  49% (256/521)\u001b[K\r",
      "remote: Counting objects:  50% (261/521)\u001b[K\r",
      "remote: Counting objects:  51% (266/521)\u001b[K\r",
      "remote: Counting objects:  52% (271/521)\u001b[K\r",
      "remote: Counting objects:  53% (277/521)\u001b[K\r",
      "remote: Counting objects:  54% (282/521)\u001b[K\r",
      "remote: Counting objects:  55% (287/521)\u001b[K\r",
      "remote: Counting objects:  56% (292/521)\u001b[K\r",
      "remote: Counting objects:  57% (297/521)\u001b[K\r",
      "remote: Counting objects:  58% (303/521)\u001b[K\r",
      "remote: Counting objects:  59% (308/521)\u001b[K\r",
      "remote: Counting objects:  60% (313/521)\u001b[K\r",
      "remote: Counting objects:  61% (318/521)\u001b[K\r",
      "remote: Counting objects:  62% (324/521)\u001b[K\r",
      "remote: Counting objects:  63% (329/521)\u001b[K\r",
      "remote: Counting objects:  64% (334/521)\u001b[K\r",
      "remote: Counting objects:  65% (339/521)\u001b[K\r",
      "remote: Counting objects:  66% (344/521)\u001b[K\r",
      "remote: Counting objects:  67% (350/521)\u001b[K\r",
      "remote: Counting objects:  68% (355/521)\u001b[K\r",
      "remote: Counting objects:  69% (360/521)\u001b[K\r",
      "remote: Counting objects:  70% (365/521)\u001b[K\r",
      "remote: Counting objects:  71% (370/521)\u001b[K\r",
      "remote: Counting objects:  72% (376/521)\u001b[K\r",
      "remote: Counting objects:  73% (381/521)\u001b[K\r",
      "remote: Counting objects:  74% (386/521)\u001b[K\r",
      "remote: Counting objects:  75% (391/521)\u001b[K\r",
      "remote: Counting objects:  76% (396/521)\u001b[K\r",
      "remote: Counting objects:  77% (402/521)\u001b[K\r",
      "remote: Counting objects:  78% (407/521)\u001b[K\r",
      "remote: Counting objects:  79% (412/521)\u001b[K\r",
      "remote: Counting objects:  80% (417/521)\u001b[K\r",
      "remote: Counting objects:  81% (423/521)\u001b[K\r",
      "remote: Counting objects:  82% (428/521)\u001b[K\r",
      "remote: Counting objects:  83% (433/521)\u001b[K\r",
      "remote: Counting objects:  84% (438/521)\u001b[K\r",
      "remote: Counting objects:  85% (443/521)\u001b[K\r",
      "remote: Counting objects:  86% (449/521)\u001b[K\r",
      "remote: Counting objects:  87% (454/521)\u001b[K\r",
      "remote: Counting objects:  88% (459/521)\u001b[K\r",
      "remote: Counting objects:  89% (464/521)\u001b[K\r",
      "remote: Counting objects:  90% (469/521)\u001b[K\r",
      "remote: Counting objects:  91% (475/521)\u001b[K\r",
      "remote: Counting objects:  92% (480/521)\u001b[K\r",
      "remote: Counting objects:  93% (485/521)\u001b[K\r",
      "remote: Counting objects:  94% (490/521)\u001b[K\r",
      "remote: Counting objects:  95% (495/521)\u001b[K\r",
      "remote: Counting objects:  96% (501/521)\u001b[K\r",
      "remote: Counting objects:  97% (506/521)\u001b[K\r",
      "remote: Counting objects:  98% (511/521)\u001b[K\r",
      "remote: Counting objects:  99% (516/521)\u001b[K\r",
      "remote: Counting objects: 100% (521/521)\u001b[K\r",
      "remote: Counting objects: 100% (521/521), done.\u001b[K\r\n",
      "remote: Compressing objects:   0% (1/376)\u001b[K\r",
      "remote: Compressing objects:   1% (4/376)\u001b[K\r",
      "remote: Compressing objects:   2% (8/376)\u001b[K\r",
      "remote: Compressing objects:   3% (12/376)\u001b[K\r",
      "remote: Compressing objects:   4% (16/376)\u001b[K\r",
      "remote: Compressing objects:   5% (19/376)\u001b[K\r",
      "remote: Compressing objects:   6% (23/376)\u001b[K\r",
      "remote: Compressing objects:   7% (27/376)\u001b[K\r",
      "remote: Compressing objects:   8% (31/376)\u001b[K\r",
      "remote: Compressing objects:   9% (34/376)\u001b[K\r",
      "remote: Compressing objects:  10% (38/376)\u001b[K\r",
      "remote: Compressing objects:  11% (42/376)\u001b[K\r"
     ]
    },
    {
     "name": "stdout",
     "output_type": "stream",
     "text": [
      "remote: Compressing objects:  12% (46/376)\u001b[K\r",
      "remote: Compressing objects:  13% (49/376)\u001b[K\r",
      "remote: Compressing objects:  14% (53/376)\u001b[K\r",
      "remote: Compressing objects:  15% (57/376)\u001b[K\r",
      "remote: Compressing objects:  16% (61/376)\u001b[K\r",
      "remote: Compressing objects:  17% (64/376)\u001b[K\r",
      "remote: Compressing objects:  18% (68/376)\u001b[K\r",
      "remote: Compressing objects:  19% (72/376)\u001b[K\r",
      "remote: Compressing objects:  20% (76/376)\u001b[K\r",
      "remote: Compressing objects:  21% (79/376)\u001b[K\r",
      "remote: Compressing objects:  22% (83/376)\u001b[K\r",
      "remote: Compressing objects:  23% (87/376)\u001b[K\r",
      "remote: Compressing objects:  24% (91/376)\u001b[K\r",
      "remote: Compressing objects:  25% (94/376)\u001b[K\r",
      "remote: Compressing objects:  26% (98/376)\u001b[K\r",
      "remote: Compressing objects:  27% (102/376)\u001b[K\r",
      "remote: Compressing objects:  28% (106/376)\u001b[K\r",
      "remote: Compressing objects:  29% (110/376)\u001b[K\r",
      "remote: Compressing objects:  30% (113/376)\u001b[K\r",
      "remote: Compressing objects:  31% (117/376)\u001b[K\r",
      "remote: Compressing objects:  32% (121/376)\u001b[K\r",
      "remote: Compressing objects:  33% (125/376)\u001b[K\r",
      "remote: Compressing objects:  34% (128/376)\u001b[K\r",
      "remote: Compressing objects:  35% (132/376)\u001b[K\r",
      "remote: Compressing objects:  36% (136/376)\u001b[K\r",
      "remote: Compressing objects:  37% (140/376)\u001b[K\r",
      "remote: Compressing objects:  38% (143/376)\u001b[K\r",
      "remote: Compressing objects:  39% (147/376)\u001b[K\r",
      "remote: Compressing objects:  40% (151/376)\u001b[K\r",
      "remote: Compressing objects:  41% (155/376)\u001b[K\r",
      "remote: Compressing objects:  42% (158/376)\u001b[K\r",
      "remote: Compressing objects:  43% (162/376)\u001b[K\r",
      "remote: Compressing objects:  44% (166/376)\u001b[K\r",
      "remote: Compressing objects:  45% (170/376)\u001b[K\r",
      "remote: Compressing objects:  46% (173/376)\u001b[K\r",
      "remote: Compressing objects:  47% (177/376)\u001b[K\r",
      "remote: Compressing objects:  48% (181/376)\u001b[K\r",
      "remote: Compressing objects:  49% (185/376)\u001b[K\r",
      "remote: Compressing objects:  50% (188/376)\u001b[K\r",
      "remote: Compressing objects:  51% (192/376)\u001b[K\r",
      "remote: Compressing objects:  52% (196/376)\u001b[K\r",
      "remote: Compressing objects:  53% (200/376)\u001b[K\r",
      "remote: Compressing objects:  54% (204/376)\u001b[K\r",
      "remote: Compressing objects:  55% (207/376)\u001b[K\r",
      "remote: Compressing objects:  56% (211/376)\u001b[K\r",
      "remote: Compressing objects:  57% (215/376)\u001b[K\r",
      "remote: Compressing objects:  58% (219/376)\u001b[K\r",
      "remote: Compressing objects:  59% (222/376)\u001b[K\r",
      "remote: Compressing objects:  60% (226/376)\u001b[K\r",
      "remote: Compressing objects:  61% (230/376)\u001b[K\r",
      "remote: Compressing objects:  62% (234/376)\u001b[K\r",
      "remote: Compressing objects:  63% (237/376)\u001b[K\r",
      "remote: Compressing objects:  64% (241/376)\u001b[K\r",
      "remote: Compressing objects:  65% (245/376)\u001b[K\r",
      "remote: Compressing objects:  66% (249/376)\u001b[K\r",
      "remote: Compressing objects:  67% (252/376)\u001b[K\r",
      "remote: Compressing objects:  68% (256/376)\u001b[K\r",
      "remote: Compressing objects:  69% (260/376)\u001b[K\r",
      "remote: Compressing objects:  70% (264/376)\u001b[K\r",
      "remote: Compressing objects:  71% (267/376)\u001b[K\r",
      "remote: Compressing objects:  72% (271/376)\u001b[K\r",
      "remote: Compressing objects:  73% (275/376)\u001b[K\r",
      "remote: Compressing objects:  74% (279/376)\u001b[K\r",
      "remote: Compressing objects:  75% (282/376)\u001b[K\r",
      "remote: Compressing objects:  76% (286/376)\u001b[K\r",
      "remote: Compressing objects:  77% (290/376)\u001b[K\r",
      "remote: Compressing objects:  78% (294/376)\u001b[K\r",
      "remote: Compressing objects:  79% (298/376)\u001b[K\r",
      "remote: Compressing objects:  80% (301/376)\u001b[K\r",
      "remote: Compressing objects:  81% (305/376)\u001b[K\r",
      "remote: Compressing objects:  82% (309/376)\u001b[K\r",
      "remote: Compressing objects:  83% (313/376)\u001b[K\r",
      "remote: Compressing objects:  84% (316/376)\u001b[K\r",
      "remote: Compressing objects:  85% (320/376)\u001b[K\r",
      "remote: Compressing objects:  86% (324/376)\u001b[K\r",
      "remote: Compressing objects:  87% (328/376)\u001b[K\r",
      "remote: Compressing objects:  88% (331/376)\u001b[K\r",
      "remote: Compressing objects:  89% (335/376)\u001b[K\r",
      "remote: Compressing objects:  90% (339/376)\u001b[K\r",
      "remote: Compressing objects:  91% (343/376)\u001b[K\r",
      "remote: Compressing objects:  92% (346/376)\u001b[K\r",
      "remote: Compressing objects:  93% (350/376)\u001b[K\r",
      "remote: Compressing objects:  94% (354/376)\u001b[K\r",
      "remote: Compressing objects:  95% (358/376)\u001b[K\r",
      "remote: Compressing objects:  96% (361/376)\u001b[K\r",
      "remote: Compressing objects:  97% (365/376)\u001b[K\r",
      "remote: Compressing objects:  98% (369/376)\u001b[K\r",
      "remote: Compressing objects:  99% (373/376)\u001b[K\r",
      "remote: Compressing objects: 100% (376/376)\u001b[K\r",
      "remote: Compressing objects: 100% (376/376), done.\u001b[K\r\n"
     ]
    },
    {
     "name": "stdout",
     "output_type": "stream",
     "text": [
      "Receiving objects:   0% (1/21411)\r",
      "Receiving objects:   1% (215/21411)\r",
      "Receiving objects:   2% (429/21411)\r"
     ]
    },
    {
     "name": "stdout",
     "output_type": "stream",
     "text": [
      "Receiving objects:   3% (643/21411)\r",
      "Receiving objects:   4% (857/21411)\r",
      "Receiving objects:   5% (1071/21411)\r"
     ]
    },
    {
     "name": "stdout",
     "output_type": "stream",
     "text": [
      "Receiving objects:   6% (1285/21411)\r",
      "Receiving objects:   7% (1499/21411)\r",
      "Receiving objects:   8% (1713/21411)\r",
      "Receiving objects:   9% (1927/21411)\r",
      "Receiving objects:  10% (2142/21411)\r",
      "Receiving objects:  11% (2356/21411)\r"
     ]
    },
    {
     "name": "stdout",
     "output_type": "stream",
     "text": [
      "Receiving objects:  12% (2570/21411)\r"
     ]
    },
    {
     "name": "stdout",
     "output_type": "stream",
     "text": [
      "Receiving objects:  13% (2784/21411)\r"
     ]
    },
    {
     "name": "stdout",
     "output_type": "stream",
     "text": [
      "Receiving objects:  14% (2998/21411), 8.17 MiB | 16.32 MiB/s\r",
      "Receiving objects:  15% (3212/21411), 8.17 MiB | 16.32 MiB/s\r"
     ]
    },
    {
     "name": "stdout",
     "output_type": "stream",
     "text": [
      "Receiving objects:  16% (3426/21411), 8.17 MiB | 16.32 MiB/s\r",
      "Receiving objects:  17% (3640/21411), 8.17 MiB | 16.32 MiB/s\r"
     ]
    },
    {
     "name": "stdout",
     "output_type": "stream",
     "text": [
      "Receiving objects:  18% (3854/21411), 8.17 MiB | 16.32 MiB/s\r",
      "Receiving objects:  19% (4069/21411), 8.17 MiB | 16.32 MiB/s\r",
      "Receiving objects:  20% (4283/21411), 8.17 MiB | 16.32 MiB/s\r"
     ]
    },
    {
     "name": "stdout",
     "output_type": "stream",
     "text": [
      "Receiving objects:  21% (4497/21411), 8.17 MiB | 16.32 MiB/s\r"
     ]
    },
    {
     "name": "stdout",
     "output_type": "stream",
     "text": [
      "Receiving objects:  22% (4711/21411), 8.17 MiB | 16.32 MiB/s\r",
      "Receiving objects:  23% (4925/21411), 8.17 MiB | 16.32 MiB/s\r"
     ]
    },
    {
     "name": "stdout",
     "output_type": "stream",
     "text": [
      "Receiving objects:  23% (4970/21411), 22.34 MiB | 22.33 MiB/s\r"
     ]
    },
    {
     "name": "stdout",
     "output_type": "stream",
     "text": [
      "Receiving objects:  24% (5139/21411), 22.34 MiB | 22.33 MiB/s\r"
     ]
    },
    {
     "name": "stdout",
     "output_type": "stream",
     "text": [
      "Receiving objects:  25% (5353/21411), 22.34 MiB | 22.33 MiB/s\r"
     ]
    },
    {
     "name": "stdout",
     "output_type": "stream",
     "text": [
      "Receiving objects:  26% (5567/21411), 22.34 MiB | 22.33 MiB/s\r",
      "Receiving objects:  27% (5781/21411), 22.34 MiB | 22.33 MiB/s\r",
      "Receiving objects:  28% (5996/21411), 22.34 MiB | 22.33 MiB/s\r",
      "Receiving objects:  29% (6210/21411), 22.34 MiB | 22.33 MiB/s\r"
     ]
    },
    {
     "name": "stdout",
     "output_type": "stream",
     "text": [
      "Receiving objects:  30% (6424/21411), 22.34 MiB | 22.33 MiB/s\r",
      "Receiving objects:  31% (6638/21411), 22.34 MiB | 22.33 MiB/s\r"
     ]
    },
    {
     "name": "stdout",
     "output_type": "stream",
     "text": [
      "Receiving objects:  32% (6852/21411), 22.34 MiB | 22.33 MiB/s\r"
     ]
    },
    {
     "name": "stdout",
     "output_type": "stream",
     "text": [
      "Receiving objects:  33% (7066/21411), 38.15 MiB | 25.43 MiB/s\r",
      "Receiving objects:  34% (7280/21411), 38.15 MiB | 25.43 MiB/s\r",
      "Receiving objects:  35% (7494/21411), 38.15 MiB | 25.43 MiB/s\r"
     ]
    },
    {
     "name": "stdout",
     "output_type": "stream",
     "text": [
      "Receiving objects:  36% (7708/21411), 38.15 MiB | 25.43 MiB/s\r",
      "Receiving objects:  37% (7923/21411), 38.15 MiB | 25.43 MiB/s\r",
      "Receiving objects:  38% (8137/21411), 38.15 MiB | 25.43 MiB/s\r",
      "Receiving objects:  39% (8351/21411), 38.15 MiB | 25.43 MiB/s\r",
      "Receiving objects:  40% (8565/21411), 38.15 MiB | 25.43 MiB/s\r",
      "Receiving objects:  41% (8779/21411), 38.15 MiB | 25.43 MiB/s\r",
      "Receiving objects:  42% (8993/21411), 38.15 MiB | 25.43 MiB/s\r",
      "Receiving objects:  43% (9207/21411), 38.15 MiB | 25.43 MiB/s\r",
      "Receiving objects:  44% (9421/21411), 38.15 MiB | 25.43 MiB/s\r",
      "Receiving objects:  45% (9635/21411), 38.15 MiB | 25.43 MiB/s\r",
      "Receiving objects:  46% (9850/21411), 38.15 MiB | 25.43 MiB/s\r",
      "Receiving objects:  47% (10064/21411), 38.15 MiB | 25.43 MiB/s\r",
      "Receiving objects:  48% (10278/21411), 38.15 MiB | 25.43 MiB/s\r",
      "Receiving objects:  49% (10492/21411), 38.15 MiB | 25.43 MiB/s\r",
      "Receiving objects:  50% (10706/21411), 38.15 MiB | 25.43 MiB/s\r",
      "Receiving objects:  51% (10920/21411), 38.15 MiB | 25.43 MiB/s\r",
      "Receiving objects:  52% (11134/21411), 38.15 MiB | 25.43 MiB/s\r",
      "Receiving objects:  53% (11348/21411), 38.15 MiB | 25.43 MiB/s\r",
      "Receiving objects:  54% (11562/21411), 38.15 MiB | 25.43 MiB/s\r",
      "Receiving objects:  55% (11777/21411), 38.15 MiB | 25.43 MiB/s\r"
     ]
    },
    {
     "name": "stdout",
     "output_type": "stream",
     "text": [
      "Receiving objects:  56% (11991/21411), 38.15 MiB | 25.43 MiB/s\r",
      "Receiving objects:  57% (12205/21411), 38.15 MiB | 25.43 MiB/s\r",
      "Receiving objects:  58% (12419/21411), 38.15 MiB | 25.43 MiB/s\r",
      "Receiving objects:  59% (12633/21411), 38.15 MiB | 25.43 MiB/s\r",
      "Receiving objects:  60% (12847/21411), 38.15 MiB | 25.43 MiB/s\r",
      "Receiving objects:  61% (13061/21411), 38.15 MiB | 25.43 MiB/s\r",
      "Receiving objects:  62% (13275/21411), 38.15 MiB | 25.43 MiB/s\r",
      "Receiving objects:  63% (13489/21411), 38.15 MiB | 25.43 MiB/s\r",
      "Receiving objects:  64% (13704/21411), 38.15 MiB | 25.43 MiB/s\r",
      "Receiving objects:  65% (13918/21411), 38.15 MiB | 25.43 MiB/s\r",
      "Receiving objects:  66% (14132/21411), 38.15 MiB | 25.43 MiB/s\r",
      "Receiving objects:  67% (14346/21411), 38.15 MiB | 25.43 MiB/s\r",
      "Receiving objects:  68% (14560/21411), 38.15 MiB | 25.43 MiB/s\r",
      "Receiving objects:  69% (14774/21411), 38.15 MiB | 25.43 MiB/s\r",
      "Receiving objects:  70% (14988/21411), 38.15 MiB | 25.43 MiB/s\r",
      "Receiving objects:  71% (15202/21411), 38.15 MiB | 25.43 MiB/s\r",
      "Receiving objects:  72% (15416/21411), 38.15 MiB | 25.43 MiB/s\r",
      "Receiving objects:  73% (15631/21411), 38.15 MiB | 25.43 MiB/s\r",
      "Receiving objects:  74% (15845/21411), 38.15 MiB | 25.43 MiB/s\r",
      "Receiving objects:  75% (16059/21411), 38.15 MiB | 25.43 MiB/s\r",
      "Receiving objects:  76% (16273/21411), 38.15 MiB | 25.43 MiB/s\r",
      "Receiving objects:  77% (16487/21411), 38.15 MiB | 25.43 MiB/s\r",
      "Receiving objects:  78% (16701/21411), 38.15 MiB | 25.43 MiB/s\r",
      "Receiving objects:  79% (16915/21411), 38.15 MiB | 25.43 MiB/s\r",
      "Receiving objects:  80% (17129/21411), 38.15 MiB | 25.43 MiB/s\r"
     ]
    },
    {
     "name": "stdout",
     "output_type": "stream",
     "text": [
      "Receiving objects:  80% (17261/21411), 55.69 MiB | 27.84 MiB/s\r"
     ]
    },
    {
     "name": "stdout",
     "output_type": "stream",
     "text": [
      "Receiving objects:  81% (17343/21411), 55.69 MiB | 27.84 MiB/s\r",
      "Receiving objects:  82% (17558/21411), 55.69 MiB | 27.84 MiB/s\r",
      "Receiving objects:  83% (17772/21411), 55.69 MiB | 27.84 MiB/s\r",
      "Receiving objects:  84% (17986/21411), 55.69 MiB | 27.84 MiB/s\r",
      "Receiving objects:  85% (18200/21411), 55.69 MiB | 27.84 MiB/s\r"
     ]
    },
    {
     "name": "stdout",
     "output_type": "stream",
     "text": [
      "Receiving objects:  86% (18414/21411), 55.69 MiB | 27.84 MiB/s\r",
      "Receiving objects:  87% (18628/21411), 55.69 MiB | 27.84 MiB/s\r",
      "Receiving objects:  88% (18842/21411), 55.69 MiB | 27.84 MiB/s\r",
      "Receiving objects:  89% (19056/21411), 55.69 MiB | 27.84 MiB/s\r",
      "Receiving objects:  90% (19270/21411), 55.69 MiB | 27.84 MiB/s\r",
      "Receiving objects:  91% (19485/21411), 55.69 MiB | 27.84 MiB/s\r",
      "Receiving objects:  92% (19699/21411), 55.69 MiB | 27.84 MiB/s\r",
      "Receiving objects:  93% (19913/21411), 55.69 MiB | 27.84 MiB/s\r",
      "Receiving objects:  94% (20127/21411), 55.69 MiB | 27.84 MiB/s\r",
      "Receiving objects:  95% (20341/21411), 55.69 MiB | 27.84 MiB/s\r",
      "Receiving objects:  96% (20555/21411), 55.69 MiB | 27.84 MiB/s\r",
      "Receiving objects:  97% (20769/21411), 55.69 MiB | 27.84 MiB/s\r",
      "Receiving objects:  98% (20983/21411), 55.69 MiB | 27.84 MiB/s\r",
      "Receiving objects:  99% (21197/21411), 55.69 MiB | 27.84 MiB/s\r",
      "remote: Total 21411 (delta 243), reused 303 (delta 141), pack-reused 20890\u001b[K\r\n",
      "Receiving objects: 100% (21411/21411), 55.69 MiB | 27.84 MiB/s\r",
      "Receiving objects: 100% (21411/21411), 68.71 MiB | 29.05 MiB/s, done.\r\n"
     ]
    },
    {
     "name": "stdout",
     "output_type": "stream",
     "text": [
      "Resolving deltas:   0% (0/15058)\r",
      "Resolving deltas:   1% (151/15058)\r",
      "Resolving deltas:   2% (302/15058)\r",
      "Resolving deltas:   3% (452/15058)\r",
      "Resolving deltas:   4% (603/15058)\r",
      "Resolving deltas:   5% (753/15058)\r",
      "Resolving deltas:   6% (904/15058)\r",
      "Resolving deltas:   7% (1055/15058)\r",
      "Resolving deltas:   8% (1205/15058)\r",
      "Resolving deltas:   9% (1356/15058)\r"
     ]
    },
    {
     "name": "stdout",
     "output_type": "stream",
     "text": [
      "Resolving deltas:  10% (1506/15058)\r",
      "Resolving deltas:  11% (1657/15058)\r",
      "Resolving deltas:  12% (1807/15058)\r",
      "Resolving deltas:  13% (1958/15058)\r",
      "Resolving deltas:  14% (2109/15058)\r",
      "Resolving deltas:  15% (2259/15058)\r",
      "Resolving deltas:  16% (2410/15058)\r",
      "Resolving deltas:  17% (2560/15058)\r",
      "Resolving deltas:  18% (2711/15058)\r",
      "Resolving deltas:  19% (2862/15058)\r",
      "Resolving deltas:  20% (3012/15058)\r"
     ]
    },
    {
     "name": "stdout",
     "output_type": "stream",
     "text": [
      "Resolving deltas:  21% (3163/15058)\r",
      "Resolving deltas:  22% (3313/15058)\r",
      "Resolving deltas:  23% (3464/15058)\r",
      "Resolving deltas:  24% (3614/15058)\r",
      "Resolving deltas:  25% (3765/15058)\r",
      "Resolving deltas:  26% (3916/15058)\r",
      "Resolving deltas:  27% (4066/15058)\r",
      "Resolving deltas:  28% (4217/15058)\r",
      "Resolving deltas:  29% (4367/15058)\r",
      "Resolving deltas:  30% (4518/15058)\r",
      "Resolving deltas:  31% (4668/15058)\r"
     ]
    },
    {
     "name": "stdout",
     "output_type": "stream",
     "text": [
      "Resolving deltas:  32% (4819/15058)\r",
      "Resolving deltas:  33% (4970/15058)\r"
     ]
    },
    {
     "name": "stdout",
     "output_type": "stream",
     "text": [
      "Resolving deltas:  34% (5120/15058)\r",
      "Resolving deltas:  35% (5271/15058)\r",
      "Resolving deltas:  36% (5421/15058)\r",
      "Resolving deltas:  37% (5572/15058)\r",
      "Resolving deltas:  38% (5723/15058)\r",
      "Resolving deltas:  39% (5873/15058)\r"
     ]
    },
    {
     "name": "stdout",
     "output_type": "stream",
     "text": [
      "Resolving deltas:  40% (6024/15058)\r",
      "Resolving deltas:  41% (6174/15058)\r",
      "Resolving deltas:  42% (6325/15058)\r",
      "Resolving deltas:  43% (6475/15058)\r",
      "Resolving deltas:  44% (6626/15058)\r",
      "Resolving deltas:  45% (6777/15058)\r",
      "Resolving deltas:  46% (6927/15058)\r"
     ]
    },
    {
     "name": "stdout",
     "output_type": "stream",
     "text": [
      "Resolving deltas:  47% (7078/15058)\r",
      "Resolving deltas:  48% (7228/15058)\r",
      "Resolving deltas:  49% (7379/15058)\r",
      "Resolving deltas:  50% (7529/15058)\r",
      "Resolving deltas:  51% (7680/15058)\r"
     ]
    },
    {
     "name": "stdout",
     "output_type": "stream",
     "text": [
      "Resolving deltas:  52% (7831/15058)\r",
      "Resolving deltas:  53% (7981/15058)\r"
     ]
    },
    {
     "name": "stdout",
     "output_type": "stream",
     "text": [
      "Resolving deltas:  54% (8132/15058)\r",
      "Resolving deltas:  55% (8282/15058)\r",
      "Resolving deltas:  56% (8433/15058)\r",
      "Resolving deltas:  57% (8584/15058)\r",
      "Resolving deltas:  58% (8734/15058)\r",
      "Resolving deltas:  59% (8885/15058)\r",
      "Resolving deltas:  60% (9035/15058)\r",
      "Resolving deltas:  61% (9186/15058)\r",
      "Resolving deltas:  62% (9336/15058)\r",
      "Resolving deltas:  63% (9487/15058)\r",
      "Resolving deltas:  64% (9638/15058)\r",
      "Resolving deltas:  65% (9788/15058)\r",
      "Resolving deltas:  66% (9939/15058)\r",
      "Resolving deltas:  67% (10089/15058)\r"
     ]
    },
    {
     "name": "stdout",
     "output_type": "stream",
     "text": [
      "Resolving deltas:  68% (10240/15058)\r",
      "Resolving deltas:  69% (10391/15058)\r",
      "Resolving deltas:  70% (10541/15058)\r",
      "Resolving deltas:  71% (10692/15058)\r",
      "Resolving deltas:  72% (10842/15058)\r",
      "Resolving deltas:  73% (10993/15058)\r",
      "Resolving deltas:  74% (11143/15058)\r",
      "Resolving deltas:  75% (11294/15058)\r",
      "Resolving deltas:  76% (11445/15058)\r",
      "Resolving deltas:  77% (11595/15058)\r",
      "Resolving deltas:  78% (11746/15058)\r",
      "Resolving deltas:  79% (11896/15058)\r",
      "Resolving deltas:  80% (12047/15058)\r",
      "Resolving deltas:  81% (12197/15058)\r",
      "Resolving deltas:  82% (12348/15058)\r",
      "Resolving deltas:  83% (12499/15058)\r",
      "Resolving deltas:  84% (12649/15058)\r",
      "Resolving deltas:  85% (12800/15058)\r",
      "Resolving deltas:  86% (12950/15058)\r",
      "Resolving deltas:  87% (13101/15058)\r",
      "Resolving deltas:  88% (13252/15058)\r",
      "Resolving deltas:  89% (13402/15058)\r",
      "Resolving deltas:  90% (13553/15058)\r",
      "Resolving deltas:  91% (13703/15058)\r",
      "Resolving deltas:  92% (13854/15058)\r",
      "Resolving deltas:  93% (14004/15058)\r",
      "Resolving deltas:  94% (14155/15058)\r",
      "Resolving deltas:  95% (14306/15058)\r",
      "Resolving deltas:  96% (14456/15058)\r",
      "Resolving deltas:  97% (14607/15058)\r",
      "Resolving deltas:  98% (14757/15058)\r"
     ]
    },
    {
     "name": "stdout",
     "output_type": "stream",
     "text": [
      "Resolving deltas:  99% (14908/15058)\r",
      "Resolving deltas: 100% (15058/15058)\r",
      "Resolving deltas: 100% (15058/15058), done.\r\n"
     ]
    }
   ],
   "source": [
    "!git clone https://github.com/open-mmlab/mmaction2.git"
   ]
  },
  {
   "cell_type": "code",
   "execution_count": 2,
   "id": "b6675a5a",
   "metadata": {
    "execution": {
     "iopub.execute_input": "2023-06-12T18:43:40.342355Z",
     "iopub.status.busy": "2023-06-12T18:43:40.341956Z",
     "iopub.status.idle": "2023-06-12T18:43:57.263004Z",
     "shell.execute_reply": "2023-06-12T18:43:57.261617Z"
    },
    "id": "YdyCZA-fAmpP",
    "outputId": "617fbcb9-8543-491a-d7c5-7ca81fed56c5",
    "papermill": {
     "duration": 16.931731,
     "end_time": "2023-06-12T18:43:57.266175",
     "exception": false,
     "start_time": "2023-06-12T18:43:40.334444",
     "status": "completed"
    },
    "tags": []
   },
   "outputs": [
    {
     "name": "stdout",
     "output_type": "stream",
     "text": [
      "/kaggle/working/mmaction2\n"
     ]
    },
    {
     "name": "stdout",
     "output_type": "stream",
     "text": [
      "Obtaining file:///kaggle/working/mmaction2\r\n"
     ]
    },
    {
     "name": "stdout",
     "output_type": "stream",
     "text": [
      "  Preparing metadata (setup.py) ... \u001b[?25l-"
     ]
    },
    {
     "name": "stdout",
     "output_type": "stream",
     "text": [
      "\b \b\\"
     ]
    },
    {
     "name": "stdout",
     "output_type": "stream",
     "text": [
      "\b \bdone\r\n"
     ]
    },
    {
     "name": "stdout",
     "output_type": "stream",
     "text": [
      "\u001b[?25hCollecting decord>=0.4.1 (from mmaction2==1.0.0)\r\n"
     ]
    },
    {
     "name": "stdout",
     "output_type": "stream",
     "text": [
      "  Downloading decord-0.6.0-py3-none-manylinux2010_x86_64.whl (13.6 MB)\r\n",
      "\u001b[?25l     \u001b[90m━━━━━━━━━━━━━━━━━━━━━━━━━━━━━━━━━━━━━━━━\u001b[0m \u001b[32m0.0/13.6 MB\u001b[0m \u001b[31m?\u001b[0m eta \u001b[36m-:--:--\u001b[0m\r",
      "\u001b[2K     \u001b[91m━━━\u001b[0m\u001b[90m╺\u001b[0m\u001b[90m━━━━━━━━━━━━━━━━━━━━━━━━━━━━━━━━━━━━\u001b[0m \u001b[32m1.1/13.6 MB\u001b[0m \u001b[31m31.6 MB/s\u001b[0m eta \u001b[36m0:00:01\u001b[0m"
     ]
    },
    {
     "name": "stdout",
     "output_type": "stream",
     "text": [
      "\r",
      "\u001b[2K     \u001b[91m━━━━━━━━━━━━━━━━━\u001b[0m\u001b[91m╸\u001b[0m\u001b[90m━━━━━━━━━━━━━━━━━━━━━━\u001b[0m \u001b[32m6.0/13.6 MB\u001b[0m \u001b[31m87.1 MB/s\u001b[0m eta \u001b[36m0:00:01\u001b[0m"
     ]
    },
    {
     "name": "stdout",
     "output_type": "stream",
     "text": [
      "\r",
      "\u001b[2K     \u001b[91m━━━━━━━━━━━━━━━━━━━━━━━━━━━━━━━━\u001b[0m\u001b[91m╸\u001b[0m\u001b[90m━━━━━━\u001b[0m \u001b[32m11.4/13.6 MB\u001b[0m \u001b[31m149.8 MB/s\u001b[0m eta \u001b[36m0:00:01\u001b[0m\r",
      "\u001b[2K     \u001b[91m━━━━━━━━━━━━━━━━━━━━━━━━━━━━━━━━━━━━━━\u001b[0m\u001b[91m╸\u001b[0m \u001b[32m13.6/13.6 MB\u001b[0m \u001b[31m156.3 MB/s\u001b[0m eta \u001b[36m0:00:01\u001b[0m"
     ]
    },
    {
     "name": "stdout",
     "output_type": "stream",
     "text": [
      "\r",
      "\u001b[2K     \u001b[91m━━━━━━━━━━━━━━━━━━━━━━━━━━━━━━━━━━━━━━\u001b[0m\u001b[91m╸\u001b[0m \u001b[32m13.6/13.6 MB\u001b[0m \u001b[31m156.3 MB/s\u001b[0m eta \u001b[36m0:00:01\u001b[0m\r",
      "\u001b[2K     \u001b[90m━━━━━━━━━━━━━━━━━━━━━━━━━━━━━━━━━━━━━━━━\u001b[0m \u001b[32m13.6/13.6 MB\u001b[0m \u001b[31m75.3 MB/s\u001b[0m eta \u001b[36m0:00:00\u001b[0m\r\n",
      "\u001b[?25h"
     ]
    },
    {
     "name": "stdout",
     "output_type": "stream",
     "text": [
      "Collecting einops (from mmaction2==1.0.0)\r\n",
      "  Downloading einops-0.6.1-py3-none-any.whl (42 kB)\r\n",
      "\u001b[?25l     \u001b[90m━━━━━━━━━━━━━━━━━━━━━━━━━━━━━━━━━━━━━━━━\u001b[0m \u001b[32m0.0/42.2 kB\u001b[0m \u001b[31m?\u001b[0m eta \u001b[36m-:--:--\u001b[0m\r",
      "\u001b[2K     \u001b[90m━━━━━━━━━━━━━━━━━━━━━━━━━━━━━━━━━━━━━━━━\u001b[0m \u001b[32m42.2/42.2 kB\u001b[0m \u001b[31m4.2 MB/s\u001b[0m eta \u001b[36m0:00:00\u001b[0m\r\n",
      "\u001b[?25hRequirement already satisfied: matplotlib in /opt/conda/lib/python3.10/site-packages (from mmaction2==1.0.0) (3.6.3)\r\n",
      "Requirement already satisfied: numpy in /opt/conda/lib/python3.10/site-packages (from mmaction2==1.0.0) (1.23.5)\r\n",
      "Requirement already satisfied: opencv-contrib-python in /opt/conda/lib/python3.10/site-packages (from mmaction2==1.0.0) (4.5.4.60)\r\n",
      "Requirement already satisfied: Pillow in /opt/conda/lib/python3.10/site-packages (from mmaction2==1.0.0) (9.5.0)\r\n",
      "Requirement already satisfied: scipy in /opt/conda/lib/python3.10/site-packages (from mmaction2==1.0.0) (1.10.1)\r\n",
      "Requirement already satisfied: torch>=1.3 in /opt/conda/lib/python3.10/site-packages (from mmaction2==1.0.0) (2.0.0)\r\n"
     ]
    },
    {
     "name": "stdout",
     "output_type": "stream",
     "text": [
      "Requirement already satisfied: filelock in /opt/conda/lib/python3.10/site-packages (from torch>=1.3->mmaction2==1.0.0) (3.12.0)\r\n",
      "Requirement already satisfied: typing-extensions in /opt/conda/lib/python3.10/site-packages (from torch>=1.3->mmaction2==1.0.0) (4.5.0)\r\n",
      "Requirement already satisfied: sympy in /opt/conda/lib/python3.10/site-packages (from torch>=1.3->mmaction2==1.0.0) (1.12)\r\n",
      "Requirement already satisfied: networkx in /opt/conda/lib/python3.10/site-packages (from torch>=1.3->mmaction2==1.0.0) (3.1)\r\n",
      "Requirement already satisfied: jinja2 in /opt/conda/lib/python3.10/site-packages (from torch>=1.3->mmaction2==1.0.0) (3.1.2)\r\n",
      "Requirement already satisfied: contourpy>=1.0.1 in /opt/conda/lib/python3.10/site-packages (from matplotlib->mmaction2==1.0.0) (1.0.7)\r\n",
      "Requirement already satisfied: cycler>=0.10 in /opt/conda/lib/python3.10/site-packages (from matplotlib->mmaction2==1.0.0) (0.11.0)\r\n",
      "Requirement already satisfied: fonttools>=4.22.0 in /opt/conda/lib/python3.10/site-packages (from matplotlib->mmaction2==1.0.0) (4.39.3)\r\n",
      "Requirement already satisfied: kiwisolver>=1.0.1 in /opt/conda/lib/python3.10/site-packages (from matplotlib->mmaction2==1.0.0) (1.4.4)\r\n",
      "Requirement already satisfied: packaging>=20.0 in /opt/conda/lib/python3.10/site-packages (from matplotlib->mmaction2==1.0.0) (21.3)\r\n",
      "Requirement already satisfied: pyparsing>=2.2.1 in /opt/conda/lib/python3.10/site-packages (from matplotlib->mmaction2==1.0.0) (3.0.9)\r\n",
      "Requirement already satisfied: python-dateutil>=2.7 in /opt/conda/lib/python3.10/site-packages (from matplotlib->mmaction2==1.0.0) (2.8.2)\r\n"
     ]
    },
    {
     "name": "stdout",
     "output_type": "stream",
     "text": [
      "Requirement already satisfied: six>=1.5 in /opt/conda/lib/python3.10/site-packages (from python-dateutil>=2.7->matplotlib->mmaction2==1.0.0) (1.16.0)\r\n",
      "Requirement already satisfied: MarkupSafe>=2.0 in /opt/conda/lib/python3.10/site-packages (from jinja2->torch>=1.3->mmaction2==1.0.0) (2.1.2)\r\n"
     ]
    },
    {
     "name": "stdout",
     "output_type": "stream",
     "text": [
      "Requirement already satisfied: mpmath>=0.19 in /opt/conda/lib/python3.10/site-packages (from sympy->torch>=1.3->mmaction2==1.0.0) (1.3.0)\r\n"
     ]
    },
    {
     "name": "stdout",
     "output_type": "stream",
     "text": [
      "Installing collected packages: einops, decord, mmaction2\r\n"
     ]
    },
    {
     "name": "stdout",
     "output_type": "stream",
     "text": [
      "  Running setup.py develop for mmaction2\r\n"
     ]
    },
    {
     "name": "stdout",
     "output_type": "stream",
     "text": [
      "Successfully installed decord-0.6.0 einops-0.6.1 mmaction2-1.0.0\r\n",
      "\u001b[33mWARNING: Running pip as the 'root' user can result in broken permissions and conflicting behaviour with the system package manager. It is recommended to use a virtual environment instead: https://pip.pypa.io/warnings/venv\u001b[0m\u001b[33m\r\n",
      "\u001b[0m"
     ]
    }
   ],
   "source": [
    "%cd mmaction2\n",
    "!python -m pip install -e ."
   ]
  },
  {
   "cell_type": "code",
   "execution_count": 3,
   "id": "8b791ceb",
   "metadata": {
    "execution": {
     "iopub.execute_input": "2023-06-12T18:43:57.283387Z",
     "iopub.status.busy": "2023-06-12T18:43:57.283034Z",
     "iopub.status.idle": "2023-06-12T18:43:57.288841Z",
     "shell.execute_reply": "2023-06-12T18:43:57.288114Z"
    },
    "id": "XxeYCkBfAtlP",
    "outputId": "72591c9e-16df-465c-9fbe-4277f8656920",
    "papermill": {
     "duration": 0.016827,
     "end_time": "2023-06-12T18:43:57.291109",
     "exception": false,
     "start_time": "2023-06-12T18:43:57.274282",
     "status": "completed"
    },
    "tags": []
   },
   "outputs": [
    {
     "name": "stdout",
     "output_type": "stream",
     "text": [
      "/kaggle/working\n"
     ]
    }
   ],
   "source": [
    "%cd .."
   ]
  },
  {
   "cell_type": "code",
   "execution_count": 4,
   "id": "0ff943bf",
   "metadata": {
    "execution": {
     "iopub.execute_input": "2023-06-12T18:43:57.307331Z",
     "iopub.status.busy": "2023-06-12T18:43:57.307040Z",
     "iopub.status.idle": "2023-06-12T18:45:00.543709Z",
     "shell.execute_reply": "2023-06-12T18:45:00.542463Z"
    },
    "papermill": {
     "duration": 63.247444,
     "end_time": "2023-06-12T18:45:00.546167",
     "exception": false,
     "start_time": "2023-06-12T18:43:57.298723",
     "status": "completed"
    },
    "tags": []
   },
   "outputs": [
    {
     "name": "stdout",
     "output_type": "stream",
     "text": [
      "Collecting torch==1.12.0\r\n"
     ]
    },
    {
     "name": "stdout",
     "output_type": "stream",
     "text": [
      "  Downloading torch-1.12.0-cp310-cp310-manylinux1_x86_64.whl (776.3 MB)\r\n"
     ]
    },
    {
     "name": "stdout",
     "output_type": "stream",
     "text": [
      "\u001b[?25l     \u001b[90m━━━━━━━━━━━━━━━━━━━━━━━━━━━━━━━━━━━━━━━━\u001b[0m \u001b[32m0.0/776.3 MB\u001b[0m \u001b[31m?\u001b[0m eta \u001b[36m-:--:--\u001b[0m\r",
      "\u001b[2K     \u001b[90m━━━━━━━━━━━━━━━━━━━━━━━━━━━━━━━━━━━━━━━━\u001b[0m \u001b[32m1.2/776.3 MB\u001b[0m \u001b[31m35.8 MB/s\u001b[0m eta \u001b[36m0:00:22\u001b[0m"
     ]
    },
    {
     "name": "stdout",
     "output_type": "stream",
     "text": [
      "\r",
      "\u001b[2K     \u001b[90m━━━━━━━━━━━━━━━━━━━━━━━━━━━━━━━━━━━━━━━━\u001b[0m \u001b[32m6.2/776.3 MB\u001b[0m \u001b[31m91.0 MB/s\u001b[0m eta \u001b[36m0:00:09\u001b[0m"
     ]
    },
    {
     "name": "stdout",
     "output_type": "stream",
     "text": [
      "\r",
      "\u001b[2K     \u001b[91m╸\u001b[0m\u001b[90m━━━━━━━━━━━━━━━━━━━━━━━━━━━━━━━━━━━━━\u001b[0m \u001b[32m11.8/776.3 MB\u001b[0m \u001b[31m152.1 MB/s\u001b[0m eta \u001b[36m0:00:06\u001b[0m\r",
      "\u001b[2K     \u001b[91m╸\u001b[0m\u001b[90m━━━━━━━━━━━━━━━━━━━━━━━━━━━━━━━━━━━━━\u001b[0m \u001b[32m17.8/776.3 MB\u001b[0m \u001b[31m164.5 MB/s\u001b[0m eta \u001b[36m0:00:05\u001b[0m"
     ]
    },
    {
     "name": "stdout",
     "output_type": "stream",
     "text": [
      "\r",
      "\u001b[2K     \u001b[91m━\u001b[0m\u001b[90m╺\u001b[0m\u001b[90m━━━━━━━━━━━━━━━━━━━━━━━━━━━━━━━━━━━━\u001b[0m \u001b[32m23.2/776.3 MB\u001b[0m \u001b[31m163.5 MB/s\u001b[0m eta \u001b[36m0:00:05\u001b[0m"
     ]
    },
    {
     "name": "stdout",
     "output_type": "stream",
     "text": [
      "\r",
      "\u001b[2K     \u001b[91m━\u001b[0m\u001b[90m╺\u001b[0m\u001b[90m━━━━━━━━━━━━━━━━━━━━━━━━━━━━━━━━━━━━\u001b[0m \u001b[32m28.6/776.3 MB\u001b[0m \u001b[31m156.8 MB/s\u001b[0m eta \u001b[36m0:00:05\u001b[0m\r",
      "\u001b[2K     \u001b[91m━\u001b[0m\u001b[91m╸\u001b[0m\u001b[90m━━━━━━━━━━━━━━━━━━━━━━━━━━━━━━━━━━━━\u001b[0m \u001b[32m34.3/776.3 MB\u001b[0m \u001b[31m159.5 MB/s\u001b[0m eta \u001b[36m0:00:05\u001b[0m"
     ]
    },
    {
     "name": "stdout",
     "output_type": "stream",
     "text": [
      "\r",
      "\u001b[2K     \u001b[91m━\u001b[0m\u001b[91m╸\u001b[0m\u001b[90m━━━━━━━━━━━━━━━━━━━━━━━━━━━━━━━━━━━━\u001b[0m \u001b[32m39.9/776.3 MB\u001b[0m \u001b[31m162.3 MB/s\u001b[0m eta \u001b[36m0:00:05\u001b[0m"
     ]
    },
    {
     "name": "stdout",
     "output_type": "stream",
     "text": [
      "\r",
      "\u001b[2K     \u001b[91m━━\u001b[0m\u001b[90m╺\u001b[0m\u001b[90m━━━━━━━━━━━━━━━━━━━━━━━━━━━━━━━━━━━\u001b[0m \u001b[32m45.4/776.3 MB\u001b[0m \u001b[31m160.7 MB/s\u001b[0m eta \u001b[36m0:00:05\u001b[0m\r",
      "\u001b[2K     \u001b[91m━━\u001b[0m\u001b[91m╸\u001b[0m\u001b[90m━━━━━━━━━━━━━━━━━━━━━━━━━━━━━━━━━━━\u001b[0m \u001b[32m51.4/776.3 MB\u001b[0m \u001b[31m165.9 MB/s\u001b[0m eta \u001b[36m0:00:05\u001b[0m"
     ]
    },
    {
     "name": "stdout",
     "output_type": "stream",
     "text": [
      "\r",
      "\u001b[2K     \u001b[91m━━\u001b[0m\u001b[91m╸\u001b[0m\u001b[90m━━━━━━━━━━━━━━━━━━━━━━━━━━━━━━━━━━━\u001b[0m \u001b[32m57.2/776.3 MB\u001b[0m \u001b[31m166.3 MB/s\u001b[0m eta \u001b[36m0:00:05\u001b[0m"
     ]
    },
    {
     "name": "stdout",
     "output_type": "stream",
     "text": [
      "\r",
      "\u001b[2K     \u001b[91m━━━\u001b[0m\u001b[90m╺\u001b[0m\u001b[90m━━━━━━━━━━━━━━━━━━━━━━━━━━━━━━━━━━\u001b[0m \u001b[32m62.7/776.3 MB\u001b[0m \u001b[31m165.0 MB/s\u001b[0m eta \u001b[36m0:00:05\u001b[0m"
     ]
    },
    {
     "name": "stdout",
     "output_type": "stream",
     "text": [
      "\r",
      "\u001b[2K     \u001b[91m━━━\u001b[0m\u001b[90m╺\u001b[0m\u001b[90m━━━━━━━━━━━━━━━━━━━━━━━━━━━━━━━━━━\u001b[0m \u001b[32m68.6/776.3 MB\u001b[0m \u001b[31m158.9 MB/s\u001b[0m eta \u001b[36m0:00:05\u001b[0m\r",
      "\u001b[2K     \u001b[91m━━━\u001b[0m\u001b[91m╸\u001b[0m\u001b[90m━━━━━━━━━━━━━━━━━━━━━━━━━━━━━━━━━━\u001b[0m \u001b[32m74.5/776.3 MB\u001b[0m \u001b[31m164.1 MB/s\u001b[0m eta \u001b[36m0:00:05\u001b[0m"
     ]
    },
    {
     "name": "stdout",
     "output_type": "stream",
     "text": [
      "\r",
      "\u001b[2K     \u001b[91m━━━\u001b[0m\u001b[91m╸\u001b[0m\u001b[90m━━━━━━━━━━━━━━━━━━━━━━━━━━━━━━━━━━\u001b[0m \u001b[32m80.2/776.3 MB\u001b[0m \u001b[31m166.8 MB/s\u001b[0m eta \u001b[36m0:00:05\u001b[0m"
     ]
    },
    {
     "name": "stdout",
     "output_type": "stream",
     "text": [
      "\r",
      "\u001b[2K     \u001b[91m━━━━\u001b[0m\u001b[90m╺\u001b[0m\u001b[90m━━━━━━━━━━━━━━━━━━━━━━━━━━━━━━━━━\u001b[0m \u001b[32m85.8/776.3 MB\u001b[0m \u001b[31m162.0 MB/s\u001b[0m eta \u001b[36m0:00:05\u001b[0m\r",
      "\u001b[2K     \u001b[91m━━━━\u001b[0m\u001b[90m╺\u001b[0m\u001b[90m━━━━━━━━━━━━━━━━━━━━━━━━━━━━━━━━━\u001b[0m \u001b[32m91.7/776.3 MB\u001b[0m \u001b[31m165.0 MB/s\u001b[0m eta \u001b[36m0:00:05\u001b[0m"
     ]
    },
    {
     "name": "stdout",
     "output_type": "stream",
     "text": [
      "\r",
      "\u001b[2K     \u001b[91m━━━━\u001b[0m\u001b[91m╸\u001b[0m\u001b[90m━━━━━━━━━━━━━━━━━━━━━━━━━━━━━━━━━\u001b[0m \u001b[32m97.2/776.3 MB\u001b[0m \u001b[31m162.1 MB/s\u001b[0m eta \u001b[36m0:00:05\u001b[0m"
     ]
    },
    {
     "name": "stdout",
     "output_type": "stream",
     "text": [
      "\r",
      "\u001b[2K     \u001b[91m━━━━\u001b[0m\u001b[91m╸\u001b[0m\u001b[90m━━━━━━━━━━━━━━━━━━━━━━━━━━━━━━━━\u001b[0m \u001b[32m102.6/776.3 MB\u001b[0m \u001b[31m157.9 MB/s\u001b[0m eta \u001b[36m0:00:05\u001b[0m\r",
      "\u001b[2K     \u001b[91m━━━━━\u001b[0m\u001b[90m╺\u001b[0m\u001b[90m━━━━━━━━━━━━━━━━━━━━━━━━━━━━━━━\u001b[0m \u001b[32m108.4/776.3 MB\u001b[0m \u001b[31m162.3 MB/s\u001b[0m eta \u001b[36m0:00:05\u001b[0m"
     ]
    },
    {
     "name": "stdout",
     "output_type": "stream",
     "text": [
      "\r",
      "\u001b[2K     \u001b[91m━━━━━\u001b[0m\u001b[90m╺\u001b[0m\u001b[90m━━━━━━━━━━━━━━━━━━━━━━━━━━━━━━━\u001b[0m \u001b[32m114.2/776.3 MB\u001b[0m \u001b[31m166.6 MB/s\u001b[0m eta \u001b[36m0:00:04\u001b[0m"
     ]
    },
    {
     "name": "stdout",
     "output_type": "stream",
     "text": [
      "\r",
      "\u001b[2K     \u001b[91m━━━━━\u001b[0m\u001b[91m╸\u001b[0m\u001b[90m━━━━━━━━━━━━━━━━━━━━━━━━━━━━━━━\u001b[0m \u001b[32m117.0/776.3 MB\u001b[0m \u001b[31m126.1 MB/s\u001b[0m eta \u001b[36m0:00:06\u001b[0m"
     ]
    },
    {
     "name": "stdout",
     "output_type": "stream",
     "text": [
      "\r",
      "\u001b[2K     \u001b[91m━━━━━\u001b[0m\u001b[91m╸\u001b[0m\u001b[90m━━━━━━━━━━━━━━━━━━━━━━━━━━━━━━━\u001b[0m \u001b[32m122.7/776.3 MB\u001b[0m \u001b[31m125.8 MB/s\u001b[0m eta \u001b[36m0:00:06\u001b[0m\r",
      "\u001b[2K     \u001b[91m━━━━━━\u001b[0m\u001b[90m╺\u001b[0m\u001b[90m━━━━━━━━━━━━━━━━━━━━━━━━━━━━━━\u001b[0m \u001b[32m127.9/776.3 MB\u001b[0m \u001b[31m159.9 MB/s\u001b[0m eta \u001b[36m0:00:05\u001b[0m"
     ]
    },
    {
     "name": "stdout",
     "output_type": "stream",
     "text": [
      "\r",
      "\u001b[2K     \u001b[91m━━━━━━\u001b[0m\u001b[90m╺\u001b[0m\u001b[90m━━━━━━━━━━━━━━━━━━━━━━━━━━━━━━\u001b[0m \u001b[32m132.8/776.3 MB\u001b[0m \u001b[31m140.2 MB/s\u001b[0m eta \u001b[36m0:00:05\u001b[0m"
     ]
    },
    {
     "name": "stdout",
     "output_type": "stream",
     "text": [
      "\r",
      "\u001b[2K     \u001b[91m━━━━━━\u001b[0m\u001b[91m╸\u001b[0m\u001b[90m━━━━━━━━━━━━━━━━━━━━━━━━━━━━━━\u001b[0m \u001b[32m138.3/776.3 MB\u001b[0m \u001b[31m148.2 MB/s\u001b[0m eta \u001b[36m0:00:05\u001b[0m\r",
      "\u001b[2K     \u001b[91m━━━━━━\u001b[0m\u001b[91m╸\u001b[0m\u001b[90m━━━━━━━━━━━━━━━━━━━━━━━━━━━━━━\u001b[0m \u001b[32m144.1/776.3 MB\u001b[0m \u001b[31m161.5 MB/s\u001b[0m eta \u001b[36m0:00:04\u001b[0m"
     ]
    },
    {
     "name": "stdout",
     "output_type": "stream",
     "text": [
      "\r",
      "\u001b[2K     \u001b[91m━━━━━━━\u001b[0m\u001b[90m╺\u001b[0m\u001b[90m━━━━━━━━━━━━━━━━━━━━━━━━━━━━━\u001b[0m \u001b[32m149.6/776.3 MB\u001b[0m \u001b[31m164.3 MB/s\u001b[0m eta \u001b[36m0:00:04\u001b[0m"
     ]
    },
    {
     "name": "stdout",
     "output_type": "stream",
     "text": [
      "\r",
      "\u001b[2K     \u001b[91m━━━━━━━\u001b[0m\u001b[90m╺\u001b[0m\u001b[90m━━━━━━━━━━━━━━━━━━━━━━━━━━━━━\u001b[0m \u001b[32m155.1/776.3 MB\u001b[0m \u001b[31m158.4 MB/s\u001b[0m eta \u001b[36m0:00:04\u001b[0m\r",
      "\u001b[2K     \u001b[91m━━━━━━━\u001b[0m\u001b[91m╸\u001b[0m\u001b[90m━━━━━━━━━━━━━━━━━━━━━━━━━━━━━\u001b[0m \u001b[32m159.9/776.3 MB\u001b[0m \u001b[31m148.5 MB/s\u001b[0m eta \u001b[36m0:00:05\u001b[0m"
     ]
    },
    {
     "name": "stdout",
     "output_type": "stream",
     "text": [
      "\r",
      "\u001b[2K     \u001b[91m━━━━━━━\u001b[0m\u001b[91m╸\u001b[0m\u001b[90m━━━━━━━━━━━━━━━━━━━━━━━━━━━━━\u001b[0m \u001b[32m164.1/776.3 MB\u001b[0m \u001b[31m129.3 MB/s\u001b[0m eta \u001b[36m0:00:05\u001b[0m"
     ]
    },
    {
     "name": "stdout",
     "output_type": "stream",
     "text": [
      "\r",
      "\u001b[2K     \u001b[91m━━━━━━━━\u001b[0m\u001b[90m╺\u001b[0m\u001b[90m━━━━━━━━━━━━━━━━━━━━━━━━━━━━\u001b[0m \u001b[32m169.6/776.3 MB\u001b[0m \u001b[31m136.2 MB/s\u001b[0m eta \u001b[36m0:00:05\u001b[0m\r",
      "\u001b[2K     \u001b[91m━━━━━━━━\u001b[0m\u001b[90m╺\u001b[0m\u001b[90m━━━━━━━━━━━━━━━━━━━━━━━━━━━━\u001b[0m \u001b[32m175.3/776.3 MB\u001b[0m \u001b[31m161.7 MB/s\u001b[0m eta \u001b[36m0:00:04\u001b[0m"
     ]
    },
    {
     "name": "stdout",
     "output_type": "stream",
     "text": [
      "\r",
      "\u001b[2K     \u001b[91m━━━━━━━━\u001b[0m\u001b[91m╸\u001b[0m\u001b[90m━━━━━━━━━━━━━━━━━━━━━━━━━━━━\u001b[0m \u001b[32m180.8/776.3 MB\u001b[0m \u001b[31m162.6 MB/s\u001b[0m eta \u001b[36m0:00:04\u001b[0m"
     ]
    },
    {
     "name": "stdout",
     "output_type": "stream",
     "text": [
      "\r",
      "\u001b[2K     \u001b[91m━━━━━━━━\u001b[0m\u001b[91m╸\u001b[0m\u001b[90m━━━━━━━━━━━━━━━━━━━━━━━━━━━━\u001b[0m \u001b[32m186.5/776.3 MB\u001b[0m \u001b[31m164.5 MB/s\u001b[0m eta \u001b[36m0:00:04\u001b[0m"
     ]
    },
    {
     "name": "stdout",
     "output_type": "stream",
     "text": [
      "\r",
      "\u001b[2K     \u001b[91m━━━━━━━━━\u001b[0m\u001b[90m╺\u001b[0m\u001b[90m━━━━━━━━━━━━━━━━━━━━━━━━━━━\u001b[0m \u001b[32m192.6/776.3 MB\u001b[0m \u001b[31m162.1 MB/s\u001b[0m eta \u001b[36m0:00:04\u001b[0m\r",
      "\u001b[2K     \u001b[91m━━━━━━━━━\u001b[0m\u001b[90m╺\u001b[0m\u001b[90m━━━━━━━━━━━━━━━━━━━━━━━━━━━\u001b[0m \u001b[32m198.5/776.3 MB\u001b[0m \u001b[31m166.2 MB/s\u001b[0m eta \u001b[36m0:00:04\u001b[0m"
     ]
    },
    {
     "name": "stdout",
     "output_type": "stream",
     "text": [
      "\r",
      "\u001b[2K     \u001b[91m━━━━━━━━━\u001b[0m\u001b[91m╸\u001b[0m\u001b[90m━━━━━━━━━━━━━━━━━━━━━━━━━━━\u001b[0m \u001b[32m203.8/776.3 MB\u001b[0m \u001b[31m161.5 MB/s\u001b[0m eta \u001b[36m0:00:04\u001b[0m"
     ]
    },
    {
     "name": "stdout",
     "output_type": "stream",
     "text": [
      "\r",
      "\u001b[2K     \u001b[91m━━━━━━━━━\u001b[0m\u001b[91m╸\u001b[0m\u001b[90m━━━━━━━━━━━━━━━━━━━━━━━━━━━\u001b[0m \u001b[32m209.2/776.3 MB\u001b[0m \u001b[31m156.8 MB/s\u001b[0m eta \u001b[36m0:00:04\u001b[0m\r",
      "\u001b[2K     \u001b[91m━━━━━━━━━━\u001b[0m\u001b[90m╺\u001b[0m\u001b[90m━━━━━━━━━━━━━━━━━━━━━━━━━━\u001b[0m \u001b[32m214.7/776.3 MB\u001b[0m \u001b[31m157.0 MB/s\u001b[0m eta \u001b[36m0:00:04\u001b[0m"
     ]
    },
    {
     "name": "stdout",
     "output_type": "stream",
     "text": [
      "\r",
      "\u001b[2K     \u001b[91m━━━━━━━━━━\u001b[0m\u001b[90m╺\u001b[0m\u001b[90m━━━━━━━━━━━━━━━━━━━━━━━━━━\u001b[0m \u001b[32m220.1/776.3 MB\u001b[0m \u001b[31m157.9 MB/s\u001b[0m eta \u001b[36m0:00:04\u001b[0m"
     ]
    },
    {
     "name": "stdout",
     "output_type": "stream",
     "text": [
      "\r",
      "\u001b[2K     \u001b[91m━━━━━━━━━━\u001b[0m\u001b[91m╸\u001b[0m\u001b[90m━━━━━━━━━━━━━━━━━━━━━━━━━━\u001b[0m \u001b[32m225.6/776.3 MB\u001b[0m \u001b[31m157.0 MB/s\u001b[0m eta \u001b[36m0:00:04\u001b[0m\r",
      "\u001b[2K     \u001b[91m━━━━━━━━━━\u001b[0m\u001b[91m╸\u001b[0m\u001b[90m━━━━━━━━━━━━━━━━━━━━━━━━━━\u001b[0m \u001b[32m230.7/776.3 MB\u001b[0m \u001b[31m153.4 MB/s\u001b[0m eta \u001b[36m0:00:04\u001b[0m"
     ]
    },
    {
     "name": "stdout",
     "output_type": "stream",
     "text": [
      "\r",
      "\u001b[2K     \u001b[91m━━━━━━━━━━━\u001b[0m\u001b[90m╺\u001b[0m\u001b[90m━━━━━━━━━━━━━━━━━━━━━━━━━\u001b[0m \u001b[32m236.2/776.3 MB\u001b[0m \u001b[31m152.9 MB/s\u001b[0m eta \u001b[36m0:00:04\u001b[0m"
     ]
    },
    {
     "name": "stdout",
     "output_type": "stream",
     "text": [
      "\r",
      "\u001b[2K     \u001b[91m━━━━━━━━━━━\u001b[0m\u001b[91m╸\u001b[0m\u001b[90m━━━━━━━━━━━━━━━━━━━━━━━━━\u001b[0m \u001b[32m241.6/776.3 MB\u001b[0m \u001b[31m162.1 MB/s\u001b[0m eta \u001b[36m0:00:04\u001b[0m"
     ]
    },
    {
     "name": "stdout",
     "output_type": "stream",
     "text": [
      "\r",
      "\u001b[2K     \u001b[91m━━━━━━━━━━━\u001b[0m\u001b[91m╸\u001b[0m\u001b[90m━━━━━━━━━━━━━━━━━━━━━━━━━\u001b[0m \u001b[32m247.5/776.3 MB\u001b[0m \u001b[31m165.7 MB/s\u001b[0m eta \u001b[36m0:00:04\u001b[0m\r",
      "\u001b[2K     \u001b[91m━━━━━━━━━━━\u001b[0m\u001b[91m╸\u001b[0m\u001b[90m━━━━━━━━━━━━━━━━━━━━━━━━━\u001b[0m \u001b[32m251.5/776.3 MB\u001b[0m \u001b[31m137.4 MB/s\u001b[0m eta \u001b[36m0:00:04\u001b[0m"
     ]
    },
    {
     "name": "stdout",
     "output_type": "stream",
     "text": [
      "\r",
      "\u001b[2K     \u001b[91m━━━━━━━━━━━━\u001b[0m\u001b[90m╺\u001b[0m\u001b[90m━━━━━━━━━━━━━━━━━━━━━━━━\u001b[0m \u001b[32m256.6/776.3 MB\u001b[0m \u001b[31m129.0 MB/s\u001b[0m eta \u001b[36m0:00:05\u001b[0m"
     ]
    },
    {
     "name": "stdout",
     "output_type": "stream",
     "text": [
      "\r",
      "\u001b[2K     \u001b[91m━━━━━━━━━━━━\u001b[0m\u001b[91m╸\u001b[0m\u001b[90m━━━━━━━━━━━━━━━━━━━━━━━━\u001b[0m \u001b[32m262.3/776.3 MB\u001b[0m \u001b[31m159.6 MB/s\u001b[0m eta \u001b[36m0:00:04\u001b[0m\r",
      "\u001b[2K     \u001b[91m━━━━━━━━━━━━\u001b[0m\u001b[91m╸\u001b[0m\u001b[90m━━━━━━━━━━━━━━━━━━━━━━━━\u001b[0m \u001b[32m268.4/776.3 MB\u001b[0m \u001b[31m170.0 MB/s\u001b[0m eta \u001b[36m0:00:03\u001b[0m"
     ]
    },
    {
     "name": "stdout",
     "output_type": "stream",
     "text": [
      "\r",
      "\u001b[2K     \u001b[91m━━━━━━━━━━━━━\u001b[0m\u001b[90m╺\u001b[0m\u001b[90m━━━━━━━━━━━━━━━━━━━━━━━\u001b[0m \u001b[32m273.7/776.3 MB\u001b[0m \u001b[31m168.3 MB/s\u001b[0m eta \u001b[36m0:00:03\u001b[0m"
     ]
    },
    {
     "name": "stdout",
     "output_type": "stream",
     "text": [
      "\r",
      "\u001b[2K     \u001b[91m━━━━━━━━━━━━━\u001b[0m\u001b[90m╺\u001b[0m\u001b[90m━━━━━━━━━━━━━━━━━━━━━━━\u001b[0m \u001b[32m279.2/776.3 MB\u001b[0m \u001b[31m153.7 MB/s\u001b[0m eta \u001b[36m0:00:04\u001b[0m\r",
      "\u001b[2K     \u001b[91m━━━━━━━━━━━━━\u001b[0m\u001b[91m╸\u001b[0m\u001b[90m━━━━━━━━━━━━━━━━━━━━━━━\u001b[0m \u001b[32m285.0/776.3 MB\u001b[0m \u001b[31m162.9 MB/s\u001b[0m eta \u001b[36m0:00:04\u001b[0m"
     ]
    },
    {
     "name": "stdout",
     "output_type": "stream",
     "text": [
      "\r",
      "\u001b[2K     \u001b[91m━━━━━━━━━━━━━\u001b[0m\u001b[91m╸\u001b[0m\u001b[90m━━━━━━━━━━━━━━━━━━━━━━━\u001b[0m \u001b[32m290.4/776.3 MB\u001b[0m \u001b[31m159.8 MB/s\u001b[0m eta \u001b[36m0:00:04\u001b[0m"
     ]
    },
    {
     "name": "stdout",
     "output_type": "stream",
     "text": [
      "\r",
      "\u001b[2K     \u001b[91m━━━━━━━━━━━━━━\u001b[0m\u001b[90m╺\u001b[0m\u001b[90m━━━━━━━━━━━━━━━━━━━━━━\u001b[0m \u001b[32m295.9/776.3 MB\u001b[0m \u001b[31m158.9 MB/s\u001b[0m eta \u001b[36m0:00:04\u001b[0m"
     ]
    },
    {
     "name": "stdout",
     "output_type": "stream",
     "text": [
      "\r",
      "\u001b[2K     \u001b[91m━━━━━━━━━━━━━━\u001b[0m\u001b[90m╺\u001b[0m\u001b[90m━━━━━━━━━━━━━━━━━━━━━━\u001b[0m \u001b[32m302.0/776.3 MB\u001b[0m \u001b[31m157.2 MB/s\u001b[0m eta \u001b[36m0:00:04\u001b[0m\r",
      "\u001b[2K     \u001b[91m━━━━━━━━━━━━━━\u001b[0m\u001b[91m╸\u001b[0m\u001b[90m━━━━━━━━━━━━━━━━━━━━━━\u001b[0m \u001b[32m307.9/776.3 MB\u001b[0m \u001b[31m164.1 MB/s\u001b[0m eta \u001b[36m0:00:03\u001b[0m"
     ]
    },
    {
     "name": "stdout",
     "output_type": "stream",
     "text": [
      "\r",
      "\u001b[2K     \u001b[91m━━━━━━━━━━━━━━\u001b[0m\u001b[91m╸\u001b[0m\u001b[90m━━━━━━━━━━━━━━━━━━━━━━\u001b[0m \u001b[32m310.3/776.3 MB\u001b[0m \u001b[31m121.6 MB/s\u001b[0m eta \u001b[36m0:00:04\u001b[0m"
     ]
    },
    {
     "name": "stdout",
     "output_type": "stream",
     "text": [
      "\r",
      "\u001b[2K     \u001b[91m━━━━━━━━━━━━━━━\u001b[0m\u001b[90m╺\u001b[0m\u001b[90m━━━━━━━━━━━━━━━━━━━━━\u001b[0m \u001b[32m315.6/776.3 MB\u001b[0m \u001b[31m120.5 MB/s\u001b[0m eta \u001b[36m0:00:04\u001b[0m\r",
      "\u001b[2K     \u001b[91m━━━━━━━━━━━━━━━\u001b[0m\u001b[90m╺\u001b[0m\u001b[90m━━━━━━━━━━━━━━━━━━━━━\u001b[0m \u001b[32m321.4/776.3 MB\u001b[0m \u001b[31m158.7 MB/s\u001b[0m eta \u001b[36m0:00:03\u001b[0m"
     ]
    },
    {
     "name": "stdout",
     "output_type": "stream",
     "text": [
      "\r",
      "\u001b[2K     \u001b[91m━━━━━━━━━━━━━━━\u001b[0m\u001b[91m╸\u001b[0m\u001b[90m━━━━━━━━━━━━━━━━━━━━━\u001b[0m \u001b[32m325.4/776.3 MB\u001b[0m \u001b[31m137.9 MB/s\u001b[0m eta \u001b[36m0:00:04\u001b[0m"
     ]
    },
    {
     "name": "stdout",
     "output_type": "stream",
     "text": [
      "\r",
      "\u001b[2K     \u001b[91m━━━━━━━━━━━━━━━\u001b[0m\u001b[91m╸\u001b[0m\u001b[90m━━━━━━━━━━━━━━━━━━━━━\u001b[0m \u001b[32m331.0/776.3 MB\u001b[0m \u001b[31m136.5 MB/s\u001b[0m eta \u001b[36m0:00:04\u001b[0m\r",
      "\u001b[2K     \u001b[91m━━━━━━━━━━━━━━━━\u001b[0m\u001b[90m╺\u001b[0m\u001b[90m━━━━━━━━━━━━━━━━━━━━\u001b[0m \u001b[32m336.9/776.3 MB\u001b[0m \u001b[31m164.9 MB/s\u001b[0m eta \u001b[36m0:00:03\u001b[0m"
     ]
    },
    {
     "name": "stdout",
     "output_type": "stream",
     "text": [
      "\r",
      "\u001b[2K     \u001b[91m━━━━━━━━━━━━━━━━\u001b[0m\u001b[90m╺\u001b[0m\u001b[90m━━━━━━━━━━━━━━━━━━━━\u001b[0m \u001b[32m342.5/776.3 MB\u001b[0m \u001b[31m165.2 MB/s\u001b[0m eta \u001b[36m0:00:03\u001b[0m"
     ]
    },
    {
     "name": "stdout",
     "output_type": "stream",
     "text": [
      "\r",
      "\u001b[2K     \u001b[91m━━━━━━━━━━━━━━━━\u001b[0m\u001b[91m╸\u001b[0m\u001b[90m━━━━━━━━━━━━━━━━━━━━\u001b[0m \u001b[32m347.7/776.3 MB\u001b[0m \u001b[31m157.7 MB/s\u001b[0m eta \u001b[36m0:00:03\u001b[0m"
     ]
    },
    {
     "name": "stdout",
     "output_type": "stream",
     "text": [
      "\r",
      "\u001b[2K     \u001b[91m━━━━━━━━━━━━━━━━\u001b[0m\u001b[91m╸\u001b[0m\u001b[90m━━━━━━━━━━━━━━━━━━━━\u001b[0m \u001b[32m352.3/776.3 MB\u001b[0m \u001b[31m141.2 MB/s\u001b[0m eta \u001b[36m0:00:04\u001b[0m\r",
      "\u001b[2K     \u001b[91m━━━━━━━━━━━━━━━━━\u001b[0m\u001b[90m╺\u001b[0m\u001b[90m━━━━━━━━━━━━━━━━━━━\u001b[0m \u001b[32m357.6/776.3 MB\u001b[0m \u001b[31m135.4 MB/s\u001b[0m eta \u001b[36m0:00:04\u001b[0m"
     ]
    },
    {
     "name": "stdout",
     "output_type": "stream",
     "text": [
      "\r",
      "\u001b[2K     \u001b[91m━━━━━━━━━━━━━━━━━\u001b[0m\u001b[90m╺\u001b[0m\u001b[90m━━━━━━━━━━━━━━━━━━━\u001b[0m \u001b[32m363.0/776.3 MB\u001b[0m \u001b[31m154.2 MB/s\u001b[0m eta \u001b[36m0:00:03\u001b[0m"
     ]
    },
    {
     "name": "stdout",
     "output_type": "stream",
     "text": [
      "\r",
      "\u001b[2K     \u001b[91m━━━━━━━━━━━━━━━━━\u001b[0m\u001b[91m╸\u001b[0m\u001b[90m━━━━━━━━━━━━━━━━━━━\u001b[0m \u001b[32m368.6/776.3 MB\u001b[0m \u001b[31m160.1 MB/s\u001b[0m eta \u001b[36m0:00:03\u001b[0m\r",
      "\u001b[2K     \u001b[91m━━━━━━━━━━━━━━━━━\u001b[0m\u001b[91m╸\u001b[0m\u001b[90m━━━━━━━━━━━━━━━━━━━\u001b[0m \u001b[32m374.7/776.3 MB\u001b[0m \u001b[31m167.4 MB/s\u001b[0m eta \u001b[36m0:00:03\u001b[0m"
     ]
    },
    {
     "name": "stdout",
     "output_type": "stream",
     "text": [
      "\r",
      "\u001b[2K     \u001b[91m━━━━━━━━━━━━━━━━━━\u001b[0m\u001b[90m╺\u001b[0m\u001b[90m━━━━━━━━━━━━━━━━━━\u001b[0m \u001b[32m380.1/776.3 MB\u001b[0m \u001b[31m163.1 MB/s\u001b[0m eta \u001b[36m0:00:03\u001b[0m"
     ]
    },
    {
     "name": "stdout",
     "output_type": "stream",
     "text": [
      "\r",
      "\u001b[2K     \u001b[91m━━━━━━━━━━━━━━━━━━\u001b[0m\u001b[90m╺\u001b[0m\u001b[90m━━━━━━━━━━━━━━━━━━\u001b[0m \u001b[32m385.5/776.3 MB\u001b[0m \u001b[31m155.1 MB/s\u001b[0m eta \u001b[36m0:00:03\u001b[0m\r",
      "\u001b[2K     \u001b[91m━━━━━━━━━━━━━━━━━━\u001b[0m\u001b[91m╸\u001b[0m\u001b[90m━━━━━━━━━━━━━━━━━━\u001b[0m \u001b[32m391.1/776.3 MB\u001b[0m \u001b[31m158.7 MB/s\u001b[0m eta \u001b[36m0:00:03\u001b[0m"
     ]
    },
    {
     "name": "stdout",
     "output_type": "stream",
     "text": [
      "\r",
      "\u001b[2K     \u001b[91m━━━━━━━━━━━━━━━━━━\u001b[0m\u001b[91m╸\u001b[0m\u001b[90m━━━━━━━━━━━━━━━━━━\u001b[0m \u001b[32m396.6/776.3 MB\u001b[0m \u001b[31m158.9 MB/s\u001b[0m eta \u001b[36m0:00:03\u001b[0m"
     ]
    },
    {
     "name": "stdout",
     "output_type": "stream",
     "text": [
      "\r",
      "\u001b[2K     \u001b[91m━━━━━━━━━━━━━━━━━━━\u001b[0m\u001b[90m╺\u001b[0m\u001b[90m━━━━━━━━━━━━━━━━━\u001b[0m \u001b[32m402.2/776.3 MB\u001b[0m \u001b[31m158.5 MB/s\u001b[0m eta \u001b[36m0:00:03\u001b[0m\r",
      "\u001b[2K     \u001b[91m━━━━━━━━━━━━━━━━━━━\u001b[0m\u001b[90m╺\u001b[0m\u001b[90m━━━━━━━━━━━━━━━━━\u001b[0m \u001b[32m408.0/776.3 MB\u001b[0m \u001b[31m162.9 MB/s\u001b[0m eta \u001b[36m0:00:03\u001b[0m"
     ]
    },
    {
     "name": "stdout",
     "output_type": "stream",
     "text": [
      "\r",
      "\u001b[2K     \u001b[91m━━━━━━━━━━━━━━━━━━━\u001b[0m\u001b[91m╸\u001b[0m\u001b[90m━━━━━━━━━━━━━━━━━\u001b[0m \u001b[32m413.2/776.3 MB\u001b[0m \u001b[31m156.7 MB/s\u001b[0m eta \u001b[36m0:00:03\u001b[0m"
     ]
    },
    {
     "name": "stdout",
     "output_type": "stream",
     "text": [
      "\r",
      "\u001b[2K     \u001b[91m━━━━━━━━━━━━━━━━━━━\u001b[0m\u001b[91m╸\u001b[0m\u001b[90m━━━━━━━━━━━━━━━━━\u001b[0m \u001b[32m418.7/776.3 MB\u001b[0m \u001b[31m157.8 MB/s\u001b[0m eta \u001b[36m0:00:03\u001b[0m"
     ]
    },
    {
     "name": "stdout",
     "output_type": "stream",
     "text": [
      "\r",
      "\u001b[2K     \u001b[91m━━━━━━━━━━━━━━━━━━━━\u001b[0m\u001b[90m╺\u001b[0m\u001b[90m━━━━━━━━━━━━━━━━\u001b[0m \u001b[32m424.3/776.3 MB\u001b[0m \u001b[31m159.5 MB/s\u001b[0m eta \u001b[36m0:00:03\u001b[0m\r",
      "\u001b[2K     \u001b[91m━━━━━━━━━━━━━━━━━━━━\u001b[0m\u001b[90m╺\u001b[0m\u001b[90m━━━━━━━━━━━━━━━━\u001b[0m \u001b[32m430.0/776.3 MB\u001b[0m \u001b[31m159.7 MB/s\u001b[0m eta \u001b[36m0:00:03\u001b[0m"
     ]
    },
    {
     "name": "stdout",
     "output_type": "stream",
     "text": [
      "\r",
      "\u001b[2K     \u001b[91m━━━━━━━━━━━━━━━━━━━━\u001b[0m\u001b[91m╸\u001b[0m\u001b[90m━━━━━━━━━━━━━━━━\u001b[0m \u001b[32m435.0/776.3 MB\u001b[0m \u001b[31m153.8 MB/s\u001b[0m eta \u001b[36m0:00:03\u001b[0m"
     ]
    },
    {
     "name": "stdout",
     "output_type": "stream",
     "text": [
      "\r",
      "\u001b[2K     \u001b[91m━━━━━━━━━━━━━━━━━━━━\u001b[0m\u001b[91m╸\u001b[0m\u001b[90m━━━━━━━━━━━━━━━━\u001b[0m \u001b[32m438.0/776.3 MB\u001b[0m \u001b[31m117.3 MB/s\u001b[0m eta \u001b[36m0:00:03\u001b[0m\r",
      "\u001b[2K     \u001b[91m━━━━━━━━━━━━━━━━━━━━━\u001b[0m\u001b[90m╺\u001b[0m\u001b[90m━━━━━━━━━━━━━━━\u001b[0m \u001b[32m442.3/776.3 MB\u001b[0m \u001b[31m105.7 MB/s\u001b[0m eta \u001b[36m0:00:04\u001b[0m"
     ]
    },
    {
     "name": "stdout",
     "output_type": "stream",
     "text": [
      "\r",
      "\u001b[2K     \u001b[91m━━━━━━━━━━━━━━━━━━━━━\u001b[0m\u001b[90m╺\u001b[0m\u001b[90m━━━━━━━━━━━━━━━\u001b[0m \u001b[32m446.6/776.3 MB\u001b[0m \u001b[31m109.1 MB/s\u001b[0m eta \u001b[36m0:00:04\u001b[0m"
     ]
    },
    {
     "name": "stdout",
     "output_type": "stream",
     "text": [
      "\r",
      "\u001b[2K     \u001b[91m━━━━━━━━━━━━━━━━━━━━━\u001b[0m\u001b[91m╸\u001b[0m\u001b[90m━━━━━━━━━━━━━━━\u001b[0m \u001b[32m452.1/776.3 MB\u001b[0m \u001b[31m134.5 MB/s\u001b[0m eta \u001b[36m0:00:03\u001b[0m"
     ]
    },
    {
     "name": "stdout",
     "output_type": "stream",
     "text": [
      "\r",
      "\u001b[2K     \u001b[91m━━━━━━━━━━━━━━━━━━━━━\u001b[0m\u001b[91m╸\u001b[0m\u001b[90m━━━━━━━━━━━━━━━\u001b[0m \u001b[32m457.8/776.3 MB\u001b[0m \u001b[31m160.0 MB/s\u001b[0m eta \u001b[36m0:00:02\u001b[0m\r",
      "\u001b[2K     \u001b[91m━━━━━━━━━━━━━━━━━━━━━━\u001b[0m\u001b[90m╺\u001b[0m\u001b[90m━━━━━━━━━━━━━━\u001b[0m \u001b[32m463.4/776.3 MB\u001b[0m \u001b[31m159.6 MB/s\u001b[0m eta \u001b[36m0:00:02\u001b[0m"
     ]
    },
    {
     "name": "stdout",
     "output_type": "stream",
     "text": [
      "\r",
      "\u001b[2K     \u001b[91m━━━━━━━━━━━━━━━━━━━━━━\u001b[0m\u001b[90m╺\u001b[0m\u001b[90m━━━━━━━━━━━━━━\u001b[0m \u001b[32m468.7/776.3 MB\u001b[0m \u001b[31m158.2 MB/s\u001b[0m eta \u001b[36m0:00:02\u001b[0m"
     ]
    },
    {
     "name": "stdout",
     "output_type": "stream",
     "text": [
      "\r",
      "\u001b[2K     \u001b[91m━━━━━━━━━━━━━━━━━━━━━━\u001b[0m\u001b[91m╸\u001b[0m\u001b[90m━━━━━━━━━━━━━━\u001b[0m \u001b[32m474.1/776.3 MB\u001b[0m \u001b[31m153.8 MB/s\u001b[0m eta \u001b[36m0:00:02\u001b[0m\r",
      "\u001b[2K     \u001b[91m━━━━━━━━━━━━━━━━━━━━━━\u001b[0m\u001b[91m╸\u001b[0m\u001b[90m━━━━━━━━━━━━━━\u001b[0m \u001b[32m479.7/776.3 MB\u001b[0m \u001b[31m158.0 MB/s\u001b[0m eta \u001b[36m0:00:02\u001b[0m"
     ]
    },
    {
     "name": "stdout",
     "output_type": "stream",
     "text": [
      "\r",
      "\u001b[2K     \u001b[91m━━━━━━━━━━━━━━━━━━━━━━━\u001b[0m\u001b[90m╺\u001b[0m\u001b[90m━━━━━━━━━━━━━\u001b[0m \u001b[32m484.8/776.3 MB\u001b[0m \u001b[31m155.9 MB/s\u001b[0m eta \u001b[36m0:00:02\u001b[0m"
     ]
    },
    {
     "name": "stdout",
     "output_type": "stream",
     "text": [
      "\r",
      "\u001b[2K     \u001b[91m━━━━━━━━━━━━━━━━━━━━━━━\u001b[0m\u001b[90m╺\u001b[0m\u001b[90m━━━━━━━━━━━━━\u001b[0m \u001b[32m490.1/776.3 MB\u001b[0m \u001b[31m150.9 MB/s\u001b[0m eta \u001b[36m0:00:02\u001b[0m\r",
      "\u001b[2K     \u001b[91m━━━━━━━━━━━━━━━━━━━━━━━\u001b[0m\u001b[91m╸\u001b[0m\u001b[90m━━━━━━━━━━━━━\u001b[0m \u001b[32m495.9/776.3 MB\u001b[0m \u001b[31m158.6 MB/s\u001b[0m eta \u001b[36m0:00:02\u001b[0m"
     ]
    },
    {
     "name": "stdout",
     "output_type": "stream",
     "text": [
      "\r",
      "\u001b[2K     \u001b[91m━━━━━━━━━━━━━━━━━━━━━━━\u001b[0m\u001b[91m╸\u001b[0m\u001b[90m━━━━━━━━━━━━━\u001b[0m \u001b[32m501.0/776.3 MB\u001b[0m \u001b[31m155.4 MB/s\u001b[0m eta \u001b[36m0:00:02\u001b[0m"
     ]
    },
    {
     "name": "stdout",
     "output_type": "stream",
     "text": [
      "\r",
      "\u001b[2K     \u001b[91m━━━━━━━━━━━━━━━━━━━━━━━━\u001b[0m\u001b[90m╺\u001b[0m\u001b[90m━━━━━━━━━━━━\u001b[0m \u001b[32m506.5/776.3 MB\u001b[0m \u001b[31m153.4 MB/s\u001b[0m eta \u001b[36m0:00:02\u001b[0m\r",
      "\u001b[2K     \u001b[91m━━━━━━━━━━━━━━━━━━━━━━━━\u001b[0m\u001b[90m╺\u001b[0m\u001b[90m━━━━━━━━━━━━\u001b[0m \u001b[32m512.1/776.3 MB\u001b[0m \u001b[31m159.8 MB/s\u001b[0m eta \u001b[36m0:00:02\u001b[0m"
     ]
    },
    {
     "name": "stdout",
     "output_type": "stream",
     "text": [
      "\r",
      "\u001b[2K     \u001b[91m━━━━━━━━━━━━━━━━━━━━━━━━\u001b[0m\u001b[91m╸\u001b[0m\u001b[90m━━━━━━━━━━━━\u001b[0m \u001b[32m517.7/776.3 MB\u001b[0m \u001b[31m160.9 MB/s\u001b[0m eta \u001b[36m0:00:02\u001b[0m"
     ]
    },
    {
     "name": "stdout",
     "output_type": "stream",
     "text": [
      "\r",
      "\u001b[2K     \u001b[91m━━━━━━━━━━━━━━━━━━━━━━━━\u001b[0m\u001b[91m╸\u001b[0m\u001b[90m━━━━━━━━━━━━\u001b[0m \u001b[32m523.1/776.3 MB\u001b[0m \u001b[31m160.6 MB/s\u001b[0m eta \u001b[36m0:00:02\u001b[0m"
     ]
    },
    {
     "name": "stdout",
     "output_type": "stream",
     "text": [
      "\r",
      "\u001b[2K     \u001b[91m━━━━━━━━━━━━━━━━━━━━━━━━━\u001b[0m\u001b[90m╺\u001b[0m\u001b[90m━━━━━━━━━━━\u001b[0m \u001b[32m529.1/776.3 MB\u001b[0m \u001b[31m154.8 MB/s\u001b[0m eta \u001b[36m0:00:02\u001b[0m\r",
      "\u001b[2K     \u001b[91m━━━━━━━━━━━━━━━━━━━━━━━━━\u001b[0m\u001b[90m╺\u001b[0m\u001b[90m━━━━━━━━━━━\u001b[0m \u001b[32m534.8/776.3 MB\u001b[0m \u001b[31m159.6 MB/s\u001b[0m eta \u001b[36m0:00:02\u001b[0m"
     ]
    },
    {
     "name": "stdout",
     "output_type": "stream",
     "text": [
      "\r",
      "\u001b[2K     \u001b[91m━━━━━━━━━━━━━━━━━━━━━━━━━\u001b[0m\u001b[91m╸\u001b[0m\u001b[90m━━━━━━━━━━━\u001b[0m \u001b[32m540.3/776.3 MB\u001b[0m \u001b[31m159.8 MB/s\u001b[0m eta \u001b[36m0:00:02\u001b[0m"
     ]
    },
    {
     "name": "stdout",
     "output_type": "stream",
     "text": [
      "\r",
      "\u001b[2K     \u001b[91m━━━━━━━━━━━━━━━━━━━━━━━━━━\u001b[0m\u001b[90m╺\u001b[0m\u001b[90m━━━━━━━━━━\u001b[0m \u001b[32m545.6/776.3 MB\u001b[0m \u001b[31m155.8 MB/s\u001b[0m eta \u001b[36m0:00:02\u001b[0m\r",
      "\u001b[2K     \u001b[91m━━━━━━━━━━━━━━━━━━━━━━━━━━\u001b[0m\u001b[90m╺\u001b[0m\u001b[90m━━━━━━━━━━\u001b[0m \u001b[32m551.3/776.3 MB\u001b[0m \u001b[31m157.7 MB/s\u001b[0m eta \u001b[36m0:00:02\u001b[0m"
     ]
    },
    {
     "name": "stdout",
     "output_type": "stream",
     "text": [
      "\r",
      "\u001b[2K     \u001b[91m━━━━━━━━━━━━━━━━━━━━━━━━━━\u001b[0m\u001b[91m╸\u001b[0m\u001b[90m━━━━━━━━━━\u001b[0m \u001b[32m556.6/776.3 MB\u001b[0m \u001b[31m157.7 MB/s\u001b[0m eta \u001b[36m0:00:02\u001b[0m"
     ]
    },
    {
     "name": "stdout",
     "output_type": "stream",
     "text": [
      "\r",
      "\u001b[2K     \u001b[91m━━━━━━━━━━━━━━━━━━━━━━━━━━\u001b[0m\u001b[91m╸\u001b[0m\u001b[90m━━━━━━━━━━\u001b[0m \u001b[32m562.2/776.3 MB\u001b[0m \u001b[31m158.0 MB/s\u001b[0m eta \u001b[36m0:00:02\u001b[0m"
     ]
    },
    {
     "name": "stdout",
     "output_type": "stream",
     "text": [
      "\r",
      "\u001b[2K     \u001b[91m━━━━━━━━━━━━━━━━━━━━━━━━━━━\u001b[0m\u001b[90m╺\u001b[0m\u001b[90m━━━━━━━━━\u001b[0m \u001b[32m567.9/776.3 MB\u001b[0m \u001b[31m160.9 MB/s\u001b[0m eta \u001b[36m0:00:02\u001b[0m\r",
      "\u001b[2K     \u001b[91m━━━━━━━━━━━━━━━━━━━━━━━━━━━\u001b[0m\u001b[90m╺\u001b[0m\u001b[90m━━━━━━━━━\u001b[0m \u001b[32m573.3/776.3 MB\u001b[0m \u001b[31m158.4 MB/s\u001b[0m eta \u001b[36m0:00:02\u001b[0m"
     ]
    },
    {
     "name": "stdout",
     "output_type": "stream",
     "text": [
      "\r",
      "\u001b[2K     \u001b[91m━━━━━━━━━━━━━━━━━━━━━━━━━━━\u001b[0m\u001b[91m╸\u001b[0m\u001b[90m━━━━━━━━━\u001b[0m \u001b[32m578.5/776.3 MB\u001b[0m \u001b[31m155.8 MB/s\u001b[0m eta \u001b[36m0:00:02\u001b[0m"
     ]
    },
    {
     "name": "stdout",
     "output_type": "stream",
     "text": [
      "\r",
      "\u001b[2K     \u001b[91m━━━━━━━━━━━━━━━━━━━━━━━━━━━\u001b[0m\u001b[91m╸\u001b[0m\u001b[90m━━━━━━━━━\u001b[0m \u001b[32m581.5/776.3 MB\u001b[0m \u001b[31m118.3 MB/s\u001b[0m eta \u001b[36m0:00:02\u001b[0m\r",
      "\u001b[2K     \u001b[91m━━━━━━━━━━━━━━━━━━━━━━━━━━━\u001b[0m\u001b[91m╸\u001b[0m\u001b[90m━━━━━━━━━\u001b[0m \u001b[32m585.0/776.3 MB\u001b[0m \u001b[31m101.7 MB/s\u001b[0m eta \u001b[36m0:00:02\u001b[0m"
     ]
    },
    {
     "name": "stdout",
     "output_type": "stream",
     "text": [
      "\r",
      "\u001b[2K     \u001b[91m━━━━━━━━━━━━━━━━━━━━━━━━━━━━\u001b[0m\u001b[91m╸\u001b[0m\u001b[90m━━━━━━━━━\u001b[0m \u001b[32m588.3/776.3 MB\u001b[0m \u001b[31m86.4 MB/s\u001b[0m eta \u001b[36m0:00:03\u001b[0m"
     ]
    },
    {
     "name": "stdout",
     "output_type": "stream",
     "text": [
      "\r",
      "\u001b[2K     \u001b[91m━━━━━━━━━━━━━━━━━━━━━━━━━━━━\u001b[0m\u001b[90m╺\u001b[0m\u001b[90m━━━━━━━━\u001b[0m \u001b[32m592.6/776.3 MB\u001b[0m \u001b[31m100.3 MB/s\u001b[0m eta \u001b[36m0:00:02\u001b[0m\r",
      "\u001b[2K     \u001b[91m━━━━━━━━━━━━━━━━━━━━━━━━━━━━\u001b[0m\u001b[91m╸\u001b[0m\u001b[90m━━━━━━━━\u001b[0m \u001b[32m598.4/776.3 MB\u001b[0m \u001b[31m136.7 MB/s\u001b[0m eta \u001b[36m0:00:02\u001b[0m"
     ]
    },
    {
     "name": "stdout",
     "output_type": "stream",
     "text": [
      "\r",
      "\u001b[2K     \u001b[91m━━━━━━━━━━━━━━━━━━━━━━━━━━━━\u001b[0m\u001b[91m╸\u001b[0m\u001b[90m━━━━━━━━\u001b[0m \u001b[32m604.0/776.3 MB\u001b[0m \u001b[31m162.4 MB/s\u001b[0m eta \u001b[36m0:00:02\u001b[0m"
     ]
    },
    {
     "name": "stdout",
     "output_type": "stream",
     "text": [
      "\r",
      "\u001b[2K     \u001b[91m━━━━━━━━━━━━━━━━━━━━━━━━━━━━━\u001b[0m\u001b[90m╺\u001b[0m\u001b[90m━━━━━━━\u001b[0m \u001b[32m609.4/776.3 MB\u001b[0m \u001b[31m160.7 MB/s\u001b[0m eta \u001b[36m0:00:02\u001b[0m"
     ]
    },
    {
     "name": "stdout",
     "output_type": "stream",
     "text": [
      "\r",
      "\u001b[2K     \u001b[91m━━━━━━━━━━━━━━━━━━━━━━━━━━━━━\u001b[0m\u001b[90m╺\u001b[0m\u001b[90m━━━━━━━\u001b[0m \u001b[32m615.1/776.3 MB\u001b[0m \u001b[31m159.9 MB/s\u001b[0m eta \u001b[36m0:00:02\u001b[0m\r",
      "\u001b[2K     \u001b[91m━━━━━━━━━━━━━━━━━━━━━━━━━━━━━\u001b[0m\u001b[91m╸\u001b[0m\u001b[90m━━━━━━━\u001b[0m \u001b[32m621.0/776.3 MB\u001b[0m \u001b[31m164.7 MB/s\u001b[0m eta \u001b[36m0:00:01\u001b[0m"
     ]
    },
    {
     "name": "stdout",
     "output_type": "stream",
     "text": [
      "\r",
      "\u001b[2K     \u001b[91m━━━━━━━━━━━━━━━━━━━━━━━━━━━━━\u001b[0m\u001b[91m╸\u001b[0m\u001b[90m━━━━━━━\u001b[0m \u001b[32m626.3/776.3 MB\u001b[0m \u001b[31m160.2 MB/s\u001b[0m eta \u001b[36m0:00:01\u001b[0m"
     ]
    },
    {
     "name": "stdout",
     "output_type": "stream",
     "text": [
      "\r",
      "\u001b[2K     \u001b[91m━━━━━━━━━━━━━━━━━━━━━━━━━━━━━━\u001b[0m\u001b[90m╺\u001b[0m\u001b[90m━━━━━━\u001b[0m \u001b[32m631.7/776.3 MB\u001b[0m \u001b[31m154.1 MB/s\u001b[0m eta \u001b[36m0:00:01\u001b[0m\r",
      "\u001b[2K     \u001b[91m━━━━━━━━━━━━━━━━━━━━━━━━━━━━━━\u001b[0m\u001b[90m╺\u001b[0m\u001b[90m━━━━━━\u001b[0m \u001b[32m637.4/776.3 MB\u001b[0m \u001b[31m159.2 MB/s\u001b[0m eta \u001b[36m0:00:01\u001b[0m"
     ]
    },
    {
     "name": "stdout",
     "output_type": "stream",
     "text": [
      "\r",
      "\u001b[2K     \u001b[91m━━━━━━━━━━━━━━━━━━━━━━━━━━━━━━\u001b[0m\u001b[91m╸\u001b[0m\u001b[90m━━━━━━\u001b[0m \u001b[32m642.9/776.3 MB\u001b[0m \u001b[31m161.6 MB/s\u001b[0m eta \u001b[36m0:00:01\u001b[0m"
     ]
    },
    {
     "name": "stdout",
     "output_type": "stream",
     "text": [
      "\r",
      "\u001b[2K     \u001b[91m━━━━━━━━━━━━━━━━━━━━━━━━━━━━━━\u001b[0m\u001b[91m╸\u001b[0m\u001b[90m━━━━━━\u001b[0m \u001b[32m648.4/776.3 MB\u001b[0m \u001b[31m158.5 MB/s\u001b[0m eta \u001b[36m0:00:01\u001b[0m\r",
      "\u001b[2K     \u001b[91m━━━━━━━━━━━━━━━━━━━━━━━━━━━━━━━\u001b[0m\u001b[90m╺\u001b[0m\u001b[90m━━━━━\u001b[0m \u001b[32m654.0/776.3 MB\u001b[0m \u001b[31m158.3 MB/s\u001b[0m eta \u001b[36m0:00:01\u001b[0m"
     ]
    },
    {
     "name": "stdout",
     "output_type": "stream",
     "text": [
      "\r",
      "\u001b[2K     \u001b[91m━━━━━━━━━━━━━━━━━━━━━━━━━━━━━━━\u001b[0m\u001b[90m╺\u001b[0m\u001b[90m━━━━━\u001b[0m \u001b[32m659.3/776.3 MB\u001b[0m \u001b[31m155.5 MB/s\u001b[0m eta \u001b[36m0:00:01\u001b[0m"
     ]
    },
    {
     "name": "stdout",
     "output_type": "stream",
     "text": [
      "\r",
      "\u001b[2K     \u001b[91m━━━━━━━━━━━━━━━━━━━━━━━━━━━━━━━\u001b[0m\u001b[91m╸\u001b[0m\u001b[90m━━━━━\u001b[0m \u001b[32m664.9/776.3 MB\u001b[0m \u001b[31m156.9 MB/s\u001b[0m eta \u001b[36m0:00:01\u001b[0m"
     ]
    },
    {
     "name": "stdout",
     "output_type": "stream",
     "text": [
      "\r",
      "\u001b[2K     \u001b[91m━━━━━━━━━━━━━━━━━━━━━━━━━━━━━━━\u001b[0m\u001b[91m╸\u001b[0m\u001b[90m━━━━━\u001b[0m \u001b[32m670.7/776.3 MB\u001b[0m \u001b[31m162.7 MB/s\u001b[0m eta \u001b[36m0:00:01\u001b[0m\r",
      "\u001b[2K     \u001b[91m━━━━━━━━━━━━━━━━━━━━━━━━━━━━━━━━\u001b[0m\u001b[90m╺\u001b[0m\u001b[90m━━━━\u001b[0m \u001b[32m676.4/776.3 MB\u001b[0m \u001b[31m163.5 MB/s\u001b[0m eta \u001b[36m0:00:01\u001b[0m"
     ]
    },
    {
     "name": "stdout",
     "output_type": "stream",
     "text": [
      "\r",
      "\u001b[2K     \u001b[91m━━━━━━━━━━━━━━━━━━━━━━━━━━━━━━━━\u001b[0m\u001b[91m╸\u001b[0m\u001b[90m━━━━\u001b[0m \u001b[32m681.9/776.3 MB\u001b[0m \u001b[31m163.6 MB/s\u001b[0m eta \u001b[36m0:00:01\u001b[0m"
     ]
    },
    {
     "name": "stdout",
     "output_type": "stream",
     "text": [
      "\r",
      "\u001b[2K     \u001b[91m━━━━━━━━━━━━━━━━━━━━━━━━━━━━━━━━\u001b[0m\u001b[91m╸\u001b[0m\u001b[90m━━━━\u001b[0m \u001b[32m687.4/776.3 MB\u001b[0m \u001b[31m157.1 MB/s\u001b[0m eta \u001b[36m0:00:01\u001b[0m\r",
      "\u001b[2K     \u001b[91m━━━━━━━━━━━━━━━━━━━━━━━━━━━━━━━━━\u001b[0m\u001b[90m╺\u001b[0m\u001b[90m━━━\u001b[0m \u001b[32m693.2/776.3 MB\u001b[0m \u001b[31m159.9 MB/s\u001b[0m eta \u001b[36m0:00:01\u001b[0m"
     ]
    },
    {
     "name": "stdout",
     "output_type": "stream",
     "text": [
      "\r",
      "\u001b[2K     \u001b[91m━━━━━━━━━━━━━━━━━━━━━━━━━━━━━━━━━\u001b[0m\u001b[90m╺\u001b[0m\u001b[90m━━━\u001b[0m \u001b[32m698.5/776.3 MB\u001b[0m \u001b[31m159.7 MB/s\u001b[0m eta \u001b[36m0:00:01\u001b[0m"
     ]
    },
    {
     "name": "stdout",
     "output_type": "stream",
     "text": [
      "\r",
      "\u001b[2K     \u001b[91m━━━━━━━━━━━━━━━━━━━━━━━━━━━━━━━━━\u001b[0m\u001b[91m╸\u001b[0m\u001b[90m━━━\u001b[0m \u001b[32m704.3/776.3 MB\u001b[0m \u001b[31m160.0 MB/s\u001b[0m eta \u001b[36m0:00:01\u001b[0m\r",
      "\u001b[2K     \u001b[91m━━━━━━━━━━━━━━━━━━━━━━━━━━━━━━━━━\u001b[0m\u001b[91m╸\u001b[0m\u001b[90m━━━\u001b[0m \u001b[32m710.2/776.3 MB\u001b[0m \u001b[31m167.5 MB/s\u001b[0m eta \u001b[36m0:00:01\u001b[0m"
     ]
    },
    {
     "name": "stdout",
     "output_type": "stream",
     "text": [
      "\r",
      "\u001b[2K     \u001b[91m━━━━━━━━━━━━━━━━━━━━━━━━━━━━━━━━━━\u001b[0m\u001b[90m╺\u001b[0m\u001b[90m━━\u001b[0m \u001b[32m715.8/776.3 MB\u001b[0m \u001b[31m165.8 MB/s\u001b[0m eta \u001b[36m0:00:01\u001b[0m"
     ]
    },
    {
     "name": "stdout",
     "output_type": "stream",
     "text": [
      "\r",
      "\u001b[2K     \u001b[91m━━━━━━━━━━━━━━━━━━━━━━━━━━━━━━━━━━\u001b[0m\u001b[90m╺\u001b[0m\u001b[90m━━\u001b[0m \u001b[32m720.6/776.3 MB\u001b[0m \u001b[31m149.9 MB/s\u001b[0m eta \u001b[36m0:00:01\u001b[0m"
     ]
    },
    {
     "name": "stdout",
     "output_type": "stream",
     "text": [
      "\r",
      "\u001b[2K     \u001b[91m━━━━━━━━━━━━━━━━━━━━━━━━━━━━━━━━━━\u001b[0m\u001b[91m╸\u001b[0m\u001b[90m━━\u001b[0m \u001b[32m726.1/776.3 MB\u001b[0m \u001b[31m139.1 MB/s\u001b[0m eta \u001b[36m0:00:01\u001b[0m\r",
      "\u001b[2K     \u001b[91m━━━━━━━━━━━━━━━━━━━━━━━━━━━━━━━━━━\u001b[0m\u001b[91m╸\u001b[0m\u001b[90m━━\u001b[0m \u001b[32m732.0/776.3 MB\u001b[0m \u001b[31m153.0 MB/s\u001b[0m eta \u001b[36m0:00:01\u001b[0m"
     ]
    },
    {
     "name": "stdout",
     "output_type": "stream",
     "text": [
      "\r",
      "\u001b[2K     \u001b[91m━━━━━━━━━━━━━━━━━━━━━━━━━━━━━━━━━━━\u001b[0m\u001b[90m╺\u001b[0m\u001b[90m━\u001b[0m \u001b[32m737.6/776.3 MB\u001b[0m \u001b[31m161.3 MB/s\u001b[0m eta \u001b[36m0:00:01\u001b[0m"
     ]
    },
    {
     "name": "stdout",
     "output_type": "stream",
     "text": [
      "\r",
      "\u001b[2K     \u001b[91m━━━━━━━━━━━━━━━━━━━━━━━━━━━━━━━━━━━\u001b[0m\u001b[90m╺\u001b[0m\u001b[90m━\u001b[0m \u001b[32m740.3/776.3 MB\u001b[0m \u001b[31m152.8 MB/s\u001b[0m eta \u001b[36m0:00:01\u001b[0m\r",
      "\u001b[2K     \u001b[91m━━━━━━━━━━━━━━━━━━━━━━━━━━━━━━━━━━━\u001b[0m\u001b[90m╺\u001b[0m\u001b[90m━\u001b[0m \u001b[32m742.7/776.3 MB\u001b[0m \u001b[31m100.0 MB/s\u001b[0m eta \u001b[36m0:00:01\u001b[0m"
     ]
    },
    {
     "name": "stdout",
     "output_type": "stream",
     "text": [
      "\r",
      "\u001b[2K     \u001b[91m━━━━━━━━━━━━━━━━━━━━━━━━━━━━━━━━━━━━\u001b[0m\u001b[91m╸\u001b[0m\u001b[90m━\u001b[0m \u001b[32m747.9/776.3 MB\u001b[0m \u001b[31m95.2 MB/s\u001b[0m eta \u001b[36m0:00:01\u001b[0m"
     ]
    },
    {
     "name": "stdout",
     "output_type": "stream",
     "text": [
      "\r",
      "\u001b[2K     \u001b[91m━━━━━━━━━━━━━━━━━━━━━━━━━━━━━━━━━━━\u001b[0m\u001b[91m╸\u001b[0m\u001b[90m━\u001b[0m \u001b[32m753.5/776.3 MB\u001b[0m \u001b[31m154.7 MB/s\u001b[0m eta \u001b[36m0:00:01\u001b[0m\r",
      "\u001b[2K     \u001b[91m━━━━━━━━━━━━━━━━━━━━━━━━━━━━━━━━━━━━\u001b[0m\u001b[90m╺\u001b[0m \u001b[32m759.0/776.3 MB\u001b[0m \u001b[31m161.1 MB/s\u001b[0m eta \u001b[36m0:00:01\u001b[0m"
     ]
    },
    {
     "name": "stdout",
     "output_type": "stream",
     "text": [
      "\r",
      "\u001b[2K     \u001b[91m━━━━━━━━━━━━━━━━━━━━━━━━━━━━━━━━━━━━\u001b[0m\u001b[90m╺\u001b[0m \u001b[32m764.3/776.3 MB\u001b[0m \u001b[31m156.9 MB/s\u001b[0m eta \u001b[36m0:00:01\u001b[0m"
     ]
    },
    {
     "name": "stdout",
     "output_type": "stream",
     "text": [
      "\r",
      "\u001b[2K     \u001b[91m━━━━━━━━━━━━━━━━━━━━━━━━━━━━━━━━━━━━\u001b[0m\u001b[91m╸\u001b[0m \u001b[32m769.7/776.3 MB\u001b[0m \u001b[31m156.1 MB/s\u001b[0m eta \u001b[36m0:00:01\u001b[0m"
     ]
    },
    {
     "name": "stdout",
     "output_type": "stream",
     "text": [
      "\r",
      "\u001b[2K     \u001b[91m━━━━━━━━━━━━━━━━━━━━━━━━━━━━━━━━━━━━\u001b[0m\u001b[91m╸\u001b[0m \u001b[32m775.8/776.3 MB\u001b[0m \u001b[31m165.5 MB/s\u001b[0m eta \u001b[36m0:00:01\u001b[0m"
     ]
    },
    {
     "name": "stdout",
     "output_type": "stream",
     "text": [
      "\r",
      "\u001b[2K     \u001b[91m━━━━━━━━━━━━━━━━━━━━━━━━━━━━━━━━━━━━\u001b[0m\u001b[91m╸\u001b[0m \u001b[32m776.3/776.3 MB\u001b[0m \u001b[31m156.4 MB/s\u001b[0m eta \u001b[36m0:00:01\u001b[0m"
     ]
    },
    {
     "name": "stdout",
     "output_type": "stream",
     "text": [
      "\r",
      "\u001b[2K     \u001b[91m━━━━━━━━━━━━━━━━━━━━━━━━━━━━━━━━━━━━\u001b[0m\u001b[91m╸\u001b[0m \u001b[32m776.3/776.3 MB\u001b[0m \u001b[31m156.4 MB/s\u001b[0m eta \u001b[36m0:00:01\u001b[0m"
     ]
    },
    {
     "name": "stdout",
     "output_type": "stream",
     "text": [
      "\r",
      "\u001b[2K     \u001b[91m━━━━━━━━━━━━━━━━━━━━━━━━━━━━━━━━━━━━\u001b[0m\u001b[91m╸\u001b[0m \u001b[32m776.3/776.3 MB\u001b[0m \u001b[31m156.4 MB/s\u001b[0m eta \u001b[36m0:00:01\u001b[0m\r",
      "\u001b[2K     \u001b[91m━━━━━━━━━━━━━━━━━━━━━━━━━━━━━━━━━━━━\u001b[0m\u001b[91m╸\u001b[0m \u001b[32m776.3/776.3 MB\u001b[0m \u001b[31m156.4 MB/s\u001b[0m eta \u001b[36m0:00:01\u001b[0m"
     ]
    },
    {
     "name": "stdout",
     "output_type": "stream",
     "text": [
      "\r",
      "\u001b[2K     \u001b[91m━━━━━━━━━━━━━━━━━━━━━━━━━━━━━━━━━━━━\u001b[0m\u001b[91m╸\u001b[0m \u001b[32m776.3/776.3 MB\u001b[0m \u001b[31m156.4 MB/s\u001b[0m eta \u001b[36m0:00:01\u001b[0m"
     ]
    },
    {
     "name": "stdout",
     "output_type": "stream",
     "text": [
      "\r",
      "\u001b[2K     \u001b[91m━━━━━━━━━━━━━━━━━━━━━━━━━━━━━━━━━━━━\u001b[0m\u001b[91m╸\u001b[0m \u001b[32m776.3/776.3 MB\u001b[0m \u001b[31m156.4 MB/s\u001b[0m eta \u001b[36m0:00:01\u001b[0m\r",
      "\u001b[2K     \u001b[91m━━━━━━━━━━━━━━━━━━━━━━━━━━━━━━━━━━━━\u001b[0m\u001b[91m╸\u001b[0m \u001b[32m776.3/776.3 MB\u001b[0m \u001b[31m156.4 MB/s\u001b[0m eta \u001b[36m0:00:01\u001b[0m"
     ]
    },
    {
     "name": "stdout",
     "output_type": "stream",
     "text": [
      "\r",
      "\u001b[2K     \u001b[91m━━━━━━━━━━━━━━━━━━━━━━━━━━━━━━━━━━━━\u001b[0m\u001b[91m╸\u001b[0m \u001b[32m776.3/776.3 MB\u001b[0m \u001b[31m156.4 MB/s\u001b[0m eta \u001b[36m0:00:01\u001b[0m"
     ]
    },
    {
     "name": "stdout",
     "output_type": "stream",
     "text": [
      "\r",
      "\u001b[2K     \u001b[91m━━━━━━━━━━━━━━━━━━━━━━━━━━━━━━━━━━━━\u001b[0m\u001b[91m╸\u001b[0m \u001b[32m776.3/776.3 MB\u001b[0m \u001b[31m156.4 MB/s\u001b[0m eta \u001b[36m0:00:01\u001b[0m\r",
      "\u001b[2K     \u001b[91m━━━━━━━━━━━━━━━━━━━━━━━━━━━━━━━━━━━━\u001b[0m\u001b[91m╸\u001b[0m \u001b[32m776.3/776.3 MB\u001b[0m \u001b[31m156.4 MB/s\u001b[0m eta \u001b[36m0:00:01\u001b[0m"
     ]
    },
    {
     "name": "stdout",
     "output_type": "stream",
     "text": [
      "\r",
      "\u001b[2K     \u001b[91m━━━━━━━━━━━━━━━━━━━━━━━━━━━━━━━━━━━━\u001b[0m\u001b[91m╸\u001b[0m \u001b[32m776.3/776.3 MB\u001b[0m \u001b[31m156.4 MB/s\u001b[0m eta \u001b[36m0:00:01\u001b[0m"
     ]
    },
    {
     "name": "stdout",
     "output_type": "stream",
     "text": [
      "\r",
      "\u001b[2K     \u001b[91m━━━━━━━━━━━━━━━━━━━━━━━━━━━━━━━━━━━━\u001b[0m\u001b[91m╸\u001b[0m \u001b[32m776.3/776.3 MB\u001b[0m \u001b[31m156.4 MB/s\u001b[0m eta \u001b[36m0:00:01\u001b[0m"
     ]
    },
    {
     "name": "stdout",
     "output_type": "stream",
     "text": [
      "\r",
      "\u001b[2K     \u001b[91m━━━━━━━━━━━━━━━━━━━━━━━━━━━━━━━━━━━━\u001b[0m\u001b[91m╸\u001b[0m \u001b[32m776.3/776.3 MB\u001b[0m \u001b[31m156.4 MB/s\u001b[0m eta \u001b[36m0:00:01\u001b[0m\r",
      "\u001b[2K     \u001b[91m━━━━━━━━━━━━━━━━━━━━━━━━━━━━━━━━━━━━\u001b[0m\u001b[91m╸\u001b[0m \u001b[32m776.3/776.3 MB\u001b[0m \u001b[31m156.4 MB/s\u001b[0m eta \u001b[36m0:00:01\u001b[0m"
     ]
    },
    {
     "name": "stdout",
     "output_type": "stream",
     "text": [
      "\r",
      "\u001b[2K     \u001b[91m━━━━━━━━━━━━━━━━━━━━━━━━━━━━━━━━━━━━\u001b[0m\u001b[91m╸\u001b[0m \u001b[32m776.3/776.3 MB\u001b[0m \u001b[31m156.4 MB/s\u001b[0m eta \u001b[36m0:00:01\u001b[0m"
     ]
    },
    {
     "name": "stdout",
     "output_type": "stream",
     "text": [
      "\r",
      "\u001b[2K     \u001b[91m━━━━━━━━━━━━━━━━━━━━━━━━━━━━━━━━━━━━\u001b[0m\u001b[91m╸\u001b[0m \u001b[32m776.3/776.3 MB\u001b[0m \u001b[31m156.4 MB/s\u001b[0m eta \u001b[36m0:00:01\u001b[0m\r",
      "\u001b[2K     \u001b[91m━━━━━━━━━━━━━━━━━━━━━━━━━━━━━━━━━━━━\u001b[0m\u001b[91m╸\u001b[0m \u001b[32m776.3/776.3 MB\u001b[0m \u001b[31m156.4 MB/s\u001b[0m eta \u001b[36m0:00:01\u001b[0m"
     ]
    },
    {
     "name": "stdout",
     "output_type": "stream",
     "text": [
      "\r",
      "\u001b[2K     \u001b[91m━━━━━━━━━━━━━━━━━━━━━━━━━━━━━━━━━━━━\u001b[0m\u001b[91m╸\u001b[0m \u001b[32m776.3/776.3 MB\u001b[0m \u001b[31m156.4 MB/s\u001b[0m eta \u001b[36m0:00:01\u001b[0m"
     ]
    },
    {
     "name": "stdout",
     "output_type": "stream",
     "text": [
      "\r",
      "\u001b[2K     \u001b[91m━━━━━━━━━━━━━━━━━━━━━━━━━━━━━━━━━━━━\u001b[0m\u001b[91m╸\u001b[0m \u001b[32m776.3/776.3 MB\u001b[0m \u001b[31m156.4 MB/s\u001b[0m eta \u001b[36m0:00:01\u001b[0m"
     ]
    },
    {
     "name": "stdout",
     "output_type": "stream",
     "text": [
      "\r",
      "\u001b[2K     \u001b[91m━━━━━━━━━━━━━━━━━━━━━━━━━━━━━━━━━━━━\u001b[0m\u001b[91m╸\u001b[0m \u001b[32m776.3/776.3 MB\u001b[0m \u001b[31m156.4 MB/s\u001b[0m eta \u001b[36m0:00:01\u001b[0m\r",
      "\u001b[2K     \u001b[91m━━━━━━━━━━━━━━━━━━━━━━━━━━━━━━━━━━━━\u001b[0m\u001b[91m╸\u001b[0m \u001b[32m776.3/776.3 MB\u001b[0m \u001b[31m156.4 MB/s\u001b[0m eta \u001b[36m0:00:01\u001b[0m"
     ]
    },
    {
     "name": "stdout",
     "output_type": "stream",
     "text": [
      "\r",
      "\u001b[2K     \u001b[91m━━━━━━━━━━━━━━━━━━━━━━━━━━━━━━━━━━━━\u001b[0m\u001b[91m╸\u001b[0m \u001b[32m776.3/776.3 MB\u001b[0m \u001b[31m156.4 MB/s\u001b[0m eta \u001b[36m0:00:01\u001b[0m"
     ]
    },
    {
     "name": "stdout",
     "output_type": "stream",
     "text": [
      "\r",
      "\u001b[2K     \u001b[91m━━━━━━━━━━━━━━━━━━━━━━━━━━━━━━━━━━━━\u001b[0m\u001b[91m╸\u001b[0m \u001b[32m776.3/776.3 MB\u001b[0m \u001b[31m156.4 MB/s\u001b[0m eta \u001b[36m0:00:01\u001b[0m\r",
      "\u001b[2K     \u001b[91m━━━━━━━━━━━━━━━━━━━━━━━━━━━━━━━━━━━━\u001b[0m\u001b[91m╸\u001b[0m \u001b[32m776.3/776.3 MB\u001b[0m \u001b[31m156.4 MB/s\u001b[0m eta \u001b[36m0:00:01\u001b[0m"
     ]
    },
    {
     "name": "stdout",
     "output_type": "stream",
     "text": [
      "\r",
      "\u001b[2K     \u001b[91m━━━━━━━━━━━━━━━━━━━━━━━━━━━━━━━━━━━━\u001b[0m\u001b[91m╸\u001b[0m \u001b[32m776.3/776.3 MB\u001b[0m \u001b[31m156.4 MB/s\u001b[0m eta \u001b[36m0:00:01\u001b[0m"
     ]
    },
    {
     "name": "stdout",
     "output_type": "stream",
     "text": [
      "\r",
      "\u001b[2K     \u001b[91m━━━━━━━━━━━━━━━━━━━━━━━━━━━━━━━━━━━━\u001b[0m\u001b[91m╸\u001b[0m \u001b[32m776.3/776.3 MB\u001b[0m \u001b[31m156.4 MB/s\u001b[0m eta \u001b[36m0:00:01\u001b[0m"
     ]
    },
    {
     "name": "stdout",
     "output_type": "stream",
     "text": [
      "\r",
      "\u001b[2K     \u001b[91m━━━━━━━━━━━━━━━━━━━━━━━━━━━━━━━━━━━━\u001b[0m\u001b[91m╸\u001b[0m \u001b[32m776.3/776.3 MB\u001b[0m \u001b[31m156.4 MB/s\u001b[0m eta \u001b[36m0:00:01\u001b[0m\r",
      "\u001b[2K     \u001b[91m━━━━━━━━━━━━━━━━━━━━━━━━━━━━━━━━━━━━\u001b[0m\u001b[91m╸\u001b[0m \u001b[32m776.3/776.3 MB\u001b[0m \u001b[31m156.4 MB/s\u001b[0m eta \u001b[36m0:00:01\u001b[0m"
     ]
    },
    {
     "name": "stdout",
     "output_type": "stream",
     "text": [
      "\r",
      "\u001b[2K     \u001b[91m━━━━━━━━━━━━━━━━━━━━━━━━━━━━━━━━━━━━\u001b[0m\u001b[91m╸\u001b[0m \u001b[32m776.3/776.3 MB\u001b[0m \u001b[31m156.4 MB/s\u001b[0m eta \u001b[36m0:00:01\u001b[0m"
     ]
    },
    {
     "name": "stdout",
     "output_type": "stream",
     "text": [
      "\r",
      "\u001b[2K     \u001b[91m━━━━━━━━━━━━━━━━━━━━━━━━━━━━━━━━━━━━\u001b[0m\u001b[91m╸\u001b[0m \u001b[32m776.3/776.3 MB\u001b[0m \u001b[31m156.4 MB/s\u001b[0m eta \u001b[36m0:00:01\u001b[0m\r",
      "\u001b[2K     \u001b[91m━━━━━━━━━━━━━━━━━━━━━━━━━━━━━━━━━━━━\u001b[0m\u001b[91m╸\u001b[0m \u001b[32m776.3/776.3 MB\u001b[0m \u001b[31m156.4 MB/s\u001b[0m eta \u001b[36m0:00:01\u001b[0m"
     ]
    },
    {
     "name": "stdout",
     "output_type": "stream",
     "text": [
      "\r",
      "\u001b[2K     \u001b[91m━━━━━━━━━━━━━━━━━━━━━━━━━━━━━━━━━━━━\u001b[0m\u001b[91m╸\u001b[0m \u001b[32m776.3/776.3 MB\u001b[0m \u001b[31m156.4 MB/s\u001b[0m eta \u001b[36m0:00:01\u001b[0m"
     ]
    },
    {
     "name": "stdout",
     "output_type": "stream",
     "text": [
      "\r",
      "\u001b[2K     \u001b[91m━━━━━━━━━━━━━━━━━━━━━━━━━━━━━━━━━━━━\u001b[0m\u001b[91m╸\u001b[0m \u001b[32m776.3/776.3 MB\u001b[0m \u001b[31m156.4 MB/s\u001b[0m eta \u001b[36m0:00:01\u001b[0m"
     ]
    },
    {
     "name": "stdout",
     "output_type": "stream",
     "text": [
      "\r",
      "\u001b[2K     \u001b[91m━━━━━━━━━━━━━━━━━━━━━━━━━━━━━━━━━━━━\u001b[0m\u001b[91m╸\u001b[0m \u001b[32m776.3/776.3 MB\u001b[0m \u001b[31m156.4 MB/s\u001b[0m eta \u001b[36m0:00:01\u001b[0m\r",
      "\u001b[2K     \u001b[91m━━━━━━━━━━━━━━━━━━━━━━━━━━━━━━━━━━━━\u001b[0m\u001b[91m╸\u001b[0m \u001b[32m776.3/776.3 MB\u001b[0m \u001b[31m156.4 MB/s\u001b[0m eta \u001b[36m0:00:01\u001b[0m"
     ]
    },
    {
     "name": "stdout",
     "output_type": "stream",
     "text": [
      "\r",
      "\u001b[2K     \u001b[91m━━━━━━━━━━━━━━━━━━━━━━━━━━━━━━━━━━━━\u001b[0m\u001b[91m╸\u001b[0m \u001b[32m776.3/776.3 MB\u001b[0m \u001b[31m156.4 MB/s\u001b[0m eta \u001b[36m0:00:01\u001b[0m"
     ]
    },
    {
     "name": "stdout",
     "output_type": "stream",
     "text": [
      "\r",
      "\u001b[2K     \u001b[91m━━━━━━━━━━━━━━━━━━━━━━━━━━━━━━━━━━━━\u001b[0m\u001b[91m╸\u001b[0m \u001b[32m776.3/776.3 MB\u001b[0m \u001b[31m156.4 MB/s\u001b[0m eta \u001b[36m0:00:01\u001b[0m\r",
      "\u001b[2K     \u001b[91m━━━━━━━━━━━━━━━━━━━━━━━━━━━━━━━━━━━━\u001b[0m\u001b[91m╸\u001b[0m \u001b[32m776.3/776.3 MB\u001b[0m \u001b[31m156.4 MB/s\u001b[0m eta \u001b[36m0:00:01\u001b[0m"
     ]
    },
    {
     "name": "stdout",
     "output_type": "stream",
     "text": [
      "\r",
      "\u001b[2K     \u001b[91m━━━━━━━━━━━━━━━━━━━━━━━━━━━━━━━━━━━━\u001b[0m\u001b[91m╸\u001b[0m \u001b[32m776.3/776.3 MB\u001b[0m \u001b[31m156.4 MB/s\u001b[0m eta \u001b[36m0:00:01\u001b[0m"
     ]
    },
    {
     "name": "stdout",
     "output_type": "stream",
     "text": [
      "\r",
      "\u001b[2K     \u001b[91m━━━━━━━━━━━━━━━━━━━━━━━━━━━━━━━━━━━━\u001b[0m\u001b[91m╸\u001b[0m \u001b[32m776.3/776.3 MB\u001b[0m \u001b[31m156.4 MB/s\u001b[0m eta \u001b[36m0:00:01\u001b[0m"
     ]
    },
    {
     "name": "stdout",
     "output_type": "stream",
     "text": [
      "\r",
      "\u001b[2K     \u001b[91m━━━━━━━━━━━━━━━━━━━━━━━━━━━━━━━━━━━━\u001b[0m\u001b[91m╸\u001b[0m \u001b[32m776.3/776.3 MB\u001b[0m \u001b[31m156.4 MB/s\u001b[0m eta \u001b[36m0:00:01\u001b[0m\r",
      "\u001b[2K     \u001b[91m━━━━━━━━━━━━━━━━━━━━━━━━━━━━━━━━━━━━\u001b[0m\u001b[91m╸\u001b[0m \u001b[32m776.3/776.3 MB\u001b[0m \u001b[31m156.4 MB/s\u001b[0m eta \u001b[36m0:00:01\u001b[0m"
     ]
    },
    {
     "name": "stdout",
     "output_type": "stream",
     "text": [
      "\r",
      "\u001b[2K     \u001b[91m━━━━━━━━━━━━━━━━━━━━━━━━━━━━━━━━━━━━\u001b[0m\u001b[91m╸\u001b[0m \u001b[32m776.3/776.3 MB\u001b[0m \u001b[31m156.4 MB/s\u001b[0m eta \u001b[36m0:00:01\u001b[0m"
     ]
    },
    {
     "name": "stdout",
     "output_type": "stream",
     "text": [
      "\r",
      "\u001b[2K     \u001b[91m━━━━━━━━━━━━━━━━━━━━━━━━━━━━━━━━━━━━\u001b[0m\u001b[91m╸\u001b[0m \u001b[32m776.3/776.3 MB\u001b[0m \u001b[31m156.4 MB/s\u001b[0m eta \u001b[36m0:00:01\u001b[0m"
     ]
    },
    {
     "name": "stdout",
     "output_type": "stream",
     "text": [
      "\r",
      "\u001b[2K     \u001b[91m━━━━━━━━━━━━━━━━━━━━━━━━━━━━━━━━━━━━\u001b[0m\u001b[91m╸\u001b[0m \u001b[32m776.3/776.3 MB\u001b[0m \u001b[31m156.4 MB/s\u001b[0m eta \u001b[36m0:00:01\u001b[0m\r",
      "\u001b[2K     \u001b[91m━━━━━━━━━━━━━━━━━━━━━━━━━━━━━━━━━━━━\u001b[0m\u001b[91m╸\u001b[0m \u001b[32m776.3/776.3 MB\u001b[0m \u001b[31m156.4 MB/s\u001b[0m eta \u001b[36m0:00:01\u001b[0m"
     ]
    },
    {
     "name": "stdout",
     "output_type": "stream",
     "text": [
      "\r",
      "\u001b[2K     \u001b[91m━━━━━━━━━━━━━━━━━━━━━━━━━━━━━━━━━━━━\u001b[0m\u001b[91m╸\u001b[0m \u001b[32m776.3/776.3 MB\u001b[0m \u001b[31m156.4 MB/s\u001b[0m eta \u001b[36m0:00:01\u001b[0m"
     ]
    },
    {
     "name": "stdout",
     "output_type": "stream",
     "text": [
      "\r",
      "\u001b[2K     \u001b[91m━━━━━━━━━━━━━━━━━━━━━━━━━━━━━━━━━━━━\u001b[0m\u001b[91m╸\u001b[0m \u001b[32m776.3/776.3 MB\u001b[0m \u001b[31m156.4 MB/s\u001b[0m eta \u001b[36m0:00:01\u001b[0m\r",
      "\u001b[2K     \u001b[91m━━━━━━━━━━━━━━━━━━━━━━━━━━━━━━━━━━━━\u001b[0m\u001b[91m╸\u001b[0m \u001b[32m776.3/776.3 MB\u001b[0m \u001b[31m156.4 MB/s\u001b[0m eta \u001b[36m0:00:01\u001b[0m"
     ]
    },
    {
     "name": "stdout",
     "output_type": "stream",
     "text": [
      "\r",
      "\u001b[2K     \u001b[91m━━━━━━━━━━━━━━━━━━━━━━━━━━━━━━━━━━━━\u001b[0m\u001b[91m╸\u001b[0m \u001b[32m776.3/776.3 MB\u001b[0m \u001b[31m156.4 MB/s\u001b[0m eta \u001b[36m0:00:01\u001b[0m"
     ]
    },
    {
     "name": "stdout",
     "output_type": "stream",
     "text": [
      "\r",
      "\u001b[2K     \u001b[91m━━━━━━━━━━━━━━━━━━━━━━━━━━━━━━━━━━━━\u001b[0m\u001b[91m╸\u001b[0m \u001b[32m776.3/776.3 MB\u001b[0m \u001b[31m156.4 MB/s\u001b[0m eta \u001b[36m0:00:01\u001b[0m"
     ]
    },
    {
     "name": "stdout",
     "output_type": "stream",
     "text": [
      "\r",
      "\u001b[2K     \u001b[91m━━━━━━━━━━━━━━━━━━━━━━━━━━━━━━━━━━━━\u001b[0m\u001b[91m╸\u001b[0m \u001b[32m776.3/776.3 MB\u001b[0m \u001b[31m156.4 MB/s\u001b[0m eta \u001b[36m0:00:01\u001b[0m\r",
      "\u001b[2K     \u001b[91m━━━━━━━━━━━━━━━━━━━━━━━━━━━━━━━━━━━━\u001b[0m\u001b[91m╸\u001b[0m \u001b[32m776.3/776.3 MB\u001b[0m \u001b[31m156.4 MB/s\u001b[0m eta \u001b[36m0:00:01\u001b[0m"
     ]
    },
    {
     "name": "stdout",
     "output_type": "stream",
     "text": [
      "\r",
      "\u001b[2K     \u001b[91m━━━━━━━━━━━━━━━━━━━━━━━━━━━━━━━━━━━━\u001b[0m\u001b[91m╸\u001b[0m \u001b[32m776.3/776.3 MB\u001b[0m \u001b[31m156.4 MB/s\u001b[0m eta \u001b[36m0:00:01\u001b[0m"
     ]
    },
    {
     "name": "stdout",
     "output_type": "stream",
     "text": [
      "\r",
      "\u001b[2K     \u001b[91m━━━━━━━━━━━━━━━━━━━━━━━━━━━━━━━━━━━━\u001b[0m\u001b[91m╸\u001b[0m \u001b[32m776.3/776.3 MB\u001b[0m \u001b[31m156.4 MB/s\u001b[0m eta \u001b[36m0:00:01\u001b[0m"
     ]
    },
    {
     "name": "stdout",
     "output_type": "stream",
     "text": [
      "\r",
      "\u001b[2K     \u001b[91m━━━━━━━━━━━━━━━━━━━━━━━━━━━━━━━━━━━━\u001b[0m\u001b[91m╸\u001b[0m \u001b[32m776.3/776.3 MB\u001b[0m \u001b[31m156.4 MB/s\u001b[0m eta \u001b[36m0:00:01\u001b[0m\r",
      "\u001b[2K     \u001b[91m━━━━━━━━━━━━━━━━━━━━━━━━━━━━━━━━━━━━\u001b[0m\u001b[91m╸\u001b[0m \u001b[32m776.3/776.3 MB\u001b[0m \u001b[31m156.4 MB/s\u001b[0m eta \u001b[36m0:00:01\u001b[0m"
     ]
    },
    {
     "name": "stdout",
     "output_type": "stream",
     "text": [
      "\r",
      "\u001b[2K     \u001b[91m━━━━━━━━━━━━━━━━━━━━━━━━━━━━━━━━━━━━\u001b[0m\u001b[91m╸\u001b[0m \u001b[32m776.3/776.3 MB\u001b[0m \u001b[31m156.4 MB/s\u001b[0m eta \u001b[36m0:00:01\u001b[0m"
     ]
    },
    {
     "name": "stdout",
     "output_type": "stream",
     "text": [
      "\r",
      "\u001b[2K     \u001b[91m━━━━━━━━━━━━━━━━━━━━━━━━━━━━━━━━━━━━\u001b[0m\u001b[91m╸\u001b[0m \u001b[32m776.3/776.3 MB\u001b[0m \u001b[31m156.4 MB/s\u001b[0m eta \u001b[36m0:00:01\u001b[0m"
     ]
    },
    {
     "name": "stdout",
     "output_type": "stream",
     "text": [
      "\r",
      "\u001b[2K     \u001b[91m━━━━━━━━━━━━━━━━━━━━━━━━━━━━━━━━━━━━\u001b[0m\u001b[91m╸\u001b[0m \u001b[32m776.3/776.3 MB\u001b[0m \u001b[31m156.4 MB/s\u001b[0m eta \u001b[36m0:00:01\u001b[0m"
     ]
    },
    {
     "name": "stdout",
     "output_type": "stream",
     "text": [
      "\r",
      "\u001b[2K     \u001b[91m━━━━━━━━━━━━━━━━━━━━━━━━━━━━━━━━━━━━\u001b[0m\u001b[91m╸\u001b[0m \u001b[32m776.3/776.3 MB\u001b[0m \u001b[31m156.4 MB/s\u001b[0m eta \u001b[36m0:00:01\u001b[0m"
     ]
    },
    {
     "name": "stdout",
     "output_type": "stream",
     "text": [
      "\r",
      "\u001b[2K     \u001b[91m━━━━━━━━━━━━━━━━━━━━━━━━━━━━━━━━━━━━\u001b[0m\u001b[91m╸\u001b[0m \u001b[32m776.3/776.3 MB\u001b[0m \u001b[31m156.4 MB/s\u001b[0m eta \u001b[36m0:00:01\u001b[0m\r",
      "\u001b[2K     \u001b[91m━━━━━━━━━━━━━━━━━━━━━━━━━━━━━━━━━━━━\u001b[0m\u001b[91m╸\u001b[0m \u001b[32m776.3/776.3 MB\u001b[0m \u001b[31m156.4 MB/s\u001b[0m eta \u001b[36m0:00:01\u001b[0m"
     ]
    },
    {
     "name": "stdout",
     "output_type": "stream",
     "text": [
      "\r",
      "\u001b[2K     \u001b[91m━━━━━━━━━━━━━━━━━━━━━━━━━━━━━━━━━━━━\u001b[0m\u001b[91m╸\u001b[0m \u001b[32m776.3/776.3 MB\u001b[0m \u001b[31m156.4 MB/s\u001b[0m eta \u001b[36m0:00:01\u001b[0m"
     ]
    },
    {
     "name": "stdout",
     "output_type": "stream",
     "text": [
      "\r",
      "\u001b[2K     \u001b[91m━━━━━━━━━━━━━━━━━━━━━━━━━━━━━━━━━━━━\u001b[0m\u001b[91m╸\u001b[0m \u001b[32m776.3/776.3 MB\u001b[0m \u001b[31m156.4 MB/s\u001b[0m eta \u001b[36m0:00:01\u001b[0m"
     ]
    },
    {
     "name": "stdout",
     "output_type": "stream",
     "text": [
      "\r",
      "\u001b[2K     \u001b[91m━━━━━━━━━━━━━━━━━━━━━━━━━━━━━━━━━━━━\u001b[0m\u001b[91m╸\u001b[0m \u001b[32m776.3/776.3 MB\u001b[0m \u001b[31m156.4 MB/s\u001b[0m eta \u001b[36m0:00:01\u001b[0m"
     ]
    },
    {
     "name": "stdout",
     "output_type": "stream",
     "text": [
      "\r",
      "\u001b[2K     \u001b[91m━━━━━━━━━━━━━━━━━━━━━━━━━━━━━━━━━━━━\u001b[0m\u001b[91m╸\u001b[0m \u001b[32m776.3/776.3 MB\u001b[0m \u001b[31m156.4 MB/s\u001b[0m eta \u001b[36m0:00:01\u001b[0m"
     ]
    },
    {
     "name": "stdout",
     "output_type": "stream",
     "text": [
      "\r",
      "\u001b[2K     \u001b[91m━━━━━━━━━━━━━━━━━━━━━━━━━━━━━━━━━━━━\u001b[0m\u001b[91m╸\u001b[0m \u001b[32m776.3/776.3 MB\u001b[0m \u001b[31m156.4 MB/s\u001b[0m eta \u001b[36m0:00:01\u001b[0m"
     ]
    },
    {
     "name": "stdout",
     "output_type": "stream",
     "text": [
      "\r",
      "\u001b[2K     \u001b[91m━━━━━━━━━━━━━━━━━━━━━━━━━━━━━━━━━━━━\u001b[0m\u001b[91m╸\u001b[0m \u001b[32m776.3/776.3 MB\u001b[0m \u001b[31m156.4 MB/s\u001b[0m eta \u001b[36m0:00:01\u001b[0m"
     ]
    },
    {
     "name": "stdout",
     "output_type": "stream",
     "text": [
      "\r",
      "\u001b[2K     \u001b[91m━━━━━━━━━━━━━━━━━━━━━━━━━━━━━━━━━━━━\u001b[0m\u001b[91m╸\u001b[0m \u001b[32m776.3/776.3 MB\u001b[0m \u001b[31m156.4 MB/s\u001b[0m eta \u001b[36m0:00:01\u001b[0m"
     ]
    },
    {
     "name": "stdout",
     "output_type": "stream",
     "text": [
      "\r",
      "\u001b[2K     \u001b[91m━━━━━━━━━━━━━━━━━━━━━━━━━━━━━━━━━━━━\u001b[0m\u001b[91m╸\u001b[0m \u001b[32m776.3/776.3 MB\u001b[0m \u001b[31m156.4 MB/s\u001b[0m eta \u001b[36m0:00:01\u001b[0m"
     ]
    },
    {
     "name": "stdout",
     "output_type": "stream",
     "text": [
      "\r",
      "\u001b[2K     \u001b[91m━━━━━━━━━━━━━━━━━━━━━━━━━━━━━━━━━━━━\u001b[0m\u001b[91m╸\u001b[0m \u001b[32m776.3/776.3 MB\u001b[0m \u001b[31m156.4 MB/s\u001b[0m eta \u001b[36m0:00:01\u001b[0m\r",
      "\u001b[2K     \u001b[91m━━━━━━━━━━━━━━━━━━━━━━━━━━━━━━━━━━━━\u001b[0m\u001b[91m╸\u001b[0m \u001b[32m776.3/776.3 MB\u001b[0m \u001b[31m156.4 MB/s\u001b[0m eta \u001b[36m0:00:01\u001b[0m"
     ]
    },
    {
     "name": "stdout",
     "output_type": "stream",
     "text": [
      "\r",
      "\u001b[2K     \u001b[91m━━━━━━━━━━━━━━━━━━━━━━━━━━━━━━━━━━━━\u001b[0m\u001b[91m╸\u001b[0m \u001b[32m776.3/776.3 MB\u001b[0m \u001b[31m156.4 MB/s\u001b[0m eta \u001b[36m0:00:01\u001b[0m"
     ]
    },
    {
     "name": "stdout",
     "output_type": "stream",
     "text": [
      "\r",
      "\u001b[2K     \u001b[91m━━━━━━━━━━━━━━━━━━━━━━━━━━━━━━━━━━━━\u001b[0m\u001b[91m╸\u001b[0m \u001b[32m776.3/776.3 MB\u001b[0m \u001b[31m156.4 MB/s\u001b[0m eta \u001b[36m0:00:01\u001b[0m"
     ]
    },
    {
     "name": "stdout",
     "output_type": "stream",
     "text": [
      "\r",
      "\u001b[2K     \u001b[91m━━━━━━━━━━━━━━━━━━━━━━━━━━━━━━━━━━━━\u001b[0m\u001b[91m╸\u001b[0m \u001b[32m776.3/776.3 MB\u001b[0m \u001b[31m156.4 MB/s\u001b[0m eta \u001b[36m0:00:01\u001b[0m\r",
      "\u001b[2K     \u001b[91m━━━━━━━━━━━━━━━━━━━━━━━━━━━━━━━━━━━━\u001b[0m\u001b[91m╸\u001b[0m \u001b[32m776.3/776.3 MB\u001b[0m \u001b[31m156.4 MB/s\u001b[0m eta \u001b[36m0:00:01\u001b[0m"
     ]
    },
    {
     "name": "stdout",
     "output_type": "stream",
     "text": [
      "\r",
      "\u001b[2K     \u001b[91m━━━━━━━━━━━━━━━━━━━━━━━━━━━━━━━━━━━━\u001b[0m\u001b[91m╸\u001b[0m \u001b[32m776.3/776.3 MB\u001b[0m \u001b[31m156.4 MB/s\u001b[0m eta \u001b[36m0:00:01\u001b[0m"
     ]
    },
    {
     "name": "stdout",
     "output_type": "stream",
     "text": [
      "\r",
      "\u001b[2K     \u001b[91m━━━━━━━━━━━━━━━━━━━━━━━━━━━━━━━━━━━━\u001b[0m\u001b[91m╸\u001b[0m \u001b[32m776.3/776.3 MB\u001b[0m \u001b[31m156.4 MB/s\u001b[0m eta \u001b[36m0:00:01\u001b[0m"
     ]
    },
    {
     "name": "stdout",
     "output_type": "stream",
     "text": [
      "\r",
      "\u001b[2K     \u001b[91m━━━━━━━━━━━━━━━━━━━━━━━━━━━━━━━━━━━━\u001b[0m\u001b[91m╸\u001b[0m \u001b[32m776.3/776.3 MB\u001b[0m \u001b[31m156.4 MB/s\u001b[0m eta \u001b[36m0:00:01\u001b[0m\r",
      "\u001b[2K     \u001b[91m━━━━━━━━━━━━━━━━━━━━━━━━━━━━━━━━━━━━\u001b[0m\u001b[91m╸\u001b[0m \u001b[32m776.3/776.3 MB\u001b[0m \u001b[31m156.4 MB/s\u001b[0m eta \u001b[36m0:00:01\u001b[0m"
     ]
    },
    {
     "name": "stdout",
     "output_type": "stream",
     "text": [
      "\r",
      "\u001b[2K     \u001b[91m━━━━━━━━━━━━━━━━━━━━━━━━━━━━━━━━━━━━\u001b[0m\u001b[91m╸\u001b[0m \u001b[32m776.3/776.3 MB\u001b[0m \u001b[31m156.4 MB/s\u001b[0m eta \u001b[36m0:00:01\u001b[0m"
     ]
    },
    {
     "name": "stdout",
     "output_type": "stream",
     "text": [
      "\r",
      "\u001b[2K     \u001b[91m━━━━━━━━━━━━━━━━━━━━━━━━━━━━━━━━━━━━\u001b[0m\u001b[91m╸\u001b[0m \u001b[32m776.3/776.3 MB\u001b[0m \u001b[31m156.4 MB/s\u001b[0m eta \u001b[36m0:00:01\u001b[0m"
     ]
    },
    {
     "name": "stdout",
     "output_type": "stream",
     "text": [
      "\r",
      "\u001b[2K     \u001b[91m━━━━━━━━━━━━━━━━━━━━━━━━━━━━━━━━━━━━\u001b[0m\u001b[91m╸\u001b[0m \u001b[32m776.3/776.3 MB\u001b[0m \u001b[31m156.4 MB/s\u001b[0m eta \u001b[36m0:00:01\u001b[0m\r",
      "\u001b[2K     \u001b[91m━━━━━━━━━━━━━━━━━━━━━━━━━━━━━━━━━━━━\u001b[0m\u001b[91m╸\u001b[0m \u001b[32m776.3/776.3 MB\u001b[0m \u001b[31m156.4 MB/s\u001b[0m eta \u001b[36m0:00:01\u001b[0m"
     ]
    },
    {
     "name": "stdout",
     "output_type": "stream",
     "text": [
      "\r",
      "\u001b[2K     \u001b[91m━━━━━━━━━━━━━━━━━━━━━━━━━━━━━━━━━━━━\u001b[0m\u001b[91m╸\u001b[0m \u001b[32m776.3/776.3 MB\u001b[0m \u001b[31m156.4 MB/s\u001b[0m eta \u001b[36m0:00:01\u001b[0m"
     ]
    },
    {
     "name": "stdout",
     "output_type": "stream",
     "text": [
      "\r",
      "\u001b[2K     \u001b[91m━━━━━━━━━━━━━━━━━━━━━━━━━━━━━━━━━━━━\u001b[0m\u001b[91m╸\u001b[0m \u001b[32m776.3/776.3 MB\u001b[0m \u001b[31m156.4 MB/s\u001b[0m eta \u001b[36m0:00:01\u001b[0m\r",
      "\u001b[2K     \u001b[91m━━━━━━━━━━━━━━━━━━━━━━━━━━━━━━━━━━━━\u001b[0m\u001b[91m╸\u001b[0m \u001b[32m776.3/776.3 MB\u001b[0m \u001b[31m156.4 MB/s\u001b[0m eta \u001b[36m0:00:01\u001b[0m"
     ]
    },
    {
     "name": "stdout",
     "output_type": "stream",
     "text": [
      "\r",
      "\u001b[2K     \u001b[91m━━━━━━━━━━━━━━━━━━━━━━━━━━━━━━━━━━━━\u001b[0m\u001b[91m╸\u001b[0m \u001b[32m776.3/776.3 MB\u001b[0m \u001b[31m156.4 MB/s\u001b[0m eta \u001b[36m0:00:01\u001b[0m"
     ]
    },
    {
     "name": "stdout",
     "output_type": "stream",
     "text": [
      "\r",
      "\u001b[2K     \u001b[91m━━━━━━━━━━━━━━━━━━━━━━━━━━━━━━━━━━━━\u001b[0m\u001b[91m╸\u001b[0m \u001b[32m776.3/776.3 MB\u001b[0m \u001b[31m156.4 MB/s\u001b[0m eta \u001b[36m0:00:01\u001b[0m"
     ]
    },
    {
     "name": "stdout",
     "output_type": "stream",
     "text": [
      "\r",
      "\u001b[2K     \u001b[91m━━━━━━━━━━━━━━━━━━━━━━━━━━━━━━━━━━━━\u001b[0m\u001b[91m╸\u001b[0m \u001b[32m776.3/776.3 MB\u001b[0m \u001b[31m156.4 MB/s\u001b[0m eta \u001b[36m0:00:01\u001b[0m\r",
      "\u001b[2K     \u001b[91m━━━━━━━━━━━━━━━━━━━━━━━━━━━━━━━━━━━━\u001b[0m\u001b[91m╸\u001b[0m \u001b[32m776.3/776.3 MB\u001b[0m \u001b[31m156.4 MB/s\u001b[0m eta \u001b[36m0:00:01\u001b[0m"
     ]
    },
    {
     "name": "stdout",
     "output_type": "stream",
     "text": [
      "\r",
      "\u001b[2K     \u001b[91m━━━━━━━━━━━━━━━━━━━━━━━━━━━━━━━━━━━━\u001b[0m\u001b[91m╸\u001b[0m \u001b[32m776.3/776.3 MB\u001b[0m \u001b[31m156.4 MB/s\u001b[0m eta \u001b[36m0:00:01\u001b[0m"
     ]
    },
    {
     "name": "stdout",
     "output_type": "stream",
     "text": [
      "\r",
      "\u001b[2K     \u001b[91m━━━━━━━━━━━━━━━━━━━━━━━━━━━━━━━━━━━━\u001b[0m\u001b[91m╸\u001b[0m \u001b[32m776.3/776.3 MB\u001b[0m \u001b[31m156.4 MB/s\u001b[0m eta \u001b[36m0:00:01\u001b[0m\r",
      "\u001b[2K     \u001b[91m━━━━━━━━━━━━━━━━━━━━━━━━━━━━━━━━━━━━\u001b[0m\u001b[91m╸\u001b[0m \u001b[32m776.3/776.3 MB\u001b[0m \u001b[31m156.4 MB/s\u001b[0m eta \u001b[36m0:00:01\u001b[0m"
     ]
    },
    {
     "name": "stdout",
     "output_type": "stream",
     "text": [
      "\r",
      "\u001b[2K     \u001b[91m━━━━━━━━━━━━━━━━━━━━━━━━━━━━━━━━━━━━\u001b[0m\u001b[91m╸\u001b[0m \u001b[32m776.3/776.3 MB\u001b[0m \u001b[31m156.4 MB/s\u001b[0m eta \u001b[36m0:00:01\u001b[0m\r",
      "\u001b[2K     \u001b[91m━━━━━━━━━━━━━━━━━━━━━━━━━━━━━━━━━━━━\u001b[0m\u001b[91m╸\u001b[0m \u001b[32m776.3/776.3 MB\u001b[0m \u001b[31m156.4 MB/s\u001b[0m eta \u001b[36m0:00:01\u001b[0m"
     ]
    },
    {
     "name": "stdout",
     "output_type": "stream",
     "text": [
      "\r",
      "\u001b[2K     \u001b[91m━━━━━━━━━━━━━━━━━━━━━━━━━━━━━━━━━━━━\u001b[0m\u001b[91m╸\u001b[0m \u001b[32m776.3/776.3 MB\u001b[0m \u001b[31m156.4 MB/s\u001b[0m eta \u001b[36m0:00:01\u001b[0m"
     ]
    },
    {
     "name": "stdout",
     "output_type": "stream",
     "text": [
      "\r",
      "\u001b[2K     \u001b[91m━━━━━━━━━━━━━━━━━━━━━━━━━━━━━━━━━━━━\u001b[0m\u001b[91m╸\u001b[0m \u001b[32m776.3/776.3 MB\u001b[0m \u001b[31m156.4 MB/s\u001b[0m eta \u001b[36m0:00:01\u001b[0m\r",
      "\u001b[2K     \u001b[91m━━━━━━━━━━━━━━━━━━━━━━━━━━━━━━━━━━━━\u001b[0m\u001b[91m╸\u001b[0m \u001b[32m776.3/776.3 MB\u001b[0m \u001b[31m156.4 MB/s\u001b[0m eta \u001b[36m0:00:01\u001b[0m"
     ]
    },
    {
     "name": "stdout",
     "output_type": "stream",
     "text": [
      "\r",
      "\u001b[2K     \u001b[91m━━━━━━━━━━━━━━━━━━━━━━━━━━━━━━━━━━━━\u001b[0m\u001b[91m╸\u001b[0m \u001b[32m776.3/776.3 MB\u001b[0m \u001b[31m156.4 MB/s\u001b[0m eta \u001b[36m0:00:01\u001b[0m"
     ]
    },
    {
     "name": "stdout",
     "output_type": "stream",
     "text": [
      "\r",
      "\u001b[2K     \u001b[91m━━━━━━━━━━━━━━━━━━━━━━━━━━━━━━━━━━━━\u001b[0m\u001b[91m╸\u001b[0m \u001b[32m776.3/776.3 MB\u001b[0m \u001b[31m156.4 MB/s\u001b[0m eta \u001b[36m0:00:01\u001b[0m"
     ]
    },
    {
     "name": "stdout",
     "output_type": "stream",
     "text": [
      "\r",
      "\u001b[2K     \u001b[91m━━━━━━━━━━━━━━━━━━━━━━━━━━━━━━━━━━━━\u001b[0m\u001b[91m╸\u001b[0m \u001b[32m776.3/776.3 MB\u001b[0m \u001b[31m156.4 MB/s\u001b[0m eta \u001b[36m0:00:01\u001b[0m\r",
      "\u001b[2K     \u001b[91m━━━━━━━━━━━━━━━━━━━━━━━━━━━━━━━━━━━━\u001b[0m\u001b[91m╸\u001b[0m \u001b[32m776.3/776.3 MB\u001b[0m \u001b[31m156.4 MB/s\u001b[0m eta \u001b[36m0:00:01\u001b[0m"
     ]
    },
    {
     "name": "stdout",
     "output_type": "stream",
     "text": [
      "\r",
      "\u001b[2K     \u001b[91m━━━━━━━━━━━━━━━━━━━━━━━━━━━━━━━━━━━━\u001b[0m\u001b[91m╸\u001b[0m \u001b[32m776.3/776.3 MB\u001b[0m \u001b[31m156.4 MB/s\u001b[0m eta \u001b[36m0:00:01\u001b[0m"
     ]
    },
    {
     "name": "stdout",
     "output_type": "stream",
     "text": [
      "\r",
      "\u001b[2K     \u001b[91m━━━━━━━━━━━━━━━━━━━━━━━━━━━━━━━━━━━━\u001b[0m\u001b[91m╸\u001b[0m \u001b[32m776.3/776.3 MB\u001b[0m \u001b[31m156.4 MB/s\u001b[0m eta \u001b[36m0:00:01\u001b[0m\r",
      "\u001b[2K     \u001b[91m━━━━━━━━━━━━━━━━━━━━━━━━━━━━━━━━━━━━\u001b[0m\u001b[91m╸\u001b[0m \u001b[32m776.3/776.3 MB\u001b[0m \u001b[31m156.4 MB/s\u001b[0m eta \u001b[36m0:00:01\u001b[0m"
     ]
    },
    {
     "name": "stdout",
     "output_type": "stream",
     "text": [
      "\r",
      "\u001b[2K     \u001b[91m━━━━━━━━━━━━━━━━━━━━━━━━━━━━━━━━━━━━\u001b[0m\u001b[91m╸\u001b[0m \u001b[32m776.3/776.3 MB\u001b[0m \u001b[31m156.4 MB/s\u001b[0m eta \u001b[36m0:00:01\u001b[0m"
     ]
    },
    {
     "name": "stdout",
     "output_type": "stream",
     "text": [
      "\r",
      "\u001b[2K     \u001b[91m━━━━━━━━━━━━━━━━━━━━━━━━━━━━━━━━━━━━\u001b[0m\u001b[91m╸\u001b[0m \u001b[32m776.3/776.3 MB\u001b[0m \u001b[31m156.4 MB/s\u001b[0m eta \u001b[36m0:00:01\u001b[0m"
     ]
    },
    {
     "name": "stdout",
     "output_type": "stream",
     "text": [
      "\r",
      "\u001b[2K     \u001b[91m━━━━━━━━━━━━━━━━━━━━━━━━━━━━━━━━━━━━\u001b[0m\u001b[91m╸\u001b[0m \u001b[32m776.3/776.3 MB\u001b[0m \u001b[31m156.4 MB/s\u001b[0m eta \u001b[36m0:00:01\u001b[0m\r",
      "\u001b[2K     \u001b[91m━━━━━━━━━━━━━━━━━━━━━━━━━━━━━━━━━━━━\u001b[0m\u001b[91m╸\u001b[0m \u001b[32m776.3/776.3 MB\u001b[0m \u001b[31m156.4 MB/s\u001b[0m eta \u001b[36m0:00:01\u001b[0m"
     ]
    },
    {
     "name": "stdout",
     "output_type": "stream",
     "text": [
      "\r",
      "\u001b[2K     \u001b[91m━━━━━━━━━━━━━━━━━━━━━━━━━━━━━━━━━━━━\u001b[0m\u001b[91m╸\u001b[0m \u001b[32m776.3/776.3 MB\u001b[0m \u001b[31m156.4 MB/s\u001b[0m eta \u001b[36m0:00:01\u001b[0m"
     ]
    },
    {
     "name": "stdout",
     "output_type": "stream",
     "text": [
      "\r",
      "\u001b[2K     \u001b[91m━━━━━━━━━━━━━━━━━━━━━━━━━━━━━━━━━━━━\u001b[0m\u001b[91m╸\u001b[0m \u001b[32m776.3/776.3 MB\u001b[0m \u001b[31m156.4 MB/s\u001b[0m eta \u001b[36m0:00:01\u001b[0m\r",
      "\u001b[2K     \u001b[91m━━━━━━━━━━━━━━━━━━━━━━━━━━━━━━━━━━━━\u001b[0m\u001b[91m╸\u001b[0m \u001b[32m776.3/776.3 MB\u001b[0m \u001b[31m156.4 MB/s\u001b[0m eta \u001b[36m0:00:01\u001b[0m"
     ]
    },
    {
     "name": "stdout",
     "output_type": "stream",
     "text": [
      "\r",
      "\u001b[2K     \u001b[91m━━━━━━━━━━━━━━━━━━━━━━━━━━━━━━━━━━━━\u001b[0m\u001b[91m╸\u001b[0m \u001b[32m776.3/776.3 MB\u001b[0m \u001b[31m156.4 MB/s\u001b[0m eta \u001b[36m0:00:01\u001b[0m"
     ]
    },
    {
     "name": "stdout",
     "output_type": "stream",
     "text": [
      "\r",
      "\u001b[2K     \u001b[91m━━━━━━━━━━━━━━━━━━━━━━━━━━━━━━━━━━━━\u001b[0m\u001b[91m╸\u001b[0m \u001b[32m776.3/776.3 MB\u001b[0m \u001b[31m156.4 MB/s\u001b[0m eta \u001b[36m0:00:01\u001b[0m\r",
      "\u001b[2K     \u001b[91m━━━━━━━━━━━━━━━━━━━━━━━━━━━━━━━━━━━━\u001b[0m\u001b[91m╸\u001b[0m \u001b[32m776.3/776.3 MB\u001b[0m \u001b[31m156.4 MB/s\u001b[0m eta \u001b[36m0:00:01\u001b[0m"
     ]
    },
    {
     "name": "stdout",
     "output_type": "stream",
     "text": [
      "\r",
      "\u001b[2K     \u001b[91m━━━━━━━━━━━━━━━━━━━━━━━━━━━━━━━━━━━━\u001b[0m\u001b[91m╸\u001b[0m \u001b[32m776.3/776.3 MB\u001b[0m \u001b[31m156.4 MB/s\u001b[0m eta \u001b[36m0:00:01\u001b[0m"
     ]
    },
    {
     "name": "stdout",
     "output_type": "stream",
     "text": [
      "\r",
      "\u001b[2K     \u001b[91m━━━━━━━━━━━━━━━━━━━━━━━━━━━━━━━━━━━━\u001b[0m\u001b[91m╸\u001b[0m \u001b[32m776.3/776.3 MB\u001b[0m \u001b[31m156.4 MB/s\u001b[0m eta \u001b[36m0:00:01\u001b[0m"
     ]
    },
    {
     "name": "stdout",
     "output_type": "stream",
     "text": [
      "\r",
      "\u001b[2K     \u001b[91m━━━━━━━━━━━━━━━━━━━━━━━━━━━━━━━━━━━━\u001b[0m\u001b[91m╸\u001b[0m \u001b[32m776.3/776.3 MB\u001b[0m \u001b[31m156.4 MB/s\u001b[0m eta \u001b[36m0:00:01\u001b[0m\r",
      "\u001b[2K     \u001b[91m━━━━━━━━━━━━━━━━━━━━━━━━━━━━━━━━━━━━\u001b[0m\u001b[91m╸\u001b[0m \u001b[32m776.3/776.3 MB\u001b[0m \u001b[31m156.4 MB/s\u001b[0m eta \u001b[36m0:00:01\u001b[0m"
     ]
    },
    {
     "name": "stdout",
     "output_type": "stream",
     "text": [
      "\r",
      "\u001b[2K     \u001b[91m━━━━━━━━━━━━━━━━━━━━━━━━━━━━━━━━━━━━\u001b[0m\u001b[91m╸\u001b[0m \u001b[32m776.3/776.3 MB\u001b[0m \u001b[31m156.4 MB/s\u001b[0m eta \u001b[36m0:00:01\u001b[0m"
     ]
    },
    {
     "name": "stdout",
     "output_type": "stream",
     "text": [
      "\r",
      "\u001b[2K     \u001b[91m━━━━━━━━━━━━━━━━━━━━━━━━━━━━━━━━━━━━\u001b[0m\u001b[91m╸\u001b[0m \u001b[32m776.3/776.3 MB\u001b[0m \u001b[31m156.4 MB/s\u001b[0m eta \u001b[36m0:00:01\u001b[0m\r",
      "\u001b[2K     \u001b[91m━━━━━━━━━━━━━━━━━━━━━━━━━━━━━━━━━━━━\u001b[0m\u001b[91m╸\u001b[0m \u001b[32m776.3/776.3 MB\u001b[0m \u001b[31m156.4 MB/s\u001b[0m eta \u001b[36m0:00:01\u001b[0m"
     ]
    },
    {
     "name": "stdout",
     "output_type": "stream",
     "text": [
      "\r",
      "\u001b[2K     \u001b[91m━━━━━━━━━━━━━━━━━━━━━━━━━━━━━━━━━━━━\u001b[0m\u001b[91m╸\u001b[0m \u001b[32m776.3/776.3 MB\u001b[0m \u001b[31m156.4 MB/s\u001b[0m eta \u001b[36m0:00:01\u001b[0m"
     ]
    },
    {
     "name": "stdout",
     "output_type": "stream",
     "text": [
      "\r",
      "\u001b[2K     \u001b[91m━━━━━━━━━━━━━━━━━━━━━━━━━━━━━━━━━━━━\u001b[0m\u001b[91m╸\u001b[0m \u001b[32m776.3/776.3 MB\u001b[0m \u001b[31m156.4 MB/s\u001b[0m eta \u001b[36m0:00:01\u001b[0m"
     ]
    },
    {
     "name": "stdout",
     "output_type": "stream",
     "text": [
      "\r",
      "\u001b[2K     \u001b[91m━━━━━━━━━━━━━━━━━━━━━━━━━━━━━━━━━━━━\u001b[0m\u001b[91m╸\u001b[0m \u001b[32m776.3/776.3 MB\u001b[0m \u001b[31m156.4 MB/s\u001b[0m eta \u001b[36m0:00:01\u001b[0m\r",
      "\u001b[2K     \u001b[91m━━━━━━━━━━━━━━━━━━━━━━━━━━━━━━━━━━━━\u001b[0m\u001b[91m╸\u001b[0m \u001b[32m776.3/776.3 MB\u001b[0m \u001b[31m156.4 MB/s\u001b[0m eta \u001b[36m0:00:01\u001b[0m"
     ]
    },
    {
     "name": "stdout",
     "output_type": "stream",
     "text": [
      "\r",
      "\u001b[2K     \u001b[91m━━━━━━━━━━━━━━━━━━━━━━━━━━━━━━━━━━━━\u001b[0m\u001b[91m╸\u001b[0m \u001b[32m776.3/776.3 MB\u001b[0m \u001b[31m156.4 MB/s\u001b[0m eta \u001b[36m0:00:01\u001b[0m"
     ]
    },
    {
     "name": "stdout",
     "output_type": "stream",
     "text": [
      "\r",
      "\u001b[2K     \u001b[91m━━━━━━━━━━━━━━━━━━━━━━━━━━━━━━━━━━━━\u001b[0m\u001b[91m╸\u001b[0m \u001b[32m776.3/776.3 MB\u001b[0m \u001b[31m156.4 MB/s\u001b[0m eta \u001b[36m0:00:01\u001b[0m\r",
      "\u001b[2K     \u001b[91m━━━━━━━━━━━━━━━━━━━━━━━━━━━━━━━━━━━━\u001b[0m\u001b[91m╸\u001b[0m \u001b[32m776.3/776.3 MB\u001b[0m \u001b[31m156.4 MB/s\u001b[0m eta \u001b[36m0:00:01\u001b[0m"
     ]
    },
    {
     "name": "stdout",
     "output_type": "stream",
     "text": [
      "\r",
      "\u001b[2K     \u001b[91m━━━━━━━━━━━━━━━━━━━━━━━━━━━━━━━━━━━━\u001b[0m\u001b[91m╸\u001b[0m \u001b[32m776.3/776.3 MB\u001b[0m \u001b[31m156.4 MB/s\u001b[0m eta \u001b[36m0:00:01\u001b[0m"
     ]
    },
    {
     "name": "stdout",
     "output_type": "stream",
     "text": [
      "\r",
      "\u001b[2K     \u001b[91m━━━━━━━━━━━━━━━━━━━━━━━━━━━━━━━━━━━━\u001b[0m\u001b[91m╸\u001b[0m \u001b[32m776.3/776.3 MB\u001b[0m \u001b[31m156.4 MB/s\u001b[0m eta \u001b[36m0:00:01\u001b[0m\r",
      "\u001b[2K     \u001b[91m━━━━━━━━━━━━━━━━━━━━━━━━━━━━━━━━━━━━\u001b[0m\u001b[91m╸\u001b[0m \u001b[32m776.3/776.3 MB\u001b[0m \u001b[31m156.4 MB/s\u001b[0m eta \u001b[36m0:00:01\u001b[0m"
     ]
    },
    {
     "name": "stdout",
     "output_type": "stream",
     "text": [
      "\r",
      "\u001b[2K     \u001b[91m━━━━━━━━━━━━━━━━━━━━━━━━━━━━━━━━━━━━\u001b[0m\u001b[91m╸\u001b[0m \u001b[32m776.3/776.3 MB\u001b[0m \u001b[31m156.4 MB/s\u001b[0m eta \u001b[36m0:00:01\u001b[0m"
     ]
    },
    {
     "name": "stdout",
     "output_type": "stream",
     "text": [
      "\r",
      "\u001b[2K     \u001b[91m━━━━━━━━━━━━━━━━━━━━━━━━━━━━━━━━━━━━\u001b[0m\u001b[91m╸\u001b[0m \u001b[32m776.3/776.3 MB\u001b[0m \u001b[31m156.4 MB/s\u001b[0m eta \u001b[36m0:00:01\u001b[0m"
     ]
    },
    {
     "name": "stdout",
     "output_type": "stream",
     "text": [
      "\r",
      "\u001b[2K     \u001b[91m━━━━━━━━━━━━━━━━━━━━━━━━━━━━━━━━━━━━\u001b[0m\u001b[91m╸\u001b[0m \u001b[32m776.3/776.3 MB\u001b[0m \u001b[31m156.4 MB/s\u001b[0m eta \u001b[36m0:00:01\u001b[0m\r",
      "\u001b[2K     \u001b[91m━━━━━━━━━━━━━━━━━━━━━━━━━━━━━━━━━━━━\u001b[0m\u001b[91m╸\u001b[0m \u001b[32m776.3/776.3 MB\u001b[0m \u001b[31m156.4 MB/s\u001b[0m eta \u001b[36m0:00:01\u001b[0m"
     ]
    },
    {
     "name": "stdout",
     "output_type": "stream",
     "text": [
      "\r",
      "\u001b[2K     \u001b[91m━━━━━━━━━━━━━━━━━━━━━━━━━━━━━━━━━━━━\u001b[0m\u001b[91m╸\u001b[0m \u001b[32m776.3/776.3 MB\u001b[0m \u001b[31m156.4 MB/s\u001b[0m eta \u001b[36m0:00:01\u001b[0m"
     ]
    },
    {
     "name": "stdout",
     "output_type": "stream",
     "text": [
      "\r",
      "\u001b[2K     \u001b[91m━━━━━━━━━━━━━━━━━━━━━━━━━━━━━━━━━━━━\u001b[0m\u001b[91m╸\u001b[0m \u001b[32m776.3/776.3 MB\u001b[0m \u001b[31m156.4 MB/s\u001b[0m eta \u001b[36m0:00:01\u001b[0m\r",
      "\u001b[2K     \u001b[91m━━━━━━━━━━━━━━━━━━━━━━━━━━━━━━━━━━━━\u001b[0m\u001b[91m╸\u001b[0m \u001b[32m776.3/776.3 MB\u001b[0m \u001b[31m156.4 MB/s\u001b[0m eta \u001b[36m0:00:01\u001b[0m"
     ]
    },
    {
     "name": "stdout",
     "output_type": "stream",
     "text": [
      "\r",
      "\u001b[2K     \u001b[91m━━━━━━━━━━━━━━━━━━━━━━━━━━━━━━━━━━━━\u001b[0m\u001b[91m╸\u001b[0m \u001b[32m776.3/776.3 MB\u001b[0m \u001b[31m156.4 MB/s\u001b[0m eta \u001b[36m0:00:01\u001b[0m"
     ]
    },
    {
     "name": "stdout",
     "output_type": "stream",
     "text": [
      "\r",
      "\u001b[2K     \u001b[91m━━━━━━━━━━━━━━━━━━━━━━━━━━━━━━━━━━━━\u001b[0m\u001b[91m╸\u001b[0m \u001b[32m776.3/776.3 MB\u001b[0m \u001b[31m156.4 MB/s\u001b[0m eta \u001b[36m0:00:01\u001b[0m\r",
      "\u001b[2K     \u001b[91m━━━━━━━━━━━━━━━━━━━━━━━━━━━━━━━━━━━━\u001b[0m\u001b[91m╸\u001b[0m \u001b[32m776.3/776.3 MB\u001b[0m \u001b[31m156.4 MB/s\u001b[0m eta \u001b[36m0:00:01\u001b[0m"
     ]
    },
    {
     "name": "stdout",
     "output_type": "stream",
     "text": [
      "\r",
      "\u001b[2K     \u001b[91m━━━━━━━━━━━━━━━━━━━━━━━━━━━━━━━━━━━━\u001b[0m\u001b[91m╸\u001b[0m \u001b[32m776.3/776.3 MB\u001b[0m \u001b[31m156.4 MB/s\u001b[0m eta \u001b[36m0:00:01\u001b[0m"
     ]
    },
    {
     "name": "stdout",
     "output_type": "stream",
     "text": [
      "\r",
      "\u001b[2K     \u001b[91m━━━━━━━━━━━━━━━━━━━━━━━━━━━━━━━━━━━━\u001b[0m\u001b[91m╸\u001b[0m \u001b[32m776.3/776.3 MB\u001b[0m \u001b[31m156.4 MB/s\u001b[0m eta \u001b[36m0:00:01\u001b[0m"
     ]
    },
    {
     "name": "stdout",
     "output_type": "stream",
     "text": [
      "\r",
      "\u001b[2K     \u001b[91m━━━━━━━━━━━━━━━━━━━━━━━━━━━━━━━━━━━━\u001b[0m\u001b[91m╸\u001b[0m \u001b[32m776.3/776.3 MB\u001b[0m \u001b[31m156.4 MB/s\u001b[0m eta \u001b[36m0:00:01\u001b[0m\r",
      "\u001b[2K     \u001b[91m━━━━━━━━━━━━━━━━━━━━━━━━━━━━━━━━━━━━\u001b[0m\u001b[91m╸\u001b[0m \u001b[32m776.3/776.3 MB\u001b[0m \u001b[31m156.4 MB/s\u001b[0m eta \u001b[36m0:00:01\u001b[0m"
     ]
    },
    {
     "name": "stdout",
     "output_type": "stream",
     "text": [
      "\r",
      "\u001b[2K     \u001b[91m━━━━━━━━━━━━━━━━━━━━━━━━━━━━━━━━━━━━\u001b[0m\u001b[91m╸\u001b[0m \u001b[32m776.3/776.3 MB\u001b[0m \u001b[31m156.4 MB/s\u001b[0m eta \u001b[36m0:00:01\u001b[0m"
     ]
    },
    {
     "name": "stdout",
     "output_type": "stream",
     "text": [
      "\r",
      "\u001b[2K     \u001b[91m━━━━━━━━━━━━━━━━━━━━━━━━━━━━━━━━━━━━\u001b[0m\u001b[91m╸\u001b[0m \u001b[32m776.3/776.3 MB\u001b[0m \u001b[31m156.4 MB/s\u001b[0m eta \u001b[36m0:00:01\u001b[0m\r",
      "\u001b[2K     \u001b[91m━━━━━━━━━━━━━━━━━━━━━━━━━━━━━━━━━━━━\u001b[0m\u001b[91m╸\u001b[0m \u001b[32m776.3/776.3 MB\u001b[0m \u001b[31m156.4 MB/s\u001b[0m eta \u001b[36m0:00:01\u001b[0m"
     ]
    },
    {
     "name": "stdout",
     "output_type": "stream",
     "text": [
      "\r",
      "\u001b[2K     \u001b[91m━━━━━━━━━━━━━━━━━━━━━━━━━━━━━━━━━━━━\u001b[0m\u001b[91m╸\u001b[0m \u001b[32m776.3/776.3 MB\u001b[0m \u001b[31m156.4 MB/s\u001b[0m eta \u001b[36m0:00:01\u001b[0m"
     ]
    },
    {
     "name": "stdout",
     "output_type": "stream",
     "text": [
      "\r",
      "\u001b[2K     \u001b[91m━━━━━━━━━━━━━━━━━━━━━━━━━━━━━━━━━━━━\u001b[0m\u001b[91m╸\u001b[0m \u001b[32m776.3/776.3 MB\u001b[0m \u001b[31m156.4 MB/s\u001b[0m eta \u001b[36m0:00:01\u001b[0m\r",
      "\u001b[2K     \u001b[91m━━━━━━━━━━━━━━━━━━━━━━━━━━━━━━━━━━━━\u001b[0m\u001b[91m╸\u001b[0m \u001b[32m776.3/776.3 MB\u001b[0m \u001b[31m156.4 MB/s\u001b[0m eta \u001b[36m0:00:01\u001b[0m"
     ]
    },
    {
     "name": "stdout",
     "output_type": "stream",
     "text": [
      "\r",
      "\u001b[2K     \u001b[91m━━━━━━━━━━━━━━━━━━━━━━━━━━━━━━━━━━━━\u001b[0m\u001b[91m╸\u001b[0m \u001b[32m776.3/776.3 MB\u001b[0m \u001b[31m156.4 MB/s\u001b[0m eta \u001b[36m0:00:01\u001b[0m"
     ]
    },
    {
     "name": "stdout",
     "output_type": "stream",
     "text": [
      "\r",
      "\u001b[2K     \u001b[91m━━━━━━━━━━━━━━━━━━━━━━━━━━━━━━━━━━━━\u001b[0m\u001b[91m╸\u001b[0m \u001b[32m776.3/776.3 MB\u001b[0m \u001b[31m156.4 MB/s\u001b[0m eta \u001b[36m0:00:01\u001b[0m"
     ]
    },
    {
     "name": "stdout",
     "output_type": "stream",
     "text": [
      "\r",
      "\u001b[2K     \u001b[91m━━━━━━━━━━━━━━━━━━━━━━━━━━━━━━━━━━━━\u001b[0m\u001b[91m╸\u001b[0m \u001b[32m776.3/776.3 MB\u001b[0m \u001b[31m156.4 MB/s\u001b[0m eta \u001b[36m0:00:01\u001b[0m\r",
      "\u001b[2K     \u001b[91m━━━━━━━━━━━━━━━━━━━━━━━━━━━━━━━━━━━━\u001b[0m\u001b[91m╸\u001b[0m \u001b[32m776.3/776.3 MB\u001b[0m \u001b[31m156.4 MB/s\u001b[0m eta \u001b[36m0:00:01\u001b[0m"
     ]
    },
    {
     "name": "stdout",
     "output_type": "stream",
     "text": [
      "\r",
      "\u001b[2K     \u001b[91m━━━━━━━━━━━━━━━━━━━━━━━━━━━━━━━━━━━━\u001b[0m\u001b[91m╸\u001b[0m \u001b[32m776.3/776.3 MB\u001b[0m \u001b[31m156.4 MB/s\u001b[0m eta \u001b[36m0:00:01\u001b[0m"
     ]
    },
    {
     "name": "stdout",
     "output_type": "stream",
     "text": [
      "\r",
      "\u001b[2K     \u001b[91m━━━━━━━━━━━━━━━━━━━━━━━━━━━━━━━━━━━━\u001b[0m\u001b[91m╸\u001b[0m \u001b[32m776.3/776.3 MB\u001b[0m \u001b[31m156.4 MB/s\u001b[0m eta \u001b[36m0:00:01\u001b[0m\r",
      "\u001b[2K     \u001b[91m━━━━━━━━━━━━━━━━━━━━━━━━━━━━━━━━━━━━\u001b[0m\u001b[91m╸\u001b[0m \u001b[32m776.3/776.3 MB\u001b[0m \u001b[31m156.4 MB/s\u001b[0m eta \u001b[36m0:00:01\u001b[0m"
     ]
    },
    {
     "name": "stdout",
     "output_type": "stream",
     "text": [
      "\r",
      "\u001b[2K     \u001b[91m━━━━━━━━━━━━━━━━━━━━━━━━━━━━━━━━━━━━\u001b[0m\u001b[91m╸\u001b[0m \u001b[32m776.3/776.3 MB\u001b[0m \u001b[31m156.4 MB/s\u001b[0m eta \u001b[36m0:00:01\u001b[0m"
     ]
    },
    {
     "name": "stdout",
     "output_type": "stream",
     "text": [
      "\r",
      "\u001b[2K     \u001b[91m━━━━━━━━━━━━━━━━━━━━━━━━━━━━━━━━━━━━\u001b[0m\u001b[91m╸\u001b[0m \u001b[32m776.3/776.3 MB\u001b[0m \u001b[31m156.4 MB/s\u001b[0m eta \u001b[36m0:00:01\u001b[0m\r",
      "\u001b[2K     \u001b[91m━━━━━━━━━━━━━━━━━━━━━━━━━━━━━━━━━━━━\u001b[0m\u001b[91m╸\u001b[0m \u001b[32m776.3/776.3 MB\u001b[0m \u001b[31m156.4 MB/s\u001b[0m eta \u001b[36m0:00:01\u001b[0m"
     ]
    },
    {
     "name": "stdout",
     "output_type": "stream",
     "text": [
      "\r",
      "\u001b[2K     \u001b[91m━━━━━━━━━━━━━━━━━━━━━━━━━━━━━━━━━━━━\u001b[0m\u001b[91m╸\u001b[0m \u001b[32m776.3/776.3 MB\u001b[0m \u001b[31m156.4 MB/s\u001b[0m eta \u001b[36m0:00:01\u001b[0m"
     ]
    },
    {
     "name": "stdout",
     "output_type": "stream",
     "text": [
      "\r",
      "\u001b[2K     \u001b[91m━━━━━━━━━━━━━━━━━━━━━━━━━━━━━━━━━━━━\u001b[0m\u001b[91m╸\u001b[0m \u001b[32m776.3/776.3 MB\u001b[0m \u001b[31m156.4 MB/s\u001b[0m eta \u001b[36m0:00:01\u001b[0m"
     ]
    },
    {
     "name": "stdout",
     "output_type": "stream",
     "text": [
      "\r",
      "\u001b[2K     \u001b[91m━━━━━━━━━━━━━━━━━━━━━━━━━━━━━━━━━━━━\u001b[0m\u001b[91m╸\u001b[0m \u001b[32m776.3/776.3 MB\u001b[0m \u001b[31m156.4 MB/s\u001b[0m eta \u001b[36m0:00:01\u001b[0m\r",
      "\u001b[2K     \u001b[91m━━━━━━━━━━━━━━━━━━━━━━━━━━━━━━━━━━━━\u001b[0m\u001b[91m╸\u001b[0m \u001b[32m776.3/776.3 MB\u001b[0m \u001b[31m156.4 MB/s\u001b[0m eta \u001b[36m0:00:01\u001b[0m"
     ]
    },
    {
     "name": "stdout",
     "output_type": "stream",
     "text": [
      "\r",
      "\u001b[2K     \u001b[91m━━━━━━━━━━━━━━━━━━━━━━━━━━━━━━━━━━━━\u001b[0m\u001b[91m╸\u001b[0m \u001b[32m776.3/776.3 MB\u001b[0m \u001b[31m156.4 MB/s\u001b[0m eta \u001b[36m0:00:01\u001b[0m"
     ]
    },
    {
     "name": "stdout",
     "output_type": "stream",
     "text": [
      "\r",
      "\u001b[2K     \u001b[91m━━━━━━━━━━━━━━━━━━━━━━━━━━━━━━━━━━━━\u001b[0m\u001b[91m╸\u001b[0m \u001b[32m776.3/776.3 MB\u001b[0m \u001b[31m156.4 MB/s\u001b[0m eta \u001b[36m0:00:01\u001b[0m\r",
      "\u001b[2K     \u001b[91m━━━━━━━━━━━━━━━━━━━━━━━━━━━━━━━━━━━━\u001b[0m\u001b[91m╸\u001b[0m \u001b[32m776.3/776.3 MB\u001b[0m \u001b[31m156.4 MB/s\u001b[0m eta \u001b[36m0:00:01\u001b[0m"
     ]
    },
    {
     "name": "stdout",
     "output_type": "stream",
     "text": [
      "\r",
      "\u001b[2K     \u001b[91m━━━━━━━━━━━━━━━━━━━━━━━━━━━━━━━━━━━━\u001b[0m\u001b[91m╸\u001b[0m \u001b[32m776.3/776.3 MB\u001b[0m \u001b[31m156.4 MB/s\u001b[0m eta \u001b[36m0:00:01\u001b[0m"
     ]
    },
    {
     "name": "stdout",
     "output_type": "stream",
     "text": [
      "\r",
      "\u001b[2K     \u001b[91m━━━━━━━━━━━━━━━━━━━━━━━━━━━━━━━━━━━━\u001b[0m\u001b[91m╸\u001b[0m \u001b[32m776.3/776.3 MB\u001b[0m \u001b[31m156.4 MB/s\u001b[0m eta \u001b[36m0:00:01\u001b[0m\r",
      "\u001b[2K     \u001b[91m━━━━━━━━━━━━━━━━━━━━━━━━━━━━━━━━━━━━\u001b[0m\u001b[91m╸\u001b[0m \u001b[32m776.3/776.3 MB\u001b[0m \u001b[31m156.4 MB/s\u001b[0m eta \u001b[36m0:00:01\u001b[0m"
     ]
    },
    {
     "name": "stdout",
     "output_type": "stream",
     "text": [
      "\r",
      "\u001b[2K     \u001b[91m━━━━━━━━━━━━━━━━━━━━━━━━━━━━━━━━━━━━\u001b[0m\u001b[91m╸\u001b[0m \u001b[32m776.3/776.3 MB\u001b[0m \u001b[31m156.4 MB/s\u001b[0m eta \u001b[36m0:00:01\u001b[0m"
     ]
    },
    {
     "name": "stdout",
     "output_type": "stream",
     "text": [
      "\r",
      "\u001b[2K     \u001b[91m━━━━━━━━━━━━━━━━━━━━━━━━━━━━━━━━━━━━\u001b[0m\u001b[91m╸\u001b[0m \u001b[32m776.3/776.3 MB\u001b[0m \u001b[31m156.4 MB/s\u001b[0m eta \u001b[36m0:00:01\u001b[0m"
     ]
    },
    {
     "name": "stdout",
     "output_type": "stream",
     "text": [
      "\r",
      "\u001b[2K     \u001b[91m━━━━━━━━━━━━━━━━━━━━━━━━━━━━━━━━━━━━\u001b[0m\u001b[91m╸\u001b[0m \u001b[32m776.3/776.3 MB\u001b[0m \u001b[31m156.4 MB/s\u001b[0m eta \u001b[36m0:00:01\u001b[0m\r",
      "\u001b[2K     \u001b[91m━━━━━━━━━━━━━━━━━━━━━━━━━━━━━━━━━━━━\u001b[0m\u001b[91m╸\u001b[0m \u001b[32m776.3/776.3 MB\u001b[0m \u001b[31m156.4 MB/s\u001b[0m eta \u001b[36m0:00:01\u001b[0m"
     ]
    },
    {
     "name": "stdout",
     "output_type": "stream",
     "text": [
      "\r",
      "\u001b[2K     \u001b[91m━━━━━━━━━━━━━━━━━━━━━━━━━━━━━━━━━━━━\u001b[0m\u001b[91m╸\u001b[0m \u001b[32m776.3/776.3 MB\u001b[0m \u001b[31m156.4 MB/s\u001b[0m eta \u001b[36m0:00:01\u001b[0m"
     ]
    },
    {
     "name": "stdout",
     "output_type": "stream",
     "text": [
      "\r",
      "\u001b[2K     \u001b[91m━━━━━━━━━━━━━━━━━━━━━━━━━━━━━━━━━━━━\u001b[0m\u001b[91m╸\u001b[0m \u001b[32m776.3/776.3 MB\u001b[0m \u001b[31m156.4 MB/s\u001b[0m eta \u001b[36m0:00:01\u001b[0m\r",
      "\u001b[2K     \u001b[91m━━━━━━━━━━━━━━━━━━━━━━━━━━━━━━━━━━━━\u001b[0m\u001b[91m╸\u001b[0m \u001b[32m776.3/776.3 MB\u001b[0m \u001b[31m156.4 MB/s\u001b[0m eta \u001b[36m0:00:01\u001b[0m"
     ]
    },
    {
     "name": "stdout",
     "output_type": "stream",
     "text": [
      "\r",
      "\u001b[2K     \u001b[91m━━━━━━━━━━━━━━━━━━━━━━━━━━━━━━━━━━━━\u001b[0m\u001b[91m╸\u001b[0m \u001b[32m776.3/776.3 MB\u001b[0m \u001b[31m156.4 MB/s\u001b[0m eta \u001b[36m0:00:01\u001b[0m"
     ]
    },
    {
     "name": "stdout",
     "output_type": "stream",
     "text": [
      "\r",
      "\u001b[2K     \u001b[91m━━━━━━━━━━━━━━━━━━━━━━━━━━━━━━━━━━━━\u001b[0m\u001b[91m╸\u001b[0m \u001b[32m776.3/776.3 MB\u001b[0m \u001b[31m156.4 MB/s\u001b[0m eta \u001b[36m0:00:01\u001b[0m\r",
      "\u001b[2K     \u001b[91m━━━━━━━━━━━━━━━━━━━━━━━━━━━━━━━━━━━━\u001b[0m\u001b[91m╸\u001b[0m \u001b[32m776.3/776.3 MB\u001b[0m \u001b[31m156.4 MB/s\u001b[0m eta \u001b[36m0:00:01\u001b[0m"
     ]
    },
    {
     "name": "stdout",
     "output_type": "stream",
     "text": [
      "\r",
      "\u001b[2K     \u001b[91m━━━━━━━━━━━━━━━━━━━━━━━━━━━━━━━━━━━━\u001b[0m\u001b[91m╸\u001b[0m \u001b[32m776.3/776.3 MB\u001b[0m \u001b[31m156.4 MB/s\u001b[0m eta \u001b[36m0:00:01\u001b[0m"
     ]
    },
    {
     "name": "stdout",
     "output_type": "stream",
     "text": [
      "\r",
      "\u001b[2K     \u001b[91m━━━━━━━━━━━━━━━━━━━━━━━━━━━━━━━━━━━━\u001b[0m\u001b[91m╸\u001b[0m \u001b[32m776.3/776.3 MB\u001b[0m \u001b[31m156.4 MB/s\u001b[0m eta \u001b[36m0:00:01\u001b[0m\r",
      "\u001b[2K     \u001b[91m━━━━━━━━━━━━━━━━━━━━━━━━━━━━━━━━━━━━\u001b[0m\u001b[91m╸\u001b[0m \u001b[32m776.3/776.3 MB\u001b[0m \u001b[31m156.4 MB/s\u001b[0m eta \u001b[36m0:00:01\u001b[0m"
     ]
    },
    {
     "name": "stdout",
     "output_type": "stream",
     "text": [
      "\r",
      "\u001b[2K     \u001b[91m━━━━━━━━━━━━━━━━━━━━━━━━━━━━━━━━━━━━\u001b[0m\u001b[91m╸\u001b[0m \u001b[32m776.3/776.3 MB\u001b[0m \u001b[31m156.4 MB/s\u001b[0m eta \u001b[36m0:00:01\u001b[0m"
     ]
    },
    {
     "name": "stdout",
     "output_type": "stream",
     "text": [
      "\r",
      "\u001b[2K     \u001b[91m━━━━━━━━━━━━━━━━━━━━━━━━━━━━━━━━━━━━\u001b[0m\u001b[91m╸\u001b[0m \u001b[32m776.3/776.3 MB\u001b[0m \u001b[31m156.4 MB/s\u001b[0m eta \u001b[36m0:00:01\u001b[0m"
     ]
    },
    {
     "name": "stdout",
     "output_type": "stream",
     "text": [
      "\r",
      "\u001b[2K     \u001b[91m━━━━━━━━━━━━━━━━━━━━━━━━━━━━━━━━━━━━\u001b[0m\u001b[91m╸\u001b[0m \u001b[32m776.3/776.3 MB\u001b[0m \u001b[31m156.4 MB/s\u001b[0m eta \u001b[36m0:00:01\u001b[0m\r",
      "\u001b[2K     \u001b[91m━━━━━━━━━━━━━━━━━━━━━━━━━━━━━━━━━━━━\u001b[0m\u001b[91m╸\u001b[0m \u001b[32m776.3/776.3 MB\u001b[0m \u001b[31m156.4 MB/s\u001b[0m eta \u001b[36m0:00:01\u001b[0m"
     ]
    },
    {
     "name": "stdout",
     "output_type": "stream",
     "text": [
      "\r",
      "\u001b[2K     \u001b[91m━━━━━━━━━━━━━━━━━━━━━━━━━━━━━━━━━━━━\u001b[0m\u001b[91m╸\u001b[0m \u001b[32m776.3/776.3 MB\u001b[0m \u001b[31m156.4 MB/s\u001b[0m eta \u001b[36m0:00:01\u001b[0m"
     ]
    },
    {
     "name": "stdout",
     "output_type": "stream",
     "text": [
      "\r",
      "\u001b[2K     \u001b[91m━━━━━━━━━━━━━━━━━━━━━━━━━━━━━━━━━━━━\u001b[0m\u001b[91m╸\u001b[0m \u001b[32m776.3/776.3 MB\u001b[0m \u001b[31m156.4 MB/s\u001b[0m eta \u001b[36m0:00:01\u001b[0m\r",
      "\u001b[2K     \u001b[91m━━━━━━━━━━━━━━━━━━━━━━━━━━━━━━━━━━━━\u001b[0m\u001b[91m╸\u001b[0m \u001b[32m776.3/776.3 MB\u001b[0m \u001b[31m156.4 MB/s\u001b[0m eta \u001b[36m0:00:01\u001b[0m"
     ]
    },
    {
     "name": "stdout",
     "output_type": "stream",
     "text": [
      "\r",
      "\u001b[2K     \u001b[91m━━━━━━━━━━━━━━━━━━━━━━━━━━━━━━━━━━━━\u001b[0m\u001b[91m╸\u001b[0m \u001b[32m776.3/776.3 MB\u001b[0m \u001b[31m156.4 MB/s\u001b[0m eta \u001b[36m0:00:01\u001b[0m"
     ]
    },
    {
     "name": "stdout",
     "output_type": "stream",
     "text": [
      "\r",
      "\u001b[2K     \u001b[91m━━━━━━━━━━━━━━━━━━━━━━━━━━━━━━━━━━━━\u001b[0m\u001b[91m╸\u001b[0m \u001b[32m776.3/776.3 MB\u001b[0m \u001b[31m156.4 MB/s\u001b[0m eta \u001b[36m0:00:01\u001b[0m\r",
      "\u001b[2K     \u001b[91m━━━━━━━━━━━━━━━━━━━━━━━━━━━━━━━━━━━━\u001b[0m\u001b[91m╸\u001b[0m \u001b[32m776.3/776.3 MB\u001b[0m \u001b[31m156.4 MB/s\u001b[0m eta \u001b[36m0:00:01\u001b[0m"
     ]
    },
    {
     "name": "stdout",
     "output_type": "stream",
     "text": [
      "\r",
      "\u001b[2K     \u001b[91m━━━━━━━━━━━━━━━━━━━━━━━━━━━━━━━━━━━━\u001b[0m\u001b[91m╸\u001b[0m \u001b[32m776.3/776.3 MB\u001b[0m \u001b[31m156.4 MB/s\u001b[0m eta \u001b[36m0:00:01\u001b[0m"
     ]
    },
    {
     "name": "stdout",
     "output_type": "stream",
     "text": [
      "\r",
      "\u001b[2K     \u001b[91m━━━━━━━━━━━━━━━━━━━━━━━━━━━━━━━━━━━━\u001b[0m\u001b[91m╸\u001b[0m \u001b[32m776.3/776.3 MB\u001b[0m \u001b[31m156.4 MB/s\u001b[0m eta \u001b[36m0:00:01\u001b[0m"
     ]
    },
    {
     "name": "stdout",
     "output_type": "stream",
     "text": [
      "\r",
      "\u001b[2K     \u001b[91m━━━━━━━━━━━━━━━━━━━━━━━━━━━━━━━━━━━━\u001b[0m\u001b[91m╸\u001b[0m \u001b[32m776.3/776.3 MB\u001b[0m \u001b[31m156.4 MB/s\u001b[0m eta \u001b[36m0:00:01\u001b[0m\r",
      "\u001b[2K     \u001b[91m━━━━━━━━━━━━━━━━━━━━━━━━━━━━━━━━━━━━\u001b[0m\u001b[91m╸\u001b[0m \u001b[32m776.3/776.3 MB\u001b[0m \u001b[31m156.4 MB/s\u001b[0m eta \u001b[36m0:00:01\u001b[0m"
     ]
    },
    {
     "name": "stdout",
     "output_type": "stream",
     "text": [
      "\r",
      "\u001b[2K     \u001b[91m━━━━━━━━━━━━━━━━━━━━━━━━━━━━━━━━━━━━\u001b[0m\u001b[91m╸\u001b[0m \u001b[32m776.3/776.3 MB\u001b[0m \u001b[31m156.4 MB/s\u001b[0m eta \u001b[36m0:00:01\u001b[0m"
     ]
    },
    {
     "name": "stdout",
     "output_type": "stream",
     "text": [
      "\r",
      "\u001b[2K     \u001b[91m━━━━━━━━━━━━━━━━━━━━━━━━━━━━━━━━━━━━\u001b[0m\u001b[91m╸\u001b[0m \u001b[32m776.3/776.3 MB\u001b[0m \u001b[31m156.4 MB/s\u001b[0m eta \u001b[36m0:00:01\u001b[0m\r",
      "\u001b[2K     \u001b[91m━━━━━━━━━━━━━━━━━━━━━━━━━━━━━━━━━━━━\u001b[0m\u001b[91m╸\u001b[0m \u001b[32m776.3/776.3 MB\u001b[0m \u001b[31m156.4 MB/s\u001b[0m eta \u001b[36m0:00:01\u001b[0m"
     ]
    },
    {
     "name": "stdout",
     "output_type": "stream",
     "text": [
      "\r",
      "\u001b[2K     \u001b[91m━━━━━━━━━━━━━━━━━━━━━━━━━━━━━━━━━━━━\u001b[0m\u001b[91m╸\u001b[0m \u001b[32m776.3/776.3 MB\u001b[0m \u001b[31m156.4 MB/s\u001b[0m eta \u001b[36m0:00:01\u001b[0m"
     ]
    },
    {
     "name": "stdout",
     "output_type": "stream",
     "text": [
      "\r",
      "\u001b[2K     \u001b[91m━━━━━━━━━━━━━━━━━━━━━━━━━━━━━━━━━━━━\u001b[0m\u001b[91m╸\u001b[0m \u001b[32m776.3/776.3 MB\u001b[0m \u001b[31m156.4 MB/s\u001b[0m eta \u001b[36m0:00:01\u001b[0m\r",
      "\u001b[2K     \u001b[91m━━━━━━━━━━━━━━━━━━━━━━━━━━━━━━━━━━━━\u001b[0m\u001b[91m╸\u001b[0m \u001b[32m776.3/776.3 MB\u001b[0m \u001b[31m156.4 MB/s\u001b[0m eta \u001b[36m0:00:01\u001b[0m"
     ]
    },
    {
     "name": "stdout",
     "output_type": "stream",
     "text": [
      "\r",
      "\u001b[2K     \u001b[91m━━━━━━━━━━━━━━━━━━━━━━━━━━━━━━━━━━━━\u001b[0m\u001b[91m╸\u001b[0m \u001b[32m776.3/776.3 MB\u001b[0m \u001b[31m156.4 MB/s\u001b[0m eta \u001b[36m0:00:01\u001b[0m"
     ]
    },
    {
     "name": "stdout",
     "output_type": "stream",
     "text": [
      "\r",
      "\u001b[2K     \u001b[91m━━━━━━━━━━━━━━━━━━━━━━━━━━━━━━━━━━━━\u001b[0m\u001b[91m╸\u001b[0m \u001b[32m776.3/776.3 MB\u001b[0m \u001b[31m156.4 MB/s\u001b[0m eta \u001b[36m0:00:01\u001b[0m"
     ]
    },
    {
     "name": "stdout",
     "output_type": "stream",
     "text": [
      "\r",
      "\u001b[2K     \u001b[91m━━━━━━━━━━━━━━━━━━━━━━━━━━━━━━━━━━━━\u001b[0m\u001b[91m╸\u001b[0m \u001b[32m776.3/776.3 MB\u001b[0m \u001b[31m156.4 MB/s\u001b[0m eta \u001b[36m0:00:01\u001b[0m\r",
      "\u001b[2K     \u001b[91m━━━━━━━━━━━━━━━━━━━━━━━━━━━━━━━━━━━━\u001b[0m\u001b[91m╸\u001b[0m \u001b[32m776.3/776.3 MB\u001b[0m \u001b[31m156.4 MB/s\u001b[0m eta \u001b[36m0:00:01\u001b[0m"
     ]
    },
    {
     "name": "stdout",
     "output_type": "stream",
     "text": [
      "\r",
      "\u001b[2K     \u001b[91m━━━━━━━━━━━━━━━━━━━━━━━━━━━━━━━━━━━━\u001b[0m\u001b[91m╸\u001b[0m \u001b[32m776.3/776.3 MB\u001b[0m \u001b[31m156.4 MB/s\u001b[0m eta \u001b[36m0:00:01\u001b[0m"
     ]
    },
    {
     "name": "stdout",
     "output_type": "stream",
     "text": [
      "\r",
      "\u001b[2K     \u001b[91m━━━━━━━━━━━━━━━━━━━━━━━━━━━━━━━━━━━━\u001b[0m\u001b[91m╸\u001b[0m \u001b[32m776.3/776.3 MB\u001b[0m \u001b[31m156.4 MB/s\u001b[0m eta \u001b[36m0:00:01\u001b[0m\r",
      "\u001b[2K     \u001b[91m━━━━━━━━━━━━━━━━━━━━━━━━━━━━━━━━━━━━\u001b[0m\u001b[91m╸\u001b[0m \u001b[32m776.3/776.3 MB\u001b[0m \u001b[31m156.4 MB/s\u001b[0m eta \u001b[36m0:00:01\u001b[0m"
     ]
    },
    {
     "name": "stdout",
     "output_type": "stream",
     "text": [
      "\r",
      "\u001b[2K     \u001b[91m━━━━━━━━━━━━━━━━━━━━━━━━━━━━━━━━━━━━\u001b[0m\u001b[91m╸\u001b[0m \u001b[32m776.3/776.3 MB\u001b[0m \u001b[31m156.4 MB/s\u001b[0m eta \u001b[36m0:00:01\u001b[0m"
     ]
    },
    {
     "name": "stdout",
     "output_type": "stream",
     "text": [
      "\r",
      "\u001b[2K     \u001b[91m━━━━━━━━━━━━━━━━━━━━━━━━━━━━━━━━━━━━\u001b[0m\u001b[91m╸\u001b[0m \u001b[32m776.3/776.3 MB\u001b[0m \u001b[31m156.4 MB/s\u001b[0m eta \u001b[36m0:00:01\u001b[0m"
     ]
    },
    {
     "name": "stdout",
     "output_type": "stream",
     "text": [
      "\r",
      "\u001b[2K     \u001b[91m━━━━━━━━━━━━━━━━━━━━━━━━━━━━━━━━━━━━\u001b[0m\u001b[91m╸\u001b[0m \u001b[32m776.3/776.3 MB\u001b[0m \u001b[31m156.4 MB/s\u001b[0m eta \u001b[36m0:00:01\u001b[0m\r",
      "\u001b[2K     \u001b[91m━━━━━━━━━━━━━━━━━━━━━━━━━━━━━━━━━━━━\u001b[0m\u001b[91m╸\u001b[0m \u001b[32m776.3/776.3 MB\u001b[0m \u001b[31m156.4 MB/s\u001b[0m eta \u001b[36m0:00:01\u001b[0m"
     ]
    },
    {
     "name": "stdout",
     "output_type": "stream",
     "text": [
      "\r",
      "\u001b[2K     \u001b[91m━━━━━━━━━━━━━━━━━━━━━━━━━━━━━━━━━━━━\u001b[0m\u001b[91m╸\u001b[0m \u001b[32m776.3/776.3 MB\u001b[0m \u001b[31m156.4 MB/s\u001b[0m eta \u001b[36m0:00:01\u001b[0m"
     ]
    },
    {
     "name": "stdout",
     "output_type": "stream",
     "text": [
      "\r",
      "\u001b[2K     \u001b[91m━━━━━━━━━━━━━━━━━━━━━━━━━━━━━━━━━━━━\u001b[0m\u001b[91m╸\u001b[0m \u001b[32m776.3/776.3 MB\u001b[0m \u001b[31m156.4 MB/s\u001b[0m eta \u001b[36m0:00:01\u001b[0m\r",
      "\u001b[2K     \u001b[91m━━━━━━━━━━━━━━━━━━━━━━━━━━━━━━━━━━━━\u001b[0m\u001b[91m╸\u001b[0m \u001b[32m776.3/776.3 MB\u001b[0m \u001b[31m156.4 MB/s\u001b[0m eta \u001b[36m0:00:01\u001b[0m"
     ]
    },
    {
     "name": "stdout",
     "output_type": "stream",
     "text": [
      "\r",
      "\u001b[2K     \u001b[91m━━━━━━━━━━━━━━━━━━━━━━━━━━━━━━━━━━━━\u001b[0m\u001b[91m╸\u001b[0m \u001b[32m776.3/776.3 MB\u001b[0m \u001b[31m156.4 MB/s\u001b[0m eta \u001b[36m0:00:01\u001b[0m"
     ]
    },
    {
     "name": "stdout",
     "output_type": "stream",
     "text": [
      "\r",
      "\u001b[2K     \u001b[91m━━━━━━━━━━━━━━━━━━━━━━━━━━━━━━━━━━━━\u001b[0m\u001b[91m╸\u001b[0m \u001b[32m776.3/776.3 MB\u001b[0m \u001b[31m156.4 MB/s\u001b[0m eta \u001b[36m0:00:01\u001b[0m"
     ]
    },
    {
     "name": "stdout",
     "output_type": "stream",
     "text": [
      "\r",
      "\u001b[2K     \u001b[91m━━━━━━━━━━━━━━━━━━━━━━━━━━━━━━━━━━━━\u001b[0m\u001b[91m╸\u001b[0m \u001b[32m776.3/776.3 MB\u001b[0m \u001b[31m156.4 MB/s\u001b[0m eta \u001b[36m0:00:01\u001b[0m\r",
      "\u001b[2K     \u001b[91m━━━━━━━━━━━━━━━━━━━━━━━━━━━━━━━━━━━━\u001b[0m\u001b[91m╸\u001b[0m \u001b[32m776.3/776.3 MB\u001b[0m \u001b[31m156.4 MB/s\u001b[0m eta \u001b[36m0:00:01\u001b[0m"
     ]
    },
    {
     "name": "stdout",
     "output_type": "stream",
     "text": [
      "\r",
      "\u001b[2K     \u001b[91m━━━━━━━━━━━━━━━━━━━━━━━━━━━━━━━━━━━━\u001b[0m\u001b[91m╸\u001b[0m \u001b[32m776.3/776.3 MB\u001b[0m \u001b[31m156.4 MB/s\u001b[0m eta \u001b[36m0:00:01\u001b[0m"
     ]
    },
    {
     "name": "stdout",
     "output_type": "stream",
     "text": [
      "\r",
      "\u001b[2K     \u001b[91m━━━━━━━━━━━━━━━━━━━━━━━━━━━━━━━━━━━━\u001b[0m\u001b[91m╸\u001b[0m \u001b[32m776.3/776.3 MB\u001b[0m \u001b[31m156.4 MB/s\u001b[0m eta \u001b[36m0:00:01\u001b[0m"
     ]
    },
    {
     "name": "stdout",
     "output_type": "stream",
     "text": [
      "\r",
      "\u001b[2K     \u001b[91m━━━━━━━━━━━━━━━━━━━━━━━━━━━━━━━━━━━━\u001b[0m\u001b[91m╸\u001b[0m \u001b[32m776.3/776.3 MB\u001b[0m \u001b[31m156.4 MB/s\u001b[0m eta \u001b[36m0:00:01\u001b[0m\r",
      "\u001b[2K     \u001b[91m━━━━━━━━━━━━━━━━━━━━━━━━━━━━━━━━━━━━\u001b[0m\u001b[91m╸\u001b[0m \u001b[32m776.3/776.3 MB\u001b[0m \u001b[31m156.4 MB/s\u001b[0m eta \u001b[36m0:00:01\u001b[0m"
     ]
    },
    {
     "name": "stdout",
     "output_type": "stream",
     "text": [
      "\r",
      "\u001b[2K     \u001b[91m━━━━━━━━━━━━━━━━━━━━━━━━━━━━━━━━━━━━\u001b[0m\u001b[91m╸\u001b[0m \u001b[32m776.3/776.3 MB\u001b[0m \u001b[31m156.4 MB/s\u001b[0m eta \u001b[36m0:00:01\u001b[0m"
     ]
    },
    {
     "name": "stdout",
     "output_type": "stream",
     "text": [
      "\r",
      "\u001b[2K     \u001b[91m━━━━━━━━━━━━━━━━━━━━━━━━━━━━━━━━━━━━\u001b[0m\u001b[91m╸\u001b[0m \u001b[32m776.3/776.3 MB\u001b[0m \u001b[31m156.4 MB/s\u001b[0m eta \u001b[36m0:00:01\u001b[0m\r",
      "\u001b[2K     \u001b[91m━━━━━━━━━━━━━━━━━━━━━━━━━━━━━━━━━━━━\u001b[0m\u001b[91m╸\u001b[0m \u001b[32m776.3/776.3 MB\u001b[0m \u001b[31m156.4 MB/s\u001b[0m eta \u001b[36m0:00:01\u001b[0m"
     ]
    },
    {
     "name": "stdout",
     "output_type": "stream",
     "text": [
      "\r",
      "\u001b[2K     \u001b[91m━━━━━━━━━━━━━━━━━━━━━━━━━━━━━━━━━━━━\u001b[0m\u001b[91m╸\u001b[0m \u001b[32m776.3/776.3 MB\u001b[0m \u001b[31m156.4 MB/s\u001b[0m eta \u001b[36m0:00:01\u001b[0m"
     ]
    },
    {
     "name": "stdout",
     "output_type": "stream",
     "text": [
      "\r",
      "\u001b[2K     \u001b[91m━━━━━━━━━━━━━━━━━━━━━━━━━━━━━━━━━━━━\u001b[0m\u001b[91m╸\u001b[0m \u001b[32m776.3/776.3 MB\u001b[0m \u001b[31m156.4 MB/s\u001b[0m eta \u001b[36m0:00:01\u001b[0m\r",
      "\u001b[2K     \u001b[91m━━━━━━━━━━━━━━━━━━━━━━━━━━━━━━━━━━━━\u001b[0m\u001b[91m╸\u001b[0m \u001b[32m776.3/776.3 MB\u001b[0m \u001b[31m156.4 MB/s\u001b[0m eta \u001b[36m0:00:01\u001b[0m"
     ]
    },
    {
     "name": "stdout",
     "output_type": "stream",
     "text": [
      "\r",
      "\u001b[2K     \u001b[91m━━━━━━━━━━━━━━━━━━━━━━━━━━━━━━━━━━━━\u001b[0m\u001b[91m╸\u001b[0m \u001b[32m776.3/776.3 MB\u001b[0m \u001b[31m156.4 MB/s\u001b[0m eta \u001b[36m0:00:01\u001b[0m"
     ]
    },
    {
     "name": "stdout",
     "output_type": "stream",
     "text": [
      "\r",
      "\u001b[2K     \u001b[91m━━━━━━━━━━━━━━━━━━━━━━━━━━━━━━━━━━━━\u001b[0m\u001b[91m╸\u001b[0m \u001b[32m776.3/776.3 MB\u001b[0m \u001b[31m156.4 MB/s\u001b[0m eta \u001b[36m0:00:01\u001b[0m\r",
      "\u001b[2K     \u001b[91m━━━━━━━━━━━━━━━━━━━━━━━━━━━━━━━━━━━━\u001b[0m\u001b[91m╸\u001b[0m \u001b[32m776.3/776.3 MB\u001b[0m \u001b[31m156.4 MB/s\u001b[0m eta \u001b[36m0:00:01\u001b[0m"
     ]
    },
    {
     "name": "stdout",
     "output_type": "stream",
     "text": [
      "\r",
      "\u001b[2K     \u001b[91m━━━━━━━━━━━━━━━━━━━━━━━━━━━━━━━━━━━━\u001b[0m\u001b[91m╸\u001b[0m \u001b[32m776.3/776.3 MB\u001b[0m \u001b[31m156.4 MB/s\u001b[0m eta \u001b[36m0:00:01\u001b[0m"
     ]
    },
    {
     "name": "stdout",
     "output_type": "stream",
     "text": [
      "\r",
      "\u001b[2K     \u001b[91m━━━━━━━━━━━━━━━━━━━━━━━━━━━━━━━━━━━━\u001b[0m\u001b[91m╸\u001b[0m \u001b[32m776.3/776.3 MB\u001b[0m \u001b[31m156.4 MB/s\u001b[0m eta \u001b[36m0:00:01\u001b[0m"
     ]
    },
    {
     "name": "stdout",
     "output_type": "stream",
     "text": [
      "\r",
      "\u001b[2K     \u001b[91m━━━━━━━━━━━━━━━━━━━━━━━━━━━━━━━━━━━━\u001b[0m\u001b[91m╸\u001b[0m \u001b[32m776.3/776.3 MB\u001b[0m \u001b[31m156.4 MB/s\u001b[0m eta \u001b[36m0:00:01\u001b[0m\r",
      "\u001b[2K     \u001b[91m━━━━━━━━━━━━━━━━━━━━━━━━━━━━━━━━━━━━\u001b[0m\u001b[91m╸\u001b[0m \u001b[32m776.3/776.3 MB\u001b[0m \u001b[31m156.4 MB/s\u001b[0m eta \u001b[36m0:00:01\u001b[0m"
     ]
    },
    {
     "name": "stdout",
     "output_type": "stream",
     "text": [
      "\r",
      "\u001b[2K     \u001b[91m━━━━━━━━━━━━━━━━━━━━━━━━━━━━━━━━━━━━\u001b[0m\u001b[91m╸\u001b[0m \u001b[32m776.3/776.3 MB\u001b[0m \u001b[31m156.4 MB/s\u001b[0m eta \u001b[36m0:00:01\u001b[0m"
     ]
    },
    {
     "name": "stdout",
     "output_type": "stream",
     "text": [
      "\r",
      "\u001b[2K     \u001b[91m━━━━━━━━━━━━━━━━━━━━━━━━━━━━━━━━━━━━\u001b[0m\u001b[91m╸\u001b[0m \u001b[32m776.3/776.3 MB\u001b[0m \u001b[31m156.4 MB/s\u001b[0m eta \u001b[36m0:00:01\u001b[0m\r",
      "\u001b[2K     \u001b[91m━━━━━━━━━━━━━━━━━━━━━━━━━━━━━━━━━━━━\u001b[0m\u001b[91m╸\u001b[0m \u001b[32m776.3/776.3 MB\u001b[0m \u001b[31m156.4 MB/s\u001b[0m eta \u001b[36m0:00:01\u001b[0m"
     ]
    },
    {
     "name": "stdout",
     "output_type": "stream",
     "text": [
      "\r",
      "\u001b[2K     \u001b[91m━━━━━━━━━━━━━━━━━━━━━━━━━━━━━━━━━━━━\u001b[0m\u001b[91m╸\u001b[0m \u001b[32m776.3/776.3 MB\u001b[0m \u001b[31m156.4 MB/s\u001b[0m eta \u001b[36m0:00:01\u001b[0m"
     ]
    },
    {
     "name": "stdout",
     "output_type": "stream",
     "text": [
      "\r",
      "\u001b[2K     \u001b[91m━━━━━━━━━━━━━━━━━━━━━━━━━━━━━━━━━━━━\u001b[0m\u001b[91m╸\u001b[0m \u001b[32m776.3/776.3 MB\u001b[0m \u001b[31m156.4 MB/s\u001b[0m eta \u001b[36m0:00:01\u001b[0m\r",
      "\u001b[2K     \u001b[91m━━━━━━━━━━━━━━━━━━━━━━━━━━━━━━━━━━━━\u001b[0m\u001b[91m╸\u001b[0m \u001b[32m776.3/776.3 MB\u001b[0m \u001b[31m156.4 MB/s\u001b[0m eta \u001b[36m0:00:01\u001b[0m"
     ]
    },
    {
     "name": "stdout",
     "output_type": "stream",
     "text": [
      "\r",
      "\u001b[2K     \u001b[91m━━━━━━━━━━━━━━━━━━━━━━━━━━━━━━━━━━━━\u001b[0m\u001b[91m╸\u001b[0m \u001b[32m776.3/776.3 MB\u001b[0m \u001b[31m156.4 MB/s\u001b[0m eta \u001b[36m0:00:01\u001b[0m"
     ]
    },
    {
     "name": "stdout",
     "output_type": "stream",
     "text": [
      "\r",
      "\u001b[2K     \u001b[91m━━━━━━━━━━━━━━━━━━━━━━━━━━━━━━━━━━━━\u001b[0m\u001b[91m╸\u001b[0m \u001b[32m776.3/776.3 MB\u001b[0m \u001b[31m156.4 MB/s\u001b[0m eta \u001b[36m0:00:01\u001b[0m"
     ]
    },
    {
     "name": "stdout",
     "output_type": "stream",
     "text": [
      "\r",
      "\u001b[2K     \u001b[91m━━━━━━━━━━━━━━━━━━━━━━━━━━━━━━━━━━━━\u001b[0m\u001b[91m╸\u001b[0m \u001b[32m776.3/776.3 MB\u001b[0m \u001b[31m156.4 MB/s\u001b[0m eta \u001b[36m0:00:01\u001b[0m\r",
      "\u001b[2K     \u001b[91m━━━━━━━━━━━━━━━━━━━━━━━━━━━━━━━━━━━━\u001b[0m\u001b[91m╸\u001b[0m \u001b[32m776.3/776.3 MB\u001b[0m \u001b[31m156.4 MB/s\u001b[0m eta \u001b[36m0:00:01\u001b[0m"
     ]
    },
    {
     "name": "stdout",
     "output_type": "stream",
     "text": [
      "\r",
      "\u001b[2K     \u001b[91m━━━━━━━━━━━━━━━━━━━━━━━━━━━━━━━━━━━━\u001b[0m\u001b[91m╸\u001b[0m \u001b[32m776.3/776.3 MB\u001b[0m \u001b[31m156.4 MB/s\u001b[0m eta \u001b[36m0:00:01\u001b[0m"
     ]
    },
    {
     "name": "stdout",
     "output_type": "stream",
     "text": [
      "\r",
      "\u001b[2K     \u001b[91m━━━━━━━━━━━━━━━━━━━━━━━━━━━━━━━━━━━━\u001b[0m\u001b[91m╸\u001b[0m \u001b[32m776.3/776.3 MB\u001b[0m \u001b[31m156.4 MB/s\u001b[0m eta \u001b[36m0:00:01\u001b[0m\r",
      "\u001b[2K     \u001b[91m━━━━━━━━━━━━━━━━━━━━━━━━━━━━━━━━━━━━\u001b[0m\u001b[91m╸\u001b[0m \u001b[32m776.3/776.3 MB\u001b[0m \u001b[31m156.4 MB/s\u001b[0m eta \u001b[36m0:00:01\u001b[0m"
     ]
    },
    {
     "name": "stdout",
     "output_type": "stream",
     "text": [
      "\r",
      "\u001b[2K     \u001b[91m━━━━━━━━━━━━━━━━━━━━━━━━━━━━━━━━━━━━\u001b[0m\u001b[91m╸\u001b[0m \u001b[32m776.3/776.3 MB\u001b[0m \u001b[31m156.4 MB/s\u001b[0m eta \u001b[36m0:00:01\u001b[0m"
     ]
    },
    {
     "name": "stdout",
     "output_type": "stream",
     "text": [
      "\r",
      "\u001b[2K     \u001b[90m━━━━━━━━━━━━━━━━━━━━━━━━━━━━━━━━━━━━━\u001b[0m \u001b[32m776.3/776.3 MB\u001b[0m \u001b[31m983.7 kB/s\u001b[0m eta \u001b[36m0:00:00\u001b[0m\r\n",
      "\u001b[?25h"
     ]
    },
    {
     "name": "stdout",
     "output_type": "stream",
     "text": [
      "Requirement already satisfied: typing-extensions in /opt/conda/lib/python3.10/site-packages (from torch==1.12.0) (4.5.0)\r\n"
     ]
    },
    {
     "name": "stdout",
     "output_type": "stream",
     "text": [
      "Installing collected packages: torch\r\n",
      "  Attempting uninstall: torch\r\n",
      "    Found existing installation: torch 2.0.0\r\n"
     ]
    },
    {
     "name": "stdout",
     "output_type": "stream",
     "text": [
      "    Uninstalling torch-2.0.0:\r\n"
     ]
    },
    {
     "name": "stdout",
     "output_type": "stream",
     "text": [
      "      Successfully uninstalled torch-2.0.0\r\n"
     ]
    },
    {
     "name": "stdout",
     "output_type": "stream",
     "text": [
      "\u001b[31mERROR: pip's dependency resolver does not currently take into account all the packages that are installed. This behaviour is the source of the following dependency conflicts.\r\n",
      "torchdata 0.6.0 requires torch==2.0.0, but you have torch 1.12.0 which is incompatible.\u001b[0m\u001b[31m\r\n",
      "\u001b[0mSuccessfully installed torch-1.12.0\r\n",
      "\u001b[33mWARNING: Running pip as the 'root' user can result in broken permissions and conflicting behaviour with the system package manager. It is recommended to use a virtual environment instead: https://pip.pypa.io/warnings/venv\u001b[0m\u001b[33m\r\n",
      "\u001b[0m"
     ]
    }
   ],
   "source": [
    "!python -m pip install -U torch==1.12.0"
   ]
  },
  {
   "cell_type": "code",
   "execution_count": 5,
   "id": "599041bb",
   "metadata": {
    "execution": {
     "iopub.execute_input": "2023-06-12T18:45:00.607789Z",
     "iopub.status.busy": "2023-06-12T18:45:00.607434Z",
     "iopub.status.idle": "2023-06-12T18:45:02.212056Z",
     "shell.execute_reply": "2023-06-12T18:45:02.207500Z"
    },
    "id": "CBkUMIpJBAFA",
    "outputId": "76c23096-4150-4496-9169-dcc027c5e97b",
    "papermill": {
     "duration": 1.646343,
     "end_time": "2023-06-12T18:45:02.222438",
     "exception": false,
     "start_time": "2023-06-12T18:45:00.576095",
     "status": "completed"
    },
    "tags": []
   },
   "outputs": [
    {
     "name": "stdout",
     "output_type": "stream",
     "text": [
      "Files removed: 13\r\n"
     ]
    }
   ],
   "source": [
    "!python -m pip cache purge"
   ]
  },
  {
   "cell_type": "code",
   "execution_count": 6,
   "id": "cc341168",
   "metadata": {
    "execution": {
     "iopub.execute_input": "2023-06-12T18:45:02.487992Z",
     "iopub.status.busy": "2023-06-12T18:45:02.486828Z",
     "iopub.status.idle": "2023-06-12T18:45:42.396326Z",
     "shell.execute_reply": "2023-06-12T18:45:42.395166Z"
    },
    "papermill": {
     "duration": 40.088493,
     "end_time": "2023-06-12T18:45:42.398982",
     "exception": false,
     "start_time": "2023-06-12T18:45:02.310489",
     "status": "completed"
    },
    "tags": []
   },
   "outputs": [
    {
     "name": "stdout",
     "output_type": "stream",
     "text": [
      "Collecting openmim\r\n"
     ]
    },
    {
     "name": "stdout",
     "output_type": "stream",
     "text": [
      "  Downloading openmim-0.3.7-py2.py3-none-any.whl (51 kB)\r\n",
      "\u001b[?25l     \u001b[90m━━━━━━━━━━━━━━━━━━━━━━━━━━━━━━━━━━━━━━━━\u001b[0m \u001b[32m0.0/51.3 kB\u001b[0m \u001b[31m?\u001b[0m eta \u001b[36m-:--:--\u001b[0m\r",
      "\u001b[2K     \u001b[90m━━━━━━━━━━━━━━━━━━━━━━━━━━━━━━━━━━━━━━━━\u001b[0m \u001b[32m51.3/51.3 kB\u001b[0m \u001b[31m3.7 MB/s\u001b[0m eta \u001b[36m0:00:00\u001b[0m\r\n",
      "\u001b[?25h"
     ]
    },
    {
     "name": "stdout",
     "output_type": "stream",
     "text": [
      "Requirement already satisfied: Click in /opt/conda/lib/python3.10/site-packages (from openmim) (8.1.3)\r\n",
      "Requirement already satisfied: colorama in /opt/conda/lib/python3.10/site-packages (from openmim) (0.4.6)\r\n",
      "Collecting model-index (from openmim)\r\n",
      "  Downloading model_index-0.1.11-py3-none-any.whl (34 kB)\r\n"
     ]
    },
    {
     "name": "stdout",
     "output_type": "stream",
     "text": [
      "Requirement already satisfied: pandas in /opt/conda/lib/python3.10/site-packages (from openmim) (1.5.3)\r\n",
      "Requirement already satisfied: pip>=19.3 in /opt/conda/lib/python3.10/site-packages (from openmim) (23.1.2)\r\n",
      "Requirement already satisfied: requests in /opt/conda/lib/python3.10/site-packages (from openmim) (2.28.2)\r\n",
      "Requirement already satisfied: rich in /opt/conda/lib/python3.10/site-packages (from openmim) (12.6.0)\r\n",
      "Requirement already satisfied: tabulate in /opt/conda/lib/python3.10/site-packages (from openmim) (0.9.0)\r\n",
      "Requirement already satisfied: pyyaml in /opt/conda/lib/python3.10/site-packages (from model-index->openmim) (5.4.1)\r\n",
      "Requirement already satisfied: markdown in /opt/conda/lib/python3.10/site-packages (from model-index->openmim) (3.4.3)\r\n",
      "Collecting ordered-set (from model-index->openmim)\r\n"
     ]
    },
    {
     "name": "stdout",
     "output_type": "stream",
     "text": [
      "  Downloading ordered_set-4.1.0-py3-none-any.whl (7.6 kB)\r\n",
      "Requirement already satisfied: python-dateutil>=2.8.1 in /opt/conda/lib/python3.10/site-packages (from pandas->openmim) (2.8.2)\r\n",
      "Requirement already satisfied: pytz>=2020.1 in /opt/conda/lib/python3.10/site-packages (from pandas->openmim) (2023.3)\r\n",
      "Requirement already satisfied: numpy>=1.21.0 in /opt/conda/lib/python3.10/site-packages (from pandas->openmim) (1.23.5)\r\n",
      "Requirement already satisfied: charset-normalizer<4,>=2 in /opt/conda/lib/python3.10/site-packages (from requests->openmim) (2.1.1)\r\n",
      "Requirement already satisfied: idna<4,>=2.5 in /opt/conda/lib/python3.10/site-packages (from requests->openmim) (3.4)\r\n",
      "Requirement already satisfied: urllib3<1.27,>=1.21.1 in /opt/conda/lib/python3.10/site-packages (from requests->openmim) (1.26.15)\r\n",
      "Requirement already satisfied: certifi>=2017.4.17 in /opt/conda/lib/python3.10/site-packages (from requests->openmim) (2023.5.7)\r\n",
      "Requirement already satisfied: commonmark<0.10.0,>=0.9.0 in /opt/conda/lib/python3.10/site-packages (from rich->openmim) (0.9.1)\r\n",
      "Requirement already satisfied: pygments<3.0.0,>=2.6.0 in /opt/conda/lib/python3.10/site-packages (from rich->openmim) (2.15.1)\r\n"
     ]
    },
    {
     "name": "stdout",
     "output_type": "stream",
     "text": [
      "Requirement already satisfied: six>=1.5 in /opt/conda/lib/python3.10/site-packages (from python-dateutil>=2.8.1->pandas->openmim) (1.16.0)\r\n"
     ]
    },
    {
     "name": "stdout",
     "output_type": "stream",
     "text": [
      "Installing collected packages: ordered-set, model-index, openmim\r\n"
     ]
    },
    {
     "name": "stdout",
     "output_type": "stream",
     "text": [
      "Successfully installed model-index-0.1.11 openmim-0.3.7 ordered-set-4.1.0\r\n",
      "\u001b[33mWARNING: Running pip as the 'root' user can result in broken permissions and conflicting behaviour with the system package manager. It is recommended to use a virtual environment instead: https://pip.pypa.io/warnings/venv\u001b[0m\u001b[33m\r\n",
      "\u001b[0m"
     ]
    },
    {
     "name": "stdout",
     "output_type": "stream",
     "text": [
      "Looking in links: https://download.openmmlab.com/mmcv/dist/cu102/torch1.12.0/index.html\r\n"
     ]
    },
    {
     "name": "stdout",
     "output_type": "stream",
     "text": [
      "Collecting mmcv\r\n"
     ]
    },
    {
     "name": "stdout",
     "output_type": "stream",
     "text": [
      "  Downloading https://download.openmmlab.com/mmcv/dist/cu102/torch1.12.0/mmcv-2.0.0-cp310-cp310-manylinux1_x86_64.whl (58.1 MB)\r\n",
      "\u001b[?25l     \u001b[90m━━━━━━━━━━━━━━━━━━━━━━━━━━━━━━━━━━━━━━━━\u001b[0m \u001b[32m0.0/58.1 MB\u001b[0m \u001b[31m?\u001b[0m eta \u001b[36m-:--:--\u001b[0m"
     ]
    },
    {
     "name": "stdout",
     "output_type": "stream",
     "text": [
      "\r",
      "\u001b[2K     \u001b[90m━━━━━━━━━━━━━━━━━━━━━━━━━━━━━━━━━━━━━━━━\u001b[0m \u001b[32m0.0/58.1 MB\u001b[0m \u001b[31m153.4 MB/s\u001b[0m eta \u001b[36m0:00:01\u001b[0m"
     ]
    },
    {
     "name": "stdout",
     "output_type": "stream",
     "text": [
      "\r",
      "\u001b[2K     \u001b[90m━━━━━━━━━━━━━━━━━━━━━━━━━━━━━━━━━━━━━━━━\u001b[0m \u001b[32m0.1/58.1 MB\u001b[0m \u001b[31m2.0 MB/s\u001b[0m eta \u001b[36m0:00:30\u001b[0m\r",
      "\u001b[2K     \u001b[90m━━━━━━━━━━━━━━━━━━━━━━━━━━━━━━━━━━━━━━━━\u001b[0m \u001b[32m0.2/58.1 MB\u001b[0m \u001b[31m2.4 MB/s\u001b[0m eta \u001b[36m0:00:24\u001b[0m"
     ]
    },
    {
     "name": "stdout",
     "output_type": "stream",
     "text": [
      "\r",
      "\u001b[2K     \u001b[90m━━━━━━━━━━━━━━━━━━━━━━━━━━━━━━━━━━━━━━━━\u001b[0m \u001b[32m0.3/58.1 MB\u001b[0m \u001b[31m2.8 MB/s\u001b[0m eta \u001b[36m0:00:21\u001b[0m"
     ]
    },
    {
     "name": "stdout",
     "output_type": "stream",
     "text": [
      "\r",
      "\u001b[2K     \u001b[90m━━━━━━━━━━━━━━━━━━━━━━━━━━━━━━━━━━━━━━━━\u001b[0m \u001b[32m0.5/58.1 MB\u001b[0m \u001b[31m3.1 MB/s\u001b[0m eta \u001b[36m0:00:19\u001b[0m\r",
      "\u001b[2K     \u001b[90m━━━━━━━━━━━━━━━━━━━━━━━━━━━━━━━━━━━━━━━━\u001b[0m \u001b[32m0.6/58.1 MB\u001b[0m \u001b[31m3.4 MB/s\u001b[0m eta \u001b[36m0:00:18\u001b[0m"
     ]
    },
    {
     "name": "stdout",
     "output_type": "stream",
     "text": [
      "\r",
      "\u001b[2K     \u001b[91m╸\u001b[0m\u001b[90m━━━━━━━━━━━━━━━━━━━━━━━━━━━━━━━━━━━━━━━\u001b[0m \u001b[32m0.8/58.1 MB\u001b[0m \u001b[31m3.5 MB/s\u001b[0m eta \u001b[36m0:00:17\u001b[0m"
     ]
    },
    {
     "name": "stdout",
     "output_type": "stream",
     "text": [
      "\r",
      "\u001b[2K     \u001b[91m╸\u001b[0m\u001b[90m━━━━━━━━━━━━━━━━━━━━━━━━━━━━━━━━━━━━━━━\u001b[0m \u001b[32m1.0/58.1 MB\u001b[0m \u001b[31m3.7 MB/s\u001b[0m eta \u001b[36m0:00:16\u001b[0m\r",
      "\u001b[2K     \u001b[91m╸\u001b[0m\u001b[90m━━━━━━━━━━━━━━━━━━━━━━━━━━━━━━━━━━━━━━━\u001b[0m \u001b[32m1.1/58.1 MB\u001b[0m \u001b[31m3.8 MB/s\u001b[0m eta \u001b[36m0:00:15\u001b[0m"
     ]
    },
    {
     "name": "stdout",
     "output_type": "stream",
     "text": [
      "\r",
      "\u001b[2K     \u001b[91m╸\u001b[0m\u001b[90m━━━━━━━━━━━━━━━━━━━━━━━━━━━━━━━━━━━━━━━\u001b[0m \u001b[32m1.3/58.1 MB\u001b[0m \u001b[31m4.0 MB/s\u001b[0m eta \u001b[36m0:00:15\u001b[0m"
     ]
    },
    {
     "name": "stdout",
     "output_type": "stream",
     "text": [
      "\r",
      "\u001b[2K     \u001b[91m━\u001b[0m\u001b[90m╺\u001b[0m\u001b[90m━━━━━━━━━━━━━━━━━━━━━━━━━━━━━━━━━━━━━━\u001b[0m \u001b[32m1.5/58.1 MB\u001b[0m \u001b[31m4.2 MB/s\u001b[0m eta \u001b[36m0:00:14\u001b[0m\r",
      "\u001b[2K     \u001b[91m━\u001b[0m\u001b[90m╺\u001b[0m\u001b[90m━━━━━━━━━━━━━━━━━━━━━━━━━━━━━━━━━━━━━━\u001b[0m \u001b[32m1.7/58.1 MB\u001b[0m \u001b[31m4.3 MB/s\u001b[0m eta \u001b[36m0:00:14\u001b[0m"
     ]
    },
    {
     "name": "stdout",
     "output_type": "stream",
     "text": [
      "\r",
      "\u001b[2K     \u001b[91m━\u001b[0m\u001b[90m╺\u001b[0m\u001b[90m━━━━━━━━━━━━━━━━━━━━━━━━━━━━━━━━━━━━━━\u001b[0m \u001b[32m2.0/58.1 MB\u001b[0m \u001b[31m4.5 MB/s\u001b[0m eta \u001b[36m0:00:13\u001b[0m"
     ]
    },
    {
     "name": "stdout",
     "output_type": "stream",
     "text": [
      "\r",
      "\u001b[2K     \u001b[91m━\u001b[0m\u001b[91m╸\u001b[0m\u001b[90m━━━━━━━━━━━━━━━━━━━━━━━━━━━━━━━━━━━━━━\u001b[0m \u001b[32m2.2/58.1 MB\u001b[0m \u001b[31m4.7 MB/s\u001b[0m eta \u001b[36m0:00:12\u001b[0m"
     ]
    },
    {
     "name": "stdout",
     "output_type": "stream",
     "text": [
      "\r",
      "\u001b[2K     \u001b[91m━\u001b[0m\u001b[91m╸\u001b[0m\u001b[90m━━━━━━━━━━━━━━━━━━━━━━━━━━━━━━━━━━━━━━\u001b[0m \u001b[32m2.4/58.1 MB\u001b[0m \u001b[31m4.9 MB/s\u001b[0m eta \u001b[36m0:00:12\u001b[0m\r",
      "\u001b[2K     \u001b[91m━\u001b[0m\u001b[91m╸\u001b[0m\u001b[90m━━━━━━━━━━━━━━━━━━━━━━━━━━━━━━━━━━━━━━\u001b[0m \u001b[32m2.7/58.1 MB\u001b[0m \u001b[31m5.1 MB/s\u001b[0m eta \u001b[36m0:00:11\u001b[0m"
     ]
    },
    {
     "name": "stdout",
     "output_type": "stream",
     "text": [
      "\r",
      "\u001b[2K     \u001b[91m━━\u001b[0m\u001b[90m╺\u001b[0m\u001b[90m━━━━━━━━━━━━━━━━━━━━━━━━━━━━━━━━━━━━━\u001b[0m \u001b[32m3.0/58.1 MB\u001b[0m \u001b[31m5.2 MB/s\u001b[0m eta \u001b[36m0:00:11\u001b[0m"
     ]
    },
    {
     "name": "stdout",
     "output_type": "stream",
     "text": [
      "\r",
      "\u001b[2K     \u001b[91m━━\u001b[0m\u001b[90m╺\u001b[0m\u001b[90m━━━━━━━━━━━━━━━━━━━━━━━━━━━━━━━━━━━━━\u001b[0m \u001b[32m3.3/58.1 MB\u001b[0m \u001b[31m5.4 MB/s\u001b[0m eta \u001b[36m0:00:11\u001b[0m\r",
      "\u001b[2K     \u001b[91m━━\u001b[0m\u001b[91m╸\u001b[0m\u001b[90m━━━━━━━━━━━━━━━━━━━━━━━━━━━━━━━━━━━━━\u001b[0m \u001b[32m3.6/58.1 MB\u001b[0m \u001b[31m5.6 MB/s\u001b[0m eta \u001b[36m0:00:10\u001b[0m"
     ]
    },
    {
     "name": "stdout",
     "output_type": "stream",
     "text": [
      "\r",
      "\u001b[2K     \u001b[91m━━\u001b[0m\u001b[91m╸\u001b[0m\u001b[90m━━━━━━━━━━━━━━━━━━━━━━━━━━━━━━━━━━━━━\u001b[0m \u001b[32m4.0/58.1 MB\u001b[0m \u001b[31m5.9 MB/s\u001b[0m eta \u001b[36m0:00:10\u001b[0m"
     ]
    },
    {
     "name": "stdout",
     "output_type": "stream",
     "text": [
      "\r",
      "\u001b[2K     \u001b[91m━━\u001b[0m\u001b[91m╸\u001b[0m\u001b[90m━━━━━━━━━━━━━━━━━━━━━━━━━━━━━━━━━━━━━\u001b[0m \u001b[32m4.3/58.1 MB\u001b[0m \u001b[31m6.0 MB/s\u001b[0m eta \u001b[36m0:00:09\u001b[0m\r",
      "\u001b[2K     \u001b[91m━━━\u001b[0m\u001b[90m╺\u001b[0m\u001b[90m━━━━━━━━━━━━━━━━━━━━━━━━━━━━━━━━━━━━\u001b[0m \u001b[32m4.7/58.1 MB\u001b[0m \u001b[31m6.3 MB/s\u001b[0m eta \u001b[36m0:00:09\u001b[0m"
     ]
    },
    {
     "name": "stdout",
     "output_type": "stream",
     "text": [
      "\r",
      "\u001b[2K     \u001b[91m━━━\u001b[0m\u001b[91m╸\u001b[0m\u001b[90m━━━━━━━━━━━━━━━━━━━━━━━━━━━━━━━━━━━━\u001b[0m \u001b[32m5.2/58.1 MB\u001b[0m \u001b[31m6.6 MB/s\u001b[0m eta \u001b[36m0:00:09\u001b[0m"
     ]
    },
    {
     "name": "stdout",
     "output_type": "stream",
     "text": [
      "\r",
      "\u001b[2K     \u001b[91m━━━\u001b[0m\u001b[91m╸\u001b[0m\u001b[90m━━━━━━━━━━━━━━━━━━━━━━━━━━━━━━━━━━━━\u001b[0m \u001b[32m5.6/58.1 MB\u001b[0m \u001b[31m6.7 MB/s\u001b[0m eta \u001b[36m0:00:08\u001b[0m\r",
      "\u001b[2K     \u001b[91m━━━━\u001b[0m\u001b[90m╺\u001b[0m\u001b[90m━━━━━━━━━━━━━━━━━━━━━━━━━━━━━━━━━━━\u001b[0m \u001b[32m6.0/58.1 MB\u001b[0m \u001b[31m7.0 MB/s\u001b[0m eta \u001b[36m0:00:08\u001b[0m"
     ]
    },
    {
     "name": "stdout",
     "output_type": "stream",
     "text": [
      "\r",
      "\u001b[2K     \u001b[91m━━━━\u001b[0m\u001b[90m╺\u001b[0m\u001b[90m━━━━━━━━━━━━━━━━━━━━━━━━━━━━━━━━━━━\u001b[0m \u001b[32m6.4/58.1 MB\u001b[0m \u001b[31m7.2 MB/s\u001b[0m eta \u001b[36m0:00:08\u001b[0m"
     ]
    },
    {
     "name": "stdout",
     "output_type": "stream",
     "text": [
      "\r",
      "\u001b[2K     \u001b[91m━━━━\u001b[0m\u001b[91m╸\u001b[0m\u001b[90m━━━━━━━━━━━━━━━━━━━━━━━━━━━━━━━━━━━\u001b[0m \u001b[32m6.9/58.1 MB\u001b[0m \u001b[31m7.4 MB/s\u001b[0m eta \u001b[36m0:00:07\u001b[0m"
     ]
    },
    {
     "name": "stdout",
     "output_type": "stream",
     "text": [
      "\r",
      "\u001b[2K     \u001b[91m━━━━━\u001b[0m\u001b[90m╺\u001b[0m\u001b[90m━━━━━━━━━━━━━━━━━━━━━━━━━━━━━━━━━━\u001b[0m \u001b[32m7.3/58.1 MB\u001b[0m \u001b[31m7.6 MB/s\u001b[0m eta \u001b[36m0:00:07\u001b[0m\r",
      "\u001b[2K     \u001b[91m━━━━━\u001b[0m\u001b[90m╺\u001b[0m\u001b[90m━━━━━━━━━━━━━━━━━━━━━━━━━━━━━━━━━━\u001b[0m \u001b[32m7.8/58.1 MB\u001b[0m \u001b[31m7.8 MB/s\u001b[0m eta \u001b[36m0:00:07\u001b[0m"
     ]
    },
    {
     "name": "stdout",
     "output_type": "stream",
     "text": [
      "\r",
      "\u001b[2K     \u001b[91m━━━━━\u001b[0m\u001b[91m╸\u001b[0m\u001b[90m━━━━━━━━━━━━━━━━━━━━━━━━━━━━━━━━━━\u001b[0m \u001b[32m8.3/58.1 MB\u001b[0m \u001b[31m8.0 MB/s\u001b[0m eta \u001b[36m0:00:07\u001b[0m"
     ]
    },
    {
     "name": "stdout",
     "output_type": "stream",
     "text": [
      "\r",
      "\u001b[2K     \u001b[91m━━━━━\u001b[0m\u001b[91m╸\u001b[0m\u001b[90m━━━━━━━━━━━━━━━━━━━━━━━━━━━━━━━━━━\u001b[0m \u001b[32m8.7/58.1 MB\u001b[0m \u001b[31m8.2 MB/s\u001b[0m eta \u001b[36m0:00:07\u001b[0m\r",
      "\u001b[2K     \u001b[91m━━━━━━\u001b[0m\u001b[90m╺\u001b[0m\u001b[90m━━━━━━━━━━━━━━━━━━━━━━━━━━━━━━━━━\u001b[0m \u001b[32m9.1/58.1 MB\u001b[0m \u001b[31m8.3 MB/s\u001b[0m eta \u001b[36m0:00:06\u001b[0m"
     ]
    },
    {
     "name": "stdout",
     "output_type": "stream",
     "text": [
      "\r",
      "\u001b[2K     \u001b[91m━━━━━━\u001b[0m\u001b[91m╸\u001b[0m\u001b[90m━━━━━━━━━━━━━━━━━━━━━━━━━━━━━━━━━\u001b[0m \u001b[32m9.6/58.1 MB\u001b[0m \u001b[31m8.4 MB/s\u001b[0m eta \u001b[36m0:00:06\u001b[0m"
     ]
    },
    {
     "name": "stdout",
     "output_type": "stream",
     "text": [
      "\r",
      "\u001b[2K     \u001b[91m━━━━━━\u001b[0m\u001b[91m╸\u001b[0m\u001b[90m━━━━━━━━━━━━━━━━━━━━━━━━━━━━━━━━━\u001b[0m \u001b[32m10.0/58.1 MB\u001b[0m \u001b[31m8.5 MB/s\u001b[0m eta \u001b[36m0:00:06\u001b[0m\r",
      "\u001b[2K     \u001b[91m━━━━━━━\u001b[0m\u001b[90m╺\u001b[0m\u001b[90m━━━━━━━━━━━━━━━━━━━━━━━━━━━━━━━━\u001b[0m \u001b[32m10.5/58.1 MB\u001b[0m \u001b[31m9.2 MB/s\u001b[0m eta \u001b[36m0:00:06\u001b[0m"
     ]
    },
    {
     "name": "stdout",
     "output_type": "stream",
     "text": [
      "\r",
      "\u001b[2K     \u001b[91m━━━━━━━\u001b[0m\u001b[91m╸\u001b[0m\u001b[90m━━━━━━━━━━━━━━━━━━━━━━━━━━━━━━━━\u001b[0m \u001b[32m11.0/58.1 MB\u001b[0m \u001b[31m9.9 MB/s\u001b[0m eta \u001b[36m0:00:05\u001b[0m"
     ]
    },
    {
     "name": "stdout",
     "output_type": "stream",
     "text": [
      "\r",
      "\u001b[2K     \u001b[91m━━━━━━━\u001b[0m\u001b[91m╸\u001b[0m\u001b[90m━━━━━━━━━━━━━━━━━━━━━━━━━━━━━━━━\u001b[0m \u001b[32m11.4/58.1 MB\u001b[0m \u001b[31m10.4 MB/s\u001b[0m eta \u001b[36m0:00:05\u001b[0m\r",
      "\u001b[2K     \u001b[91m━━━━━━━━\u001b[0m\u001b[90m╺\u001b[0m\u001b[90m━━━━━━━━━━━━━━━━━━━━━━━━━━━━━━━\u001b[0m \u001b[32m11.9/58.1 MB\u001b[0m \u001b[31m11.0 MB/s\u001b[0m eta \u001b[36m0:00:05\u001b[0m"
     ]
    },
    {
     "name": "stdout",
     "output_type": "stream",
     "text": [
      "\r",
      "\u001b[2K     \u001b[91m━━━━━━━━\u001b[0m\u001b[91m╸\u001b[0m\u001b[90m━━━━━━━━━━━━━━━━━━━━━━━━━━━━━━━\u001b[0m \u001b[32m12.4/58.1 MB\u001b[0m \u001b[31m11.5 MB/s\u001b[0m eta \u001b[36m0:00:04\u001b[0m"
     ]
    },
    {
     "name": "stdout",
     "output_type": "stream",
     "text": [
      "\r",
      "\u001b[2K     \u001b[91m━━━━━━━━\u001b[0m\u001b[91m╸\u001b[0m\u001b[90m━━━━━━━━━━━━━━━━━━━━━━━━━━━━━━━\u001b[0m \u001b[32m13.0/58.1 MB\u001b[0m \u001b[31m12.0 MB/s\u001b[0m eta \u001b[36m0:00:04\u001b[0m"
     ]
    },
    {
     "name": "stdout",
     "output_type": "stream",
     "text": [
      "\r",
      "\u001b[2K     \u001b[91m━━━━━━━━━\u001b[0m\u001b[90m╺\u001b[0m\u001b[90m━━━━━━━━━━━━━━━━━━━━━━━━━━━━━━\u001b[0m \u001b[32m13.5/58.1 MB\u001b[0m \u001b[31m12.3 MB/s\u001b[0m eta \u001b[36m0:00:04\u001b[0m\r",
      "\u001b[2K     \u001b[91m━━━━━━━━━\u001b[0m\u001b[91m╸\u001b[0m\u001b[90m━━━━━━━━━━━━━━━━━━━━━━━━━━━━━━\u001b[0m \u001b[32m14.0/58.1 MB\u001b[0m \u001b[31m12.5 MB/s\u001b[0m eta \u001b[36m0:00:04\u001b[0m"
     ]
    },
    {
     "name": "stdout",
     "output_type": "stream",
     "text": [
      "\r",
      "\u001b[2K     \u001b[91m━━━━━━━━━\u001b[0m\u001b[91m╸\u001b[0m\u001b[90m━━━━━━━━━━━━━━━━━━━━━━━━━━━━━━\u001b[0m \u001b[32m14.4/58.1 MB\u001b[0m \u001b[31m12.7 MB/s\u001b[0m eta \u001b[36m0:00:04\u001b[0m"
     ]
    },
    {
     "name": "stdout",
     "output_type": "stream",
     "text": [
      "\r",
      "\u001b[2K     \u001b[91m━━━━━━━━━━\u001b[0m\u001b[90m╺\u001b[0m\u001b[90m━━━━━━━━━━━━━━━━━━━━━━━━━━━━━\u001b[0m \u001b[32m15.0/58.1 MB\u001b[0m \u001b[31m12.9 MB/s\u001b[0m eta \u001b[36m0:00:04\u001b[0m"
     ]
    },
    {
     "name": "stdout",
     "output_type": "stream",
     "text": [
      "\r",
      "\u001b[2K     \u001b[91m━━━━━━━━━━\u001b[0m\u001b[91m╸\u001b[0m\u001b[90m━━━━━━━━━━━━━━━━━━━━━━━━━━━━━\u001b[0m \u001b[32m15.5/58.1 MB\u001b[0m \u001b[31m13.1 MB/s\u001b[0m eta \u001b[36m0:00:04\u001b[0m\r",
      "\u001b[2K     \u001b[91m━━━━━━━━━━\u001b[0m\u001b[91m╸\u001b[0m\u001b[90m━━━━━━━━━━━━━━━━━━━━━━━━━━━━━\u001b[0m \u001b[32m15.9/58.1 MB\u001b[0m \u001b[31m13.2 MB/s\u001b[0m eta \u001b[36m0:00:04\u001b[0m"
     ]
    },
    {
     "name": "stdout",
     "output_type": "stream",
     "text": [
      "\r",
      "\u001b[2K     \u001b[91m━━━━━━━━━━━\u001b[0m\u001b[90m╺\u001b[0m\u001b[90m━━━━━━━━━━━━━━━━━━━━━━━━━━━━\u001b[0m \u001b[32m16.4/58.1 MB\u001b[0m \u001b[31m13.1 MB/s\u001b[0m eta \u001b[36m0:00:04\u001b[0m"
     ]
    },
    {
     "name": "stdout",
     "output_type": "stream",
     "text": [
      "\r",
      "\u001b[2K     \u001b[91m━━━━━━━━━━━\u001b[0m\u001b[91m╸\u001b[0m\u001b[90m━━━━━━━━━━━━━━━━━━━━━━━━━━━━\u001b[0m \u001b[32m16.9/58.1 MB\u001b[0m \u001b[31m13.2 MB/s\u001b[0m eta \u001b[36m0:00:04\u001b[0m\r",
      "\u001b[2K     \u001b[91m━━━━━━━━━━━\u001b[0m\u001b[91m╸\u001b[0m\u001b[90m━━━━━━━━━━━━━━━━━━━━━━━━━━━━\u001b[0m \u001b[32m17.4/58.1 MB\u001b[0m \u001b[31m13.3 MB/s\u001b[0m eta \u001b[36m0:00:04\u001b[0m"
     ]
    },
    {
     "name": "stdout",
     "output_type": "stream",
     "text": [
      "\r",
      "\u001b[2K     \u001b[91m━━━━━━━━━━━━\u001b[0m\u001b[90m╺\u001b[0m\u001b[90m━━━━━━━━━━━━━━━━━━━━━━━━━━━\u001b[0m \u001b[32m17.8/58.1 MB\u001b[0m \u001b[31m13.3 MB/s\u001b[0m eta \u001b[36m0:00:04\u001b[0m"
     ]
    },
    {
     "name": "stdout",
     "output_type": "stream",
     "text": [
      "\r",
      "\u001b[2K     \u001b[91m━━━━━━━━━━━━\u001b[0m\u001b[91m╸\u001b[0m\u001b[90m━━━━━━━━━━━━━━━━━━━━━━━━━━━\u001b[0m \u001b[32m18.2/58.1 MB\u001b[0m \u001b[31m13.3 MB/s\u001b[0m eta \u001b[36m0:00:03\u001b[0m\r",
      "\u001b[2K     \u001b[91m━━━━━━━━━━━━\u001b[0m\u001b[91m╸\u001b[0m\u001b[90m━━━━━━━━━━━━━━━━━━━━━━━━━━━\u001b[0m \u001b[32m18.8/58.1 MB\u001b[0m \u001b[31m13.3 MB/s\u001b[0m eta \u001b[36m0:00:03\u001b[0m"
     ]
    },
    {
     "name": "stdout",
     "output_type": "stream",
     "text": [
      "\r",
      "\u001b[2K     \u001b[91m━━━━━━━━━━━━━\u001b[0m\u001b[90m╺\u001b[0m\u001b[90m━━━━━━━━━━━━━━━━━━━━━━━━━━\u001b[0m \u001b[32m19.3/58.1 MB\u001b[0m \u001b[31m13.3 MB/s\u001b[0m eta \u001b[36m0:00:03\u001b[0m"
     ]
    },
    {
     "name": "stdout",
     "output_type": "stream",
     "text": [
      "\r",
      "\u001b[2K     \u001b[91m━━━━━━━━━━━━━\u001b[0m\u001b[91m╸\u001b[0m\u001b[90m━━━━━━━━━━━━━━━━━━━━━━━━━━\u001b[0m \u001b[32m19.7/58.1 MB\u001b[0m \u001b[31m13.3 MB/s\u001b[0m eta \u001b[36m0:00:03\u001b[0m"
     ]
    },
    {
     "name": "stdout",
     "output_type": "stream",
     "text": [
      "\r",
      "\u001b[2K     \u001b[91m━━━━━━━━━━━━━\u001b[0m\u001b[91m╸\u001b[0m\u001b[90m━━━━━━━━━━━━━━━━━━━━━━━━━━\u001b[0m \u001b[32m20.3/58.1 MB\u001b[0m \u001b[31m13.5 MB/s\u001b[0m eta \u001b[36m0:00:03\u001b[0m\r",
      "\u001b[2K     \u001b[91m━━━━━━━━━━━━━━\u001b[0m\u001b[90m╺\u001b[0m\u001b[90m━━━━━━━━━━━━━━━━━━━━━━━━━\u001b[0m \u001b[32m20.7/58.1 MB\u001b[0m \u001b[31m13.5 MB/s\u001b[0m eta \u001b[36m0:00:03\u001b[0m"
     ]
    },
    {
     "name": "stdout",
     "output_type": "stream",
     "text": [
      "\r",
      "\u001b[2K     \u001b[91m━━━━━━━━━━━━━━\u001b[0m\u001b[91m╸\u001b[0m\u001b[90m━━━━━━━━━━━━━━━━━━━━━━━━━\u001b[0m \u001b[32m21.1/58.1 MB\u001b[0m \u001b[31m13.5 MB/s\u001b[0m eta \u001b[36m0:00:03\u001b[0m"
     ]
    },
    {
     "name": "stdout",
     "output_type": "stream",
     "text": [
      "\r",
      "\u001b[2K     \u001b[91m━━━━━━━━━━━━━━\u001b[0m\u001b[91m╸\u001b[0m\u001b[90m━━━━━━━━━━━━━━━━━━━━━━━━━\u001b[0m \u001b[32m21.6/58.1 MB\u001b[0m \u001b[31m13.5 MB/s\u001b[0m eta \u001b[36m0:00:03\u001b[0m\r",
      "\u001b[2K     \u001b[91m━━━━━━━━━━━━━━━\u001b[0m\u001b[90m╺\u001b[0m\u001b[90m━━━━━━━━━━━━━━━━━━━━━━━━\u001b[0m \u001b[32m22.1/58.1 MB\u001b[0m \u001b[31m13.5 MB/s\u001b[0m eta \u001b[36m0:00:03\u001b[0m"
     ]
    },
    {
     "name": "stdout",
     "output_type": "stream",
     "text": [
      "\r",
      "\u001b[2K     \u001b[91m━━━━━━━━━━━━━━━\u001b[0m\u001b[91m╸\u001b[0m\u001b[90m━━━━━━━━━━━━━━━━━━━━━━━━\u001b[0m \u001b[32m22.6/58.1 MB\u001b[0m \u001b[31m13.5 MB/s\u001b[0m eta \u001b[36m0:00:03\u001b[0m"
     ]
    },
    {
     "name": "stdout",
     "output_type": "stream",
     "text": [
      "\r",
      "\u001b[2K     \u001b[91m━━━━━━━━━━━━━━━\u001b[0m\u001b[91m╸\u001b[0m\u001b[90m━━━━━━━━━━━━━━━━━━━━━━━━\u001b[0m \u001b[32m23.1/58.1 MB\u001b[0m \u001b[31m13.5 MB/s\u001b[0m eta \u001b[36m0:00:03\u001b[0m\r",
      "\u001b[2K     \u001b[91m━━━━━━━━━━━━━━━━\u001b[0m\u001b[90m╺\u001b[0m\u001b[90m━━━━━━━━━━━━━━━━━━━━━━━\u001b[0m \u001b[32m23.5/58.1 MB\u001b[0m \u001b[31m13.5 MB/s\u001b[0m eta \u001b[36m0:00:03\u001b[0m"
     ]
    },
    {
     "name": "stdout",
     "output_type": "stream",
     "text": [
      "\r",
      "\u001b[2K     \u001b[91m━━━━━━━━━━━━━━━━\u001b[0m\u001b[90m╺\u001b[0m\u001b[90m━━━━━━━━━━━━━━━━━━━━━━━\u001b[0m \u001b[32m23.9/58.1 MB\u001b[0m \u001b[31m13.5 MB/s\u001b[0m eta \u001b[36m0:00:03\u001b[0m"
     ]
    },
    {
     "name": "stdout",
     "output_type": "stream",
     "text": [
      "\r",
      "\u001b[2K     \u001b[91m━━━━━━━━━━━━━━━━\u001b[0m\u001b[91m╸\u001b[0m\u001b[90m━━━━━━━━━━━━━━━━━━━━━━━\u001b[0m \u001b[32m24.4/58.1 MB\u001b[0m \u001b[31m13.3 MB/s\u001b[0m eta \u001b[36m0:00:03\u001b[0m\r",
      "\u001b[2K     \u001b[91m━━━━━━━━━━━━━━━━━\u001b[0m\u001b[90m╺\u001b[0m\u001b[90m━━━━━━━━━━━━━━━━━━━━━━\u001b[0m \u001b[32m24.9/58.1 MB\u001b[0m \u001b[31m13.3 MB/s\u001b[0m eta \u001b[36m0:00:03\u001b[0m"
     ]
    },
    {
     "name": "stdout",
     "output_type": "stream",
     "text": [
      "\r",
      "\u001b[2K     \u001b[91m━━━━━━━━━━━━━━━━━\u001b[0m\u001b[90m╺\u001b[0m\u001b[90m━━━━━━━━━━━━━━━━━━━━━━\u001b[0m \u001b[32m25.4/58.1 MB\u001b[0m \u001b[31m13.4 MB/s\u001b[0m eta \u001b[36m0:00:03\u001b[0m"
     ]
    },
    {
     "name": "stdout",
     "output_type": "stream",
     "text": [
      "\r",
      "\u001b[2K     \u001b[91m━━━━━━━━━━━━━━━━━\u001b[0m\u001b[91m╸\u001b[0m\u001b[90m━━━━━━━━━━━━━━━━━━━━━━\u001b[0m \u001b[32m25.9/58.1 MB\u001b[0m \u001b[31m13.5 MB/s\u001b[0m eta \u001b[36m0:00:03\u001b[0m\r",
      "\u001b[2K     \u001b[91m━━━━━━━━━━━━━━━━━━\u001b[0m\u001b[90m╺\u001b[0m\u001b[90m━━━━━━━━━━━━━━━━━━━━━\u001b[0m \u001b[32m26.4/58.1 MB\u001b[0m \u001b[31m13.5 MB/s\u001b[0m eta \u001b[36m0:00:03\u001b[0m"
     ]
    },
    {
     "name": "stdout",
     "output_type": "stream",
     "text": [
      "\r",
      "\u001b[2K     \u001b[91m━━━━━━━━━━━━━━━━━━\u001b[0m\u001b[90m╺\u001b[0m\u001b[90m━━━━━━━━━━━━━━━━━━━━━\u001b[0m \u001b[32m26.8/58.1 MB\u001b[0m \u001b[31m13.5 MB/s\u001b[0m eta \u001b[36m0:00:03\u001b[0m"
     ]
    },
    {
     "name": "stdout",
     "output_type": "stream",
     "text": [
      "\r",
      "\u001b[2K     \u001b[91m━━━━━━━━━━━━━━━━━━\u001b[0m\u001b[91m╸\u001b[0m\u001b[90m━━━━━━━━━━━━━━━━━━━━━\u001b[0m \u001b[32m27.2/58.1 MB\u001b[0m \u001b[31m13.3 MB/s\u001b[0m eta \u001b[36m0:00:03\u001b[0m"
     ]
    },
    {
     "name": "stdout",
     "output_type": "stream",
     "text": [
      "\r",
      "\u001b[2K     \u001b[91m━━━━━━━━━━━━━━━━━━━\u001b[0m\u001b[90m╺\u001b[0m\u001b[90m━━━━━━━━━━━━━━━━━━━━\u001b[0m \u001b[32m27.8/58.1 MB\u001b[0m \u001b[31m13.4 MB/s\u001b[0m eta \u001b[36m0:00:03\u001b[0m\r",
      "\u001b[2K     \u001b[91m━━━━━━━━━━━━━━━━━━━\u001b[0m\u001b[90m╺\u001b[0m\u001b[90m━━━━━━━━━━━━━━━━━━━━\u001b[0m \u001b[32m28.3/58.1 MB\u001b[0m \u001b[31m13.5 MB/s\u001b[0m eta \u001b[36m0:00:03\u001b[0m"
     ]
    },
    {
     "name": "stdout",
     "output_type": "stream",
     "text": [
      "\r",
      "\u001b[2K     \u001b[91m━━━━━━━━━━━━━━━━━━━\u001b[0m\u001b[91m╸\u001b[0m\u001b[90m━━━━━━━━━━━━━━━━━━━━\u001b[0m \u001b[32m28.7/58.1 MB\u001b[0m \u001b[31m13.5 MB/s\u001b[0m eta \u001b[36m0:00:03\u001b[0m"
     ]
    },
    {
     "name": "stdout",
     "output_type": "stream",
     "text": [
      "\r",
      "\u001b[2K     \u001b[91m━━━━━━━━━━━━━━━━━━━━\u001b[0m\u001b[90m╺\u001b[0m\u001b[90m━━━━━━━━━━━━━━━━━━━\u001b[0m \u001b[32m29.1/58.1 MB\u001b[0m \u001b[31m13.4 MB/s\u001b[0m eta \u001b[36m0:00:03\u001b[0m\r",
      "\u001b[2K     \u001b[91m━━━━━━━━━━━━━━━━━━━━\u001b[0m\u001b[90m╺\u001b[0m\u001b[90m━━━━━━━━━━━━━━━━━━━\u001b[0m \u001b[32m29.6/58.1 MB\u001b[0m \u001b[31m13.2 MB/s\u001b[0m eta \u001b[36m0:00:03\u001b[0m"
     ]
    },
    {
     "name": "stdout",
     "output_type": "stream",
     "text": [
      "\r",
      "\u001b[2K     \u001b[91m━━━━━━━━━━━━━━━━━━━━\u001b[0m\u001b[91m╸\u001b[0m\u001b[90m━━━━━━━━━━━━━━━━━━━\u001b[0m \u001b[32m30.1/58.1 MB\u001b[0m \u001b[31m13.2 MB/s\u001b[0m eta \u001b[36m0:00:03\u001b[0m"
     ]
    },
    {
     "name": "stdout",
     "output_type": "stream",
     "text": [
      "\r",
      "\u001b[2K     \u001b[91m━━━━━━━━━━━━━━━━━━━━━\u001b[0m\u001b[90m╺\u001b[0m\u001b[90m━━━━━━━━━━━━━━━━━━\u001b[0m \u001b[32m30.6/58.1 MB\u001b[0m \u001b[31m13.4 MB/s\u001b[0m eta \u001b[36m0:00:03\u001b[0m\r",
      "\u001b[2K     \u001b[91m━━━━━━━━━━━━━━━━━━━━━\u001b[0m\u001b[90m╺\u001b[0m\u001b[90m━━━━━━━━━━━━━━━━━━\u001b[0m \u001b[32m31.1/58.1 MB\u001b[0m \u001b[31m13.4 MB/s\u001b[0m eta \u001b[36m0:00:03\u001b[0m"
     ]
    },
    {
     "name": "stdout",
     "output_type": "stream",
     "text": [
      "\r",
      "\u001b[2K     \u001b[91m━━━━━━━━━━━━━━━━━━━━━\u001b[0m\u001b[91m╸\u001b[0m\u001b[90m━━━━━━━━━━━━━━━━━━\u001b[0m \u001b[32m31.5/58.1 MB\u001b[0m \u001b[31m13.4 MB/s\u001b[0m eta \u001b[36m0:00:02\u001b[0m"
     ]
    },
    {
     "name": "stdout",
     "output_type": "stream",
     "text": [
      "\r",
      "\u001b[2K     \u001b[91m━━━━━━━━━━━━━━━━━━━━━\u001b[0m\u001b[91m╸\u001b[0m\u001b[90m━━━━━━━━━━━━━━━━━━\u001b[0m \u001b[32m31.9/58.1 MB\u001b[0m \u001b[31m13.2 MB/s\u001b[0m eta \u001b[36m0:00:02\u001b[0m"
     ]
    },
    {
     "name": "stdout",
     "output_type": "stream",
     "text": [
      "\r",
      "\u001b[2K     \u001b[91m━━━━━━━━━━━━━━━━━━━━━━\u001b[0m\u001b[90m╺\u001b[0m\u001b[90m━━━━━━━━━━━━━━━━━\u001b[0m \u001b[32m32.5/58.1 MB\u001b[0m \u001b[31m13.3 MB/s\u001b[0m eta \u001b[36m0:00:02\u001b[0m\r",
      "\u001b[2K     \u001b[91m━━━━━━━━━━━━━━━━━━━━━━\u001b[0m\u001b[91m╸\u001b[0m\u001b[90m━━━━━━━━━━━━━━━━━\u001b[0m \u001b[32m33.0/58.1 MB\u001b[0m \u001b[31m13.5 MB/s\u001b[0m eta \u001b[36m0:00:02\u001b[0m"
     ]
    },
    {
     "name": "stdout",
     "output_type": "stream",
     "text": [
      "\r",
      "\u001b[2K     \u001b[91m━━━━━━━━━━━━━━━━━━━━━━━\u001b[0m\u001b[90m╺\u001b[0m\u001b[90m━━━━━━━━━━━━━━━━\u001b[0m \u001b[32m33.4/58.1 MB\u001b[0m \u001b[31m13.5 MB/s\u001b[0m eta \u001b[36m0:00:02\u001b[0m"
     ]
    },
    {
     "name": "stdout",
     "output_type": "stream",
     "text": [
      "\r",
      "\u001b[2K     \u001b[91m━━━━━━━━━━━━━━━━━━━━━━━\u001b[0m\u001b[90m╺\u001b[0m\u001b[90m━━━━━━━━━━━━━━━━\u001b[0m \u001b[32m33.9/58.1 MB\u001b[0m \u001b[31m13.5 MB/s\u001b[0m eta \u001b[36m0:00:02\u001b[0m\r",
      "\u001b[2K     \u001b[91m━━━━━━━━━━━━━━━━━━━━━━━\u001b[0m\u001b[91m╸\u001b[0m\u001b[90m━━━━━━━━━━━━━━━━\u001b[0m \u001b[32m34.3/58.1 MB\u001b[0m \u001b[31m13.5 MB/s\u001b[0m eta \u001b[36m0:00:02\u001b[0m"
     ]
    },
    {
     "name": "stdout",
     "output_type": "stream",
     "text": [
      "\r",
      "\u001b[2K     \u001b[91m━━━━━━━━━━━━━━━━━━━━━━━\u001b[0m\u001b[91m╸\u001b[0m\u001b[90m━━━━━━━━━━━━━━━━\u001b[0m \u001b[32m34.8/58.1 MB\u001b[0m \u001b[31m13.3 MB/s\u001b[0m eta \u001b[36m0:00:02\u001b[0m"
     ]
    },
    {
     "name": "stdout",
     "output_type": "stream",
     "text": [
      "\r",
      "\u001b[2K     \u001b[91m━━━━━━━━━━━━━━━━━━━━━━━━\u001b[0m\u001b[90m╺\u001b[0m\u001b[90m━━━━━━━━━━━━━━━\u001b[0m \u001b[32m35.3/58.1 MB\u001b[0m \u001b[31m13.3 MB/s\u001b[0m eta \u001b[36m0:00:02\u001b[0m\r",
      "\u001b[2K     \u001b[91m━━━━━━━━━━━━━━━━━━━━━━━━\u001b[0m\u001b[91m╸\u001b[0m\u001b[90m━━━━━━━━━━━━━━━\u001b[0m \u001b[32m35.8/58.1 MB\u001b[0m \u001b[31m13.5 MB/s\u001b[0m eta \u001b[36m0:00:02\u001b[0m"
     ]
    },
    {
     "name": "stdout",
     "output_type": "stream",
     "text": [
      "\r",
      "\u001b[2K     \u001b[91m━━━━━━━━━━━━━━━━━━━━━━━━\u001b[0m\u001b[91m╸\u001b[0m\u001b[90m━━━━━━━━━━━━━━━\u001b[0m \u001b[32m36.3/58.1 MB\u001b[0m \u001b[31m13.5 MB/s\u001b[0m eta \u001b[36m0:00:02\u001b[0m"
     ]
    },
    {
     "name": "stdout",
     "output_type": "stream",
     "text": [
      "\r",
      "\u001b[2K     \u001b[91m━━━━━━━━━━━━━━━━━━━━━━━━━\u001b[0m\u001b[90m╺\u001b[0m\u001b[90m━━━━━━━━━━━━━━\u001b[0m \u001b[32m36.7/58.1 MB\u001b[0m \u001b[31m13.5 MB/s\u001b[0m eta \u001b[36m0:00:02\u001b[0m\r",
      "\u001b[2K     \u001b[91m━━━━━━━━━━━━━━━━━━━━━━━━━\u001b[0m\u001b[91m╸\u001b[0m\u001b[90m━━━━━━━━━━━━━━\u001b[0m \u001b[32m37.1/58.1 MB\u001b[0m \u001b[31m13.3 MB/s\u001b[0m eta \u001b[36m0:00:02\u001b[0m"
     ]
    },
    {
     "name": "stdout",
     "output_type": "stream",
     "text": [
      "\r",
      "\u001b[2K     \u001b[91m━━━━━━━━━━━━━━━━━━━━━━━━━\u001b[0m\u001b[91m╸\u001b[0m\u001b[90m━━━━━━━━━━━━━━\u001b[0m \u001b[32m37.6/58.1 MB\u001b[0m \u001b[31m13.3 MB/s\u001b[0m eta \u001b[36m0:00:02\u001b[0m"
     ]
    },
    {
     "name": "stdout",
     "output_type": "stream",
     "text": [
      "\r",
      "\u001b[2K     \u001b[91m━━━━━━━━━━━━━━━━━━━━━━━━━━\u001b[0m\u001b[90m╺\u001b[0m\u001b[90m━━━━━━━━━━━━━\u001b[0m \u001b[32m38.1/58.1 MB\u001b[0m \u001b[31m13.2 MB/s\u001b[0m eta \u001b[36m0:00:02\u001b[0m"
     ]
    },
    {
     "name": "stdout",
     "output_type": "stream",
     "text": [
      "\r",
      "\u001b[2K     \u001b[91m━━━━━━━━━━━━━━━━━━━━━━━━━━\u001b[0m\u001b[91m╸\u001b[0m\u001b[90m━━━━━━━━━━━━━\u001b[0m \u001b[32m38.6/58.1 MB\u001b[0m \u001b[31m13.5 MB/s\u001b[0m eta \u001b[36m0:00:02\u001b[0m\r",
      "\u001b[2K     \u001b[91m━━━━━━━━━━━━━━━━━━━━━━━━━━\u001b[0m\u001b[91m╸\u001b[0m\u001b[90m━━━━━━━━━━━━━\u001b[0m \u001b[32m39.2/58.1 MB\u001b[0m \u001b[31m13.5 MB/s\u001b[0m eta \u001b[36m0:00:02\u001b[0m"
     ]
    },
    {
     "name": "stdout",
     "output_type": "stream",
     "text": [
      "\r",
      "\u001b[2K     \u001b[91m━━━━━━━━━━━━━━━━━━━━━━━━━━━\u001b[0m\u001b[90m╺\u001b[0m\u001b[90m━━━━━━━━━━━━\u001b[0m \u001b[32m39.6/58.1 MB\u001b[0m \u001b[31m13.4 MB/s\u001b[0m eta \u001b[36m0:00:02\u001b[0m"
     ]
    },
    {
     "name": "stdout",
     "output_type": "stream",
     "text": [
      "\r",
      "\u001b[2K     \u001b[91m━━━━━━━━━━━━━━━━━━━━━━━━━━━\u001b[0m\u001b[90m╺\u001b[0m\u001b[90m━━━━━━━━━━━━\u001b[0m \u001b[32m40.0/58.1 MB\u001b[0m \u001b[31m13.4 MB/s\u001b[0m eta \u001b[36m0:00:02\u001b[0m\r",
      "\u001b[2K     \u001b[91m━━━━━━━━━━━━━━━━━━━━━━━━━━━\u001b[0m\u001b[91m╸\u001b[0m\u001b[90m━━━━━━━━━━━━\u001b[0m \u001b[32m40.4/58.1 MB\u001b[0m \u001b[31m13.2 MB/s\u001b[0m eta \u001b[36m0:00:02\u001b[0m"
     ]
    },
    {
     "name": "stdout",
     "output_type": "stream",
     "text": [
      "\r",
      "\u001b[2K     \u001b[91m━━━━━━━━━━━━━━━━━━━━━━━━━━━━\u001b[0m\u001b[90m╺\u001b[0m\u001b[90m━━━━━━━━━━━\u001b[0m \u001b[32m41.0/58.1 MB\u001b[0m \u001b[31m13.4 MB/s\u001b[0m eta \u001b[36m0:00:02\u001b[0m"
     ]
    },
    {
     "name": "stdout",
     "output_type": "stream",
     "text": [
      "\r",
      "\u001b[2K     \u001b[91m━━━━━━━━━━━━━━━━━━━━━━━━━━━━\u001b[0m\u001b[91m╸\u001b[0m\u001b[90m━━━━━━━━━━━\u001b[0m \u001b[32m41.5/58.1 MB\u001b[0m \u001b[31m13.4 MB/s\u001b[0m eta \u001b[36m0:00:02\u001b[0m\r",
      "\u001b[2K     \u001b[91m━━━━━━━━━━━━━━━━━━━━━━━━━━━━\u001b[0m\u001b[91m╸\u001b[0m\u001b[90m━━━━━━━━━━━\u001b[0m \u001b[32m42.0/58.1 MB\u001b[0m \u001b[31m13.4 MB/s\u001b[0m eta \u001b[36m0:00:02\u001b[0m"
     ]
    },
    {
     "name": "stdout",
     "output_type": "stream",
     "text": [
      "\r",
      "\u001b[2K     \u001b[91m━━━━━━━━━━━━━━━━━━━━━━━━━━━━━\u001b[0m\u001b[90m╺\u001b[0m\u001b[90m━━━━━━━━━━\u001b[0m \u001b[32m42.6/58.1 MB\u001b[0m \u001b[31m13.6 MB/s\u001b[0m eta \u001b[36m0:00:02\u001b[0m"
     ]
    },
    {
     "name": "stdout",
     "output_type": "stream",
     "text": [
      "\r",
      "\u001b[2K     \u001b[91m━━━━━━━━━━━━━━━━━━━━━━━━━━━━━\u001b[0m\u001b[91m╸\u001b[0m\u001b[90m━━━━━━━━━━\u001b[0m \u001b[32m43.0/58.1 MB\u001b[0m \u001b[31m13.6 MB/s\u001b[0m eta \u001b[36m0:00:02\u001b[0m"
     ]
    },
    {
     "name": "stdout",
     "output_type": "stream",
     "text": [
      "\r",
      "\u001b[2K     \u001b[91m━━━━━━━━━━━━━━━━━━━━━━━━━━━━━\u001b[0m\u001b[91m╸\u001b[0m\u001b[90m━━━━━━━━━━\u001b[0m \u001b[32m43.5/58.1 MB\u001b[0m \u001b[31m13.6 MB/s\u001b[0m eta \u001b[36m0:00:02\u001b[0m\r",
      "\u001b[2K     \u001b[91m━━━━━━━━━━━━━━━━━━━━━━━━━━━━━━\u001b[0m\u001b[90m╺\u001b[0m\u001b[90m━━━━━━━━━\u001b[0m \u001b[32m43.9/58.1 MB\u001b[0m \u001b[31m13.6 MB/s\u001b[0m eta \u001b[36m0:00:02\u001b[0m"
     ]
    },
    {
     "name": "stdout",
     "output_type": "stream",
     "text": [
      "\r",
      "\u001b[2K     \u001b[91m━━━━━━━━━━━━━━━━━━━━━━━━━━━━━━\u001b[0m\u001b[91m╸\u001b[0m\u001b[90m━━━━━━━━━\u001b[0m \u001b[32m44.4/58.1 MB\u001b[0m \u001b[31m13.4 MB/s\u001b[0m eta \u001b[36m0:00:02\u001b[0m"
     ]
    },
    {
     "name": "stdout",
     "output_type": "stream",
     "text": [
      "\r",
      "\u001b[2K     \u001b[91m━━━━━━━━━━━━━━━━━━━━━━━━━━━━━━\u001b[0m\u001b[91m╸\u001b[0m\u001b[90m━━━━━━━━━\u001b[0m \u001b[32m44.9/58.1 MB\u001b[0m \u001b[31m13.4 MB/s\u001b[0m eta \u001b[36m0:00:01\u001b[0m\r",
      "\u001b[2K     \u001b[91m━━━━━━━━━━━━━━━━━━━━━━━━━━━━━━━\u001b[0m\u001b[90m╺\u001b[0m\u001b[90m━━━━━━━━\u001b[0m \u001b[32m45.4/58.1 MB\u001b[0m \u001b[31m13.6 MB/s\u001b[0m eta \u001b[36m0:00:01\u001b[0m"
     ]
    },
    {
     "name": "stdout",
     "output_type": "stream",
     "text": [
      "\r",
      "\u001b[2K     \u001b[91m━━━━━━━━━━━━━━━━━━━━━━━━━━━━━━━\u001b[0m\u001b[91m╸\u001b[0m\u001b[90m━━━━━━━━\u001b[0m \u001b[32m45.8/58.1 MB\u001b[0m \u001b[31m13.5 MB/s\u001b[0m eta \u001b[36m0:00:01\u001b[0m"
     ]
    },
    {
     "name": "stdout",
     "output_type": "stream",
     "text": [
      "\r",
      "\u001b[2K     \u001b[91m━━━━━━━━━━━━━━━━━━━━━━━━━━━━━━━\u001b[0m\u001b[91m╸\u001b[0m\u001b[90m━━━━━━━━\u001b[0m \u001b[32m46.4/58.1 MB\u001b[0m \u001b[31m13.5 MB/s\u001b[0m eta \u001b[36m0:00:01\u001b[0m\r",
      "\u001b[2K     \u001b[91m━━━━━━━━━━━━━━━━━━━━━━━━━━━━━━━━\u001b[0m\u001b[90m╺\u001b[0m\u001b[90m━━━━━━━\u001b[0m \u001b[32m46.9/58.1 MB\u001b[0m \u001b[31m13.5 MB/s\u001b[0m eta \u001b[36m0:00:01\u001b[0m"
     ]
    },
    {
     "name": "stdout",
     "output_type": "stream",
     "text": [
      "\r",
      "\u001b[2K     \u001b[91m━━━━━━━━━━━━━━━━━━━━━━━━━━━━━━━━\u001b[0m\u001b[91m╸\u001b[0m\u001b[90m━━━━━━━\u001b[0m \u001b[32m47.3/58.1 MB\u001b[0m \u001b[31m13.5 MB/s\u001b[0m eta \u001b[36m0:00:01\u001b[0m"
     ]
    },
    {
     "name": "stdout",
     "output_type": "stream",
     "text": [
      "\r",
      "\u001b[2K     \u001b[91m━━━━━━━━━━━━━━━━━━━━━━━━━━━━━━━━\u001b[0m\u001b[91m╸\u001b[0m\u001b[90m━━━━━━━\u001b[0m \u001b[32m47.7/58.1 MB\u001b[0m \u001b[31m13.6 MB/s\u001b[0m eta \u001b[36m0:00:01\u001b[0m\r",
      "\u001b[2K     \u001b[91m━━━━━━━━━━━━━━━━━━━━━━━━━━━━━━━━━\u001b[0m\u001b[90m╺\u001b[0m\u001b[90m━━━━━━\u001b[0m \u001b[32m48.3/58.1 MB\u001b[0m \u001b[31m13.6 MB/s\u001b[0m eta \u001b[36m0:00:01\u001b[0m"
     ]
    },
    {
     "name": "stdout",
     "output_type": "stream",
     "text": [
      "\r",
      "\u001b[2K     \u001b[91m━━━━━━━━━━━━━━━━━━━━━━━━━━━━━━━━━\u001b[0m\u001b[91m╸\u001b[0m\u001b[90m━━━━━━\u001b[0m \u001b[32m48.7/58.1 MB\u001b[0m \u001b[31m13.6 MB/s\u001b[0m eta \u001b[36m0:00:01\u001b[0m"
     ]
    },
    {
     "name": "stdout",
     "output_type": "stream",
     "text": [
      "\r",
      "\u001b[2K     \u001b[91m━━━━━━━━━━━━━━━━━━━━━━━━━━━━━━━━━\u001b[0m\u001b[91m╸\u001b[0m\u001b[90m━━━━━━\u001b[0m \u001b[32m49.3/58.1 MB\u001b[0m \u001b[31m13.6 MB/s\u001b[0m eta \u001b[36m0:00:01\u001b[0m"
     ]
    },
    {
     "name": "stdout",
     "output_type": "stream",
     "text": [
      "\r",
      "\u001b[2K     \u001b[91m━━━━━━━━━━━━━━━━━━━━━━━━━━━━━━━━━━\u001b[0m\u001b[90m╺\u001b[0m\u001b[90m━━━━━\u001b[0m \u001b[32m49.8/58.1 MB\u001b[0m \u001b[31m13.6 MB/s\u001b[0m eta \u001b[36m0:00:01\u001b[0m\r",
      "\u001b[2K     \u001b[91m━━━━━━━━━━━━━━━━━━━━━━━━━━━━━━━━━━\u001b[0m\u001b[91m╸\u001b[0m\u001b[90m━━━━━\u001b[0m \u001b[32m50.2/58.1 MB\u001b[0m \u001b[31m13.6 MB/s\u001b[0m eta \u001b[36m0:00:01\u001b[0m"
     ]
    },
    {
     "name": "stdout",
     "output_type": "stream",
     "text": [
      "\r",
      "\u001b[2K     \u001b[91m━━━━━━━━━━━━━━━━━━━━━━━━━━━━━━━━━━\u001b[0m\u001b[91m╸\u001b[0m\u001b[90m━━━━━\u001b[0m \u001b[32m50.6/58.1 MB\u001b[0m \u001b[31m13.7 MB/s\u001b[0m eta \u001b[36m0:00:01\u001b[0m"
     ]
    },
    {
     "name": "stdout",
     "output_type": "stream",
     "text": [
      "\r",
      "\u001b[2K     \u001b[91m━━━━━━━━━━━━━━━━━━━━━━━━━━━━━━━━━━━\u001b[0m\u001b[90m╺\u001b[0m\u001b[90m━━━━\u001b[0m \u001b[32m51.1/58.1 MB\u001b[0m \u001b[31m13.7 MB/s\u001b[0m eta \u001b[36m0:00:01\u001b[0m\r",
      "\u001b[2K     \u001b[91m━━━━━━━━━━━━━━━━━━━━━━━━━━━━━━━━━━━\u001b[0m\u001b[91m╸\u001b[0m\u001b[90m━━━━\u001b[0m \u001b[32m51.6/58.1 MB\u001b[0m \u001b[31m13.7 MB/s\u001b[0m eta \u001b[36m0:00:01\u001b[0m"
     ]
    },
    {
     "name": "stdout",
     "output_type": "stream",
     "text": [
      "\r",
      "\u001b[2K     \u001b[91m━━━━━━━━━━━━━━━━━━━━━━━━━━━━━━━━━━━\u001b[0m\u001b[91m╸\u001b[0m\u001b[90m━━━━\u001b[0m \u001b[32m52.2/58.1 MB\u001b[0m \u001b[31m13.7 MB/s\u001b[0m eta \u001b[36m0:00:01\u001b[0m"
     ]
    },
    {
     "name": "stdout",
     "output_type": "stream",
     "text": [
      "\r",
      "\u001b[2K     \u001b[91m━━━━━━━━━━━━━━━━━━━━━━━━━━━━━━━━━━━━\u001b[0m\u001b[90m╺\u001b[0m\u001b[90m━━━\u001b[0m \u001b[32m52.6/58.1 MB\u001b[0m \u001b[31m13.7 MB/s\u001b[0m eta \u001b[36m0:00:01\u001b[0m\r",
      "\u001b[2K     \u001b[91m━━━━━━━━━━━━━━━━━━━━━━━━━━━━━━━━━━━━\u001b[0m\u001b[90m╺\u001b[0m\u001b[90m━━━\u001b[0m \u001b[32m53.0/58.1 MB\u001b[0m \u001b[31m13.7 MB/s\u001b[0m eta \u001b[36m0:00:01\u001b[0m"
     ]
    },
    {
     "name": "stdout",
     "output_type": "stream",
     "text": [
      "\r",
      "\u001b[2K     \u001b[91m━━━━━━━━━━━━━━━━━━━━━━━━━━━━━━━━━━━━\u001b[0m\u001b[91m╸\u001b[0m\u001b[90m━━━\u001b[0m \u001b[32m53.5/58.1 MB\u001b[0m \u001b[31m13.5 MB/s\u001b[0m eta \u001b[36m0:00:01\u001b[0m"
     ]
    },
    {
     "name": "stdout",
     "output_type": "stream",
     "text": [
      "\r",
      "\u001b[2K     \u001b[91m━━━━━━━━━━━━━━━━━━━━━━━━━━━━━━━━━━━━━\u001b[0m\u001b[90m╺\u001b[0m\u001b[90m━━\u001b[0m \u001b[32m54.0/58.1 MB\u001b[0m \u001b[31m13.5 MB/s\u001b[0m eta \u001b[36m0:00:01\u001b[0m\r",
      "\u001b[2K     \u001b[91m━━━━━━━━━━━━━━━━━━━━━━━━━━━━━━━━━━━━━\u001b[0m\u001b[91m╸\u001b[0m\u001b[90m━━\u001b[0m \u001b[32m54.6/58.1 MB\u001b[0m \u001b[31m13.5 MB/s\u001b[0m eta \u001b[36m0:00:01\u001b[0m"
     ]
    },
    {
     "name": "stdout",
     "output_type": "stream",
     "text": [
      "\r",
      "\u001b[2K     \u001b[91m━━━━━━━━━━━━━━━━━━━━━━━━━━━━━━━━━━━━━\u001b[0m\u001b[91m╸\u001b[0m\u001b[90m━━\u001b[0m \u001b[32m55.1/58.1 MB\u001b[0m \u001b[31m13.7 MB/s\u001b[0m eta \u001b[36m0:00:01\u001b[0m"
     ]
    },
    {
     "name": "stdout",
     "output_type": "stream",
     "text": [
      "\r",
      "\u001b[2K     \u001b[91m━━━━━━━━━━━━━━━━━━━━━━━━━━━━━━━━━━━━━━\u001b[0m\u001b[90m╺\u001b[0m\u001b[90m━\u001b[0m \u001b[32m55.5/58.1 MB\u001b[0m \u001b[31m13.7 MB/s\u001b[0m eta \u001b[36m0:00:01\u001b[0m"
     ]
    },
    {
     "name": "stdout",
     "output_type": "stream",
     "text": [
      "\r",
      "\u001b[2K     \u001b[91m━━━━━━━━━━━━━━━━━━━━━━━━━━━━━━━━━━━━━━\u001b[0m\u001b[90m╺\u001b[0m\u001b[90m━\u001b[0m \u001b[32m55.9/58.1 MB\u001b[0m \u001b[31m13.7 MB/s\u001b[0m eta \u001b[36m0:00:01\u001b[0m\r",
      "\u001b[2K     \u001b[91m━━━━━━━━━━━━━━━━━━━━━━━━━━━━━━━━━━━━━━\u001b[0m\u001b[91m╸\u001b[0m\u001b[90m━\u001b[0m \u001b[32m56.4/58.1 MB\u001b[0m \u001b[31m13.7 MB/s\u001b[0m eta \u001b[36m0:00:01\u001b[0m"
     ]
    },
    {
     "name": "stdout",
     "output_type": "stream",
     "text": [
      "\r",
      "\u001b[2K     \u001b[91m━━━━━━━━━━━━━━━━━━━━━━━━━━━━━━━━━━━━━━━\u001b[0m\u001b[90m╺\u001b[0m \u001b[32m56.9/58.1 MB\u001b[0m \u001b[31m13.4 MB/s\u001b[0m eta \u001b[36m0:00:01\u001b[0m"
     ]
    },
    {
     "name": "stdout",
     "output_type": "stream",
     "text": [
      "\r",
      "\u001b[2K     \u001b[91m━━━━━━━━━━━━━━━━━━━━━━━━━━━━━━━━━━━━━━━\u001b[0m\u001b[90m╺\u001b[0m \u001b[32m57.4/58.1 MB\u001b[0m \u001b[31m13.5 MB/s\u001b[0m eta \u001b[36m0:00:01\u001b[0m\r",
      "\u001b[2K     \u001b[91m━━━━━━━━━━━━━━━━━━━━━━━━━━━━━━━━━━━━━━━\u001b[0m\u001b[91m╸\u001b[0m \u001b[32m57.9/58.1 MB\u001b[0m \u001b[31m13.5 MB/s\u001b[0m eta \u001b[36m0:00:01\u001b[0m"
     ]
    },
    {
     "name": "stdout",
     "output_type": "stream",
     "text": [
      "\r",
      "\u001b[2K     \u001b[91m━━━━━━━━━━━━━━━━━━━━━━━━━━━━━━━━━━━━━━━\u001b[0m\u001b[91m╸\u001b[0m \u001b[32m58.1/58.1 MB\u001b[0m \u001b[31m13.5 MB/s\u001b[0m eta \u001b[36m0:00:01\u001b[0m\r",
      "\u001b[2K     \u001b[91m━━━━━━━━━━━━━━━━━━━━━━━━━━━━━━━━━━━━━━━\u001b[0m\u001b[91m╸\u001b[0m \u001b[32m58.1/58.1 MB\u001b[0m \u001b[31m13.5 MB/s\u001b[0m eta \u001b[36m0:00:01\u001b[0m"
     ]
    },
    {
     "name": "stdout",
     "output_type": "stream",
     "text": [
      "\r",
      "\u001b[2K     \u001b[91m━━━━━━━━━━━━━━━━━━━━━━━━━━━━━━━━━━━━━━━\u001b[0m\u001b[91m╸\u001b[0m \u001b[32m58.1/58.1 MB\u001b[0m \u001b[31m13.5 MB/s\u001b[0m eta \u001b[36m0:00:01\u001b[0m"
     ]
    },
    {
     "name": "stdout",
     "output_type": "stream",
     "text": [
      "\r",
      "\u001b[2K     \u001b[91m━━━━━━━━━━━━━━━━━━━━━━━━━━━━━━━━━━━━━━━\u001b[0m\u001b[91m╸\u001b[0m \u001b[32m58.1/58.1 MB\u001b[0m \u001b[31m13.5 MB/s\u001b[0m eta \u001b[36m0:00:01\u001b[0m"
     ]
    },
    {
     "name": "stdout",
     "output_type": "stream",
     "text": [
      "\r",
      "\u001b[2K     \u001b[91m━━━━━━━━━━━━━━━━━━━━━━━━━━━━━━━━━━━━━━━\u001b[0m\u001b[91m╸\u001b[0m \u001b[32m58.1/58.1 MB\u001b[0m \u001b[31m13.5 MB/s\u001b[0m eta \u001b[36m0:00:01\u001b[0m\r",
      "\u001b[2K     \u001b[91m━━━━━━━━━━━━━━━━━━━━━━━━━━━━━━━━━━━━━━━\u001b[0m\u001b[91m╸\u001b[0m \u001b[32m58.1/58.1 MB\u001b[0m \u001b[31m13.5 MB/s\u001b[0m eta \u001b[36m0:00:01\u001b[0m"
     ]
    },
    {
     "name": "stdout",
     "output_type": "stream",
     "text": [
      "\r",
      "\u001b[2K     \u001b[91m━━━━━━━━━━━━━━━━━━━━━━━━━━━━━━━━━━━━━━━\u001b[0m\u001b[91m╸\u001b[0m \u001b[32m58.1/58.1 MB\u001b[0m \u001b[31m13.5 MB/s\u001b[0m eta \u001b[36m0:00:01\u001b[0m"
     ]
    },
    {
     "name": "stdout",
     "output_type": "stream",
     "text": [
      "\r",
      "\u001b[2K     \u001b[91m━━━━━━━━━━━━━━━━━━━━━━━━━━━━━━━━━━━━━━━\u001b[0m\u001b[91m╸\u001b[0m \u001b[32m58.1/58.1 MB\u001b[0m \u001b[31m13.5 MB/s\u001b[0m eta \u001b[36m0:00:01\u001b[0m\r",
      "\u001b[2K     \u001b[91m━━━━━━━━━━━━━━━━━━━━━━━━━━━━━━━━━━━━━━━\u001b[0m\u001b[91m╸\u001b[0m \u001b[32m58.1/58.1 MB\u001b[0m \u001b[31m13.5 MB/s\u001b[0m eta \u001b[36m0:00:01\u001b[0m"
     ]
    },
    {
     "name": "stdout",
     "output_type": "stream",
     "text": [
      "\r",
      "\u001b[2K     \u001b[91m━━━━━━━━━━━━━━━━━━━━━━━━━━━━━━━━━━━━━━━\u001b[0m\u001b[91m╸\u001b[0m \u001b[32m58.1/58.1 MB\u001b[0m \u001b[31m13.5 MB/s\u001b[0m eta \u001b[36m0:00:01\u001b[0m"
     ]
    },
    {
     "name": "stdout",
     "output_type": "stream",
     "text": [
      "\r",
      "\u001b[2K     \u001b[91m━━━━━━━━━━━━━━━━━━━━━━━━━━━━━━━━━━━━━━━\u001b[0m\u001b[91m╸\u001b[0m \u001b[32m58.1/58.1 MB\u001b[0m \u001b[31m13.5 MB/s\u001b[0m eta \u001b[36m0:00:01\u001b[0m\r",
      "\u001b[2K     \u001b[90m━━━━━━━━━━━━━━━━━━━━━━━━━━━━━━━━━━━━━━━━\u001b[0m \u001b[32m58.1/58.1 MB\u001b[0m \u001b[31m8.7 MB/s\u001b[0m eta \u001b[36m0:00:00\u001b[0m\r\n",
      "\u001b[?25h"
     ]
    },
    {
     "name": "stdout",
     "output_type": "stream",
     "text": [
      "Collecting mmcv-full\r\n",
      "  Downloading https://download.openmmlab.com/mmcv/dist/cu102/torch1.12.0/mmcv_full-1.7.1-cp310-cp310-manylinux1_x86_64.whl (35.3 MB)\r\n",
      "\u001b[?25l     \u001b[90m━━━━━━━━━━━━━━━━━━━━━━━━━━━━━━━━━━━━━━━━\u001b[0m \u001b[32m0.0/35.3 MB\u001b[0m \u001b[31m?\u001b[0m eta \u001b[36m-:--:--\u001b[0m"
     ]
    },
    {
     "name": "stdout",
     "output_type": "stream",
     "text": [
      "\r",
      "\u001b[2K     \u001b[91m╸\u001b[0m\u001b[90m━━━━━━━━━━━━━━━━━━━━━━━━━━━━━━━━━━━━━━━\u001b[0m \u001b[32m0.6/35.3 MB\u001b[0m \u001b[31m16.6 MB/s\u001b[0m eta \u001b[36m0:00:03\u001b[0m"
     ]
    },
    {
     "name": "stdout",
     "output_type": "stream",
     "text": [
      "\r",
      "\u001b[2K     \u001b[91m━\u001b[0m\u001b[90m╺\u001b[0m\u001b[90m━━━━━━━━━━━━━━━━━━━━━━━━━━━━━━━━━━━━━━\u001b[0m \u001b[32m1.1/35.3 MB\u001b[0m \u001b[31m16.1 MB/s\u001b[0m eta \u001b[36m0:00:03\u001b[0m\r",
      "\u001b[2K     \u001b[91m━\u001b[0m\u001b[91m╸\u001b[0m\u001b[90m━━━━━━━━━━━━━━━━━━━━━━━━━━━━━━━━━━━━━━\u001b[0m \u001b[32m1.6/35.3 MB\u001b[0m \u001b[31m15.6 MB/s\u001b[0m eta \u001b[36m0:00:03\u001b[0m"
     ]
    },
    {
     "name": "stdout",
     "output_type": "stream",
     "text": [
      "\r",
      "\u001b[2K     \u001b[91m━━\u001b[0m\u001b[90m╺\u001b[0m\u001b[90m━━━━━━━━━━━━━━━━━━━━━━━━━━━━━━━━━━━━━\u001b[0m \u001b[32m2.1/35.3 MB\u001b[0m \u001b[31m15.1 MB/s\u001b[0m eta \u001b[36m0:00:03\u001b[0m"
     ]
    },
    {
     "name": "stdout",
     "output_type": "stream",
     "text": [
      "\r",
      "\u001b[2K     \u001b[91m━━\u001b[0m\u001b[91m╸\u001b[0m\u001b[90m━━━━━━━━━━━━━━━━━━━━━━━━━━━━━━━━━━━━━\u001b[0m \u001b[32m2.6/35.3 MB\u001b[0m \u001b[31m15.0 MB/s\u001b[0m eta \u001b[36m0:00:03\u001b[0m"
     ]
    },
    {
     "name": "stdout",
     "output_type": "stream",
     "text": [
      "\r",
      "\u001b[2K     \u001b[91m━━━\u001b[0m\u001b[91m╸\u001b[0m\u001b[90m━━━━━━━━━━━━━━━━━━━━━━━━━━━━━━━━━━━━\u001b[0m \u001b[32m3.2/35.3 MB\u001b[0m \u001b[31m15.1 MB/s\u001b[0m eta \u001b[36m0:00:03\u001b[0m\r",
      "\u001b[2K     \u001b[91m━━━━\u001b[0m\u001b[90m╺\u001b[0m\u001b[90m━━━━━━━━━━━━━━━━━━━━━━━━━━━━━━━━━━━\u001b[0m \u001b[32m3.6/35.3 MB\u001b[0m \u001b[31m14.9 MB/s\u001b[0m eta \u001b[36m0:00:03\u001b[0m"
     ]
    },
    {
     "name": "stdout",
     "output_type": "stream",
     "text": [
      "\r",
      "\u001b[2K     \u001b[91m━━━━\u001b[0m\u001b[91m╸\u001b[0m\u001b[90m━━━━━━━━━━━━━━━━━━━━━━━━━━━━━━━━━━━\u001b[0m \u001b[32m4.0/35.3 MB\u001b[0m \u001b[31m14.8 MB/s\u001b[0m eta \u001b[36m0:00:03\u001b[0m"
     ]
    },
    {
     "name": "stdout",
     "output_type": "stream",
     "text": [
      "\r",
      "\u001b[2K     \u001b[91m━━━━━\u001b[0m\u001b[90m╺\u001b[0m\u001b[90m━━━━━━━━━━━━━━━━━━━━━━━━━━━━━━━━━━\u001b[0m \u001b[32m4.4/35.3 MB\u001b[0m \u001b[31m14.7 MB/s\u001b[0m eta \u001b[36m0:00:03\u001b[0m\r",
      "\u001b[2K     \u001b[91m━━━━━\u001b[0m\u001b[91m╸\u001b[0m\u001b[90m━━━━━━━━━━━━━━━━━━━━━━━━━━━━━━━━━━\u001b[0m \u001b[32m5.0/35.3 MB\u001b[0m \u001b[31m14.2 MB/s\u001b[0m eta \u001b[36m0:00:03\u001b[0m"
     ]
    },
    {
     "name": "stdout",
     "output_type": "stream",
     "text": [
      "\r",
      "\u001b[2K     \u001b[91m━━━━━━\u001b[0m\u001b[90m╺\u001b[0m\u001b[90m━━━━━━━━━━━━━━━━━━━━━━━━━━━━━━━━━\u001b[0m \u001b[32m5.5/35.3 MB\u001b[0m \u001b[31m14.3 MB/s\u001b[0m eta \u001b[36m0:00:03\u001b[0m"
     ]
    },
    {
     "name": "stdout",
     "output_type": "stream",
     "text": [
      "\r",
      "\u001b[2K     \u001b[91m━━━━━━\u001b[0m\u001b[91m╸\u001b[0m\u001b[90m━━━━━━━━━━━━━━━━━━━━━━━━━━━━━━━━━\u001b[0m \u001b[32m6.0/35.3 MB\u001b[0m \u001b[31m14.3 MB/s\u001b[0m eta \u001b[36m0:00:03\u001b[0m\r",
      "\u001b[2K     \u001b[91m━━━━━━━\u001b[0m\u001b[90m╺\u001b[0m\u001b[90m━━━━━━━━━━━━━━━━━━━━━━━━━━━━━━━━\u001b[0m \u001b[32m6.4/35.3 MB\u001b[0m \u001b[31m14.2 MB/s\u001b[0m eta \u001b[36m0:00:03\u001b[0m"
     ]
    },
    {
     "name": "stdout",
     "output_type": "stream",
     "text": [
      "\r",
      "\u001b[2K     \u001b[91m━━━━━━━\u001b[0m\u001b[91m╸\u001b[0m\u001b[90m━━━━━━━━━━━━━━━━━━━━━━━━━━━━━━━━\u001b[0m \u001b[32m7.0/35.3 MB\u001b[0m \u001b[31m14.3 MB/s\u001b[0m eta \u001b[36m0:00:02\u001b[0m"
     ]
    },
    {
     "name": "stdout",
     "output_type": "stream",
     "text": [
      "\r",
      "\u001b[2K     \u001b[91m━━━━━━━━\u001b[0m\u001b[90m╺\u001b[0m\u001b[90m━━━━━━━━━━━━━━━━━━━━━━━━━━━━━━━\u001b[0m \u001b[32m7.4/35.3 MB\u001b[0m \u001b[31m14.2 MB/s\u001b[0m eta \u001b[36m0:00:02\u001b[0m\r",
      "\u001b[2K     \u001b[91m━━━━━━━━\u001b[0m\u001b[91m╸\u001b[0m\u001b[90m━━━━━━━━━━━━━━━━━━━━━━━━━━━━━━━\u001b[0m \u001b[32m7.8/35.3 MB\u001b[0m \u001b[31m13.9 MB/s\u001b[0m eta \u001b[36m0:00:02\u001b[0m"
     ]
    },
    {
     "name": "stdout",
     "output_type": "stream",
     "text": [
      "\r",
      "\u001b[2K     \u001b[91m━━━━━━━━━\u001b[0m\u001b[90m╺\u001b[0m\u001b[90m━━━━━━━━━━━━━━━━━━━━━━━━━━━━━━\u001b[0m \u001b[32m8.3/35.3 MB\u001b[0m \u001b[31m13.9 MB/s\u001b[0m eta \u001b[36m0:00:02\u001b[0m"
     ]
    },
    {
     "name": "stdout",
     "output_type": "stream",
     "text": [
      "\r",
      "\u001b[2K     \u001b[91m━━━━━━━━━━\u001b[0m\u001b[90m╺\u001b[0m\u001b[90m━━━━━━━━━━━━━━━━━━━━━━━━━━━━━\u001b[0m \u001b[32m8.9/35.3 MB\u001b[0m \u001b[31m14.0 MB/s\u001b[0m eta \u001b[36m0:00:02\u001b[0m"
     ]
    },
    {
     "name": "stdout",
     "output_type": "stream",
     "text": [
      "\r",
      "\u001b[2K     \u001b[91m━━━━━━━━━━\u001b[0m\u001b[91m╸\u001b[0m\u001b[90m━━━━━━━━━━━━━━━━━━━━━━━━━━━━━\u001b[0m \u001b[32m9.4/35.3 MB\u001b[0m \u001b[31m14.1 MB/s\u001b[0m eta \u001b[36m0:00:02\u001b[0m\r",
      "\u001b[2K     \u001b[91m━━━━━━━━━━━\u001b[0m\u001b[90m╺\u001b[0m\u001b[90m━━━━━━━━━━━━━━━━━━━━━━━━━━━━\u001b[0m \u001b[32m9.8/35.3 MB\u001b[0m \u001b[31m14.0 MB/s\u001b[0m eta \u001b[36m0:00:02\u001b[0m"
     ]
    },
    {
     "name": "stdout",
     "output_type": "stream",
     "text": [
      "\r",
      "\u001b[2K     \u001b[91m━━━━━━━━━━━\u001b[0m\u001b[91m╸\u001b[0m\u001b[90m━━━━━━━━━━━━━━━━━━━━━━━━━━━━\u001b[0m \u001b[32m10.2/35.3 MB\u001b[0m \u001b[31m13.8 MB/s\u001b[0m eta \u001b[36m0:00:02\u001b[0m"
     ]
    },
    {
     "name": "stdout",
     "output_type": "stream",
     "text": [
      "\r",
      "\u001b[2K     \u001b[91m━━━━━━━━━━━━\u001b[0m\u001b[90m╺\u001b[0m\u001b[90m━━━━━━━━━━━━━━━━━━━━━━━━━━━\u001b[0m \u001b[32m10.8/35.3 MB\u001b[0m \u001b[31m13.8 MB/s\u001b[0m eta \u001b[36m0:00:02\u001b[0m\r",
      "\u001b[2K     \u001b[91m━━━━━━━━━━━━\u001b[0m\u001b[91m╸\u001b[0m\u001b[90m━━━━━━━━━━━━━━━━━━━━━━━━━━━\u001b[0m \u001b[32m11.2/35.3 MB\u001b[0m \u001b[31m13.8 MB/s\u001b[0m eta \u001b[36m0:00:02\u001b[0m"
     ]
    },
    {
     "name": "stdout",
     "output_type": "stream",
     "text": [
      "\r",
      "\u001b[2K     \u001b[91m━━━━━━━━━━━━━\u001b[0m\u001b[90m╺\u001b[0m\u001b[90m━━━━━━━━━━━━━━━━━━━━━━━━━━\u001b[0m \u001b[32m11.8/35.3 MB\u001b[0m \u001b[31m13.7 MB/s\u001b[0m eta \u001b[36m0:00:02\u001b[0m"
     ]
    },
    {
     "name": "stdout",
     "output_type": "stream",
     "text": [
      "\r",
      "\u001b[2K     \u001b[91m━━━━━━━━━━━━━\u001b[0m\u001b[91m╸\u001b[0m\u001b[90m━━━━━━━━━━━━━━━━━━━━━━━━━━\u001b[0m \u001b[32m12.2/35.3 MB\u001b[0m \u001b[31m13.5 MB/s\u001b[0m eta \u001b[36m0:00:02\u001b[0m\r",
      "\u001b[2K     \u001b[91m━━━━━━━━━━━━━━\u001b[0m\u001b[90m╺\u001b[0m\u001b[90m━━━━━━━━━━━━━━━━━━━━━━━━━\u001b[0m \u001b[32m12.6/35.3 MB\u001b[0m \u001b[31m13.8 MB/s\u001b[0m eta \u001b[36m0:00:02\u001b[0m"
     ]
    },
    {
     "name": "stdout",
     "output_type": "stream",
     "text": [
      "\r",
      "\u001b[2K     \u001b[91m━━━━━━━━━━━━━━\u001b[0m\u001b[91m╸\u001b[0m\u001b[90m━━━━━━━━━━━━━━━━━━━━━━━━━\u001b[0m \u001b[32m13.1/35.3 MB\u001b[0m \u001b[31m13.7 MB/s\u001b[0m eta \u001b[36m0:00:02\u001b[0m"
     ]
    },
    {
     "name": "stdout",
     "output_type": "stream",
     "text": [
      "\r",
      "\u001b[2K     \u001b[91m━━━━━━━━━━━━━━━\u001b[0m\u001b[90m╺\u001b[0m\u001b[90m━━━━━━━━━━━━━━━━━━━━━━━━\u001b[0m \u001b[32m13.6/35.3 MB\u001b[0m \u001b[31m13.7 MB/s\u001b[0m eta \u001b[36m0:00:02\u001b[0m\r",
      "\u001b[2K     \u001b[91m━━━━━━━━━━━━━━━\u001b[0m\u001b[91m╸\u001b[0m\u001b[90m━━━━━━━━━━━━━━━━━━━━━━━━\u001b[0m \u001b[32m14.1/35.3 MB\u001b[0m \u001b[31m13.5 MB/s\u001b[0m eta \u001b[36m0:00:02\u001b[0m"
     ]
    },
    {
     "name": "stdout",
     "output_type": "stream",
     "text": [
      "\r",
      "\u001b[2K     \u001b[91m━━━━━━━━━━━━━━━━\u001b[0m\u001b[91m╸\u001b[0m\u001b[90m━━━━━━━━━━━━━━━━━━━━━━━\u001b[0m \u001b[32m14.6/35.3 MB\u001b[0m \u001b[31m13.5 MB/s\u001b[0m eta \u001b[36m0:00:02\u001b[0m"
     ]
    },
    {
     "name": "stdout",
     "output_type": "stream",
     "text": [
      "\r",
      "\u001b[2K     \u001b[91m━━━━━━━━━━━━━━━━━\u001b[0m\u001b[90m╺\u001b[0m\u001b[90m━━━━━━━━━━━━━━━━━━━━━━\u001b[0m \u001b[32m15.1/35.3 MB\u001b[0m \u001b[31m13.8 MB/s\u001b[0m eta \u001b[36m0:00:02\u001b[0m"
     ]
    },
    {
     "name": "stdout",
     "output_type": "stream",
     "text": [
      "\r",
      "\u001b[2K     \u001b[91m━━━━━━━━━━━━━━━━━\u001b[0m\u001b[91m╸\u001b[0m\u001b[90m━━━━━━━━━━━━━━━━━━━━━━\u001b[0m \u001b[32m15.6/35.3 MB\u001b[0m \u001b[31m13.7 MB/s\u001b[0m eta \u001b[36m0:00:02\u001b[0m\r",
      "\u001b[2K     \u001b[91m━━━━━━━━━━━━━━━━━━\u001b[0m\u001b[90m╺\u001b[0m\u001b[90m━━━━━━━━━━━━━━━━━━━━━\u001b[0m \u001b[32m16.1/35.3 MB\u001b[0m \u001b[31m13.7 MB/s\u001b[0m eta \u001b[36m0:00:02\u001b[0m"
     ]
    },
    {
     "name": "stdout",
     "output_type": "stream",
     "text": [
      "\r",
      "\u001b[2K     \u001b[91m━━━━━━━━━━━━━━━━━━\u001b[0m\u001b[91m╸\u001b[0m\u001b[90m━━━━━━━━━━━━━━━━━━━━━\u001b[0m \u001b[32m16.5/35.3 MB\u001b[0m \u001b[31m13.7 MB/s\u001b[0m eta \u001b[36m0:00:02\u001b[0m"
     ]
    },
    {
     "name": "stdout",
     "output_type": "stream",
     "text": [
      "\r",
      "\u001b[2K     \u001b[91m━━━━━━━━━━━━━━━━━━━\u001b[0m\u001b[90m╺\u001b[0m\u001b[90m━━━━━━━━━━━━━━━━━━━━\u001b[0m \u001b[32m17.0/35.3 MB\u001b[0m \u001b[31m13.5 MB/s\u001b[0m eta \u001b[36m0:00:02\u001b[0m\r",
      "\u001b[2K     \u001b[91m━━━━━━━━━━━━━━━━━━━\u001b[0m\u001b[91m╸\u001b[0m\u001b[90m━━━━━━━━━━━━━━━━━━━━\u001b[0m \u001b[32m17.5/35.3 MB\u001b[0m \u001b[31m13.5 MB/s\u001b[0m eta \u001b[36m0:00:02\u001b[0m"
     ]
    },
    {
     "name": "stdout",
     "output_type": "stream",
     "text": [
      "\r",
      "\u001b[2K     \u001b[91m━━━━━━━━━━━━━━━━━━━━\u001b[0m\u001b[90m╺\u001b[0m\u001b[90m━━━━━━━━━━━━━━━━━━━\u001b[0m \u001b[32m18.0/35.3 MB\u001b[0m \u001b[31m13.5 MB/s\u001b[0m eta \u001b[36m0:00:02\u001b[0m"
     ]
    },
    {
     "name": "stdout",
     "output_type": "stream",
     "text": [
      "\r",
      "\u001b[2K     \u001b[91m━━━━━━━━━━━━━━━━━━━━\u001b[0m\u001b[91m╸\u001b[0m\u001b[90m━━━━━━━━━━━━━━━━━━━\u001b[0m \u001b[32m18.5/35.3 MB\u001b[0m \u001b[31m13.7 MB/s\u001b[0m eta \u001b[36m0:00:02\u001b[0m\r",
      "\u001b[2K     \u001b[91m━━━━━━━━━━━━━━━━━━━━━\u001b[0m\u001b[90m╺\u001b[0m\u001b[90m━━━━━━━━━━━━━━━━━━\u001b[0m \u001b[32m19.0/35.3 MB\u001b[0m \u001b[31m13.7 MB/s\u001b[0m eta \u001b[36m0:00:02\u001b[0m"
     ]
    },
    {
     "name": "stdout",
     "output_type": "stream",
     "text": [
      "\r",
      "\u001b[2K     \u001b[91m━━━━━━━━━━━━━━━━━━━━━━\u001b[0m\u001b[90m╺\u001b[0m\u001b[90m━━━━━━━━━━━━━━━━━\u001b[0m \u001b[32m19.4/35.3 MB\u001b[0m \u001b[31m13.7 MB/s\u001b[0m eta \u001b[36m0:00:02\u001b[0m"
     ]
    },
    {
     "name": "stdout",
     "output_type": "stream",
     "text": [
      "\r",
      "\u001b[2K     \u001b[91m━━━━━━━━━━━━━━━━━━━━━━\u001b[0m\u001b[90m╺\u001b[0m\u001b[90m━━━━━━━━━━━━━━━━━\u001b[0m \u001b[32m19.8/35.3 MB\u001b[0m \u001b[31m13.7 MB/s\u001b[0m eta \u001b[36m0:00:02\u001b[0m\r",
      "\u001b[2K     \u001b[91m━━━━━━━━━━━━━━━━━━━━━━━\u001b[0m\u001b[90m╺\u001b[0m\u001b[90m━━━━━━━━━━━━━━━━\u001b[0m \u001b[32m20.4/35.3 MB\u001b[0m \u001b[31m13.7 MB/s\u001b[0m eta \u001b[36m0:00:02\u001b[0m"
     ]
    },
    {
     "name": "stdout",
     "output_type": "stream",
     "text": [
      "\r",
      "\u001b[2K     \u001b[91m━━━━━━━━━━━━━━━━━━━━━━━\u001b[0m\u001b[91m╸\u001b[0m\u001b[90m━━━━━━━━━━━━━━━━\u001b[0m \u001b[32m20.8/35.3 MB\u001b[0m \u001b[31m13.7 MB/s\u001b[0m eta \u001b[36m0:00:02\u001b[0m"
     ]
    },
    {
     "name": "stdout",
     "output_type": "stream",
     "text": [
      "\r",
      "\u001b[2K     \u001b[91m━━━━━━━━━━━━━━━━━━━━━━━━\u001b[0m\u001b[90m╺\u001b[0m\u001b[90m━━━━━━━━━━━━━━━\u001b[0m \u001b[32m21.3/35.3 MB\u001b[0m \u001b[31m13.6 MB/s\u001b[0m eta \u001b[36m0:00:02\u001b[0m"
     ]
    },
    {
     "name": "stdout",
     "output_type": "stream",
     "text": [
      "\r",
      "\u001b[2K     \u001b[91m━━━━━━━━━━━━━━━━━━━━━━━━\u001b[0m\u001b[91m╸\u001b[0m\u001b[90m━━━━━━━━━━━━━━━\u001b[0m \u001b[32m21.8/35.3 MB\u001b[0m \u001b[31m13.6 MB/s\u001b[0m eta \u001b[36m0:00:01\u001b[0m\r",
      "\u001b[2K     \u001b[91m━━━━━━━━━━━━━━━━━━━━━━━━━\u001b[0m\u001b[90m╺\u001b[0m\u001b[90m━━━━━━━━━━━━━━\u001b[0m \u001b[32m22.2/35.3 MB\u001b[0m \u001b[31m13.6 MB/s\u001b[0m eta \u001b[36m0:00:01\u001b[0m"
     ]
    },
    {
     "name": "stdout",
     "output_type": "stream",
     "text": [
      "\r",
      "\u001b[2K     \u001b[91m━━━━━━━━━━━━━━━━━━━━━━━━━\u001b[0m\u001b[91m╸\u001b[0m\u001b[90m━━━━━━━━━━━━━━\u001b[0m \u001b[32m22.7/35.3 MB\u001b[0m \u001b[31m13.5 MB/s\u001b[0m eta \u001b[36m0:00:01\u001b[0m"
     ]
    },
    {
     "name": "stdout",
     "output_type": "stream",
     "text": [
      "\r",
      "\u001b[2K     \u001b[91m━━━━━━━━━━━━━━━━━━━━━━━━━━\u001b[0m\u001b[90m╺\u001b[0m\u001b[90m━━━━━━━━━━━━━\u001b[0m \u001b[32m23.2/35.3 MB\u001b[0m \u001b[31m13.6 MB/s\u001b[0m eta \u001b[36m0:00:01\u001b[0m\r",
      "\u001b[2K     \u001b[91m━━━━━━━━━━━━━━━━━━━━━━━━━━\u001b[0m\u001b[91m╸\u001b[0m\u001b[90m━━━━━━━━━━━━━\u001b[0m \u001b[32m23.6/35.3 MB\u001b[0m \u001b[31m13.5 MB/s\u001b[0m eta \u001b[36m0:00:01\u001b[0m"
     ]
    },
    {
     "name": "stdout",
     "output_type": "stream",
     "text": [
      "\r",
      "\u001b[2K     \u001b[91m━━━━━━━━━━━━━━━━━━━━━━━━━━━\u001b[0m\u001b[90m╺\u001b[0m\u001b[90m━━━━━━━━━━━━\u001b[0m \u001b[32m24.2/35.3 MB\u001b[0m \u001b[31m13.5 MB/s\u001b[0m eta \u001b[36m0:00:01\u001b[0m"
     ]
    },
    {
     "name": "stdout",
     "output_type": "stream",
     "text": [
      "\r",
      "\u001b[2K     \u001b[91m━━━━━━━━━━━━━━━━━━━━━━━━━━━\u001b[0m\u001b[91m╸\u001b[0m\u001b[90m━━━━━━━━━━━━\u001b[0m \u001b[32m24.7/35.3 MB\u001b[0m \u001b[31m13.5 MB/s\u001b[0m eta \u001b[36m0:00:01\u001b[0m\r",
      "\u001b[2K     \u001b[91m━━━━━━━━━━━━━━━━━━━━━━━━━━━━\u001b[0m\u001b[90m╺\u001b[0m\u001b[90m━━━━━━━━━━━\u001b[0m \u001b[32m25.0/35.3 MB\u001b[0m \u001b[31m13.5 MB/s\u001b[0m eta \u001b[36m0:00:01\u001b[0m"
     ]
    },
    {
     "name": "stdout",
     "output_type": "stream",
     "text": [
      "\r",
      "\u001b[2K     \u001b[91m━━━━━━━━━━━━━━━━━━━━━━━━━━━━\u001b[0m\u001b[91m╸\u001b[0m\u001b[90m━━━━━━━━━━━\u001b[0m \u001b[32m25.6/35.3 MB\u001b[0m \u001b[31m13.5 MB/s\u001b[0m eta \u001b[36m0:00:01\u001b[0m"
     ]
    },
    {
     "name": "stdout",
     "output_type": "stream",
     "text": [
      "\r",
      "\u001b[2K     \u001b[91m━━━━━━━━━━━━━━━━━━━━━━━━━━━━━\u001b[0m\u001b[91m╸\u001b[0m\u001b[90m━━━━━━━━━━\u001b[0m \u001b[32m26.0/35.3 MB\u001b[0m \u001b[31m13.5 MB/s\u001b[0m eta \u001b[36m0:00:01\u001b[0m\r",
      "\u001b[2K     \u001b[91m━━━━━━━━━━━━━━━━━━━━━━━━━━━━━━\u001b[0m\u001b[90m╺\u001b[0m\u001b[90m━━━━━━━━━\u001b[0m \u001b[32m26.5/35.3 MB\u001b[0m \u001b[31m13.4 MB/s\u001b[0m eta \u001b[36m0:00:01\u001b[0m"
     ]
    },
    {
     "name": "stdout",
     "output_type": "stream",
     "text": [
      "\r",
      "\u001b[2K     \u001b[91m━━━━━━━━━━━━━━━━━━━━━━━━━━━━━━\u001b[0m\u001b[91m╸\u001b[0m\u001b[90m━━━━━━━━━\u001b[0m \u001b[32m27.0/35.3 MB\u001b[0m \u001b[31m13.5 MB/s\u001b[0m eta \u001b[36m0:00:01\u001b[0m"
     ]
    },
    {
     "name": "stdout",
     "output_type": "stream",
     "text": [
      "\r",
      "\u001b[2K     \u001b[91m━━━━━━━━━━━━━━━━━━━━━━━━━━━━━━━\u001b[0m\u001b[90m╺\u001b[0m\u001b[90m━━━━━━━━\u001b[0m \u001b[32m27.4/35.3 MB\u001b[0m \u001b[31m13.5 MB/s\u001b[0m eta \u001b[36m0:00:01\u001b[0m"
     ]
    },
    {
     "name": "stdout",
     "output_type": "stream",
     "text": [
      "\r",
      "\u001b[2K     \u001b[91m━━━━━━━━━━━━━━━━━━━━━━━━━━━━━━━\u001b[0m\u001b[91m╸\u001b[0m\u001b[90m━━━━━━━━\u001b[0m \u001b[32m27.9/35.3 MB\u001b[0m \u001b[31m13.4 MB/s\u001b[0m eta \u001b[36m0:00:01\u001b[0m\r",
      "\u001b[2K     \u001b[91m━━━━━━━━━━━━━━━━━━━━━━━━━━━━━━━━\u001b[0m\u001b[90m╺\u001b[0m\u001b[90m━━━━━━━\u001b[0m \u001b[32m28.4/35.3 MB\u001b[0m \u001b[31m13.5 MB/s\u001b[0m eta \u001b[36m0:00:01\u001b[0m"
     ]
    },
    {
     "name": "stdout",
     "output_type": "stream",
     "text": [
      "\r",
      "\u001b[2K     \u001b[91m━━━━━━━━━━━━━━━━━━━━━━━━━━━━━━━━\u001b[0m\u001b[91m╸\u001b[0m\u001b[90m━━━━━━━\u001b[0m \u001b[32m28.8/35.3 MB\u001b[0m \u001b[31m13.4 MB/s\u001b[0m eta \u001b[36m0:00:01\u001b[0m"
     ]
    },
    {
     "name": "stdout",
     "output_type": "stream",
     "text": [
      "\r",
      "\u001b[2K     \u001b[91m━━━━━━━━━━━━━━━━━━━━━━━━━━━━━━━━━\u001b[0m\u001b[90m╺\u001b[0m\u001b[90m━━━━━━\u001b[0m \u001b[32m29.4/35.3 MB\u001b[0m \u001b[31m13.4 MB/s\u001b[0m eta \u001b[36m0:00:01\u001b[0m\r",
      "\u001b[2K     \u001b[91m━━━━━━━━━━━━━━━━━━━━━━━━━━━━━━━━━\u001b[0m\u001b[91m╸\u001b[0m\u001b[90m━━━━━━\u001b[0m \u001b[32m29.8/35.3 MB\u001b[0m \u001b[31m13.4 MB/s\u001b[0m eta \u001b[36m0:00:01\u001b[0m"
     ]
    },
    {
     "name": "stdout",
     "output_type": "stream",
     "text": [
      "\r",
      "\u001b[2K     \u001b[91m━━━━━━━━━━━━━━━━━━━━━━━━━━━━━━━━━━\u001b[0m\u001b[90m╺\u001b[0m\u001b[90m━━━━━\u001b[0m \u001b[32m30.4/35.3 MB\u001b[0m \u001b[31m13.5 MB/s\u001b[0m eta \u001b[36m0:00:01\u001b[0m"
     ]
    },
    {
     "name": "stdout",
     "output_type": "stream",
     "text": [
      "\r",
      "\u001b[2K     \u001b[91m━━━━━━━━━━━━━━━━━━━━━━━━━━━━━━━━━━\u001b[0m\u001b[91m╸\u001b[0m\u001b[90m━━━━━\u001b[0m \u001b[32m30.9/35.3 MB\u001b[0m \u001b[31m13.5 MB/s\u001b[0m eta \u001b[36m0:00:01\u001b[0m\r",
      "\u001b[2K     \u001b[91m━━━━━━━━━━━━━━━━━━━━━━━━━━━━━━━━━━━\u001b[0m\u001b[90m╺\u001b[0m\u001b[90m━━━━\u001b[0m \u001b[32m31.3/35.3 MB\u001b[0m \u001b[31m13.5 MB/s\u001b[0m eta \u001b[36m0:00:01\u001b[0m"
     ]
    },
    {
     "name": "stdout",
     "output_type": "stream",
     "text": [
      "\r",
      "\u001b[2K     \u001b[91m━━━━━━━━━━━━━━━━━━━━━━━━━━━━━━━━━━━━\u001b[0m\u001b[90m╺\u001b[0m\u001b[90m━━━\u001b[0m \u001b[32m31.8/35.3 MB\u001b[0m \u001b[31m13.5 MB/s\u001b[0m eta \u001b[36m0:00:01\u001b[0m"
     ]
    },
    {
     "name": "stdout",
     "output_type": "stream",
     "text": [
      "\r",
      "\u001b[2K     \u001b[91m━━━━━━━━━━━━━━━━━━━━━━━━━━━━━━━━━━━━\u001b[0m\u001b[91m╸\u001b[0m\u001b[90m━━━\u001b[0m \u001b[32m32.2/35.3 MB\u001b[0m \u001b[31m13.5 MB/s\u001b[0m eta \u001b[36m0:00:01\u001b[0m\r",
      "\u001b[2K     \u001b[91m━━━━━━━━━━━━━━━━━━━━━━━━━━━━━━━━━━━━━\u001b[0m\u001b[90m╺\u001b[0m\u001b[90m━━\u001b[0m \u001b[32m32.7/35.3 MB\u001b[0m \u001b[31m13.5 MB/s\u001b[0m eta \u001b[36m0:00:01\u001b[0m"
     ]
    },
    {
     "name": "stdout",
     "output_type": "stream",
     "text": [
      "\r",
      "\u001b[2K     \u001b[91m━━━━━━━━━━━━━━━━━━━━━━━━━━━━━━━━━━━━━\u001b[0m\u001b[91m╸\u001b[0m\u001b[90m━━\u001b[0m \u001b[32m33.2/35.3 MB\u001b[0m \u001b[31m13.5 MB/s\u001b[0m eta \u001b[36m0:00:01\u001b[0m"
     ]
    },
    {
     "name": "stdout",
     "output_type": "stream",
     "text": [
      "\r",
      "\u001b[2K     \u001b[91m━━━━━━━━━━━━━━━━━━━━━━━━━━━━━━━━━━━━━━\u001b[0m\u001b[90m╺\u001b[0m\u001b[90m━\u001b[0m \u001b[32m33.6/35.3 MB\u001b[0m \u001b[31m13.4 MB/s\u001b[0m eta \u001b[36m0:00:01\u001b[0m"
     ]
    },
    {
     "name": "stdout",
     "output_type": "stream",
     "text": [
      "\r",
      "\u001b[2K     \u001b[91m━━━━━━━━━━━━━━━━━━━━━━━━━━━━━━━━━━━━━━\u001b[0m\u001b[91m╸\u001b[0m\u001b[90m━\u001b[0m \u001b[32m34.1/35.3 MB\u001b[0m \u001b[31m13.6 MB/s\u001b[0m eta \u001b[36m0:00:01\u001b[0m\r",
      "\u001b[2K     \u001b[91m━━━━━━━━━━━━━━━━━━━━━━━━━━━━━━━━━━━━━━━\u001b[0m\u001b[90m╺\u001b[0m \u001b[32m34.7/35.3 MB\u001b[0m \u001b[31m13.5 MB/s\u001b[0m eta \u001b[36m0:00:01\u001b[0m"
     ]
    },
    {
     "name": "stdout",
     "output_type": "stream",
     "text": [
      "\r",
      "\u001b[2K     \u001b[91m━━━━━━━━━━━━━━━━━━━━━━━━━━━━━━━━━━━━━━━\u001b[0m\u001b[91m╸\u001b[0m \u001b[32m35.1/35.3 MB\u001b[0m \u001b[31m13.6 MB/s\u001b[0m eta \u001b[36m0:00:01\u001b[0m"
     ]
    },
    {
     "name": "stdout",
     "output_type": "stream",
     "text": [
      "\r",
      "\u001b[2K     \u001b[91m━━━━━━━━━━━━━━━━━━━━━━━━━━━━━━━━━━━━━━━\u001b[0m\u001b[91m╸\u001b[0m \u001b[32m35.3/35.3 MB\u001b[0m \u001b[31m13.4 MB/s\u001b[0m eta \u001b[36m0:00:01\u001b[0m"
     ]
    },
    {
     "name": "stdout",
     "output_type": "stream",
     "text": [
      "\r",
      "\u001b[2K     \u001b[91m━━━━━━━━━━━━━━━━━━━━━━━━━━━━━━━━━━━━━━━\u001b[0m\u001b[91m╸\u001b[0m \u001b[32m35.3/35.3 MB\u001b[0m \u001b[31m13.4 MB/s\u001b[0m eta \u001b[36m0:00:01\u001b[0m\r",
      "\u001b[2K     \u001b[91m━━━━━━━━━━━━━━━━━━━━━━━━━━━━━━━━━━━━━━━\u001b[0m\u001b[91m╸\u001b[0m \u001b[32m35.3/35.3 MB\u001b[0m \u001b[31m13.4 MB/s\u001b[0m eta \u001b[36m0:00:01\u001b[0m"
     ]
    },
    {
     "name": "stdout",
     "output_type": "stream",
     "text": [
      "\r",
      "\u001b[2K     \u001b[91m━━━━━━━━━━━━━━━━━━━━━━━━━━━━━━━━━━━━━━━\u001b[0m\u001b[91m╸\u001b[0m \u001b[32m35.3/35.3 MB\u001b[0m \u001b[31m13.4 MB/s\u001b[0m eta \u001b[36m0:00:01\u001b[0m"
     ]
    },
    {
     "name": "stdout",
     "output_type": "stream",
     "text": [
      "\r",
      "\u001b[2K     \u001b[91m━━━━━━━━━━━━━━━━━━━━━━━━━━━━━━━━━━━━━━━\u001b[0m\u001b[91m╸\u001b[0m \u001b[32m35.3/35.3 MB\u001b[0m \u001b[31m13.4 MB/s\u001b[0m eta \u001b[36m0:00:01\u001b[0m\r",
      "\u001b[2K     \u001b[90m━━━━━━━━━━━━━━━━━━━━━━━━━━━━━━━━━━━━━━━━\u001b[0m \u001b[32m35.3/35.3 MB\u001b[0m \u001b[31m10.6 MB/s\u001b[0m eta \u001b[36m0:00:00\u001b[0m\r\n",
      "\u001b[?25h"
     ]
    },
    {
     "name": "stdout",
     "output_type": "stream",
     "text": [
      "Collecting addict (from mmcv)\r\n"
     ]
    },
    {
     "name": "stdout",
     "output_type": "stream",
     "text": [
      "  Downloading addict-2.4.0-py3-none-any.whl (3.8 kB)\r\n"
     ]
    },
    {
     "name": "stdout",
     "output_type": "stream",
     "text": [
      "Collecting mmengine>=0.2.0 (from mmcv)\r\n",
      "  Downloading mmengine-0.7.4-py3-none-any.whl (374 kB)\r\n",
      "\u001b[?25l     \u001b[90m━━━━━━━━━━━━━━━━━━━━━━━━━━━━━━━━━━━━━━━━\u001b[0m \u001b[32m0.0/374.3 kB\u001b[0m \u001b[31m?\u001b[0m eta \u001b[36m-:--:--\u001b[0m"
     ]
    },
    {
     "name": "stdout",
     "output_type": "stream",
     "text": [
      "\r",
      "\u001b[2K     \u001b[90m━━━━━━━━━━━━━━━━━━━━━━━━━━━━━━━━━━━━━━\u001b[0m \u001b[32m374.3/374.3 kB\u001b[0m \u001b[31m12.2 MB/s\u001b[0m eta \u001b[36m0:00:00\u001b[0m\r\n",
      "\u001b[?25hRequirement already satisfied: numpy in /opt/conda/lib/python3.10/site-packages (from mmcv) (1.23.5)\r\n",
      "Requirement already satisfied: packaging in /opt/conda/lib/python3.10/site-packages (from mmcv) (21.3)\r\n",
      "Requirement already satisfied: Pillow in /opt/conda/lib/python3.10/site-packages (from mmcv) (9.5.0)\r\n",
      "Requirement already satisfied: pyyaml in /opt/conda/lib/python3.10/site-packages (from mmcv) (5.4.1)\r\n",
      "Requirement already satisfied: yapf in /opt/conda/lib/python3.10/site-packages (from mmcv) (0.33.0)\r\n",
      "Requirement already satisfied: opencv-python>=3 in /opt/conda/lib/python3.10/site-packages (from mmcv) (4.5.4.60)\r\n"
     ]
    },
    {
     "name": "stdout",
     "output_type": "stream",
     "text": [
      "Requirement already satisfied: matplotlib in /opt/conda/lib/python3.10/site-packages (from mmengine>=0.2.0->mmcv) (3.6.3)\r\n",
      "Requirement already satisfied: rich in /opt/conda/lib/python3.10/site-packages (from mmengine>=0.2.0->mmcv) (12.6.0)\r\n",
      "Requirement already satisfied: termcolor in /opt/conda/lib/python3.10/site-packages (from mmengine>=0.2.0->mmcv) (2.3.0)\r\n"
     ]
    },
    {
     "name": "stdout",
     "output_type": "stream",
     "text": [
      "Requirement already satisfied: pyparsing!=3.0.5,>=2.0.2 in /opt/conda/lib/python3.10/site-packages (from packaging->mmcv) (3.0.9)\r\n",
      "Requirement already satisfied: tomli>=2.0.1 in /opt/conda/lib/python3.10/site-packages (from yapf->mmcv) (2.0.1)\r\n",
      "Requirement already satisfied: contourpy>=1.0.1 in /opt/conda/lib/python3.10/site-packages (from matplotlib->mmengine>=0.2.0->mmcv) (1.0.7)\r\n",
      "Requirement already satisfied: cycler>=0.10 in /opt/conda/lib/python3.10/site-packages (from matplotlib->mmengine>=0.2.0->mmcv) (0.11.0)\r\n",
      "Requirement already satisfied: fonttools>=4.22.0 in /opt/conda/lib/python3.10/site-packages (from matplotlib->mmengine>=0.2.0->mmcv) (4.39.3)\r\n",
      "Requirement already satisfied: kiwisolver>=1.0.1 in /opt/conda/lib/python3.10/site-packages (from matplotlib->mmengine>=0.2.0->mmcv) (1.4.4)\r\n",
      "Requirement already satisfied: python-dateutil>=2.7 in /opt/conda/lib/python3.10/site-packages (from matplotlib->mmengine>=0.2.0->mmcv) (2.8.2)\r\n"
     ]
    },
    {
     "name": "stdout",
     "output_type": "stream",
     "text": [
      "Requirement already satisfied: commonmark<0.10.0,>=0.9.0 in /opt/conda/lib/python3.10/site-packages (from rich->mmengine>=0.2.0->mmcv) (0.9.1)\r\n",
      "Requirement already satisfied: pygments<3.0.0,>=2.6.0 in /opt/conda/lib/python3.10/site-packages (from rich->mmengine>=0.2.0->mmcv) (2.15.1)\r\n"
     ]
    },
    {
     "name": "stdout",
     "output_type": "stream",
     "text": [
      "Requirement already satisfied: six>=1.5 in /opt/conda/lib/python3.10/site-packages (from python-dateutil>=2.7->matplotlib->mmengine>=0.2.0->mmcv) (1.16.0)\r\n"
     ]
    },
    {
     "name": "stdout",
     "output_type": "stream",
     "text": [
      "Installing collected packages: addict, mmcv-full, mmengine, mmcv\r\n"
     ]
    },
    {
     "name": "stdout",
     "output_type": "stream",
     "text": [
      "Successfully installed addict-2.4.0 mmcv-2.0.0 mmcv-full-1.7.1 mmengine-0.7.4\r\n",
      "\u001b[33mWARNING: Running pip as the 'root' user can result in broken permissions and conflicting behaviour with the system package manager. It is recommended to use a virtual environment instead: https://pip.pypa.io/warnings/venv\u001b[0m\u001b[33m\r\n",
      "\u001b[0m"
     ]
    }
   ],
   "source": [
    "!pip install -U openmim\n",
    "!mim install mmcv mmcv-full"
   ]
  },
  {
   "cell_type": "code",
   "execution_count": 7,
   "id": "386e2bce",
   "metadata": {
    "execution": {
     "iopub.execute_input": "2023-06-12T18:45:42.486508Z",
     "iopub.status.busy": "2023-06-12T18:45:42.486129Z",
     "iopub.status.idle": "2023-06-12T18:45:59.237515Z",
     "shell.execute_reply": "2023-06-12T18:45:59.236285Z"
    },
    "id": "mMNXeoAfLNiF",
    "outputId": "b8f6a678-540d-46b0-c05a-6d0a48741473",
    "papermill": {
     "duration": 16.798154,
     "end_time": "2023-06-12T18:45:59.239958",
     "exception": false,
     "start_time": "2023-06-12T18:45:42.441804",
     "status": "completed"
    },
    "tags": []
   },
   "outputs": [
    {
     "name": "stdout",
     "output_type": "stream",
     "text": [
      "--2023-06-12 18:45:43--  https://docs.google.com/uc?export=download&confirm=t&id=1i7TqXRuaazFQxOCXtUhmQCu02iIovDU-\r\n"
     ]
    },
    {
     "name": "stdout",
     "output_type": "stream",
     "text": [
      "Resolving docs.google.com (docs.google.com)... 173.194.203.102, 173.194.203.139, 173.194.203.113, ...\r\n",
      "Connecting to docs.google.com (docs.google.com)|173.194.203.102|:443... connected.\r\n",
      "HTTP request sent, awaiting response... "
     ]
    },
    {
     "name": "stdout",
     "output_type": "stream",
     "text": [
      "303 See Other\r\n",
      "Location: https://doc-04-7o-docs.googleusercontent.com/docs/securesc/ha0ro937gcuc7l7deffksulhg5h7mbp1/uvnv9s5odmco1nbjs1r4rq62a7eb6del/1686595500000/05889481493463736502/*/1i7TqXRuaazFQxOCXtUhmQCu02iIovDU-?e=download&uuid=660db731-d2db-4332-a502-fa5486af5a94 [following]\r\n",
      "Warning: wildcards not supported in HTTP.\r\n",
      "--2023-06-12 18:45:43--  https://doc-04-7o-docs.googleusercontent.com/docs/securesc/ha0ro937gcuc7l7deffksulhg5h7mbp1/uvnv9s5odmco1nbjs1r4rq62a7eb6del/1686595500000/05889481493463736502/*/1i7TqXRuaazFQxOCXtUhmQCu02iIovDU-?e=download&uuid=660db731-d2db-4332-a502-fa5486af5a94\r\n",
      "Resolving doc-04-7o-docs.googleusercontent.com (doc-04-7o-docs.googleusercontent.com)... "
     ]
    },
    {
     "name": "stdout",
     "output_type": "stream",
     "text": [
      "142.250.107.132, 2607:f8b0:400e:c0d::84\r\n",
      "Connecting to doc-04-7o-docs.googleusercontent.com (doc-04-7o-docs.googleusercontent.com)|142.250.107.132|:443... connected.\r\n",
      "HTTP request sent, awaiting response... "
     ]
    },
    {
     "name": "stdout",
     "output_type": "stream",
     "text": [
      "200 OK\r\n",
      "Length: 3378728300 (3.1G) [application/octet-stream]\r\n",
      "Saving to: ‘dancing.pkl’\r\n",
      "\r\n",
      "\r",
      "dancing.pkl           0%[                    ]       0  --.-KB/s               "
     ]
    },
    {
     "name": "stdout",
     "output_type": "stream",
     "text": [
      "\r",
      "dancing.pkl           0%[                    ]  23.28M   116MB/s               "
     ]
    },
    {
     "name": "stdout",
     "output_type": "stream",
     "text": [
      "\r",
      "dancing.pkl           2%[                    ]  69.23M   173MB/s               "
     ]
    },
    {
     "name": "stdout",
     "output_type": "stream",
     "text": [
      "\r",
      "dancing.pkl           3%[                    ] 108.51M   181MB/s               "
     ]
    },
    {
     "name": "stdout",
     "output_type": "stream",
     "text": [
      "\r",
      "dancing.pkl           4%[                    ] 144.90M   181MB/s               "
     ]
    },
    {
     "name": "stdout",
     "output_type": "stream",
     "text": [
      "\r",
      "dancing.pkl           6%[>                   ] 193.77M   194MB/s               "
     ]
    },
    {
     "name": "stdout",
     "output_type": "stream",
     "text": [
      "\r",
      "dancing.pkl           7%[>                   ] 248.13M   207MB/s               "
     ]
    },
    {
     "name": "stdout",
     "output_type": "stream",
     "text": [
      "\r",
      "dancing.pkl           9%[>                   ] 295.77M   211MB/s               "
     ]
    },
    {
     "name": "stdout",
     "output_type": "stream",
     "text": [
      "\r",
      "dancing.pkl          10%[=>                  ] 334.70M   209MB/s               "
     ]
    },
    {
     "name": "stdout",
     "output_type": "stream",
     "text": [
      "\r",
      "dancing.pkl          11%[=>                  ] 365.88M   203MB/s               "
     ]
    },
    {
     "name": "stdout",
     "output_type": "stream",
     "text": [
      "\r",
      "dancing.pkl          12%[=>                  ] 399.61M   200MB/s               "
     ]
    },
    {
     "name": "stdout",
     "output_type": "stream",
     "text": [
      "\r",
      "dancing.pkl          13%[=>                  ] 442.99M   201MB/s               "
     ]
    },
    {
     "name": "stdout",
     "output_type": "stream",
     "text": [
      "\r",
      "dancing.pkl          15%[==>                 ] 495.59M   206MB/s               "
     ]
    },
    {
     "name": "stdout",
     "output_type": "stream",
     "text": [
      "\r",
      "dancing.pkl          16%[==>                 ] 519.82M   200MB/s               "
     ]
    },
    {
     "name": "stdout",
     "output_type": "stream",
     "text": [
      "\r",
      "dancing.pkl          17%[==>                 ] 562.48M   201MB/s               "
     ]
    },
    {
     "name": "stdout",
     "output_type": "stream",
     "text": [
      "\r",
      "dancing.pkl          18%[==>                 ] 610.13M   203MB/s    eta 13s    "
     ]
    },
    {
     "name": "stdout",
     "output_type": "stream",
     "text": [
      "\r",
      "dancing.pkl          20%[===>                ] 659.79M   212MB/s    eta 13s    "
     ]
    },
    {
     "name": "stdout",
     "output_type": "stream",
     "text": [
      "\r",
      "dancing.pkl          21%[===>                ] 708.08M   214MB/s    eta 13s    "
     ]
    },
    {
     "name": "stdout",
     "output_type": "stream",
     "text": [
      "\r",
      "dancing.pkl          23%[===>                ] 756.44M   215MB/s    eta 13s    "
     ]
    },
    {
     "name": "stdout",
     "output_type": "stream",
     "text": [
      "\r",
      "dancing.pkl          25%[====>               ] 806.28M   220MB/s    eta 13s    "
     ]
    },
    {
     "name": "stdout",
     "output_type": "stream",
     "text": [
      "\r",
      "dancing.pkl          26%[====>               ] 856.71M   222MB/s    eta 11s    "
     ]
    },
    {
     "name": "stdout",
     "output_type": "stream",
     "text": [
      "\r",
      "dancing.pkl          27%[====>               ] 893.26M   218MB/s    eta 11s    "
     ]
    },
    {
     "name": "stdout",
     "output_type": "stream",
     "text": [
      "\r",
      "dancing.pkl          29%[====>               ] 939.78M   214MB/s    eta 11s    "
     ]
    },
    {
     "name": "stdout",
     "output_type": "stream",
     "text": [
      "\r",
      "dancing.pkl          30%[=====>              ] 989.42M   216MB/s    eta 11s    "
     ]
    },
    {
     "name": "stdout",
     "output_type": "stream",
     "text": [
      "\r",
      "dancing.pkl          31%[=====>              ]   1.00G   216MB/s    eta 11s    "
     ]
    },
    {
     "name": "stdout",
     "output_type": "stream",
     "text": [
      "\r",
      "dancing.pkl          33%[=====>              ]   1.04G   220MB/s    eta 10s    "
     ]
    },
    {
     "name": "stdout",
     "output_type": "stream",
     "text": [
      "\r",
      "dancing.pkl          34%[=====>              ]   1.09G   220MB/s    eta 10s    "
     ]
    },
    {
     "name": "stdout",
     "output_type": "stream",
     "text": [
      "\r",
      "dancing.pkl          35%[======>             ]   1.11G   214MB/s    eta 10s    "
     ]
    },
    {
     "name": "stdout",
     "output_type": "stream",
     "text": [
      "\r",
      "dancing.pkl          36%[======>             ]   1.16G   212MB/s    eta 10s    "
     ]
    },
    {
     "name": "stdout",
     "output_type": "stream",
     "text": [
      "\r",
      "dancing.pkl          38%[======>             ]   1.20G   218MB/s    eta 10s    "
     ]
    },
    {
     "name": "stdout",
     "output_type": "stream",
     "text": [
      "\r",
      "dancing.pkl          39%[======>             ]   1.25G   221MB/s    eta 9s     "
     ]
    },
    {
     "name": "stdout",
     "output_type": "stream",
     "text": [
      "\r",
      "dancing.pkl          40%[=======>            ]   1.29G   218MB/s    eta 9s     "
     ]
    },
    {
     "name": "stdout",
     "output_type": "stream",
     "text": [
      "\r",
      "dancing.pkl          41%[=======>            ]   1.32G   212MB/s    eta 9s     "
     ]
    },
    {
     "name": "stdout",
     "output_type": "stream",
     "text": [
      "\r",
      "dancing.pkl          43%[=======>            ]   1.35G   209MB/s    eta 9s     "
     ]
    },
    {
     "name": "stdout",
     "output_type": "stream",
     "text": [
      "\r",
      "dancing.pkl          43%[=======>            ]   1.38G   203MB/s    eta 9s     "
     ]
    },
    {
     "name": "stdout",
     "output_type": "stream",
     "text": [
      "\r",
      "dancing.pkl          44%[=======>            ]   1.41G   198MB/s    eta 9s     "
     ]
    },
    {
     "name": "stdout",
     "output_type": "stream",
     "text": [
      "\r",
      "dancing.pkl          45%[========>           ]   1.45G   192MB/s    eta 9s     "
     ]
    },
    {
     "name": "stdout",
     "output_type": "stream",
     "text": [
      "\r",
      "dancing.pkl          46%[========>           ]   1.48G   191MB/s    eta 9s     "
     ]
    },
    {
     "name": "stdout",
     "output_type": "stream",
     "text": [
      "\r",
      "dancing.pkl          47%[========>           ]   1.51G   188MB/s    eta 9s     "
     ]
    },
    {
     "name": "stdout",
     "output_type": "stream",
     "text": [
      "\r",
      "dancing.pkl          49%[========>           ]   1.54G   181MB/s    eta 9s     "
     ]
    },
    {
     "name": "stdout",
     "output_type": "stream",
     "text": [
      "\r",
      "dancing.pkl          50%[=========>          ]   1.59G   189MB/s    eta 8s     "
     ]
    },
    {
     "name": "stdout",
     "output_type": "stream",
     "text": [
      "\r",
      "dancing.pkl          51%[=========>          ]   1.63G   187MB/s    eta 8s     "
     ]
    },
    {
     "name": "stdout",
     "output_type": "stream",
     "text": [
      "\r",
      "dancing.pkl          53%[=========>          ]   1.67G   192MB/s    eta 8s     "
     ]
    },
    {
     "name": "stdout",
     "output_type": "stream",
     "text": [
      "\r",
      "dancing.pkl          54%[=========>          ]   1.71G   189MB/s    eta 8s     "
     ]
    },
    {
     "name": "stdout",
     "output_type": "stream",
     "text": [
      "\r",
      "dancing.pkl          55%[==========>         ]   1.76G   192MB/s    eta 8s     "
     ]
    },
    {
     "name": "stdout",
     "output_type": "stream",
     "text": [
      "\r",
      "dancing.pkl          57%[==========>         ]   1.80G   190MB/s    eta 7s     "
     ]
    },
    {
     "name": "stdout",
     "output_type": "stream",
     "text": [
      "\r",
      "dancing.pkl          58%[==========>         ]   1.84G   189MB/s    eta 7s     "
     ]
    },
    {
     "name": "stdout",
     "output_type": "stream",
     "text": [
      "\r",
      "dancing.pkl          59%[==========>         ]   1.89G   193MB/s    eta 7s     "
     ]
    },
    {
     "name": "stdout",
     "output_type": "stream",
     "text": [
      "\r",
      "dancing.pkl          61%[===========>        ]   1.94G   198MB/s    eta 7s     "
     ]
    },
    {
     "name": "stdout",
     "output_type": "stream",
     "text": [
      "\r",
      "dancing.pkl          63%[===========>        ]   1.99G   204MB/s    eta 7s     "
     ]
    },
    {
     "name": "stdout",
     "output_type": "stream",
     "text": [
      "\r",
      "dancing.pkl          63%[===========>        ]   2.00G   200MB/s    eta 6s     "
     ]
    },
    {
     "name": "stdout",
     "output_type": "stream",
     "text": [
      "\r",
      "dancing.pkl          65%[============>       ]   2.04G   204MB/s    eta 6s     "
     ]
    },
    {
     "name": "stdout",
     "output_type": "stream",
     "text": [
      "\r",
      "dancing.pkl          66%[============>       ]   2.09G   207MB/s    eta 6s     "
     ]
    },
    {
     "name": "stdout",
     "output_type": "stream",
     "text": [
      "\r",
      "dancing.pkl          67%[============>       ]   2.14G   214MB/s    eta 6s     "
     ]
    },
    {
     "name": "stdout",
     "output_type": "stream",
     "text": [
      "\r",
      "dancing.pkl          69%[============>       ]   2.18G   217MB/s    eta 6s     "
     ]
    },
    {
     "name": "stdout",
     "output_type": "stream",
     "text": [
      "\r",
      "dancing.pkl          70%[=============>      ]   2.22G   217MB/s    eta 5s     "
     ]
    },
    {
     "name": "stdout",
     "output_type": "stream",
     "text": [
      "\r",
      "dancing.pkl          72%[=============>      ]   2.27G   220MB/s    eta 5s     "
     ]
    },
    {
     "name": "stdout",
     "output_type": "stream",
     "text": [
      "\r",
      "dancing.pkl          73%[=============>      ]   2.32G   222MB/s    eta 5s     "
     ]
    },
    {
     "name": "stdout",
     "output_type": "stream",
     "text": [
      "\r",
      "dancing.pkl          75%[==============>     ]   2.36G   223MB/s    eta 5s     "
     ]
    },
    {
     "name": "stdout",
     "output_type": "stream",
     "text": [
      "\r",
      "dancing.pkl          76%[==============>     ]   2.41G   222MB/s    eta 5s     "
     ]
    },
    {
     "name": "stdout",
     "output_type": "stream",
     "text": [
      "\r",
      "dancing.pkl          77%[==============>     ]   2.45G   220MB/s    eta 3s     "
     ]
    },
    {
     "name": "stdout",
     "output_type": "stream",
     "text": [
      "\r",
      "dancing.pkl          79%[==============>     ]   2.50G   224MB/s    eta 3s     "
     ]
    },
    {
     "name": "stdout",
     "output_type": "stream",
     "text": [
      "\r",
      "dancing.pkl          80%[===============>    ]   2.55G   225MB/s    eta 3s     "
     ]
    },
    {
     "name": "stdout",
     "output_type": "stream",
     "text": [
      "\r",
      "dancing.pkl          82%[===============>    ]   2.59G   224MB/s    eta 3s     "
     ]
    },
    {
     "name": "stdout",
     "output_type": "stream",
     "text": [
      "\r",
      "dancing.pkl          84%[===============>    ]   2.65G   226MB/s    eta 3s     "
     ]
    },
    {
     "name": "stdout",
     "output_type": "stream",
     "text": [
      "\r",
      "dancing.pkl          85%[================>   ]   2.69G   235MB/s    eta 2s     "
     ]
    },
    {
     "name": "stdout",
     "output_type": "stream",
     "text": [
      "\r",
      "dancing.pkl          86%[================>   ]   2.73G   232MB/s    eta 2s     "
     ]
    },
    {
     "name": "stdout",
     "output_type": "stream",
     "text": [
      "\r",
      "dancing.pkl          88%[================>   ]   2.78G   234MB/s    eta 2s     "
     ]
    },
    {
     "name": "stdout",
     "output_type": "stream",
     "text": [
      "\r",
      "dancing.pkl          89%[================>   ]   2.83G   236MB/s    eta 2s     "
     ]
    },
    {
     "name": "stdout",
     "output_type": "stream",
     "text": [
      "\r",
      "dancing.pkl          91%[=================>  ]   2.88G   238MB/s    eta 2s     "
     ]
    },
    {
     "name": "stdout",
     "output_type": "stream",
     "text": [
      "\r",
      "dancing.pkl          93%[=================>  ]   2.93G   239MB/s    eta 1s     "
     ]
    },
    {
     "name": "stdout",
     "output_type": "stream",
     "text": [
      "\r",
      "dancing.pkl          94%[=================>  ]   2.97G   234MB/s    eta 1s     "
     ]
    },
    {
     "name": "stdout",
     "output_type": "stream",
     "text": [
      "\r",
      "dancing.pkl          95%[==================> ]   3.00G   228MB/s    eta 1s     "
     ]
    },
    {
     "name": "stdout",
     "output_type": "stream",
     "text": [
      "\r",
      "dancing.pkl          96%[==================> ]   3.04G   229MB/s    eta 1s     "
     ]
    },
    {
     "name": "stdout",
     "output_type": "stream",
     "text": [
      "\r",
      "dancing.pkl          98%[==================> ]   3.09G   229MB/s    eta 1s     "
     ]
    },
    {
     "name": "stdout",
     "output_type": "stream",
     "text": [
      "\r",
      "dancing.pkl          99%[==================> ]   3.14G   231MB/s    eta 0s     "
     ]
    },
    {
     "name": "stdout",
     "output_type": "stream",
     "text": [
      "\r",
      "dancing.pkl         100%[===================>]   3.15G   232MB/s    in 15s     \r\n",
      "\r\n",
      "2023-06-12 18:45:59 (213 MB/s) - ‘dancing.pkl’ saved [3378728300/3378728300]\r\n",
      "\r\n"
     ]
    }
   ],
   "source": [
    "!wget --load-cookies /tmp/cookies.txt \"https://docs.google.com/uc?export=download&confirm=$(wget --quiet --save-cookies /tmp/cookies.txt --keep-session-cookies --no-check-certificate 'https://docs.google.com/uc?export=download&id=1i7TqXRuaazFQxOCXtUhmQCu02iIovDU-' -O- | sed -rn 's/.*confirm=([0-9A-Za-z_]+).*/\\1\\n/p')&id=1i7TqXRuaazFQxOCXtUhmQCu02iIovDU-\" -O dancing.pkl && rm -rf /tmp/cookies.txt"
   ]
  },
  {
   "cell_type": "code",
   "execution_count": 8,
   "id": "8e7fbe86",
   "metadata": {
    "execution": {
     "iopub.execute_input": "2023-06-12T18:45:59.802278Z",
     "iopub.status.busy": "2023-06-12T18:45:59.801693Z",
     "iopub.status.idle": "2023-06-12T18:46:01.085536Z",
     "shell.execute_reply": "2023-06-12T18:46:01.084278Z"
    },
    "papermill": {
     "duration": 1.554239,
     "end_time": "2023-06-12T18:46:01.088446",
     "exception": false,
     "start_time": "2023-06-12T18:45:59.534207",
     "status": "completed"
    },
    "tags": []
   },
   "outputs": [],
   "source": [
    "!cp ../input/mm-con/posec3d_dancing.py config.py"
   ]
  },
  {
   "cell_type": "code",
   "execution_count": 9,
   "id": "6f38a0a9",
   "metadata": {
    "execution": {
     "iopub.execute_input": "2023-06-12T18:46:01.188765Z",
     "iopub.status.busy": "2023-06-12T18:46:01.187841Z"
    },
    "id": "WYId5VYHLPPr",
    "outputId": "13bf6e2e-1c64-4426-dac5-56d86e542408",
    "papermill": {
     "duration": null,
     "end_time": null,
     "exception": false,
     "start_time": "2023-06-12T18:46:01.137637",
     "status": "running"
    },
    "tags": []
   },
   "outputs": [
    {
     "name": "stdout",
     "output_type": "stream",
     "text": [
      "/opt/conda/lib/python3.10/site-packages/torchvision/io/image.py:13: UserWarning: Failed to load image Python extension: '/opt/conda/lib/python3.10/site-packages/torchvision/image.so: undefined symbol: _ZN3c104cuda20CUDACachingAllocator9allocatorE'If you don't plan on using image functionality from `torchvision.io`, you can ignore this warning. Otherwise, there might be something wrong with your environment. Did you have `libjpeg` or `libpng` installed before building `torchvision` from source?\r\n",
      "  warn(\r\n"
     ]
    },
    {
     "name": "stdout",
     "output_type": "stream",
     "text": [
      "06/12 18:46:05 - mmengine - \u001b[4m\u001b[97mINFO\u001b[0m - \r\n",
      "------------------------------------------------------------\r\n",
      "System environment:\r\n",
      "    sys.platform: linux\r\n",
      "    Python: 3.10.10 | packaged by conda-forge | (main, Mar 24 2023, 20:08:06) [GCC 11.3.0]\r\n",
      "    CUDA available: True\r\n",
      "    numpy_random_seed: 1452667477\r\n",
      "    GPU 0: Tesla P100-PCIE-16GB\r\n",
      "    CUDA_HOME: /opt/conda\r\n",
      "    NVCC: Cuda compilation tools, release 12.1, V12.1.105\r\n",
      "    GCC: gcc (Ubuntu 11.3.0-1ubuntu1~22.04) 11.3.0\r\n",
      "    PyTorch: 1.12.0+cu102\r\n",
      "    PyTorch compiling details: PyTorch built with:\r\n",
      "  - GCC 7.3\r\n",
      "  - C++ Version: 201402\r\n",
      "  - Intel(R) Math Kernel Library Version 2020.0.0 Product Build 20191122 for Intel(R) 64 architecture applications\r\n",
      "  - Intel(R) MKL-DNN v2.6.0 (Git Hash 52b5f107dd9cf10910aaa19cb47f3abf9b349815)\r\n",
      "  - OpenMP 201511 (a.k.a. OpenMP 4.5)\r\n",
      "  - LAPACK is enabled (usually provided by MKL)\r\n",
      "  - NNPACK is enabled\r\n",
      "  - CPU capability usage: AVX2\r\n",
      "  - CUDA Runtime 10.2\r\n",
      "  - NVCC architecture flags: -gencode;arch=compute_37,code=sm_37;-gencode;arch=compute_50,code=sm_50;-gencode;arch=compute_60,code=sm_60;-gencode;arch=compute_70,code=sm_70\r\n",
      "  - CuDNN 7.6.5\r\n",
      "  - Magma 2.5.2\r\n",
      "  - Build settings: BLAS_INFO=mkl, BUILD_TYPE=Release, CUDA_VERSION=10.2, CUDNN_VERSION=7.6.5, CXX_COMPILER=/opt/rh/devtoolset-7/root/usr/bin/c++, CXX_FLAGS= -Wno-deprecated -fvisibility-inlines-hidden -DUSE_PTHREADPOOL -fopenmp -DNDEBUG -DUSE_KINETO -DUSE_FBGEMM -DUSE_QNNPACK -DUSE_PYTORCH_QNNPACK -DUSE_XNNPACK -DSYMBOLICATE_MOBILE_DEBUG_HANDLE -DEDGE_PROFILER_USE_KINETO -O2 -fPIC -Wno-narrowing -Wall -Wextra -Werror=return-type -Wno-missing-field-initializers -Wno-type-limits -Wno-array-bounds -Wno-unknown-pragmas -Wno-unused-parameter -Wno-unused-function -Wno-unused-result -Wno-unused-local-typedefs -Wno-strict-overflow -Wno-strict-aliasing -Wno-error=deprecated-declarations -Wno-stringop-overflow -Wno-psabi -Wno-error=pedantic -Wno-error=redundant-decls -Wno-error=old-style-cast -fdiagnostics-color=always -faligned-new -Wno-unused-but-set-variable -Wno-maybe-uninitialized -fno-math-errno -fno-trapping-math -Werror=format -Wno-stringop-overflow, LAPACK_INFO=mkl, PERF_WITH_AVX=1, PERF_WITH_AVX2=1, PERF_WITH_AVX512=1, TORCH_VERSION=1.12.0, USE_CUDA=ON, USE_CUDNN=ON, USE_EXCEPTION_PTR=1, USE_GFLAGS=OFF, USE_GLOG=OFF, USE_MKL=ON, USE_MKLDNN=OFF, USE_MPI=OFF, USE_NCCL=ON, USE_NNPACK=ON, USE_OPENMP=ON, USE_ROCM=OFF, \r\n",
      "\r\n",
      "    TorchVision: 0.15.1\r\n",
      "    OpenCV: 4.5.4\r\n",
      "    MMEngine: 0.7.4\r\n",
      "\r\n",
      "Runtime environment:\r\n",
      "    cudnn_benchmark: False\r\n",
      "    mp_cfg: {'mp_start_method': 'fork', 'opencv_num_threads': 0}\r\n",
      "    dist_cfg: {'backend': 'nccl'}\r\n",
      "    seed: 1452667477\r\n",
      "    diff_rank_seed: False\r\n",
      "    deterministic: False\r\n",
      "    Distributed launcher: none\r\n",
      "    Distributed training: False\r\n",
      "    GPU number: 1\r\n",
      "------------------------------------------------------------\r\n",
      "\r\n"
     ]
    },
    {
     "name": "stdout",
     "output_type": "stream",
     "text": [
      "06/12 18:46:05 - mmengine - \u001b[4m\u001b[97mINFO\u001b[0m - Config:\r\n",
      "default_scope = 'mmaction'\r\n",
      "default_hooks = dict(\r\n",
      "    runtime_info=dict(type='RuntimeInfoHook'),\r\n",
      "    timer=dict(type='IterTimerHook'),\r\n",
      "    logger=dict(type='LoggerHook', interval=20, ignore_last=False),\r\n",
      "    param_scheduler=dict(type='ParamSchedulerHook'),\r\n",
      "    checkpoint=dict(\r\n",
      "        type='CheckpointHook', interval=1, save_best='auto', max_keep_ckpts=1),\r\n",
      "    sampler_seed=dict(type='DistSamplerSeedHook'),\r\n",
      "    sync_buffers=dict(type='SyncBuffersHook'))\r\n",
      "env_cfg = dict(\r\n",
      "    cudnn_benchmark=False,\r\n",
      "    mp_cfg=dict(mp_start_method='fork', opencv_num_threads=0),\r\n",
      "    dist_cfg=dict(backend='nccl'))\r\n",
      "log_processor = dict(type='LogProcessor', window_size=20, by_epoch=True)\r\n",
      "vis_backends = [dict(type='LocalVisBackend')]\r\n",
      "visualizer = dict(\r\n",
      "    type='ActionVisualizer', vis_backends=[dict(type='LocalVisBackend')])\r\n",
      "log_level = 'INFO'\r\n",
      "load_from = 'https://download.openmmlab.com/mmaction/v1.0/skeleton/posec3d/k400_posec3d-041f49c6.pth'\r\n",
      "resume = False\r\n",
      "model = dict(\r\n",
      "    type='Recognizer3D',\r\n",
      "    backbone=dict(\r\n",
      "        type='ResNet3dSlowOnly',\r\n",
      "        depth=50,\r\n",
      "        pretrained=None,\r\n",
      "        in_channels=17,\r\n",
      "        base_channels=32,\r\n",
      "        num_stages=3,\r\n",
      "        out_indices=(2, ),\r\n",
      "        stage_blocks=(3, 4, 6),\r\n",
      "        conv1_stride_s=1,\r\n",
      "        pool1_stride_s=1,\r\n",
      "        inflate=(0, 1, 1),\r\n",
      "        spatial_strides=(2, 2, 2),\r\n",
      "        temporal_strides=(1, 1, 2),\r\n",
      "        dilations=(1, 1, 1)),\r\n",
      "    cls_head=dict(\r\n",
      "        type='I3DHead',\r\n",
      "        in_channels=512,\r\n",
      "        num_classes=13,\r\n",
      "        spatial_type='avg',\r\n",
      "        dropout_ratio=0.5,\r\n",
      "        average_clips='prob'),\r\n",
      "    train_cfg=None,\r\n",
      "    test_cfg=None)\r\n",
      "dataset_type = 'PoseDataset'\r\n",
      "ann_file = '/kaggle/working/dancing.pkl'\r\n",
      "left_kp = [1, 3, 5, 7, 9, 11, 13, 15]\r\n",
      "right_kp = [2, 4, 6, 8, 10, 12, 14, 16]\r\n",
      "train_pipeline = [\r\n",
      "    dict(type='UniformSampleFrames', clip_len=48),\r\n",
      "    dict(type='PoseDecode'),\r\n",
      "    dict(type='PoseCompact', hw_ratio=1.0, allow_imgpad=True),\r\n",
      "    dict(type='Resize', scale=(-1, 64)),\r\n",
      "    dict(type='RandomResizedCrop', area_range=(0.56, 1.0)),\r\n",
      "    dict(type='Resize', scale=(48, 48), keep_ratio=False),\r\n",
      "    dict(\r\n",
      "        type='Flip',\r\n",
      "        flip_ratio=0.5,\r\n",
      "        left_kp=[1, 3, 5, 7, 9, 11, 13, 15],\r\n",
      "        right_kp=[2, 4, 6, 8, 10, 12, 14, 16]),\r\n",
      "    dict(\r\n",
      "        type='GeneratePoseTarget',\r\n",
      "        sigma=0.6,\r\n",
      "        use_score=True,\r\n",
      "        with_kp=True,\r\n",
      "        with_limb=False),\r\n",
      "    dict(type='FormatShape', input_format='NCTHW_Heatmap'),\r\n",
      "    dict(type='PackActionInputs')\r\n",
      "]\r\n",
      "val_pipeline = [\r\n",
      "    dict(type='UniformSampleFrames', clip_len=48, num_clips=1, test_mode=True),\r\n",
      "    dict(type='PoseDecode'),\r\n",
      "    dict(type='PoseCompact', hw_ratio=1.0, allow_imgpad=True),\r\n",
      "    dict(type='Resize', scale=(-1, 56)),\r\n",
      "    dict(type='CenterCrop', crop_size=56),\r\n",
      "    dict(\r\n",
      "        type='GeneratePoseTarget',\r\n",
      "        sigma=0.6,\r\n",
      "        use_score=True,\r\n",
      "        with_kp=True,\r\n",
      "        with_limb=False),\r\n",
      "    dict(type='FormatShape', input_format='NCTHW_Heatmap'),\r\n",
      "    dict(type='PackActionInputs')\r\n",
      "]\r\n",
      "test_pipeline = [\r\n",
      "    dict(\r\n",
      "        type='UniformSampleFrames', clip_len=48, num_clips=10, test_mode=True),\r\n",
      "    dict(type='PoseDecode'),\r\n",
      "    dict(type='PoseCompact', hw_ratio=1.0, allow_imgpad=True),\r\n",
      "    dict(type='Resize', scale=(-1, 56)),\r\n",
      "    dict(type='CenterCrop', crop_size=56),\r\n",
      "    dict(\r\n",
      "        type='GeneratePoseTarget',\r\n",
      "        sigma=0.6,\r\n",
      "        use_score=True,\r\n",
      "        with_kp=True,\r\n",
      "        with_limb=False,\r\n",
      "        double=True,\r\n",
      "        left_kp=[1, 3, 5, 7, 9, 11, 13, 15],\r\n",
      "        right_kp=[2, 4, 6, 8, 10, 12, 14, 16]),\r\n",
      "    dict(type='FormatShape', input_format='NCTHW_Heatmap'),\r\n",
      "    dict(type='PackActionInputs')\r\n",
      "]\r\n",
      "train_dataloader = dict(\r\n",
      "    batch_size=4,\r\n",
      "    num_workers=1,\r\n",
      "    persistent_workers=True,\r\n",
      "    sampler=dict(type='DefaultSampler', shuffle=True),\r\n",
      "    dataset=dict(\r\n",
      "        type='RepeatDataset',\r\n",
      "        times=10,\r\n",
      "        dataset=dict(\r\n",
      "            type='PoseDataset',\r\n",
      "            ann_file='/kaggle/working/dancing.pkl',\r\n",
      "            split='train1',\r\n",
      "            pipeline=[\r\n",
      "                dict(type='UniformSampleFrames', clip_len=48),\r\n",
      "                dict(type='PoseDecode'),\r\n",
      "                dict(type='PoseCompact', hw_ratio=1.0, allow_imgpad=True),\r\n",
      "                dict(type='Resize', scale=(-1, 64)),\r\n",
      "                dict(type='RandomResizedCrop', area_range=(0.56, 1.0)),\r\n",
      "                dict(type='Resize', scale=(48, 48), keep_ratio=False),\r\n",
      "                dict(\r\n",
      "                    type='Flip',\r\n",
      "                    flip_ratio=0.5,\r\n",
      "                    left_kp=[1, 3, 5, 7, 9, 11, 13, 15],\r\n",
      "                    right_kp=[2, 4, 6, 8, 10, 12, 14, 16]),\r\n",
      "                dict(\r\n",
      "                    type='GeneratePoseTarget',\r\n",
      "                    sigma=0.6,\r\n",
      "                    use_score=True,\r\n",
      "                    with_kp=True,\r\n",
      "                    with_limb=False),\r\n",
      "                dict(type='FormatShape', input_format='NCTHW_Heatmap'),\r\n",
      "                dict(type='PackActionInputs')\r\n",
      "            ])))\r\n",
      "val_dataloader = dict(\r\n",
      "    batch_size=4,\r\n",
      "    num_workers=1,\r\n",
      "    persistent_workers=True,\r\n",
      "    sampler=dict(type='DefaultSampler', shuffle=True),\r\n",
      "    dataset=dict(\r\n",
      "        type='PoseDataset',\r\n",
      "        ann_file='/kaggle/working/dancing.pkl',\r\n",
      "        split='test',\r\n",
      "        pipeline=[\r\n",
      "            dict(\r\n",
      "                type='UniformSampleFrames',\r\n",
      "                clip_len=48,\r\n",
      "                num_clips=1,\r\n",
      "                test_mode=True),\r\n",
      "            dict(type='PoseDecode'),\r\n",
      "            dict(type='PoseCompact', hw_ratio=1.0, allow_imgpad=True),\r\n",
      "            dict(type='Resize', scale=(-1, 56)),\r\n",
      "            dict(type='CenterCrop', crop_size=56),\r\n",
      "            dict(\r\n",
      "                type='GeneratePoseTarget',\r\n",
      "                sigma=0.6,\r\n",
      "                use_score=True,\r\n",
      "                with_kp=True,\r\n",
      "                with_limb=False),\r\n",
      "            dict(type='FormatShape', input_format='NCTHW_Heatmap'),\r\n",
      "            dict(type='PackActionInputs')\r\n",
      "        ],\r\n",
      "        test_mode=True))\r\n",
      "test_dataloader = dict(\r\n",
      "    batch_size=1,\r\n",
      "    num_workers=1,\r\n",
      "    persistent_workers=True,\r\n",
      "    sampler=dict(type='DefaultSampler', shuffle=False),\r\n",
      "    dataset=dict(\r\n",
      "        type='PoseDataset',\r\n",
      "        ann_file='/kaggle/working/dancing.pkl',\r\n",
      "        split='test',\r\n",
      "        pipeline=[\r\n",
      "            dict(\r\n",
      "                type='UniformSampleFrames',\r\n",
      "                clip_len=48,\r\n",
      "                num_clips=10,\r\n",
      "                test_mode=True),\r\n",
      "            dict(type='PoseDecode'),\r\n",
      "            dict(type='PoseCompact', hw_ratio=1.0, allow_imgpad=True),\r\n",
      "            dict(type='Resize', scale=(-1, 56)),\r\n",
      "            dict(type='CenterCrop', crop_size=56),\r\n",
      "            dict(\r\n",
      "                type='GeneratePoseTarget',\r\n",
      "                sigma=0.6,\r\n",
      "                use_score=True,\r\n",
      "                with_kp=True,\r\n",
      "                with_limb=False,\r\n",
      "                double=True,\r\n",
      "                left_kp=[1, 3, 5, 7, 9, 11, 13, 15],\r\n",
      "                right_kp=[2, 4, 6, 8, 10, 12, 14, 16]),\r\n",
      "            dict(type='FormatShape', input_format='NCTHW_Heatmap'),\r\n",
      "            dict(type='PackActionInputs')\r\n",
      "        ],\r\n",
      "        test_mode=True))\r\n",
      "val_evaluator = dict(type='AccMetric')\r\n",
      "test_evaluator = dict(type='AccMetric')\r\n",
      "train_cfg = dict(\r\n",
      "    type='EpochBasedTrainLoop', max_epochs=4, val_begin=1, val_interval=1)\r\n",
      "val_cfg = dict(type='ValLoop')\r\n",
      "test_cfg = dict(type='TestLoop')\r\n",
      "param_scheduler = [\r\n",
      "    dict(\r\n",
      "        type='MultiStepLR',\r\n",
      "        begin=0,\r\n",
      "        end=5,\r\n",
      "        by_epoch=True,\r\n",
      "        milestones=[2, 3],\r\n",
      "        gamma=0.1)\r\n",
      "]\r\n",
      "optim_wrapper = dict(\r\n",
      "    optimizer=dict(type='SGD', lr=0.0001, momentum=0.9, weight_decay=0.0003),\r\n",
      "    clip_grad=dict(max_norm=40, norm_type=2))\r\n",
      "launcher = 'none'\r\n",
      "work_dir = './work_dirs/config'\r\n",
      "randomness = dict(seed=None, diff_rank_seed=False, deterministic=False)\r\n",
      "\r\n"
     ]
    },
    {
     "name": "stdout",
     "output_type": "stream",
     "text": [
      "06/12 18:46:11 - mmengine - \u001b[4m\u001b[97mINFO\u001b[0m - Distributed training is not used, all SyncBatchNorm (SyncBN) layers in the model will be automatically reverted to BatchNormXd layers if they are used.\r\n",
      "06/12 18:46:11 - mmengine - \u001b[4m\u001b[97mINFO\u001b[0m - Hooks will be executed in the following order:\r\n",
      "before_run:\r\n",
      "(VERY_HIGH   ) RuntimeInfoHook                    \r\n",
      "(BELOW_NORMAL) LoggerHook                         \r\n",
      " -------------------- \r\n",
      "before_train:\r\n",
      "(VERY_HIGH   ) RuntimeInfoHook                    \r\n",
      "(NORMAL      ) IterTimerHook                      \r\n",
      "(VERY_LOW    ) CheckpointHook                     \r\n",
      " -------------------- \r\n",
      "before_train_epoch:\r\n",
      "(VERY_HIGH   ) RuntimeInfoHook                    \r\n",
      "(NORMAL      ) IterTimerHook                      \r\n",
      "(NORMAL      ) DistSamplerSeedHook                \r\n",
      " -------------------- \r\n",
      "before_train_iter:\r\n",
      "(VERY_HIGH   ) RuntimeInfoHook                    \r\n",
      "(NORMAL      ) IterTimerHook                      \r\n",
      " -------------------- \r\n",
      "after_train_iter:\r\n",
      "(VERY_HIGH   ) RuntimeInfoHook                    \r\n",
      "(NORMAL      ) IterTimerHook                      \r\n",
      "(BELOW_NORMAL) LoggerHook                         \r\n",
      "(LOW         ) ParamSchedulerHook                 \r\n",
      "(VERY_LOW    ) CheckpointHook                     \r\n",
      " -------------------- \r\n",
      "after_train_epoch:\r\n",
      "(NORMAL      ) IterTimerHook                      \r\n",
      "(NORMAL      ) SyncBuffersHook                    \r\n",
      "(LOW         ) ParamSchedulerHook                 \r\n",
      "(VERY_LOW    ) CheckpointHook                     \r\n",
      " -------------------- \r\n",
      "before_val_epoch:\r\n",
      "(NORMAL      ) IterTimerHook                      \r\n",
      "(NORMAL      ) SyncBuffersHook                    \r\n",
      " -------------------- \r\n",
      "before_val_iter:\r\n",
      "(NORMAL      ) IterTimerHook                      \r\n",
      " -------------------- \r\n",
      "after_val_iter:\r\n",
      "(NORMAL      ) IterTimerHook                      \r\n",
      "(BELOW_NORMAL) LoggerHook                         \r\n",
      " -------------------- \r\n",
      "after_val_epoch:\r\n",
      "(VERY_HIGH   ) RuntimeInfoHook                    \r\n",
      "(NORMAL      ) IterTimerHook                      \r\n",
      "(BELOW_NORMAL) LoggerHook                         \r\n",
      "(LOW         ) ParamSchedulerHook                 \r\n",
      "(VERY_LOW    ) CheckpointHook                     \r\n",
      " -------------------- \r\n",
      "after_train:\r\n",
      "(VERY_LOW    ) CheckpointHook                     \r\n",
      " -------------------- \r\n",
      "before_test_epoch:\r\n",
      "(NORMAL      ) IterTimerHook                      \r\n",
      " -------------------- \r\n",
      "before_test_iter:\r\n",
      "(NORMAL      ) IterTimerHook                      \r\n",
      " -------------------- \r\n",
      "after_test_iter:\r\n",
      "(NORMAL      ) IterTimerHook                      \r\n",
      "(BELOW_NORMAL) LoggerHook                         \r\n",
      " -------------------- \r\n",
      "after_test_epoch:\r\n",
      "(VERY_HIGH   ) RuntimeInfoHook                    \r\n",
      "(NORMAL      ) IterTimerHook                      \r\n",
      "(BELOW_NORMAL) LoggerHook                         \r\n",
      " -------------------- \r\n",
      "after_run:\r\n",
      "(BELOW_NORMAL) LoggerHook                         \r\n",
      " -------------------- \r\n"
     ]
    },
    {
     "name": "stdout",
     "output_type": "stream",
     "text": [
      "Loads checkpoint by http backend from path: https://download.openmmlab.com/mmaction/v1.0/skeleton/posec3d/k400_posec3d-041f49c6.pth\r\n"
     ]
    },
    {
     "name": "stdout",
     "output_type": "stream",
     "text": [
      "Downloading: \"https://download.openmmlab.com/mmaction/v1.0/skeleton/posec3d/k400_posec3d-041f49c6.pth\" to /root/.cache/torch/hub/checkpoints/k400_posec3d-041f49c6.pth\r\n"
     ]
    },
    {
     "name": "stdout",
     "output_type": "stream",
     "text": [
      "\r",
      "  0%|                                               | 0.00/11.6M [00:00<?, ?B/s]"
     ]
    },
    {
     "name": "stdout",
     "output_type": "stream",
     "text": [
      "\r",
      "  0%|                                      | 16.0k/11.6M [00:00<03:07, 64.6kB/s]"
     ]
    },
    {
     "name": "stdout",
     "output_type": "stream",
     "text": [
      "\r",
      "  0%|▏                                      | 48.0k/11.6M [00:00<01:58, 103kB/s]"
     ]
    },
    {
     "name": "stdout",
     "output_type": "stream",
     "text": [
      "\r",
      "  1%|▎                                      | 88.0k/11.6M [00:00<01:34, 128kB/s]"
     ]
    },
    {
     "name": "stdout",
     "output_type": "stream",
     "text": [
      "\r",
      "  2%|▋                                       | 192k/11.6M [00:01<00:50, 239kB/s]"
     ]
    },
    {
     "name": "stdout",
     "output_type": "stream",
     "text": [
      "\r",
      "  3%|█▎                                      | 392k/11.6M [00:01<00:26, 443kB/s]"
     ]
    },
    {
     "name": "stdout",
     "output_type": "stream",
     "text": [
      "\r",
      "  6%|██▏                                     | 656k/11.6M [00:01<00:14, 819kB/s]"
     ]
    },
    {
     "name": "stdout",
     "output_type": "stream",
     "text": [
      "\r",
      "  7%|██▋                                     | 792k/11.6M [00:01<00:13, 846kB/s]"
     ]
    },
    {
     "name": "stdout",
     "output_type": "stream",
     "text": [
      "\r",
      " 10%|███▋                                  | 1.12M/11.6M [00:01<00:07, 1.40MB/s]"
     ]
    },
    {
     "name": "stdout",
     "output_type": "stream",
     "text": [
      "\r",
      " 13%|████▉                                 | 1.51M/11.6M [00:01<00:05, 1.98MB/s]"
     ]
    },
    {
     "name": "stdout",
     "output_type": "stream",
     "text": [
      "\r",
      " 16%|█████▉                                | 1.81M/11.6M [00:01<00:04, 2.25MB/s]"
     ]
    },
    {
     "name": "stdout",
     "output_type": "stream",
     "text": [
      "\r",
      " 20%|███████▋                              | 2.34M/11.6M [00:01<00:03, 3.06MB/s]"
     ]
    },
    {
     "name": "stdout",
     "output_type": "stream",
     "text": [
      "\r",
      " 26%|█████████▋                            | 2.96M/11.6M [00:02<00:02, 3.97MB/s]"
     ]
    },
    {
     "name": "stdout",
     "output_type": "stream",
     "text": [
      "\r",
      " 32%|████████████                          | 3.68M/11.6M [00:02<00:01, 4.93MB/s]"
     ]
    },
    {
     "name": "stdout",
     "output_type": "stream",
     "text": [
      "\r",
      " 39%|██████████████▉                       | 4.54M/11.6M [00:02<00:01, 6.08MB/s]"
     ]
    },
    {
     "name": "stdout",
     "output_type": "stream",
     "text": [
      "\r",
      " 48%|██████████████████▏                   | 5.54M/11.6M [00:02<00:00, 7.27MB/s]"
     ]
    },
    {
     "name": "stdout",
     "output_type": "stream",
     "text": [
      "\r",
      " 58%|█████████████████████▉                | 6.68M/11.6M [00:02<00:00, 8.59MB/s]"
     ]
    },
    {
     "name": "stdout",
     "output_type": "stream",
     "text": [
      "\r",
      " 68%|█████████████████████████▋            | 7.85M/11.6M [00:02<00:00, 9.64MB/s]"
     ]
    },
    {
     "name": "stdout",
     "output_type": "stream",
     "text": [
      "\r",
      " 78%|█████████████████████████████▌        | 9.02M/11.6M [00:02<00:00, 10.4MB/s]"
     ]
    },
    {
     "name": "stdout",
     "output_type": "stream",
     "text": [
      "\r",
      " 88%|█████████████████████████████████▍    | 10.2M/11.6M [00:02<00:00, 11.0MB/s]"
     ]
    },
    {
     "name": "stdout",
     "output_type": "stream",
     "text": [
      "\r",
      " 98%|█████████████████████████████████████▎| 11.4M/11.6M [00:02<00:00, 11.2MB/s]\r",
      "100%|██████████████████████████████████████| 11.6M/11.6M [00:02<00:00, 4.23MB/s]\r\n"
     ]
    },
    {
     "name": "stdout",
     "output_type": "stream",
     "text": [
      "The model and loaded state dict do not match exactly\r\n",
      "\r\n",
      "missing keys in source state_dict: cls_head.fc_cls.weight, cls_head.fc_cls.bias\r\n",
      "\r\n",
      "06/12 18:46:47 - mmengine - \u001b[4m\u001b[97mINFO\u001b[0m - Load checkpoint from https://download.openmmlab.com/mmaction/v1.0/skeleton/posec3d/k400_posec3d-041f49c6.pth\r\n",
      "06/12 18:46:47 - mmengine - \u001b[5m\u001b[4m\u001b[33mWARNING\u001b[0m - \"FileClient\" will be deprecated in future. Please use io functions in https://mmengine.readthedocs.io/en/latest/api/fileio.html#file-io\r\n",
      "06/12 18:46:47 - mmengine - \u001b[5m\u001b[4m\u001b[33mWARNING\u001b[0m - \"HardDiskBackend\" is the alias of \"LocalBackend\" and the former will be deprecated in future.\r\n",
      "06/12 18:46:47 - mmengine - \u001b[4m\u001b[97mINFO\u001b[0m - Checkpoints will be saved to /kaggle/working/work_dirs/config.\r\n"
     ]
    },
    {
     "name": "stdout",
     "output_type": "stream",
     "text": [
      "06/12 18:47:11 - mmengine - \u001b[4m\u001b[97mINFO\u001b[0m - Epoch(train) [1][   20/11818]  lr: 1.0000e-04  eta: 16:04:28  time: 1.2247  data_time: 0.7970  memory: 1526  grad_norm: 8.6378  loss: 2.6105  top1_acc: 0.2500  top5_acc: 0.5000  loss_cls: 2.6105\r\n"
     ]
    },
    {
     "name": "stdout",
     "output_type": "stream",
     "text": [
      "06/12 18:47:37 - mmengine - \u001b[4m\u001b[97mINFO\u001b[0m - Epoch(train) [1][   40/11818]  lr: 1.0000e-04  eta: 16:35:07  time: 1.3036  data_time: 0.9405  memory: 1526  grad_norm: 8.8092  loss: 2.5490  top1_acc: 0.0000  top5_acc: 0.7500  loss_cls: 2.5490\r\n"
     ]
    },
    {
     "name": "stdout",
     "output_type": "stream",
     "text": [
      "06/12 18:48:00 - mmengine - \u001b[4m\u001b[97mINFO\u001b[0m - Epoch(train) [1][   60/11818]  lr: 1.0000e-04  eta: 16:05:28  time: 1.1527  data_time: 0.7915  memory: 1526  grad_norm: 8.4293  loss: 2.6074  top1_acc: 0.2500  top5_acc: 0.5000  loss_cls: 2.6074\r\n"
     ]
    },
    {
     "name": "stdout",
     "output_type": "stream",
     "text": [
      "06/12 18:48:22 - mmengine - \u001b[4m\u001b[97mINFO\u001b[0m - Epoch(train) [1][   80/11818]  lr: 1.0000e-04  eta: 15:33:28  time: 1.0664  data_time: 0.7043  memory: 1526  grad_norm: 8.4966  loss: 2.5121  top1_acc: 0.0000  top5_acc: 1.0000  loss_cls: 2.5121\r\n"
     ]
    },
    {
     "name": "stdout",
     "output_type": "stream",
     "text": [
      "06/12 18:48:46 - mmengine - \u001b[4m\u001b[97mINFO\u001b[0m - Epoch(train) [1][  100/11818]  lr: 1.0000e-04  eta: 15:38:31  time: 1.2214  data_time: 0.8604  memory: 1526  grad_norm: 8.6310  loss: 2.5131  top1_acc: 0.2500  top5_acc: 0.5000  loss_cls: 2.5131\r\n"
     ]
    },
    {
     "name": "stdout",
     "output_type": "stream",
     "text": [
      "06/12 18:49:10 - mmengine - \u001b[4m\u001b[97mINFO\u001b[0m - Epoch(train) [1][  120/11818]  lr: 1.0000e-04  eta: 15:40:04  time: 1.2087  data_time: 0.8472  memory: 1526  grad_norm: 8.4326  loss: 2.5019  top1_acc: 0.0000  top5_acc: 0.5000  loss_cls: 2.5019\r\n"
     ]
    },
    {
     "name": "stdout",
     "output_type": "stream",
     "text": [
      "06/12 18:49:33 - mmengine - \u001b[4m\u001b[97mINFO\u001b[0m - Epoch(train) [1][  140/11818]  lr: 1.0000e-04  eta: 15:31:54  time: 1.1270  data_time: 0.7642  memory: 1526  grad_norm: 8.3972  loss: 2.4805  top1_acc: 0.0000  top5_acc: 0.0000  loss_cls: 2.4805\r\n"
     ]
    },
    {
     "name": "stdout",
     "output_type": "stream",
     "text": [
      "06/12 18:49:59 - mmengine - \u001b[4m\u001b[97mINFO\u001b[0m - Epoch(train) [1][  160/11818]  lr: 1.0000e-04  eta: 15:45:36  time: 1.3299  data_time: 0.9688  memory: 1526  grad_norm: 8.5369  loss: 2.4476  top1_acc: 0.0000  top5_acc: 0.7500  loss_cls: 2.4476\r\n"
     ]
    },
    {
     "name": "stdout",
     "output_type": "stream",
     "text": [
      "06/12 18:50:22 - mmengine - \u001b[4m\u001b[97mINFO\u001b[0m - Epoch(train) [1][  180/11818]  lr: 1.0000e-04  eta: 15:36:30  time: 1.1046  data_time: 0.7420  memory: 1526  grad_norm: 8.5582  loss: 2.3991  top1_acc: 0.5000  top5_acc: 1.0000  loss_cls: 2.3991\r\n"
     ]
    },
    {
     "name": "stdout",
     "output_type": "stream",
     "text": [
      "06/12 18:50:45 - mmengine - \u001b[4m\u001b[97mINFO\u001b[0m - Epoch(train) [1][  200/11818]  lr: 1.0000e-04  eta: 15:34:25  time: 1.1718  data_time: 0.8087  memory: 1526  grad_norm: 8.6478  loss: 2.3728  top1_acc: 0.2500  top5_acc: 0.7500  loss_cls: 2.3728\r\n"
     ]
    },
    {
     "name": "stdout",
     "output_type": "stream",
     "text": [
      "06/12 18:51:11 - mmengine - \u001b[4m\u001b[97mINFO\u001b[0m - Epoch(train) [1][  220/11818]  lr: 1.0000e-04  eta: 15:42:54  time: 1.3155  data_time: 0.9547  memory: 1526  grad_norm: 8.6599  loss: 2.3811  top1_acc: 0.2500  top5_acc: 0.7500  loss_cls: 2.3811\r\n"
     ]
    },
    {
     "name": "stdout",
     "output_type": "stream",
     "text": [
      "06/12 18:51:37 - mmengine - \u001b[4m\u001b[97mINFO\u001b[0m - Epoch(train) [1][  240/11818]  lr: 1.0000e-04  eta: 15:47:30  time: 1.2791  data_time: 0.9171  memory: 1526  grad_norm: 8.6117  loss: 2.3686  top1_acc: 0.0000  top5_acc: 0.2500  loss_cls: 2.3686\r\n"
     ]
    },
    {
     "name": "stdout",
     "output_type": "stream",
     "text": [
      "06/12 18:52:00 - mmengine - \u001b[4m\u001b[97mINFO\u001b[0m - Epoch(train) [1][  260/11818]  lr: 1.0000e-04  eta: 15:42:38  time: 1.1346  data_time: 0.7735  memory: 1526  grad_norm: 8.8388  loss: 2.4241  top1_acc: 0.2500  top5_acc: 0.5000  loss_cls: 2.4241\r\n"
     ]
    },
    {
     "name": "stdout",
     "output_type": "stream",
     "text": [
      "06/12 18:52:24 - mmengine - \u001b[4m\u001b[97mINFO\u001b[0m - Epoch(train) [1][  280/11818]  lr: 1.0000e-04  eta: 15:42:40  time: 1.2109  data_time: 0.8496  memory: 1526  grad_norm: 8.6595  loss: 2.3487  top1_acc: 0.2500  top5_acc: 0.7500  loss_cls: 2.3487\r\n"
     ]
    },
    {
     "name": "stdout",
     "output_type": "stream",
     "text": [
      "06/12 18:52:44 - mmengine - \u001b[4m\u001b[97mINFO\u001b[0m - Epoch(train) [1][  300/11818]  lr: 1.0000e-04  eta: 15:32:20  time: 1.0131  data_time: 0.6503  memory: 1526  grad_norm: 8.5820  loss: 2.3477  top1_acc: 0.5000  top5_acc: 0.7500  loss_cls: 2.3477\r\n"
     ]
    },
    {
     "name": "stdout",
     "output_type": "stream",
     "text": [
      "06/12 18:53:08 - mmengine - \u001b[4m\u001b[97mINFO\u001b[0m - Epoch(train) [1][  320/11818]  lr: 1.0000e-04  eta: 15:32:33  time: 1.2034  data_time: 0.8419  memory: 1526  grad_norm: 8.8058  loss: 2.3352  top1_acc: 0.7500  top5_acc: 1.0000  loss_cls: 2.3352\r\n"
     ]
    },
    {
     "name": "stdout",
     "output_type": "stream",
     "text": [
      "06/12 18:53:30 - mmengine - \u001b[4m\u001b[97mINFO\u001b[0m - Epoch(train) [1][  340/11818]  lr: 1.0000e-04  eta: 15:28:28  time: 1.1119  data_time: 0.7511  memory: 1526  grad_norm: 8.6267  loss: 2.3352  top1_acc: 0.0000  top5_acc: 1.0000  loss_cls: 2.3352\r\n"
     ]
    },
    {
     "name": "stdout",
     "output_type": "stream",
     "text": [
      "06/12 18:53:53 - mmengine - \u001b[4m\u001b[97mINFO\u001b[0m - Epoch(train) [1][  360/11818]  lr: 1.0000e-04  eta: 15:26:37  time: 1.1535  data_time: 0.7920  memory: 1526  grad_norm: 8.7825  loss: 2.2932  top1_acc: 0.0000  top5_acc: 0.7500  loss_cls: 2.2932\r\n"
     ]
    },
    {
     "name": "stdout",
     "output_type": "stream",
     "text": [
      "06/12 18:54:18 - mmengine - \u001b[4m\u001b[97mINFO\u001b[0m - Epoch(train) [1][  380/11818]  lr: 1.0000e-04  eta: 15:27:16  time: 1.2106  data_time: 0.8495  memory: 1526  grad_norm: 8.7324  loss: 2.2214  top1_acc: 0.5000  top5_acc: 0.7500  loss_cls: 2.2214\r\n"
     ]
    },
    {
     "name": "stdout",
     "output_type": "stream",
     "text": [
      "06/12 18:54:42 - mmengine - \u001b[4m\u001b[97mINFO\u001b[0m - Epoch(train) [1][  400/11818]  lr: 1.0000e-04  eta: 15:27:37  time: 1.2052  data_time: 0.8419  memory: 1526  grad_norm: 8.6964  loss: 2.2566  top1_acc: 0.2500  top5_acc: 1.0000  loss_cls: 2.2566\r\n"
     ]
    },
    {
     "name": "stdout",
     "output_type": "stream",
     "text": [
      "06/12 18:55:03 - mmengine - \u001b[4m\u001b[97mINFO\u001b[0m - Epoch(train) [1][  420/11818]  lr: 1.0000e-04  eta: 15:22:26  time: 1.0591  data_time: 0.6992  memory: 1526  grad_norm: 8.7054  loss: 2.2513  top1_acc: 0.0000  top5_acc: 0.5000  loss_cls: 2.2513\r\n"
     ]
    },
    {
     "name": "stdout",
     "output_type": "stream",
     "text": [
      "06/12 18:55:28 - mmengine - \u001b[4m\u001b[97mINFO\u001b[0m - Epoch(train) [1][  440/11818]  lr: 1.0000e-04  eta: 15:25:04  time: 1.2665  data_time: 0.9058  memory: 1526  grad_norm: 8.9410  loss: 2.2719  top1_acc: 0.5000  top5_acc: 0.7500  loss_cls: 2.2719\r\n"
     ]
    },
    {
     "name": "stdout",
     "output_type": "stream",
     "text": [
      "06/12 18:55:53 - mmengine - \u001b[4m\u001b[97mINFO\u001b[0m - Epoch(train) [1][  460/11818]  lr: 1.0000e-04  eta: 15:26:18  time: 1.2333  data_time: 0.8715  memory: 1526  grad_norm: 8.9193  loss: 2.2666  top1_acc: 0.5000  top5_acc: 1.0000  loss_cls: 2.2666\r\n"
     ]
    },
    {
     "name": "stdout",
     "output_type": "stream",
     "text": [
      "06/12 18:56:14 - mmengine - \u001b[4m\u001b[97mINFO\u001b[0m - Epoch(train) [1][  480/11818]  lr: 1.0000e-04  eta: 15:22:10  time: 1.0723  data_time: 0.7115  memory: 1526  grad_norm: 8.9102  loss: 2.2074  top1_acc: 0.5000  top5_acc: 0.7500  loss_cls: 2.2074\r\n"
     ]
    },
    {
     "name": "stdout",
     "output_type": "stream",
     "text": [
      "06/12 18:56:36 - mmengine - \u001b[4m\u001b[97mINFO\u001b[0m - Epoch(train) [1][  500/11818]  lr: 1.0000e-04  eta: 15:19:09  time: 1.0980  data_time: 0.7380  memory: 1526  grad_norm: 8.6556  loss: 2.1772  top1_acc: 0.7500  top5_acc: 1.0000  loss_cls: 2.1772\r\n"
     ]
    },
    {
     "name": "stdout",
     "output_type": "stream",
     "text": [
      "06/12 18:56:59 - mmengine - \u001b[4m\u001b[97mINFO\u001b[0m - Epoch(train) [1][  520/11818]  lr: 1.0000e-04  eta: 15:17:25  time: 1.1347  data_time: 0.7718  memory: 1526  grad_norm: 8.7889  loss: 2.1315  top1_acc: 0.5000  top5_acc: 1.0000  loss_cls: 2.1315\r\n"
     ]
    },
    {
     "name": "stdout",
     "output_type": "stream",
     "text": [
      "06/12 18:57:20 - mmengine - \u001b[4m\u001b[97mINFO\u001b[0m - Epoch(train) [1][  540/11818]  lr: 1.0000e-04  eta: 15:13:48  time: 1.0653  data_time: 0.7050  memory: 1526  grad_norm: 8.7986  loss: 2.2264  top1_acc: 0.5000  top5_acc: 0.7500  loss_cls: 2.2264\r\n"
     ]
    },
    {
     "name": "stdout",
     "output_type": "stream",
     "text": [
      "06/12 18:57:42 - mmengine - \u001b[4m\u001b[97mINFO\u001b[0m - Epoch(train) [1][  560/11818]  lr: 1.0000e-04  eta: 15:11:05  time: 1.0899  data_time: 0.7289  memory: 1526  grad_norm: 8.7728  loss: 2.0926  top1_acc: 0.0000  top5_acc: 0.5000  loss_cls: 2.0926\r\n"
     ]
    },
    {
     "name": "stdout",
     "output_type": "stream",
     "text": [
      "06/12 18:58:07 - mmengine - \u001b[4m\u001b[97mINFO\u001b[0m - Epoch(train) [1][  580/11818]  lr: 1.0000e-04  eta: 15:12:28  time: 1.2361  data_time: 0.8749  memory: 1526  grad_norm: 8.8533  loss: 2.1266  top1_acc: 0.7500  top5_acc: 1.0000  loss_cls: 2.1266\r\n"
     ]
    },
    {
     "name": "stdout",
     "output_type": "stream",
     "text": [
      "06/12 18:58:31 - mmengine - \u001b[4m\u001b[97mINFO\u001b[0m - Epoch(train) [1][  600/11818]  lr: 1.0000e-04  eta: 15:12:29  time: 1.1883  data_time: 0.8263  memory: 1526  grad_norm: 8.9896  loss: 2.1483  top1_acc: 0.7500  top5_acc: 1.0000  loss_cls: 2.1483\r\n"
     ]
    },
    {
     "name": "stdout",
     "output_type": "stream",
     "text": [
      "06/12 18:58:53 - mmengine - \u001b[4m\u001b[97mINFO\u001b[0m - Epoch(train) [1][  620/11818]  lr: 1.0000e-04  eta: 15:11:15  time: 1.1393  data_time: 0.7776  memory: 1526  grad_norm: 8.7916  loss: 2.0285  top1_acc: 0.7500  top5_acc: 0.7500  loss_cls: 2.0285\r\n"
     ]
    },
    {
     "name": "stdout",
     "output_type": "stream",
     "text": [
      "06/12 18:59:18 - mmengine - \u001b[4m\u001b[97mINFO\u001b[0m - Epoch(train) [1][  640/11818]  lr: 1.0000e-04  eta: 15:12:02  time: 1.2209  data_time: 0.8606  memory: 1526  grad_norm: 8.8170  loss: 2.0296  top1_acc: 0.2500  top5_acc: 0.7500  loss_cls: 2.0296\r\n"
     ]
    },
    {
     "name": "stdout",
     "output_type": "stream",
     "text": [
      "06/12 18:59:41 - mmengine - \u001b[4m\u001b[97mINFO\u001b[0m - Epoch(train) [1][  660/11818]  lr: 1.0000e-04  eta: 15:10:43  time: 1.1340  data_time: 0.7715  memory: 1526  grad_norm: 8.9630  loss: 2.0298  top1_acc: 0.5000  top5_acc: 1.0000  loss_cls: 2.0298\r\n"
     ]
    },
    {
     "name": "stdout",
     "output_type": "stream",
     "text": [
      "06/12 19:00:06 - mmengine - \u001b[4m\u001b[97mINFO\u001b[0m - Epoch(train) [1][  680/11818]  lr: 1.0000e-04  eta: 15:12:18  time: 1.2588  data_time: 0.8984  memory: 1526  grad_norm: 8.7016  loss: 1.9850  top1_acc: 0.7500  top5_acc: 1.0000  loss_cls: 1.9850\r\n"
     ]
    },
    {
     "name": "stdout",
     "output_type": "stream",
     "text": [
      "06/12 19:00:25 - mmengine - \u001b[4m\u001b[97mINFO\u001b[0m - Epoch(train) [1][  700/11818]  lr: 1.0000e-04  eta: 15:07:45  time: 0.9869  data_time: 0.6258  memory: 1526  grad_norm: 9.0428  loss: 2.0916  top1_acc: 0.5000  top5_acc: 1.0000  loss_cls: 2.0916\r\n"
     ]
    },
    {
     "name": "stdout",
     "output_type": "stream",
     "text": [
      "06/12 19:00:50 - mmengine - \u001b[4m\u001b[97mINFO\u001b[0m - Epoch(train) [1][  720/11818]  lr: 1.0000e-04  eta: 15:09:02  time: 1.2474  data_time: 0.8864  memory: 1526  grad_norm: 9.1099  loss: 1.9196  top1_acc: 0.7500  top5_acc: 1.0000  loss_cls: 1.9196\r\n"
     ]
    },
    {
     "name": "stdout",
     "output_type": "stream",
     "text": [
      "06/12 19:01:14 - mmengine - \u001b[4m\u001b[97mINFO\u001b[0m - Epoch(train) [1][  740/11818]  lr: 1.0000e-04  eta: 15:08:20  time: 1.1568  data_time: 0.7963  memory: 1526  grad_norm: 8.8598  loss: 1.9773  top1_acc: 0.5000  top5_acc: 0.7500  loss_cls: 1.9773\r\n"
     ]
    },
    {
     "name": "stdout",
     "output_type": "stream",
     "text": [
      "06/12 19:01:35 - mmengine - \u001b[4m\u001b[97mINFO\u001b[0m - Epoch(train) [1][  760/11818]  lr: 1.0000e-04  eta: 15:06:13  time: 1.0866  data_time: 0.7264  memory: 1526  grad_norm: 9.1867  loss: 2.0905  top1_acc: 1.0000  top5_acc: 1.0000  loss_cls: 2.0905\r\n"
     ]
    },
    {
     "name": "stdout",
     "output_type": "stream",
     "text": [
      "06/12 19:02:00 - mmengine - \u001b[4m\u001b[97mINFO\u001b[0m - Epoch(train) [1][  780/11818]  lr: 1.0000e-04  eta: 15:07:21  time: 1.2456  data_time: 0.8846  memory: 1526  grad_norm: 8.9646  loss: 1.8668  top1_acc: 0.7500  top5_acc: 1.0000  loss_cls: 1.8668\r\n"
     ]
    },
    {
     "name": "stdout",
     "output_type": "stream",
     "text": [
      "06/12 19:02:21 - mmengine - \u001b[4m\u001b[97mINFO\u001b[0m - Epoch(train) [1][  800/11818]  lr: 1.0000e-04  eta: 15:04:13  time: 1.0299  data_time: 0.6686  memory: 1526  grad_norm: 9.0675  loss: 2.0301  top1_acc: 0.5000  top5_acc: 0.7500  loss_cls: 2.0301\r\n"
     ]
    },
    {
     "name": "stdout",
     "output_type": "stream",
     "text": [
      "06/12 19:02:46 - mmengine - \u001b[4m\u001b[97mINFO\u001b[0m - Epoch(train) [1][  820/11818]  lr: 1.0000e-04  eta: 15:05:22  time: 1.2485  data_time: 0.8868  memory: 1526  grad_norm: 9.0616  loss: 1.9333  top1_acc: 0.5000  top5_acc: 1.0000  loss_cls: 1.9333\r\n"
     ]
    },
    {
     "name": "stdout",
     "output_type": "stream",
     "text": [
      "06/12 19:03:10 - mmengine - \u001b[4m\u001b[97mINFO\u001b[0m - Epoch(train) [1][  840/11818]  lr: 1.0000e-04  eta: 15:05:57  time: 1.2220  data_time: 0.8613  memory: 1526  grad_norm: 8.9130  loss: 1.7868  top1_acc: 0.7500  top5_acc: 1.0000  loss_cls: 1.7868\r\n"
     ]
    },
    {
     "name": "stdout",
     "output_type": "stream",
     "text": [
      "06/12 19:03:32 - mmengine - \u001b[4m\u001b[97mINFO\u001b[0m - Epoch(train) [1][  860/11818]  lr: 1.0000e-04  eta: 15:04:04  time: 1.0879  data_time: 0.7277  memory: 1526  grad_norm: 8.9750  loss: 1.8863  top1_acc: 0.5000  top5_acc: 0.7500  loss_cls: 1.8863\r\n"
     ]
    },
    {
     "name": "stdout",
     "output_type": "stream",
     "text": [
      "06/12 19:03:55 - mmengine - \u001b[4m\u001b[97mINFO\u001b[0m - Epoch(train) [1][  880/11818]  lr: 1.0000e-04  eta: 15:03:44  time: 1.1724  data_time: 0.8114  memory: 1526  grad_norm: 9.1731  loss: 1.8303  top1_acc: 1.0000  top5_acc: 1.0000  loss_cls: 1.8303\r\n"
     ]
    },
    {
     "name": "stdout",
     "output_type": "stream",
     "text": [
      "06/12 19:04:18 - mmengine - \u001b[4m\u001b[97mINFO\u001b[0m - Epoch(train) [1][  900/11818]  lr: 1.0000e-04  eta: 15:02:20  time: 1.1095  data_time: 0.7478  memory: 1526  grad_norm: 8.9527  loss: 1.7859  top1_acc: 0.5000  top5_acc: 1.0000  loss_cls: 1.7859\r\n"
     ]
    },
    {
     "name": "stdout",
     "output_type": "stream",
     "text": [
      "06/12 19:04:43 - mmengine - \u001b[4m\u001b[97mINFO\u001b[0m - Epoch(train) [1][  920/11818]  lr: 1.0000e-04  eta: 15:03:37  time: 1.2674  data_time: 0.9037  memory: 1526  grad_norm: 9.6633  loss: 2.0017  top1_acc: 0.0000  top5_acc: 0.2500  loss_cls: 2.0017\r\n"
     ]
    },
    {
     "name": "stdout",
     "output_type": "stream",
     "text": [
      "06/12 19:05:09 - mmengine - \u001b[4m\u001b[97mINFO\u001b[0m - Epoch(train) [1][  940/11818]  lr: 1.0000e-04  eta: 15:05:24  time: 1.3020  data_time: 0.9421  memory: 1526  grad_norm: 9.4741  loss: 1.8991  top1_acc: 0.7500  top5_acc: 1.0000  loss_cls: 1.8991\r\n"
     ]
    },
    {
     "name": "stdout",
     "output_type": "stream",
     "text": [
      "06/12 19:05:33 - mmengine - \u001b[4m\u001b[97mINFO\u001b[0m - Epoch(train) [1][  960/11818]  lr: 1.0000e-04  eta: 15:05:14  time: 1.1859  data_time: 0.8240  memory: 1526  grad_norm: 9.0721  loss: 1.8265  top1_acc: 0.2500  top5_acc: 0.7500  loss_cls: 1.8265\r\n"
     ]
    },
    {
     "name": "stdout",
     "output_type": "stream",
     "text": [
      "06/12 19:05:54 - mmengine - \u001b[4m\u001b[97mINFO\u001b[0m - Epoch(train) [1][  980/11818]  lr: 1.0000e-04  eta: 15:03:20  time: 1.0772  data_time: 0.7157  memory: 1526  grad_norm: 9.0176  loss: 1.7933  top1_acc: 0.2500  top5_acc: 1.0000  loss_cls: 1.7933\r\n"
     ]
    },
    {
     "name": "stdout",
     "output_type": "stream",
     "text": [
      "06/12 19:06:18 - mmengine - \u001b[4m\u001b[97mINFO\u001b[0m - Exp name: config_20230612_184603\r\n",
      "06/12 19:06:18 - mmengine - \u001b[4m\u001b[97mINFO\u001b[0m - Epoch(train) [1][ 1000/11818]  lr: 1.0000e-04  eta: 15:03:27  time: 1.2036  data_time: 0.8417  memory: 1526  grad_norm: 9.1077  loss: 1.7460  top1_acc: 0.0000  top5_acc: 0.7500  loss_cls: 1.7460\r\n"
     ]
    },
    {
     "name": "stdout",
     "output_type": "stream",
     "text": [
      "06/12 19:06:39 - mmengine - \u001b[4m\u001b[97mINFO\u001b[0m - Epoch(train) [1][ 1020/11818]  lr: 1.0000e-04  eta: 15:00:43  time: 1.0169  data_time: 0.6574  memory: 1526  grad_norm: 9.4840  loss: 1.7548  top1_acc: 0.7500  top5_acc: 1.0000  loss_cls: 1.7548\r\n"
     ]
    },
    {
     "name": "stdout",
     "output_type": "stream",
     "text": [
      "06/12 19:07:06 - mmengine - \u001b[4m\u001b[97mINFO\u001b[0m - Epoch(train) [1][ 1040/11818]  lr: 1.0000e-04  eta: 15:03:06  time: 1.3559  data_time: 0.9946  memory: 1526  grad_norm: 9.6603  loss: 1.7876  top1_acc: 0.2500  top5_acc: 1.0000  loss_cls: 1.7876\r\n"
     ]
    },
    {
     "name": "stdout",
     "output_type": "stream",
     "text": [
      "06/12 19:07:29 - mmengine - \u001b[4m\u001b[97mINFO\u001b[0m - Epoch(train) [1][ 1060/11818]  lr: 1.0000e-04  eta: 15:02:18  time: 1.1440  data_time: 0.7824  memory: 1526  grad_norm: 9.5590  loss: 1.9418  top1_acc: 0.2500  top5_acc: 0.5000  loss_cls: 1.9418\r\n"
     ]
    },
    {
     "name": "stdout",
     "output_type": "stream",
     "text": [
      "06/12 19:07:55 - mmengine - \u001b[4m\u001b[97mINFO\u001b[0m - Epoch(train) [1][ 1080/11818]  lr: 1.0000e-04  eta: 15:04:04  time: 1.3225  data_time: 0.9607  memory: 1526  grad_norm: 9.6918  loss: 1.7930  top1_acc: 0.7500  top5_acc: 1.0000  loss_cls: 1.7930\r\n"
     ]
    },
    {
     "name": "stdout",
     "output_type": "stream",
     "text": [
      "06/12 19:08:17 - mmengine - \u001b[4m\u001b[97mINFO\u001b[0m - Epoch(train) [1][ 1100/11818]  lr: 1.0000e-04  eta: 15:02:39  time: 1.1004  data_time: 0.7398  memory: 1526  grad_norm: 9.3314  loss: 1.6473  top1_acc: 1.0000  top5_acc: 1.0000  loss_cls: 1.6473\r\n"
     ]
    },
    {
     "name": "stdout",
     "output_type": "stream",
     "text": [
      "06/12 19:08:40 - mmengine - \u001b[4m\u001b[97mINFO\u001b[0m - Epoch(train) [1][ 1120/11818]  lr: 1.0000e-04  eta: 15:01:36  time: 1.1255  data_time: 0.7641  memory: 1526  grad_norm: 8.8171  loss: 1.6309  top1_acc: 0.2500  top5_acc: 0.7500  loss_cls: 1.6309\r\n"
     ]
    },
    {
     "name": "stdout",
     "output_type": "stream",
     "text": [
      "06/12 19:09:00 - mmengine - \u001b[4m\u001b[97mINFO\u001b[0m - Epoch(train) [1][ 1140/11818]  lr: 1.0000e-04  eta: 14:59:10  time: 1.0204  data_time: 0.6586  memory: 1526  grad_norm: 9.4533  loss: 1.6628  top1_acc: 0.7500  top5_acc: 1.0000  loss_cls: 1.6628\r\n"
     ]
    },
    {
     "name": "stdout",
     "output_type": "stream",
     "text": [
      "06/12 19:09:24 - mmengine - \u001b[4m\u001b[97mINFO\u001b[0m - Epoch(train) [1][ 1160/11818]  lr: 1.0000e-04  eta: 14:59:21  time: 1.2131  data_time: 0.8514  memory: 1526  grad_norm: 9.6382  loss: 1.7897  top1_acc: 0.5000  top5_acc: 1.0000  loss_cls: 1.7897\r\n"
     ]
    },
    {
     "name": "stdout",
     "output_type": "stream",
     "text": [
      "06/12 19:09:46 - mmengine - \u001b[4m\u001b[97mINFO\u001b[0m - Epoch(train) [1][ 1180/11818]  lr: 1.0000e-04  eta: 14:58:03  time: 1.1004  data_time: 0.7375  memory: 1526  grad_norm: 9.5525  loss: 1.6360  top1_acc: 0.7500  top5_acc: 1.0000  loss_cls: 1.6360\r\n"
     ]
    },
    {
     "name": "stdout",
     "output_type": "stream",
     "text": [
      "06/12 19:10:11 - mmengine - \u001b[4m\u001b[97mINFO\u001b[0m - Epoch(train) [1][ 1200/11818]  lr: 1.0000e-04  eta: 14:58:15  time: 1.2149  data_time: 0.8524  memory: 1526  grad_norm: 9.3370  loss: 1.7690  top1_acc: 0.5000  top5_acc: 0.5000  loss_cls: 1.7690\r\n"
     ]
    },
    {
     "name": "stdout",
     "output_type": "stream",
     "text": [
      "06/12 19:10:33 - mmengine - \u001b[4m\u001b[97mINFO\u001b[0m - Epoch(train) [1][ 1220/11818]  lr: 1.0000e-04  eta: 14:57:31  time: 1.1422  data_time: 0.7796  memory: 1526  grad_norm: 9.5535  loss: 1.5293  top1_acc: 0.7500  top5_acc: 1.0000  loss_cls: 1.5293\r\n"
     ]
    },
    {
     "name": "stdout",
     "output_type": "stream",
     "text": [
      "06/12 19:10:57 - mmengine - \u001b[4m\u001b[97mINFO\u001b[0m - Epoch(train) [1][ 1240/11818]  lr: 1.0000e-04  eta: 14:56:56  time: 1.1537  data_time: 0.7942  memory: 1526  grad_norm: 9.2833  loss: 1.6188  top1_acc: 0.5000  top5_acc: 0.7500  loss_cls: 1.6188\r\n"
     ]
    },
    {
     "name": "stdout",
     "output_type": "stream",
     "text": [
      "06/12 19:11:18 - mmengine - \u001b[4m\u001b[97mINFO\u001b[0m - Epoch(train) [1][ 1260/11818]  lr: 1.0000e-04  eta: 14:55:16  time: 1.0652  data_time: 0.7044  memory: 1526  grad_norm: 9.4477  loss: 1.6431  top1_acc: 0.7500  top5_acc: 0.7500  loss_cls: 1.6431\r\n"
     ]
    },
    {
     "name": "stdout",
     "output_type": "stream",
     "text": [
      "06/12 19:11:40 - mmengine - \u001b[4m\u001b[97mINFO\u001b[0m - Epoch(train) [1][ 1280/11818]  lr: 1.0000e-04  eta: 14:53:59  time: 1.0916  data_time: 0.7306  memory: 1526  grad_norm: 9.7837  loss: 1.6918  top1_acc: 0.7500  top5_acc: 1.0000  loss_cls: 1.6918\r\n"
     ]
    },
    {
     "name": "stdout",
     "output_type": "stream",
     "text": [
      "06/12 19:12:01 - mmengine - \u001b[4m\u001b[97mINFO\u001b[0m - Epoch(train) [1][ 1300/11818]  lr: 1.0000e-04  eta: 14:52:38  time: 1.0858  data_time: 0.7258  memory: 1526  grad_norm: 9.8842  loss: 1.7354  top1_acc: 0.2500  top5_acc: 1.0000  loss_cls: 1.7354\r\n"
     ]
    },
    {
     "name": "stdout",
     "output_type": "stream",
     "text": [
      "06/12 19:12:25 - mmengine - \u001b[4m\u001b[97mINFO\u001b[0m - Epoch(train) [1][ 1320/11818]  lr: 1.0000e-04  eta: 14:52:38  time: 1.1982  data_time: 0.8365  memory: 1526  grad_norm: 9.5159  loss: 1.6448  top1_acc: 0.5000  top5_acc: 1.0000  loss_cls: 1.6448\r\n"
     ]
    },
    {
     "name": "stdout",
     "output_type": "stream",
     "text": [
      "06/12 19:12:49 - mmengine - \u001b[4m\u001b[97mINFO\u001b[0m - Epoch(train) [1][ 1340/11818]  lr: 1.0000e-04  eta: 14:52:17  time: 1.1691  data_time: 0.8076  memory: 1526  grad_norm: 9.8315  loss: 1.6151  top1_acc: 0.7500  top5_acc: 1.0000  loss_cls: 1.6151\r\n"
     ]
    },
    {
     "name": "stdout",
     "output_type": "stream",
     "text": [
      "06/12 19:13:11 - mmengine - \u001b[4m\u001b[97mINFO\u001b[0m - Epoch(train) [1][ 1360/11818]  lr: 1.0000e-04  eta: 14:51:09  time: 1.0991  data_time: 0.7369  memory: 1526  grad_norm: 9.1031  loss: 1.4294  top1_acc: 0.7500  top5_acc: 0.7500  loss_cls: 1.4294\r\n"
     ]
    },
    {
     "name": "stdout",
     "output_type": "stream",
     "text": [
      "06/12 19:13:33 - mmengine - \u001b[4m\u001b[97mINFO\u001b[0m - Epoch(train) [1][ 1380/11818]  lr: 1.0000e-04  eta: 14:50:15  time: 1.1185  data_time: 0.7581  memory: 1526  grad_norm: 10.0157  loss: 1.6031  top1_acc: 0.7500  top5_acc: 1.0000  loss_cls: 1.6031\r\n"
     ]
    },
    {
     "name": "stdout",
     "output_type": "stream",
     "text": [
      "06/12 19:13:57 - mmengine - \u001b[4m\u001b[97mINFO\u001b[0m - Epoch(train) [1][ 1400/11818]  lr: 1.0000e-04  eta: 14:50:03  time: 1.1806  data_time: 0.8206  memory: 1526  grad_norm: 9.1196  loss: 1.4798  top1_acc: 1.0000  top5_acc: 1.0000  loss_cls: 1.4798\r\n"
     ]
    },
    {
     "name": "stdout",
     "output_type": "stream",
     "text": [
      "06/12 19:14:19 - mmengine - \u001b[4m\u001b[97mINFO\u001b[0m - Epoch(train) [1][ 1420/11818]  lr: 1.0000e-04  eta: 14:49:10  time: 1.1184  data_time: 0.7581  memory: 1526  grad_norm: 10.0872  loss: 1.6311  top1_acc: 0.7500  top5_acc: 0.7500  loss_cls: 1.6311\r\n"
     ]
    },
    {
     "name": "stdout",
     "output_type": "stream",
     "text": [
      "06/12 19:14:42 - mmengine - \u001b[4m\u001b[97mINFO\u001b[0m - Epoch(train) [1][ 1440/11818]  lr: 1.0000e-04  eta: 14:48:28  time: 1.1347  data_time: 0.7718  memory: 1526  grad_norm: 9.9601  loss: 1.5645  top1_acc: 0.5000  top5_acc: 1.0000  loss_cls: 1.5645\r\n"
     ]
    },
    {
     "name": "stdout",
     "output_type": "stream",
     "text": [
      "06/12 19:15:03 - mmengine - \u001b[4m\u001b[97mINFO\u001b[0m - Epoch(train) [1][ 1460/11818]  lr: 1.0000e-04  eta: 14:47:16  time: 1.0846  data_time: 0.7246  memory: 1526  grad_norm: 9.3693  loss: 1.4828  top1_acc: 0.7500  top5_acc: 1.0000  loss_cls: 1.4828\r\n"
     ]
    },
    {
     "name": "stdout",
     "output_type": "stream",
     "text": [
      "06/12 19:15:30 - mmengine - \u001b[4m\u001b[97mINFO\u001b[0m - Epoch(train) [1][ 1480/11818]  lr: 1.0000e-04  eta: 14:48:34  time: 1.3268  data_time: 0.9665  memory: 1526  grad_norm: 10.0616  loss: 1.5726  top1_acc: 0.7500  top5_acc: 0.7500  loss_cls: 1.5726\r\n"
     ]
    },
    {
     "name": "stdout",
     "output_type": "stream",
     "text": [
      "06/12 19:15:50 - mmengine - \u001b[4m\u001b[97mINFO\u001b[0m - Epoch(train) [1][ 1500/11818]  lr: 1.0000e-04  eta: 14:46:20  time: 0.9817  data_time: 0.6190  memory: 1526  grad_norm: 9.6790  loss: 1.4993  top1_acc: 0.0000  top5_acc: 0.5000  loss_cls: 1.4993\r\n"
     ]
    },
    {
     "name": "stdout",
     "output_type": "stream",
     "text": [
      "06/12 19:16:11 - mmengine - \u001b[4m\u001b[97mINFO\u001b[0m - Epoch(train) [1][ 1520/11818]  lr: 1.0000e-04  eta: 14:45:15  time: 1.0924  data_time: 0.7322  memory: 1526  grad_norm: 9.0228  loss: 1.4170  top1_acc: 1.0000  top5_acc: 1.0000  loss_cls: 1.4170\r\n"
     ]
    },
    {
     "name": "stdout",
     "output_type": "stream",
     "text": [
      "06/12 19:16:35 - mmengine - \u001b[4m\u001b[97mINFO\u001b[0m - Epoch(train) [1][ 1540/11818]  lr: 1.0000e-04  eta: 14:45:14  time: 1.1989  data_time: 0.8378  memory: 1526  grad_norm: 9.7553  loss: 1.4612  top1_acc: 0.2500  top5_acc: 0.5000  loss_cls: 1.4612\r\n"
     ]
    },
    {
     "name": "stdout",
     "output_type": "stream",
     "text": [
      "06/12 19:16:57 - mmengine - \u001b[4m\u001b[97mINFO\u001b[0m - Epoch(train) [1][ 1560/11818]  lr: 1.0000e-04  eta: 14:44:07  time: 1.0871  data_time: 0.7254  memory: 1526  grad_norm: 9.9141  loss: 1.5159  top1_acc: 0.7500  top5_acc: 1.0000  loss_cls: 1.5159\r\n"
     ]
    },
    {
     "name": "stdout",
     "output_type": "stream",
     "text": [
      "06/12 19:17:17 - mmengine - \u001b[4m\u001b[97mINFO\u001b[0m - Epoch(train) [1][ 1580/11818]  lr: 1.0000e-04  eta: 14:42:14  time: 1.0054  data_time: 0.6453  memory: 1526  grad_norm: 9.6553  loss: 1.4959  top1_acc: 0.5000  top5_acc: 0.7500  loss_cls: 1.4959\r\n"
     ]
    },
    {
     "name": "stdout",
     "output_type": "stream",
     "text": [
      "06/12 19:17:40 - mmengine - \u001b[4m\u001b[97mINFO\u001b[0m - Epoch(train) [1][ 1600/11818]  lr: 1.0000e-04  eta: 14:41:25  time: 1.1131  data_time: 0.7518  memory: 1526  grad_norm: 10.2379  loss: 1.5455  top1_acc: 0.5000  top5_acc: 0.7500  loss_cls: 1.5455\r\n"
     ]
    },
    {
     "name": "stdout",
     "output_type": "stream",
     "text": [
      "06/12 19:18:03 - mmengine - \u001b[4m\u001b[97mINFO\u001b[0m - Epoch(train) [1][ 1620/11818]  lr: 1.0000e-04  eta: 14:40:59  time: 1.1523  data_time: 0.7905  memory: 1526  grad_norm: 10.0384  loss: 1.4271  top1_acc: 0.7500  top5_acc: 0.7500  loss_cls: 1.4271\r\n"
     ]
    },
    {
     "name": "stdout",
     "output_type": "stream",
     "text": [
      "06/12 19:18:24 - mmengine - \u001b[4m\u001b[97mINFO\u001b[0m - Epoch(train) [1][ 1640/11818]  lr: 1.0000e-04  eta: 14:39:34  time: 1.0474  data_time: 0.6860  memory: 1526  grad_norm: 10.1337  loss: 1.5842  top1_acc: 0.2500  top5_acc: 1.0000  loss_cls: 1.5842\r\n"
     ]
    },
    {
     "name": "stdout",
     "output_type": "stream",
     "text": [
      "06/12 19:18:46 - mmengine - \u001b[4m\u001b[97mINFO\u001b[0m - Epoch(train) [1][ 1660/11818]  lr: 1.0000e-04  eta: 14:38:57  time: 1.1306  data_time: 0.7706  memory: 1526  grad_norm: 9.6656  loss: 1.3664  top1_acc: 0.5000  top5_acc: 1.0000  loss_cls: 1.3664\r\n"
     ]
    },
    {
     "name": "stdout",
     "output_type": "stream",
     "text": [
      "06/12 19:19:09 - mmengine - \u001b[4m\u001b[97mINFO\u001b[0m - Epoch(train) [1][ 1680/11818]  lr: 1.0000e-04  eta: 14:38:13  time: 1.1178  data_time: 0.7565  memory: 1526  grad_norm: 9.6978  loss: 1.4674  top1_acc: 1.0000  top5_acc: 1.0000  loss_cls: 1.4674\r\n"
     ]
    },
    {
     "name": "stdout",
     "output_type": "stream",
     "text": [
      "06/12 19:19:32 - mmengine - \u001b[4m\u001b[97mINFO\u001b[0m - Epoch(train) [1][ 1700/11818]  lr: 1.0000e-04  eta: 14:37:49  time: 1.1552  data_time: 0.7933  memory: 1526  grad_norm: 9.5857  loss: 1.4619  top1_acc: 1.0000  top5_acc: 1.0000  loss_cls: 1.4619\r\n"
     ]
    },
    {
     "name": "stdout",
     "output_type": "stream",
     "text": [
      "06/12 19:19:57 - mmengine - \u001b[4m\u001b[97mINFO\u001b[0m - Epoch(train) [1][ 1720/11818]  lr: 1.0000e-04  eta: 14:38:18  time: 1.2533  data_time: 0.8907  memory: 1526  grad_norm: 9.4849  loss: 1.2676  top1_acc: 0.5000  top5_acc: 1.0000  loss_cls: 1.2676\r\n"
     ]
    },
    {
     "name": "stdout",
     "output_type": "stream",
     "text": [
      "06/12 19:20:17 - mmengine - \u001b[4m\u001b[97mINFO\u001b[0m - Epoch(train) [1][ 1740/11818]  lr: 1.0000e-04  eta: 14:36:37  time: 1.0086  data_time: 0.6488  memory: 1526  grad_norm: 9.5491  loss: 1.3667  top1_acc: 0.5000  top5_acc: 1.0000  loss_cls: 1.3667\r\n"
     ]
    },
    {
     "name": "stdout",
     "output_type": "stream",
     "text": [
      "06/12 19:20:43 - mmengine - \u001b[4m\u001b[97mINFO\u001b[0m - Epoch(train) [1][ 1760/11818]  lr: 1.0000e-04  eta: 14:37:23  time: 1.2889  data_time: 0.9286  memory: 1526  grad_norm: 10.3738  loss: 1.4329  top1_acc: 0.7500  top5_acc: 1.0000  loss_cls: 1.4329\r\n"
     ]
    },
    {
     "name": "stdout",
     "output_type": "stream",
     "text": [
      "06/12 19:21:06 - mmengine - \u001b[4m\u001b[97mINFO\u001b[0m - Epoch(train) [1][ 1780/11818]  lr: 1.0000e-04  eta: 14:37:08  time: 1.1720  data_time: 0.8099  memory: 1526  grad_norm: 9.8440  loss: 1.2879  top1_acc: 0.5000  top5_acc: 1.0000  loss_cls: 1.2879\r\n"
     ]
    },
    {
     "name": "stdout",
     "output_type": "stream",
     "text": [
      "06/12 19:21:28 - mmengine - \u001b[4m\u001b[97mINFO\u001b[0m - Epoch(train) [1][ 1800/11818]  lr: 1.0000e-04  eta: 14:36:17  time: 1.1011  data_time: 0.7403  memory: 1526  grad_norm: 9.6151  loss: 1.2950  top1_acc: 0.7500  top5_acc: 1.0000  loss_cls: 1.2950\r\n"
     ]
    },
    {
     "name": "stdout",
     "output_type": "stream",
     "text": [
      "06/12 19:21:52 - mmengine - \u001b[4m\u001b[97mINFO\u001b[0m - Epoch(train) [1][ 1820/11818]  lr: 1.0000e-04  eta: 14:36:09  time: 1.1873  data_time: 0.8250  memory: 1526  grad_norm: 9.7047  loss: 1.2513  top1_acc: 1.0000  top5_acc: 1.0000  loss_cls: 1.2513\r\n"
     ]
    },
    {
     "name": "stdout",
     "output_type": "stream",
     "text": [
      "06/12 19:22:16 - mmengine - \u001b[4m\u001b[97mINFO\u001b[0m - Epoch(train) [1][ 1840/11818]  lr: 1.0000e-04  eta: 14:36:03  time: 1.1921  data_time: 0.8301  memory: 1526  grad_norm: 10.2323  loss: 1.3305  top1_acc: 0.7500  top5_acc: 1.0000  loss_cls: 1.3305\r\n"
     ]
    },
    {
     "name": "stdout",
     "output_type": "stream",
     "text": [
      "06/12 19:22:38 - mmengine - \u001b[4m\u001b[97mINFO\u001b[0m - Epoch(train) [1][ 1860/11818]  lr: 1.0000e-04  eta: 14:35:17  time: 1.1086  data_time: 0.7462  memory: 1526  grad_norm: 9.8434  loss: 1.3655  top1_acc: 0.7500  top5_acc: 1.0000  loss_cls: 1.3655\r\n"
     ]
    },
    {
     "name": "stdout",
     "output_type": "stream",
     "text": [
      "06/12 19:23:01 - mmengine - \u001b[4m\u001b[97mINFO\u001b[0m - Epoch(train) [1][ 1880/11818]  lr: 1.0000e-04  eta: 14:35:00  time: 1.1708  data_time: 0.8093  memory: 1526  grad_norm: 10.1575  loss: 1.3936  top1_acc: 0.5000  top5_acc: 1.0000  loss_cls: 1.3936\r\n"
     ]
    },
    {
     "name": "stdout",
     "output_type": "stream",
     "text": [
      "06/12 19:23:26 - mmengine - \u001b[4m\u001b[97mINFO\u001b[0m - Epoch(train) [1][ 1900/11818]  lr: 1.0000e-04  eta: 14:35:05  time: 1.2150  data_time: 0.8533  memory: 1526  grad_norm: 10.5801  loss: 1.3165  top1_acc: 0.5000  top5_acc: 1.0000  loss_cls: 1.3165\r\n"
     ]
    },
    {
     "name": "stdout",
     "output_type": "stream",
     "text": [
      "06/12 19:23:50 - mmengine - \u001b[4m\u001b[97mINFO\u001b[0m - Epoch(train) [1][ 1920/11818]  lr: 1.0000e-04  eta: 14:35:17  time: 1.2321  data_time: 0.8725  memory: 1526  grad_norm: 10.1302  loss: 1.3020  top1_acc: 1.0000  top5_acc: 1.0000  loss_cls: 1.3020\r\n"
     ]
    },
    {
     "name": "stdout",
     "output_type": "stream",
     "text": [
      "06/12 19:24:12 - mmengine - \u001b[4m\u001b[97mINFO\u001b[0m - Epoch(train) [1][ 1940/11818]  lr: 1.0000e-04  eta: 14:34:11  time: 1.0660  data_time: 0.7038  memory: 1526  grad_norm: 10.4971  loss: 1.2809  top1_acc: 0.5000  top5_acc: 0.7500  loss_cls: 1.2809\r\n"
     ]
    },
    {
     "name": "stdout",
     "output_type": "stream",
     "text": [
      "06/12 19:24:34 - mmengine - \u001b[4m\u001b[97mINFO\u001b[0m - Epoch(train) [1][ 1960/11818]  lr: 1.0000e-04  eta: 14:33:30  time: 1.1177  data_time: 0.7581  memory: 1526  grad_norm: 10.3710  loss: 1.3823  top1_acc: 0.7500  top5_acc: 1.0000  loss_cls: 1.3823\r\n"
     ]
    },
    {
     "name": "stdout",
     "output_type": "stream",
     "text": [
      "06/12 19:25:00 - mmengine - \u001b[4m\u001b[97mINFO\u001b[0m - Epoch(train) [1][ 1980/11818]  lr: 1.0000e-04  eta: 14:34:13  time: 1.3023  data_time: 0.9390  memory: 1526  grad_norm: 9.4507  loss: 1.1687  top1_acc: 0.5000  top5_acc: 1.0000  loss_cls: 1.1687\r\n"
     ]
    },
    {
     "name": "stdout",
     "output_type": "stream",
     "text": [
      "06/12 19:25:22 - mmengine - \u001b[4m\u001b[97mINFO\u001b[0m - Exp name: config_20230612_184603\r\n",
      "06/12 19:25:22 - mmengine - \u001b[4m\u001b[97mINFO\u001b[0m - Epoch(train) [1][ 2000/11818]  lr: 1.0000e-04  eta: 14:33:27  time: 1.1059  data_time: 0.7441  memory: 1526  grad_norm: 10.0733  loss: 1.2407  top1_acc: 0.5000  top5_acc: 1.0000  loss_cls: 1.2407\r\n"
     ]
    },
    {
     "name": "stdout",
     "output_type": "stream",
     "text": [
      "06/12 19:25:44 - mmengine - \u001b[4m\u001b[97mINFO\u001b[0m - Epoch(train) [1][ 2020/11818]  lr: 1.0000e-04  eta: 14:32:36  time: 1.0952  data_time: 0.7347  memory: 1526  grad_norm: 10.1643  loss: 1.2513  top1_acc: 1.0000  top5_acc: 1.0000  loss_cls: 1.2513\r\n"
     ]
    },
    {
     "name": "stdout",
     "output_type": "stream",
     "text": [
      "06/12 19:26:05 - mmengine - \u001b[4m\u001b[97mINFO\u001b[0m - Epoch(train) [1][ 2040/11818]  lr: 1.0000e-04  eta: 14:31:27  time: 1.0541  data_time: 0.6938  memory: 1526  grad_norm: 9.9995  loss: 1.2601  top1_acc: 0.7500  top5_acc: 1.0000  loss_cls: 1.2601\r\n"
     ]
    },
    {
     "name": "stdout",
     "output_type": "stream",
     "text": [
      "06/12 19:26:27 - mmengine - \u001b[4m\u001b[97mINFO\u001b[0m - Epoch(train) [1][ 2060/11818]  lr: 1.0000e-04  eta: 14:30:30  time: 1.0795  data_time: 0.7185  memory: 1526  grad_norm: 10.8697  loss: 1.3420  top1_acc: 0.5000  top5_acc: 0.7500  loss_cls: 1.3420\r\n"
     ]
    },
    {
     "name": "stdout",
     "output_type": "stream",
     "text": [
      "06/12 19:26:49 - mmengine - \u001b[4m\u001b[97mINFO\u001b[0m - Epoch(train) [1][ 2080/11818]  lr: 1.0000e-04  eta: 14:29:56  time: 1.1287  data_time: 0.7678  memory: 1526  grad_norm: 10.6512  loss: 1.4306  top1_acc: 0.5000  top5_acc: 0.7500  loss_cls: 1.4306\r\n"
     ]
    },
    {
     "name": "stdout",
     "output_type": "stream",
     "text": [
      "06/12 19:27:11 - mmengine - \u001b[4m\u001b[97mINFO\u001b[0m - Epoch(train) [1][ 2100/11818]  lr: 1.0000e-04  eta: 14:29:03  time: 1.0871  data_time: 0.7267  memory: 1526  grad_norm: 10.6140  loss: 1.4039  top1_acc: 0.5000  top5_acc: 1.0000  loss_cls: 1.4039\r\n"
     ]
    },
    {
     "name": "stdout",
     "output_type": "stream",
     "text": [
      "06/12 19:27:31 - mmengine - \u001b[4m\u001b[97mINFO\u001b[0m - Epoch(train) [1][ 2120/11818]  lr: 1.0000e-04  eta: 14:27:45  time: 1.0257  data_time: 0.6635  memory: 1526  grad_norm: 9.5877  loss: 1.2204  top1_acc: 1.0000  top5_acc: 1.0000  loss_cls: 1.2204\r\n"
     ]
    },
    {
     "name": "stdout",
     "output_type": "stream",
     "text": [
      "06/12 19:27:56 - mmengine - \u001b[4m\u001b[97mINFO\u001b[0m - Epoch(train) [1][ 2140/11818]  lr: 1.0000e-04  eta: 14:27:59  time: 1.2401  data_time: 0.8788  memory: 1526  grad_norm: 10.3029  loss: 1.3358  top1_acc: 0.2500  top5_acc: 1.0000  loss_cls: 1.3358\r\n"
     ]
    },
    {
     "name": "stdout",
     "output_type": "stream",
     "text": [
      "06/12 19:28:18 - mmengine - \u001b[4m\u001b[97mINFO\u001b[0m - Epoch(train) [1][ 2160/11818]  lr: 1.0000e-04  eta: 14:27:01  time: 1.0708  data_time: 0.7103  memory: 1526  grad_norm: 10.6331  loss: 1.3832  top1_acc: 0.5000  top5_acc: 1.0000  loss_cls: 1.3832\r\n"
     ]
    },
    {
     "name": "stdout",
     "output_type": "stream",
     "text": [
      "06/12 19:28:41 - mmengine - \u001b[4m\u001b[97mINFO\u001b[0m - Epoch(train) [1][ 2180/11818]  lr: 1.0000e-04  eta: 14:26:51  time: 1.1835  data_time: 0.8210  memory: 1526  grad_norm: 9.9409  loss: 1.2382  top1_acc: 1.0000  top5_acc: 1.0000  loss_cls: 1.2382\r\n"
     ]
    },
    {
     "name": "stdout",
     "output_type": "stream",
     "text": [
      "06/12 19:29:04 - mmengine - \u001b[4m\u001b[97mINFO\u001b[0m - Epoch(train) [1][ 2200/11818]  lr: 1.0000e-04  eta: 14:26:14  time: 1.1211  data_time: 0.7600  memory: 1526  grad_norm: 9.5622  loss: 1.0490  top1_acc: 1.0000  top5_acc: 1.0000  loss_cls: 1.0490\r\n"
     ]
    },
    {
     "name": "stdout",
     "output_type": "stream",
     "text": [
      "06/12 19:29:26 - mmengine - \u001b[4m\u001b[97mINFO\u001b[0m - Epoch(train) [1][ 2220/11818]  lr: 1.0000e-04  eta: 14:25:31  time: 1.1022  data_time: 0.7394  memory: 1526  grad_norm: 11.0667  loss: 1.3438  top1_acc: 0.5000  top5_acc: 1.0000  loss_cls: 1.3438\r\n"
     ]
    },
    {
     "name": "stdout",
     "output_type": "stream",
     "text": [
      "06/12 19:29:49 - mmengine - \u001b[4m\u001b[97mINFO\u001b[0m - Epoch(train) [1][ 2240/11818]  lr: 1.0000e-04  eta: 14:25:16  time: 1.1726  data_time: 0.8114  memory: 1526  grad_norm: 9.3623  loss: 1.0967  top1_acc: 1.0000  top5_acc: 1.0000  loss_cls: 1.0967\r\n"
     ]
    },
    {
     "name": "stdout",
     "output_type": "stream",
     "text": [
      "06/12 19:30:11 - mmengine - \u001b[4m\u001b[97mINFO\u001b[0m - Epoch(train) [1][ 2260/11818]  lr: 1.0000e-04  eta: 14:24:24  time: 1.0810  data_time: 0.7200  memory: 1526  grad_norm: 11.0480  loss: 1.3255  top1_acc: 0.2500  top5_acc: 0.5000  loss_cls: 1.3255\r\n"
     ]
    },
    {
     "name": "stdout",
     "output_type": "stream",
     "text": [
      "06/12 19:30:37 - mmengine - \u001b[4m\u001b[97mINFO\u001b[0m - Epoch(train) [1][ 2280/11818]  lr: 1.0000e-04  eta: 14:25:03  time: 1.3102  data_time: 0.9477  memory: 1526  grad_norm: 9.4371  loss: 1.1755  top1_acc: 0.5000  top5_acc: 1.0000  loss_cls: 1.1755\r\n"
     ]
    },
    {
     "name": "stdout",
     "output_type": "stream",
     "text": [
      "06/12 19:30:59 - mmengine - \u001b[4m\u001b[97mINFO\u001b[0m - Epoch(train) [1][ 2300/11818]  lr: 1.0000e-04  eta: 14:24:23  time: 1.1087  data_time: 0.7481  memory: 1526  grad_norm: 9.6579  loss: 1.1046  top1_acc: 0.7500  top5_acc: 1.0000  loss_cls: 1.1046\r\n"
     ]
    },
    {
     "name": "stdout",
     "output_type": "stream",
     "text": [
      "06/12 19:31:22 - mmengine - \u001b[4m\u001b[97mINFO\u001b[0m - Epoch(train) [1][ 2320/11818]  lr: 1.0000e-04  eta: 14:23:51  time: 1.1317  data_time: 0.7683  memory: 1526  grad_norm: 10.0272  loss: 1.2800  top1_acc: 0.7500  top5_acc: 0.7500  loss_cls: 1.2800\r\n"
     ]
    },
    {
     "name": "stdout",
     "output_type": "stream",
     "text": [
      "06/12 19:31:42 - mmengine - \u001b[4m\u001b[97mINFO\u001b[0m - Epoch(train) [1][ 2340/11818]  lr: 1.0000e-04  eta: 14:22:40  time: 1.0280  data_time: 0.6663  memory: 1526  grad_norm: 9.9043  loss: 1.3577  top1_acc: 0.5000  top5_acc: 1.0000  loss_cls: 1.3577\r\n"
     ]
    },
    {
     "name": "stdout",
     "output_type": "stream",
     "text": [
      "06/12 19:32:02 - mmengine - \u001b[4m\u001b[97mINFO\u001b[0m - Epoch(train) [1][ 2360/11818]  lr: 1.0000e-04  eta: 14:21:09  time: 0.9724  data_time: 0.6125  memory: 1526  grad_norm: 10.8066  loss: 1.2906  top1_acc: 0.0000  top5_acc: 0.7500  loss_cls: 1.2906\r\n"
     ]
    },
    {
     "name": "stdout",
     "output_type": "stream",
     "text": [
      "06/12 19:32:28 - mmengine - \u001b[4m\u001b[97mINFO\u001b[0m - Epoch(train) [1][ 2380/11818]  lr: 1.0000e-04  eta: 14:21:43  time: 1.3022  data_time: 0.9408  memory: 1526  grad_norm: 11.0829  loss: 1.2804  top1_acc: 0.2500  top5_acc: 0.7500  loss_cls: 1.2804\r\n"
     ]
    },
    {
     "name": "stdout",
     "output_type": "stream",
     "text": [
      "06/12 19:32:50 - mmengine - \u001b[4m\u001b[97mINFO\u001b[0m - Epoch(train) [1][ 2400/11818]  lr: 1.0000e-04  eta: 14:20:56  time: 1.0881  data_time: 0.7260  memory: 1526  grad_norm: 10.1886  loss: 1.1237  top1_acc: 0.5000  top5_acc: 1.0000  loss_cls: 1.1237\r\n"
     ]
    },
    {
     "name": "stdout",
     "output_type": "stream",
     "text": [
      "06/12 19:33:11 - mmengine - \u001b[4m\u001b[97mINFO\u001b[0m - Epoch(train) [1][ 2420/11818]  lr: 1.0000e-04  eta: 14:20:02  time: 1.0684  data_time: 0.7073  memory: 1526  grad_norm: 11.0402  loss: 1.2720  top1_acc: 1.0000  top5_acc: 1.0000  loss_cls: 1.2720\r\n"
     ]
    },
    {
     "name": "stdout",
     "output_type": "stream",
     "text": [
      "06/12 19:33:33 - mmengine - \u001b[4m\u001b[97mINFO\u001b[0m - Epoch(train) [1][ 2440/11818]  lr: 1.0000e-04  eta: 14:19:22  time: 1.1033  data_time: 0.7439  memory: 1526  grad_norm: 10.3877  loss: 1.2909  top1_acc: 0.5000  top5_acc: 1.0000  loss_cls: 1.2909\r\n"
     ]
    },
    {
     "name": "stdout",
     "output_type": "stream",
     "text": [
      "06/12 19:34:00 - mmengine - \u001b[4m\u001b[97mINFO\u001b[0m - Epoch(train) [1][ 2460/11818]  lr: 1.0000e-04  eta: 14:20:17  time: 1.3630  data_time: 1.0018  memory: 1526  grad_norm: 12.0010  loss: 1.4426  top1_acc: 0.2500  top5_acc: 0.7500  loss_cls: 1.4426\r\n"
     ]
    },
    {
     "name": "stdout",
     "output_type": "stream",
     "text": [
      "06/12 19:34:26 - mmengine - \u001b[4m\u001b[97mINFO\u001b[0m - Epoch(train) [1][ 2480/11818]  lr: 1.0000e-04  eta: 14:20:40  time: 1.2793  data_time: 0.9187  memory: 1526  grad_norm: 11.0973  loss: 1.2630  top1_acc: 1.0000  top5_acc: 1.0000  loss_cls: 1.2630\r\n"
     ]
    },
    {
     "name": "stdout",
     "output_type": "stream",
     "text": [
      "06/12 19:34:48 - mmengine - \u001b[4m\u001b[97mINFO\u001b[0m - Epoch(train) [1][ 2500/11818]  lr: 1.0000e-04  eta: 14:19:54  time: 1.0910  data_time: 0.7304  memory: 1526  grad_norm: 10.4506  loss: 1.0992  top1_acc: 0.7500  top5_acc: 1.0000  loss_cls: 1.0992\r\n"
     ]
    },
    {
     "name": "stdout",
     "output_type": "stream",
     "text": [
      "06/12 19:35:14 - mmengine - \u001b[4m\u001b[97mINFO\u001b[0m - Epoch(train) [1][ 2520/11818]  lr: 1.0000e-04  eta: 14:20:19  time: 1.2876  data_time: 0.9270  memory: 1526  grad_norm: 12.8173  loss: 1.2329  top1_acc: 1.0000  top5_acc: 1.0000  loss_cls: 1.2329\r\n"
     ]
    },
    {
     "name": "stdout",
     "output_type": "stream",
     "text": [
      "06/12 19:35:38 - mmengine - \u001b[4m\u001b[97mINFO\u001b[0m - Epoch(train) [1][ 2540/11818]  lr: 1.0000e-04  eta: 14:20:19  time: 1.2168  data_time: 0.8548  memory: 1526  grad_norm: 11.4135  loss: 1.2262  top1_acc: 0.5000  top5_acc: 1.0000  loss_cls: 1.2262\r\n"
     ]
    },
    {
     "name": "stdout",
     "output_type": "stream",
     "text": [
      "06/12 19:36:02 - mmengine - \u001b[4m\u001b[97mINFO\u001b[0m - Epoch(train) [1][ 2560/11818]  lr: 1.0000e-04  eta: 14:20:09  time: 1.1919  data_time: 0.8303  memory: 1526  grad_norm: 9.8317  loss: 1.0943  top1_acc: 0.7500  top5_acc: 1.0000  loss_cls: 1.0943\r\n"
     ]
    },
    {
     "name": "stdout",
     "output_type": "stream",
     "text": [
      "06/12 19:36:23 - mmengine - \u001b[4m\u001b[97mINFO\u001b[0m - Epoch(train) [1][ 2580/11818]  lr: 1.0000e-04  eta: 14:19:19  time: 1.0782  data_time: 0.7141  memory: 1526  grad_norm: 10.8088  loss: 1.2392  top1_acc: 0.7500  top5_acc: 1.0000  loss_cls: 1.2392\r\n"
     ]
    },
    {
     "name": "stdout",
     "output_type": "stream",
     "text": [
      "06/12 19:36:46 - mmengine - \u001b[4m\u001b[97mINFO\u001b[0m - Epoch(train) [1][ 2600/11818]  lr: 1.0000e-04  eta: 14:18:52  time: 1.1412  data_time: 0.7803  memory: 1526  grad_norm: 9.8375  loss: 1.1066  top1_acc: 0.7500  top5_acc: 1.0000  loss_cls: 1.1066\r\n"
     ]
    },
    {
     "name": "stdout",
     "output_type": "stream",
     "text": [
      "06/12 19:37:08 - mmengine - \u001b[4m\u001b[97mINFO\u001b[0m - Epoch(train) [1][ 2620/11818]  lr: 1.0000e-04  eta: 14:18:07  time: 1.0881  data_time: 0.7257  memory: 1526  grad_norm: 10.4906  loss: 1.1700  top1_acc: 1.0000  top5_acc: 1.0000  loss_cls: 1.1700\r\n"
     ]
    },
    {
     "name": "stdout",
     "output_type": "stream",
     "text": [
      "06/12 19:37:32 - mmengine - \u001b[4m\u001b[97mINFO\u001b[0m - Epoch(train) [1][ 2640/11818]  lr: 1.0000e-04  eta: 14:18:02  time: 1.2071  data_time: 0.8440  memory: 1526  grad_norm: 11.5476  loss: 1.2241  top1_acc: 1.0000  top5_acc: 1.0000  loss_cls: 1.2241\r\n"
     ]
    },
    {
     "name": "stdout",
     "output_type": "stream",
     "text": [
      "06/12 19:37:51 - mmengine - \u001b[4m\u001b[97mINFO\u001b[0m - Epoch(train) [1][ 2660/11818]  lr: 1.0000e-04  eta: 14:16:35  time: 0.9640  data_time: 0.6041  memory: 1526  grad_norm: 10.6285  loss: 1.1103  top1_acc: 0.7500  top5_acc: 1.0000  loss_cls: 1.1103\r\n"
     ]
    },
    {
     "name": "stdout",
     "output_type": "stream",
     "text": [
      "06/12 19:38:11 - mmengine - \u001b[4m\u001b[97mINFO\u001b[0m - Epoch(train) [1][ 2680/11818]  lr: 1.0000e-04  eta: 14:15:23  time: 1.0041  data_time: 0.6415  memory: 1526  grad_norm: 10.9015  loss: 1.2198  top1_acc: 0.5000  top5_acc: 1.0000  loss_cls: 1.2198\r\n"
     ]
    },
    {
     "name": "stdout",
     "output_type": "stream",
     "text": [
      "06/12 19:38:33 - mmengine - \u001b[4m\u001b[97mINFO\u001b[0m - Epoch(train) [1][ 2700/11818]  lr: 1.0000e-04  eta: 14:14:39  time: 1.0890  data_time: 0.7273  memory: 1526  grad_norm: 11.4297  loss: 1.1879  top1_acc: 0.5000  top5_acc: 1.0000  loss_cls: 1.1879\r\n"
     ]
    },
    {
     "name": "stdout",
     "output_type": "stream",
     "text": [
      "06/12 19:38:57 - mmengine - \u001b[4m\u001b[97mINFO\u001b[0m - Epoch(train) [1][ 2720/11818]  lr: 1.0000e-04  eta: 14:14:33  time: 1.2019  data_time: 0.8407  memory: 1526  grad_norm: 10.4888  loss: 1.2439  top1_acc: 0.7500  top5_acc: 0.7500  loss_cls: 1.2439\r\n"
     ]
    },
    {
     "name": "stdout",
     "output_type": "stream",
     "text": [
      "06/12 19:39:19 - mmengine - \u001b[4m\u001b[97mINFO\u001b[0m - Epoch(train) [1][ 2740/11818]  lr: 1.0000e-04  eta: 14:13:44  time: 1.0695  data_time: 0.7096  memory: 1526  grad_norm: 10.2907  loss: 0.9748  top1_acc: 0.7500  top5_acc: 0.7500  loss_cls: 0.9748\r\n"
     ]
    },
    {
     "name": "stdout",
     "output_type": "stream",
     "text": [
      "06/12 19:39:42 - mmengine - \u001b[4m\u001b[97mINFO\u001b[0m - Epoch(train) [1][ 2760/11818]  lr: 1.0000e-04  eta: 14:13:33  time: 1.1885  data_time: 0.8262  memory: 1526  grad_norm: 10.5719  loss: 1.0931  top1_acc: 0.5000  top5_acc: 0.5000  loss_cls: 1.0931\r\n"
     ]
    },
    {
     "name": "stdout",
     "output_type": "stream",
     "text": [
      "06/12 19:40:06 - mmengine - \u001b[4m\u001b[97mINFO\u001b[0m - Epoch(train) [1][ 2780/11818]  lr: 1.0000e-04  eta: 14:13:24  time: 1.1926  data_time: 0.8320  memory: 1526  grad_norm: 11.5488  loss: 1.1188  top1_acc: 0.5000  top5_acc: 0.7500  loss_cls: 1.1188\r\n"
     ]
    },
    {
     "name": "stdout",
     "output_type": "stream",
     "text": [
      "06/12 19:40:29 - mmengine - \u001b[4m\u001b[97mINFO\u001b[0m - Epoch(train) [1][ 2800/11818]  lr: 1.0000e-04  eta: 14:12:52  time: 1.1237  data_time: 0.7635  memory: 1526  grad_norm: 12.2509  loss: 1.1666  top1_acc: 1.0000  top5_acc: 1.0000  loss_cls: 1.1666\r\n"
     ]
    },
    {
     "name": "stdout",
     "output_type": "stream",
     "text": [
      "06/12 19:40:49 - mmengine - \u001b[4m\u001b[97mINFO\u001b[0m - Epoch(train) [1][ 2820/11818]  lr: 1.0000e-04  eta: 14:11:43  time: 1.0036  data_time: 0.6400  memory: 1526  grad_norm: 10.8697  loss: 1.1577  top1_acc: 0.7500  top5_acc: 1.0000  loss_cls: 1.1577\r\n"
     ]
    },
    {
     "name": "stdout",
     "output_type": "stream",
     "text": [
      "06/12 19:41:12 - mmengine - \u001b[4m\u001b[97mINFO\u001b[0m - Epoch(train) [1][ 2840/11818]  lr: 1.0000e-04  eta: 14:11:16  time: 1.1396  data_time: 0.7767  memory: 1526  grad_norm: 10.2156  loss: 1.0379  top1_acc: 1.0000  top5_acc: 1.0000  loss_cls: 1.0379\r\n"
     ]
    },
    {
     "name": "stdout",
     "output_type": "stream",
     "text": [
      "06/12 19:41:35 - mmengine - \u001b[4m\u001b[97mINFO\u001b[0m - Epoch(train) [1][ 2860/11818]  lr: 1.0000e-04  eta: 14:11:00  time: 1.1691  data_time: 0.8078  memory: 1526  grad_norm: 11.5820  loss: 1.1343  top1_acc: 1.0000  top5_acc: 1.0000  loss_cls: 1.1343\r\n"
     ]
    },
    {
     "name": "stdout",
     "output_type": "stream",
     "text": [
      "06/12 19:42:00 - mmengine - \u001b[4m\u001b[97mINFO\u001b[0m - Epoch(train) [1][ 2880/11818]  lr: 1.0000e-04  eta: 14:11:14  time: 1.2702  data_time: 0.9079  memory: 1526  grad_norm: 10.8790  loss: 1.1004  top1_acc: 1.0000  top5_acc: 1.0000  loss_cls: 1.1004\r\n"
     ]
    },
    {
     "name": "stdout",
     "output_type": "stream",
     "text": [
      "06/12 19:42:23 - mmengine - \u001b[4m\u001b[97mINFO\u001b[0m - Epoch(train) [1][ 2900/11818]  lr: 1.0000e-04  eta: 14:10:42  time: 1.1237  data_time: 0.7609  memory: 1526  grad_norm: 10.7787  loss: 1.1202  top1_acc: 0.5000  top5_acc: 1.0000  loss_cls: 1.1202\r\n"
     ]
    },
    {
     "name": "stdout",
     "output_type": "stream",
     "text": [
      "06/12 19:42:47 - mmengine - \u001b[4m\u001b[97mINFO\u001b[0m - Epoch(train) [1][ 2920/11818]  lr: 1.0000e-04  eta: 14:10:44  time: 1.2296  data_time: 0.8669  memory: 1526  grad_norm: 11.0822  loss: 1.2321  top1_acc: 0.5000  top5_acc: 1.0000  loss_cls: 1.2321\r\n"
     ]
    },
    {
     "name": "stdout",
     "output_type": "stream",
     "text": [
      "06/12 19:43:15 - mmengine - \u001b[4m\u001b[97mINFO\u001b[0m - Epoch(train) [1][ 2940/11818]  lr: 1.0000e-04  eta: 14:11:32  time: 1.3873  data_time: 1.0260  memory: 1526  grad_norm: 10.7221  loss: 1.0404  top1_acc: 0.5000  top5_acc: 1.0000  loss_cls: 1.0404\r\n"
     ]
    },
    {
     "name": "stdout",
     "output_type": "stream",
     "text": [
      "06/12 19:43:37 - mmengine - \u001b[4m\u001b[97mINFO\u001b[0m - Epoch(train) [1][ 2960/11818]  lr: 1.0000e-04  eta: 14:10:43  time: 1.0664  data_time: 0.7064  memory: 1526  grad_norm: 10.6526  loss: 0.9924  top1_acc: 1.0000  top5_acc: 1.0000  loss_cls: 0.9924\r\n"
     ]
    },
    {
     "name": "stdout",
     "output_type": "stream",
     "text": [
      "06/12 19:43:59 - mmengine - \u001b[4m\u001b[97mINFO\u001b[0m - Epoch(train) [1][ 2980/11818]  lr: 1.0000e-04  eta: 14:10:06  time: 1.1044  data_time: 0.7434  memory: 1526  grad_norm: 11.6819  loss: 1.1600  top1_acc: 1.0000  top5_acc: 1.0000  loss_cls: 1.1600\r\n"
     ]
    },
    {
     "name": "stdout",
     "output_type": "stream",
     "text": [
      "06/12 19:44:21 - mmengine - \u001b[4m\u001b[97mINFO\u001b[0m - Exp name: config_20230612_184603\r\n",
      "06/12 19:44:21 - mmengine - \u001b[4m\u001b[97mINFO\u001b[0m - Epoch(train) [1][ 3000/11818]  lr: 1.0000e-04  eta: 14:09:27  time: 1.0978  data_time: 0.7362  memory: 1526  grad_norm: 11.4367  loss: 1.2047  top1_acc: 0.5000  top5_acc: 1.0000  loss_cls: 1.2047\r\n"
     ]
    },
    {
     "name": "stdout",
     "output_type": "stream",
     "text": [
      "06/12 19:44:42 - mmengine - \u001b[4m\u001b[97mINFO\u001b[0m - Epoch(train) [1][ 3020/11818]  lr: 1.0000e-04  eta: 14:08:44  time: 1.0844  data_time: 0.7245  memory: 1526  grad_norm: 10.8320  loss: 1.0894  top1_acc: 0.7500  top5_acc: 1.0000  loss_cls: 1.0894\r\n"
     ]
    },
    {
     "name": "stdout",
     "output_type": "stream",
     "text": [
      "06/12 19:45:09 - mmengine - \u001b[4m\u001b[97mINFO\u001b[0m - Epoch(train) [1][ 3040/11818]  lr: 1.0000e-04  eta: 14:09:13  time: 1.3278  data_time: 0.9653  memory: 1526  grad_norm: 11.8092  loss: 1.3383  top1_acc: 0.7500  top5_acc: 1.0000  loss_cls: 1.3383\r\n"
     ]
    },
    {
     "name": "stdout",
     "output_type": "stream",
     "text": [
      "06/12 19:45:33 - mmengine - \u001b[4m\u001b[97mINFO\u001b[0m - Epoch(train) [1][ 3060/11818]  lr: 1.0000e-04  eta: 14:09:09  time: 1.2201  data_time: 0.8564  memory: 1526  grad_norm: 11.6086  loss: 1.1172  top1_acc: 0.5000  top5_acc: 1.0000  loss_cls: 1.1172\r\n"
     ]
    },
    {
     "name": "stdout",
     "output_type": "stream",
     "text": [
      "06/12 19:45:59 - mmengine - \u001b[4m\u001b[97mINFO\u001b[0m - Epoch(train) [1][ 3080/11818]  lr: 1.0000e-04  eta: 14:09:31  time: 1.3080  data_time: 0.9447  memory: 1526  grad_norm: 11.6538  loss: 1.2866  top1_acc: 0.7500  top5_acc: 0.7500  loss_cls: 1.2866\r\n"
     ]
    },
    {
     "name": "stdout",
     "output_type": "stream",
     "text": [
      "06/12 19:46:20 - mmengine - \u001b[4m\u001b[97mINFO\u001b[0m - Epoch(train) [1][ 3100/11818]  lr: 1.0000e-04  eta: 14:08:30  time: 1.0190  data_time: 0.6581  memory: 1526  grad_norm: 9.9584  loss: 0.8826  top1_acc: 1.0000  top5_acc: 1.0000  loss_cls: 0.8826\r\n"
     ]
    },
    {
     "name": "stdout",
     "output_type": "stream",
     "text": [
      "06/12 19:46:42 - mmengine - \u001b[4m\u001b[97mINFO\u001b[0m - Epoch(train) [1][ 3120/11818]  lr: 1.0000e-04  eta: 14:07:58  time: 1.1222  data_time: 0.7590  memory: 1526  grad_norm: 10.2574  loss: 1.1070  top1_acc: 1.0000  top5_acc: 1.0000  loss_cls: 1.1070\r\n"
     ]
    },
    {
     "name": "stdout",
     "output_type": "stream",
     "text": [
      "06/12 19:47:05 - mmengine - \u001b[4m\u001b[97mINFO\u001b[0m - Epoch(train) [1][ 3140/11818]  lr: 1.0000e-04  eta: 14:07:31  time: 1.1370  data_time: 0.7748  memory: 1526  grad_norm: 11.8645  loss: 1.1010  top1_acc: 0.7500  top5_acc: 1.0000  loss_cls: 1.1010\r\n"
     ]
    },
    {
     "name": "stdout",
     "output_type": "stream",
     "text": [
      "06/12 19:47:27 - mmengine - \u001b[4m\u001b[97mINFO\u001b[0m - Epoch(train) [1][ 3160/11818]  lr: 1.0000e-04  eta: 14:06:54  time: 1.1051  data_time: 0.7435  memory: 1526  grad_norm: 10.4277  loss: 1.0103  top1_acc: 0.5000  top5_acc: 0.7500  loss_cls: 1.0103\r\n"
     ]
    },
    {
     "name": "stdout",
     "output_type": "stream",
     "text": [
      "06/12 19:47:48 - mmengine - \u001b[4m\u001b[97mINFO\u001b[0m - Epoch(train) [1][ 3180/11818]  lr: 1.0000e-04  eta: 14:06:08  time: 1.0684  data_time: 0.7082  memory: 1526  grad_norm: 11.3328  loss: 0.9836  top1_acc: 0.7500  top5_acc: 1.0000  loss_cls: 0.9836\r\n"
     ]
    },
    {
     "name": "stdout",
     "output_type": "stream",
     "text": [
      "06/12 19:48:13 - mmengine - \u001b[4m\u001b[97mINFO\u001b[0m - Epoch(train) [1][ 3200/11818]  lr: 1.0000e-04  eta: 14:06:11  time: 1.2432  data_time: 0.8818  memory: 1526  grad_norm: 10.6119  loss: 1.0254  top1_acc: 0.5000  top5_acc: 1.0000  loss_cls: 1.0254\r\n"
     ]
    },
    {
     "name": "stdout",
     "output_type": "stream",
     "text": [
      "06/12 19:48:35 - mmengine - \u001b[4m\u001b[97mINFO\u001b[0m - Epoch(train) [1][ 3220/11818]  lr: 1.0000e-04  eta: 14:05:27  time: 1.0786  data_time: 0.7185  memory: 1526  grad_norm: 10.7103  loss: 1.0302  top1_acc: 0.2500  top5_acc: 1.0000  loss_cls: 1.0302\r\n"
     ]
    },
    {
     "name": "stdout",
     "output_type": "stream",
     "text": [
      "06/12 19:49:01 - mmengine - \u001b[4m\u001b[97mINFO\u001b[0m - Epoch(train) [1][ 3240/11818]  lr: 1.0000e-04  eta: 14:05:52  time: 1.3279  data_time: 0.9652  memory: 1526  grad_norm: 12.1725  loss: 1.1934  top1_acc: 0.7500  top5_acc: 1.0000  loss_cls: 1.1934\r\n"
     ]
    },
    {
     "name": "stdout",
     "output_type": "stream",
     "text": [
      "06/12 19:49:23 - mmengine - \u001b[4m\u001b[97mINFO\u001b[0m - Epoch(train) [1][ 3260/11818]  lr: 1.0000e-04  eta: 14:05:06  time: 1.0677  data_time: 0.7074  memory: 1526  grad_norm: 12.2858  loss: 1.1787  top1_acc: 0.5000  top5_acc: 1.0000  loss_cls: 1.1787\r\n"
     ]
    },
    {
     "name": "stdout",
     "output_type": "stream",
     "text": [
      "06/12 19:49:43 - mmengine - \u001b[4m\u001b[97mINFO\u001b[0m - Epoch(train) [1][ 3280/11818]  lr: 1.0000e-04  eta: 14:04:04  time: 1.0041  data_time: 0.6438  memory: 1526  grad_norm: 11.7636  loss: 1.1943  top1_acc: 0.5000  top5_acc: 1.0000  loss_cls: 1.1943\r\n"
     ]
    },
    {
     "name": "stdout",
     "output_type": "stream",
     "text": [
      "06/12 19:50:10 - mmengine - \u001b[4m\u001b[97mINFO\u001b[0m - Epoch(train) [1][ 3300/11818]  lr: 1.0000e-04  eta: 14:04:32  time: 1.3431  data_time: 0.9806  memory: 1526  grad_norm: 12.4538  loss: 1.0184  top1_acc: 1.0000  top5_acc: 1.0000  loss_cls: 1.0184\r\n"
     ]
    },
    {
     "name": "stdout",
     "output_type": "stream",
     "text": [
      "06/12 19:50:33 - mmengine - \u001b[4m\u001b[97mINFO\u001b[0m - Epoch(train) [1][ 3320/11818]  lr: 1.0000e-04  eta: 14:04:11  time: 1.1602  data_time: 0.8002  memory: 1526  grad_norm: 11.9842  loss: 1.1308  top1_acc: 0.5000  top5_acc: 1.0000  loss_cls: 1.1308\r\n"
     ]
    },
    {
     "name": "stdout",
     "output_type": "stream",
     "text": [
      "06/12 19:50:57 - mmengine - \u001b[4m\u001b[97mINFO\u001b[0m - Epoch(train) [1][ 3340/11818]  lr: 1.0000e-04  eta: 14:03:59  time: 1.1949  data_time: 0.8337  memory: 1526  grad_norm: 10.3113  loss: 0.8999  top1_acc: 1.0000  top5_acc: 1.0000  loss_cls: 0.8999\r\n"
     ]
    },
    {
     "name": "stdout",
     "output_type": "stream",
     "text": [
      "06/12 19:51:19 - mmengine - \u001b[4m\u001b[97mINFO\u001b[0m - Epoch(train) [1][ 3360/11818]  lr: 1.0000e-04  eta: 14:03:30  time: 1.1304  data_time: 0.7685  memory: 1526  grad_norm: 11.6320  loss: 1.1105  top1_acc: 0.7500  top5_acc: 1.0000  loss_cls: 1.1105\r\n"
     ]
    },
    {
     "name": "stdout",
     "output_type": "stream",
     "text": [
      "06/12 19:51:44 - mmengine - \u001b[4m\u001b[97mINFO\u001b[0m - Epoch(train) [1][ 3380/11818]  lr: 1.0000e-04  eta: 14:03:24  time: 1.2189  data_time: 0.8574  memory: 1526  grad_norm: 11.9338  loss: 1.0895  top1_acc: 0.7500  top5_acc: 0.7500  loss_cls: 1.0895\r\n"
     ]
    },
    {
     "name": "stdout",
     "output_type": "stream",
     "text": [
      "06/12 19:52:07 - mmengine - \u001b[4m\u001b[97mINFO\u001b[0m - Epoch(train) [1][ 3400/11818]  lr: 1.0000e-04  eta: 14:03:01  time: 1.1517  data_time: 0.7913  memory: 1526  grad_norm: 12.6145  loss: 1.2180  top1_acc: 0.7500  top5_acc: 1.0000  loss_cls: 1.2180\r\n"
     ]
    },
    {
     "name": "stdout",
     "output_type": "stream",
     "text": [
      "06/12 19:52:32 - mmengine - \u001b[4m\u001b[97mINFO\u001b[0m - Epoch(train) [1][ 3420/11818]  lr: 1.0000e-04  eta: 14:03:10  time: 1.2773  data_time: 0.9157  memory: 1526  grad_norm: 11.2354  loss: 1.1325  top1_acc: 0.5000  top5_acc: 1.0000  loss_cls: 1.1325\r\n"
     ]
    },
    {
     "name": "stdout",
     "output_type": "stream",
     "text": [
      "06/12 19:52:54 - mmengine - \u001b[4m\u001b[97mINFO\u001b[0m - Epoch(train) [1][ 3440/11818]  lr: 1.0000e-04  eta: 14:02:32  time: 1.0958  data_time: 0.7322  memory: 1526  grad_norm: 11.2411  loss: 1.0661  top1_acc: 0.5000  top5_acc: 1.0000  loss_cls: 1.0661\r\n"
     ]
    },
    {
     "name": "stdout",
     "output_type": "stream",
     "text": [
      "06/12 19:53:16 - mmengine - \u001b[4m\u001b[97mINFO\u001b[0m - Epoch(train) [1][ 3460/11818]  lr: 1.0000e-04  eta: 14:01:49  time: 1.0744  data_time: 0.7130  memory: 1526  grad_norm: 12.8016  loss: 1.2756  top1_acc: 0.2500  top5_acc: 1.0000  loss_cls: 1.2756\r\n"
     ]
    },
    {
     "name": "stdout",
     "output_type": "stream",
     "text": [
      "06/12 19:53:41 - mmengine - \u001b[4m\u001b[97mINFO\u001b[0m - Epoch(train) [1][ 3480/11818]  lr: 1.0000e-04  eta: 14:01:47  time: 1.2376  data_time: 0.8776  memory: 1526  grad_norm: 12.9610  loss: 1.1515  top1_acc: 0.7500  top5_acc: 1.0000  loss_cls: 1.1515\r\n"
     ]
    },
    {
     "name": "stdout",
     "output_type": "stream",
     "text": [
      "06/12 19:54:04 - mmengine - \u001b[4m\u001b[97mINFO\u001b[0m - Epoch(train) [1][ 3500/11818]  lr: 1.0000e-04  eta: 14:01:33  time: 1.1893  data_time: 0.8267  memory: 1526  grad_norm: 12.5704  loss: 1.1669  top1_acc: 0.5000  top5_acc: 0.7500  loss_cls: 1.1669\r\n"
     ]
    },
    {
     "name": "stdout",
     "output_type": "stream",
     "text": [
      "06/12 19:54:33 - mmengine - \u001b[4m\u001b[97mINFO\u001b[0m - Epoch(train) [1][ 3520/11818]  lr: 1.0000e-04  eta: 14:02:21  time: 1.4409  data_time: 1.0787  memory: 1526  grad_norm: 13.7881  loss: 1.2569  top1_acc: 1.0000  top5_acc: 1.0000  loss_cls: 1.2569\r\n"
     ]
    },
    {
     "name": "stdout",
     "output_type": "stream",
     "text": [
      "06/12 19:54:56 - mmengine - \u001b[4m\u001b[97mINFO\u001b[0m - Epoch(train) [1][ 3540/11818]  lr: 1.0000e-04  eta: 14:01:49  time: 1.1175  data_time: 0.7562  memory: 1526  grad_norm: 11.0270  loss: 1.0506  top1_acc: 0.5000  top5_acc: 1.0000  loss_cls: 1.0506\r\n"
     ]
    },
    {
     "name": "stdout",
     "output_type": "stream",
     "text": [
      "06/12 19:55:16 - mmengine - \u001b[4m\u001b[97mINFO\u001b[0m - Epoch(train) [1][ 3560/11818]  lr: 1.0000e-04  eta: 14:00:58  time: 1.0402  data_time: 0.6785  memory: 1526  grad_norm: 12.0281  loss: 1.2171  top1_acc: 0.7500  top5_acc: 0.7500  loss_cls: 1.2171\r\n"
     ]
    },
    {
     "name": "stdout",
     "output_type": "stream",
     "text": [
      "06/12 19:55:42 - mmengine - \u001b[4m\u001b[97mINFO\u001b[0m - Epoch(train) [1][ 3580/11818]  lr: 1.0000e-04  eta: 14:01:05  time: 1.2785  data_time: 0.9159  memory: 1526  grad_norm: 12.6060  loss: 1.0987  top1_acc: 1.0000  top5_acc: 1.0000  loss_cls: 1.0987\r\n"
     ]
    },
    {
     "name": "stdout",
     "output_type": "stream",
     "text": [
      "06/12 19:56:08 - mmengine - \u001b[4m\u001b[97mINFO\u001b[0m - Epoch(train) [1][ 3600/11818]  lr: 1.0000e-04  eta: 14:01:23  time: 1.3247  data_time: 0.9643  memory: 1526  grad_norm: 11.9510  loss: 1.0576  top1_acc: 1.0000  top5_acc: 1.0000  loss_cls: 1.0576\r\n"
     ]
    },
    {
     "name": "stdout",
     "output_type": "stream",
     "text": [
      "06/12 19:56:32 - mmengine - \u001b[4m\u001b[97mINFO\u001b[0m - Epoch(train) [1][ 3620/11818]  lr: 1.0000e-04  eta: 14:01:08  time: 1.1903  data_time: 0.8278  memory: 1526  grad_norm: 11.5375  loss: 1.1936  top1_acc: 0.2500  top5_acc: 0.7500  loss_cls: 1.1936\r\n"
     ]
    },
    {
     "name": "stdout",
     "output_type": "stream",
     "text": [
      "06/12 19:56:56 - mmengine - \u001b[4m\u001b[97mINFO\u001b[0m - Epoch(train) [1][ 3640/11818]  lr: 1.0000e-04  eta: 14:00:57  time: 1.2058  data_time: 0.8450  memory: 1526  grad_norm: 11.7478  loss: 1.1649  top1_acc: 0.5000  top5_acc: 0.7500  loss_cls: 1.1649\r\n"
     ]
    },
    {
     "name": "stdout",
     "output_type": "stream",
     "text": [
      "06/12 19:57:21 - mmengine - \u001b[4m\u001b[97mINFO\u001b[0m - Epoch(train) [1][ 3660/11818]  lr: 1.0000e-04  eta: 14:00:54  time: 1.2415  data_time: 0.8802  memory: 1526  grad_norm: 12.7706  loss: 1.0846  top1_acc: 0.5000  top5_acc: 0.7500  loss_cls: 1.0846\r\n"
     ]
    },
    {
     "name": "stdout",
     "output_type": "stream",
     "text": [
      "06/12 19:57:46 - mmengine - \u001b[4m\u001b[97mINFO\u001b[0m - Epoch(train) [1][ 3680/11818]  lr: 1.0000e-04  eta: 14:00:54  time: 1.2563  data_time: 0.8942  memory: 1526  grad_norm: 11.8261  loss: 1.1106  top1_acc: 0.7500  top5_acc: 1.0000  loss_cls: 1.1106\r\n"
     ]
    },
    {
     "name": "stdout",
     "output_type": "stream",
     "text": [
      "06/12 19:58:09 - mmengine - \u001b[4m\u001b[97mINFO\u001b[0m - Epoch(train) [1][ 3700/11818]  lr: 1.0000e-04  eta: 14:00:30  time: 1.1513  data_time: 0.7869  memory: 1526  grad_norm: 12.2335  loss: 1.0920  top1_acc: 0.5000  top5_acc: 1.0000  loss_cls: 1.0920\r\n"
     ]
    },
    {
     "name": "stdout",
     "output_type": "stream",
     "text": [
      "06/12 19:58:32 - mmengine - \u001b[4m\u001b[97mINFO\u001b[0m - Epoch(train) [1][ 3720/11818]  lr: 1.0000e-04  eta: 13:59:58  time: 1.1192  data_time: 0.7566  memory: 1526  grad_norm: 10.8901  loss: 1.0226  top1_acc: 1.0000  top5_acc: 1.0000  loss_cls: 1.0226\r\n"
     ]
    },
    {
     "name": "stdout",
     "output_type": "stream",
     "text": [
      "06/12 19:58:56 - mmengine - \u001b[4m\u001b[97mINFO\u001b[0m - Epoch(train) [1][ 3740/11818]  lr: 1.0000e-04  eta: 13:59:49  time: 1.2177  data_time: 0.8551  memory: 1526  grad_norm: 12.5632  loss: 1.0264  top1_acc: 1.0000  top5_acc: 1.0000  loss_cls: 1.0264\r\n"
     ]
    },
    {
     "name": "stdout",
     "output_type": "stream",
     "text": [
      "06/12 19:59:22 - mmengine - \u001b[4m\u001b[97mINFO\u001b[0m - Epoch(train) [1][ 3760/11818]  lr: 1.0000e-04  eta: 14:00:00  time: 1.3056  data_time: 0.9443  memory: 1526  grad_norm: 10.9431  loss: 1.0535  top1_acc: 0.7500  top5_acc: 1.0000  loss_cls: 1.0535\r\n"
     ]
    },
    {
     "name": "stdout",
     "output_type": "stream",
     "text": [
      "06/12 19:59:47 - mmengine - \u001b[4m\u001b[97mINFO\u001b[0m - Epoch(train) [1][ 3780/11818]  lr: 1.0000e-04  eta: 13:59:59  time: 1.2538  data_time: 0.8921  memory: 1526  grad_norm: 12.4104  loss: 1.0946  top1_acc: 0.7500  top5_acc: 1.0000  loss_cls: 1.0946\r\n"
     ]
    },
    {
     "name": "stdout",
     "output_type": "stream",
     "text": [
      "06/12 20:00:09 - mmengine - \u001b[4m\u001b[97mINFO\u001b[0m - Epoch(train) [1][ 3800/11818]  lr: 1.0000e-04  eta: 13:59:24  time: 1.1100  data_time: 0.7489  memory: 1526  grad_norm: 11.3304  loss: 0.9417  top1_acc: 0.7500  top5_acc: 1.0000  loss_cls: 0.9417\r\n"
     ]
    },
    {
     "name": "stdout",
     "output_type": "stream",
     "text": [
      "06/12 20:00:29 - mmengine - \u001b[4m\u001b[97mINFO\u001b[0m - Epoch(train) [1][ 3820/11818]  lr: 1.0000e-04  eta: 13:58:25  time: 0.9988  data_time: 0.6388  memory: 1526  grad_norm: 12.5005  loss: 1.0865  top1_acc: 1.0000  top5_acc: 1.0000  loss_cls: 1.0865\r\n"
     ]
    },
    {
     "name": "stdout",
     "output_type": "stream",
     "text": [
      "06/12 20:00:54 - mmengine - \u001b[4m\u001b[97mINFO\u001b[0m - Epoch(train) [1][ 3840/11818]  lr: 1.0000e-04  eta: 13:58:21  time: 1.2428  data_time: 0.8816  memory: 1526  grad_norm: 11.2973  loss: 1.1086  top1_acc: 0.5000  top5_acc: 0.7500  loss_cls: 1.1086\r\n"
     ]
    },
    {
     "name": "stdout",
     "output_type": "stream",
     "text": [
      "06/12 20:01:16 - mmengine - \u001b[4m\u001b[97mINFO\u001b[0m - Epoch(train) [1][ 3860/11818]  lr: 1.0000e-04  eta: 13:57:47  time: 1.1106  data_time: 0.7475  memory: 1526  grad_norm: 12.5854  loss: 1.0259  top1_acc: 0.7500  top5_acc: 1.0000  loss_cls: 1.0259\r\n"
     ]
    },
    {
     "name": "stdout",
     "output_type": "stream",
     "text": [
      "06/12 20:01:42 - mmengine - \u001b[4m\u001b[97mINFO\u001b[0m - Epoch(train) [1][ 3880/11818]  lr: 1.0000e-04  eta: 13:57:49  time: 1.2709  data_time: 0.9095  memory: 1526  grad_norm: 12.4422  loss: 1.1461  top1_acc: 0.7500  top5_acc: 1.0000  loss_cls: 1.1461\r\n"
     ]
    },
    {
     "name": "stdout",
     "output_type": "stream",
     "text": [
      "06/12 20:02:06 - mmengine - \u001b[4m\u001b[97mINFO\u001b[0m - Epoch(train) [1][ 3900/11818]  lr: 1.0000e-04  eta: 13:57:34  time: 1.1934  data_time: 0.8336  memory: 1526  grad_norm: 11.0827  loss: 1.1088  top1_acc: 1.0000  top5_acc: 1.0000  loss_cls: 1.1088\r\n"
     ]
    },
    {
     "name": "stdout",
     "output_type": "stream",
     "text": [
      "06/12 20:02:29 - mmengine - \u001b[4m\u001b[97mINFO\u001b[0m - Epoch(train) [1][ 3920/11818]  lr: 1.0000e-04  eta: 13:57:07  time: 1.1431  data_time: 0.7813  memory: 1526  grad_norm: 10.4312  loss: 0.9168  top1_acc: 0.5000  top5_acc: 0.7500  loss_cls: 0.9168\r\n"
     ]
    },
    {
     "name": "stdout",
     "output_type": "stream",
     "text": [
      "06/12 20:02:49 - mmengine - \u001b[4m\u001b[97mINFO\u001b[0m - Epoch(train) [1][ 3940/11818]  lr: 1.0000e-04  eta: 13:56:16  time: 1.0313  data_time: 0.6695  memory: 1526  grad_norm: 11.0556  loss: 1.0505  top1_acc: 0.7500  top5_acc: 1.0000  loss_cls: 1.0505\r\n"
     ]
    },
    {
     "name": "stdout",
     "output_type": "stream",
     "text": [
      "06/12 20:03:14 - mmengine - \u001b[4m\u001b[97mINFO\u001b[0m - Epoch(train) [1][ 3960/11818]  lr: 1.0000e-04  eta: 13:56:15  time: 1.2605  data_time: 0.9000  memory: 1526  grad_norm: 13.7966  loss: 1.1325  top1_acc: 0.7500  top5_acc: 0.7500  loss_cls: 1.1325\r\n"
     ]
    },
    {
     "name": "stdout",
     "output_type": "stream",
     "text": [
      "06/12 20:03:36 - mmengine - \u001b[4m\u001b[97mINFO\u001b[0m - Epoch(train) [1][ 3980/11818]  lr: 1.0000e-04  eta: 13:55:35  time: 1.0802  data_time: 0.7172  memory: 1526  grad_norm: 12.8968  loss: 1.1425  top1_acc: 0.5000  top5_acc: 1.0000  loss_cls: 1.1425\r\n"
     ]
    },
    {
     "name": "stdout",
     "output_type": "stream",
     "text": [
      "06/12 20:03:58 - mmengine - \u001b[4m\u001b[97mINFO\u001b[0m - Exp name: config_20230612_184603\r\n",
      "06/12 20:03:58 - mmengine - \u001b[4m\u001b[97mINFO\u001b[0m - Epoch(train) [1][ 4000/11818]  lr: 1.0000e-04  eta: 13:54:53  time: 1.0725  data_time: 0.7112  memory: 1526  grad_norm: 13.6721  loss: 1.1420  top1_acc: 0.5000  top5_acc: 1.0000  loss_cls: 1.1420\r\n"
     ]
    },
    {
     "name": "stdout",
     "output_type": "stream",
     "text": [
      "06/12 20:04:21 - mmengine - \u001b[4m\u001b[97mINFO\u001b[0m - Epoch(train) [1][ 4020/11818]  lr: 1.0000e-04  eta: 13:54:28  time: 1.1502  data_time: 0.7865  memory: 1526  grad_norm: 10.9556  loss: 0.8826  top1_acc: 1.0000  top5_acc: 1.0000  loss_cls: 0.8826\r\n"
     ]
    },
    {
     "name": "stdout",
     "output_type": "stream",
     "text": [
      "06/12 20:04:43 - mmengine - \u001b[4m\u001b[97mINFO\u001b[0m - Epoch(train) [1][ 4040/11818]  lr: 1.0000e-04  eta: 13:54:01  time: 1.1396  data_time: 0.7791  memory: 1526  grad_norm: 12.4578  loss: 1.0137  top1_acc: 0.5000  top5_acc: 1.0000  loss_cls: 1.0137\r\n"
     ]
    },
    {
     "name": "stdout",
     "output_type": "stream",
     "text": [
      "06/12 20:05:06 - mmengine - \u001b[4m\u001b[97mINFO\u001b[0m - Epoch(train) [1][ 4060/11818]  lr: 1.0000e-04  eta: 13:53:33  time: 1.1313  data_time: 0.7714  memory: 1526  grad_norm: 11.3533  loss: 0.9077  top1_acc: 1.0000  top5_acc: 1.0000  loss_cls: 0.9077\r\n"
     ]
    },
    {
     "name": "stdout",
     "output_type": "stream",
     "text": [
      "06/12 20:05:29 - mmengine - \u001b[4m\u001b[97mINFO\u001b[0m - Epoch(train) [1][ 4080/11818]  lr: 1.0000e-04  eta: 13:53:09  time: 1.1529  data_time: 0.7912  memory: 1526  grad_norm: 12.2997  loss: 0.9942  top1_acc: 0.7500  top5_acc: 1.0000  loss_cls: 0.9942\r\n"
     ]
    },
    {
     "name": "stdout",
     "output_type": "stream",
     "text": [
      "06/12 20:05:50 - mmengine - \u001b[4m\u001b[97mINFO\u001b[0m - Epoch(train) [1][ 4100/11818]  lr: 1.0000e-04  eta: 13:52:24  time: 1.0544  data_time: 0.6939  memory: 1526  grad_norm: 12.6628  loss: 1.0221  top1_acc: 0.7500  top5_acc: 1.0000  loss_cls: 1.0221\r\n"
     ]
    },
    {
     "name": "stdout",
     "output_type": "stream",
     "text": [
      "06/12 20:06:15 - mmengine - \u001b[4m\u001b[97mINFO\u001b[0m - Epoch(train) [1][ 4120/11818]  lr: 1.0000e-04  eta: 13:52:24  time: 1.2673  data_time: 0.9056  memory: 1526  grad_norm: 11.9434  loss: 0.9725  top1_acc: 0.5000  top5_acc: 1.0000  loss_cls: 0.9725\r\n"
     ]
    },
    {
     "name": "stdout",
     "output_type": "stream",
     "text": [
      "06/12 20:06:36 - mmengine - \u001b[4m\u001b[97mINFO\u001b[0m - Epoch(train) [1][ 4140/11818]  lr: 1.0000e-04  eta: 13:51:35  time: 1.0332  data_time: 0.6716  memory: 1526  grad_norm: 12.1784  loss: 1.0912  top1_acc: 1.0000  top5_acc: 1.0000  loss_cls: 1.0912\r\n"
     ]
    },
    {
     "name": "stdout",
     "output_type": "stream",
     "text": [
      "06/12 20:06:59 - mmengine - \u001b[4m\u001b[97mINFO\u001b[0m - Epoch(train) [1][ 4160/11818]  lr: 1.0000e-04  eta: 13:51:04  time: 1.1220  data_time: 0.7590  memory: 1526  grad_norm: 11.5855  loss: 0.9854  top1_acc: 1.0000  top5_acc: 1.0000  loss_cls: 0.9854\r\n"
     ]
    },
    {
     "name": "stdout",
     "output_type": "stream",
     "text": [
      "06/12 20:07:21 - mmengine - \u001b[4m\u001b[97mINFO\u001b[0m - Epoch(train) [1][ 4180/11818]  lr: 1.0000e-04  eta: 13:50:39  time: 1.1449  data_time: 0.7832  memory: 1526  grad_norm: 13.6958  loss: 1.0811  top1_acc: 0.5000  top5_acc: 0.7500  loss_cls: 1.0811\r\n"
     ]
    },
    {
     "name": "stdout",
     "output_type": "stream",
     "text": [
      "06/12 20:07:45 - mmengine - \u001b[4m\u001b[97mINFO\u001b[0m - Epoch(train) [1][ 4200/11818]  lr: 1.0000e-04  eta: 13:50:15  time: 1.1531  data_time: 0.7930  memory: 1526  grad_norm: 12.4251  loss: 1.0196  top1_acc: 1.0000  top5_acc: 1.0000  loss_cls: 1.0196\r\n"
     ]
    },
    {
     "name": "stdout",
     "output_type": "stream",
     "text": [
      "06/12 20:08:06 - mmengine - \u001b[4m\u001b[97mINFO\u001b[0m - Epoch(train) [1][ 4220/11818]  lr: 1.0000e-04  eta: 13:49:34  time: 1.0693  data_time: 0.7071  memory: 1526  grad_norm: 10.0066  loss: 0.7517  top1_acc: 1.0000  top5_acc: 1.0000  loss_cls: 0.7517\r\n"
     ]
    },
    {
     "name": "stdout",
     "output_type": "stream",
     "text": [
      "06/12 20:08:26 - mmengine - \u001b[4m\u001b[97mINFO\u001b[0m - Epoch(train) [1][ 4240/11818]  lr: 1.0000e-04  eta: 13:48:41  time: 1.0073  data_time: 0.6473  memory: 1526  grad_norm: 11.6272  loss: 0.9325  top1_acc: 0.7500  top5_acc: 0.7500  loss_cls: 0.9325\r\n"
     ]
    },
    {
     "name": "stdout",
     "output_type": "stream",
     "text": [
      "06/12 20:08:48 - mmengine - \u001b[4m\u001b[97mINFO\u001b[0m - Epoch(train) [1][ 4260/11818]  lr: 1.0000e-04  eta: 13:48:06  time: 1.0999  data_time: 0.7365  memory: 1526  grad_norm: 11.8034  loss: 0.8895  top1_acc: 0.2500  top5_acc: 1.0000  loss_cls: 0.8895\r\n"
     ]
    },
    {
     "name": "stdout",
     "output_type": "stream",
     "text": [
      "06/12 20:09:13 - mmengine - \u001b[4m\u001b[97mINFO\u001b[0m - Epoch(train) [1][ 4280/11818]  lr: 1.0000e-04  eta: 13:48:01  time: 1.2415  data_time: 0.8797  memory: 1526  grad_norm: 12.9628  loss: 1.0650  top1_acc: 0.2500  top5_acc: 0.7500  loss_cls: 1.0650\r\n"
     ]
    },
    {
     "name": "stdout",
     "output_type": "stream",
     "text": [
      "06/12 20:09:38 - mmengine - \u001b[4m\u001b[97mINFO\u001b[0m - Epoch(train) [1][ 4300/11818]  lr: 1.0000e-04  eta: 13:47:54  time: 1.2375  data_time: 0.8751  memory: 1526  grad_norm: 11.9561  loss: 0.9780  top1_acc: 1.0000  top5_acc: 1.0000  loss_cls: 0.9780\r\n"
     ]
    },
    {
     "name": "stdout",
     "output_type": "stream",
     "text": [
      "06/12 20:09:58 - mmengine - \u001b[4m\u001b[97mINFO\u001b[0m - Epoch(train) [1][ 4320/11818]  lr: 1.0000e-04  eta: 13:47:05  time: 1.0262  data_time: 0.6662  memory: 1526  grad_norm: 12.3219  loss: 0.9649  top1_acc: 1.0000  top5_acc: 1.0000  loss_cls: 0.9649\r\n"
     ]
    },
    {
     "name": "stdout",
     "output_type": "stream",
     "text": [
      "06/12 20:10:25 - mmengine - \u001b[4m\u001b[97mINFO\u001b[0m - Epoch(train) [1][ 4340/11818]  lr: 1.0000e-04  eta: 13:47:23  time: 1.3646  data_time: 1.0041  memory: 1526  grad_norm: 12.6151  loss: 1.1417  top1_acc: 0.5000  top5_acc: 1.0000  loss_cls: 1.1417\r\n"
     ]
    },
    {
     "name": "stdout",
     "output_type": "stream",
     "text": [
      "06/12 20:10:49 - mmengine - \u001b[4m\u001b[97mINFO\u001b[0m - Epoch(train) [1][ 4360/11818]  lr: 1.0000e-04  eta: 13:47:03  time: 1.1722  data_time: 0.8112  memory: 1526  grad_norm: 11.6116  loss: 0.8791  top1_acc: 0.5000  top5_acc: 0.7500  loss_cls: 0.8791\r\n"
     ]
    },
    {
     "name": "stdout",
     "output_type": "stream",
     "text": [
      "06/12 20:11:11 - mmengine - \u001b[4m\u001b[97mINFO\u001b[0m - Epoch(train) [1][ 4380/11818]  lr: 1.0000e-04  eta: 13:46:29  time: 1.0984  data_time: 0.7365  memory: 1526  grad_norm: 11.7044  loss: 0.9357  top1_acc: 0.7500  top5_acc: 0.7500  loss_cls: 0.9357\r\n"
     ]
    },
    {
     "name": "stdout",
     "output_type": "stream",
     "text": [
      "06/12 20:11:37 - mmengine - \u001b[4m\u001b[97mINFO\u001b[0m - Epoch(train) [1][ 4400/11818]  lr: 1.0000e-04  eta: 13:46:33  time: 1.2959  data_time: 0.9361  memory: 1526  grad_norm: 12.3581  loss: 1.0711  top1_acc: 0.5000  top5_acc: 1.0000  loss_cls: 1.0711\r\n"
     ]
    },
    {
     "name": "stdout",
     "output_type": "stream",
     "text": [
      "06/12 20:11:57 - mmengine - \u001b[4m\u001b[97mINFO\u001b[0m - Epoch(train) [1][ 4420/11818]  lr: 1.0000e-04  eta: 13:45:46  time: 1.0355  data_time: 0.6717  memory: 1526  grad_norm: 12.1479  loss: 0.9344  top1_acc: 1.0000  top5_acc: 1.0000  loss_cls: 0.9344\r\n"
     ]
    },
    {
     "name": "stdout",
     "output_type": "stream",
     "text": [
      "06/12 20:12:21 - mmengine - \u001b[4m\u001b[97mINFO\u001b[0m - Epoch(train) [1][ 4440/11818]  lr: 1.0000e-04  eta: 13:45:28  time: 1.1808  data_time: 0.8200  memory: 1526  grad_norm: 12.9642  loss: 1.0782  top1_acc: 0.7500  top5_acc: 1.0000  loss_cls: 1.0782\r\n"
     ]
    },
    {
     "name": "stdout",
     "output_type": "stream",
     "text": [
      "06/12 20:12:46 - mmengine - \u001b[4m\u001b[97mINFO\u001b[0m - Epoch(train) [1][ 4460/11818]  lr: 1.0000e-04  eta: 13:45:25  time: 1.2632  data_time: 0.9030  memory: 1526  grad_norm: 12.9694  loss: 1.1287  top1_acc: 0.7500  top5_acc: 1.0000  loss_cls: 1.1287\r\n"
     ]
    },
    {
     "name": "stdout",
     "output_type": "stream",
     "text": [
      "06/12 20:13:11 - mmengine - \u001b[4m\u001b[97mINFO\u001b[0m - Epoch(train) [1][ 4480/11818]  lr: 1.0000e-04  eta: 13:45:17  time: 1.2370  data_time: 0.8768  memory: 1526  grad_norm: 14.0479  loss: 1.2269  top1_acc: 0.5000  top5_acc: 1.0000  loss_cls: 1.2269\r\n"
     ]
    },
    {
     "name": "stdout",
     "output_type": "stream",
     "text": [
      "06/12 20:13:34 - mmengine - \u001b[4m\u001b[97mINFO\u001b[0m - Epoch(train) [1][ 4500/11818]  lr: 1.0000e-04  eta: 13:44:56  time: 1.1654  data_time: 0.8033  memory: 1526  grad_norm: 11.3492  loss: 0.8852  top1_acc: 0.7500  top5_acc: 1.0000  loss_cls: 0.8852\r\n"
     ]
    },
    {
     "name": "stdout",
     "output_type": "stream",
     "text": [
      "06/12 20:14:00 - mmengine - \u001b[4m\u001b[97mINFO\u001b[0m - Epoch(train) [1][ 4520/11818]  lr: 1.0000e-04  eta: 13:44:54  time: 1.2706  data_time: 0.9092  memory: 1526  grad_norm: 12.9848  loss: 1.0149  top1_acc: 0.5000  top5_acc: 1.0000  loss_cls: 1.0149\r\n"
     ]
    },
    {
     "name": "stdout",
     "output_type": "stream",
     "text": [
      "06/12 20:14:21 - mmengine - \u001b[4m\u001b[97mINFO\u001b[0m - Epoch(train) [1][ 4540/11818]  lr: 1.0000e-04  eta: 13:44:10  time: 1.0483  data_time: 0.6868  memory: 1526  grad_norm: 11.5167  loss: 0.8816  top1_acc: 0.7500  top5_acc: 1.0000  loss_cls: 0.8816\r\n"
     ]
    },
    {
     "name": "stdout",
     "output_type": "stream",
     "text": [
      "06/12 20:14:45 - mmengine - \u001b[4m\u001b[97mINFO\u001b[0m - Epoch(train) [1][ 4560/11818]  lr: 1.0000e-04  eta: 13:43:59  time: 1.2221  data_time: 0.8608  memory: 1526  grad_norm: 14.2603  loss: 0.9507  top1_acc: 0.7500  top5_acc: 0.7500  loss_cls: 0.9507\r\n"
     ]
    },
    {
     "name": "stdout",
     "output_type": "stream",
     "text": [
      "06/12 20:15:07 - mmengine - \u001b[4m\u001b[97mINFO\u001b[0m - Epoch(train) [1][ 4580/11818]  lr: 1.0000e-04  eta: 13:43:23  time: 1.0867  data_time: 0.7252  memory: 1526  grad_norm: 13.9025  loss: 1.2221  top1_acc: 0.7500  top5_acc: 0.7500  loss_cls: 1.2221\r\n"
     ]
    },
    {
     "name": "stdout",
     "output_type": "stream",
     "text": [
      "06/12 20:15:34 - mmengine - \u001b[4m\u001b[97mINFO\u001b[0m - Epoch(train) [1][ 4600/11818]  lr: 1.0000e-04  eta: 13:43:33  time: 1.3342  data_time: 0.9726  memory: 1526  grad_norm: 11.2223  loss: 0.8336  top1_acc: 1.0000  top5_acc: 1.0000  loss_cls: 0.8336\r\n"
     ]
    },
    {
     "name": "stdout",
     "output_type": "stream",
     "text": [
      "06/12 20:15:57 - mmengine - \u001b[4m\u001b[97mINFO\u001b[0m - Epoch(train) [1][ 4620/11818]  lr: 1.0000e-04  eta: 13:43:13  time: 1.1757  data_time: 0.8145  memory: 1526  grad_norm: 13.6318  loss: 0.9829  top1_acc: 0.7500  top5_acc: 1.0000  loss_cls: 0.9829\r\n"
     ]
    },
    {
     "name": "stdout",
     "output_type": "stream",
     "text": [
      "06/12 20:16:20 - mmengine - \u001b[4m\u001b[97mINFO\u001b[0m - Epoch(train) [1][ 4640/11818]  lr: 1.0000e-04  eta: 13:42:48  time: 1.1483  data_time: 0.7881  memory: 1526  grad_norm: 13.5677  loss: 1.1291  top1_acc: 0.5000  top5_acc: 1.0000  loss_cls: 1.1291\r\n"
     ]
    },
    {
     "name": "stdout",
     "output_type": "stream",
     "text": [
      "06/12 20:16:45 - mmengine - \u001b[4m\u001b[97mINFO\u001b[0m - Epoch(train) [1][ 4660/11818]  lr: 1.0000e-04  eta: 13:42:43  time: 1.2578  data_time: 0.8951  memory: 1526  grad_norm: 14.8581  loss: 1.2423  top1_acc: 0.5000  top5_acc: 1.0000  loss_cls: 1.2423\r\n"
     ]
    },
    {
     "name": "stdout",
     "output_type": "stream",
     "text": [
      "06/12 20:17:07 - mmengine - \u001b[4m\u001b[97mINFO\u001b[0m - Epoch(train) [1][ 4680/11818]  lr: 1.0000e-04  eta: 13:42:06  time: 1.0810  data_time: 0.7185  memory: 1526  grad_norm: 12.6944  loss: 0.9392  top1_acc: 1.0000  top5_acc: 1.0000  loss_cls: 0.9392\r\n"
     ]
    },
    {
     "name": "stdout",
     "output_type": "stream",
     "text": [
      "06/12 20:17:32 - mmengine - \u001b[4m\u001b[97mINFO\u001b[0m - Epoch(train) [1][ 4700/11818]  lr: 1.0000e-04  eta: 13:42:03  time: 1.2681  data_time: 0.9064  memory: 1526  grad_norm: 12.7553  loss: 0.8666  top1_acc: 0.7500  top5_acc: 1.0000  loss_cls: 0.8666\r\n"
     ]
    },
    {
     "name": "stdout",
     "output_type": "stream",
     "text": [
      "06/12 20:17:56 - mmengine - \u001b[4m\u001b[97mINFO\u001b[0m - Epoch(train) [1][ 4720/11818]  lr: 1.0000e-04  eta: 13:41:48  time: 1.2050  data_time: 0.8433  memory: 1526  grad_norm: 12.6163  loss: 0.9715  top1_acc: 0.5000  top5_acc: 1.0000  loss_cls: 0.9715\r\n"
     ]
    },
    {
     "name": "stdout",
     "output_type": "stream",
     "text": [
      "06/12 20:18:20 - mmengine - \u001b[4m\u001b[97mINFO\u001b[0m - Epoch(train) [1][ 4740/11818]  lr: 1.0000e-04  eta: 13:41:29  time: 1.1853  data_time: 0.8226  memory: 1526  grad_norm: 10.4900  loss: 0.7832  top1_acc: 0.7500  top5_acc: 0.7500  loss_cls: 0.7832\r\n"
     ]
    },
    {
     "name": "stdout",
     "output_type": "stream",
     "text": [
      "06/12 20:18:43 - mmengine - \u001b[4m\u001b[97mINFO\u001b[0m - Epoch(train) [1][ 4760/11818]  lr: 1.0000e-04  eta: 13:41:04  time: 1.1494  data_time: 0.7863  memory: 1526  grad_norm: 13.6029  loss: 1.1182  top1_acc: 1.0000  top5_acc: 1.0000  loss_cls: 1.1182\r\n"
     ]
    },
    {
     "name": "stdout",
     "output_type": "stream",
     "text": [
      "06/12 20:19:09 - mmengine - \u001b[4m\u001b[97mINFO\u001b[0m - Epoch(train) [1][ 4780/11818]  lr: 1.0000e-04  eta: 13:41:10  time: 1.3211  data_time: 0.9605  memory: 1526  grad_norm: 14.3678  loss: 1.1895  top1_acc: 0.2500  top5_acc: 0.5000  loss_cls: 1.1895\r\n"
     ]
    },
    {
     "name": "stdout",
     "output_type": "stream",
     "text": [
      "06/12 20:19:36 - mmengine - \u001b[4m\u001b[97mINFO\u001b[0m - Epoch(train) [1][ 4800/11818]  lr: 1.0000e-04  eta: 13:41:15  time: 1.3169  data_time: 0.9546  memory: 1526  grad_norm: 13.7498  loss: 0.9905  top1_acc: 1.0000  top5_acc: 1.0000  loss_cls: 0.9905\r\n"
     ]
    },
    {
     "name": "stdout",
     "output_type": "stream",
     "text": [
      "06/12 20:20:05 - mmengine - \u001b[4m\u001b[97mINFO\u001b[0m - Epoch(train) [1][ 4820/11818]  lr: 1.0000e-04  eta: 13:41:45  time: 1.4627  data_time: 1.1009  memory: 1526  grad_norm: 14.8821  loss: 1.2181  top1_acc: 0.5000  top5_acc: 1.0000  loss_cls: 1.2181\r\n"
     ]
    },
    {
     "name": "stdout",
     "output_type": "stream",
     "text": [
      "06/12 20:20:30 - mmengine - \u001b[4m\u001b[97mINFO\u001b[0m - Epoch(train) [1][ 4840/11818]  lr: 1.0000e-04  eta: 13:41:34  time: 1.2304  data_time: 0.8682  memory: 1526  grad_norm: 11.9169  loss: 0.9126  top1_acc: 0.5000  top5_acc: 1.0000  loss_cls: 0.9126\r\n"
     ]
    },
    {
     "name": "stdout",
     "output_type": "stream",
     "text": [
      "06/12 20:20:56 - mmengine - \u001b[4m\u001b[97mINFO\u001b[0m - Epoch(train) [1][ 4860/11818]  lr: 1.0000e-04  eta: 13:41:36  time: 1.3070  data_time: 0.9449  memory: 1526  grad_norm: 12.6041  loss: 0.9028  top1_acc: 0.7500  top5_acc: 1.0000  loss_cls: 0.9028\r\n"
     ]
    },
    {
     "name": "stdout",
     "output_type": "stream",
     "text": [
      "06/12 20:21:19 - mmengine - \u001b[4m\u001b[97mINFO\u001b[0m - Epoch(train) [1][ 4880/11818]  lr: 1.0000e-04  eta: 13:41:15  time: 1.1741  data_time: 0.8112  memory: 1526  grad_norm: 13.3649  loss: 0.9668  top1_acc: 0.7500  top5_acc: 1.0000  loss_cls: 0.9668\r\n"
     ]
    },
    {
     "name": "stdout",
     "output_type": "stream",
     "text": [
      "06/12 20:21:41 - mmengine - \u001b[4m\u001b[97mINFO\u001b[0m - Epoch(train) [1][ 4900/11818]  lr: 1.0000e-04  eta: 13:40:35  time: 1.0670  data_time: 0.7062  memory: 1526  grad_norm: 13.2473  loss: 1.0005  top1_acc: 0.2500  top5_acc: 1.0000  loss_cls: 1.0005\r\n"
     ]
    },
    {
     "name": "stdout",
     "output_type": "stream",
     "text": [
      "06/12 20:22:04 - mmengine - \u001b[4m\u001b[97mINFO\u001b[0m - Epoch(train) [1][ 4920/11818]  lr: 1.0000e-04  eta: 13:40:12  time: 1.1655  data_time: 0.8054  memory: 1526  grad_norm: 13.4276  loss: 0.8957  top1_acc: 0.7500  top5_acc: 1.0000  loss_cls: 0.8957\r\n"
     ]
    },
    {
     "name": "stdout",
     "output_type": "stream",
     "text": [
      "06/12 20:22:26 - mmengine - \u001b[4m\u001b[97mINFO\u001b[0m - Epoch(train) [1][ 4940/11818]  lr: 1.0000e-04  eta: 13:39:41  time: 1.1146  data_time: 0.7530  memory: 1526  grad_norm: 12.1722  loss: 0.8281  top1_acc: 0.7500  top5_acc: 1.0000  loss_cls: 0.8281\r\n"
     ]
    },
    {
     "name": "stdout",
     "output_type": "stream",
     "text": [
      "06/12 20:22:51 - mmengine - \u001b[4m\u001b[97mINFO\u001b[0m - Epoch(train) [1][ 4960/11818]  lr: 1.0000e-04  eta: 13:39:28  time: 1.2206  data_time: 0.8609  memory: 1526  grad_norm: 12.3405  loss: 1.0218  top1_acc: 0.5000  top5_acc: 1.0000  loss_cls: 1.0218\r\n"
     ]
    },
    {
     "name": "stdout",
     "output_type": "stream",
     "text": [
      "06/12 20:23:13 - mmengine - \u001b[4m\u001b[97mINFO\u001b[0m - Epoch(train) [1][ 4980/11818]  lr: 1.0000e-04  eta: 13:39:00  time: 1.1374  data_time: 0.7772  memory: 1526  grad_norm: 13.8436  loss: 1.1194  top1_acc: 0.7500  top5_acc: 1.0000  loss_cls: 1.1194\r\n"
     ]
    },
    {
     "name": "stdout",
     "output_type": "stream",
     "text": [
      "06/12 20:23:38 - mmengine - \u001b[4m\u001b[97mINFO\u001b[0m - Exp name: config_20230612_184603\r\n",
      "06/12 20:23:38 - mmengine - \u001b[4m\u001b[97mINFO\u001b[0m - Epoch(train) [1][ 5000/11818]  lr: 1.0000e-04  eta: 13:38:46  time: 1.2139  data_time: 0.8516  memory: 1526  grad_norm: 12.7298  loss: 0.8796  top1_acc: 1.0000  top5_acc: 1.0000  loss_cls: 0.8796\r\n"
     ]
    },
    {
     "name": "stdout",
     "output_type": "stream",
     "text": [
      "06/12 20:24:01 - mmengine - \u001b[4m\u001b[97mINFO\u001b[0m - Epoch(train) [1][ 5020/11818]  lr: 1.0000e-04  eta: 13:38:25  time: 1.1796  data_time: 0.8178  memory: 1526  grad_norm: 12.6487  loss: 0.8817  top1_acc: 0.5000  top5_acc: 1.0000  loss_cls: 0.8817\r\n"
     ]
    },
    {
     "name": "stdout",
     "output_type": "stream",
     "text": [
      "06/12 20:24:24 - mmengine - \u001b[4m\u001b[97mINFO\u001b[0m - Epoch(train) [1][ 5040/11818]  lr: 1.0000e-04  eta: 13:37:56  time: 1.1277  data_time: 0.7654  memory: 1526  grad_norm: 13.3800  loss: 1.1025  top1_acc: 0.7500  top5_acc: 0.7500  loss_cls: 1.1025\r\n"
     ]
    },
    {
     "name": "stdout",
     "output_type": "stream",
     "text": [
      "06/12 20:24:46 - mmengine - \u001b[4m\u001b[97mINFO\u001b[0m - Epoch(train) [1][ 5060/11818]  lr: 1.0000e-04  eta: 13:37:21  time: 1.0872  data_time: 0.7252  memory: 1526  grad_norm: 12.6333  loss: 0.8523  top1_acc: 0.7500  top5_acc: 1.0000  loss_cls: 0.8523\r\n"
     ]
    },
    {
     "name": "stdout",
     "output_type": "stream",
     "text": [
      "06/12 20:25:11 - mmengine - \u001b[4m\u001b[97mINFO\u001b[0m - Epoch(train) [1][ 5080/11818]  lr: 1.0000e-04  eta: 13:37:19  time: 1.2883  data_time: 0.9249  memory: 1526  grad_norm: 11.9008  loss: 0.9821  top1_acc: 0.7500  top5_acc: 1.0000  loss_cls: 0.9821\r\n"
     ]
    },
    {
     "name": "stdout",
     "output_type": "stream",
     "text": [
      "06/12 20:25:37 - mmengine - \u001b[4m\u001b[97mINFO\u001b[0m - Epoch(train) [1][ 5100/11818]  lr: 1.0000e-04  eta: 13:37:12  time: 1.2643  data_time: 0.9037  memory: 1526  grad_norm: 12.6308  loss: 0.9477  top1_acc: 0.5000  top5_acc: 1.0000  loss_cls: 0.9477\r\n"
     ]
    },
    {
     "name": "stdout",
     "output_type": "stream",
     "text": [
      "06/12 20:25:58 - mmengine - \u001b[4m\u001b[97mINFO\u001b[0m - Epoch(train) [1][ 5120/11818]  lr: 1.0000e-04  eta: 13:36:30  time: 1.0455  data_time: 0.6827  memory: 1526  grad_norm: 12.4547  loss: 0.8488  top1_acc: 0.7500  top5_acc: 1.0000  loss_cls: 0.8488\r\n"
     ]
    },
    {
     "name": "stdout",
     "output_type": "stream",
     "text": [
      "06/12 20:26:18 - mmengine - \u001b[4m\u001b[97mINFO\u001b[0m - Epoch(train) [1][ 5140/11818]  lr: 1.0000e-04  eta: 13:35:43  time: 1.0213  data_time: 0.6614  memory: 1526  grad_norm: 11.8458  loss: 0.9661  top1_acc: 0.5000  top5_acc: 1.0000  loss_cls: 0.9661\r\n"
     ]
    },
    {
     "name": "stdout",
     "output_type": "stream",
     "text": [
      "06/12 20:26:44 - mmengine - \u001b[4m\u001b[97mINFO\u001b[0m - Epoch(train) [1][ 5160/11818]  lr: 1.0000e-04  eta: 13:35:45  time: 1.3162  data_time: 0.9557  memory: 1526  grad_norm: 11.8938  loss: 0.8402  top1_acc: 0.7500  top5_acc: 1.0000  loss_cls: 0.8402\r\n"
     ]
    },
    {
     "name": "stdout",
     "output_type": "stream",
     "text": [
      "06/12 20:27:08 - mmengine - \u001b[4m\u001b[97mINFO\u001b[0m - Epoch(train) [1][ 5180/11818]  lr: 1.0000e-04  eta: 13:35:25  time: 1.1820  data_time: 0.8196  memory: 1526  grad_norm: 12.4667  loss: 0.8911  top1_acc: 0.7500  top5_acc: 1.0000  loss_cls: 0.8911\r\n"
     ]
    },
    {
     "name": "stdout",
     "output_type": "stream",
     "text": [
      "06/12 20:27:36 - mmengine - \u001b[4m\u001b[97mINFO\u001b[0m - Epoch(train) [1][ 5200/11818]  lr: 1.0000e-04  eta: 13:35:42  time: 1.4073  data_time: 1.0439  memory: 1526  grad_norm: 14.4827  loss: 0.9953  top1_acc: 1.0000  top5_acc: 1.0000  loss_cls: 0.9953\r\n"
     ]
    },
    {
     "name": "stdout",
     "output_type": "stream",
     "text": [
      "06/12 20:27:55 - mmengine - \u001b[4m\u001b[97mINFO\u001b[0m - Epoch(train) [1][ 5220/11818]  lr: 1.0000e-04  eta: 13:34:46  time: 0.9653  data_time: 0.6049  memory: 1526  grad_norm: 12.3005  loss: 0.9882  top1_acc: 0.7500  top5_acc: 1.0000  loss_cls: 0.9882\r\n"
     ]
    },
    {
     "name": "stdout",
     "output_type": "stream",
     "text": [
      "06/12 20:28:22 - mmengine - \u001b[4m\u001b[97mINFO\u001b[0m - Epoch(train) [1][ 5240/11818]  lr: 1.0000e-04  eta: 13:34:47  time: 1.3089  data_time: 0.9456  memory: 1526  grad_norm: 13.3296  loss: 1.0141  top1_acc: 0.5000  top5_acc: 0.7500  loss_cls: 1.0141\r\n"
     ]
    },
    {
     "name": "stdout",
     "output_type": "stream",
     "text": [
      "06/12 20:28:45 - mmengine - \u001b[4m\u001b[97mINFO\u001b[0m - Epoch(train) [1][ 5260/11818]  lr: 1.0000e-04  eta: 13:34:24  time: 1.1654  data_time: 0.8045  memory: 1526  grad_norm: 13.9741  loss: 0.9986  top1_acc: 0.5000  top5_acc: 1.0000  loss_cls: 0.9986\r\n"
     ]
    },
    {
     "name": "stdout",
     "output_type": "stream",
     "text": [
      "06/12 20:29:09 - mmengine - \u001b[4m\u001b[97mINFO\u001b[0m - Epoch(train) [1][ 5280/11818]  lr: 1.0000e-04  eta: 13:34:06  time: 1.1998  data_time: 0.8379  memory: 1526  grad_norm: 12.5712  loss: 0.9130  top1_acc: 0.5000  top5_acc: 1.0000  loss_cls: 0.9130\r\n"
     ]
    },
    {
     "name": "stdout",
     "output_type": "stream",
     "text": [
      "06/12 20:29:31 - mmengine - \u001b[4m\u001b[97mINFO\u001b[0m - Epoch(train) [1][ 5300/11818]  lr: 1.0000e-04  eta: 13:33:37  time: 1.1228  data_time: 0.7611  memory: 1526  grad_norm: 12.1275  loss: 0.8949  top1_acc: 1.0000  top5_acc: 1.0000  loss_cls: 0.8949\r\n"
     ]
    },
    {
     "name": "stdout",
     "output_type": "stream",
     "text": [
      "06/12 20:29:56 - mmengine - \u001b[4m\u001b[97mINFO\u001b[0m - Epoch(train) [1][ 5320/11818]  lr: 1.0000e-04  eta: 13:33:24  time: 1.2332  data_time: 0.8715  memory: 1526  grad_norm: 13.7635  loss: 0.9152  top1_acc: 0.5000  top5_acc: 0.7500  loss_cls: 0.9152\r\n"
     ]
    },
    {
     "name": "stdout",
     "output_type": "stream",
     "text": [
      "06/12 20:30:17 - mmengine - \u001b[4m\u001b[97mINFO\u001b[0m - Epoch(train) [1][ 5340/11818]  lr: 1.0000e-04  eta: 13:32:44  time: 1.0563  data_time: 0.6949  memory: 1526  grad_norm: 13.8846  loss: 1.1194  top1_acc: 0.7500  top5_acc: 1.0000  loss_cls: 1.1194\r\n"
     ]
    },
    {
     "name": "stdout",
     "output_type": "stream",
     "text": [
      "06/12 20:30:36 - mmengine - \u001b[4m\u001b[97mINFO\u001b[0m - Epoch(train) [1][ 5360/11818]  lr: 1.0000e-04  eta: 13:31:50  time: 0.9619  data_time: 0.6010  memory: 1526  grad_norm: 12.3342  loss: 1.0320  top1_acc: 0.5000  top5_acc: 0.7500  loss_cls: 1.0320\r\n"
     ]
    },
    {
     "name": "stdout",
     "output_type": "stream",
     "text": [
      "06/12 20:31:02 - mmengine - \u001b[4m\u001b[97mINFO\u001b[0m - Epoch(train) [1][ 5380/11818]  lr: 1.0000e-04  eta: 13:31:48  time: 1.2983  data_time: 0.9363  memory: 1526  grad_norm: 11.0063  loss: 0.6885  top1_acc: 0.5000  top5_acc: 1.0000  loss_cls: 0.6885\r\n"
     ]
    },
    {
     "name": "stdout",
     "output_type": "stream",
     "text": [
      "06/12 20:31:27 - mmengine - \u001b[4m\u001b[97mINFO\u001b[0m - Epoch(train) [1][ 5400/11818]  lr: 1.0000e-04  eta: 13:31:35  time: 1.2331  data_time: 0.8692  memory: 1526  grad_norm: 13.6271  loss: 1.0174  top1_acc: 0.5000  top5_acc: 1.0000  loss_cls: 1.0174\r\n"
     ]
    },
    {
     "name": "stdout",
     "output_type": "stream",
     "text": [
      "06/12 20:31:50 - mmengine - \u001b[4m\u001b[97mINFO\u001b[0m - Epoch(train) [1][ 5420/11818]  lr: 1.0000e-04  eta: 13:31:11  time: 1.1532  data_time: 0.7930  memory: 1526  grad_norm: 14.4495  loss: 1.1006  top1_acc: 0.7500  top5_acc: 1.0000  loss_cls: 1.1006\r\n"
     ]
    },
    {
     "name": "stdout",
     "output_type": "stream",
     "text": [
      "06/12 20:32:15 - mmengine - \u001b[4m\u001b[97mINFO\u001b[0m - Epoch(train) [1][ 5440/11818]  lr: 1.0000e-04  eta: 13:30:59  time: 1.2366  data_time: 0.8761  memory: 1526  grad_norm: 13.6781  loss: 0.9898  top1_acc: 1.0000  top5_acc: 1.0000  loss_cls: 0.9898\r\n"
     ]
    },
    {
     "name": "stdout",
     "output_type": "stream",
     "text": [
      "06/12 20:32:35 - mmengine - \u001b[4m\u001b[97mINFO\u001b[0m - Epoch(train) [1][ 5460/11818]  lr: 1.0000e-04  eta: 13:30:11  time: 1.0017  data_time: 0.6414  memory: 1526  grad_norm: 13.8348  loss: 0.9600  top1_acc: 0.2500  top5_acc: 1.0000  loss_cls: 0.9600\r\n"
     ]
    },
    {
     "name": "stdout",
     "output_type": "stream",
     "text": [
      "06/12 20:32:59 - mmengine - \u001b[4m\u001b[97mINFO\u001b[0m - Epoch(train) [1][ 5480/11818]  lr: 1.0000e-04  eta: 13:29:57  time: 1.2265  data_time: 0.8652  memory: 1526  grad_norm: 12.7550  loss: 1.0282  top1_acc: 0.5000  top5_acc: 1.0000  loss_cls: 1.0282\r\n"
     ]
    },
    {
     "name": "stdout",
     "output_type": "stream",
     "text": [
      "06/12 20:33:25 - mmengine - \u001b[4m\u001b[97mINFO\u001b[0m - Epoch(train) [1][ 5500/11818]  lr: 1.0000e-04  eta: 13:29:54  time: 1.2976  data_time: 0.9365  memory: 1526  grad_norm: 13.7324  loss: 1.0095  top1_acc: 0.5000  top5_acc: 1.0000  loss_cls: 1.0095\r\n"
     ]
    },
    {
     "name": "stdout",
     "output_type": "stream",
     "text": [
      "06/12 20:33:49 - mmengine - \u001b[4m\u001b[97mINFO\u001b[0m - Epoch(train) [1][ 5520/11818]  lr: 1.0000e-04  eta: 13:29:37  time: 1.2039  data_time: 0.8397  memory: 1526  grad_norm: 12.7179  loss: 0.9425  top1_acc: 1.0000  top5_acc: 1.0000  loss_cls: 0.9425\r\n"
     ]
    },
    {
     "name": "stdout",
     "output_type": "stream",
     "text": [
      "06/12 20:34:15 - mmengine - \u001b[4m\u001b[97mINFO\u001b[0m - Epoch(train) [1][ 5540/11818]  lr: 1.0000e-04  eta: 13:29:30  time: 1.2709  data_time: 0.9109  memory: 1526  grad_norm: 15.1468  loss: 1.0367  top1_acc: 0.7500  top5_acc: 1.0000  loss_cls: 1.0367\r\n"
     ]
    },
    {
     "name": "stdout",
     "output_type": "stream",
     "text": [
      "06/12 20:34:40 - mmengine - \u001b[4m\u001b[97mINFO\u001b[0m - Epoch(train) [1][ 5560/11818]  lr: 1.0000e-04  eta: 13:29:24  time: 1.2810  data_time: 0.9187  memory: 1526  grad_norm: 11.3308  loss: 0.7750  top1_acc: 0.5000  top5_acc: 1.0000  loss_cls: 0.7750\r\n"
     ]
    },
    {
     "name": "stdout",
     "output_type": "stream",
     "text": [
      "06/12 20:35:06 - mmengine - \u001b[4m\u001b[97mINFO\u001b[0m - Epoch(train) [1][ 5580/11818]  lr: 1.0000e-04  eta: 13:29:20  time: 1.2925  data_time: 0.9316  memory: 1526  grad_norm: 12.4961  loss: 0.9182  top1_acc: 0.7500  top5_acc: 1.0000  loss_cls: 0.9182\r\n"
     ]
    },
    {
     "name": "stdout",
     "output_type": "stream",
     "text": [
      "06/12 20:35:30 - mmengine - \u001b[4m\u001b[97mINFO\u001b[0m - Epoch(train) [1][ 5600/11818]  lr: 1.0000e-04  eta: 13:29:00  time: 1.1846  data_time: 0.8228  memory: 1526  grad_norm: 10.4517  loss: 0.7538  top1_acc: 0.7500  top5_acc: 1.0000  loss_cls: 0.7538\r\n"
     ]
    },
    {
     "name": "stdout",
     "output_type": "stream",
     "text": [
      "06/12 20:35:53 - mmengine - \u001b[4m\u001b[97mINFO\u001b[0m - Epoch(train) [1][ 5620/11818]  lr: 1.0000e-04  eta: 13:28:34  time: 1.1449  data_time: 0.7841  memory: 1526  grad_norm: 13.2044  loss: 0.9555  top1_acc: 0.0000  top5_acc: 1.0000  loss_cls: 0.9555\r\n"
     ]
    },
    {
     "name": "stdout",
     "output_type": "stream",
     "text": [
      "06/12 20:36:14 - mmengine - \u001b[4m\u001b[97mINFO\u001b[0m - Epoch(train) [1][ 5640/11818]  lr: 1.0000e-04  eta: 13:27:51  time: 1.0339  data_time: 0.6728  memory: 1526  grad_norm: 14.1469  loss: 0.9491  top1_acc: 1.0000  top5_acc: 1.0000  loss_cls: 0.9491\r\n"
     ]
    },
    {
     "name": "stdout",
     "output_type": "stream",
     "text": [
      "06/12 20:36:35 - mmengine - \u001b[4m\u001b[97mINFO\u001b[0m - Epoch(train) [1][ 5660/11818]  lr: 1.0000e-04  eta: 13:27:16  time: 1.0860  data_time: 0.7219  memory: 1526  grad_norm: 13.0067  loss: 0.9607  top1_acc: 0.5000  top5_acc: 1.0000  loss_cls: 0.9607\r\n"
     ]
    },
    {
     "name": "stdout",
     "output_type": "stream",
     "text": [
      "06/12 20:36:57 - mmengine - \u001b[4m\u001b[97mINFO\u001b[0m - Epoch(train) [1][ 5680/11818]  lr: 1.0000e-04  eta: 13:26:40  time: 1.0753  data_time: 0.7144  memory: 1526  grad_norm: 11.6691  loss: 0.9137  top1_acc: 0.5000  top5_acc: 0.7500  loss_cls: 0.9137\r\n"
     ]
    },
    {
     "name": "stdout",
     "output_type": "stream",
     "text": [
      "06/12 20:37:20 - mmengine - \u001b[4m\u001b[97mINFO\u001b[0m - Epoch(train) [1][ 5700/11818]  lr: 1.0000e-04  eta: 13:26:19  time: 1.1761  data_time: 0.8158  memory: 1526  grad_norm: 12.7158  loss: 0.9358  top1_acc: 0.5000  top5_acc: 0.7500  loss_cls: 0.9358\r\n"
     ]
    },
    {
     "name": "stdout",
     "output_type": "stream",
     "text": [
      "06/12 20:37:40 - mmengine - \u001b[4m\u001b[97mINFO\u001b[0m - Epoch(train) [1][ 5720/11818]  lr: 1.0000e-04  eta: 13:25:30  time: 0.9876  data_time: 0.6255  memory: 1526  grad_norm: 13.6151  loss: 1.0383  top1_acc: 0.7500  top5_acc: 1.0000  loss_cls: 1.0383\r\n"
     ]
    },
    {
     "name": "stdout",
     "output_type": "stream",
     "text": [
      "06/12 20:38:03 - mmengine - \u001b[4m\u001b[97mINFO\u001b[0m - Epoch(train) [1][ 5740/11818]  lr: 1.0000e-04  eta: 13:25:05  time: 1.1521  data_time: 0.7911  memory: 1526  grad_norm: 14.0073  loss: 0.9726  top1_acc: 1.0000  top5_acc: 1.0000  loss_cls: 0.9726\r\n"
     ]
    },
    {
     "name": "stdout",
     "output_type": "stream",
     "text": [
      "06/12 20:38:25 - mmengine - \u001b[4m\u001b[97mINFO\u001b[0m - Epoch(train) [1][ 5760/11818]  lr: 1.0000e-04  eta: 13:24:31  time: 1.0873  data_time: 0.7269  memory: 1526  grad_norm: 11.7123  loss: 0.9423  top1_acc: 0.7500  top5_acc: 1.0000  loss_cls: 0.9423\r\n"
     ]
    },
    {
     "name": "stdout",
     "output_type": "stream",
     "text": [
      "06/12 20:38:49 - mmengine - \u001b[4m\u001b[97mINFO\u001b[0m - Epoch(train) [1][ 5780/11818]  lr: 1.0000e-04  eta: 13:24:15  time: 1.2140  data_time: 0.8517  memory: 1526  grad_norm: 13.3433  loss: 0.8114  top1_acc: 0.5000  top5_acc: 0.7500  loss_cls: 0.8114\r\n"
     ]
    },
    {
     "name": "stdout",
     "output_type": "stream",
     "text": [
      "06/12 20:39:15 - mmengine - \u001b[4m\u001b[97mINFO\u001b[0m - Epoch(train) [1][ 5800/11818]  lr: 1.0000e-04  eta: 13:24:07  time: 1.2749  data_time: 0.9124  memory: 1526  grad_norm: 15.0915  loss: 1.0775  top1_acc: 0.7500  top5_acc: 1.0000  loss_cls: 1.0775\r\n"
     ]
    },
    {
     "name": "stdout",
     "output_type": "stream",
     "text": [
      "06/12 20:39:39 - mmengine - \u001b[4m\u001b[97mINFO\u001b[0m - Epoch(train) [1][ 5820/11818]  lr: 1.0000e-04  eta: 13:23:51  time: 1.2089  data_time: 0.8447  memory: 1526  grad_norm: 13.8243  loss: 0.9462  top1_acc: 1.0000  top5_acc: 1.0000  loss_cls: 0.9462\r\n"
     ]
    },
    {
     "name": "stdout",
     "output_type": "stream",
     "text": [
      "06/12 20:40:02 - mmengine - \u001b[4m\u001b[97mINFO\u001b[0m - Epoch(train) [1][ 5840/11818]  lr: 1.0000e-04  eta: 13:23:30  time: 1.1792  data_time: 0.8191  memory: 1526  grad_norm: 12.8063  loss: 0.9367  top1_acc: 0.5000  top5_acc: 1.0000  loss_cls: 0.9367\r\n"
     ]
    },
    {
     "name": "stdout",
     "output_type": "stream",
     "text": [
      "06/12 20:40:26 - mmengine - \u001b[4m\u001b[97mINFO\u001b[0m - Epoch(train) [1][ 5860/11818]  lr: 1.0000e-04  eta: 13:23:08  time: 1.1737  data_time: 0.8114  memory: 1526  grad_norm: 13.8526  loss: 1.1278  top1_acc: 0.7500  top5_acc: 1.0000  loss_cls: 1.1278\r\n"
     ]
    },
    {
     "name": "stdout",
     "output_type": "stream",
     "text": [
      "06/12 20:40:48 - mmengine - \u001b[4m\u001b[97mINFO\u001b[0m - Epoch(train) [1][ 5880/11818]  lr: 1.0000e-04  eta: 13:22:39  time: 1.1215  data_time: 0.7597  memory: 1526  grad_norm: 11.4565  loss: 0.8763  top1_acc: 0.7500  top5_acc: 1.0000  loss_cls: 0.8763\r\n"
     ]
    },
    {
     "name": "stdout",
     "output_type": "stream",
     "text": [
      "06/12 20:41:09 - mmengine - \u001b[4m\u001b[97mINFO\u001b[0m - Epoch(train) [1][ 5900/11818]  lr: 1.0000e-04  eta: 13:21:54  time: 1.0135  data_time: 0.6530  memory: 1526  grad_norm: 12.8644  loss: 0.9742  top1_acc: 0.0000  top5_acc: 0.7500  loss_cls: 0.9742\r\n"
     ]
    },
    {
     "name": "stdout",
     "output_type": "stream",
     "text": [
      "06/12 20:41:33 - mmengine - \u001b[4m\u001b[97mINFO\u001b[0m - Epoch(train) [1][ 5920/11818]  lr: 1.0000e-04  eta: 13:21:41  time: 1.2358  data_time: 0.8746  memory: 1526  grad_norm: 14.3558  loss: 0.9932  top1_acc: 1.0000  top5_acc: 1.0000  loss_cls: 0.9932\r\n"
     ]
    },
    {
     "name": "stdout",
     "output_type": "stream",
     "text": [
      "06/12 20:41:57 - mmengine - \u001b[4m\u001b[97mINFO\u001b[0m - Epoch(train) [1][ 5940/11818]  lr: 1.0000e-04  eta: 13:21:23  time: 1.2015  data_time: 0.8409  memory: 1526  grad_norm: 13.4767  loss: 1.0024  top1_acc: 0.7500  top5_acc: 1.0000  loss_cls: 1.0024\r\n"
     ]
    },
    {
     "name": "stdout",
     "output_type": "stream",
     "text": [
      "06/12 20:42:20 - mmengine - \u001b[4m\u001b[97mINFO\u001b[0m - Epoch(train) [1][ 5960/11818]  lr: 1.0000e-04  eta: 13:20:54  time: 1.1185  data_time: 0.7563  memory: 1526  grad_norm: 12.2005  loss: 0.8287  top1_acc: 0.7500  top5_acc: 1.0000  loss_cls: 0.8287\r\n"
     ]
    },
    {
     "name": "stdout",
     "output_type": "stream",
     "text": [
      "06/12 20:42:45 - mmengine - \u001b[4m\u001b[97mINFO\u001b[0m - Epoch(train) [1][ 5980/11818]  lr: 1.0000e-04  eta: 13:20:47  time: 1.2805  data_time: 0.9187  memory: 1526  grad_norm: 14.8367  loss: 1.0283  top1_acc: 1.0000  top5_acc: 1.0000  loss_cls: 1.0283\r\n"
     ]
    },
    {
     "name": "stdout",
     "output_type": "stream",
     "text": [
      "06/12 20:43:08 - mmengine - \u001b[4m\u001b[97mINFO\u001b[0m - Exp name: config_20230612_184603\r\n",
      "06/12 20:43:08 - mmengine - \u001b[4m\u001b[97mINFO\u001b[0m - Epoch(train) [1][ 6000/11818]  lr: 1.0000e-04  eta: 13:20:17  time: 1.1202  data_time: 0.7593  memory: 1526  grad_norm: 15.7178  loss: 1.1400  top1_acc: 1.0000  top5_acc: 1.0000  loss_cls: 1.1400\r\n"
     ]
    },
    {
     "name": "stdout",
     "output_type": "stream",
     "text": [
      "06/12 20:43:32 - mmengine - \u001b[4m\u001b[97mINFO\u001b[0m - Epoch(train) [1][ 6020/11818]  lr: 1.0000e-04  eta: 13:19:59  time: 1.1986  data_time: 0.8374  memory: 1526  grad_norm: 14.3524  loss: 1.0616  top1_acc: 1.0000  top5_acc: 1.0000  loss_cls: 1.0616\r\n"
     ]
    },
    {
     "name": "stdout",
     "output_type": "stream",
     "text": [
      "06/12 20:44:01 - mmengine - \u001b[4m\u001b[97mINFO\u001b[0m - Epoch(train) [1][ 6040/11818]  lr: 1.0000e-04  eta: 13:20:16  time: 1.4613  data_time: 1.0987  memory: 1526  grad_norm: 13.9781  loss: 0.8185  top1_acc: 0.5000  top5_acc: 0.7500  loss_cls: 0.8185\r\n"
     ]
    },
    {
     "name": "stdout",
     "output_type": "stream",
     "text": [
      "06/12 20:44:22 - mmengine - \u001b[4m\u001b[97mINFO\u001b[0m - Epoch(train) [1][ 6060/11818]  lr: 1.0000e-04  eta: 13:19:35  time: 1.0335  data_time: 0.6718  memory: 1526  grad_norm: 12.7518  loss: 0.9600  top1_acc: 0.5000  top5_acc: 1.0000  loss_cls: 0.9600\r\n"
     ]
    },
    {
     "name": "stdout",
     "output_type": "stream",
     "text": [
      "06/12 20:44:44 - mmengine - \u001b[4m\u001b[97mINFO\u001b[0m - Epoch(train) [1][ 6080/11818]  lr: 1.0000e-04  eta: 13:19:09  time: 1.1394  data_time: 0.7787  memory: 1526  grad_norm: 15.6836  loss: 1.0128  top1_acc: 0.7500  top5_acc: 1.0000  loss_cls: 1.0128\r\n"
     ]
    },
    {
     "name": "stdout",
     "output_type": "stream",
     "text": [
      "06/12 20:45:09 - mmengine - \u001b[4m\u001b[97mINFO\u001b[0m - Epoch(train) [1][ 6100/11818]  lr: 1.0000e-04  eta: 13:18:52  time: 1.2142  data_time: 0.8522  memory: 1526  grad_norm: 13.2707  loss: 0.7703  top1_acc: 1.0000  top5_acc: 1.0000  loss_cls: 0.7703\r\n"
     ]
    },
    {
     "name": "stdout",
     "output_type": "stream",
     "text": [
      "06/12 20:45:33 - mmengine - \u001b[4m\u001b[97mINFO\u001b[0m - Epoch(train) [1][ 6120/11818]  lr: 1.0000e-04  eta: 13:18:37  time: 1.2264  data_time: 0.8646  memory: 1526  grad_norm: 13.0915  loss: 0.9246  top1_acc: 0.7500  top5_acc: 1.0000  loss_cls: 0.9246\r\n"
     ]
    },
    {
     "name": "stdout",
     "output_type": "stream",
     "text": [
      "06/12 20:45:57 - mmengine - \u001b[4m\u001b[97mINFO\u001b[0m - Epoch(train) [1][ 6140/11818]  lr: 1.0000e-04  eta: 13:18:20  time: 1.2066  data_time: 0.8447  memory: 1526  grad_norm: 14.7174  loss: 0.8968  top1_acc: 0.7500  top5_acc: 1.0000  loss_cls: 0.8968\r\n"
     ]
    },
    {
     "name": "stdout",
     "output_type": "stream",
     "text": [
      "06/12 20:46:20 - mmengine - \u001b[4m\u001b[97mINFO\u001b[0m - Epoch(train) [1][ 6160/11818]  lr: 1.0000e-04  eta: 13:17:50  time: 1.1173  data_time: 0.7567  memory: 1526  grad_norm: 14.2478  loss: 0.9078  top1_acc: 0.7500  top5_acc: 1.0000  loss_cls: 0.9078\r\n"
     ]
    },
    {
     "name": "stdout",
     "output_type": "stream",
     "text": [
      "06/12 20:46:41 - mmengine - \u001b[4m\u001b[97mINFO\u001b[0m - Epoch(train) [1][ 6180/11818]  lr: 1.0000e-04  eta: 13:17:11  time: 1.0490  data_time: 0.6874  memory: 1526  grad_norm: 13.9906  loss: 0.9831  top1_acc: 0.5000  top5_acc: 0.7500  loss_cls: 0.9831\r\n"
     ]
    },
    {
     "name": "stdout",
     "output_type": "stream",
     "text": [
      "06/12 20:47:03 - mmengine - \u001b[4m\u001b[97mINFO\u001b[0m - Epoch(train) [1][ 6200/11818]  lr: 1.0000e-04  eta: 13:16:43  time: 1.1225  data_time: 0.7614  memory: 1526  grad_norm: 14.8694  loss: 1.0869  top1_acc: 1.0000  top5_acc: 1.0000  loss_cls: 1.0869\r\n"
     ]
    },
    {
     "name": "stdout",
     "output_type": "stream",
     "text": [
      "06/12 20:47:22 - mmengine - \u001b[4m\u001b[97mINFO\u001b[0m - Epoch(train) [1][ 6220/11818]  lr: 1.0000e-04  eta: 13:15:53  time: 0.9621  data_time: 0.6010  memory: 1526  grad_norm: 14.0052  loss: 1.0428  top1_acc: 0.5000  top5_acc: 0.5000  loss_cls: 1.0428\r\n"
     ]
    },
    {
     "name": "stdout",
     "output_type": "stream",
     "text": [
      "06/12 20:47:45 - mmengine - \u001b[4m\u001b[97mINFO\u001b[0m - Epoch(train) [1][ 6240/11818]  lr: 1.0000e-04  eta: 13:15:25  time: 1.1289  data_time: 0.7683  memory: 1526  grad_norm: 13.9313  loss: 0.9293  top1_acc: 0.7500  top5_acc: 1.0000  loss_cls: 0.9293\r\n"
     ]
    },
    {
     "name": "stdout",
     "output_type": "stream",
     "text": [
      "06/12 20:48:11 - mmengine - \u001b[4m\u001b[97mINFO\u001b[0m - Epoch(train) [1][ 6260/11818]  lr: 1.0000e-04  eta: 13:15:19  time: 1.2965  data_time: 0.9359  memory: 1526  grad_norm: 12.1993  loss: 0.6855  top1_acc: 1.0000  top5_acc: 1.0000  loss_cls: 0.6855\r\n"
     ]
    },
    {
     "name": "stdout",
     "output_type": "stream",
     "text": [
      "06/12 20:48:35 - mmengine - \u001b[4m\u001b[97mINFO\u001b[0m - Epoch(train) [1][ 6280/11818]  lr: 1.0000e-04  eta: 13:15:02  time: 1.2138  data_time: 0.8521  memory: 1526  grad_norm: 13.2030  loss: 0.8472  top1_acc: 1.0000  top5_acc: 1.0000  loss_cls: 0.8472\r\n"
     ]
    },
    {
     "name": "stdout",
     "output_type": "stream",
     "text": [
      "06/12 20:48:57 - mmengine - \u001b[4m\u001b[97mINFO\u001b[0m - Epoch(train) [1][ 6300/11818]  lr: 1.0000e-04  eta: 13:14:32  time: 1.1095  data_time: 0.7498  memory: 1526  grad_norm: 15.8871  loss: 0.9623  top1_acc: 1.0000  top5_acc: 1.0000  loss_cls: 0.9623\r\n"
     ]
    },
    {
     "name": "stdout",
     "output_type": "stream",
     "text": [
      "06/12 20:49:22 - mmengine - \u001b[4m\u001b[97mINFO\u001b[0m - Epoch(train) [1][ 6320/11818]  lr: 1.0000e-04  eta: 13:14:18  time: 1.2320  data_time: 0.8706  memory: 1526  grad_norm: 15.0923  loss: 0.8508  top1_acc: 0.7500  top5_acc: 1.0000  loss_cls: 0.8508\r\n"
     ]
    },
    {
     "name": "stdout",
     "output_type": "stream",
     "text": [
      "06/12 20:49:46 - mmengine - \u001b[4m\u001b[97mINFO\u001b[0m - Epoch(train) [1][ 6340/11818]  lr: 1.0000e-04  eta: 13:13:59  time: 1.2010  data_time: 0.8409  memory: 1526  grad_norm: 14.6865  loss: 1.0491  top1_acc: 0.5000  top5_acc: 1.0000  loss_cls: 1.0491\r\n"
     ]
    },
    {
     "name": "stdout",
     "output_type": "stream",
     "text": [
      "06/12 20:50:09 - mmengine - \u001b[4m\u001b[97mINFO\u001b[0m - Epoch(train) [1][ 6360/11818]  lr: 1.0000e-04  eta: 13:13:32  time: 1.1301  data_time: 0.7687  memory: 1526  grad_norm: 12.5354  loss: 0.8511  top1_acc: 1.0000  top5_acc: 1.0000  loss_cls: 0.8511\r\n"
     ]
    },
    {
     "name": "stdout",
     "output_type": "stream",
     "text": [
      "06/12 20:50:31 - mmengine - \u001b[4m\u001b[97mINFO\u001b[0m - Epoch(train) [1][ 6380/11818]  lr: 1.0000e-04  eta: 13:13:03  time: 1.1259  data_time: 0.7652  memory: 1526  grad_norm: 12.7114  loss: 0.7794  top1_acc: 1.0000  top5_acc: 1.0000  loss_cls: 0.7794\r\n"
     ]
    },
    {
     "name": "stdout",
     "output_type": "stream",
     "text": [
      "06/12 20:50:53 - mmengine - \u001b[4m\u001b[97mINFO\u001b[0m - Epoch(train) [1][ 6400/11818]  lr: 1.0000e-04  eta: 13:12:34  time: 1.1148  data_time: 0.7526  memory: 1526  grad_norm: 12.2442  loss: 0.8327  top1_acc: 0.5000  top5_acc: 1.0000  loss_cls: 0.8327\r\n"
     ]
    },
    {
     "name": "stdout",
     "output_type": "stream",
     "text": [
      "06/12 20:51:14 - mmengine - \u001b[4m\u001b[97mINFO\u001b[0m - Epoch(train) [1][ 6420/11818]  lr: 1.0000e-04  eta: 13:11:52  time: 1.0179  data_time: 0.6566  memory: 1526  grad_norm: 12.2572  loss: 0.7997  top1_acc: 1.0000  top5_acc: 1.0000  loss_cls: 0.7997\r\n"
     ]
    },
    {
     "name": "stdout",
     "output_type": "stream",
     "text": [
      "06/12 20:51:35 - mmengine - \u001b[4m\u001b[97mINFO\u001b[0m - Epoch(train) [1][ 6440/11818]  lr: 1.0000e-04  eta: 13:11:16  time: 1.0610  data_time: 0.7009  memory: 1526  grad_norm: 13.8588  loss: 0.8907  top1_acc: 0.5000  top5_acc: 1.0000  loss_cls: 0.8907\r\n"
     ]
    },
    {
     "name": "stdout",
     "output_type": "stream",
     "text": [
      "06/12 20:51:58 - mmengine - \u001b[4m\u001b[97mINFO\u001b[0m - Epoch(train) [1][ 6460/11818]  lr: 1.0000e-04  eta: 13:10:54  time: 1.1712  data_time: 0.8114  memory: 1526  grad_norm: 12.8872  loss: 0.8551  top1_acc: 1.0000  top5_acc: 1.0000  loss_cls: 0.8551\r\n"
     ]
    },
    {
     "name": "stdout",
     "output_type": "stream",
     "text": [
      "06/12 20:52:23 - mmengine - \u001b[4m\u001b[97mINFO\u001b[0m - Epoch(train) [1][ 6480/11818]  lr: 1.0000e-04  eta: 13:10:40  time: 1.2420  data_time: 0.8815  memory: 1526  grad_norm: 14.5736  loss: 0.9948  top1_acc: 0.5000  top5_acc: 0.5000  loss_cls: 0.9948\r\n"
     ]
    },
    {
     "name": "stdout",
     "output_type": "stream",
     "text": [
      "06/12 20:52:46 - mmengine - \u001b[4m\u001b[97mINFO\u001b[0m - Epoch(train) [1][ 6500/11818]  lr: 1.0000e-04  eta: 13:10:12  time: 1.1186  data_time: 0.7580  memory: 1526  grad_norm: 12.7637  loss: 0.7442  top1_acc: 0.2500  top5_acc: 0.7500  loss_cls: 0.7442\r\n"
     ]
    },
    {
     "name": "stdout",
     "output_type": "stream",
     "text": [
      "06/12 20:53:09 - mmengine - \u001b[4m\u001b[97mINFO\u001b[0m - Epoch(train) [1][ 6520/11818]  lr: 1.0000e-04  eta: 13:09:49  time: 1.1655  data_time: 0.8045  memory: 1526  grad_norm: 13.9406  loss: 0.8589  top1_acc: 1.0000  top5_acc: 1.0000  loss_cls: 0.8589\r\n"
     ]
    },
    {
     "name": "stdout",
     "output_type": "stream",
     "text": [
      "06/12 20:53:34 - mmengine - \u001b[4m\u001b[97mINFO\u001b[0m - Epoch(train) [1][ 6540/11818]  lr: 1.0000e-04  eta: 13:09:40  time: 1.2758  data_time: 0.9142  memory: 1526  grad_norm: 14.0096  loss: 0.8641  top1_acc: 0.7500  top5_acc: 1.0000  loss_cls: 0.8641\r\n"
     ]
    },
    {
     "name": "stdout",
     "output_type": "stream",
     "text": [
      "06/12 20:53:58 - mmengine - \u001b[4m\u001b[97mINFO\u001b[0m - Epoch(train) [1][ 6560/11818]  lr: 1.0000e-04  eta: 13:09:16  time: 1.1591  data_time: 0.7979  memory: 1526  grad_norm: 14.3197  loss: 0.8835  top1_acc: 0.7500  top5_acc: 1.0000  loss_cls: 0.8835\r\n"
     ]
    },
    {
     "name": "stdout",
     "output_type": "stream",
     "text": [
      "06/12 20:54:19 - mmengine - \u001b[4m\u001b[97mINFO\u001b[0m - Epoch(train) [1][ 6580/11818]  lr: 1.0000e-04  eta: 13:08:38  time: 1.0449  data_time: 0.6844  memory: 1526  grad_norm: 14.3762  loss: 0.9444  top1_acc: 0.2500  top5_acc: 1.0000  loss_cls: 0.9444\r\n"
     ]
    },
    {
     "name": "stdout",
     "output_type": "stream",
     "text": [
      "06/12 20:54:41 - mmengine - \u001b[4m\u001b[97mINFO\u001b[0m - Epoch(train) [1][ 6600/11818]  lr: 1.0000e-04  eta: 13:08:08  time: 1.1074  data_time: 0.7457  memory: 1526  grad_norm: 15.5082  loss: 1.0672  top1_acc: 0.7500  top5_acc: 1.0000  loss_cls: 1.0672\r\n"
     ]
    },
    {
     "name": "stdout",
     "output_type": "stream",
     "text": [
      "06/12 20:55:00 - mmengine - \u001b[4m\u001b[97mINFO\u001b[0m - Epoch(train) [1][ 6620/11818]  lr: 1.0000e-04  eta: 13:07:23  time: 0.9882  data_time: 0.6268  memory: 1526  grad_norm: 13.1527  loss: 0.7936  top1_acc: 0.7500  top5_acc: 1.0000  loss_cls: 0.7936\r\n"
     ]
    },
    {
     "name": "stdout",
     "output_type": "stream",
     "text": [
      "06/12 20:55:24 - mmengine - \u001b[4m\u001b[97mINFO\u001b[0m - Epoch(train) [1][ 6640/11818]  lr: 1.0000e-04  eta: 13:07:02  time: 1.1834  data_time: 0.8211  memory: 1526  grad_norm: 13.1246  loss: 0.8982  top1_acc: 1.0000  top5_acc: 1.0000  loss_cls: 0.8982\r\n"
     ]
    },
    {
     "name": "stdout",
     "output_type": "stream",
     "text": [
      "06/12 20:55:51 - mmengine - \u001b[4m\u001b[97mINFO\u001b[0m - Epoch(train) [1][ 6660/11818]  lr: 1.0000e-04  eta: 13:07:03  time: 1.3579  data_time: 0.9954  memory: 1526  grad_norm: 14.2840  loss: 0.9576  top1_acc: 1.0000  top5_acc: 1.0000  loss_cls: 0.9576\r\n"
     ]
    },
    {
     "name": "stdout",
     "output_type": "stream",
     "text": [
      "06/12 20:56:15 - mmengine - \u001b[4m\u001b[97mINFO\u001b[0m - Epoch(train) [1][ 6680/11818]  lr: 1.0000e-04  eta: 13:06:42  time: 1.1825  data_time: 0.8212  memory: 1526  grad_norm: 15.6045  loss: 1.0265  top1_acc: 0.5000  top5_acc: 0.7500  loss_cls: 1.0265\r\n"
     ]
    },
    {
     "name": "stdout",
     "output_type": "stream",
     "text": [
      "06/12 20:56:35 - mmengine - \u001b[4m\u001b[97mINFO\u001b[0m - Epoch(train) [1][ 6700/11818]  lr: 1.0000e-04  eta: 13:06:00  time: 1.0057  data_time: 0.6425  memory: 1526  grad_norm: 13.3685  loss: 0.8944  top1_acc: 1.0000  top5_acc: 1.0000  loss_cls: 0.8944\r\n"
     ]
    },
    {
     "name": "stdout",
     "output_type": "stream",
     "text": [
      "06/12 20:56:58 - mmengine - \u001b[4m\u001b[97mINFO\u001b[0m - Epoch(train) [1][ 6720/11818]  lr: 1.0000e-04  eta: 13:05:34  time: 1.1438  data_time: 0.7835  memory: 1526  grad_norm: 13.7922  loss: 0.8883  top1_acc: 0.2500  top5_acc: 1.0000  loss_cls: 0.8883\r\n"
     ]
    },
    {
     "name": "stdout",
     "output_type": "stream",
     "text": [
      "06/12 20:57:22 - mmengine - \u001b[4m\u001b[97mINFO\u001b[0m - Epoch(train) [1][ 6740/11818]  lr: 1.0000e-04  eta: 13:05:17  time: 1.2070  data_time: 0.8463  memory: 1526  grad_norm: 14.3369  loss: 0.9752  top1_acc: 1.0000  top5_acc: 1.0000  loss_cls: 0.9752\r\n"
     ]
    },
    {
     "name": "stdout",
     "output_type": "stream",
     "text": [
      "06/12 20:57:44 - mmengine - \u001b[4m\u001b[97mINFO\u001b[0m - Epoch(train) [1][ 6760/11818]  lr: 1.0000e-04  eta: 13:04:44  time: 1.0876  data_time: 0.7255  memory: 1526  grad_norm: 14.6586  loss: 1.0759  top1_acc: 1.0000  top5_acc: 1.0000  loss_cls: 1.0759\r\n"
     ]
    },
    {
     "name": "stdout",
     "output_type": "stream",
     "text": [
      "06/12 20:58:08 - mmengine - \u001b[4m\u001b[97mINFO\u001b[0m - Epoch(train) [1][ 6780/11818]  lr: 1.0000e-04  eta: 13:04:27  time: 1.2130  data_time: 0.8500  memory: 1526  grad_norm: 15.0381  loss: 1.0530  top1_acc: 0.5000  top5_acc: 0.7500  loss_cls: 1.0530\r\n"
     ]
    },
    {
     "name": "stdout",
     "output_type": "stream",
     "text": [
      "06/12 20:58:33 - mmengine - \u001b[4m\u001b[97mINFO\u001b[0m - Epoch(train) [1][ 6800/11818]  lr: 1.0000e-04  eta: 13:04:12  time: 1.2296  data_time: 0.8674  memory: 1526  grad_norm: 13.5208  loss: 0.7856  top1_acc: 1.0000  top5_acc: 1.0000  loss_cls: 0.7856\r\n"
     ]
    },
    {
     "name": "stdout",
     "output_type": "stream",
     "text": [
      "06/12 20:58:54 - mmengine - \u001b[4m\u001b[97mINFO\u001b[0m - Epoch(train) [1][ 6820/11818]  lr: 1.0000e-04  eta: 13:03:38  time: 1.0734  data_time: 0.7118  memory: 1526  grad_norm: 13.2915  loss: 0.9092  top1_acc: 0.2500  top5_acc: 1.0000  loss_cls: 0.9092\r\n"
     ]
    },
    {
     "name": "stdout",
     "output_type": "stream",
     "text": [
      "06/12 20:59:19 - mmengine - \u001b[4m\u001b[97mINFO\u001b[0m - Epoch(train) [1][ 6840/11818]  lr: 1.0000e-04  eta: 13:03:23  time: 1.2294  data_time: 0.8691  memory: 1526  grad_norm: 12.7727  loss: 0.7897  top1_acc: 0.5000  top5_acc: 0.7500  loss_cls: 0.7897\r\n"
     ]
    },
    {
     "name": "stdout",
     "output_type": "stream",
     "text": [
      "06/12 20:59:39 - mmengine - \u001b[4m\u001b[97mINFO\u001b[0m - Epoch(train) [1][ 6860/11818]  lr: 1.0000e-04  eta: 13:02:40  time: 0.9994  data_time: 0.6355  memory: 1526  grad_norm: 12.2554  loss: 0.7568  top1_acc: 1.0000  top5_acc: 1.0000  loss_cls: 0.7568\r\n"
     ]
    },
    {
     "name": "stdout",
     "output_type": "stream",
     "text": [
      "06/12 21:00:03 - mmengine - \u001b[4m\u001b[97mINFO\u001b[0m - Epoch(train) [1][ 6880/11818]  lr: 1.0000e-04  eta: 13:02:25  time: 1.2287  data_time: 0.8687  memory: 1526  grad_norm: 13.1720  loss: 0.7138  top1_acc: 1.0000  top5_acc: 1.0000  loss_cls: 0.7138\r\n"
     ]
    },
    {
     "name": "stdout",
     "output_type": "stream",
     "text": [
      "06/12 21:00:25 - mmengine - \u001b[4m\u001b[97mINFO\u001b[0m - Epoch(train) [1][ 6900/11818]  lr: 1.0000e-04  eta: 13:01:51  time: 1.0686  data_time: 0.7071  memory: 1526  grad_norm: 12.5734  loss: 0.8973  top1_acc: 0.5000  top5_acc: 1.0000  loss_cls: 0.8973\r\n"
     ]
    },
    {
     "name": "stdout",
     "output_type": "stream",
     "text": [
      "06/12 21:00:46 - mmengine - \u001b[4m\u001b[97mINFO\u001b[0m - Epoch(train) [1][ 6920/11818]  lr: 1.0000e-04  eta: 13:01:15  time: 1.0536  data_time: 0.6914  memory: 1526  grad_norm: 13.6333  loss: 0.8073  top1_acc: 0.7500  top5_acc: 1.0000  loss_cls: 0.8073\r\n"
     ]
    },
    {
     "name": "stdout",
     "output_type": "stream",
     "text": [
      "06/12 21:01:10 - mmengine - \u001b[4m\u001b[97mINFO\u001b[0m - Epoch(train) [1][ 6940/11818]  lr: 1.0000e-04  eta: 13:00:58  time: 1.2184  data_time: 0.8580  memory: 1526  grad_norm: 14.5878  loss: 0.9468  top1_acc: 0.7500  top5_acc: 1.0000  loss_cls: 0.9468\r\n"
     ]
    },
    {
     "name": "stdout",
     "output_type": "stream",
     "text": [
      "06/12 21:01:36 - mmengine - \u001b[4m\u001b[97mINFO\u001b[0m - Epoch(train) [1][ 6960/11818]  lr: 1.0000e-04  eta: 13:00:51  time: 1.3005  data_time: 0.9386  memory: 1526  grad_norm: 13.7842  loss: 0.7831  top1_acc: 1.0000  top5_acc: 1.0000  loss_cls: 0.7831\r\n"
     ]
    },
    {
     "name": "stdout",
     "output_type": "stream",
     "text": [
      "06/12 21:02:04 - mmengine - \u001b[4m\u001b[97mINFO\u001b[0m - Epoch(train) [1][ 6980/11818]  lr: 1.0000e-04  eta: 13:00:53  time: 1.3827  data_time: 1.0203  memory: 1526  grad_norm: 15.2801  loss: 0.8956  top1_acc: 0.2500  top5_acc: 1.0000  loss_cls: 0.8956\r\n"
     ]
    },
    {
     "name": "stdout",
     "output_type": "stream",
     "text": [
      "06/12 21:02:29 - mmengine - \u001b[4m\u001b[97mINFO\u001b[0m - Exp name: config_20230612_184603\r\n",
      "06/12 21:02:29 - mmengine - \u001b[4m\u001b[97mINFO\u001b[0m - Epoch(train) [1][ 7000/11818]  lr: 1.0000e-04  eta: 13:00:42  time: 1.2675  data_time: 0.9070  memory: 1526  grad_norm: 13.5746  loss: 0.7838  top1_acc: 0.5000  top5_acc: 1.0000  loss_cls: 0.7838\r\n"
     ]
    },
    {
     "name": "stdout",
     "output_type": "stream",
     "text": [
      "06/12 21:02:53 - mmengine - \u001b[4m\u001b[97mINFO\u001b[0m - Epoch(train) [1][ 7020/11818]  lr: 1.0000e-04  eta: 13:00:23  time: 1.1965  data_time: 0.8343  memory: 1526  grad_norm: 13.1126  loss: 0.7085  top1_acc: 0.7500  top5_acc: 1.0000  loss_cls: 0.7085\r\n"
     ]
    },
    {
     "name": "stdout",
     "output_type": "stream",
     "text": [
      "06/12 21:03:18 - mmengine - \u001b[4m\u001b[97mINFO\u001b[0m - Epoch(train) [1][ 7040/11818]  lr: 1.0000e-04  eta: 13:00:09  time: 1.2517  data_time: 0.8885  memory: 1526  grad_norm: 15.1236  loss: 0.8671  top1_acc: 0.7500  top5_acc: 1.0000  loss_cls: 0.8671\r\n"
     ]
    },
    {
     "name": "stdout",
     "output_type": "stream",
     "text": [
      "06/12 21:03:44 - mmengine - \u001b[4m\u001b[97mINFO\u001b[0m - Epoch(train) [1][ 7060/11818]  lr: 1.0000e-04  eta: 12:59:58  time: 1.2701  data_time: 0.9092  memory: 1526  grad_norm: 13.3288  loss: 0.9228  top1_acc: 0.7500  top5_acc: 1.0000  loss_cls: 0.9228\r\n"
     ]
    },
    {
     "name": "stdout",
     "output_type": "stream",
     "text": [
      "06/12 21:04:09 - mmengine - \u001b[4m\u001b[97mINFO\u001b[0m - Epoch(train) [1][ 7080/11818]  lr: 1.0000e-04  eta: 12:59:49  time: 1.2901  data_time: 0.9300  memory: 1526  grad_norm: 10.7384  loss: 0.6861  top1_acc: 0.7500  top5_acc: 1.0000  loss_cls: 0.6861\r\n"
     ]
    },
    {
     "name": "stdout",
     "output_type": "stream",
     "text": [
      "06/12 21:04:31 - mmengine - \u001b[4m\u001b[97mINFO\u001b[0m - Epoch(train) [1][ 7100/11818]  lr: 1.0000e-04  eta: 12:59:20  time: 1.1087  data_time: 0.7472  memory: 1526  grad_norm: 14.5974  loss: 0.9145  top1_acc: 0.7500  top5_acc: 1.0000  loss_cls: 0.9145\r\n"
     ]
    },
    {
     "name": "stdout",
     "output_type": "stream",
     "text": [
      "06/12 21:04:52 - mmengine - \u001b[4m\u001b[97mINFO\u001b[0m - Epoch(train) [1][ 7120/11818]  lr: 1.0000e-04  eta: 12:58:42  time: 1.0394  data_time: 0.6788  memory: 1526  grad_norm: 12.0611  loss: 0.6647  top1_acc: 0.7500  top5_acc: 1.0000  loss_cls: 0.6647\r\n"
     ]
    },
    {
     "name": "stdout",
     "output_type": "stream",
     "text": [
      "06/12 21:05:18 - mmengine - \u001b[4m\u001b[97mINFO\u001b[0m - Epoch(train) [1][ 7140/11818]  lr: 1.0000e-04  eta: 12:58:33  time: 1.2859  data_time: 0.9253  memory: 1526  grad_norm: 14.3288  loss: 0.9047  top1_acc: 0.7500  top5_acc: 0.7500  loss_cls: 0.9047\r\n"
     ]
    },
    {
     "name": "stdout",
     "output_type": "stream",
     "text": [
      "06/12 21:05:42 - mmengine - \u001b[4m\u001b[97mINFO\u001b[0m - Epoch(train) [1][ 7160/11818]  lr: 1.0000e-04  eta: 12:58:15  time: 1.2113  data_time: 0.8508  memory: 1526  grad_norm: 13.0760  loss: 0.6815  top1_acc: 0.7500  top5_acc: 0.7500  loss_cls: 0.6815\r\n"
     ]
    },
    {
     "name": "stdout",
     "output_type": "stream",
     "text": [
      "06/12 21:06:07 - mmengine - \u001b[4m\u001b[97mINFO\u001b[0m - Epoch(train) [1][ 7180/11818]  lr: 1.0000e-04  eta: 12:58:01  time: 1.2514  data_time: 0.8899  memory: 1526  grad_norm: 15.8057  loss: 0.8669  top1_acc: 0.7500  top5_acc: 1.0000  loss_cls: 0.8669\r\n"
     ]
    },
    {
     "name": "stdout",
     "output_type": "stream",
     "text": [
      "06/12 21:06:28 - mmengine - \u001b[4m\u001b[97mINFO\u001b[0m - Epoch(train) [1][ 7200/11818]  lr: 1.0000e-04  eta: 12:57:26  time: 1.0572  data_time: 0.6965  memory: 1526  grad_norm: 12.7257  loss: 0.7255  top1_acc: 0.7500  top5_acc: 1.0000  loss_cls: 0.7255\r\n"
     ]
    },
    {
     "name": "stdout",
     "output_type": "stream",
     "text": [
      "06/12 21:06:47 - mmengine - \u001b[4m\u001b[97mINFO\u001b[0m - Epoch(train) [1][ 7220/11818]  lr: 1.0000e-04  eta: 12:56:38  time: 0.9400  data_time: 0.5795  memory: 1526  grad_norm: 13.5583  loss: 0.8992  top1_acc: 1.0000  top5_acc: 1.0000  loss_cls: 0.8992\r\n"
     ]
    },
    {
     "name": "stdout",
     "output_type": "stream",
     "text": [
      "06/12 21:07:11 - mmengine - \u001b[4m\u001b[97mINFO\u001b[0m - Epoch(train) [1][ 7240/11818]  lr: 1.0000e-04  eta: 12:56:18  time: 1.1917  data_time: 0.8291  memory: 1526  grad_norm: 17.6311  loss: 1.1306  top1_acc: 0.2500  top5_acc: 0.7500  loss_cls: 1.1306\r\n"
     ]
    },
    {
     "name": "stdout",
     "output_type": "stream",
     "text": [
      "06/12 21:07:34 - mmengine - \u001b[4m\u001b[97mINFO\u001b[0m - Epoch(train) [1][ 7260/11818]  lr: 1.0000e-04  eta: 12:55:52  time: 1.1368  data_time: 0.7767  memory: 1526  grad_norm: 13.5254  loss: 0.7716  top1_acc: 1.0000  top5_acc: 1.0000  loss_cls: 0.7716\r\n"
     ]
    },
    {
     "name": "stdout",
     "output_type": "stream",
     "text": [
      "06/12 21:07:59 - mmengine - \u001b[4m\u001b[97mINFO\u001b[0m - Epoch(train) [1][ 7280/11818]  lr: 1.0000e-04  eta: 12:55:39  time: 1.2571  data_time: 0.8959  memory: 1526  grad_norm: 14.0901  loss: 0.8540  top1_acc: 1.0000  top5_acc: 1.0000  loss_cls: 0.8540\r\n"
     ]
    },
    {
     "name": "stdout",
     "output_type": "stream",
     "text": [
      "06/12 21:08:21 - mmengine - \u001b[4m\u001b[97mINFO\u001b[0m - Epoch(train) [1][ 7300/11818]  lr: 1.0000e-04  eta: 12:55:06  time: 1.0800  data_time: 0.7196  memory: 1526  grad_norm: 15.0953  loss: 0.8110  top1_acc: 0.7500  top5_acc: 1.0000  loss_cls: 0.8110\r\n"
     ]
    },
    {
     "name": "stdout",
     "output_type": "stream",
     "text": [
      "06/12 21:08:44 - mmengine - \u001b[4m\u001b[97mINFO\u001b[0m - Epoch(train) [1][ 7320/11818]  lr: 1.0000e-04  eta: 12:54:46  time: 1.1934  data_time: 0.8311  memory: 1526  grad_norm: 13.4617  loss: 0.7553  top1_acc: 0.7500  top5_acc: 1.0000  loss_cls: 0.7553\r\n"
     ]
    },
    {
     "name": "stdout",
     "output_type": "stream",
     "text": [
      "06/12 21:09:05 - mmengine - \u001b[4m\u001b[97mINFO\u001b[0m - Epoch(train) [1][ 7340/11818]  lr: 1.0000e-04  eta: 12:54:09  time: 1.0346  data_time: 0.6726  memory: 1526  grad_norm: 14.3512  loss: 0.7903  top1_acc: 0.7500  top5_acc: 1.0000  loss_cls: 0.7903\r\n"
     ]
    },
    {
     "name": "stdout",
     "output_type": "stream",
     "text": [
      "06/12 21:09:28 - mmengine - \u001b[4m\u001b[97mINFO\u001b[0m - Epoch(train) [1][ 7360/11818]  lr: 1.0000e-04  eta: 12:53:44  time: 1.1445  data_time: 0.7846  memory: 1526  grad_norm: 13.7978  loss: 0.8503  top1_acc: 0.7500  top5_acc: 1.0000  loss_cls: 0.8503\r\n"
     ]
    },
    {
     "name": "stdout",
     "output_type": "stream",
     "text": [
      "06/12 21:09:52 - mmengine - \u001b[4m\u001b[97mINFO\u001b[0m - Epoch(train) [1][ 7380/11818]  lr: 1.0000e-04  eta: 12:53:23  time: 1.1852  data_time: 0.8222  memory: 1526  grad_norm: 15.2722  loss: 0.8115  top1_acc: 0.7500  top5_acc: 1.0000  loss_cls: 0.8115\r\n"
     ]
    },
    {
     "name": "stdout",
     "output_type": "stream",
     "text": [
      "06/12 21:10:13 - mmengine - \u001b[4m\u001b[97mINFO\u001b[0m - Epoch(train) [1][ 7400/11818]  lr: 1.0000e-04  eta: 12:52:51  time: 1.0822  data_time: 0.7201  memory: 1526  grad_norm: 15.8635  loss: 0.9617  top1_acc: 0.5000  top5_acc: 1.0000  loss_cls: 0.9617\r\n"
     ]
    },
    {
     "name": "stdout",
     "output_type": "stream",
     "text": [
      "06/12 21:10:38 - mmengine - \u001b[4m\u001b[97mINFO\u001b[0m - Epoch(train) [1][ 7420/11818]  lr: 1.0000e-04  eta: 12:52:38  time: 1.2567  data_time: 0.8929  memory: 1526  grad_norm: 13.2399  loss: 0.7576  top1_acc: 0.5000  top5_acc: 1.0000  loss_cls: 0.7576\r\n"
     ]
    },
    {
     "name": "stdout",
     "output_type": "stream",
     "text": [
      "06/12 21:11:01 - mmengine - \u001b[4m\u001b[97mINFO\u001b[0m - Epoch(train) [1][ 7440/11818]  lr: 1.0000e-04  eta: 12:52:08  time: 1.1094  data_time: 0.7492  memory: 1526  grad_norm: 13.8200  loss: 0.7768  top1_acc: 0.7500  top5_acc: 1.0000  loss_cls: 0.7768\r\n"
     ]
    },
    {
     "name": "stdout",
     "output_type": "stream",
     "text": [
      "06/12 21:11:22 - mmengine - \u001b[4m\u001b[97mINFO\u001b[0m - Epoch(train) [1][ 7460/11818]  lr: 1.0000e-04  eta: 12:51:37  time: 1.0902  data_time: 0.7289  memory: 1526  grad_norm: 14.2788  loss: 0.8351  top1_acc: 1.0000  top5_acc: 1.0000  loss_cls: 0.8351\r\n"
     ]
    },
    {
     "name": "stdout",
     "output_type": "stream",
     "text": [
      "06/12 21:11:44 - mmengine - \u001b[4m\u001b[97mINFO\u001b[0m - Epoch(train) [1][ 7480/11818]  lr: 1.0000e-04  eta: 12:51:04  time: 1.0695  data_time: 0.7072  memory: 1526  grad_norm: 13.1678  loss: 0.6651  top1_acc: 1.0000  top5_acc: 1.0000  loss_cls: 0.6651\r\n"
     ]
    },
    {
     "name": "stdout",
     "output_type": "stream",
     "text": [
      "06/12 21:12:11 - mmengine - \u001b[4m\u001b[97mINFO\u001b[0m - Epoch(train) [1][ 7500/11818]  lr: 1.0000e-04  eta: 12:51:03  time: 1.3728  data_time: 1.0118  memory: 1526  grad_norm: 13.0662  loss: 0.8611  top1_acc: 0.7500  top5_acc: 1.0000  loss_cls: 0.8611\r\n"
     ]
    },
    {
     "name": "stdout",
     "output_type": "stream",
     "text": [
      "06/12 21:12:35 - mmengine - \u001b[4m\u001b[97mINFO\u001b[0m - Epoch(train) [1][ 7520/11818]  lr: 1.0000e-04  eta: 12:50:41  time: 1.1735  data_time: 0.8133  memory: 1526  grad_norm: 14.3968  loss: 0.8750  top1_acc: 1.0000  top5_acc: 1.0000  loss_cls: 0.8750\r\n"
     ]
    },
    {
     "name": "stdout",
     "output_type": "stream",
     "text": [
      "06/12 21:12:57 - mmengine - \u001b[4m\u001b[97mINFO\u001b[0m - Epoch(train) [1][ 7540/11818]  lr: 1.0000e-04  eta: 12:50:14  time: 1.1264  data_time: 0.7642  memory: 1526  grad_norm: 13.5934  loss: 0.8440  top1_acc: 0.5000  top5_acc: 1.0000  loss_cls: 0.8440\r\n"
     ]
    },
    {
     "name": "stdout",
     "output_type": "stream",
     "text": [
      "06/12 21:13:18 - mmengine - \u001b[4m\u001b[97mINFO\u001b[0m - Epoch(train) [1][ 7560/11818]  lr: 1.0000e-04  eta: 12:49:39  time: 1.0552  data_time: 0.6944  memory: 1526  grad_norm: 13.6999  loss: 0.8772  top1_acc: 1.0000  top5_acc: 1.0000  loss_cls: 0.8772\r\n"
     ]
    },
    {
     "name": "stdout",
     "output_type": "stream",
     "text": [
      "06/12 21:13:39 - mmengine - \u001b[4m\u001b[97mINFO\u001b[0m - Epoch(train) [1][ 7580/11818]  lr: 1.0000e-04  eta: 12:49:01  time: 1.0206  data_time: 0.6596  memory: 1526  grad_norm: 13.8501  loss: 0.8441  top1_acc: 0.5000  top5_acc: 1.0000  loss_cls: 0.8441\r\n"
     ]
    },
    {
     "name": "stdout",
     "output_type": "stream",
     "text": [
      "06/12 21:14:04 - mmengine - \u001b[4m\u001b[97mINFO\u001b[0m - Epoch(train) [1][ 7600/11818]  lr: 1.0000e-04  eta: 12:48:50  time: 1.2821  data_time: 0.9203  memory: 1526  grad_norm: 14.4672  loss: 1.0341  top1_acc: 0.2500  top5_acc: 0.7500  loss_cls: 1.0341\r\n"
     ]
    },
    {
     "name": "stdout",
     "output_type": "stream",
     "text": [
      "06/12 21:14:29 - mmengine - \u001b[4m\u001b[97mINFO\u001b[0m - Epoch(train) [1][ 7620/11818]  lr: 1.0000e-04  eta: 12:48:35  time: 1.2345  data_time: 0.8731  memory: 1526  grad_norm: 16.7332  loss: 0.9894  top1_acc: 0.5000  top5_acc: 1.0000  loss_cls: 0.9894\r\n"
     ]
    },
    {
     "name": "stdout",
     "output_type": "stream",
     "text": [
      "06/12 21:14:53 - mmengine - \u001b[4m\u001b[97mINFO\u001b[0m - Epoch(train) [1][ 7640/11818]  lr: 1.0000e-04  eta: 12:48:13  time: 1.1802  data_time: 0.8201  memory: 1526  grad_norm: 13.1585  loss: 0.7960  top1_acc: 0.7500  top5_acc: 1.0000  loss_cls: 0.7960\r\n"
     ]
    },
    {
     "name": "stdout",
     "output_type": "stream",
     "text": [
      "06/12 21:15:18 - mmengine - \u001b[4m\u001b[97mINFO\u001b[0m - Epoch(train) [1][ 7660/11818]  lr: 1.0000e-04  eta: 12:48:03  time: 1.2849  data_time: 0.9229  memory: 1526  grad_norm: 15.2410  loss: 0.9505  top1_acc: 1.0000  top5_acc: 1.0000  loss_cls: 0.9505\r\n"
     ]
    },
    {
     "name": "stdout",
     "output_type": "stream",
     "text": [
      "06/12 21:15:41 - mmengine - \u001b[4m\u001b[97mINFO\u001b[0m - Epoch(train) [1][ 7680/11818]  lr: 1.0000e-04  eta: 12:47:38  time: 1.1511  data_time: 0.7897  memory: 1526  grad_norm: 13.4696  loss: 0.8227  top1_acc: 0.7500  top5_acc: 1.0000  loss_cls: 0.8227\r\n"
     ]
    },
    {
     "name": "stdout",
     "output_type": "stream",
     "text": [
      "06/12 21:16:01 - mmengine - \u001b[4m\u001b[97mINFO\u001b[0m - Epoch(train) [1][ 7700/11818]  lr: 1.0000e-04  eta: 12:46:57  time: 0.9944  data_time: 0.6318  memory: 1526  grad_norm: 15.3440  loss: 1.0205  top1_acc: 1.0000  top5_acc: 1.0000  loss_cls: 1.0205\r\n"
     ]
    },
    {
     "name": "stdout",
     "output_type": "stream",
     "text": [
      "06/12 21:16:27 - mmengine - \u001b[4m\u001b[97mINFO\u001b[0m - Epoch(train) [1][ 7720/11818]  lr: 1.0000e-04  eta: 12:46:47  time: 1.2937  data_time: 0.9327  memory: 1526  grad_norm: 15.0736  loss: 0.7726  top1_acc: 1.0000  top5_acc: 1.0000  loss_cls: 0.7726\r\n"
     ]
    },
    {
     "name": "stdout",
     "output_type": "stream",
     "text": [
      "06/12 21:16:53 - mmengine - \u001b[4m\u001b[97mINFO\u001b[0m - Epoch(train) [1][ 7740/11818]  lr: 1.0000e-04  eta: 12:46:36  time: 1.2758  data_time: 0.9145  memory: 1526  grad_norm: 11.6514  loss: 0.5810  top1_acc: 0.5000  top5_acc: 1.0000  loss_cls: 0.5810\r\n"
     ]
    },
    {
     "name": "stdout",
     "output_type": "stream",
     "text": [
      "06/12 21:17:17 - mmengine - \u001b[4m\u001b[97mINFO\u001b[0m - Epoch(train) [1][ 7760/11818]  lr: 1.0000e-04  eta: 12:46:17  time: 1.2060  data_time: 0.8464  memory: 1526  grad_norm: 16.0405  loss: 0.9311  top1_acc: 0.7500  top5_acc: 1.0000  loss_cls: 0.9311\r\n"
     ]
    },
    {
     "name": "stdout",
     "output_type": "stream",
     "text": [
      "06/12 21:17:39 - mmengine - \u001b[4m\u001b[97mINFO\u001b[0m - Epoch(train) [1][ 7780/11818]  lr: 1.0000e-04  eta: 12:45:46  time: 1.0936  data_time: 0.7337  memory: 1526  grad_norm: 15.2557  loss: 0.8741  top1_acc: 0.7500  top5_acc: 1.0000  loss_cls: 0.8741\r\n"
     ]
    },
    {
     "name": "stdout",
     "output_type": "stream",
     "text": [
      "06/12 21:17:59 - mmengine - \u001b[4m\u001b[97mINFO\u001b[0m - Epoch(train) [1][ 7800/11818]  lr: 1.0000e-04  eta: 12:45:08  time: 1.0117  data_time: 0.6505  memory: 1526  grad_norm: 12.9517  loss: 0.7820  top1_acc: 0.2500  top5_acc: 1.0000  loss_cls: 0.7820\r\n"
     ]
    },
    {
     "name": "stdout",
     "output_type": "stream",
     "text": [
      "06/12 21:18:25 - mmengine - \u001b[4m\u001b[97mINFO\u001b[0m - Epoch(train) [1][ 7820/11818]  lr: 1.0000e-04  eta: 12:45:00  time: 1.3132  data_time: 0.9505  memory: 1526  grad_norm: 14.5876  loss: 0.7825  top1_acc: 0.7500  top5_acc: 1.0000  loss_cls: 0.7825\r\n"
     ]
    },
    {
     "name": "stdout",
     "output_type": "stream",
     "text": [
      "06/12 21:18:48 - mmengine - \u001b[4m\u001b[97mINFO\u001b[0m - Epoch(train) [1][ 7840/11818]  lr: 1.0000e-04  eta: 12:44:32  time: 1.1215  data_time: 0.7613  memory: 1526  grad_norm: 14.7768  loss: 0.9209  top1_acc: 0.7500  top5_acc: 1.0000  loss_cls: 0.9209\r\n"
     ]
    },
    {
     "name": "stdout",
     "output_type": "stream",
     "text": [
      "06/12 21:19:09 - mmengine - \u001b[4m\u001b[97mINFO\u001b[0m - Epoch(train) [1][ 7860/11818]  lr: 1.0000e-04  eta: 12:44:01  time: 1.0808  data_time: 0.7174  memory: 1526  grad_norm: 14.4032  loss: 0.9335  top1_acc: 0.5000  top5_acc: 1.0000  loss_cls: 0.9335\r\n"
     ]
    },
    {
     "name": "stdout",
     "output_type": "stream",
     "text": [
      "06/12 21:19:31 - mmengine - \u001b[4m\u001b[97mINFO\u001b[0m - Epoch(train) [1][ 7880/11818]  lr: 1.0000e-04  eta: 12:43:29  time: 1.0810  data_time: 0.7199  memory: 1526  grad_norm: 17.9709  loss: 1.0260  top1_acc: 0.7500  top5_acc: 1.0000  loss_cls: 1.0260\r\n"
     ]
    },
    {
     "name": "stdout",
     "output_type": "stream",
     "text": [
      "06/12 21:19:53 - mmengine - \u001b[4m\u001b[97mINFO\u001b[0m - Epoch(train) [1][ 7900/11818]  lr: 1.0000e-04  eta: 12:43:02  time: 1.1234  data_time: 0.7626  memory: 1526  grad_norm: 13.4227  loss: 0.7719  top1_acc: 0.7500  top5_acc: 0.7500  loss_cls: 0.7719\r\n"
     ]
    },
    {
     "name": "stdout",
     "output_type": "stream",
     "text": [
      "06/12 21:20:19 - mmengine - \u001b[4m\u001b[97mINFO\u001b[0m - Epoch(train) [1][ 7920/11818]  lr: 1.0000e-04  eta: 12:42:49  time: 1.2615  data_time: 0.8997  memory: 1526  grad_norm: 14.3683  loss: 0.8404  top1_acc: 0.7500  top5_acc: 1.0000  loss_cls: 0.8404\r\n"
     ]
    },
    {
     "name": "stdout",
     "output_type": "stream",
     "text": [
      "06/12 21:20:41 - mmengine - \u001b[4m\u001b[97mINFO\u001b[0m - Epoch(train) [1][ 7940/11818]  lr: 1.0000e-04  eta: 12:42:20  time: 1.1095  data_time: 0.7486  memory: 1526  grad_norm: 14.9053  loss: 0.8166  top1_acc: 1.0000  top5_acc: 1.0000  loss_cls: 0.8166\r\n"
     ]
    },
    {
     "name": "stdout",
     "output_type": "stream",
     "text": [
      "06/12 21:21:05 - mmengine - \u001b[4m\u001b[97mINFO\u001b[0m - Epoch(train) [1][ 7960/11818]  lr: 1.0000e-04  eta: 12:41:59  time: 1.1856  data_time: 0.8243  memory: 1526  grad_norm: 16.7746  loss: 0.9165  top1_acc: 0.7500  top5_acc: 1.0000  loss_cls: 0.9165\r\n"
     ]
    },
    {
     "name": "stdout",
     "output_type": "stream",
     "text": [
      "06/12 21:21:29 - mmengine - \u001b[4m\u001b[97mINFO\u001b[0m - Epoch(train) [1][ 7980/11818]  lr: 1.0000e-04  eta: 12:41:42  time: 1.2299  data_time: 0.8699  memory: 1526  grad_norm: 16.7827  loss: 0.9653  top1_acc: 0.5000  top5_acc: 0.7500  loss_cls: 0.9653\r\n"
     ]
    },
    {
     "name": "stdout",
     "output_type": "stream",
     "text": [
      "06/12 21:21:52 - mmengine - \u001b[4m\u001b[97mINFO\u001b[0m - Exp name: config_20230612_184603\r\n",
      "06/12 21:21:52 - mmengine - \u001b[4m\u001b[97mINFO\u001b[0m - Epoch(train) [1][ 8000/11818]  lr: 1.0000e-04  eta: 12:41:17  time: 1.1399  data_time: 0.7789  memory: 1526  grad_norm: 13.3204  loss: 0.8384  top1_acc: 1.0000  top5_acc: 1.0000  loss_cls: 0.8384\r\n"
     ]
    },
    {
     "name": "stdout",
     "output_type": "stream",
     "text": [
      "06/12 21:22:15 - mmengine - \u001b[4m\u001b[97mINFO\u001b[0m - Epoch(train) [1][ 8020/11818]  lr: 1.0000e-04  eta: 12:40:50  time: 1.1328  data_time: 0.7718  memory: 1526  grad_norm: 12.2199  loss: 0.7685  top1_acc: 0.7500  top5_acc: 0.7500  loss_cls: 0.7685\r\n"
     ]
    },
    {
     "name": "stdout",
     "output_type": "stream",
     "text": [
      "06/12 21:22:40 - mmengine - \u001b[4m\u001b[97mINFO\u001b[0m - Epoch(train) [1][ 8040/11818]  lr: 1.0000e-04  eta: 12:40:39  time: 1.2881  data_time: 0.9270  memory: 1526  grad_norm: 14.8809  loss: 1.0391  top1_acc: 0.2500  top5_acc: 1.0000  loss_cls: 1.0391\r\n"
     ]
    },
    {
     "name": "stdout",
     "output_type": "stream",
     "text": [
      "06/12 21:23:01 - mmengine - \u001b[4m\u001b[97mINFO\u001b[0m - Epoch(train) [1][ 8060/11818]  lr: 1.0000e-04  eta: 12:40:05  time: 1.0528  data_time: 0.6931  memory: 1526  grad_norm: 12.5303  loss: 0.7357  top1_acc: 1.0000  top5_acc: 1.0000  loss_cls: 0.7357\r\n"
     ]
    },
    {
     "name": "stdout",
     "output_type": "stream",
     "text": [
      "06/12 21:23:20 - mmengine - \u001b[4m\u001b[97mINFO\u001b[0m - Epoch(train) [1][ 8080/11818]  lr: 1.0000e-04  eta: 12:39:20  time: 0.9384  data_time: 0.5767  memory: 1526  grad_norm: 13.1814  loss: 0.6368  top1_acc: 0.5000  top5_acc: 1.0000  loss_cls: 0.6368\r\n"
     ]
    },
    {
     "name": "stdout",
     "output_type": "stream",
     "text": [
      "06/12 21:23:46 - mmengine - \u001b[4m\u001b[97mINFO\u001b[0m - Epoch(train) [1][ 8100/11818]  lr: 1.0000e-04  eta: 12:39:09  time: 1.2897  data_time: 0.9281  memory: 1526  grad_norm: 14.6778  loss: 0.8739  top1_acc: 1.0000  top5_acc: 1.0000  loss_cls: 0.8739\r\n"
     ]
    },
    {
     "name": "stdout",
     "output_type": "stream",
     "text": [
      "06/12 21:24:05 - mmengine - \u001b[4m\u001b[97mINFO\u001b[0m - Epoch(train) [1][ 8120/11818]  lr: 1.0000e-04  eta: 12:38:28  time: 0.9726  data_time: 0.6116  memory: 1526  grad_norm: 12.1550  loss: 0.5935  top1_acc: 0.5000  top5_acc: 1.0000  loss_cls: 0.5935\r\n"
     ]
    },
    {
     "name": "stdout",
     "output_type": "stream",
     "text": [
      "06/12 21:24:30 - mmengine - \u001b[4m\u001b[97mINFO\u001b[0m - Epoch(train) [1][ 8140/11818]  lr: 1.0000e-04  eta: 12:38:09  time: 1.2047  data_time: 0.8438  memory: 1526  grad_norm: 16.2202  loss: 0.8896  top1_acc: 0.7500  top5_acc: 1.0000  loss_cls: 0.8896\r\n"
     ]
    },
    {
     "name": "stdout",
     "output_type": "stream",
     "text": [
      "06/12 21:24:50 - mmengine - \u001b[4m\u001b[97mINFO\u001b[0m - Epoch(train) [1][ 8160/11818]  lr: 1.0000e-04  eta: 12:37:33  time: 1.0365  data_time: 0.6737  memory: 1526  grad_norm: 11.3694  loss: 0.6594  top1_acc: 1.0000  top5_acc: 1.0000  loss_cls: 0.6594\r\n"
     ]
    },
    {
     "name": "stdout",
     "output_type": "stream",
     "text": [
      "06/12 21:25:14 - mmengine - \u001b[4m\u001b[97mINFO\u001b[0m - Epoch(train) [1][ 8180/11818]  lr: 1.0000e-04  eta: 12:37:13  time: 1.1932  data_time: 0.8333  memory: 1526  grad_norm: 15.2391  loss: 0.7950  top1_acc: 0.5000  top5_acc: 1.0000  loss_cls: 0.7950\r\n"
     ]
    },
    {
     "name": "stdout",
     "output_type": "stream",
     "text": [
      "06/12 21:25:36 - mmengine - \u001b[4m\u001b[97mINFO\u001b[0m - Epoch(train) [1][ 8200/11818]  lr: 1.0000e-04  eta: 12:36:43  time: 1.0952  data_time: 0.7347  memory: 1526  grad_norm: 13.8586  loss: 0.8213  top1_acc: 0.7500  top5_acc: 1.0000  loss_cls: 0.8213\r\n"
     ]
    },
    {
     "name": "stdout",
     "output_type": "stream",
     "text": [
      "06/12 21:25:59 - mmengine - \u001b[4m\u001b[97mINFO\u001b[0m - Epoch(train) [1][ 8220/11818]  lr: 1.0000e-04  eta: 12:36:18  time: 1.1415  data_time: 0.7786  memory: 1526  grad_norm: 14.8236  loss: 0.8586  top1_acc: 1.0000  top5_acc: 1.0000  loss_cls: 0.8586\r\n"
     ]
    },
    {
     "name": "stdout",
     "output_type": "stream",
     "text": [
      "06/12 21:26:23 - mmengine - \u001b[4m\u001b[97mINFO\u001b[0m - Epoch(train) [1][ 8240/11818]  lr: 1.0000e-04  eta: 12:36:00  time: 1.2113  data_time: 0.8501  memory: 1526  grad_norm: 15.5256  loss: 0.8725  top1_acc: 0.5000  top5_acc: 1.0000  loss_cls: 0.8725\r\n"
     ]
    },
    {
     "name": "stdout",
     "output_type": "stream",
     "text": [
      "06/12 21:26:44 - mmengine - \u001b[4m\u001b[97mINFO\u001b[0m - Epoch(train) [1][ 8260/11818]  lr: 1.0000e-04  eta: 12:35:27  time: 1.0619  data_time: 0.7020  memory: 1526  grad_norm: 16.2308  loss: 0.9327  top1_acc: 0.7500  top5_acc: 1.0000  loss_cls: 0.9327\r\n"
     ]
    },
    {
     "name": "stdout",
     "output_type": "stream",
     "text": [
      "06/12 21:27:06 - mmengine - \u001b[4m\u001b[97mINFO\u001b[0m - Epoch(train) [1][ 8280/11818]  lr: 1.0000e-04  eta: 12:34:56  time: 1.0769  data_time: 0.7152  memory: 1526  grad_norm: 14.8981  loss: 0.6889  top1_acc: 0.5000  top5_acc: 1.0000  loss_cls: 0.6889\r\n"
     ]
    },
    {
     "name": "stdout",
     "output_type": "stream",
     "text": [
      "06/12 21:27:32 - mmengine - \u001b[4m\u001b[97mINFO\u001b[0m - Epoch(train) [1][ 8300/11818]  lr: 1.0000e-04  eta: 12:34:47  time: 1.3116  data_time: 0.9500  memory: 1526  grad_norm: 14.9507  loss: 0.9102  top1_acc: 0.5000  top5_acc: 1.0000  loss_cls: 0.9102\r\n"
     ]
    },
    {
     "name": "stdout",
     "output_type": "stream",
     "text": [
      "06/12 21:28:02 - mmengine - \u001b[4m\u001b[97mINFO\u001b[0m - Epoch(train) [1][ 8320/11818]  lr: 1.0000e-04  eta: 12:34:53  time: 1.4832  data_time: 1.1207  memory: 1526  grad_norm: 17.8081  loss: 1.0394  top1_acc: 0.7500  top5_acc: 1.0000  loss_cls: 1.0394\r\n"
     ]
    },
    {
     "name": "stdout",
     "output_type": "stream",
     "text": [
      "06/12 21:28:29 - mmengine - \u001b[4m\u001b[97mINFO\u001b[0m - Epoch(train) [1][ 8340/11818]  lr: 1.0000e-04  eta: 12:34:50  time: 1.3802  data_time: 1.0168  memory: 1526  grad_norm: 13.1919  loss: 0.7716  top1_acc: 1.0000  top5_acc: 1.0000  loss_cls: 0.7716\r\n"
     ]
    },
    {
     "name": "stdout",
     "output_type": "stream",
     "text": [
      "06/12 21:28:52 - mmengine - \u001b[4m\u001b[97mINFO\u001b[0m - Epoch(train) [1][ 8360/11818]  lr: 1.0000e-04  eta: 12:34:26  time: 1.1480  data_time: 0.7865  memory: 1526  grad_norm: 13.7689  loss: 0.8644  top1_acc: 0.7500  top5_acc: 0.7500  loss_cls: 0.8644\r\n"
     ]
    },
    {
     "name": "stdout",
     "output_type": "stream",
     "text": [
      "06/12 21:29:16 - mmengine - \u001b[4m\u001b[97mINFO\u001b[0m - Epoch(train) [1][ 8380/11818]  lr: 1.0000e-04  eta: 12:34:06  time: 1.2048  data_time: 0.8420  memory: 1526  grad_norm: 16.6685  loss: 0.9570  top1_acc: 0.5000  top5_acc: 1.0000  loss_cls: 0.9570\r\n"
     ]
    },
    {
     "name": "stdout",
     "output_type": "stream",
     "text": [
      "06/12 21:29:40 - mmengine - \u001b[4m\u001b[97mINFO\u001b[0m - Epoch(train) [1][ 8400/11818]  lr: 1.0000e-04  eta: 12:33:45  time: 1.1880  data_time: 0.8266  memory: 1526  grad_norm: 15.8925  loss: 0.7952  top1_acc: 1.0000  top5_acc: 1.0000  loss_cls: 0.7952\r\n"
     ]
    },
    {
     "name": "stdout",
     "output_type": "stream",
     "text": [
      "06/12 21:30:03 - mmengine - \u001b[4m\u001b[97mINFO\u001b[0m - Epoch(train) [1][ 8420/11818]  lr: 1.0000e-04  eta: 12:33:20  time: 1.1401  data_time: 0.7760  memory: 1526  grad_norm: 12.4155  loss: 0.6980  top1_acc: 1.0000  top5_acc: 1.0000  loss_cls: 0.6980\r\n"
     ]
    },
    {
     "name": "stdout",
     "output_type": "stream",
     "text": [
      "06/12 21:30:26 - mmengine - \u001b[4m\u001b[97mINFO\u001b[0m - Epoch(train) [1][ 8440/11818]  lr: 1.0000e-04  eta: 12:32:56  time: 1.1558  data_time: 0.7940  memory: 1526  grad_norm: 16.2738  loss: 0.9221  top1_acc: 1.0000  top5_acc: 1.0000  loss_cls: 0.9221\r\n"
     ]
    },
    {
     "name": "stdout",
     "output_type": "stream",
     "text": [
      "06/12 21:30:49 - mmengine - \u001b[4m\u001b[97mINFO\u001b[0m - Epoch(train) [1][ 8460/11818]  lr: 1.0000e-04  eta: 12:32:31  time: 1.1506  data_time: 0.7881  memory: 1526  grad_norm: 14.4263  loss: 0.7609  top1_acc: 0.7500  top5_acc: 1.0000  loss_cls: 0.7609\r\n"
     ]
    },
    {
     "name": "stdout",
     "output_type": "stream",
     "text": [
      "06/12 21:31:12 - mmengine - \u001b[4m\u001b[97mINFO\u001b[0m - Epoch(train) [1][ 8480/11818]  lr: 1.0000e-04  eta: 12:32:05  time: 1.1240  data_time: 0.7633  memory: 1526  grad_norm: 15.3198  loss: 0.8918  top1_acc: 1.0000  top5_acc: 1.0000  loss_cls: 0.8918\r\n"
     ]
    },
    {
     "name": "stdout",
     "output_type": "stream",
     "text": [
      "06/12 21:31:38 - mmengine - \u001b[4m\u001b[97mINFO\u001b[0m - Epoch(train) [1][ 8500/11818]  lr: 1.0000e-04  eta: 12:31:57  time: 1.3331  data_time: 0.9724  memory: 1526  grad_norm: 17.2839  loss: 0.9263  top1_acc: 0.5000  top5_acc: 1.0000  loss_cls: 0.9263\r\n"
     ]
    },
    {
     "name": "stdout",
     "output_type": "stream",
     "text": [
      "06/12 21:32:00 - mmengine - \u001b[4m\u001b[97mINFO\u001b[0m - Epoch(train) [1][ 8520/11818]  lr: 1.0000e-04  eta: 12:31:27  time: 1.0896  data_time: 0.7294  memory: 1526  grad_norm: 15.6764  loss: 0.9369  top1_acc: 0.5000  top5_acc: 1.0000  loss_cls: 0.9369\r\n"
     ]
    },
    {
     "name": "stdout",
     "output_type": "stream",
     "text": [
      "06/12 21:32:22 - mmengine - \u001b[4m\u001b[97mINFO\u001b[0m - Epoch(train) [1][ 8540/11818]  lr: 1.0000e-04  eta: 12:31:00  time: 1.1206  data_time: 0.7578  memory: 1526  grad_norm: 13.8833  loss: 0.7532  top1_acc: 0.7500  top5_acc: 1.0000  loss_cls: 0.7532\r\n"
     ]
    },
    {
     "name": "stdout",
     "output_type": "stream",
     "text": [
      "06/12 21:32:46 - mmengine - \u001b[4m\u001b[97mINFO\u001b[0m - Epoch(train) [1][ 8560/11818]  lr: 1.0000e-04  eta: 12:30:39  time: 1.1954  data_time: 0.8353  memory: 1526  grad_norm: 15.6631  loss: 0.8935  top1_acc: 1.0000  top5_acc: 1.0000  loss_cls: 0.8935\r\n"
     ]
    },
    {
     "name": "stdout",
     "output_type": "stream",
     "text": [
      "06/12 21:33:05 - mmengine - \u001b[4m\u001b[97mINFO\u001b[0m - Epoch(train) [1][ 8580/11818]  lr: 1.0000e-04  eta: 12:29:56  time: 0.9363  data_time: 0.5758  memory: 1526  grad_norm: 16.1352  loss: 1.0269  top1_acc: 0.5000  top5_acc: 1.0000  loss_cls: 1.0269\r\n"
     ]
    },
    {
     "name": "stdout",
     "output_type": "stream",
     "text": [
      "06/12 21:33:30 - mmengine - \u001b[4m\u001b[97mINFO\u001b[0m - Epoch(train) [1][ 8600/11818]  lr: 1.0000e-04  eta: 12:29:40  time: 1.2510  data_time: 0.8887  memory: 1526  grad_norm: 18.0716  loss: 1.1230  top1_acc: 1.0000  top5_acc: 1.0000  loss_cls: 1.1230\r\n"
     ]
    },
    {
     "name": "stdout",
     "output_type": "stream",
     "text": [
      "06/12 21:33:53 - mmengine - \u001b[4m\u001b[97mINFO\u001b[0m - Epoch(train) [1][ 8620/11818]  lr: 1.0000e-04  eta: 12:29:17  time: 1.1596  data_time: 0.7982  memory: 1526  grad_norm: 15.9412  loss: 0.9093  top1_acc: 0.7500  top5_acc: 1.0000  loss_cls: 0.9093\r\n"
     ]
    },
    {
     "name": "stdout",
     "output_type": "stream",
     "text": [
      "06/12 21:34:14 - mmengine - \u001b[4m\u001b[97mINFO\u001b[0m - Epoch(train) [1][ 8640/11818]  lr: 1.0000e-04  eta: 12:28:40  time: 1.0102  data_time: 0.6495  memory: 1526  grad_norm: 14.8346  loss: 0.9139  top1_acc: 0.7500  top5_acc: 1.0000  loss_cls: 0.9139\r\n"
     ]
    },
    {
     "name": "stdout",
     "output_type": "stream",
     "text": [
      "06/12 21:34:37 - mmengine - \u001b[4m\u001b[97mINFO\u001b[0m - Epoch(train) [1][ 8660/11818]  lr: 1.0000e-04  eta: 12:28:17  time: 1.1705  data_time: 0.8093  memory: 1526  grad_norm: 14.5222  loss: 0.8161  top1_acc: 1.0000  top5_acc: 1.0000  loss_cls: 0.8161\r\n"
     ]
    },
    {
     "name": "stdout",
     "output_type": "stream",
     "text": [
      "06/12 21:35:02 - mmengine - \u001b[4m\u001b[97mINFO\u001b[0m - Epoch(train) [1][ 8680/11818]  lr: 1.0000e-04  eta: 12:28:03  time: 1.2623  data_time: 0.9010  memory: 1526  grad_norm: 14.8479  loss: 0.8191  top1_acc: 0.7500  top5_acc: 1.0000  loss_cls: 0.8191\r\n"
     ]
    },
    {
     "name": "stdout",
     "output_type": "stream",
     "text": [
      "06/12 21:35:24 - mmengine - \u001b[4m\u001b[97mINFO\u001b[0m - Epoch(train) [1][ 8700/11818]  lr: 1.0000e-04  eta: 12:27:34  time: 1.1027  data_time: 0.7424  memory: 1526  grad_norm: 16.2370  loss: 0.8320  top1_acc: 0.7500  top5_acc: 1.0000  loss_cls: 0.8320\r\n"
     ]
    },
    {
     "name": "stdout",
     "output_type": "stream",
     "text": [
      "06/12 21:35:44 - mmengine - \u001b[4m\u001b[97mINFO\u001b[0m - Epoch(train) [1][ 8720/11818]  lr: 1.0000e-04  eta: 12:26:57  time: 1.0022  data_time: 0.6425  memory: 1526  grad_norm: 15.9710  loss: 0.9096  top1_acc: 1.0000  top5_acc: 1.0000  loss_cls: 0.9096\r\n"
     ]
    },
    {
     "name": "stdout",
     "output_type": "stream",
     "text": [
      "06/12 21:36:07 - mmengine - \u001b[4m\u001b[97mINFO\u001b[0m - Epoch(train) [1][ 8740/11818]  lr: 1.0000e-04  eta: 12:26:29  time: 1.1125  data_time: 0.7507  memory: 1526  grad_norm: 15.1809  loss: 0.8821  top1_acc: 0.5000  top5_acc: 0.7500  loss_cls: 0.8821\r\n"
     ]
    },
    {
     "name": "stdout",
     "output_type": "stream",
     "text": [
      "06/12 21:36:29 - mmengine - \u001b[4m\u001b[97mINFO\u001b[0m - Epoch(train) [1][ 8760/11818]  lr: 1.0000e-04  eta: 12:26:03  time: 1.1283  data_time: 0.7672  memory: 1526  grad_norm: 15.0998  loss: 0.8742  top1_acc: 0.2500  top5_acc: 1.0000  loss_cls: 0.8742\r\n"
     ]
    },
    {
     "name": "stdout",
     "output_type": "stream",
     "text": [
      "06/12 21:36:49 - mmengine - \u001b[4m\u001b[97mINFO\u001b[0m - Epoch(train) [1][ 8780/11818]  lr: 1.0000e-04  eta: 12:25:25  time: 0.9977  data_time: 0.6377  memory: 1526  grad_norm: 12.3995  loss: 0.7498  top1_acc: 0.7500  top5_acc: 1.0000  loss_cls: 0.7498\r\n"
     ]
    },
    {
     "name": "stdout",
     "output_type": "stream",
     "text": [
      "06/12 21:37:11 - mmengine - \u001b[4m\u001b[97mINFO\u001b[0m - Epoch(train) [1][ 8800/11818]  lr: 1.0000e-04  eta: 12:24:56  time: 1.0928  data_time: 0.7318  memory: 1526  grad_norm: 14.7238  loss: 0.9839  top1_acc: 0.7500  top5_acc: 1.0000  loss_cls: 0.9839\r\n"
     ]
    },
    {
     "name": "stdout",
     "output_type": "stream",
     "text": [
      "06/12 21:37:37 - mmengine - \u001b[4m\u001b[97mINFO\u001b[0m - Epoch(train) [1][ 8820/11818]  lr: 1.0000e-04  eta: 12:24:44  time: 1.2918  data_time: 0.9293  memory: 1526  grad_norm: 16.6390  loss: 0.9351  top1_acc: 0.7500  top5_acc: 1.0000  loss_cls: 0.9351\r\n"
     ]
    },
    {
     "name": "stdout",
     "output_type": "stream",
     "text": [
      "06/12 21:38:00 - mmengine - \u001b[4m\u001b[97mINFO\u001b[0m - Epoch(train) [1][ 8840/11818]  lr: 1.0000e-04  eta: 12:24:19  time: 1.1477  data_time: 0.7871  memory: 1526  grad_norm: 14.2484  loss: 0.8069  top1_acc: 1.0000  top5_acc: 1.0000  loss_cls: 0.8069\r\n"
     ]
    },
    {
     "name": "stdout",
     "output_type": "stream",
     "text": [
      "06/12 21:38:23 - mmengine - \u001b[4m\u001b[97mINFO\u001b[0m - Epoch(train) [1][ 8860/11818]  lr: 1.0000e-04  eta: 12:23:55  time: 1.1447  data_time: 0.7848  memory: 1526  grad_norm: 14.3495  loss: 0.7577  top1_acc: 0.5000  top5_acc: 1.0000  loss_cls: 0.7577\r\n"
     ]
    },
    {
     "name": "stdout",
     "output_type": "stream",
     "text": [
      "06/12 21:38:46 - mmengine - \u001b[4m\u001b[97mINFO\u001b[0m - Epoch(train) [1][ 8880/11818]  lr: 1.0000e-04  eta: 12:23:34  time: 1.1960  data_time: 0.8338  memory: 1526  grad_norm: 12.7984  loss: 0.7776  top1_acc: 1.0000  top5_acc: 1.0000  loss_cls: 0.7776\r\n"
     ]
    },
    {
     "name": "stdout",
     "output_type": "stream",
     "text": [
      "06/12 21:39:06 - mmengine - \u001b[4m\u001b[97mINFO\u001b[0m - Epoch(train) [1][ 8900/11818]  lr: 1.0000e-04  eta: 12:22:56  time: 0.9924  data_time: 0.6291  memory: 1526  grad_norm: 16.1876  loss: 0.8808  top1_acc: 0.5000  top5_acc: 1.0000  loss_cls: 0.8808\r\n"
     ]
    },
    {
     "name": "stdout",
     "output_type": "stream",
     "text": [
      "06/12 21:39:26 - mmengine - \u001b[4m\u001b[97mINFO\u001b[0m - Epoch(train) [1][ 8920/11818]  lr: 1.0000e-04  eta: 12:22:19  time: 0.9969  data_time: 0.6368  memory: 1526  grad_norm: 14.2179  loss: 0.7648  top1_acc: 0.2500  top5_acc: 1.0000  loss_cls: 0.7648\r\n"
     ]
    },
    {
     "name": "stdout",
     "output_type": "stream",
     "text": [
      "06/12 21:39:48 - mmengine - \u001b[4m\u001b[97mINFO\u001b[0m - Epoch(train) [1][ 8940/11818]  lr: 1.0000e-04  eta: 12:21:50  time: 1.0912  data_time: 0.7307  memory: 1526  grad_norm: 15.5858  loss: 0.8026  top1_acc: 0.7500  top5_acc: 0.7500  loss_cls: 0.8026\r\n"
     ]
    },
    {
     "name": "stdout",
     "output_type": "stream",
     "text": [
      "06/12 21:40:11 - mmengine - \u001b[4m\u001b[97mINFO\u001b[0m - Epoch(train) [1][ 8960/11818]  lr: 1.0000e-04  eta: 12:21:24  time: 1.1272  data_time: 0.7664  memory: 1526  grad_norm: 15.3671  loss: 0.6844  top1_acc: 1.0000  top5_acc: 1.0000  loss_cls: 0.6844\r\n"
     ]
    },
    {
     "name": "stdout",
     "output_type": "stream",
     "text": [
      "06/12 21:40:33 - mmengine - \u001b[4m\u001b[97mINFO\u001b[0m - Epoch(train) [1][ 8980/11818]  lr: 1.0000e-04  eta: 12:20:57  time: 1.1189  data_time: 0.7576  memory: 1526  grad_norm: 13.7498  loss: 0.6879  top1_acc: 1.0000  top5_acc: 1.0000  loss_cls: 0.6879\r\n"
     ]
    },
    {
     "name": "stdout",
     "output_type": "stream",
     "text": [
      "06/12 21:40:56 - mmengine - \u001b[4m\u001b[97mINFO\u001b[0m - Exp name: config_20230612_184603\r\n",
      "06/12 21:40:56 - mmengine - \u001b[4m\u001b[97mINFO\u001b[0m - Epoch(train) [1][ 9000/11818]  lr: 1.0000e-04  eta: 12:20:32  time: 1.1384  data_time: 0.7772  memory: 1526  grad_norm: 13.1746  loss: 0.7169  top1_acc: 1.0000  top5_acc: 1.0000  loss_cls: 0.7169\r\n"
     ]
    },
    {
     "name": "stdout",
     "output_type": "stream",
     "text": [
      "06/12 21:41:21 - mmengine - \u001b[4m\u001b[97mINFO\u001b[0m - Epoch(train) [1][ 9020/11818]  lr: 1.0000e-04  eta: 12:20:18  time: 1.2750  data_time: 0.9140  memory: 1526  grad_norm: 15.2290  loss: 0.7076  top1_acc: 1.0000  top5_acc: 1.0000  loss_cls: 0.7076\r\n"
     ]
    },
    {
     "name": "stdout",
     "output_type": "stream",
     "text": [
      "06/12 21:41:46 - mmengine - \u001b[4m\u001b[97mINFO\u001b[0m - Epoch(train) [1][ 9040/11818]  lr: 1.0000e-04  eta: 12:20:00  time: 1.2189  data_time: 0.8582  memory: 1526  grad_norm: 13.9066  loss: 0.8647  top1_acc: 0.7500  top5_acc: 0.7500  loss_cls: 0.8647\r\n"
     ]
    },
    {
     "name": "stdout",
     "output_type": "stream",
     "text": [
      "06/12 21:42:09 - mmengine - \u001b[4m\u001b[97mINFO\u001b[0m - Epoch(train) [1][ 9060/11818]  lr: 1.0000e-04  eta: 12:19:38  time: 1.1801  data_time: 0.8182  memory: 1526  grad_norm: 13.4866  loss: 0.7188  top1_acc: 1.0000  top5_acc: 1.0000  loss_cls: 0.7188\r\n"
     ]
    },
    {
     "name": "stdout",
     "output_type": "stream",
     "text": [
      "06/12 21:42:34 - mmengine - \u001b[4m\u001b[97mINFO\u001b[0m - Epoch(train) [1][ 9080/11818]  lr: 1.0000e-04  eta: 12:19:23  time: 1.2593  data_time: 0.8982  memory: 1526  grad_norm: 15.4045  loss: 0.8255  top1_acc: 1.0000  top5_acc: 1.0000  loss_cls: 0.8255\r\n"
     ]
    },
    {
     "name": "stdout",
     "output_type": "stream",
     "text": [
      "06/12 21:42:58 - mmengine - \u001b[4m\u001b[97mINFO\u001b[0m - Epoch(train) [1][ 9100/11818]  lr: 1.0000e-04  eta: 12:18:59  time: 1.1516  data_time: 0.7898  memory: 1526  grad_norm: 17.4892  loss: 1.0023  top1_acc: 0.7500  top5_acc: 1.0000  loss_cls: 1.0023\r\n"
     ]
    },
    {
     "name": "stdout",
     "output_type": "stream",
     "text": [
      "06/12 21:43:24 - mmengine - \u001b[4m\u001b[97mINFO\u001b[0m - Epoch(train) [1][ 9120/11818]  lr: 1.0000e-04  eta: 12:18:51  time: 1.3480  data_time: 0.9868  memory: 1526  grad_norm: 14.7935  loss: 0.7094  top1_acc: 1.0000  top5_acc: 1.0000  loss_cls: 0.7094\r\n"
     ]
    },
    {
     "name": "stdout",
     "output_type": "stream",
     "text": [
      "06/12 21:43:52 - mmengine - \u001b[4m\u001b[97mINFO\u001b[0m - Epoch(train) [1][ 9140/11818]  lr: 1.0000e-04  eta: 12:18:48  time: 1.3963  data_time: 1.0331  memory: 1526  grad_norm: 15.1201  loss: 0.8677  top1_acc: 0.5000  top5_acc: 0.7500  loss_cls: 0.8677\r\n"
     ]
    },
    {
     "name": "stdout",
     "output_type": "stream",
     "text": [
      "06/12 21:44:22 - mmengine - \u001b[4m\u001b[97mINFO\u001b[0m - Epoch(train) [1][ 9160/11818]  lr: 1.0000e-04  eta: 12:18:49  time: 1.4605  data_time: 1.0987  memory: 1526  grad_norm: 15.8692  loss: 0.9209  top1_acc: 1.0000  top5_acc: 1.0000  loss_cls: 0.9209\r\n"
     ]
    },
    {
     "name": "stdout",
     "output_type": "stream",
     "text": [
      "06/12 21:44:44 - mmengine - \u001b[4m\u001b[97mINFO\u001b[0m - Epoch(train) [1][ 9180/11818]  lr: 1.0000e-04  eta: 12:18:21  time: 1.1006  data_time: 0.7399  memory: 1526  grad_norm: 12.6146  loss: 0.6535  top1_acc: 0.7500  top5_acc: 1.0000  loss_cls: 0.6535\r\n"
     ]
    },
    {
     "name": "stdout",
     "output_type": "stream",
     "text": [
      "06/12 21:45:09 - mmengine - \u001b[4m\u001b[97mINFO\u001b[0m - Epoch(train) [1][ 9200/11818]  lr: 1.0000e-04  eta: 12:18:06  time: 1.2598  data_time: 0.8969  memory: 1526  grad_norm: 14.2252  loss: 0.7121  top1_acc: 1.0000  top5_acc: 1.0000  loss_cls: 0.7121\r\n"
     ]
    },
    {
     "name": "stdout",
     "output_type": "stream",
     "text": [
      "06/12 21:45:31 - mmengine - \u001b[4m\u001b[97mINFO\u001b[0m - Epoch(train) [1][ 9220/11818]  lr: 1.0000e-04  eta: 12:17:38  time: 1.1064  data_time: 0.7453  memory: 1526  grad_norm: 15.1985  loss: 0.8059  top1_acc: 1.0000  top5_acc: 1.0000  loss_cls: 0.8059\r\n"
     ]
    },
    {
     "name": "stdout",
     "output_type": "stream",
     "text": [
      "06/12 21:45:56 - mmengine - \u001b[4m\u001b[97mINFO\u001b[0m - Epoch(train) [1][ 9240/11818]  lr: 1.0000e-04  eta: 12:17:23  time: 1.2646  data_time: 0.9039  memory: 1526  grad_norm: 13.1930  loss: 0.6342  top1_acc: 0.7500  top5_acc: 0.7500  loss_cls: 0.6342\r\n"
     ]
    },
    {
     "name": "stdout",
     "output_type": "stream",
     "text": [
      "06/12 21:46:19 - mmengine - \u001b[4m\u001b[97mINFO\u001b[0m - Epoch(train) [1][ 9260/11818]  lr: 1.0000e-04  eta: 12:16:58  time: 1.1402  data_time: 0.7797  memory: 1526  grad_norm: 16.0756  loss: 0.9845  top1_acc: 0.5000  top5_acc: 1.0000  loss_cls: 0.9845\r\n"
     ]
    },
    {
     "name": "stdout",
     "output_type": "stream",
     "text": [
      "06/12 21:46:44 - mmengine - \u001b[4m\u001b[97mINFO\u001b[0m - Epoch(train) [1][ 9280/11818]  lr: 1.0000e-04  eta: 12:16:40  time: 1.2379  data_time: 0.8762  memory: 1526  grad_norm: 12.4949  loss: 0.6117  top1_acc: 0.5000  top5_acc: 1.0000  loss_cls: 0.6117\r\n"
     ]
    },
    {
     "name": "stdout",
     "output_type": "stream",
     "text": [
      "06/12 21:47:07 - mmengine - \u001b[4m\u001b[97mINFO\u001b[0m - Epoch(train) [1][ 9300/11818]  lr: 1.0000e-04  eta: 12:16:16  time: 1.1506  data_time: 0.7903  memory: 1526  grad_norm: 14.8174  loss: 0.7136  top1_acc: 1.0000  top5_acc: 1.0000  loss_cls: 0.7136\r\n"
     ]
    },
    {
     "name": "stdout",
     "output_type": "stream",
     "text": [
      "06/12 21:47:31 - mmengine - \u001b[4m\u001b[97mINFO\u001b[0m - Epoch(train) [1][ 9320/11818]  lr: 1.0000e-04  eta: 12:15:58  time: 1.2205  data_time: 0.8589  memory: 1526  grad_norm: 17.0897  loss: 0.8623  top1_acc: 1.0000  top5_acc: 1.0000  loss_cls: 0.8623\r\n"
     ]
    },
    {
     "name": "stdout",
     "output_type": "stream",
     "text": [
      "06/12 21:47:54 - mmengine - \u001b[4m\u001b[97mINFO\u001b[0m - Epoch(train) [1][ 9340/11818]  lr: 1.0000e-04  eta: 12:15:32  time: 1.1321  data_time: 0.7712  memory: 1526  grad_norm: 13.1338  loss: 0.6975  top1_acc: 1.0000  top5_acc: 1.0000  loss_cls: 0.6975\r\n"
     ]
    },
    {
     "name": "stdout",
     "output_type": "stream",
     "text": [
      "06/12 21:48:19 - mmengine - \u001b[4m\u001b[97mINFO\u001b[0m - Epoch(train) [1][ 9360/11818]  lr: 1.0000e-04  eta: 12:15:17  time: 1.2648  data_time: 0.9022  memory: 1526  grad_norm: 14.4042  loss: 0.8227  top1_acc: 0.2500  top5_acc: 0.7500  loss_cls: 0.8227\r\n"
     ]
    },
    {
     "name": "stdout",
     "output_type": "stream",
     "text": [
      "06/12 21:48:42 - mmengine - \u001b[4m\u001b[97mINFO\u001b[0m - Epoch(train) [1][ 9380/11818]  lr: 1.0000e-04  eta: 12:14:52  time: 1.1443  data_time: 0.7845  memory: 1526  grad_norm: 14.6484  loss: 0.7431  top1_acc: 1.0000  top5_acc: 1.0000  loss_cls: 0.7431\r\n"
     ]
    },
    {
     "name": "stdout",
     "output_type": "stream",
     "text": [
      "06/12 21:49:05 - mmengine - \u001b[4m\u001b[97mINFO\u001b[0m - Epoch(train) [1][ 9400/11818]  lr: 1.0000e-04  eta: 12:14:25  time: 1.1252  data_time: 0.7633  memory: 1526  grad_norm: 12.5480  loss: 0.5451  top1_acc: 1.0000  top5_acc: 1.0000  loss_cls: 0.5451\r\n"
     ]
    },
    {
     "name": "stdout",
     "output_type": "stream",
     "text": [
      "06/12 21:49:25 - mmengine - \u001b[4m\u001b[97mINFO\u001b[0m - Epoch(train) [1][ 9420/11818]  lr: 1.0000e-04  eta: 12:13:51  time: 1.0254  data_time: 0.6646  memory: 1526  grad_norm: 15.0527  loss: 0.7543  top1_acc: 0.5000  top5_acc: 1.0000  loss_cls: 0.7543\r\n"
     ]
    },
    {
     "name": "stdout",
     "output_type": "stream",
     "text": [
      "06/12 21:49:45 - mmengine - \u001b[4m\u001b[97mINFO\u001b[0m - Epoch(train) [1][ 9440/11818]  lr: 1.0000e-04  eta: 12:13:16  time: 1.0193  data_time: 0.6565  memory: 1526  grad_norm: 16.0007  loss: 0.9306  top1_acc: 0.5000  top5_acc: 1.0000  loss_cls: 0.9306\r\n"
     ]
    },
    {
     "name": "stdout",
     "output_type": "stream",
     "text": [
      "06/12 21:50:12 - mmengine - \u001b[4m\u001b[97mINFO\u001b[0m - Epoch(train) [1][ 9460/11818]  lr: 1.0000e-04  eta: 12:13:07  time: 1.3435  data_time: 0.9827  memory: 1526  grad_norm: 14.8641  loss: 0.9014  top1_acc: 1.0000  top5_acc: 1.0000  loss_cls: 0.9014\r\n"
     ]
    },
    {
     "name": "stdout",
     "output_type": "stream",
     "text": [
      "06/12 21:50:36 - mmengine - \u001b[4m\u001b[97mINFO\u001b[0m - Epoch(train) [1][ 9480/11818]  lr: 1.0000e-04  eta: 12:12:45  time: 1.1780  data_time: 0.8174  memory: 1526  grad_norm: 15.4504  loss: 0.7789  top1_acc: 0.5000  top5_acc: 0.5000  loss_cls: 0.7789\r\n"
     ]
    },
    {
     "name": "stdout",
     "output_type": "stream",
     "text": [
      "06/12 21:50:57 - mmengine - \u001b[4m\u001b[97mINFO\u001b[0m - Epoch(train) [1][ 9500/11818]  lr: 1.0000e-04  eta: 12:12:12  time: 1.0355  data_time: 0.6747  memory: 1526  grad_norm: 14.7646  loss: 0.7953  top1_acc: 0.5000  top5_acc: 1.0000  loss_cls: 0.7953\r\n"
     ]
    },
    {
     "name": "stdout",
     "output_type": "stream",
     "text": [
      "06/12 21:51:21 - mmengine - \u001b[4m\u001b[97mINFO\u001b[0m - Epoch(train) [1][ 9520/11818]  lr: 1.0000e-04  eta: 12:11:52  time: 1.2110  data_time: 0.8505  memory: 1526  grad_norm: 15.3470  loss: 0.7735  top1_acc: 1.0000  top5_acc: 1.0000  loss_cls: 0.7735\r\n"
     ]
    },
    {
     "name": "stdout",
     "output_type": "stream",
     "text": [
      "06/12 21:51:43 - mmengine - \u001b[4m\u001b[97mINFO\u001b[0m - Epoch(train) [1][ 9540/11818]  lr: 1.0000e-04  eta: 12:11:26  time: 1.1250  data_time: 0.7631  memory: 1526  grad_norm: 14.0988  loss: 0.7998  top1_acc: 0.5000  top5_acc: 0.7500  loss_cls: 0.7998\r\n"
     ]
    },
    {
     "name": "stdout",
     "output_type": "stream",
     "text": [
      "06/12 21:52:06 - mmengine - \u001b[4m\u001b[97mINFO\u001b[0m - Epoch(train) [1][ 9560/11818]  lr: 1.0000e-04  eta: 12:11:01  time: 1.1335  data_time: 0.7723  memory: 1526  grad_norm: 13.5999  loss: 0.6165  top1_acc: 1.0000  top5_acc: 1.0000  loss_cls: 0.6165\r\n"
     ]
    },
    {
     "name": "stdout",
     "output_type": "stream",
     "text": [
      "06/12 21:52:28 - mmengine - \u001b[4m\u001b[97mINFO\u001b[0m - Epoch(train) [1][ 9580/11818]  lr: 1.0000e-04  eta: 12:10:34  time: 1.1178  data_time: 0.7563  memory: 1526  grad_norm: 15.1980  loss: 0.7371  top1_acc: 0.7500  top5_acc: 1.0000  loss_cls: 0.7371\r\n"
     ]
    },
    {
     "name": "stdout",
     "output_type": "stream",
     "text": [
      "06/12 21:52:53 - mmengine - \u001b[4m\u001b[97mINFO\u001b[0m - Epoch(train) [1][ 9600/11818]  lr: 1.0000e-04  eta: 12:10:17  time: 1.2463  data_time: 0.8829  memory: 1526  grad_norm: 15.4743  loss: 0.8254  top1_acc: 0.7500  top5_acc: 1.0000  loss_cls: 0.8254\r\n"
     ]
    },
    {
     "name": "stdout",
     "output_type": "stream",
     "text": [
      "06/12 21:53:20 - mmengine - \u001b[4m\u001b[97mINFO\u001b[0m - Epoch(train) [1][ 9620/11818]  lr: 1.0000e-04  eta: 12:10:06  time: 1.3242  data_time: 0.9616  memory: 1526  grad_norm: 15.0032  loss: 0.8056  top1_acc: 1.0000  top5_acc: 1.0000  loss_cls: 0.8056\r\n"
     ]
    },
    {
     "name": "stdout",
     "output_type": "stream",
     "text": [
      "06/12 21:53:44 - mmengine - \u001b[4m\u001b[97mINFO\u001b[0m - Epoch(train) [1][ 9640/11818]  lr: 1.0000e-04  eta: 12:09:47  time: 1.2124  data_time: 0.8496  memory: 1526  grad_norm: 15.5991  loss: 0.7778  top1_acc: 1.0000  top5_acc: 1.0000  loss_cls: 0.7778\r\n"
     ]
    },
    {
     "name": "stdout",
     "output_type": "stream",
     "text": [
      "06/12 21:54:06 - mmengine - \u001b[4m\u001b[97mINFO\u001b[0m - Epoch(train) [1][ 9660/11818]  lr: 1.0000e-04  eta: 12:09:18  time: 1.0939  data_time: 0.7332  memory: 1526  grad_norm: 19.2425  loss: 0.9215  top1_acc: 0.7500  top5_acc: 1.0000  loss_cls: 0.9215\r\n"
     ]
    },
    {
     "name": "stdout",
     "output_type": "stream",
     "text": [
      "06/12 21:54:31 - mmengine - \u001b[4m\u001b[97mINFO\u001b[0m - Epoch(train) [1][ 9680/11818]  lr: 1.0000e-04  eta: 12:09:02  time: 1.2498  data_time: 0.8877  memory: 1526  grad_norm: 16.6376  loss: 0.8900  top1_acc: 1.0000  top5_acc: 1.0000  loss_cls: 0.8900\r\n"
     ]
    },
    {
     "name": "stdout",
     "output_type": "stream",
     "text": [
      "06/12 21:54:57 - mmengine - \u001b[4m\u001b[97mINFO\u001b[0m - Epoch(train) [1][ 9700/11818]  lr: 1.0000e-04  eta: 12:08:51  time: 1.3211  data_time: 0.9591  memory: 1526  grad_norm: 16.4941  loss: 0.8413  top1_acc: 0.7500  top5_acc: 1.0000  loss_cls: 0.8413\r\n"
     ]
    },
    {
     "name": "stdout",
     "output_type": "stream",
     "text": [
      "06/12 21:55:20 - mmengine - \u001b[4m\u001b[97mINFO\u001b[0m - Epoch(train) [1][ 9720/11818]  lr: 1.0000e-04  eta: 12:08:25  time: 1.1401  data_time: 0.7769  memory: 1526  grad_norm: 14.9918  loss: 0.8480  top1_acc: 0.7500  top5_acc: 1.0000  loss_cls: 0.8480\r\n"
     ]
    },
    {
     "name": "stdout",
     "output_type": "stream",
     "text": [
      "06/12 21:55:44 - mmengine - \u001b[4m\u001b[97mINFO\u001b[0m - Epoch(train) [1][ 9740/11818]  lr: 1.0000e-04  eta: 12:08:03  time: 1.1719  data_time: 0.8101  memory: 1526  grad_norm: 15.8970  loss: 0.8735  top1_acc: 1.0000  top5_acc: 1.0000  loss_cls: 0.8735\r\n"
     ]
    },
    {
     "name": "stdout",
     "output_type": "stream",
     "text": [
      "06/12 21:56:08 - mmengine - \u001b[4m\u001b[97mINFO\u001b[0m - Epoch(train) [1][ 9760/11818]  lr: 1.0000e-04  eta: 12:07:45  time: 1.2333  data_time: 0.8725  memory: 1526  grad_norm: 13.6908  loss: 0.7342  top1_acc: 0.7500  top5_acc: 1.0000  loss_cls: 0.7342\r\n"
     ]
    },
    {
     "name": "stdout",
     "output_type": "stream",
     "text": [
      "06/12 21:56:32 - mmengine - \u001b[4m\u001b[97mINFO\u001b[0m - Epoch(train) [1][ 9780/11818]  lr: 1.0000e-04  eta: 12:07:25  time: 1.2048  data_time: 0.8417  memory: 1526  grad_norm: 14.2624  loss: 0.8057  top1_acc: 0.7500  top5_acc: 1.0000  loss_cls: 0.8057\r\n"
     ]
    },
    {
     "name": "stdout",
     "output_type": "stream",
     "text": [
      "06/12 21:56:57 - mmengine - \u001b[4m\u001b[97mINFO\u001b[0m - Epoch(train) [1][ 9800/11818]  lr: 1.0000e-04  eta: 12:07:05  time: 1.2131  data_time: 0.8504  memory: 1526  grad_norm: 15.9615  loss: 0.9498  top1_acc: 0.7500  top5_acc: 0.7500  loss_cls: 0.9498\r\n"
     ]
    },
    {
     "name": "stdout",
     "output_type": "stream",
     "text": [
      "06/12 21:57:23 - mmengine - \u001b[4m\u001b[97mINFO\u001b[0m - Epoch(train) [1][ 9820/11818]  lr: 1.0000e-04  eta: 12:06:53  time: 1.3141  data_time: 0.9536  memory: 1526  grad_norm: 13.5938  loss: 0.7940  top1_acc: 1.0000  top5_acc: 1.0000  loss_cls: 0.7940\r\n"
     ]
    },
    {
     "name": "stdout",
     "output_type": "stream",
     "text": [
      "06/12 21:57:48 - mmengine - \u001b[4m\u001b[97mINFO\u001b[0m - Epoch(train) [1][ 9840/11818]  lr: 1.0000e-04  eta: 12:06:38  time: 1.2637  data_time: 0.9001  memory: 1526  grad_norm: 17.5063  loss: 0.8589  top1_acc: 0.5000  top5_acc: 1.0000  loss_cls: 0.8589\r\n"
     ]
    },
    {
     "name": "stdout",
     "output_type": "stream",
     "text": [
      "06/12 21:58:13 - mmengine - \u001b[4m\u001b[97mINFO\u001b[0m - Epoch(train) [1][ 9860/11818]  lr: 1.0000e-04  eta: 12:06:19  time: 1.2272  data_time: 0.8643  memory: 1526  grad_norm: 15.0871  loss: 0.8031  top1_acc: 0.7500  top5_acc: 0.7500  loss_cls: 0.8031\r\n"
     ]
    },
    {
     "name": "stdout",
     "output_type": "stream",
     "text": [
      "06/12 21:58:35 - mmengine - \u001b[4m\u001b[97mINFO\u001b[0m - Epoch(train) [1][ 9880/11818]  lr: 1.0000e-04  eta: 12:05:52  time: 1.1134  data_time: 0.7513  memory: 1526  grad_norm: 13.7526  loss: 0.6610  top1_acc: 1.0000  top5_acc: 1.0000  loss_cls: 0.6610\r\n"
     ]
    },
    {
     "name": "stdout",
     "output_type": "stream",
     "text": [
      "06/12 21:58:58 - mmengine - \u001b[4m\u001b[97mINFO\u001b[0m - Epoch(train) [1][ 9900/11818]  lr: 1.0000e-04  eta: 12:05:26  time: 1.1273  data_time: 0.7667  memory: 1526  grad_norm: 14.9899  loss: 0.8377  top1_acc: 0.7500  top5_acc: 1.0000  loss_cls: 0.8377\r\n"
     ]
    },
    {
     "name": "stdout",
     "output_type": "stream",
     "text": [
      "06/12 21:59:20 - mmengine - \u001b[4m\u001b[97mINFO\u001b[0m - Epoch(train) [1][ 9920/11818]  lr: 1.0000e-04  eta: 12:05:01  time: 1.1438  data_time: 0.7808  memory: 1526  grad_norm: 15.0547  loss: 0.7671  top1_acc: 1.0000  top5_acc: 1.0000  loss_cls: 0.7671\r\n"
     ]
    },
    {
     "name": "stdout",
     "output_type": "stream",
     "text": [
      "06/12 21:59:43 - mmengine - \u001b[4m\u001b[97mINFO\u001b[0m - Epoch(train) [1][ 9940/11818]  lr: 1.0000e-04  eta: 12:04:34  time: 1.1110  data_time: 0.7491  memory: 1526  grad_norm: 15.8266  loss: 0.8384  top1_acc: 1.0000  top5_acc: 1.0000  loss_cls: 0.8384\r\n"
     ]
    },
    {
     "name": "stdout",
     "output_type": "stream",
     "text": [
      "06/12 22:00:05 - mmengine - \u001b[4m\u001b[97mINFO\u001b[0m - Epoch(train) [1][ 9960/11818]  lr: 1.0000e-04  eta: 12:04:08  time: 1.1326  data_time: 0.7701  memory: 1526  grad_norm: 14.9723  loss: 0.7276  top1_acc: 1.0000  top5_acc: 1.0000  loss_cls: 0.7276\r\n"
     ]
    },
    {
     "name": "stdout",
     "output_type": "stream",
     "text": [
      "06/12 22:00:29 - mmengine - \u001b[4m\u001b[97mINFO\u001b[0m - Epoch(train) [1][ 9980/11818]  lr: 1.0000e-04  eta: 12:03:47  time: 1.2006  data_time: 0.8409  memory: 1526  grad_norm: 16.5118  loss: 0.8492  top1_acc: 1.0000  top5_acc: 1.0000  loss_cls: 0.8492\r\n"
     ]
    },
    {
     "name": "stdout",
     "output_type": "stream",
     "text": [
      "06/12 22:00:52 - mmengine - \u001b[4m\u001b[97mINFO\u001b[0m - Exp name: config_20230612_184603\r\n",
      "06/12 22:00:52 - mmengine - \u001b[4m\u001b[97mINFO\u001b[0m - Epoch(train) [1][10000/11818]  lr: 1.0000e-04  eta: 12:03:20  time: 1.1142  data_time: 0.7529  memory: 1526  grad_norm: 13.8826  loss: 0.7257  top1_acc: 0.7500  top5_acc: 1.0000  loss_cls: 0.7257\r\n"
     ]
    },
    {
     "name": "stdout",
     "output_type": "stream",
     "text": [
      "06/12 22:01:15 - mmengine - \u001b[4m\u001b[97mINFO\u001b[0m - Epoch(train) [1][10020/11818]  lr: 1.0000e-04  eta: 12:02:58  time: 1.1837  data_time: 0.8208  memory: 1526  grad_norm: 13.6361  loss: 0.7031  top1_acc: 0.2500  top5_acc: 1.0000  loss_cls: 0.7031\r\n"
     ]
    },
    {
     "name": "stdout",
     "output_type": "stream",
     "text": [
      "06/12 22:01:36 - mmengine - \u001b[4m\u001b[97mINFO\u001b[0m - Epoch(train) [1][10040/11818]  lr: 1.0000e-04  eta: 12:02:27  time: 1.0493  data_time: 0.6884  memory: 1526  grad_norm: 17.2266  loss: 0.7994  top1_acc: 0.7500  top5_acc: 1.0000  loss_cls: 0.7994\r\n"
     ]
    },
    {
     "name": "stdout",
     "output_type": "stream",
     "text": [
      "06/12 22:01:57 - mmengine - \u001b[4m\u001b[97mINFO\u001b[0m - Epoch(train) [1][10060/11818]  lr: 1.0000e-04  eta: 12:01:56  time: 1.0629  data_time: 0.7003  memory: 1526  grad_norm: 13.4292  loss: 0.7304  top1_acc: 1.0000  top5_acc: 1.0000  loss_cls: 0.7304\r\n"
     ]
    },
    {
     "name": "stdout",
     "output_type": "stream",
     "text": [
      "06/12 22:02:24 - mmengine - \u001b[4m\u001b[97mINFO\u001b[0m - Epoch(train) [1][10080/11818]  lr: 1.0000e-04  eta: 12:01:43  time: 1.3012  data_time: 0.9401  memory: 1526  grad_norm: 15.9974  loss: 0.9283  top1_acc: 0.7500  top5_acc: 0.7500  loss_cls: 0.9283\r\n"
     ]
    },
    {
     "name": "stdout",
     "output_type": "stream",
     "text": [
      "06/12 22:02:49 - mmengine - \u001b[4m\u001b[97mINFO\u001b[0m - Epoch(train) [1][10100/11818]  lr: 1.0000e-04  eta: 12:01:26  time: 1.2548  data_time: 0.8930  memory: 1526  grad_norm: 15.9059  loss: 0.7727  top1_acc: 1.0000  top5_acc: 1.0000  loss_cls: 0.7727\r\n"
     ]
    },
    {
     "name": "stdout",
     "output_type": "stream",
     "text": [
      "06/12 22:03:09 - mmengine - \u001b[4m\u001b[97mINFO\u001b[0m - Epoch(train) [1][10120/11818]  lr: 1.0000e-04  eta: 12:00:51  time: 1.0005  data_time: 0.6403  memory: 1526  grad_norm: 14.3061  loss: 0.7938  top1_acc: 0.7500  top5_acc: 1.0000  loss_cls: 0.7938\r\n"
     ]
    },
    {
     "name": "stdout",
     "output_type": "stream",
     "text": [
      "06/12 22:03:33 - mmengine - \u001b[4m\u001b[97mINFO\u001b[0m - Epoch(train) [1][10140/11818]  lr: 1.0000e-04  eta: 12:00:30  time: 1.2055  data_time: 0.8439  memory: 1526  grad_norm: 15.7317  loss: 0.9570  top1_acc: 0.7500  top5_acc: 1.0000  loss_cls: 0.9570\r\n"
     ]
    },
    {
     "name": "stdout",
     "output_type": "stream",
     "text": [
      "06/12 22:03:56 - mmengine - \u001b[4m\u001b[97mINFO\u001b[0m - Epoch(train) [1][10160/11818]  lr: 1.0000e-04  eta: 12:00:06  time: 1.1448  data_time: 0.7820  memory: 1526  grad_norm: 14.2359  loss: 0.8028  top1_acc: 0.7500  top5_acc: 1.0000  loss_cls: 0.8028\r\n"
     ]
    },
    {
     "name": "stdout",
     "output_type": "stream",
     "text": [
      "06/12 22:04:19 - mmengine - \u001b[4m\u001b[97mINFO\u001b[0m - Epoch(train) [1][10180/11818]  lr: 1.0000e-04  eta: 11:59:44  time: 1.1879  data_time: 0.8239  memory: 1526  grad_norm: 13.7462  loss: 0.6959  top1_acc: 0.5000  top5_acc: 1.0000  loss_cls: 0.6959\r\n"
     ]
    },
    {
     "name": "stdout",
     "output_type": "stream",
     "text": [
      "06/12 22:04:45 - mmengine - \u001b[4m\u001b[97mINFO\u001b[0m - Epoch(train) [1][10200/11818]  lr: 1.0000e-04  eta: 11:59:28  time: 1.2676  data_time: 0.9060  memory: 1526  grad_norm: 14.8621  loss: 0.8306  top1_acc: 0.7500  top5_acc: 1.0000  loss_cls: 0.8306\r\n"
     ]
    },
    {
     "name": "stdout",
     "output_type": "stream",
     "text": [
      "06/12 22:05:07 - mmengine - \u001b[4m\u001b[97mINFO\u001b[0m - Epoch(train) [1][10220/11818]  lr: 1.0000e-04  eta: 11:59:02  time: 1.1175  data_time: 0.7562  memory: 1526  grad_norm: 16.4396  loss: 0.9506  top1_acc: 0.7500  top5_acc: 0.7500  loss_cls: 0.9506\r\n"
     ]
    },
    {
     "name": "stdout",
     "output_type": "stream",
     "text": [
      "06/12 22:05:31 - mmengine - \u001b[4m\u001b[97mINFO\u001b[0m - Epoch(train) [1][10240/11818]  lr: 1.0000e-04  eta: 11:58:41  time: 1.1967  data_time: 0.8352  memory: 1526  grad_norm: 12.3031  loss: 0.6502  top1_acc: 1.0000  top5_acc: 1.0000  loss_cls: 0.6502\r\n"
     ]
    },
    {
     "name": "stdout",
     "output_type": "stream",
     "text": [
      "06/12 22:05:53 - mmengine - \u001b[4m\u001b[97mINFO\u001b[0m - Epoch(train) [1][10260/11818]  lr: 1.0000e-04  eta: 11:58:14  time: 1.1140  data_time: 0.7521  memory: 1526  grad_norm: 15.8406  loss: 0.6927  top1_acc: 1.0000  top5_acc: 1.0000  loss_cls: 0.6927\r\n"
     ]
    },
    {
     "name": "stdout",
     "output_type": "stream",
     "text": [
      "06/12 22:06:15 - mmengine - \u001b[4m\u001b[97mINFO\u001b[0m - Epoch(train) [1][10280/11818]  lr: 1.0000e-04  eta: 11:57:46  time: 1.1077  data_time: 0.7471  memory: 1526  grad_norm: 14.1215  loss: 0.6809  top1_acc: 1.0000  top5_acc: 1.0000  loss_cls: 0.6809\r\n"
     ]
    },
    {
     "name": "stdout",
     "output_type": "stream",
     "text": [
      "06/12 22:06:38 - mmengine - \u001b[4m\u001b[97mINFO\u001b[0m - Epoch(train) [1][10300/11818]  lr: 1.0000e-04  eta: 11:57:22  time: 1.1489  data_time: 0.7860  memory: 1526  grad_norm: 14.4215  loss: 0.7352  top1_acc: 1.0000  top5_acc: 1.0000  loss_cls: 0.7352\r\n"
     ]
    },
    {
     "name": "stdout",
     "output_type": "stream",
     "text": [
      "06/12 22:07:04 - mmengine - \u001b[4m\u001b[97mINFO\u001b[0m - Epoch(train) [1][10320/11818]  lr: 1.0000e-04  eta: 11:57:05  time: 1.2550  data_time: 0.8907  memory: 1526  grad_norm: 15.9569  loss: 0.8700  top1_acc: 0.7500  top5_acc: 1.0000  loss_cls: 0.8700\r\n"
     ]
    },
    {
     "name": "stdout",
     "output_type": "stream",
     "text": [
      "06/12 22:07:29 - mmengine - \u001b[4m\u001b[97mINFO\u001b[0m - Epoch(train) [1][10340/11818]  lr: 1.0000e-04  eta: 11:56:49  time: 1.2691  data_time: 0.9075  memory: 1526  grad_norm: 17.0550  loss: 0.8839  top1_acc: 0.7500  top5_acc: 1.0000  loss_cls: 0.8839\r\n"
     ]
    },
    {
     "name": "stdout",
     "output_type": "stream",
     "text": [
      "06/12 22:07:53 - mmengine - \u001b[4m\u001b[97mINFO\u001b[0m - Epoch(train) [1][10360/11818]  lr: 1.0000e-04  eta: 11:56:29  time: 1.2100  data_time: 0.8489  memory: 1526  grad_norm: 15.2622  loss: 0.8005  top1_acc: 0.7500  top5_acc: 1.0000  loss_cls: 0.8005\r\n"
     ]
    },
    {
     "name": "stdout",
     "output_type": "stream",
     "text": [
      "06/12 22:08:21 - mmengine - \u001b[4m\u001b[97mINFO\u001b[0m - Epoch(train) [1][10380/11818]  lr: 1.0000e-04  eta: 11:56:24  time: 1.4147  data_time: 1.0524  memory: 1526  grad_norm: 17.3128  loss: 0.7837  top1_acc: 0.7500  top5_acc: 0.7500  loss_cls: 0.7837\r\n"
     ]
    },
    {
     "name": "stdout",
     "output_type": "stream",
     "text": [
      "06/12 22:08:43 - mmengine - \u001b[4m\u001b[97mINFO\u001b[0m - Epoch(train) [1][10400/11818]  lr: 1.0000e-04  eta: 11:55:54  time: 1.0749  data_time: 0.7109  memory: 1526  grad_norm: 14.0533  loss: 0.8260  top1_acc: 1.0000  top5_acc: 1.0000  loss_cls: 0.8260\r\n"
     ]
    },
    {
     "name": "stdout",
     "output_type": "stream",
     "text": [
      "06/12 22:09:09 - mmengine - \u001b[4m\u001b[97mINFO\u001b[0m - Epoch(train) [1][10420/11818]  lr: 1.0000e-04  eta: 11:55:40  time: 1.2995  data_time: 0.9375  memory: 1526  grad_norm: 12.7836  loss: 0.6636  top1_acc: 1.0000  top5_acc: 1.0000  loss_cls: 0.6636\r\n"
     ]
    },
    {
     "name": "stdout",
     "output_type": "stream",
     "text": [
      "06/12 22:09:35 - mmengine - \u001b[4m\u001b[97mINFO\u001b[0m - Epoch(train) [1][10440/11818]  lr: 1.0000e-04  eta: 11:55:28  time: 1.3220  data_time: 0.9608  memory: 1526  grad_norm: 15.6134  loss: 0.9529  top1_acc: 0.7500  top5_acc: 0.7500  loss_cls: 0.9529\r\n"
     ]
    },
    {
     "name": "stdout",
     "output_type": "stream",
     "text": [
      "06/12 22:10:03 - mmengine - \u001b[4m\u001b[97mINFO\u001b[0m - Epoch(train) [1][10460/11818]  lr: 1.0000e-04  eta: 11:55:21  time: 1.3975  data_time: 1.0369  memory: 1526  grad_norm: 16.2767  loss: 0.8663  top1_acc: 1.0000  top5_acc: 1.0000  loss_cls: 0.8663\r\n"
     ]
    },
    {
     "name": "stdout",
     "output_type": "stream",
     "text": [
      "06/12 22:10:24 - mmengine - \u001b[4m\u001b[97mINFO\u001b[0m - Epoch(train) [1][10480/11818]  lr: 1.0000e-04  eta: 11:54:50  time: 1.0550  data_time: 0.6913  memory: 1526  grad_norm: 13.8443  loss: 0.7128  top1_acc: 0.7500  top5_acc: 1.0000  loss_cls: 0.7128\r\n"
     ]
    },
    {
     "name": "stdout",
     "output_type": "stream",
     "text": [
      "06/12 22:10:49 - mmengine - \u001b[4m\u001b[97mINFO\u001b[0m - Epoch(train) [1][10500/11818]  lr: 1.0000e-04  eta: 11:54:31  time: 1.2302  data_time: 0.8683  memory: 1526  grad_norm: 15.5660  loss: 0.6596  top1_acc: 1.0000  top5_acc: 1.0000  loss_cls: 0.6596\r\n"
     ]
    },
    {
     "name": "stdout",
     "output_type": "stream",
     "text": [
      "06/12 22:11:15 - mmengine - \u001b[4m\u001b[97mINFO\u001b[0m - Epoch(train) [1][10520/11818]  lr: 1.0000e-04  eta: 11:54:16  time: 1.2757  data_time: 0.9130  memory: 1526  grad_norm: 14.5331  loss: 0.6687  top1_acc: 0.5000  top5_acc: 1.0000  loss_cls: 0.6687\r\n"
     ]
    },
    {
     "name": "stdout",
     "output_type": "stream",
     "text": [
      "06/12 22:11:38 - mmengine - \u001b[4m\u001b[97mINFO\u001b[0m - Epoch(train) [1][10540/11818]  lr: 1.0000e-04  eta: 11:53:52  time: 1.1683  data_time: 0.8073  memory: 1526  grad_norm: 13.6727  loss: 0.6469  top1_acc: 0.5000  top5_acc: 1.0000  loss_cls: 0.6469\r\n"
     ]
    },
    {
     "name": "stdout",
     "output_type": "stream",
     "text": [
      "06/12 22:12:01 - mmengine - \u001b[4m\u001b[97mINFO\u001b[0m - Epoch(train) [1][10560/11818]  lr: 1.0000e-04  eta: 11:53:29  time: 1.1598  data_time: 0.7952  memory: 1526  grad_norm: 13.3373  loss: 0.6233  top1_acc: 0.7500  top5_acc: 1.0000  loss_cls: 0.6233\r\n"
     ]
    },
    {
     "name": "stdout",
     "output_type": "stream",
     "text": [
      "06/12 22:12:27 - mmengine - \u001b[4m\u001b[97mINFO\u001b[0m - Epoch(train) [1][10580/11818]  lr: 1.0000e-04  eta: 11:53:14  time: 1.2966  data_time: 0.9355  memory: 1526  grad_norm: 16.7335  loss: 0.8096  top1_acc: 0.7500  top5_acc: 1.0000  loss_cls: 0.8096\r\n"
     ]
    },
    {
     "name": "stdout",
     "output_type": "stream",
     "text": [
      "06/12 22:12:50 - mmengine - \u001b[4m\u001b[97mINFO\u001b[0m - Epoch(train) [1][10600/11818]  lr: 1.0000e-04  eta: 11:52:51  time: 1.1601  data_time: 0.7990  memory: 1526  grad_norm: 16.5988  loss: 0.8476  top1_acc: 0.7500  top5_acc: 1.0000  loss_cls: 0.8476\r\n"
     ]
    },
    {
     "name": "stdout",
     "output_type": "stream",
     "text": [
      "06/12 22:13:13 - mmengine - \u001b[4m\u001b[97mINFO\u001b[0m - Epoch(train) [1][10620/11818]  lr: 1.0000e-04  eta: 11:52:24  time: 1.1224  data_time: 0.7611  memory: 1526  grad_norm: 15.7914  loss: 0.7304  top1_acc: 0.7500  top5_acc: 1.0000  loss_cls: 0.7304\r\n"
     ]
    },
    {
     "name": "stdout",
     "output_type": "stream",
     "text": [
      "06/12 22:13:39 - mmengine - \u001b[4m\u001b[97mINFO\u001b[0m - Epoch(train) [1][10640/11818]  lr: 1.0000e-04  eta: 11:52:10  time: 1.3027  data_time: 0.9406  memory: 1526  grad_norm: 16.2729  loss: 0.8047  top1_acc: 0.5000  top5_acc: 0.7500  loss_cls: 0.8047\r\n"
     ]
    },
    {
     "name": "stdout",
     "output_type": "stream",
     "text": [
      "06/12 22:14:02 - mmengine - \u001b[4m\u001b[97mINFO\u001b[0m - Epoch(train) [1][10660/11818]  lr: 1.0000e-04  eta: 11:51:45  time: 1.1414  data_time: 0.7804  memory: 1526  grad_norm: 15.3285  loss: 0.6889  top1_acc: 0.5000  top5_acc: 1.0000  loss_cls: 0.6889\r\n"
     ]
    },
    {
     "name": "stdout",
     "output_type": "stream",
     "text": [
      "06/12 22:14:26 - mmengine - \u001b[4m\u001b[97mINFO\u001b[0m - Epoch(train) [1][10680/11818]  lr: 1.0000e-04  eta: 11:51:27  time: 1.2366  data_time: 0.8756  memory: 1526  grad_norm: 13.7715  loss: 0.6974  top1_acc: 0.5000  top5_acc: 1.0000  loss_cls: 0.6974\r\n"
     ]
    },
    {
     "name": "stdout",
     "output_type": "stream",
     "text": [
      "06/12 22:14:50 - mmengine - \u001b[4m\u001b[97mINFO\u001b[0m - Epoch(train) [1][10700/11818]  lr: 1.0000e-04  eta: 11:51:04  time: 1.1680  data_time: 0.8065  memory: 1526  grad_norm: 17.9469  loss: 1.0958  top1_acc: 0.5000  top5_acc: 0.7500  loss_cls: 1.0958\r\n"
     ]
    },
    {
     "name": "stdout",
     "output_type": "stream",
     "text": [
      "06/12 22:15:12 - mmengine - \u001b[4m\u001b[97mINFO\u001b[0m - Epoch(train) [1][10720/11818]  lr: 1.0000e-04  eta: 11:50:38  time: 1.1400  data_time: 0.7794  memory: 1526  grad_norm: 15.3356  loss: 0.7283  top1_acc: 1.0000  top5_acc: 1.0000  loss_cls: 0.7283\r\n"
     ]
    },
    {
     "name": "stdout",
     "output_type": "stream",
     "text": [
      "06/12 22:15:35 - mmengine - \u001b[4m\u001b[97mINFO\u001b[0m - Epoch(train) [1][10740/11818]  lr: 1.0000e-04  eta: 11:50:13  time: 1.1386  data_time: 0.7757  memory: 1526  grad_norm: 14.5638  loss: 0.7661  top1_acc: 0.7500  top5_acc: 1.0000  loss_cls: 0.7661\r\n"
     ]
    },
    {
     "name": "stdout",
     "output_type": "stream",
     "text": [
      "06/12 22:15:57 - mmengine - \u001b[4m\u001b[97mINFO\u001b[0m - Epoch(train) [1][10760/11818]  lr: 1.0000e-04  eta: 11:49:45  time: 1.1017  data_time: 0.7396  memory: 1526  grad_norm: 15.1870  loss: 0.8146  top1_acc: 0.5000  top5_acc: 1.0000  loss_cls: 0.8146\r\n"
     ]
    },
    {
     "name": "stdout",
     "output_type": "stream",
     "text": [
      "06/12 22:16:20 - mmengine - \u001b[4m\u001b[97mINFO\u001b[0m - Epoch(train) [1][10780/11818]  lr: 1.0000e-04  eta: 11:49:21  time: 1.1514  data_time: 0.7880  memory: 1526  grad_norm: 16.3127  loss: 0.7784  top1_acc: 0.7500  top5_acc: 0.7500  loss_cls: 0.7784\r\n"
     ]
    },
    {
     "name": "stdout",
     "output_type": "stream",
     "text": [
      "06/12 22:16:44 - mmengine - \u001b[4m\u001b[97mINFO\u001b[0m - Epoch(train) [1][10800/11818]  lr: 1.0000e-04  eta: 11:48:57  time: 1.1612  data_time: 0.7983  memory: 1526  grad_norm: 16.5622  loss: 0.9458  top1_acc: 0.5000  top5_acc: 1.0000  loss_cls: 0.9458\r\n"
     ]
    },
    {
     "name": "stdout",
     "output_type": "stream",
     "text": [
      "06/12 22:17:07 - mmengine - \u001b[4m\u001b[97mINFO\u001b[0m - Epoch(train) [1][10820/11818]  lr: 1.0000e-04  eta: 11:48:33  time: 1.1570  data_time: 0.7942  memory: 1526  grad_norm: 14.2221  loss: 0.6000  top1_acc: 1.0000  top5_acc: 1.0000  loss_cls: 0.6000\r\n"
     ]
    },
    {
     "name": "stdout",
     "output_type": "stream",
     "text": [
      "06/12 22:17:32 - mmengine - \u001b[4m\u001b[97mINFO\u001b[0m - Epoch(train) [1][10840/11818]  lr: 1.0000e-04  eta: 11:48:17  time: 1.2746  data_time: 0.9115  memory: 1526  grad_norm: 16.0160  loss: 0.7490  top1_acc: 0.5000  top5_acc: 1.0000  loss_cls: 0.7490\r\n"
     ]
    },
    {
     "name": "stdout",
     "output_type": "stream",
     "text": [
      "06/12 22:17:55 - mmengine - \u001b[4m\u001b[97mINFO\u001b[0m - Epoch(train) [1][10860/11818]  lr: 1.0000e-04  eta: 11:47:53  time: 1.1571  data_time: 0.7962  memory: 1526  grad_norm: 13.9782  loss: 0.7194  top1_acc: 0.7500  top5_acc: 1.0000  loss_cls: 0.7194\r\n"
     ]
    },
    {
     "name": "stdout",
     "output_type": "stream",
     "text": [
      "06/12 22:18:23 - mmengine - \u001b[4m\u001b[97mINFO\u001b[0m - Epoch(train) [1][10880/11818]  lr: 1.0000e-04  eta: 11:47:45  time: 1.3929  data_time: 1.0320  memory: 1526  grad_norm: 14.4726  loss: 0.6486  top1_acc: 1.0000  top5_acc: 1.0000  loss_cls: 0.6486\r\n"
     ]
    },
    {
     "name": "stdout",
     "output_type": "stream",
     "text": [
      "06/12 22:18:46 - mmengine - \u001b[4m\u001b[97mINFO\u001b[0m - Epoch(train) [1][10900/11818]  lr: 1.0000e-04  eta: 11:47:20  time: 1.1339  data_time: 0.7709  memory: 1526  grad_norm: 13.6412  loss: 0.7797  top1_acc: 1.0000  top5_acc: 1.0000  loss_cls: 0.7797\r\n"
     ]
    },
    {
     "name": "stdout",
     "output_type": "stream",
     "text": [
      "06/12 22:19:08 - mmengine - \u001b[4m\u001b[97mINFO\u001b[0m - Epoch(train) [1][10920/11818]  lr: 1.0000e-04  eta: 11:46:54  time: 1.1246  data_time: 0.7617  memory: 1526  grad_norm: 14.5778  loss: 0.7688  top1_acc: 1.0000  top5_acc: 1.0000  loss_cls: 0.7688\r\n"
     ]
    },
    {
     "name": "stdout",
     "output_type": "stream",
     "text": [
      "06/12 22:19:30 - mmengine - \u001b[4m\u001b[97mINFO\u001b[0m - Epoch(train) [1][10940/11818]  lr: 1.0000e-04  eta: 11:46:25  time: 1.0857  data_time: 0.7253  memory: 1526  grad_norm: 15.3531  loss: 0.6533  top1_acc: 0.7500  top5_acc: 1.0000  loss_cls: 0.6533\r\n"
     ]
    },
    {
     "name": "stdout",
     "output_type": "stream",
     "text": [
      "06/12 22:19:54 - mmengine - \u001b[4m\u001b[97mINFO\u001b[0m - Epoch(train) [1][10960/11818]  lr: 1.0000e-04  eta: 11:46:04  time: 1.2086  data_time: 0.8475  memory: 1526  grad_norm: 15.5921  loss: 0.8432  top1_acc: 1.0000  top5_acc: 1.0000  loss_cls: 0.8432\r\n"
     ]
    },
    {
     "name": "stdout",
     "output_type": "stream",
     "text": [
      "06/12 22:20:18 - mmengine - \u001b[4m\u001b[97mINFO\u001b[0m - Epoch(train) [1][10980/11818]  lr: 1.0000e-04  eta: 11:45:41  time: 1.1742  data_time: 0.8120  memory: 1526  grad_norm: 14.9771  loss: 0.7983  top1_acc: 1.0000  top5_acc: 1.0000  loss_cls: 0.7983\r\n"
     ]
    },
    {
     "name": "stdout",
     "output_type": "stream",
     "text": [
      "06/12 22:20:43 - mmengine - \u001b[4m\u001b[97mINFO\u001b[0m - Exp name: config_20230612_184603\r\n",
      "06/12 22:20:43 - mmengine - \u001b[4m\u001b[97mINFO\u001b[0m - Epoch(train) [1][11000/11818]  lr: 1.0000e-04  eta: 11:45:23  time: 1.2402  data_time: 0.8781  memory: 1526  grad_norm: 16.6839  loss: 0.7854  top1_acc: 0.2500  top5_acc: 0.7500  loss_cls: 0.7854\r\n"
     ]
    },
    {
     "name": "stdout",
     "output_type": "stream",
     "text": [
      "06/12 22:21:06 - mmengine - \u001b[4m\u001b[97mINFO\u001b[0m - Epoch(train) [1][11020/11818]  lr: 1.0000e-04  eta: 11:44:59  time: 1.1640  data_time: 0.8036  memory: 1526  grad_norm: 16.9657  loss: 0.8973  top1_acc: 1.0000  top5_acc: 1.0000  loss_cls: 0.8973\r\n"
     ]
    },
    {
     "name": "stdout",
     "output_type": "stream",
     "text": [
      "06/12 22:21:28 - mmengine - \u001b[4m\u001b[97mINFO\u001b[0m - Epoch(train) [1][11040/11818]  lr: 1.0000e-04  eta: 11:44:31  time: 1.0881  data_time: 0.7266  memory: 1526  grad_norm: 14.6170  loss: 0.7166  top1_acc: 0.7500  top5_acc: 1.0000  loss_cls: 0.7166\r\n"
     ]
    },
    {
     "name": "stdout",
     "output_type": "stream",
     "text": [
      "06/12 22:21:54 - mmengine - \u001b[4m\u001b[97mINFO\u001b[0m - Epoch(train) [1][11060/11818]  lr: 1.0000e-04  eta: 11:44:19  time: 1.3439  data_time: 0.9827  memory: 1526  grad_norm: 15.8233  loss: 0.8732  top1_acc: 1.0000  top5_acc: 1.0000  loss_cls: 0.8732\r\n"
     ]
    },
    {
     "name": "stdout",
     "output_type": "stream",
     "text": [
      "06/12 22:22:18 - mmengine - \u001b[4m\u001b[97mINFO\u001b[0m - Epoch(train) [1][11080/11818]  lr: 1.0000e-04  eta: 11:43:57  time: 1.1811  data_time: 0.8171  memory: 1526  grad_norm: 13.1576  loss: 0.7090  top1_acc: 0.2500  top5_acc: 0.7500  loss_cls: 0.7090\r\n"
     ]
    },
    {
     "name": "stdout",
     "output_type": "stream",
     "text": [
      "06/12 22:22:39 - mmengine - \u001b[4m\u001b[97mINFO\u001b[0m - Epoch(train) [1][11100/11818]  lr: 1.0000e-04  eta: 11:43:25  time: 1.0389  data_time: 0.6778  memory: 1526  grad_norm: 15.2378  loss: 0.7798  top1_acc: 1.0000  top5_acc: 1.0000  loss_cls: 0.7798\r\n"
     ]
    },
    {
     "name": "stdout",
     "output_type": "stream",
     "text": [
      "06/12 22:23:02 - mmengine - \u001b[4m\u001b[97mINFO\u001b[0m - Epoch(train) [1][11120/11818]  lr: 1.0000e-04  eta: 11:43:00  time: 1.1434  data_time: 0.7812  memory: 1526  grad_norm: 17.3559  loss: 0.8224  top1_acc: 0.7500  top5_acc: 1.0000  loss_cls: 0.8224\r\n"
     ]
    },
    {
     "name": "stdout",
     "output_type": "stream",
     "text": [
      "06/12 22:23:28 - mmengine - \u001b[4m\u001b[97mINFO\u001b[0m - Epoch(train) [1][11140/11818]  lr: 1.0000e-04  eta: 11:42:46  time: 1.2993  data_time: 0.9372  memory: 1526  grad_norm: 16.1849  loss: 0.5753  top1_acc: 0.7500  top5_acc: 1.0000  loss_cls: 0.5753\r\n"
     ]
    },
    {
     "name": "stdout",
     "output_type": "stream",
     "text": [
      "06/12 22:23:56 - mmengine - \u001b[4m\u001b[97mINFO\u001b[0m - Epoch(train) [1][11160/11818]  lr: 1.0000e-04  eta: 11:42:39  time: 1.4306  data_time: 1.0677  memory: 1526  grad_norm: 15.2319  loss: 0.7950  top1_acc: 0.7500  top5_acc: 1.0000  loss_cls: 0.7950\r\n"
     ]
    },
    {
     "name": "stdout",
     "output_type": "stream",
     "text": [
      "06/12 22:24:23 - mmengine - \u001b[4m\u001b[97mINFO\u001b[0m - Epoch(train) [1][11180/11818]  lr: 1.0000e-04  eta: 11:42:26  time: 1.3226  data_time: 0.9574  memory: 1526  grad_norm: 15.2274  loss: 0.8983  top1_acc: 0.7500  top5_acc: 1.0000  loss_cls: 0.8983\r\n"
     ]
    },
    {
     "name": "stdout",
     "output_type": "stream",
     "text": [
      "06/12 22:24:47 - mmengine - \u001b[4m\u001b[97mINFO\u001b[0m - Epoch(train) [1][11200/11818]  lr: 1.0000e-04  eta: 11:42:06  time: 1.2190  data_time: 0.8562  memory: 1526  grad_norm: 13.8625  loss: 0.7767  top1_acc: 1.0000  top5_acc: 1.0000  loss_cls: 0.7767\r\n"
     ]
    },
    {
     "name": "stdout",
     "output_type": "stream",
     "text": [
      "06/12 22:25:11 - mmengine - \u001b[4m\u001b[97mINFO\u001b[0m - Epoch(train) [1][11220/11818]  lr: 1.0000e-04  eta: 11:41:45  time: 1.1990  data_time: 0.8353  memory: 1526  grad_norm: 16.5886  loss: 0.8686  top1_acc: 0.7500  top5_acc: 1.0000  loss_cls: 0.8686\r\n"
     ]
    },
    {
     "name": "stdout",
     "output_type": "stream",
     "text": [
      "06/12 22:25:38 - mmengine - \u001b[4m\u001b[97mINFO\u001b[0m - Epoch(train) [1][11240/11818]  lr: 1.0000e-04  eta: 11:41:31  time: 1.3265  data_time: 0.9626  memory: 1526  grad_norm: 15.2399  loss: 0.8585  top1_acc: 0.7500  top5_acc: 1.0000  loss_cls: 0.8585\r\n"
     ]
    },
    {
     "name": "stdout",
     "output_type": "stream",
     "text": [
      "06/12 22:26:01 - mmengine - \u001b[4m\u001b[97mINFO\u001b[0m - Epoch(train) [1][11260/11818]  lr: 1.0000e-04  eta: 11:41:08  time: 1.1743  data_time: 0.8133  memory: 1526  grad_norm: 14.1983  loss: 0.7342  top1_acc: 1.0000  top5_acc: 1.0000  loss_cls: 0.7342\r\n"
     ]
    },
    {
     "name": "stdout",
     "output_type": "stream",
     "text": [
      "06/12 22:26:23 - mmengine - \u001b[4m\u001b[97mINFO\u001b[0m - Epoch(train) [1][11280/11818]  lr: 1.0000e-04  eta: 11:40:40  time: 1.0835  data_time: 0.7227  memory: 1526  grad_norm: 15.0784  loss: 0.6590  top1_acc: 0.7500  top5_acc: 1.0000  loss_cls: 0.6590\r\n"
     ]
    },
    {
     "name": "stdout",
     "output_type": "stream",
     "text": [
      "06/12 22:26:49 - mmengine - \u001b[4m\u001b[97mINFO\u001b[0m - Epoch(train) [1][11300/11818]  lr: 1.0000e-04  eta: 11:40:27  time: 1.3333  data_time: 0.9714  memory: 1526  grad_norm: 14.4686  loss: 0.5379  top1_acc: 0.2500  top5_acc: 1.0000  loss_cls: 0.5379\r\n"
     ]
    },
    {
     "name": "stdout",
     "output_type": "stream",
     "text": [
      "06/12 22:27:10 - mmengine - \u001b[4m\u001b[97mINFO\u001b[0m - Epoch(train) [1][11320/11818]  lr: 1.0000e-04  eta: 11:39:55  time: 1.0291  data_time: 0.6674  memory: 1526  grad_norm: 17.5814  loss: 0.8512  top1_acc: 0.7500  top5_acc: 1.0000  loss_cls: 0.8512\r\n"
     ]
    },
    {
     "name": "stdout",
     "output_type": "stream",
     "text": [
      "06/12 22:27:34 - mmengine - \u001b[4m\u001b[97mINFO\u001b[0m - Epoch(train) [1][11340/11818]  lr: 1.0000e-04  eta: 11:39:32  time: 1.1872  data_time: 0.8236  memory: 1526  grad_norm: 18.1411  loss: 0.9058  top1_acc: 0.7500  top5_acc: 1.0000  loss_cls: 0.9058\r\n"
     ]
    },
    {
     "name": "stdout",
     "output_type": "stream",
     "text": [
      "06/12 22:27:53 - mmengine - \u001b[4m\u001b[97mINFO\u001b[0m - Epoch(train) [1][11360/11818]  lr: 1.0000e-04  eta: 11:38:56  time: 0.9663  data_time: 0.6058  memory: 1526  grad_norm: 15.4455  loss: 0.7539  top1_acc: 1.0000  top5_acc: 1.0000  loss_cls: 0.7539\r\n"
     ]
    },
    {
     "name": "stdout",
     "output_type": "stream",
     "text": [
      "06/12 22:28:19 - mmengine - \u001b[4m\u001b[97mINFO\u001b[0m - Epoch(train) [1][11380/11818]  lr: 1.0000e-04  eta: 11:38:41  time: 1.2909  data_time: 0.9295  memory: 1526  grad_norm: 16.3497  loss: 0.8121  top1_acc: 0.7500  top5_acc: 1.0000  loss_cls: 0.8121\r\n"
     ]
    },
    {
     "name": "stdout",
     "output_type": "stream",
     "text": [
      "06/12 22:28:38 - mmengine - \u001b[4m\u001b[97mINFO\u001b[0m - Epoch(train) [1][11400/11818]  lr: 1.0000e-04  eta: 11:38:04  time: 0.9627  data_time: 0.6012  memory: 1526  grad_norm: 13.9621  loss: 0.6384  top1_acc: 0.7500  top5_acc: 1.0000  loss_cls: 0.6384\r\n"
     ]
    },
    {
     "name": "stdout",
     "output_type": "stream",
     "text": [
      "06/12 22:29:02 - mmengine - \u001b[4m\u001b[97mINFO\u001b[0m - Epoch(train) [1][11420/11818]  lr: 1.0000e-04  eta: 11:37:42  time: 1.1765  data_time: 0.8151  memory: 1526  grad_norm: 15.3915  loss: 0.8616  top1_acc: 0.7500  top5_acc: 1.0000  loss_cls: 0.8616\r\n"
     ]
    },
    {
     "name": "stdout",
     "output_type": "stream",
     "text": [
      "06/12 22:29:24 - mmengine - \u001b[4m\u001b[97mINFO\u001b[0m - Epoch(train) [1][11440/11818]  lr: 1.0000e-04  eta: 11:37:16  time: 1.1300  data_time: 0.7666  memory: 1526  grad_norm: 15.6811  loss: 0.8256  top1_acc: 0.2500  top5_acc: 0.7500  loss_cls: 0.8256\r\n"
     ]
    },
    {
     "name": "stdout",
     "output_type": "stream",
     "text": [
      "06/12 22:29:48 - mmengine - \u001b[4m\u001b[97mINFO\u001b[0m - Epoch(train) [1][11460/11818]  lr: 1.0000e-04  eta: 11:36:54  time: 1.1983  data_time: 0.8360  memory: 1526  grad_norm: 14.3665  loss: 0.8208  top1_acc: 1.0000  top5_acc: 1.0000  loss_cls: 0.8208\r\n"
     ]
    },
    {
     "name": "stdout",
     "output_type": "stream",
     "text": [
      "06/12 22:30:09 - mmengine - \u001b[4m\u001b[97mINFO\u001b[0m - Epoch(train) [1][11480/11818]  lr: 1.0000e-04  eta: 11:36:24  time: 1.0554  data_time: 0.6920  memory: 1526  grad_norm: 14.4134  loss: 0.6509  top1_acc: 1.0000  top5_acc: 1.0000  loss_cls: 0.6509\r\n"
     ]
    },
    {
     "name": "stdout",
     "output_type": "stream",
     "text": [
      "06/12 22:30:32 - mmengine - \u001b[4m\u001b[97mINFO\u001b[0m - Epoch(train) [1][11500/11818]  lr: 1.0000e-04  eta: 11:35:58  time: 1.1244  data_time: 0.7608  memory: 1526  grad_norm: 14.4696  loss: 0.8872  top1_acc: 0.5000  top5_acc: 1.0000  loss_cls: 0.8872\r\n"
     ]
    },
    {
     "name": "stdout",
     "output_type": "stream",
     "text": [
      "06/12 22:30:54 - mmengine - \u001b[4m\u001b[97mINFO\u001b[0m - Epoch(train) [1][11520/11818]  lr: 1.0000e-04  eta: 11:35:32  time: 1.1174  data_time: 0.7564  memory: 1526  grad_norm: 16.1792  loss: 0.8327  top1_acc: 0.7500  top5_acc: 1.0000  loss_cls: 0.8327\r\n"
     ]
    },
    {
     "name": "stdout",
     "output_type": "stream",
     "text": [
      "06/12 22:31:19 - mmengine - \u001b[4m\u001b[97mINFO\u001b[0m - Epoch(train) [1][11540/11818]  lr: 1.0000e-04  eta: 11:35:14  time: 1.2615  data_time: 0.8996  memory: 1526  grad_norm: 15.2372  loss: 0.6982  top1_acc: 1.0000  top5_acc: 1.0000  loss_cls: 0.6982\r\n"
     ]
    },
    {
     "name": "stdout",
     "output_type": "stream",
     "text": [
      "06/12 22:31:45 - mmengine - \u001b[4m\u001b[97mINFO\u001b[0m - Epoch(train) [1][11560/11818]  lr: 1.0000e-04  eta: 11:34:59  time: 1.2974  data_time: 0.9362  memory: 1526  grad_norm: 17.6435  loss: 1.0270  top1_acc: 0.5000  top5_acc: 1.0000  loss_cls: 1.0270\r\n"
     ]
    },
    {
     "name": "stdout",
     "output_type": "stream",
     "text": [
      "06/12 22:32:08 - mmengine - \u001b[4m\u001b[97mINFO\u001b[0m - Epoch(train) [1][11580/11818]  lr: 1.0000e-04  eta: 11:34:34  time: 1.1396  data_time: 0.7793  memory: 1526  grad_norm: 14.7608  loss: 0.8515  top1_acc: 1.0000  top5_acc: 1.0000  loss_cls: 0.8515\r\n"
     ]
    },
    {
     "name": "stdout",
     "output_type": "stream",
     "text": [
      "06/12 22:32:28 - mmengine - \u001b[4m\u001b[97mINFO\u001b[0m - Epoch(train) [1][11600/11818]  lr: 1.0000e-04  eta: 11:33:58  time: 0.9660  data_time: 0.6037  memory: 1526  grad_norm: 15.2727  loss: 0.6213  top1_acc: 0.7500  top5_acc: 1.0000  loss_cls: 0.6213\r\n"
     ]
    },
    {
     "name": "stdout",
     "output_type": "stream",
     "text": [
      "06/12 22:32:48 - mmengine - \u001b[4m\u001b[97mINFO\u001b[0m - Epoch(train) [1][11620/11818]  lr: 1.0000e-04  eta: 11:33:25  time: 1.0042  data_time: 0.6438  memory: 1526  grad_norm: 17.1915  loss: 0.7515  top1_acc: 1.0000  top5_acc: 1.0000  loss_cls: 0.7515\r\n"
     ]
    },
    {
     "name": "stdout",
     "output_type": "stream",
     "text": [
      "06/12 22:33:14 - mmengine - \u001b[4m\u001b[97mINFO\u001b[0m - Epoch(train) [1][11640/11818]  lr: 1.0000e-04  eta: 11:33:10  time: 1.3052  data_time: 0.9441  memory: 1526  grad_norm: 14.3859  loss: 0.6864  top1_acc: 0.7500  top5_acc: 1.0000  loss_cls: 0.6864\r\n"
     ]
    },
    {
     "name": "stdout",
     "output_type": "stream",
     "text": [
      "06/12 22:33:39 - mmengine - \u001b[4m\u001b[97mINFO\u001b[0m - Epoch(train) [1][11660/11818]  lr: 1.0000e-04  eta: 11:32:52  time: 1.2659  data_time: 0.9041  memory: 1526  grad_norm: 14.6418  loss: 0.6353  top1_acc: 1.0000  top5_acc: 1.0000  loss_cls: 0.6353\r\n"
     ]
    },
    {
     "name": "stdout",
     "output_type": "stream",
     "text": [
      "06/12 22:34:06 - mmengine - \u001b[4m\u001b[97mINFO\u001b[0m - Epoch(train) [1][11680/11818]  lr: 1.0000e-04  eta: 11:32:40  time: 1.3438  data_time: 0.9792  memory: 1526  grad_norm: 15.9827  loss: 0.8181  top1_acc: 1.0000  top5_acc: 1.0000  loss_cls: 0.8181\r\n"
     ]
    },
    {
     "name": "stdout",
     "output_type": "stream",
     "text": [
      "06/12 22:34:30 - mmengine - \u001b[4m\u001b[97mINFO\u001b[0m - Epoch(train) [1][11700/11818]  lr: 1.0000e-04  eta: 11:32:20  time: 1.2223  data_time: 0.8590  memory: 1526  grad_norm: 14.0254  loss: 0.6992  top1_acc: 0.5000  top5_acc: 1.0000  loss_cls: 0.6992\r\n"
     ]
    },
    {
     "name": "stdout",
     "output_type": "stream",
     "text": [
      "06/12 22:34:57 - mmengine - \u001b[4m\u001b[97mINFO\u001b[0m - Epoch(train) [1][11720/11818]  lr: 1.0000e-04  eta: 11:32:05  time: 1.3128  data_time: 0.9501  memory: 1526  grad_norm: 13.2929  loss: 0.6366  top1_acc: 1.0000  top5_acc: 1.0000  loss_cls: 0.6366\r\n"
     ]
    },
    {
     "name": "stdout",
     "output_type": "stream",
     "text": [
      "06/12 22:35:20 - mmengine - \u001b[4m\u001b[97mINFO\u001b[0m - Epoch(train) [1][11740/11818]  lr: 1.0000e-04  eta: 11:31:43  time: 1.1782  data_time: 0.8169  memory: 1526  grad_norm: 16.8140  loss: 0.9119  top1_acc: 0.7500  top5_acc: 1.0000  loss_cls: 0.9119\r\n"
     ]
    },
    {
     "name": "stdout",
     "output_type": "stream",
     "text": [
      "06/12 22:35:45 - mmengine - \u001b[4m\u001b[97mINFO\u001b[0m - Epoch(train) [1][11760/11818]  lr: 1.0000e-04  eta: 11:31:22  time: 1.2188  data_time: 0.8556  memory: 1526  grad_norm: 14.1636  loss: 0.8543  top1_acc: 0.7500  top5_acc: 1.0000  loss_cls: 0.8543\r\n"
     ]
    },
    {
     "name": "stdout",
     "output_type": "stream",
     "text": [
      "06/12 22:36:08 - mmengine - \u001b[4m\u001b[97mINFO\u001b[0m - Epoch(train) [1][11780/11818]  lr: 1.0000e-04  eta: 11:30:58  time: 1.1603  data_time: 0.7982  memory: 1526  grad_norm: 15.7661  loss: 0.6436  top1_acc: 0.7500  top5_acc: 1.0000  loss_cls: 0.6436\r\n"
     ]
    },
    {
     "name": "stdout",
     "output_type": "stream",
     "text": [
      "06/12 22:36:30 - mmengine - \u001b[4m\u001b[97mINFO\u001b[0m - Epoch(train) [1][11800/11818]  lr: 1.0000e-04  eta: 11:30:31  time: 1.1044  data_time: 0.7426  memory: 1526  grad_norm: 16.8211  loss: 0.7334  top1_acc: 0.7500  top5_acc: 1.0000  loss_cls: 0.7334\r\n"
     ]
    },
    {
     "name": "stdout",
     "output_type": "stream",
     "text": [
      "06/12 22:36:53 - mmengine - \u001b[4m\u001b[97mINFO\u001b[0m - Exp name: config_20230612_184603\r\n",
      "06/12 22:36:53 - mmengine - \u001b[4m\u001b[97mINFO\u001b[0m - Epoch(train) [1][11818/11818]  lr: 1.0000e-04  eta: 11:30:16  time: 1.2545  data_time: 0.8942  memory: 1526  grad_norm: 17.1073  loss: 0.7766  top1_acc: 1.0000  top5_acc: 1.0000  loss_cls: 0.7766\r\n",
      "06/12 22:36:53 - mmengine - \u001b[4m\u001b[97mINFO\u001b[0m - Saving checkpoint at 1 epochs\r\n"
     ]
    },
    {
     "name": "stdout",
     "output_type": "stream",
     "text": [
      "06/12 22:37:14 - mmengine - \u001b[4m\u001b[97mINFO\u001b[0m - Epoch(val) [1][ 20/263]    eta: 0:04:04  time: 1.0056  data_time: 0.9337  memory: 387  \r\n"
     ]
    },
    {
     "name": "stdout",
     "output_type": "stream",
     "text": [
      "06/12 22:37:37 - mmengine - \u001b[4m\u001b[97mINFO\u001b[0m - Epoch(val) [1][ 40/263]    eta: 0:04:02  time: 1.1659  data_time: 1.0951  memory: 387  \r\n"
     ]
    },
    {
     "name": "stdout",
     "output_type": "stream",
     "text": [
      "06/12 22:37:59 - mmengine - \u001b[4m\u001b[97mINFO\u001b[0m - Epoch(val) [1][ 60/263]    eta: 0:03:40  time: 1.0890  data_time: 1.0185  memory: 387  \r\n"
     ]
    },
    {
     "name": "stdout",
     "output_type": "stream",
     "text": [
      "06/12 22:38:19 - mmengine - \u001b[4m\u001b[97mINFO\u001b[0m - Epoch(val) [1][ 80/263]    eta: 0:03:16  time: 1.0267  data_time: 0.9555  memory: 387  \r\n"
     ]
    },
    {
     "name": "stdout",
     "output_type": "stream",
     "text": [
      "06/12 22:38:40 - mmengine - \u001b[4m\u001b[97mINFO\u001b[0m - Epoch(val) [1][100/263]    eta: 0:02:52  time: 1.0079  data_time: 0.9359  memory: 387  \r\n"
     ]
    },
    {
     "name": "stdout",
     "output_type": "stream",
     "text": [
      "06/12 22:39:04 - mmengine - \u001b[4m\u001b[97mINFO\u001b[0m - Epoch(val) [1][120/263]    eta: 0:02:35  time: 1.2339  data_time: 1.1633  memory: 387  \r\n"
     ]
    },
    {
     "name": "stdout",
     "output_type": "stream",
     "text": [
      "06/12 22:39:25 - mmengine - \u001b[4m\u001b[97mINFO\u001b[0m - Epoch(val) [1][140/263]    eta: 0:02:12  time: 1.0215  data_time: 0.9510  memory: 387  \r\n"
     ]
    },
    {
     "name": "stdout",
     "output_type": "stream",
     "text": [
      "06/12 22:39:45 - mmengine - \u001b[4m\u001b[97mINFO\u001b[0m - Epoch(val) [1][160/263]    eta: 0:01:50  time: 1.0142  data_time: 0.9439  memory: 387  \r\n"
     ]
    },
    {
     "name": "stdout",
     "output_type": "stream",
     "text": [
      "06/12 22:40:06 - mmengine - \u001b[4m\u001b[97mINFO\u001b[0m - Epoch(val) [1][180/263]    eta: 0:01:28  time: 1.0679  data_time: 0.9976  memory: 387  \r\n"
     ]
    },
    {
     "name": "stdout",
     "output_type": "stream",
     "text": [
      "06/12 22:40:28 - mmengine - \u001b[4m\u001b[97mINFO\u001b[0m - Epoch(val) [1][200/263]    eta: 0:01:07  time: 1.0784  data_time: 1.0066  memory: 387  \r\n"
     ]
    },
    {
     "name": "stdout",
     "output_type": "stream",
     "text": [
      "06/12 22:40:47 - mmengine - \u001b[4m\u001b[97mINFO\u001b[0m - Epoch(val) [1][220/263]    eta: 0:00:45  time: 0.9418  data_time: 0.8703  memory: 387  \r\n"
     ]
    },
    {
     "name": "stdout",
     "output_type": "stream",
     "text": [
      "06/12 22:41:09 - mmengine - \u001b[4m\u001b[97mINFO\u001b[0m - Epoch(val) [1][240/263]    eta: 0:00:24  time: 1.1221  data_time: 1.0515  memory: 387  \r\n"
     ]
    },
    {
     "name": "stdout",
     "output_type": "stream",
     "text": [
      "06/12 22:41:30 - mmengine - \u001b[4m\u001b[97mINFO\u001b[0m - Epoch(val) [1][260/263]    eta: 0:00:03  time: 1.0311  data_time: 0.9587  memory: 387  \r\n"
     ]
    },
    {
     "name": "stdout",
     "output_type": "stream",
     "text": [
      "06/12 22:41:32 - mmengine - \u001b[4m\u001b[97mINFO\u001b[0m - Epoch(val) [1][263/263]    acc/top1: 0.7488  acc/top5: 0.9638  acc/mean1: 0.7380  data_time: 0.9874  time: 1.0585\r\n"
     ]
    },
    {
     "name": "stdout",
     "output_type": "stream",
     "text": [
      "06/12 22:41:33 - mmengine - \u001b[4m\u001b[97mINFO\u001b[0m - The best checkpoint with 0.7488 acc/top1 at 1 epoch is saved to best_acc_top1_epoch_1.pth.\r\n"
     ]
    },
    {
     "name": "stdout",
     "output_type": "stream",
     "text": [
      "06/12 22:41:57 - mmengine - \u001b[4m\u001b[97mINFO\u001b[0m - Epoch(train) [2][   20/11818]  lr: 1.0000e-04  eta: 11:29:53  time: 1.1819  data_time: 0.8207  memory: 1526  grad_norm: 14.0699  loss: 0.7428  top1_acc: 1.0000  top5_acc: 1.0000  loss_cls: 0.7428\r\n"
     ]
    },
    {
     "name": "stdout",
     "output_type": "stream",
     "text": [
      "06/12 22:42:23 - mmengine - \u001b[4m\u001b[97mINFO\u001b[0m - Epoch(train) [2][   40/11818]  lr: 1.0000e-04  eta: 11:29:37  time: 1.2898  data_time: 0.9273  memory: 1526  grad_norm: 17.2724  loss: 0.9464  top1_acc: 1.0000  top5_acc: 1.0000  loss_cls: 0.9464\r\n"
     ]
    },
    {
     "name": "stdout",
     "output_type": "stream",
     "text": [
      "06/12 22:42:47 - mmengine - \u001b[4m\u001b[97mINFO\u001b[0m - Epoch(train) [2][   60/11818]  lr: 1.0000e-04  eta: 11:29:17  time: 1.2127  data_time: 0.8513  memory: 1526  grad_norm: 16.4420  loss: 0.8115  top1_acc: 1.0000  top5_acc: 1.0000  loss_cls: 0.8115\r\n"
     ]
    },
    {
     "name": "stdout",
     "output_type": "stream",
     "text": [
      "06/12 22:43:12 - mmengine - \u001b[4m\u001b[97mINFO\u001b[0m - Epoch(train) [2][   80/11818]  lr: 1.0000e-04  eta: 11:28:58  time: 1.2462  data_time: 0.8857  memory: 1526  grad_norm: 17.0085  loss: 0.8941  top1_acc: 1.0000  top5_acc: 1.0000  loss_cls: 0.8941\r\n"
     ]
    },
    {
     "name": "stdout",
     "output_type": "stream",
     "text": [
      "06/12 22:43:33 - mmengine - \u001b[4m\u001b[97mINFO\u001b[0m - Epoch(train) [2][  100/11818]  lr: 1.0000e-04  eta: 11:28:29  time: 1.0733  data_time: 0.7096  memory: 1526  grad_norm: 14.0687  loss: 0.6963  top1_acc: 0.7500  top5_acc: 1.0000  loss_cls: 0.6963\r\n"
     ]
    },
    {
     "name": "stdout",
     "output_type": "stream",
     "text": [
      "06/12 22:43:57 - mmengine - \u001b[4m\u001b[97mINFO\u001b[0m - Epoch(train) [2][  120/11818]  lr: 1.0000e-04  eta: 11:28:05  time: 1.1679  data_time: 0.8037  memory: 1526  grad_norm: 15.5276  loss: 0.7833  top1_acc: 1.0000  top5_acc: 1.0000  loss_cls: 0.7833\r\n"
     ]
    },
    {
     "name": "stdout",
     "output_type": "stream",
     "text": [
      "06/12 22:44:20 - mmengine - \u001b[4m\u001b[97mINFO\u001b[0m - Epoch(train) [2][  140/11818]  lr: 1.0000e-04  eta: 11:27:41  time: 1.1478  data_time: 0.7870  memory: 1526  grad_norm: 15.0831  loss: 0.7386  top1_acc: 0.7500  top5_acc: 1.0000  loss_cls: 0.7386\r\n"
     ]
    },
    {
     "name": "stdout",
     "output_type": "stream",
     "text": [
      "06/12 22:44:43 - mmengine - \u001b[4m\u001b[97mINFO\u001b[0m - Epoch(train) [2][  160/11818]  lr: 1.0000e-04  eta: 11:27:18  time: 1.1696  data_time: 0.8072  memory: 1526  grad_norm: 15.1172  loss: 0.6395  top1_acc: 0.5000  top5_acc: 1.0000  loss_cls: 0.6395\r\n"
     ]
    },
    {
     "name": "stdout",
     "output_type": "stream",
     "text": [
      "06/12 22:45:08 - mmengine - \u001b[4m\u001b[97mINFO\u001b[0m - Epoch(train) [2][  180/11818]  lr: 1.0000e-04  eta: 11:26:58  time: 1.2298  data_time: 0.8674  memory: 1526  grad_norm: 15.4622  loss: 0.7882  top1_acc: 0.7500  top5_acc: 0.7500  loss_cls: 0.7882\r\n"
     ]
    },
    {
     "name": "stdout",
     "output_type": "stream",
     "text": [
      "06/12 22:45:09 - mmengine - \u001b[4m\u001b[97mINFO\u001b[0m - Exp name: config_20230612_184603\r\n"
     ]
    },
    {
     "name": "stdout",
     "output_type": "stream",
     "text": [
      "06/12 22:45:29 - mmengine - \u001b[4m\u001b[97mINFO\u001b[0m - Epoch(train) [2][  200/11818]  lr: 1.0000e-04  eta: 11:26:29  time: 1.0742  data_time: 0.7124  memory: 1526  grad_norm: 14.6305  loss: 0.7388  top1_acc: 0.7500  top5_acc: 1.0000  loss_cls: 0.7388\r\n"
     ]
    },
    {
     "name": "stdout",
     "output_type": "stream",
     "text": [
      "06/12 22:45:55 - mmengine - \u001b[4m\u001b[97mINFO\u001b[0m - Epoch(train) [2][  220/11818]  lr: 1.0000e-04  eta: 11:26:13  time: 1.3007  data_time: 0.9403  memory: 1526  grad_norm: 15.2184  loss: 0.6771  top1_acc: 0.7500  top5_acc: 1.0000  loss_cls: 0.6771\r\n"
     ]
    },
    {
     "name": "stdout",
     "output_type": "stream",
     "text": [
      "06/12 22:46:19 - mmengine - \u001b[4m\u001b[97mINFO\u001b[0m - Epoch(train) [2][  240/11818]  lr: 1.0000e-04  eta: 11:25:51  time: 1.1889  data_time: 0.8291  memory: 1526  grad_norm: 12.4025  loss: 0.6463  top1_acc: 1.0000  top5_acc: 1.0000  loss_cls: 0.6463\r\n"
     ]
    },
    {
     "name": "stdout",
     "output_type": "stream",
     "text": [
      "06/12 22:46:44 - mmengine - \u001b[4m\u001b[97mINFO\u001b[0m - Epoch(train) [2][  260/11818]  lr: 1.0000e-04  eta: 11:25:31  time: 1.2306  data_time: 0.8693  memory: 1526  grad_norm: 13.9991  loss: 0.6809  top1_acc: 1.0000  top5_acc: 1.0000  loss_cls: 0.6809\r\n"
     ]
    },
    {
     "name": "stdout",
     "output_type": "stream",
     "text": [
      "06/12 22:47:09 - mmengine - \u001b[4m\u001b[97mINFO\u001b[0m - Epoch(train) [2][  280/11818]  lr: 1.0000e-04  eta: 11:25:15  time: 1.2854  data_time: 0.9243  memory: 1526  grad_norm: 16.0504  loss: 0.8373  top1_acc: 0.7500  top5_acc: 1.0000  loss_cls: 0.8373\r\n"
     ]
    },
    {
     "name": "stdout",
     "output_type": "stream",
     "text": [
      "06/12 22:47:35 - mmengine - \u001b[4m\u001b[97mINFO\u001b[0m - Epoch(train) [2][  300/11818]  lr: 1.0000e-04  eta: 11:24:58  time: 1.2762  data_time: 0.9133  memory: 1526  grad_norm: 20.0480  loss: 0.8736  top1_acc: 0.7500  top5_acc: 1.0000  loss_cls: 0.8736\r\n"
     ]
    },
    {
     "name": "stdout",
     "output_type": "stream",
     "text": [
      "06/12 22:47:57 - mmengine - \u001b[4m\u001b[97mINFO\u001b[0m - Epoch(train) [2][  320/11818]  lr: 1.0000e-04  eta: 11:24:30  time: 1.0951  data_time: 0.7347  memory: 1526  grad_norm: 14.3570  loss: 0.7675  top1_acc: 0.5000  top5_acc: 1.0000  loss_cls: 0.7675\r\n"
     ]
    },
    {
     "name": "stdout",
     "output_type": "stream",
     "text": [
      "06/12 22:48:19 - mmengine - \u001b[4m\u001b[97mINFO\u001b[0m - Epoch(train) [2][  340/11818]  lr: 1.0000e-04  eta: 11:24:03  time: 1.1075  data_time: 0.7445  memory: 1526  grad_norm: 16.9631  loss: 0.8860  top1_acc: 0.5000  top5_acc: 0.7500  loss_cls: 0.8860\r\n"
     ]
    },
    {
     "name": "stdout",
     "output_type": "stream",
     "text": [
      "06/12 22:48:45 - mmengine - \u001b[4m\u001b[97mINFO\u001b[0m - Epoch(train) [2][  360/11818]  lr: 1.0000e-04  eta: 11:23:47  time: 1.2954  data_time: 0.9353  memory: 1526  grad_norm: 16.6613  loss: 0.6661  top1_acc: 1.0000  top5_acc: 1.0000  loss_cls: 0.6661\r\n"
     ]
    },
    {
     "name": "stdout",
     "output_type": "stream",
     "text": [
      "06/12 22:49:08 - mmengine - \u001b[4m\u001b[97mINFO\u001b[0m - Epoch(train) [2][  380/11818]  lr: 1.0000e-04  eta: 11:23:23  time: 1.1571  data_time: 0.7967  memory: 1526  grad_norm: 17.6849  loss: 0.7746  top1_acc: 1.0000  top5_acc: 1.0000  loss_cls: 0.7746\r\n"
     ]
    },
    {
     "name": "stdout",
     "output_type": "stream",
     "text": [
      "06/12 22:49:30 - mmengine - \u001b[4m\u001b[97mINFO\u001b[0m - Epoch(train) [2][  400/11818]  lr: 1.0000e-04  eta: 11:22:56  time: 1.1155  data_time: 0.7521  memory: 1526  grad_norm: 13.8057  loss: 0.7271  top1_acc: 1.0000  top5_acc: 1.0000  loss_cls: 0.7271\r\n"
     ]
    },
    {
     "name": "stdout",
     "output_type": "stream",
     "text": [
      "06/12 22:49:57 - mmengine - \u001b[4m\u001b[97mINFO\u001b[0m - Epoch(train) [2][  420/11818]  lr: 1.0000e-04  eta: 11:22:44  time: 1.3563  data_time: 0.9950  memory: 1526  grad_norm: 17.5458  loss: 0.9163  top1_acc: 0.7500  top5_acc: 1.0000  loss_cls: 0.9163\r\n"
     ]
    },
    {
     "name": "stdout",
     "output_type": "stream",
     "text": [
      "06/12 22:50:20 - mmengine - \u001b[4m\u001b[97mINFO\u001b[0m - Epoch(train) [2][  440/11818]  lr: 1.0000e-04  eta: 11:22:17  time: 1.1071  data_time: 0.7465  memory: 1526  grad_norm: 12.0883  loss: 0.5644  top1_acc: 0.7500  top5_acc: 1.0000  loss_cls: 0.5644\r\n"
     ]
    },
    {
     "name": "stdout",
     "output_type": "stream",
     "text": [
      "06/12 22:50:46 - mmengine - \u001b[4m\u001b[97mINFO\u001b[0m - Epoch(train) [2][  460/11818]  lr: 1.0000e-04  eta: 11:22:02  time: 1.3204  data_time: 0.9590  memory: 1526  grad_norm: 16.6050  loss: 0.6433  top1_acc: 0.7500  top5_acc: 1.0000  loss_cls: 0.6433\r\n"
     ]
    },
    {
     "name": "stdout",
     "output_type": "stream",
     "text": [
      "06/12 22:51:06 - mmengine - \u001b[4m\u001b[97mINFO\u001b[0m - Epoch(train) [2][  480/11818]  lr: 1.0000e-04  eta: 11:21:30  time: 1.0091  data_time: 0.6472  memory: 1526  grad_norm: 13.7552  loss: 0.6465  top1_acc: 0.7500  top5_acc: 0.7500  loss_cls: 0.6465\r\n"
     ]
    },
    {
     "name": "stdout",
     "output_type": "stream",
     "text": [
      "06/12 22:51:33 - mmengine - \u001b[4m\u001b[97mINFO\u001b[0m - Epoch(train) [2][  500/11818]  lr: 1.0000e-04  eta: 11:21:16  time: 1.3507  data_time: 0.9880  memory: 1526  grad_norm: 17.0244  loss: 0.6874  top1_acc: 1.0000  top5_acc: 1.0000  loss_cls: 0.6874\r\n"
     ]
    },
    {
     "name": "stdout",
     "output_type": "stream",
     "text": [
      "06/12 22:51:55 - mmengine - \u001b[4m\u001b[97mINFO\u001b[0m - Epoch(train) [2][  520/11818]  lr: 1.0000e-04  eta: 11:20:48  time: 1.0871  data_time: 0.7256  memory: 1526  grad_norm: 15.6594  loss: 0.7769  top1_acc: 0.7500  top5_acc: 1.0000  loss_cls: 0.7769\r\n"
     ]
    },
    {
     "name": "stdout",
     "output_type": "stream",
     "text": [
      "06/12 22:52:19 - mmengine - \u001b[4m\u001b[97mINFO\u001b[0m - Epoch(train) [2][  540/11818]  lr: 1.0000e-04  eta: 11:20:26  time: 1.1920  data_time: 0.8316  memory: 1526  grad_norm: 12.7068  loss: 0.6150  top1_acc: 1.0000  top5_acc: 1.0000  loss_cls: 0.6150\r\n"
     ]
    },
    {
     "name": "stdout",
     "output_type": "stream",
     "text": [
      "06/12 22:52:44 - mmengine - \u001b[4m\u001b[97mINFO\u001b[0m - Epoch(train) [2][  560/11818]  lr: 1.0000e-04  eta: 11:20:07  time: 1.2429  data_time: 0.8797  memory: 1526  grad_norm: 13.6650  loss: 0.6423  top1_acc: 0.7500  top5_acc: 1.0000  loss_cls: 0.6423\r\n"
     ]
    },
    {
     "name": "stdout",
     "output_type": "stream",
     "text": [
      "06/12 22:53:06 - mmengine - \u001b[4m\u001b[97mINFO\u001b[0m - Epoch(train) [2][  580/11818]  lr: 1.0000e-04  eta: 11:19:40  time: 1.1093  data_time: 0.7466  memory: 1526  grad_norm: 15.2365  loss: 0.6864  top1_acc: 0.7500  top5_acc: 1.0000  loss_cls: 0.6864\r\n"
     ]
    },
    {
     "name": "stdout",
     "output_type": "stream",
     "text": [
      "06/12 22:53:30 - mmengine - \u001b[4m\u001b[97mINFO\u001b[0m - Epoch(train) [2][  600/11818]  lr: 1.0000e-04  eta: 11:19:20  time: 1.2254  data_time: 0.8647  memory: 1526  grad_norm: 14.0922  loss: 0.5939  top1_acc: 0.5000  top5_acc: 1.0000  loss_cls: 0.5939\r\n"
     ]
    },
    {
     "name": "stdout",
     "output_type": "stream",
     "text": [
      "06/12 22:53:54 - mmengine - \u001b[4m\u001b[97mINFO\u001b[0m - Epoch(train) [2][  620/11818]  lr: 1.0000e-04  eta: 11:18:56  time: 1.1580  data_time: 0.7973  memory: 1526  grad_norm: 11.8413  loss: 0.4753  top1_acc: 0.7500  top5_acc: 1.0000  loss_cls: 0.4753\r\n"
     ]
    },
    {
     "name": "stdout",
     "output_type": "stream",
     "text": [
      "06/12 22:54:17 - mmengine - \u001b[4m\u001b[97mINFO\u001b[0m - Epoch(train) [2][  640/11818]  lr: 1.0000e-04  eta: 11:18:33  time: 1.1802  data_time: 0.8176  memory: 1526  grad_norm: 15.3571  loss: 0.7238  top1_acc: 0.7500  top5_acc: 1.0000  loss_cls: 0.7238\r\n"
     ]
    },
    {
     "name": "stdout",
     "output_type": "stream",
     "text": [
      "06/12 22:54:43 - mmengine - \u001b[4m\u001b[97mINFO\u001b[0m - Epoch(train) [2][  660/11818]  lr: 1.0000e-04  eta: 11:18:17  time: 1.2999  data_time: 0.9367  memory: 1526  grad_norm: 17.9155  loss: 0.9247  top1_acc: 0.5000  top5_acc: 0.5000  loss_cls: 0.9247\r\n"
     ]
    },
    {
     "name": "stdout",
     "output_type": "stream",
     "text": [
      "06/12 22:55:09 - mmengine - \u001b[4m\u001b[97mINFO\u001b[0m - Epoch(train) [2][  680/11818]  lr: 1.0000e-04  eta: 11:18:02  time: 1.3157  data_time: 0.9541  memory: 1526  grad_norm: 16.3681  loss: 0.7682  top1_acc: 1.0000  top5_acc: 1.0000  loss_cls: 0.7682\r\n"
     ]
    },
    {
     "name": "stdout",
     "output_type": "stream",
     "text": [
      "06/12 22:55:38 - mmengine - \u001b[4m\u001b[97mINFO\u001b[0m - Epoch(train) [2][  700/11818]  lr: 1.0000e-04  eta: 11:17:53  time: 1.4241  data_time: 1.0629  memory: 1526  grad_norm: 17.8321  loss: 0.7002  top1_acc: 0.7500  top5_acc: 1.0000  loss_cls: 0.7002\r\n"
     ]
    },
    {
     "name": "stdout",
     "output_type": "stream",
     "text": [
      "06/12 22:56:05 - mmengine - \u001b[4m\u001b[97mINFO\u001b[0m - Epoch(train) [2][  720/11818]  lr: 1.0000e-04  eta: 11:17:39  time: 1.3466  data_time: 0.9856  memory: 1526  grad_norm: 16.9381  loss: 0.7465  top1_acc: 0.7500  top5_acc: 1.0000  loss_cls: 0.7465\r\n"
     ]
    },
    {
     "name": "stdout",
     "output_type": "stream",
     "text": [
      "06/12 22:56:28 - mmengine - \u001b[4m\u001b[97mINFO\u001b[0m - Epoch(train) [2][  740/11818]  lr: 1.0000e-04  eta: 11:17:16  time: 1.1720  data_time: 0.8118  memory: 1526  grad_norm: 16.8916  loss: 0.8010  top1_acc: 0.5000  top5_acc: 1.0000  loss_cls: 0.8010\r\n"
     ]
    },
    {
     "name": "stdout",
     "output_type": "stream",
     "text": [
      "06/12 22:56:52 - mmengine - \u001b[4m\u001b[97mINFO\u001b[0m - Epoch(train) [2][  760/11818]  lr: 1.0000e-04  eta: 11:16:54  time: 1.2048  data_time: 0.8428  memory: 1526  grad_norm: 15.4066  loss: 0.7785  top1_acc: 1.0000  top5_acc: 1.0000  loss_cls: 0.7785\r\n"
     ]
    },
    {
     "name": "stdout",
     "output_type": "stream",
     "text": [
      "06/12 22:57:15 - mmengine - \u001b[4m\u001b[97mINFO\u001b[0m - Epoch(train) [2][  780/11818]  lr: 1.0000e-04  eta: 11:16:29  time: 1.1436  data_time: 0.7822  memory: 1526  grad_norm: 16.2285  loss: 0.6104  top1_acc: 0.7500  top5_acc: 1.0000  loss_cls: 0.6104\r\n"
     ]
    },
    {
     "name": "stdout",
     "output_type": "stream",
     "text": [
      "06/12 22:57:39 - mmengine - \u001b[4m\u001b[97mINFO\u001b[0m - Epoch(train) [2][  800/11818]  lr: 1.0000e-04  eta: 11:16:08  time: 1.2070  data_time: 0.8451  memory: 1526  grad_norm: 16.8140  loss: 0.8216  top1_acc: 0.7500  top5_acc: 1.0000  loss_cls: 0.8216\r\n"
     ]
    },
    {
     "name": "stdout",
     "output_type": "stream",
     "text": [
      "06/12 22:57:59 - mmengine - \u001b[4m\u001b[97mINFO\u001b[0m - Epoch(train) [2][  820/11818]  lr: 1.0000e-04  eta: 11:15:33  time: 0.9631  data_time: 0.6030  memory: 1526  grad_norm: 14.1923  loss: 0.6510  top1_acc: 0.5000  top5_acc: 0.7500  loss_cls: 0.6510\r\n"
     ]
    },
    {
     "name": "stdout",
     "output_type": "stream",
     "text": [
      "06/12 22:58:22 - mmengine - \u001b[4m\u001b[97mINFO\u001b[0m - Epoch(train) [2][  840/11818]  lr: 1.0000e-04  eta: 11:15:09  time: 1.1652  data_time: 0.8050  memory: 1526  grad_norm: 15.5022  loss: 0.7623  top1_acc: 0.7500  top5_acc: 1.0000  loss_cls: 0.7623\r\n"
     ]
    },
    {
     "name": "stdout",
     "output_type": "stream",
     "text": [
      "06/12 22:58:45 - mmengine - \u001b[4m\u001b[97mINFO\u001b[0m - Epoch(train) [2][  860/11818]  lr: 1.0000e-04  eta: 11:14:44  time: 1.1284  data_time: 0.7663  memory: 1526  grad_norm: 14.0997  loss: 0.5511  top1_acc: 0.7500  top5_acc: 1.0000  loss_cls: 0.5511\r\n"
     ]
    },
    {
     "name": "stdout",
     "output_type": "stream",
     "text": [
      "06/12 22:59:06 - mmengine - \u001b[4m\u001b[97mINFO\u001b[0m - Epoch(train) [2][  880/11818]  lr: 1.0000e-04  eta: 11:14:15  time: 1.0786  data_time: 0.7171  memory: 1526  grad_norm: 16.8464  loss: 0.7129  top1_acc: 1.0000  top5_acc: 1.0000  loss_cls: 0.7129\r\n"
     ]
    },
    {
     "name": "stdout",
     "output_type": "stream",
     "text": [
      "06/12 22:59:30 - mmengine - \u001b[4m\u001b[97mINFO\u001b[0m - Epoch(train) [2][  900/11818]  lr: 1.0000e-04  eta: 11:13:54  time: 1.2069  data_time: 0.8447  memory: 1526  grad_norm: 16.6042  loss: 0.7158  top1_acc: 0.7500  top5_acc: 1.0000  loss_cls: 0.7158\r\n"
     ]
    },
    {
     "name": "stdout",
     "output_type": "stream",
     "text": [
      "06/12 22:59:53 - mmengine - \u001b[4m\u001b[97mINFO\u001b[0m - Epoch(train) [2][  920/11818]  lr: 1.0000e-04  eta: 11:13:29  time: 1.1441  data_time: 0.7823  memory: 1526  grad_norm: 14.8919  loss: 0.6367  top1_acc: 0.7500  top5_acc: 1.0000  loss_cls: 0.6367\r\n"
     ]
    },
    {
     "name": "stdout",
     "output_type": "stream",
     "text": [
      "06/12 23:00:14 - mmengine - \u001b[4m\u001b[97mINFO\u001b[0m - Epoch(train) [2][  940/11818]  lr: 1.0000e-04  eta: 11:12:59  time: 1.0559  data_time: 0.6959  memory: 1526  grad_norm: 14.5489  loss: 0.6763  top1_acc: 0.7500  top5_acc: 0.7500  loss_cls: 0.6763\r\n"
     ]
    },
    {
     "name": "stdout",
     "output_type": "stream",
     "text": [
      "06/12 23:00:37 - mmengine - \u001b[4m\u001b[97mINFO\u001b[0m - Epoch(train) [2][  960/11818]  lr: 1.0000e-04  eta: 11:12:33  time: 1.1210  data_time: 0.7601  memory: 1526  grad_norm: 14.9115  loss: 0.7393  top1_acc: 1.0000  top5_acc: 1.0000  loss_cls: 0.7393\r\n"
     ]
    },
    {
     "name": "stdout",
     "output_type": "stream",
     "text": [
      "06/12 23:00:58 - mmengine - \u001b[4m\u001b[97mINFO\u001b[0m - Epoch(train) [2][  980/11818]  lr: 1.0000e-04  eta: 11:12:03  time: 1.0466  data_time: 0.6839  memory: 1526  grad_norm: 13.3463  loss: 0.5984  top1_acc: 0.7500  top5_acc: 1.0000  loss_cls: 0.5984\r\n"
     ]
    },
    {
     "name": "stdout",
     "output_type": "stream",
     "text": [
      "06/12 23:01:17 - mmengine - \u001b[4m\u001b[97mINFO\u001b[0m - Epoch(train) [2][ 1000/11818]  lr: 1.0000e-04  eta: 11:11:30  time: 0.9888  data_time: 0.6282  memory: 1526  grad_norm: 14.2672  loss: 0.6706  top1_acc: 1.0000  top5_acc: 1.0000  loss_cls: 0.6706\r\n"
     ]
    },
    {
     "name": "stdout",
     "output_type": "stream",
     "text": [
      "06/12 23:01:40 - mmengine - \u001b[4m\u001b[97mINFO\u001b[0m - Epoch(train) [2][ 1020/11818]  lr: 1.0000e-04  eta: 11:11:04  time: 1.1191  data_time: 0.7590  memory: 1526  grad_norm: 18.6009  loss: 0.9262  top1_acc: 1.0000  top5_acc: 1.0000  loss_cls: 0.9262\r\n"
     ]
    },
    {
     "name": "stdout",
     "output_type": "stream",
     "text": [
      "06/12 23:02:03 - mmengine - \u001b[4m\u001b[97mINFO\u001b[0m - Epoch(train) [2][ 1040/11818]  lr: 1.0000e-04  eta: 11:10:41  time: 1.1819  data_time: 0.8207  memory: 1526  grad_norm: 14.5340  loss: 0.6120  top1_acc: 1.0000  top5_acc: 1.0000  loss_cls: 0.6120\r\n"
     ]
    },
    {
     "name": "stdout",
     "output_type": "stream",
     "text": [
      "06/12 23:02:25 - mmengine - \u001b[4m\u001b[97mINFO\u001b[0m - Epoch(train) [2][ 1060/11818]  lr: 1.0000e-04  eta: 11:10:14  time: 1.0997  data_time: 0.7371  memory: 1526  grad_norm: 15.6062  loss: 0.7189  top1_acc: 1.0000  top5_acc: 1.0000  loss_cls: 0.7189\r\n"
     ]
    },
    {
     "name": "stdout",
     "output_type": "stream",
     "text": [
      "06/12 23:02:47 - mmengine - \u001b[4m\u001b[97mINFO\u001b[0m - Epoch(train) [2][ 1080/11818]  lr: 1.0000e-04  eta: 11:09:45  time: 1.0634  data_time: 0.7032  memory: 1526  grad_norm: 11.8017  loss: 0.4078  top1_acc: 0.7500  top5_acc: 1.0000  loss_cls: 0.4078\r\n"
     ]
    },
    {
     "name": "stdout",
     "output_type": "stream",
     "text": [
      "06/12 23:03:13 - mmengine - \u001b[4m\u001b[97mINFO\u001b[0m - Epoch(train) [2][ 1100/11818]  lr: 1.0000e-04  eta: 11:09:29  time: 1.3091  data_time: 0.9461  memory: 1526  grad_norm: 14.8906  loss: 0.7853  top1_acc: 0.7500  top5_acc: 1.0000  loss_cls: 0.7853\r\n"
     ]
    },
    {
     "name": "stdout",
     "output_type": "stream",
     "text": [
      "06/12 23:03:40 - mmengine - \u001b[4m\u001b[97mINFO\u001b[0m - Epoch(train) [2][ 1120/11818]  lr: 1.0000e-04  eta: 11:09:15  time: 1.3443  data_time: 0.9838  memory: 1526  grad_norm: 15.0082  loss: 0.7416  top1_acc: 0.5000  top5_acc: 1.0000  loss_cls: 0.7416\r\n"
     ]
    },
    {
     "name": "stdout",
     "output_type": "stream",
     "text": [
      "06/12 23:04:02 - mmengine - \u001b[4m\u001b[97mINFO\u001b[0m - Epoch(train) [2][ 1140/11818]  lr: 1.0000e-04  eta: 11:08:48  time: 1.0935  data_time: 0.7316  memory: 1526  grad_norm: 15.8761  loss: 0.5977  top1_acc: 0.7500  top5_acc: 1.0000  loss_cls: 0.5977\r\n"
     ]
    },
    {
     "name": "stdout",
     "output_type": "stream",
     "text": [
      "06/12 23:04:23 - mmengine - \u001b[4m\u001b[97mINFO\u001b[0m - Epoch(train) [2][ 1160/11818]  lr: 1.0000e-04  eta: 11:08:18  time: 1.0544  data_time: 0.6929  memory: 1526  grad_norm: 13.3284  loss: 0.5485  top1_acc: 0.7500  top5_acc: 1.0000  loss_cls: 0.5485\r\n"
     ]
    },
    {
     "name": "stdout",
     "output_type": "stream",
     "text": [
      "06/12 23:04:42 - mmengine - \u001b[4m\u001b[97mINFO\u001b[0m - Epoch(train) [2][ 1180/11818]  lr: 1.0000e-04  eta: 11:07:45  time: 0.9879  data_time: 0.6246  memory: 1526  grad_norm: 15.5691  loss: 0.6643  top1_acc: 1.0000  top5_acc: 1.0000  loss_cls: 0.6643\r\n"
     ]
    },
    {
     "name": "stdout",
     "output_type": "stream",
     "text": [
      "06/12 23:04:44 - mmengine - \u001b[4m\u001b[97mINFO\u001b[0m - Exp name: config_20230612_184603\r\n"
     ]
    },
    {
     "name": "stdout",
     "output_type": "stream",
     "text": [
      "06/12 23:05:04 - mmengine - \u001b[4m\u001b[97mINFO\u001b[0m - Epoch(train) [2][ 1200/11818]  lr: 1.0000e-04  eta: 11:07:17  time: 1.0760  data_time: 0.7137  memory: 1526  grad_norm: 17.0316  loss: 0.8289  top1_acc: 1.0000  top5_acc: 1.0000  loss_cls: 0.8289\r\n"
     ]
    },
    {
     "name": "stdout",
     "output_type": "stream",
     "text": [
      "06/12 23:05:26 - mmengine - \u001b[4m\u001b[97mINFO\u001b[0m - Epoch(train) [2][ 1220/11818]  lr: 1.0000e-04  eta: 11:06:51  time: 1.1256  data_time: 0.7647  memory: 1526  grad_norm: 14.2465  loss: 0.6539  top1_acc: 1.0000  top5_acc: 1.0000  loss_cls: 0.6539\r\n"
     ]
    },
    {
     "name": "stdout",
     "output_type": "stream",
     "text": [
      "06/12 23:05:50 - mmengine - \u001b[4m\u001b[97mINFO\u001b[0m - Epoch(train) [2][ 1240/11818]  lr: 1.0000e-04  eta: 11:06:28  time: 1.1697  data_time: 0.8072  memory: 1526  grad_norm: 14.4881  loss: 0.6930  top1_acc: 1.0000  top5_acc: 1.0000  loss_cls: 0.6930\r\n"
     ]
    },
    {
     "name": "stdout",
     "output_type": "stream",
     "text": [
      "06/12 23:06:15 - mmengine - \u001b[4m\u001b[97mINFO\u001b[0m - Epoch(train) [2][ 1260/11818]  lr: 1.0000e-04  eta: 11:06:10  time: 1.2737  data_time: 0.9118  memory: 1526  grad_norm: 15.3053  loss: 0.6885  top1_acc: 0.7500  top5_acc: 1.0000  loss_cls: 0.6885\r\n"
     ]
    },
    {
     "name": "stdout",
     "output_type": "stream",
     "text": [
      "06/12 23:06:38 - mmengine - \u001b[4m\u001b[97mINFO\u001b[0m - Epoch(train) [2][ 1280/11818]  lr: 1.0000e-04  eta: 11:05:46  time: 1.1519  data_time: 0.7899  memory: 1526  grad_norm: 14.8746  loss: 0.6382  top1_acc: 0.7500  top5_acc: 0.7500  loss_cls: 0.6382\r\n"
     ]
    },
    {
     "name": "stdout",
     "output_type": "stream",
     "text": [
      "06/12 23:07:03 - mmengine - \u001b[4m\u001b[97mINFO\u001b[0m - Epoch(train) [2][ 1300/11818]  lr: 1.0000e-04  eta: 11:05:25  time: 1.2079  data_time: 0.8476  memory: 1526  grad_norm: 15.6368  loss: 0.6509  top1_acc: 0.7500  top5_acc: 0.7500  loss_cls: 0.6509\r\n"
     ]
    },
    {
     "name": "stdout",
     "output_type": "stream",
     "text": [
      "06/12 23:07:29 - mmengine - \u001b[4m\u001b[97mINFO\u001b[0m - Epoch(train) [2][ 1320/11818]  lr: 1.0000e-04  eta: 11:05:09  time: 1.3107  data_time: 0.9495  memory: 1526  grad_norm: 14.9735  loss: 0.6424  top1_acc: 0.7500  top5_acc: 1.0000  loss_cls: 0.6424\r\n"
     ]
    },
    {
     "name": "stdout",
     "output_type": "stream",
     "text": [
      "06/12 23:07:49 - mmengine - \u001b[4m\u001b[97mINFO\u001b[0m - Epoch(train) [2][ 1340/11818]  lr: 1.0000e-04  eta: 11:04:38  time: 1.0258  data_time: 0.6649  memory: 1526  grad_norm: 15.6328  loss: 0.6692  top1_acc: 1.0000  top5_acc: 1.0000  loss_cls: 0.6692\r\n"
     ]
    },
    {
     "name": "stdout",
     "output_type": "stream",
     "text": [
      "06/12 23:08:14 - mmengine - \u001b[4m\u001b[97mINFO\u001b[0m - Epoch(train) [2][ 1360/11818]  lr: 1.0000e-04  eta: 11:04:17  time: 1.2284  data_time: 0.8656  memory: 1526  grad_norm: 14.7437  loss: 0.7227  top1_acc: 1.0000  top5_acc: 1.0000  loss_cls: 0.7227\r\n"
     ]
    },
    {
     "name": "stdout",
     "output_type": "stream",
     "text": [
      "06/12 23:08:36 - mmengine - \u001b[4m\u001b[97mINFO\u001b[0m - Epoch(train) [2][ 1380/11818]  lr: 1.0000e-04  eta: 11:03:52  time: 1.1222  data_time: 0.7607  memory: 1526  grad_norm: 15.8174  loss: 0.7622  top1_acc: 0.7500  top5_acc: 1.0000  loss_cls: 0.7622\r\n"
     ]
    },
    {
     "name": "stdout",
     "output_type": "stream",
     "text": [
      "06/12 23:09:00 - mmengine - \u001b[4m\u001b[97mINFO\u001b[0m - Epoch(train) [2][ 1400/11818]  lr: 1.0000e-04  eta: 11:03:30  time: 1.2043  data_time: 0.8422  memory: 1526  grad_norm: 15.3792  loss: 0.6077  top1_acc: 0.5000  top5_acc: 1.0000  loss_cls: 0.6077\r\n"
     ]
    },
    {
     "name": "stdout",
     "output_type": "stream",
     "text": [
      "06/12 23:09:22 - mmengine - \u001b[4m\u001b[97mINFO\u001b[0m - Epoch(train) [2][ 1420/11818]  lr: 1.0000e-04  eta: 11:03:03  time: 1.0996  data_time: 0.7381  memory: 1526  grad_norm: 14.9149  loss: 0.5932  top1_acc: 0.7500  top5_acc: 1.0000  loss_cls: 0.5932\r\n"
     ]
    },
    {
     "name": "stdout",
     "output_type": "stream",
     "text": [
      "06/12 23:09:46 - mmengine - \u001b[4m\u001b[97mINFO\u001b[0m - Epoch(train) [2][ 1440/11818]  lr: 1.0000e-04  eta: 11:02:39  time: 1.1552  data_time: 0.7936  memory: 1526  grad_norm: 14.7352  loss: 0.6224  top1_acc: 0.7500  top5_acc: 1.0000  loss_cls: 0.6224\r\n"
     ]
    },
    {
     "name": "stdout",
     "output_type": "stream",
     "text": [
      "06/12 23:10:06 - mmengine - \u001b[4m\u001b[97mINFO\u001b[0m - Epoch(train) [2][ 1460/11818]  lr: 1.0000e-04  eta: 11:02:09  time: 1.0311  data_time: 0.6694  memory: 1526  grad_norm: 16.2317  loss: 0.7311  top1_acc: 0.7500  top5_acc: 1.0000  loss_cls: 0.7311\r\n"
     ]
    },
    {
     "name": "stdout",
     "output_type": "stream",
     "text": [
      "06/12 23:10:27 - mmengine - \u001b[4m\u001b[97mINFO\u001b[0m - Epoch(train) [2][ 1480/11818]  lr: 1.0000e-04  eta: 11:01:39  time: 1.0553  data_time: 0.6932  memory: 1526  grad_norm: 15.5958  loss: 0.7193  top1_acc: 0.7500  top5_acc: 1.0000  loss_cls: 0.7193\r\n"
     ]
    },
    {
     "name": "stdout",
     "output_type": "stream",
     "text": [
      "06/12 23:10:54 - mmengine - \u001b[4m\u001b[97mINFO\u001b[0m - Epoch(train) [2][ 1500/11818]  lr: 1.0000e-04  eta: 11:01:24  time: 1.3240  data_time: 0.9610  memory: 1526  grad_norm: 15.1254  loss: 0.7329  top1_acc: 0.5000  top5_acc: 0.7500  loss_cls: 0.7329\r\n"
     ]
    },
    {
     "name": "stdout",
     "output_type": "stream",
     "text": [
      "06/12 23:11:16 - mmengine - \u001b[4m\u001b[97mINFO\u001b[0m - Epoch(train) [2][ 1520/11818]  lr: 1.0000e-04  eta: 11:00:58  time: 1.1241  data_time: 0.7642  memory: 1526  grad_norm: 16.0161  loss: 0.6042  top1_acc: 1.0000  top5_acc: 1.0000  loss_cls: 0.6042\r\n"
     ]
    },
    {
     "name": "stdout",
     "output_type": "stream",
     "text": [
      "06/12 23:11:40 - mmengine - \u001b[4m\u001b[97mINFO\u001b[0m - Epoch(train) [2][ 1540/11818]  lr: 1.0000e-04  eta: 11:00:37  time: 1.2011  data_time: 0.8380  memory: 1526  grad_norm: 14.7047  loss: 0.6237  top1_acc: 1.0000  top5_acc: 1.0000  loss_cls: 0.6237\r\n"
     ]
    },
    {
     "name": "stdout",
     "output_type": "stream",
     "text": [
      "06/12 23:12:03 - mmengine - \u001b[4m\u001b[97mINFO\u001b[0m - Epoch(train) [2][ 1560/11818]  lr: 1.0000e-04  eta: 11:00:11  time: 1.1305  data_time: 0.7675  memory: 1526  grad_norm: 14.7534  loss: 0.5803  top1_acc: 0.7500  top5_acc: 1.0000  loss_cls: 0.5803\r\n"
     ]
    },
    {
     "name": "stdout",
     "output_type": "stream",
     "text": [
      "06/12 23:12:30 - mmengine - \u001b[4m\u001b[97mINFO\u001b[0m - Epoch(train) [2][ 1580/11818]  lr: 1.0000e-04  eta: 10:59:58  time: 1.3699  data_time: 1.0064  memory: 1526  grad_norm: 18.2545  loss: 0.9778  top1_acc: 0.7500  top5_acc: 1.0000  loss_cls: 0.9778\r\n"
     ]
    },
    {
     "name": "stdout",
     "output_type": "stream",
     "text": [
      "06/12 23:12:55 - mmengine - \u001b[4m\u001b[97mINFO\u001b[0m - Epoch(train) [2][ 1600/11818]  lr: 1.0000e-04  eta: 10:59:38  time: 1.2308  data_time: 0.8694  memory: 1526  grad_norm: 19.6488  loss: 0.8088  top1_acc: 1.0000  top5_acc: 1.0000  loss_cls: 0.8088\r\n"
     ]
    },
    {
     "name": "stdout",
     "output_type": "stream",
     "text": [
      "06/12 23:13:17 - mmengine - \u001b[4m\u001b[97mINFO\u001b[0m - Epoch(train) [2][ 1620/11818]  lr: 1.0000e-04  eta: 10:59:12  time: 1.1115  data_time: 0.7497  memory: 1526  grad_norm: 19.4172  loss: 0.8811  top1_acc: 0.7500  top5_acc: 1.0000  loss_cls: 0.8811\r\n"
     ]
    },
    {
     "name": "stdout",
     "output_type": "stream",
     "text": [
      "06/12 23:13:42 - mmengine - \u001b[4m\u001b[97mINFO\u001b[0m - Epoch(train) [2][ 1640/11818]  lr: 1.0000e-04  eta: 10:58:53  time: 1.2634  data_time: 0.9019  memory: 1526  grad_norm: 15.9734  loss: 0.6468  top1_acc: 0.7500  top5_acc: 1.0000  loss_cls: 0.6468\r\n"
     ]
    },
    {
     "name": "stdout",
     "output_type": "stream",
     "text": [
      "06/12 23:14:07 - mmengine - \u001b[4m\u001b[97mINFO\u001b[0m - Epoch(train) [2][ 1660/11818]  lr: 1.0000e-04  eta: 10:58:32  time: 1.2161  data_time: 0.8547  memory: 1526  grad_norm: 14.9781  loss: 0.7329  top1_acc: 0.7500  top5_acc: 1.0000  loss_cls: 0.7329\r\n"
     ]
    },
    {
     "name": "stdout",
     "output_type": "stream",
     "text": [
      "06/12 23:14:30 - mmengine - \u001b[4m\u001b[97mINFO\u001b[0m - Epoch(train) [2][ 1680/11818]  lr: 1.0000e-04  eta: 10:58:07  time: 1.1461  data_time: 0.7828  memory: 1526  grad_norm: 16.9525  loss: 0.8113  top1_acc: 1.0000  top5_acc: 1.0000  loss_cls: 0.8113\r\n"
     ]
    },
    {
     "name": "stdout",
     "output_type": "stream",
     "text": [
      "06/12 23:14:52 - mmengine - \u001b[4m\u001b[97mINFO\u001b[0m - Epoch(train) [2][ 1700/11818]  lr: 1.0000e-04  eta: 10:57:42  time: 1.1267  data_time: 0.7656  memory: 1526  grad_norm: 17.2885  loss: 0.7114  top1_acc: 0.7500  top5_acc: 1.0000  loss_cls: 0.7114\r\n"
     ]
    },
    {
     "name": "stdout",
     "output_type": "stream",
     "text": [
      "06/12 23:15:16 - mmengine - \u001b[4m\u001b[97mINFO\u001b[0m - Epoch(train) [2][ 1720/11818]  lr: 1.0000e-04  eta: 10:57:19  time: 1.1868  data_time: 0.8225  memory: 1526  grad_norm: 15.7440  loss: 0.7963  top1_acc: 0.7500  top5_acc: 1.0000  loss_cls: 0.7963\r\n"
     ]
    },
    {
     "name": "stdout",
     "output_type": "stream",
     "text": [
      "06/12 23:15:37 - mmengine - \u001b[4m\u001b[97mINFO\u001b[0m - Epoch(train) [2][ 1740/11818]  lr: 1.0000e-04  eta: 10:56:51  time: 1.0738  data_time: 0.7098  memory: 1526  grad_norm: 15.0517  loss: 0.6271  top1_acc: 1.0000  top5_acc: 1.0000  loss_cls: 0.6271\r\n"
     ]
    },
    {
     "name": "stdout",
     "output_type": "stream",
     "text": [
      "06/12 23:16:01 - mmengine - \u001b[4m\u001b[97mINFO\u001b[0m - Epoch(train) [2][ 1760/11818]  lr: 1.0000e-04  eta: 10:56:28  time: 1.1631  data_time: 0.8013  memory: 1526  grad_norm: 15.8053  loss: 0.7009  top1_acc: 1.0000  top5_acc: 1.0000  loss_cls: 0.7009\r\n"
     ]
    },
    {
     "name": "stdout",
     "output_type": "stream",
     "text": [
      "06/12 23:16:28 - mmengine - \u001b[4m\u001b[97mINFO\u001b[0m - Epoch(train) [2][ 1780/11818]  lr: 1.0000e-04  eta: 10:56:15  time: 1.3865  data_time: 1.0251  memory: 1526  grad_norm: 16.5865  loss: 0.8034  top1_acc: 1.0000  top5_acc: 1.0000  loss_cls: 0.8034\r\n"
     ]
    },
    {
     "name": "stdout",
     "output_type": "stream",
     "text": [
      "06/12 23:16:52 - mmengine - \u001b[4m\u001b[97mINFO\u001b[0m - Epoch(train) [2][ 1800/11818]  lr: 1.0000e-04  eta: 10:55:53  time: 1.2022  data_time: 0.8396  memory: 1526  grad_norm: 15.7087  loss: 0.8000  top1_acc: 0.7500  top5_acc: 1.0000  loss_cls: 0.8000\r\n"
     ]
    },
    {
     "name": "stdout",
     "output_type": "stream",
     "text": [
      "06/12 23:17:17 - mmengine - \u001b[4m\u001b[97mINFO\u001b[0m - Epoch(train) [2][ 1820/11818]  lr: 1.0000e-04  eta: 10:55:32  time: 1.2196  data_time: 0.8563  memory: 1526  grad_norm: 15.3009  loss: 0.7551  top1_acc: 0.5000  top5_acc: 1.0000  loss_cls: 0.7551\r\n"
     ]
    },
    {
     "name": "stdout",
     "output_type": "stream",
     "text": [
      "06/12 23:17:40 - mmengine - \u001b[4m\u001b[97mINFO\u001b[0m - Epoch(train) [2][ 1840/11818]  lr: 1.0000e-04  eta: 10:55:08  time: 1.1577  data_time: 0.7965  memory: 1526  grad_norm: 14.4616  loss: 0.5900  top1_acc: 0.5000  top5_acc: 1.0000  loss_cls: 0.5900\r\n"
     ]
    },
    {
     "name": "stdout",
     "output_type": "stream",
     "text": [
      "06/12 23:18:04 - mmengine - \u001b[4m\u001b[97mINFO\u001b[0m - Epoch(train) [2][ 1860/11818]  lr: 1.0000e-04  eta: 10:54:47  time: 1.2106  data_time: 0.8495  memory: 1526  grad_norm: 13.5702  loss: 0.5567  top1_acc: 0.5000  top5_acc: 1.0000  loss_cls: 0.5567\r\n"
     ]
    },
    {
     "name": "stdout",
     "output_type": "stream",
     "text": [
      "06/12 23:18:28 - mmengine - \u001b[4m\u001b[97mINFO\u001b[0m - Epoch(train) [2][ 1880/11818]  lr: 1.0000e-04  eta: 10:54:24  time: 1.1869  data_time: 0.8259  memory: 1526  grad_norm: 17.1078  loss: 0.7311  top1_acc: 0.5000  top5_acc: 1.0000  loss_cls: 0.7311\r\n"
     ]
    },
    {
     "name": "stdout",
     "output_type": "stream",
     "text": [
      "06/12 23:18:51 - mmengine - \u001b[4m\u001b[97mINFO\u001b[0m - Epoch(train) [2][ 1900/11818]  lr: 1.0000e-04  eta: 10:54:00  time: 1.1484  data_time: 0.7866  memory: 1526  grad_norm: 18.1376  loss: 0.8084  top1_acc: 0.7500  top5_acc: 1.0000  loss_cls: 0.8084\r\n"
     ]
    },
    {
     "name": "stdout",
     "output_type": "stream",
     "text": [
      "06/12 23:19:14 - mmengine - \u001b[4m\u001b[97mINFO\u001b[0m - Epoch(train) [2][ 1920/11818]  lr: 1.0000e-04  eta: 10:53:36  time: 1.1468  data_time: 0.7858  memory: 1526  grad_norm: 15.0308  loss: 0.6146  top1_acc: 1.0000  top5_acc: 1.0000  loss_cls: 0.6146\r\n"
     ]
    },
    {
     "name": "stdout",
     "output_type": "stream",
     "text": [
      "06/12 23:19:36 - mmengine - \u001b[4m\u001b[97mINFO\u001b[0m - Epoch(train) [2][ 1940/11818]  lr: 1.0000e-04  eta: 10:53:09  time: 1.1033  data_time: 0.7407  memory: 1526  grad_norm: 14.6127  loss: 0.6649  top1_acc: 1.0000  top5_acc: 1.0000  loss_cls: 0.6649\r\n"
     ]
    },
    {
     "name": "stdout",
     "output_type": "stream",
     "text": [
      "06/12 23:19:59 - mmengine - \u001b[4m\u001b[97mINFO\u001b[0m - Epoch(train) [2][ 1960/11818]  lr: 1.0000e-04  eta: 10:52:46  time: 1.1732  data_time: 0.8108  memory: 1526  grad_norm: 14.4103  loss: 0.5800  top1_acc: 1.0000  top5_acc: 1.0000  loss_cls: 0.5800\r\n"
     ]
    },
    {
     "name": "stdout",
     "output_type": "stream",
     "text": [
      "06/12 23:20:25 - mmengine - \u001b[4m\u001b[97mINFO\u001b[0m - Epoch(train) [2][ 1980/11818]  lr: 1.0000e-04  eta: 10:52:28  time: 1.2801  data_time: 0.9188  memory: 1526  grad_norm: 16.9163  loss: 0.7640  top1_acc: 0.7500  top5_acc: 1.0000  loss_cls: 0.7640\r\n"
     ]
    },
    {
     "name": "stdout",
     "output_type": "stream",
     "text": [
      "06/12 23:20:48 - mmengine - \u001b[4m\u001b[97mINFO\u001b[0m - Epoch(train) [2][ 2000/11818]  lr: 1.0000e-04  eta: 10:52:03  time: 1.1397  data_time: 0.7773  memory: 1526  grad_norm: 14.6680  loss: 0.6139  top1_acc: 1.0000  top5_acc: 1.0000  loss_cls: 0.6139\r\n"
     ]
    },
    {
     "name": "stdout",
     "output_type": "stream",
     "text": [
      "06/12 23:21:11 - mmengine - \u001b[4m\u001b[97mINFO\u001b[0m - Epoch(train) [2][ 2020/11818]  lr: 1.0000e-04  eta: 10:51:40  time: 1.1882  data_time: 0.8256  memory: 1526  grad_norm: 16.2049  loss: 0.7726  top1_acc: 0.5000  top5_acc: 1.0000  loss_cls: 0.7726\r\n"
     ]
    },
    {
     "name": "stdout",
     "output_type": "stream",
     "text": [
      "06/12 23:21:38 - mmengine - \u001b[4m\u001b[97mINFO\u001b[0m - Epoch(train) [2][ 2040/11818]  lr: 1.0000e-04  eta: 10:51:25  time: 1.3433  data_time: 0.9803  memory: 1526  grad_norm: 16.2163  loss: 0.6785  top1_acc: 1.0000  top5_acc: 1.0000  loss_cls: 0.6785\r\n"
     ]
    },
    {
     "name": "stdout",
     "output_type": "stream",
     "text": [
      "06/12 23:22:02 - mmengine - \u001b[4m\u001b[97mINFO\u001b[0m - Epoch(train) [2][ 2060/11818]  lr: 1.0000e-04  eta: 10:51:03  time: 1.1953  data_time: 0.8329  memory: 1526  grad_norm: 18.7933  loss: 0.9466  top1_acc: 0.7500  top5_acc: 0.7500  loss_cls: 0.9466\r\n"
     ]
    },
    {
     "name": "stdout",
     "output_type": "stream",
     "text": [
      "06/12 23:22:25 - mmengine - \u001b[4m\u001b[97mINFO\u001b[0m - Epoch(train) [2][ 2080/11818]  lr: 1.0000e-04  eta: 10:50:39  time: 1.1534  data_time: 0.7916  memory: 1526  grad_norm: 16.6493  loss: 0.7601  top1_acc: 1.0000  top5_acc: 1.0000  loss_cls: 0.7601\r\n"
     ]
    },
    {
     "name": "stdout",
     "output_type": "stream",
     "text": [
      "06/12 23:22:49 - mmengine - \u001b[4m\u001b[97mINFO\u001b[0m - Epoch(train) [2][ 2100/11818]  lr: 1.0000e-04  eta: 10:50:17  time: 1.1956  data_time: 0.8331  memory: 1526  grad_norm: 17.6274  loss: 0.7494  top1_acc: 0.7500  top5_acc: 1.0000  loss_cls: 0.7494\r\n"
     ]
    },
    {
     "name": "stdout",
     "output_type": "stream",
     "text": [
      "06/12 23:23:12 - mmengine - \u001b[4m\u001b[97mINFO\u001b[0m - Epoch(train) [2][ 2120/11818]  lr: 1.0000e-04  eta: 10:49:52  time: 1.1316  data_time: 0.7685  memory: 1526  grad_norm: 15.7184  loss: 0.5360  top1_acc: 0.7500  top5_acc: 1.0000  loss_cls: 0.5360\r\n"
     ]
    },
    {
     "name": "stdout",
     "output_type": "stream",
     "text": [
      "06/12 23:23:36 - mmengine - \u001b[4m\u001b[97mINFO\u001b[0m - Epoch(train) [2][ 2140/11818]  lr: 1.0000e-04  eta: 10:49:31  time: 1.2198  data_time: 0.8558  memory: 1526  grad_norm: 17.4206  loss: 0.7985  top1_acc: 0.7500  top5_acc: 1.0000  loss_cls: 0.7985\r\n"
     ]
    },
    {
     "name": "stdout",
     "output_type": "stream",
     "text": [
      "06/12 23:24:03 - mmengine - \u001b[4m\u001b[97mINFO\u001b[0m - Epoch(train) [2][ 2160/11818]  lr: 1.0000e-04  eta: 10:49:15  time: 1.3231  data_time: 0.9586  memory: 1526  grad_norm: 15.0964  loss: 0.6822  top1_acc: 1.0000  top5_acc: 1.0000  loss_cls: 0.6822\r\n"
     ]
    },
    {
     "name": "stdout",
     "output_type": "stream",
     "text": [
      "06/12 23:24:29 - mmengine - \u001b[4m\u001b[97mINFO\u001b[0m - Epoch(train) [2][ 2180/11818]  lr: 1.0000e-04  eta: 10:48:57  time: 1.2902  data_time: 0.9276  memory: 1526  grad_norm: 16.1957  loss: 0.6426  top1_acc: 0.7500  top5_acc: 1.0000  loss_cls: 0.6426\r\n"
     ]
    },
    {
     "name": "stdout",
     "output_type": "stream",
     "text": [
      "06/12 23:24:31 - mmengine - \u001b[4m\u001b[97mINFO\u001b[0m - Exp name: config_20230612_184603\r\n"
     ]
    },
    {
     "name": "stdout",
     "output_type": "stream",
     "text": [
      "06/12 23:24:52 - mmengine - \u001b[4m\u001b[97mINFO\u001b[0m - Epoch(train) [2][ 2200/11818]  lr: 1.0000e-04  eta: 10:48:34  time: 1.1717  data_time: 0.8085  memory: 1526  grad_norm: 14.4676  loss: 0.6224  top1_acc: 1.0000  top5_acc: 1.0000  loss_cls: 0.6224\r\n"
     ]
    },
    {
     "name": "stdout",
     "output_type": "stream",
     "text": [
      "06/12 23:25:20 - mmengine - \u001b[4m\u001b[97mINFO\u001b[0m - Epoch(train) [2][ 2220/11818]  lr: 1.0000e-04  eta: 10:48:22  time: 1.4234  data_time: 1.0584  memory: 1526  grad_norm: 18.3233  loss: 0.7697  top1_acc: 1.0000  top5_acc: 1.0000  loss_cls: 0.7697\r\n"
     ]
    },
    {
     "name": "stdout",
     "output_type": "stream",
     "text": [
      "06/12 23:25:46 - mmengine - \u001b[4m\u001b[97mINFO\u001b[0m - Epoch(train) [2][ 2240/11818]  lr: 1.0000e-04  eta: 10:48:04  time: 1.2855  data_time: 0.9208  memory: 1526  grad_norm: 16.1616  loss: 0.7518  top1_acc: 0.7500  top5_acc: 1.0000  loss_cls: 0.7518\r\n"
     ]
    },
    {
     "name": "stdout",
     "output_type": "stream",
     "text": [
      "06/12 23:26:13 - mmengine - \u001b[4m\u001b[97mINFO\u001b[0m - Epoch(train) [2][ 2260/11818]  lr: 1.0000e-04  eta: 10:47:49  time: 1.3490  data_time: 0.9861  memory: 1526  grad_norm: 15.1088  loss: 0.5882  top1_acc: 0.7500  top5_acc: 1.0000  loss_cls: 0.5882\r\n"
     ]
    },
    {
     "name": "stdout",
     "output_type": "stream",
     "text": [
      "06/12 23:26:35 - mmengine - \u001b[4m\u001b[97mINFO\u001b[0m - Epoch(train) [2][ 2280/11818]  lr: 1.0000e-04  eta: 10:47:22  time: 1.0851  data_time: 0.7220  memory: 1526  grad_norm: 15.7089  loss: 0.7822  top1_acc: 0.5000  top5_acc: 1.0000  loss_cls: 0.7822\r\n"
     ]
    },
    {
     "name": "stdout",
     "output_type": "stream",
     "text": [
      "06/12 23:27:02 - mmengine - \u001b[4m\u001b[97mINFO\u001b[0m - Epoch(train) [2][ 2300/11818]  lr: 1.0000e-04  eta: 10:47:08  time: 1.3759  data_time: 1.0093  memory: 1526  grad_norm: 14.7158  loss: 0.6400  top1_acc: 1.0000  top5_acc: 1.0000  loss_cls: 0.6400\r\n"
     ]
    },
    {
     "name": "stdout",
     "output_type": "stream",
     "text": [
      "06/12 23:27:28 - mmengine - \u001b[4m\u001b[97mINFO\u001b[0m - Epoch(train) [2][ 2320/11818]  lr: 1.0000e-04  eta: 10:46:50  time: 1.2822  data_time: 0.9179  memory: 1526  grad_norm: 15.4864  loss: 0.7197  top1_acc: 0.2500  top5_acc: 1.0000  loss_cls: 0.7197\r\n"
     ]
    },
    {
     "name": "stdout",
     "output_type": "stream",
     "text": [
      "06/12 23:27:53 - mmengine - \u001b[4m\u001b[97mINFO\u001b[0m - Epoch(train) [2][ 2340/11818]  lr: 1.0000e-04  eta: 10:46:29  time: 1.2402  data_time: 0.8778  memory: 1526  grad_norm: 16.0601  loss: 0.6627  top1_acc: 1.0000  top5_acc: 1.0000  loss_cls: 0.6627\r\n"
     ]
    },
    {
     "name": "stdout",
     "output_type": "stream",
     "text": [
      "06/12 23:28:20 - mmengine - \u001b[4m\u001b[97mINFO\u001b[0m - Epoch(train) [2][ 2360/11818]  lr: 1.0000e-04  eta: 10:46:16  time: 1.3773  data_time: 1.0132  memory: 1526  grad_norm: 15.2200  loss: 0.5757  top1_acc: 1.0000  top5_acc: 1.0000  loss_cls: 0.5757\r\n"
     ]
    },
    {
     "name": "stdout",
     "output_type": "stream",
     "text": [
      "06/12 23:28:44 - mmengine - \u001b[4m\u001b[97mINFO\u001b[0m - Epoch(train) [2][ 2380/11818]  lr: 1.0000e-04  eta: 10:45:53  time: 1.1918  data_time: 0.8298  memory: 1526  grad_norm: 15.2632  loss: 0.6812  top1_acc: 0.7500  top5_acc: 1.0000  loss_cls: 0.6812\r\n"
     ]
    },
    {
     "name": "stdout",
     "output_type": "stream",
     "text": [
      "06/12 23:29:09 - mmengine - \u001b[4m\u001b[97mINFO\u001b[0m - Epoch(train) [2][ 2400/11818]  lr: 1.0000e-04  eta: 10:45:33  time: 1.2358  data_time: 0.8707  memory: 1526  grad_norm: 15.6851  loss: 0.6440  top1_acc: 1.0000  top5_acc: 1.0000  loss_cls: 0.6440\r\n"
     ]
    },
    {
     "name": "stdout",
     "output_type": "stream",
     "text": [
      "06/12 23:29:39 - mmengine - \u001b[4m\u001b[97mINFO\u001b[0m - Epoch(train) [2][ 2420/11818]  lr: 1.0000e-04  eta: 10:45:24  time: 1.4834  data_time: 1.1184  memory: 1526  grad_norm: 17.6412  loss: 0.8250  top1_acc: 0.7500  top5_acc: 1.0000  loss_cls: 0.8250\r\n"
     ]
    },
    {
     "name": "stdout",
     "output_type": "stream",
     "text": [
      "06/12 23:30:00 - mmengine - \u001b[4m\u001b[97mINFO\u001b[0m - Epoch(train) [2][ 2440/11818]  lr: 1.0000e-04  eta: 10:44:55  time: 1.0692  data_time: 0.7036  memory: 1526  grad_norm: 17.5596  loss: 0.8373  top1_acc: 0.5000  top5_acc: 0.7500  loss_cls: 0.8373\r\n"
     ]
    },
    {
     "name": "stdout",
     "output_type": "stream",
     "text": [
      "06/12 23:30:24 - mmengine - \u001b[4m\u001b[97mINFO\u001b[0m - Epoch(train) [2][ 2460/11818]  lr: 1.0000e-04  eta: 10:44:33  time: 1.2021  data_time: 0.8373  memory: 1526  grad_norm: 12.9181  loss: 0.5580  top1_acc: 0.5000  top5_acc: 1.0000  loss_cls: 0.5580\r\n"
     ]
    },
    {
     "name": "stdout",
     "output_type": "stream",
     "text": [
      "06/12 23:30:47 - mmengine - \u001b[4m\u001b[97mINFO\u001b[0m - Epoch(train) [2][ 2480/11818]  lr: 1.0000e-04  eta: 10:44:10  time: 1.1622  data_time: 0.8001  memory: 1526  grad_norm: 15.7024  loss: 0.6249  top1_acc: 0.7500  top5_acc: 1.0000  loss_cls: 0.6249\r\n"
     ]
    },
    {
     "name": "stdout",
     "output_type": "stream",
     "text": [
      "06/12 23:31:12 - mmengine - \u001b[4m\u001b[97mINFO\u001b[0m - Epoch(train) [2][ 2500/11818]  lr: 1.0000e-04  eta: 10:43:49  time: 1.2260  data_time: 0.8633  memory: 1526  grad_norm: 15.0983  loss: 0.6706  top1_acc: 1.0000  top5_acc: 1.0000  loss_cls: 0.6706\r\n"
     ]
    },
    {
     "name": "stdout",
     "output_type": "stream",
     "text": [
      "06/12 23:31:39 - mmengine - \u001b[4m\u001b[97mINFO\u001b[0m - Epoch(train) [2][ 2520/11818]  lr: 1.0000e-04  eta: 10:43:33  time: 1.3526  data_time: 0.9890  memory: 1526  grad_norm: 12.9876  loss: 0.6095  top1_acc: 1.0000  top5_acc: 1.0000  loss_cls: 0.6095\r\n"
     ]
    },
    {
     "name": "stdout",
     "output_type": "stream",
     "text": [
      "06/12 23:32:05 - mmengine - \u001b[4m\u001b[97mINFO\u001b[0m - Epoch(train) [2][ 2540/11818]  lr: 1.0000e-04  eta: 10:43:16  time: 1.2943  data_time: 0.9323  memory: 1526  grad_norm: 15.0546  loss: 0.6294  top1_acc: 0.7500  top5_acc: 0.7500  loss_cls: 0.6294\r\n"
     ]
    },
    {
     "name": "stdout",
     "output_type": "stream",
     "text": [
      "06/12 23:32:29 - mmengine - \u001b[4m\u001b[97mINFO\u001b[0m - Epoch(train) [2][ 2560/11818]  lr: 1.0000e-04  eta: 10:42:53  time: 1.1895  data_time: 0.8246  memory: 1526  grad_norm: 15.0800  loss: 0.5402  top1_acc: 0.5000  top5_acc: 0.7500  loss_cls: 0.5402\r\n"
     ]
    },
    {
     "name": "stdout",
     "output_type": "stream",
     "text": [
      "06/12 23:32:51 - mmengine - \u001b[4m\u001b[97mINFO\u001b[0m - Epoch(train) [2][ 2580/11818]  lr: 1.0000e-04  eta: 10:42:27  time: 1.1099  data_time: 0.7472  memory: 1526  grad_norm: 17.0879  loss: 0.6389  top1_acc: 0.7500  top5_acc: 1.0000  loss_cls: 0.6389\r\n"
     ]
    },
    {
     "name": "stdout",
     "output_type": "stream",
     "text": [
      "06/12 23:33:17 - mmengine - \u001b[4m\u001b[97mINFO\u001b[0m - Epoch(train) [2][ 2600/11818]  lr: 1.0000e-04  eta: 10:42:10  time: 1.3291  data_time: 0.9667  memory: 1526  grad_norm: 14.2120  loss: 0.5416  top1_acc: 0.7500  top5_acc: 0.7500  loss_cls: 0.5416\r\n"
     ]
    },
    {
     "name": "stdout",
     "output_type": "stream",
     "text": [
      "06/12 23:33:42 - mmengine - \u001b[4m\u001b[97mINFO\u001b[0m - Epoch(train) [2][ 2620/11818]  lr: 1.0000e-04  eta: 10:41:50  time: 1.2360  data_time: 0.8713  memory: 1526  grad_norm: 17.5045  loss: 0.6271  top1_acc: 1.0000  top5_acc: 1.0000  loss_cls: 0.6271\r\n"
     ]
    },
    {
     "name": "stdout",
     "output_type": "stream",
     "text": [
      "06/12 23:34:11 - mmengine - \u001b[4m\u001b[97mINFO\u001b[0m - Epoch(train) [2][ 2640/11818]  lr: 1.0000e-04  eta: 10:41:39  time: 1.4604  data_time: 1.0934  memory: 1526  grad_norm: 18.3396  loss: 0.7398  top1_acc: 1.0000  top5_acc: 1.0000  loss_cls: 0.7398\r\n"
     ]
    },
    {
     "name": "stdout",
     "output_type": "stream",
     "text": [
      "06/12 23:34:39 - mmengine - \u001b[4m\u001b[97mINFO\u001b[0m - Epoch(train) [2][ 2660/11818]  lr: 1.0000e-04  eta: 10:41:26  time: 1.4017  data_time: 1.0381  memory: 1526  grad_norm: 17.4171  loss: 0.7490  top1_acc: 0.7500  top5_acc: 1.0000  loss_cls: 0.7490\r\n"
     ]
    },
    {
     "name": "stdout",
     "output_type": "stream",
     "text": [
      "06/12 23:35:02 - mmengine - \u001b[4m\u001b[97mINFO\u001b[0m - Epoch(train) [2][ 2680/11818]  lr: 1.0000e-04  eta: 10:41:00  time: 1.1209  data_time: 0.7564  memory: 1526  grad_norm: 14.1685  loss: 0.5835  top1_acc: 1.0000  top5_acc: 1.0000  loss_cls: 0.5835\r\n"
     ]
    },
    {
     "name": "stdout",
     "output_type": "stream",
     "text": [
      "06/12 23:35:28 - mmengine - \u001b[4m\u001b[97mINFO\u001b[0m - Epoch(train) [2][ 2700/11818]  lr: 1.0000e-04  eta: 10:40:44  time: 1.3345  data_time: 0.9692  memory: 1526  grad_norm: 14.0396  loss: 0.6305  top1_acc: 0.7500  top5_acc: 1.0000  loss_cls: 0.6305\r\n"
     ]
    },
    {
     "name": "stdout",
     "output_type": "stream",
     "text": [
      "06/12 23:35:53 - mmengine - \u001b[4m\u001b[97mINFO\u001b[0m - Epoch(train) [2][ 2720/11818]  lr: 1.0000e-04  eta: 10:40:24  time: 1.2430  data_time: 0.8788  memory: 1526  grad_norm: 13.9618  loss: 0.6309  top1_acc: 1.0000  top5_acc: 1.0000  loss_cls: 0.6309\r\n"
     ]
    },
    {
     "name": "stdout",
     "output_type": "stream",
     "text": [
      "06/12 23:36:18 - mmengine - \u001b[4m\u001b[97mINFO\u001b[0m - Epoch(train) [2][ 2740/11818]  lr: 1.0000e-04  eta: 10:40:04  time: 1.2615  data_time: 0.8977  memory: 1526  grad_norm: 14.0706  loss: 0.6100  top1_acc: 0.7500  top5_acc: 1.0000  loss_cls: 0.6100\r\n"
     ]
    },
    {
     "name": "stdout",
     "output_type": "stream",
     "text": [
      "06/12 23:36:44 - mmengine - \u001b[4m\u001b[97mINFO\u001b[0m - Epoch(train) [2][ 2760/11818]  lr: 1.0000e-04  eta: 10:39:45  time: 1.2673  data_time: 0.9026  memory: 1526  grad_norm: 16.6331  loss: 0.7222  top1_acc: 0.7500  top5_acc: 1.0000  loss_cls: 0.7222\r\n"
     ]
    },
    {
     "name": "stdout",
     "output_type": "stream",
     "text": [
      "06/12 23:37:08 - mmengine - \u001b[4m\u001b[97mINFO\u001b[0m - Epoch(train) [2][ 2780/11818]  lr: 1.0000e-04  eta: 10:39:24  time: 1.2299  data_time: 0.8677  memory: 1526  grad_norm: 14.7270  loss: 0.5846  top1_acc: 1.0000  top5_acc: 1.0000  loss_cls: 0.5846\r\n"
     ]
    },
    {
     "name": "stdout",
     "output_type": "stream",
     "text": [
      "06/12 23:37:33 - mmengine - \u001b[4m\u001b[97mINFO\u001b[0m - Epoch(train) [2][ 2800/11818]  lr: 1.0000e-04  eta: 10:39:04  time: 1.2446  data_time: 0.8820  memory: 1526  grad_norm: 15.0276  loss: 0.6357  top1_acc: 0.7500  top5_acc: 1.0000  loss_cls: 0.6357\r\n"
     ]
    },
    {
     "name": "stdout",
     "output_type": "stream",
     "text": [
      "06/12 23:37:57 - mmengine - \u001b[4m\u001b[97mINFO\u001b[0m - Epoch(train) [2][ 2820/11818]  lr: 1.0000e-04  eta: 10:38:40  time: 1.1836  data_time: 0.8226  memory: 1526  grad_norm: 15.0264  loss: 0.7570  top1_acc: 0.2500  top5_acc: 1.0000  loss_cls: 0.7570\r\n"
     ]
    },
    {
     "name": "stdout",
     "output_type": "stream",
     "text": [
      "06/12 23:38:21 - mmengine - \u001b[4m\u001b[97mINFO\u001b[0m - Epoch(train) [2][ 2840/11818]  lr: 1.0000e-04  eta: 10:38:18  time: 1.2009  data_time: 0.8401  memory: 1526  grad_norm: 12.7737  loss: 0.4752  top1_acc: 1.0000  top5_acc: 1.0000  loss_cls: 0.4752\r\n"
     ]
    },
    {
     "name": "stdout",
     "output_type": "stream",
     "text": [
      "06/12 23:38:45 - mmengine - \u001b[4m\u001b[97mINFO\u001b[0m - Epoch(train) [2][ 2860/11818]  lr: 1.0000e-04  eta: 10:37:56  time: 1.2010  data_time: 0.8409  memory: 1526  grad_norm: 16.6884  loss: 0.6954  top1_acc: 1.0000  top5_acc: 1.0000  loss_cls: 0.6954\r\n"
     ]
    },
    {
     "name": "stdout",
     "output_type": "stream",
     "text": [
      "06/12 23:39:13 - mmengine - \u001b[4m\u001b[97mINFO\u001b[0m - Epoch(train) [2][ 2880/11818]  lr: 1.0000e-04  eta: 10:37:42  time: 1.4021  data_time: 1.0394  memory: 1526  grad_norm: 18.0638  loss: 0.6830  top1_acc: 1.0000  top5_acc: 1.0000  loss_cls: 0.6830\r\n"
     ]
    },
    {
     "name": "stdout",
     "output_type": "stream",
     "text": [
      "06/12 23:39:40 - mmengine - \u001b[4m\u001b[97mINFO\u001b[0m - Epoch(train) [2][ 2900/11818]  lr: 1.0000e-04  eta: 10:37:26  time: 1.3328  data_time: 0.9706  memory: 1526  grad_norm: 16.3489  loss: 0.7238  top1_acc: 1.0000  top5_acc: 1.0000  loss_cls: 0.7238\r\n"
     ]
    },
    {
     "name": "stdout",
     "output_type": "stream",
     "text": [
      "06/12 23:40:03 - mmengine - \u001b[4m\u001b[97mINFO\u001b[0m - Epoch(train) [2][ 2920/11818]  lr: 1.0000e-04  eta: 10:37:02  time: 1.1644  data_time: 0.7996  memory: 1526  grad_norm: 17.1532  loss: 0.6525  top1_acc: 0.7500  top5_acc: 1.0000  loss_cls: 0.6525\r\n"
     ]
    },
    {
     "name": "stdout",
     "output_type": "stream",
     "text": [
      "06/12 23:40:28 - mmengine - \u001b[4m\u001b[97mINFO\u001b[0m - Epoch(train) [2][ 2940/11818]  lr: 1.0000e-04  eta: 10:36:43  time: 1.2706  data_time: 0.9085  memory: 1526  grad_norm: 18.6368  loss: 0.8220  top1_acc: 0.7500  top5_acc: 1.0000  loss_cls: 0.8220\r\n"
     ]
    },
    {
     "name": "stdout",
     "output_type": "stream",
     "text": [
      "06/12 23:40:59 - mmengine - \u001b[4m\u001b[97mINFO\u001b[0m - Epoch(train) [2][ 2960/11818]  lr: 1.0000e-04  eta: 10:36:35  time: 1.5287  data_time: 1.1670  memory: 1526  grad_norm: 17.4162  loss: 0.6560  top1_acc: 0.7500  top5_acc: 1.0000  loss_cls: 0.6560\r\n"
     ]
    },
    {
     "name": "stdout",
     "output_type": "stream",
     "text": [
      "06/12 23:41:24 - mmengine - \u001b[4m\u001b[97mINFO\u001b[0m - Epoch(train) [2][ 2980/11818]  lr: 1.0000e-04  eta: 10:36:14  time: 1.2461  data_time: 0.8853  memory: 1526  grad_norm: 15.9643  loss: 0.6117  top1_acc: 0.7500  top5_acc: 1.0000  loss_cls: 0.6117\r\n"
     ]
    },
    {
     "name": "stdout",
     "output_type": "stream",
     "text": [
      "06/12 23:41:46 - mmengine - \u001b[4m\u001b[97mINFO\u001b[0m - Epoch(train) [2][ 3000/11818]  lr: 1.0000e-04  eta: 10:35:48  time: 1.1173  data_time: 0.7561  memory: 1526  grad_norm: 15.0135  loss: 0.6897  top1_acc: 1.0000  top5_acc: 1.0000  loss_cls: 0.6897\r\n"
     ]
    },
    {
     "name": "stdout",
     "output_type": "stream",
     "text": [
      "06/12 23:42:10 - mmengine - \u001b[4m\u001b[97mINFO\u001b[0m - Epoch(train) [2][ 3020/11818]  lr: 1.0000e-04  eta: 10:35:26  time: 1.2083  data_time: 0.8453  memory: 1526  grad_norm: 16.3034  loss: 0.7759  top1_acc: 1.0000  top5_acc: 1.0000  loss_cls: 0.7759\r\n"
     ]
    },
    {
     "name": "stdout",
     "output_type": "stream",
     "text": [
      "06/12 23:42:31 - mmengine - \u001b[4m\u001b[97mINFO\u001b[0m - Epoch(train) [2][ 3040/11818]  lr: 1.0000e-04  eta: 10:34:57  time: 1.0450  data_time: 0.6833  memory: 1526  grad_norm: 16.7432  loss: 0.8243  top1_acc: 1.0000  top5_acc: 1.0000  loss_cls: 0.8243\r\n"
     ]
    },
    {
     "name": "stdout",
     "output_type": "stream",
     "text": [
      "06/12 23:42:55 - mmengine - \u001b[4m\u001b[97mINFO\u001b[0m - Epoch(train) [2][ 3060/11818]  lr: 1.0000e-04  eta: 10:34:33  time: 1.1689  data_time: 0.8084  memory: 1526  grad_norm: 18.4318  loss: 0.7631  top1_acc: 0.7500  top5_acc: 1.0000  loss_cls: 0.7631\r\n"
     ]
    },
    {
     "name": "stdout",
     "output_type": "stream",
     "text": [
      "06/12 23:43:19 - mmengine - \u001b[4m\u001b[97mINFO\u001b[0m - Epoch(train) [2][ 3080/11818]  lr: 1.0000e-04  eta: 10:34:12  time: 1.2349  data_time: 0.8722  memory: 1526  grad_norm: 19.7155  loss: 0.8206  top1_acc: 0.7500  top5_acc: 1.0000  loss_cls: 0.8206\r\n"
     ]
    },
    {
     "name": "stdout",
     "output_type": "stream",
     "text": [
      "06/12 23:43:45 - mmengine - \u001b[4m\u001b[97mINFO\u001b[0m - Epoch(train) [2][ 3100/11818]  lr: 1.0000e-04  eta: 10:33:52  time: 1.2574  data_time: 0.8948  memory: 1526  grad_norm: 18.4190  loss: 0.6858  top1_acc: 0.7500  top5_acc: 1.0000  loss_cls: 0.6858\r\n"
     ]
    },
    {
     "name": "stdout",
     "output_type": "stream",
     "text": [
      "06/12 23:44:09 - mmengine - \u001b[4m\u001b[97mINFO\u001b[0m - Epoch(train) [2][ 3120/11818]  lr: 1.0000e-04  eta: 10:33:31  time: 1.2276  data_time: 0.8671  memory: 1526  grad_norm: 18.7038  loss: 0.7555  top1_acc: 1.0000  top5_acc: 1.0000  loss_cls: 0.7555\r\n"
     ]
    },
    {
     "name": "stdout",
     "output_type": "stream",
     "text": [
      "06/12 23:44:35 - mmengine - \u001b[4m\u001b[97mINFO\u001b[0m - Epoch(train) [2][ 3140/11818]  lr: 1.0000e-04  eta: 10:33:12  time: 1.2747  data_time: 0.9140  memory: 1526  grad_norm: 13.4716  loss: 0.5159  top1_acc: 0.7500  top5_acc: 1.0000  loss_cls: 0.5159\r\n"
     ]
    },
    {
     "name": "stdout",
     "output_type": "stream",
     "text": [
      "06/12 23:44:57 - mmengine - \u001b[4m\u001b[97mINFO\u001b[0m - Epoch(train) [2][ 3160/11818]  lr: 1.0000e-04  eta: 10:32:46  time: 1.1289  data_time: 0.7663  memory: 1526  grad_norm: 13.2662  loss: 0.6692  top1_acc: 0.7500  top5_acc: 1.0000  loss_cls: 0.6692\r\n"
     ]
    },
    {
     "name": "stdout",
     "output_type": "stream",
     "text": [
      "06/12 23:45:23 - mmengine - \u001b[4m\u001b[97mINFO\u001b[0m - Epoch(train) [2][ 3180/11818]  lr: 1.0000e-04  eta: 10:32:27  time: 1.2807  data_time: 0.9197  memory: 1526  grad_norm: 17.7578  loss: 0.8135  top1_acc: 0.7500  top5_acc: 1.0000  loss_cls: 0.8135\r\n"
     ]
    },
    {
     "name": "stdout",
     "output_type": "stream",
     "text": [
      "06/12 23:45:25 - mmengine - \u001b[4m\u001b[97mINFO\u001b[0m - Exp name: config_20230612_184603\r\n"
     ]
    },
    {
     "name": "stdout",
     "output_type": "stream",
     "text": [
      "06/12 23:45:43 - mmengine - \u001b[4m\u001b[97mINFO\u001b[0m - Epoch(train) [2][ 3200/11818]  lr: 1.0000e-04  eta: 10:31:58  time: 1.0291  data_time: 0.6671  memory: 1526  grad_norm: 17.3660  loss: 0.7452  top1_acc: 1.0000  top5_acc: 1.0000  loss_cls: 0.7452\r\n"
     ]
    },
    {
     "name": "stdout",
     "output_type": "stream",
     "text": [
      "06/12 23:46:08 - mmengine - \u001b[4m\u001b[97mINFO\u001b[0m - Epoch(train) [2][ 3220/11818]  lr: 1.0000e-04  eta: 10:31:37  time: 1.2536  data_time: 0.8934  memory: 1526  grad_norm: 15.0421  loss: 0.6662  top1_acc: 0.5000  top5_acc: 0.7500  loss_cls: 0.6662\r\n"
     ]
    },
    {
     "name": "stdout",
     "output_type": "stream",
     "text": [
      "06/12 23:46:32 - mmengine - \u001b[4m\u001b[97mINFO\u001b[0m - Epoch(train) [2][ 3240/11818]  lr: 1.0000e-04  eta: 10:31:13  time: 1.1600  data_time: 0.7972  memory: 1526  grad_norm: 17.3427  loss: 0.7849  top1_acc: 0.7500  top5_acc: 1.0000  loss_cls: 0.7849\r\n"
     ]
    },
    {
     "name": "stdout",
     "output_type": "stream",
     "text": [
      "06/12 23:46:53 - mmengine - \u001b[4m\u001b[97mINFO\u001b[0m - Epoch(train) [2][ 3260/11818]  lr: 1.0000e-04  eta: 10:30:46  time: 1.0807  data_time: 0.7191  memory: 1526  grad_norm: 16.3844  loss: 0.7234  top1_acc: 0.7500  top5_acc: 1.0000  loss_cls: 0.7234\r\n"
     ]
    },
    {
     "name": "stdout",
     "output_type": "stream",
     "text": [
      "06/12 23:47:15 - mmengine - \u001b[4m\u001b[97mINFO\u001b[0m - Epoch(train) [2][ 3280/11818]  lr: 1.0000e-04  eta: 10:30:18  time: 1.0768  data_time: 0.7137  memory: 1526  grad_norm: 15.5426  loss: 0.6296  top1_acc: 0.7500  top5_acc: 1.0000  loss_cls: 0.6296\r\n"
     ]
    },
    {
     "name": "stdout",
     "output_type": "stream",
     "text": [
      "06/12 23:47:40 - mmengine - \u001b[4m\u001b[97mINFO\u001b[0m - Epoch(train) [2][ 3300/11818]  lr: 1.0000e-04  eta: 10:29:58  time: 1.2614  data_time: 0.9003  memory: 1526  grad_norm: 16.8787  loss: 0.6814  top1_acc: 0.7500  top5_acc: 1.0000  loss_cls: 0.6814\r\n"
     ]
    },
    {
     "name": "stdout",
     "output_type": "stream",
     "text": [
      "06/12 23:48:08 - mmengine - \u001b[4m\u001b[97mINFO\u001b[0m - Epoch(train) [2][ 3320/11818]  lr: 1.0000e-04  eta: 10:29:45  time: 1.4113  data_time: 1.0499  memory: 1526  grad_norm: 15.1078  loss: 0.5372  top1_acc: 1.0000  top5_acc: 1.0000  loss_cls: 0.5372\r\n"
     ]
    },
    {
     "name": "stdout",
     "output_type": "stream",
     "text": [
      "06/12 23:48:33 - mmengine - \u001b[4m\u001b[97mINFO\u001b[0m - Epoch(train) [2][ 3340/11818]  lr: 1.0000e-04  eta: 10:29:24  time: 1.2421  data_time: 0.8805  memory: 1526  grad_norm: 18.9711  loss: 0.7155  top1_acc: 1.0000  top5_acc: 1.0000  loss_cls: 0.7155\r\n"
     ]
    },
    {
     "name": "stdout",
     "output_type": "stream",
     "text": [
      "06/12 23:48:59 - mmengine - \u001b[4m\u001b[97mINFO\u001b[0m - Epoch(train) [2][ 3360/11818]  lr: 1.0000e-04  eta: 10:29:06  time: 1.3123  data_time: 0.9512  memory: 1526  grad_norm: 17.3440  loss: 0.8558  top1_acc: 0.5000  top5_acc: 1.0000  loss_cls: 0.8558\r\n"
     ]
    },
    {
     "name": "stdout",
     "output_type": "stream",
     "text": [
      "06/12 23:49:20 - mmengine - \u001b[4m\u001b[97mINFO\u001b[0m - Epoch(train) [2][ 3380/11818]  lr: 1.0000e-04  eta: 10:28:37  time: 1.0502  data_time: 0.6891  memory: 1526  grad_norm: 16.1135  loss: 0.6535  top1_acc: 0.7500  top5_acc: 1.0000  loss_cls: 0.6535\r\n"
     ]
    },
    {
     "name": "stdout",
     "output_type": "stream",
     "text": [
      "06/12 23:49:42 - mmengine - \u001b[4m\u001b[97mINFO\u001b[0m - Epoch(train) [2][ 3400/11818]  lr: 1.0000e-04  eta: 10:28:11  time: 1.1025  data_time: 0.7411  memory: 1526  grad_norm: 16.5344  loss: 0.5959  top1_acc: 0.5000  top5_acc: 0.7500  loss_cls: 0.5959\r\n"
     ]
    },
    {
     "name": "stdout",
     "output_type": "stream",
     "text": [
      "06/12 23:50:05 - mmengine - \u001b[4m\u001b[97mINFO\u001b[0m - Epoch(train) [2][ 3420/11818]  lr: 1.0000e-04  eta: 10:27:45  time: 1.1300  data_time: 0.7686  memory: 1526  grad_norm: 16.3510  loss: 0.6250  top1_acc: 0.5000  top5_acc: 1.0000  loss_cls: 0.6250\r\n"
     ]
    },
    {
     "name": "stdout",
     "output_type": "stream",
     "text": [
      "06/12 23:50:28 - mmengine - \u001b[4m\u001b[97mINFO\u001b[0m - Epoch(train) [2][ 3440/11818]  lr: 1.0000e-04  eta: 10:27:21  time: 1.1501  data_time: 0.7882  memory: 1526  grad_norm: 15.8346  loss: 0.6451  top1_acc: 0.7500  top5_acc: 1.0000  loss_cls: 0.6451\r\n"
     ]
    },
    {
     "name": "stdout",
     "output_type": "stream",
     "text": [
      "06/12 23:50:48 - mmengine - \u001b[4m\u001b[97mINFO\u001b[0m - Epoch(train) [2][ 3460/11818]  lr: 1.0000e-04  eta: 10:26:50  time: 1.0065  data_time: 0.6460  memory: 1526  grad_norm: 13.7357  loss: 0.6300  top1_acc: 0.7500  top5_acc: 1.0000  loss_cls: 0.6300\r\n"
     ]
    },
    {
     "name": "stdout",
     "output_type": "stream",
     "text": [
      "06/12 23:51:13 - mmengine - \u001b[4m\u001b[97mINFO\u001b[0m - Epoch(train) [2][ 3480/11818]  lr: 1.0000e-04  eta: 10:26:29  time: 1.2308  data_time: 0.8701  memory: 1526  grad_norm: 17.9723  loss: 0.6795  top1_acc: 0.5000  top5_acc: 1.0000  loss_cls: 0.6795\r\n"
     ]
    },
    {
     "name": "stdout",
     "output_type": "stream",
     "text": [
      "06/12 23:51:35 - mmengine - \u001b[4m\u001b[97mINFO\u001b[0m - Epoch(train) [2][ 3500/11818]  lr: 1.0000e-04  eta: 10:26:02  time: 1.1016  data_time: 0.7391  memory: 1526  grad_norm: 18.1383  loss: 0.7345  top1_acc: 0.5000  top5_acc: 1.0000  loss_cls: 0.7345\r\n"
     ]
    },
    {
     "name": "stdout",
     "output_type": "stream",
     "text": [
      "06/12 23:51:58 - mmengine - \u001b[4m\u001b[97mINFO\u001b[0m - Epoch(train) [2][ 3520/11818]  lr: 1.0000e-04  eta: 10:25:38  time: 1.1609  data_time: 0.8000  memory: 1526  grad_norm: 16.1859  loss: 0.6100  top1_acc: 1.0000  top5_acc: 1.0000  loss_cls: 0.6100\r\n"
     ]
    },
    {
     "name": "stdout",
     "output_type": "stream",
     "text": [
      "06/12 23:52:22 - mmengine - \u001b[4m\u001b[97mINFO\u001b[0m - Epoch(train) [2][ 3540/11818]  lr: 1.0000e-04  eta: 10:25:15  time: 1.1927  data_time: 0.8310  memory: 1526  grad_norm: 15.3518  loss: 0.5123  top1_acc: 1.0000  top5_acc: 1.0000  loss_cls: 0.5123\r\n"
     ]
    },
    {
     "name": "stdout",
     "output_type": "stream",
     "text": [
      "06/12 23:52:45 - mmengine - \u001b[4m\u001b[97mINFO\u001b[0m - Epoch(train) [2][ 3560/11818]  lr: 1.0000e-04  eta: 10:24:50  time: 1.1379  data_time: 0.7763  memory: 1526  grad_norm: 14.0836  loss: 0.4798  top1_acc: 1.0000  top5_acc: 1.0000  loss_cls: 0.4798\r\n"
     ]
    },
    {
     "name": "stdout",
     "output_type": "stream",
     "text": [
      "06/12 23:53:09 - mmengine - \u001b[4m\u001b[97mINFO\u001b[0m - Epoch(train) [2][ 3580/11818]  lr: 1.0000e-04  eta: 10:24:28  time: 1.1944  data_time: 0.8334  memory: 1526  grad_norm: 16.4353  loss: 0.6578  top1_acc: 0.7500  top5_acc: 1.0000  loss_cls: 0.6578\r\n"
     ]
    },
    {
     "name": "stdout",
     "output_type": "stream",
     "text": [
      "06/12 23:53:31 - mmengine - \u001b[4m\u001b[97mINFO\u001b[0m - Epoch(train) [2][ 3600/11818]  lr: 1.0000e-04  eta: 10:24:03  time: 1.1409  data_time: 0.7794  memory: 1526  grad_norm: 18.2608  loss: 0.8448  top1_acc: 0.7500  top5_acc: 1.0000  loss_cls: 0.8448\r\n"
     ]
    },
    {
     "name": "stdout",
     "output_type": "stream",
     "text": [
      "06/12 23:53:57 - mmengine - \u001b[4m\u001b[97mINFO\u001b[0m - Epoch(train) [2][ 3620/11818]  lr: 1.0000e-04  eta: 10:23:44  time: 1.2910  data_time: 0.9311  memory: 1526  grad_norm: 16.2112  loss: 0.6754  top1_acc: 0.7500  top5_acc: 1.0000  loss_cls: 0.6754\r\n"
     ]
    },
    {
     "name": "stdout",
     "output_type": "stream",
     "text": [
      "06/12 23:54:20 - mmengine - \u001b[4m\u001b[97mINFO\u001b[0m - Epoch(train) [2][ 3640/11818]  lr: 1.0000e-04  eta: 10:23:20  time: 1.1642  data_time: 0.8000  memory: 1526  grad_norm: 19.0529  loss: 0.8708  top1_acc: 1.0000  top5_acc: 1.0000  loss_cls: 0.8708\r\n"
     ]
    },
    {
     "name": "stdout",
     "output_type": "stream",
     "text": [
      "06/12 23:54:45 - mmengine - \u001b[4m\u001b[97mINFO\u001b[0m - Epoch(train) [2][ 3660/11818]  lr: 1.0000e-04  eta: 10:22:59  time: 1.2436  data_time: 0.8809  memory: 1526  grad_norm: 14.1389  loss: 0.6156  top1_acc: 0.7500  top5_acc: 1.0000  loss_cls: 0.6156\r\n"
     ]
    },
    {
     "name": "stdout",
     "output_type": "stream",
     "text": [
      "06/12 23:55:14 - mmengine - \u001b[4m\u001b[97mINFO\u001b[0m - Epoch(train) [2][ 3680/11818]  lr: 1.0000e-04  eta: 10:22:45  time: 1.4089  data_time: 1.0458  memory: 1526  grad_norm: 15.4509  loss: 0.6271  top1_acc: 1.0000  top5_acc: 1.0000  loss_cls: 0.6271\r\n"
     ]
    },
    {
     "name": "stdout",
     "output_type": "stream",
     "text": [
      "06/12 23:55:36 - mmengine - \u001b[4m\u001b[97mINFO\u001b[0m - Epoch(train) [2][ 3700/11818]  lr: 1.0000e-04  eta: 10:22:20  time: 1.1378  data_time: 0.7758  memory: 1526  grad_norm: 13.7773  loss: 0.4976  top1_acc: 0.7500  top5_acc: 1.0000  loss_cls: 0.4976\r\n"
     ]
    },
    {
     "name": "stdout",
     "output_type": "stream",
     "text": [
      "06/12 23:56:00 - mmengine - \u001b[4m\u001b[97mINFO\u001b[0m - Epoch(train) [2][ 3720/11818]  lr: 1.0000e-04  eta: 10:21:58  time: 1.2022  data_time: 0.8411  memory: 1526  grad_norm: 14.7434  loss: 0.6983  top1_acc: 0.7500  top5_acc: 1.0000  loss_cls: 0.6983\r\n"
     ]
    },
    {
     "name": "stdout",
     "output_type": "stream",
     "text": [
      "06/12 23:56:26 - mmengine - \u001b[4m\u001b[97mINFO\u001b[0m - Epoch(train) [2][ 3740/11818]  lr: 1.0000e-04  eta: 10:21:38  time: 1.2678  data_time: 0.9077  memory: 1526  grad_norm: 20.1561  loss: 0.8376  top1_acc: 0.5000  top5_acc: 1.0000  loss_cls: 0.8376\r\n"
     ]
    },
    {
     "name": "stdout",
     "output_type": "stream",
     "text": [
      "06/12 23:56:47 - mmengine - \u001b[4m\u001b[97mINFO\u001b[0m - Epoch(train) [2][ 3760/11818]  lr: 1.0000e-04  eta: 10:21:09  time: 1.0563  data_time: 0.6956  memory: 1526  grad_norm: 15.7000  loss: 0.6901  top1_acc: 0.7500  top5_acc: 0.7500  loss_cls: 0.6901\r\n"
     ]
    },
    {
     "name": "stdout",
     "output_type": "stream",
     "text": [
      "06/12 23:57:11 - mmengine - \u001b[4m\u001b[97mINFO\u001b[0m - Epoch(train) [2][ 3780/11818]  lr: 1.0000e-04  eta: 10:20:48  time: 1.2289  data_time: 0.8691  memory: 1526  grad_norm: 18.7855  loss: 0.7947  top1_acc: 1.0000  top5_acc: 1.0000  loss_cls: 0.7947\r\n"
     ]
    },
    {
     "name": "stdout",
     "output_type": "stream",
     "text": [
      "06/12 23:57:34 - mmengine - \u001b[4m\u001b[97mINFO\u001b[0m - Epoch(train) [2][ 3800/11818]  lr: 1.0000e-04  eta: 10:20:23  time: 1.1291  data_time: 0.7699  memory: 1526  grad_norm: 15.4012  loss: 0.7632  top1_acc: 1.0000  top5_acc: 1.0000  loss_cls: 0.7632\r\n"
     ]
    },
    {
     "name": "stdout",
     "output_type": "stream",
     "text": [
      "06/12 23:57:54 - mmengine - \u001b[4m\u001b[97mINFO\u001b[0m - Epoch(train) [2][ 3820/11818]  lr: 1.0000e-04  eta: 10:19:52  time: 0.9999  data_time: 0.6406  memory: 1526  grad_norm: 13.0946  loss: 0.4748  top1_acc: 1.0000  top5_acc: 1.0000  loss_cls: 0.4748\r\n"
     ]
    },
    {
     "name": "stdout",
     "output_type": "stream",
     "text": [
      "06/12 23:58:15 - mmengine - \u001b[4m\u001b[97mINFO\u001b[0m - Epoch(train) [2][ 3840/11818]  lr: 1.0000e-04  eta: 10:19:24  time: 1.0658  data_time: 0.7064  memory: 1526  grad_norm: 18.9624  loss: 0.7481  top1_acc: 0.7500  top5_acc: 1.0000  loss_cls: 0.7481\r\n"
     ]
    },
    {
     "name": "stdout",
     "output_type": "stream",
     "text": [
      "06/12 23:58:39 - mmengine - \u001b[4m\u001b[97mINFO\u001b[0m - Epoch(train) [2][ 3860/11818]  lr: 1.0000e-04  eta: 10:19:01  time: 1.1939  data_time: 0.8340  memory: 1526  grad_norm: 14.9911  loss: 0.5181  top1_acc: 1.0000  top5_acc: 1.0000  loss_cls: 0.5181\r\n"
     ]
    },
    {
     "name": "stdout",
     "output_type": "stream",
     "text": [
      "06/12 23:59:01 - mmengine - \u001b[4m\u001b[97mINFO\u001b[0m - Epoch(train) [2][ 3880/11818]  lr: 1.0000e-04  eta: 10:18:34  time: 1.0860  data_time: 0.7254  memory: 1526  grad_norm: 11.6032  loss: 0.4380  top1_acc: 1.0000  top5_acc: 1.0000  loss_cls: 0.4380\r\n"
     ]
    },
    {
     "name": "stdout",
     "output_type": "stream",
     "text": [
      "06/12 23:59:23 - mmengine - \u001b[4m\u001b[97mINFO\u001b[0m - Epoch(train) [2][ 3900/11818]  lr: 1.0000e-04  eta: 10:18:09  time: 1.1220  data_time: 0.7620  memory: 1526  grad_norm: 15.9278  loss: 0.6410  top1_acc: 0.7500  top5_acc: 0.7500  loss_cls: 0.6410\r\n"
     ]
    },
    {
     "name": "stdout",
     "output_type": "stream",
     "text": [
      "06/12 23:59:45 - mmengine - \u001b[4m\u001b[97mINFO\u001b[0m - Epoch(train) [2][ 3920/11818]  lr: 1.0000e-04  eta: 10:17:42  time: 1.0991  data_time: 0.7397  memory: 1526  grad_norm: 18.4269  loss: 0.7336  top1_acc: 0.7500  top5_acc: 1.0000  loss_cls: 0.7336\r\n"
     ]
    },
    {
     "name": "stdout",
     "output_type": "stream",
     "text": [
      "06/13 00:00:06 - mmengine - \u001b[4m\u001b[97mINFO\u001b[0m - Epoch(train) [2][ 3940/11818]  lr: 1.0000e-04  eta: 10:17:13  time: 1.0443  data_time: 0.6819  memory: 1526  grad_norm: 13.2054  loss: 0.5080  top1_acc: 1.0000  top5_acc: 1.0000  loss_cls: 0.5080\r\n"
     ]
    },
    {
     "name": "stdout",
     "output_type": "stream",
     "text": [
      "06/13 00:00:30 - mmengine - \u001b[4m\u001b[97mINFO\u001b[0m - Epoch(train) [2][ 3960/11818]  lr: 1.0000e-04  eta: 10:16:49  time: 1.1648  data_time: 0.8023  memory: 1526  grad_norm: 16.9533  loss: 0.6582  top1_acc: 1.0000  top5_acc: 1.0000  loss_cls: 0.6582\r\n"
     ]
    },
    {
     "name": "stdout",
     "output_type": "stream",
     "text": [
      "06/13 00:00:50 - mmengine - \u001b[4m\u001b[97mINFO\u001b[0m - Epoch(train) [2][ 3980/11818]  lr: 1.0000e-04  eta: 10:16:20  time: 1.0240  data_time: 0.6646  memory: 1526  grad_norm: 16.5097  loss: 0.7645  top1_acc: 1.0000  top5_acc: 1.0000  loss_cls: 0.7645\r\n"
     ]
    },
    {
     "name": "stdout",
     "output_type": "stream",
     "text": [
      "06/13 00:01:14 - mmengine - \u001b[4m\u001b[97mINFO\u001b[0m - Epoch(train) [2][ 4000/11818]  lr: 1.0000e-04  eta: 10:15:57  time: 1.1993  data_time: 0.8395  memory: 1526  grad_norm: 14.8705  loss: 0.6035  top1_acc: 1.0000  top5_acc: 1.0000  loss_cls: 0.6035\r\n"
     ]
    },
    {
     "name": "stdout",
     "output_type": "stream",
     "text": [
      "06/13 00:01:35 - mmengine - \u001b[4m\u001b[97mINFO\u001b[0m - Epoch(train) [2][ 4020/11818]  lr: 1.0000e-04  eta: 10:15:28  time: 1.0282  data_time: 0.6691  memory: 1526  grad_norm: 14.3598  loss: 0.5047  top1_acc: 0.7500  top5_acc: 1.0000  loss_cls: 0.5047\r\n"
     ]
    },
    {
     "name": "stdout",
     "output_type": "stream",
     "text": [
      "06/13 00:01:54 - mmengine - \u001b[4m\u001b[97mINFO\u001b[0m - Epoch(train) [2][ 4040/11818]  lr: 1.0000e-04  eta: 10:14:56  time: 0.9679  data_time: 0.6084  memory: 1526  grad_norm: 19.0619  loss: 0.7983  top1_acc: 1.0000  top5_acc: 1.0000  loss_cls: 0.7983\r\n"
     ]
    },
    {
     "name": "stdout",
     "output_type": "stream",
     "text": [
      "06/13 00:02:17 - mmengine - \u001b[4m\u001b[97mINFO\u001b[0m - Epoch(train) [2][ 4060/11818]  lr: 1.0000e-04  eta: 10:14:33  time: 1.1712  data_time: 0.8097  memory: 1526  grad_norm: 13.0591  loss: 0.5806  top1_acc: 1.0000  top5_acc: 1.0000  loss_cls: 0.5806\r\n"
     ]
    },
    {
     "name": "stdout",
     "output_type": "stream",
     "text": [
      "06/13 00:02:40 - mmengine - \u001b[4m\u001b[97mINFO\u001b[0m - Epoch(train) [2][ 4080/11818]  lr: 1.0000e-04  eta: 10:14:08  time: 1.1390  data_time: 0.7767  memory: 1526  grad_norm: 20.9219  loss: 0.9011  top1_acc: 0.7500  top5_acc: 1.0000  loss_cls: 0.9011\r\n"
     ]
    },
    {
     "name": "stdout",
     "output_type": "stream",
     "text": [
      "06/13 00:03:00 - mmengine - \u001b[4m\u001b[97mINFO\u001b[0m - Epoch(train) [2][ 4100/11818]  lr: 1.0000e-04  eta: 10:13:37  time: 0.9937  data_time: 0.6350  memory: 1526  grad_norm: 15.2468  loss: 0.7111  top1_acc: 0.5000  top5_acc: 1.0000  loss_cls: 0.7111\r\n"
     ]
    },
    {
     "name": "stdout",
     "output_type": "stream",
     "text": [
      "06/13 00:03:24 - mmengine - \u001b[4m\u001b[97mINFO\u001b[0m - Epoch(train) [2][ 4120/11818]  lr: 1.0000e-04  eta: 10:13:14  time: 1.1914  data_time: 0.8313  memory: 1526  grad_norm: 17.9856  loss: 0.7299  top1_acc: 1.0000  top5_acc: 1.0000  loss_cls: 0.7299\r\n"
     ]
    },
    {
     "name": "stdout",
     "output_type": "stream",
     "text": [
      "06/13 00:03:46 - mmengine - \u001b[4m\u001b[97mINFO\u001b[0m - Epoch(train) [2][ 4140/11818]  lr: 1.0000e-04  eta: 10:12:48  time: 1.1134  data_time: 0.7535  memory: 1526  grad_norm: 21.0613  loss: 0.8511  top1_acc: 0.7500  top5_acc: 1.0000  loss_cls: 0.8511\r\n"
     ]
    },
    {
     "name": "stdout",
     "output_type": "stream",
     "text": [
      "06/13 00:04:10 - mmengine - \u001b[4m\u001b[97mINFO\u001b[0m - Epoch(train) [2][ 4160/11818]  lr: 1.0000e-04  eta: 10:12:26  time: 1.2050  data_time: 0.8446  memory: 1526  grad_norm: 16.7275  loss: 0.6781  top1_acc: 0.7500  top5_acc: 1.0000  loss_cls: 0.6781\r\n"
     ]
    },
    {
     "name": "stdout",
     "output_type": "stream",
     "text": [
      "06/13 00:04:33 - mmengine - \u001b[4m\u001b[97mINFO\u001b[0m - Epoch(train) [2][ 4180/11818]  lr: 1.0000e-04  eta: 10:12:02  time: 1.1637  data_time: 0.8040  memory: 1526  grad_norm: 15.1372  loss: 0.5732  top1_acc: 0.7500  top5_acc: 1.0000  loss_cls: 0.5732\r\n"
     ]
    },
    {
     "name": "stdout",
     "output_type": "stream",
     "text": [
      "06/13 00:04:36 - mmengine - \u001b[4m\u001b[97mINFO\u001b[0m - Exp name: config_20230612_184603\r\n"
     ]
    },
    {
     "name": "stdout",
     "output_type": "stream",
     "text": [
      "06/13 00:04:55 - mmengine - \u001b[4m\u001b[97mINFO\u001b[0m - Epoch(train) [2][ 4200/11818]  lr: 1.0000e-04  eta: 10:11:36  time: 1.0982  data_time: 0.7360  memory: 1526  grad_norm: 17.0658  loss: 0.6420  top1_acc: 0.5000  top5_acc: 0.7500  loss_cls: 0.6420\r\n"
     ]
    },
    {
     "name": "stdout",
     "output_type": "stream",
     "text": [
      "06/13 00:05:17 - mmengine - \u001b[4m\u001b[97mINFO\u001b[0m - Epoch(train) [2][ 4220/11818]  lr: 1.0000e-04  eta: 10:11:08  time: 1.0667  data_time: 0.7058  memory: 1526  grad_norm: 16.3497  loss: 0.6107  top1_acc: 0.7500  top5_acc: 1.0000  loss_cls: 0.6107\r\n"
     ]
    },
    {
     "name": "stdout",
     "output_type": "stream",
     "text": [
      "06/13 00:05:36 - mmengine - \u001b[4m\u001b[97mINFO\u001b[0m - Epoch(train) [2][ 4240/11818]  lr: 1.0000e-04  eta: 10:10:37  time: 0.9792  data_time: 0.6186  memory: 1526  grad_norm: 15.9899  loss: 0.6002  top1_acc: 0.7500  top5_acc: 0.7500  loss_cls: 0.6002\r\n"
     ]
    },
    {
     "name": "stdout",
     "output_type": "stream",
     "text": [
      "06/13 00:06:01 - mmengine - \u001b[4m\u001b[97mINFO\u001b[0m - Epoch(train) [2][ 4260/11818]  lr: 1.0000e-04  eta: 10:10:16  time: 1.2339  data_time: 0.8740  memory: 1526  grad_norm: 15.0358  loss: 0.6255  top1_acc: 0.7500  top5_acc: 1.0000  loss_cls: 0.6255\r\n"
     ]
    },
    {
     "name": "stdout",
     "output_type": "stream",
     "text": [
      "06/13 00:06:22 - mmengine - \u001b[4m\u001b[97mINFO\u001b[0m - Epoch(train) [2][ 4280/11818]  lr: 1.0000e-04  eta: 10:09:48  time: 1.0537  data_time: 0.6935  memory: 1526  grad_norm: 12.8020  loss: 0.4193  top1_acc: 1.0000  top5_acc: 1.0000  loss_cls: 0.4193\r\n"
     ]
    },
    {
     "name": "stdout",
     "output_type": "stream",
     "text": [
      "06/13 00:06:42 - mmengine - \u001b[4m\u001b[97mINFO\u001b[0m - Epoch(train) [2][ 4300/11818]  lr: 1.0000e-04  eta: 10:09:17  time: 0.9854  data_time: 0.6256  memory: 1526  grad_norm: 18.3658  loss: 0.7787  top1_acc: 0.7500  top5_acc: 0.7500  loss_cls: 0.7787\r\n"
     ]
    },
    {
     "name": "stdout",
     "output_type": "stream",
     "text": [
      "06/13 00:07:02 - mmengine - \u001b[4m\u001b[97mINFO\u001b[0m - Epoch(train) [2][ 4320/11818]  lr: 1.0000e-04  eta: 10:08:48  time: 1.0227  data_time: 0.6622  memory: 1526  grad_norm: 14.2449  loss: 0.4962  top1_acc: 1.0000  top5_acc: 1.0000  loss_cls: 0.4962\r\n"
     ]
    },
    {
     "name": "stdout",
     "output_type": "stream",
     "text": [
      "06/13 00:07:30 - mmengine - \u001b[4m\u001b[97mINFO\u001b[0m - Epoch(train) [2][ 4340/11818]  lr: 1.0000e-04  eta: 10:08:32  time: 1.3794  data_time: 1.0147  memory: 1526  grad_norm: 15.9490  loss: 0.6774  top1_acc: 1.0000  top5_acc: 1.0000  loss_cls: 0.6774\r\n"
     ]
    },
    {
     "name": "stdout",
     "output_type": "stream",
     "text": [
      "06/13 00:07:53 - mmengine - \u001b[4m\u001b[97mINFO\u001b[0m - Epoch(train) [2][ 4360/11818]  lr: 1.0000e-04  eta: 10:08:09  time: 1.1813  data_time: 0.8212  memory: 1526  grad_norm: 15.5921  loss: 0.7062  top1_acc: 0.5000  top5_acc: 1.0000  loss_cls: 0.7062\r\n"
     ]
    },
    {
     "name": "stdout",
     "output_type": "stream",
     "text": [
      "06/13 00:08:13 - mmengine - \u001b[4m\u001b[97mINFO\u001b[0m - Epoch(train) [2][ 4380/11818]  lr: 1.0000e-04  eta: 10:07:38  time: 0.9664  data_time: 0.6074  memory: 1526  grad_norm: 16.1225  loss: 0.5445  top1_acc: 0.7500  top5_acc: 1.0000  loss_cls: 0.5445\r\n"
     ]
    },
    {
     "name": "stdout",
     "output_type": "stream",
     "text": [
      "06/13 00:08:37 - mmengine - \u001b[4m\u001b[97mINFO\u001b[0m - Epoch(train) [2][ 4400/11818]  lr: 1.0000e-04  eta: 10:07:15  time: 1.1960  data_time: 0.8362  memory: 1526  grad_norm: 12.7877  loss: 0.4993  top1_acc: 0.7500  top5_acc: 1.0000  loss_cls: 0.4993\r\n"
     ]
    },
    {
     "name": "stdout",
     "output_type": "stream",
     "text": [
      "06/13 00:08:58 - mmengine - \u001b[4m\u001b[97mINFO\u001b[0m - Epoch(train) [2][ 4420/11818]  lr: 1.0000e-04  eta: 10:06:48  time: 1.0762  data_time: 0.7167  memory: 1526  grad_norm: 17.7274  loss: 0.6806  top1_acc: 0.2500  top5_acc: 1.0000  loss_cls: 0.6806\r\n"
     ]
    },
    {
     "name": "stdout",
     "output_type": "stream",
     "text": [
      "06/13 00:09:26 - mmengine - \u001b[4m\u001b[97mINFO\u001b[0m - Epoch(train) [2][ 4440/11818]  lr: 1.0000e-04  eta: 10:06:32  time: 1.3807  data_time: 1.0203  memory: 1526  grad_norm: 15.6334  loss: 0.4816  top1_acc: 1.0000  top5_acc: 1.0000  loss_cls: 0.4816\r\n"
     ]
    },
    {
     "name": "stdout",
     "output_type": "stream",
     "text": [
      "06/13 00:09:46 - mmengine - \u001b[4m\u001b[97mINFO\u001b[0m - Epoch(train) [2][ 4460/11818]  lr: 1.0000e-04  eta: 10:06:02  time: 1.0050  data_time: 0.6444  memory: 1526  grad_norm: 15.1708  loss: 0.6807  top1_acc: 0.7500  top5_acc: 1.0000  loss_cls: 0.6807\r\n"
     ]
    },
    {
     "name": "stdout",
     "output_type": "stream",
     "text": [
      "06/13 00:10:08 - mmengine - \u001b[4m\u001b[97mINFO\u001b[0m - Epoch(train) [2][ 4480/11818]  lr: 1.0000e-04  eta: 10:05:36  time: 1.0941  data_time: 0.7319  memory: 1526  grad_norm: 14.1132  loss: 0.5445  top1_acc: 0.7500  top5_acc: 0.7500  loss_cls: 0.5445\r\n"
     ]
    },
    {
     "name": "stdout",
     "output_type": "stream",
     "text": [
      "06/13 00:10:34 - mmengine - \u001b[4m\u001b[97mINFO\u001b[0m - Epoch(train) [2][ 4500/11818]  lr: 1.0000e-04  eta: 10:05:17  time: 1.3034  data_time: 0.9408  memory: 1526  grad_norm: 15.7670  loss: 0.7305  top1_acc: 0.7500  top5_acc: 1.0000  loss_cls: 0.7305\r\n"
     ]
    },
    {
     "name": "stdout",
     "output_type": "stream",
     "text": [
      "06/13 00:10:58 - mmengine - \u001b[4m\u001b[97mINFO\u001b[0m - Epoch(train) [2][ 4520/11818]  lr: 1.0000e-04  eta: 10:04:55  time: 1.1951  data_time: 0.8358  memory: 1526  grad_norm: 16.2454  loss: 0.6413  top1_acc: 0.5000  top5_acc: 1.0000  loss_cls: 0.6413\r\n"
     ]
    },
    {
     "name": "stdout",
     "output_type": "stream",
     "text": [
      "06/13 00:11:22 - mmengine - \u001b[4m\u001b[97mINFO\u001b[0m - Epoch(train) [2][ 4540/11818]  lr: 1.0000e-04  eta: 10:04:32  time: 1.1846  data_time: 0.8238  memory: 1526  grad_norm: 14.8033  loss: 0.5332  top1_acc: 1.0000  top5_acc: 1.0000  loss_cls: 0.5332\r\n"
     ]
    },
    {
     "name": "stdout",
     "output_type": "stream",
     "text": [
      "06/13 00:11:50 - mmengine - \u001b[4m\u001b[97mINFO\u001b[0m - Epoch(train) [2][ 4560/11818]  lr: 1.0000e-04  eta: 10:04:18  time: 1.4229  data_time: 1.0618  memory: 1526  grad_norm: 14.7294  loss: 0.5665  top1_acc: 1.0000  top5_acc: 1.0000  loss_cls: 0.5665\r\n"
     ]
    },
    {
     "name": "stdout",
     "output_type": "stream",
     "text": [
      "06/13 00:12:16 - mmengine - \u001b[4m\u001b[97mINFO\u001b[0m - Epoch(train) [2][ 4580/11818]  lr: 1.0000e-04  eta: 10:03:58  time: 1.2802  data_time: 0.9200  memory: 1526  grad_norm: 16.6852  loss: 0.6563  top1_acc: 1.0000  top5_acc: 1.0000  loss_cls: 0.6563\r\n"
     ]
    },
    {
     "name": "stdout",
     "output_type": "stream",
     "text": [
      "06/13 00:12:40 - mmengine - \u001b[4m\u001b[97mINFO\u001b[0m - Epoch(train) [2][ 4600/11818]  lr: 1.0000e-04  eta: 10:03:37  time: 1.2260  data_time: 0.8654  memory: 1526  grad_norm: 19.1212  loss: 0.6670  top1_acc: 0.7500  top5_acc: 0.7500  loss_cls: 0.6670\r\n"
     ]
    },
    {
     "name": "stdout",
     "output_type": "stream",
     "text": [
      "06/13 00:13:06 - mmengine - \u001b[4m\u001b[97mINFO\u001b[0m - Epoch(train) [2][ 4620/11818]  lr: 1.0000e-04  eta: 10:03:17  time: 1.2843  data_time: 0.9236  memory: 1526  grad_norm: 16.0778  loss: 0.5868  top1_acc: 0.5000  top5_acc: 1.0000  loss_cls: 0.5868\r\n"
     ]
    },
    {
     "name": "stdout",
     "output_type": "stream",
     "text": [
      "06/13 00:13:26 - mmengine - \u001b[4m\u001b[97mINFO\u001b[0m - Epoch(train) [2][ 4640/11818]  lr: 1.0000e-04  eta: 10:02:48  time: 1.0088  data_time: 0.6484  memory: 1526  grad_norm: 14.5224  loss: 0.6707  top1_acc: 1.0000  top5_acc: 1.0000  loss_cls: 0.6707\r\n"
     ]
    },
    {
     "name": "stdout",
     "output_type": "stream",
     "text": [
      "06/13 00:13:46 - mmengine - \u001b[4m\u001b[97mINFO\u001b[0m - Epoch(train) [2][ 4660/11818]  lr: 1.0000e-04  eta: 10:02:18  time: 0.9963  data_time: 0.6353  memory: 1526  grad_norm: 18.2597  loss: 0.7810  top1_acc: 1.0000  top5_acc: 1.0000  loss_cls: 0.7810\r\n"
     ]
    },
    {
     "name": "stdout",
     "output_type": "stream",
     "text": [
      "06/13 00:14:09 - mmengine - \u001b[4m\u001b[97mINFO\u001b[0m - Epoch(train) [2][ 4680/11818]  lr: 1.0000e-04  eta: 10:01:53  time: 1.1429  data_time: 0.7813  memory: 1526  grad_norm: 13.1960  loss: 0.5946  top1_acc: 1.0000  top5_acc: 1.0000  loss_cls: 0.5946\r\n"
     ]
    },
    {
     "name": "stdout",
     "output_type": "stream",
     "text": [
      "06/13 00:14:28 - mmengine - \u001b[4m\u001b[97mINFO\u001b[0m - Epoch(train) [2][ 4700/11818]  lr: 1.0000e-04  eta: 10:01:22  time: 0.9795  data_time: 0.6194  memory: 1526  grad_norm: 17.0247  loss: 0.5159  top1_acc: 0.7500  top5_acc: 1.0000  loss_cls: 0.5159\r\n"
     ]
    },
    {
     "name": "stdout",
     "output_type": "stream",
     "text": [
      "06/13 00:14:51 - mmengine - \u001b[4m\u001b[97mINFO\u001b[0m - Epoch(train) [2][ 4720/11818]  lr: 1.0000e-04  eta: 10:00:57  time: 1.1280  data_time: 0.7659  memory: 1526  grad_norm: 14.2988  loss: 0.5434  top1_acc: 1.0000  top5_acc: 1.0000  loss_cls: 0.5434\r\n"
     ]
    },
    {
     "name": "stdout",
     "output_type": "stream",
     "text": [
      "06/13 00:15:11 - mmengine - \u001b[4m\u001b[97mINFO\u001b[0m - Epoch(train) [2][ 4740/11818]  lr: 1.0000e-04  eta: 10:00:28  time: 1.0227  data_time: 0.6638  memory: 1526  grad_norm: 15.1755  loss: 0.7201  top1_acc: 0.5000  top5_acc: 1.0000  loss_cls: 0.7201\r\n"
     ]
    },
    {
     "name": "stdout",
     "output_type": "stream",
     "text": [
      "06/13 00:15:35 - mmengine - \u001b[4m\u001b[97mINFO\u001b[0m - Epoch(train) [2][ 4760/11818]  lr: 1.0000e-04  eta: 10:00:06  time: 1.2057  data_time: 0.8455  memory: 1526  grad_norm: 17.0400  loss: 0.7698  top1_acc: 0.5000  top5_acc: 1.0000  loss_cls: 0.7698\r\n"
     ]
    },
    {
     "name": "stdout",
     "output_type": "stream",
     "text": [
      "06/13 00:15:59 - mmengine - \u001b[4m\u001b[97mINFO\u001b[0m - Epoch(train) [2][ 4780/11818]  lr: 1.0000e-04  eta: 9:59:43  time: 1.1872  data_time: 0.8264  memory: 1526  grad_norm: 16.1278  loss: 0.6681  top1_acc: 0.7500  top5_acc: 1.0000  loss_cls: 0.6681\r\n"
     ]
    },
    {
     "name": "stdout",
     "output_type": "stream",
     "text": [
      "06/13 00:16:23 - mmengine - \u001b[4m\u001b[97mINFO\u001b[0m - Epoch(train) [2][ 4800/11818]  lr: 1.0000e-04  eta: 9:59:20  time: 1.1817  data_time: 0.8204  memory: 1526  grad_norm: 15.2129  loss: 0.5054  top1_acc: 1.0000  top5_acc: 1.0000  loss_cls: 0.5054\r\n"
     ]
    },
    {
     "name": "stdout",
     "output_type": "stream",
     "text": [
      "06/13 00:16:48 - mmengine - \u001b[4m\u001b[97mINFO\u001b[0m - Epoch(train) [2][ 4820/11818]  lr: 1.0000e-04  eta: 9:58:59  time: 1.2556  data_time: 0.8945  memory: 1526  grad_norm: 19.8066  loss: 0.7578  top1_acc: 0.7500  top5_acc: 0.7500  loss_cls: 0.7578\r\n"
     ]
    },
    {
     "name": "stdout",
     "output_type": "stream",
     "text": [
      "06/13 00:17:10 - mmengine - \u001b[4m\u001b[97mINFO\u001b[0m - Epoch(train) [2][ 4840/11818]  lr: 1.0000e-04  eta: 9:58:34  time: 1.1201  data_time: 0.7574  memory: 1526  grad_norm: 12.8303  loss: 0.4905  top1_acc: 1.0000  top5_acc: 1.0000  loss_cls: 0.4905\r\n"
     ]
    },
    {
     "name": "stdout",
     "output_type": "stream",
     "text": [
      "06/13 00:17:32 - mmengine - \u001b[4m\u001b[97mINFO\u001b[0m - Epoch(train) [2][ 4860/11818]  lr: 1.0000e-04  eta: 9:58:07  time: 1.0639  data_time: 0.7018  memory: 1526  grad_norm: 14.9729  loss: 0.5685  top1_acc: 0.2500  top5_acc: 1.0000  loss_cls: 0.5685\r\n"
     ]
    },
    {
     "name": "stdout",
     "output_type": "stream",
     "text": [
      "06/13 00:17:51 - mmengine - \u001b[4m\u001b[97mINFO\u001b[0m - Epoch(train) [2][ 4880/11818]  lr: 1.0000e-04  eta: 9:57:35  time: 0.9658  data_time: 0.6054  memory: 1526  grad_norm: 17.1368  loss: 0.6360  top1_acc: 0.7500  top5_acc: 1.0000  loss_cls: 0.6360\r\n"
     ]
    },
    {
     "name": "stdout",
     "output_type": "stream",
     "text": [
      "06/13 00:18:11 - mmengine - \u001b[4m\u001b[97mINFO\u001b[0m - Epoch(train) [2][ 4900/11818]  lr: 1.0000e-04  eta: 9:57:05  time: 0.9819  data_time: 0.6218  memory: 1526  grad_norm: 14.0500  loss: 0.5268  top1_acc: 1.0000  top5_acc: 1.0000  loss_cls: 0.5268\r\n"
     ]
    },
    {
     "name": "stdout",
     "output_type": "stream",
     "text": [
      "06/13 00:18:34 - mmengine - \u001b[4m\u001b[97mINFO\u001b[0m - Epoch(train) [2][ 4920/11818]  lr: 1.0000e-04  eta: 9:56:42  time: 1.1765  data_time: 0.8138  memory: 1526  grad_norm: 18.0507  loss: 0.7315  top1_acc: 0.7500  top5_acc: 1.0000  loss_cls: 0.7315\r\n"
     ]
    },
    {
     "name": "stdout",
     "output_type": "stream",
     "text": [
      "06/13 00:18:58 - mmengine - \u001b[4m\u001b[97mINFO\u001b[0m - Epoch(train) [2][ 4940/11818]  lr: 1.0000e-04  eta: 9:56:20  time: 1.2150  data_time: 0.8549  memory: 1526  grad_norm: 15.8993  loss: 0.6747  top1_acc: 0.2500  top5_acc: 0.7500  loss_cls: 0.6747\r\n"
     ]
    },
    {
     "name": "stdout",
     "output_type": "stream",
     "text": [
      "06/13 00:19:24 - mmengine - \u001b[4m\u001b[97mINFO\u001b[0m - Epoch(train) [2][ 4960/11818]  lr: 1.0000e-04  eta: 9:56:00  time: 1.2687  data_time: 0.9079  memory: 1526  grad_norm: 18.6177  loss: 0.8449  top1_acc: 0.7500  top5_acc: 1.0000  loss_cls: 0.8449\r\n"
     ]
    },
    {
     "name": "stdout",
     "output_type": "stream",
     "text": [
      "06/13 00:19:47 - mmengine - \u001b[4m\u001b[97mINFO\u001b[0m - Epoch(train) [2][ 4980/11818]  lr: 1.0000e-04  eta: 9:55:35  time: 1.1383  data_time: 0.7780  memory: 1526  grad_norm: 15.7354  loss: 0.6125  top1_acc: 0.5000  top5_acc: 1.0000  loss_cls: 0.6125\r\n"
     ]
    },
    {
     "name": "stdout",
     "output_type": "stream",
     "text": [
      "06/13 00:20:07 - mmengine - \u001b[4m\u001b[97mINFO\u001b[0m - Epoch(train) [2][ 5000/11818]  lr: 1.0000e-04  eta: 9:55:07  time: 1.0371  data_time: 0.6751  memory: 1526  grad_norm: 20.1706  loss: 0.8079  top1_acc: 1.0000  top5_acc: 1.0000  loss_cls: 0.8079\r\n"
     ]
    },
    {
     "name": "stdout",
     "output_type": "stream",
     "text": [
      "06/13 00:20:33 - mmengine - \u001b[4m\u001b[97mINFO\u001b[0m - Epoch(train) [2][ 5020/11818]  lr: 1.0000e-04  eta: 9:54:47  time: 1.2659  data_time: 0.9031  memory: 1526  grad_norm: 13.1439  loss: 0.3813  top1_acc: 1.0000  top5_acc: 1.0000  loss_cls: 0.3813\r\n"
     ]
    },
    {
     "name": "stdout",
     "output_type": "stream",
     "text": [
      "06/13 00:20:57 - mmengine - \u001b[4m\u001b[97mINFO\u001b[0m - Epoch(train) [2][ 5040/11818]  lr: 1.0000e-04  eta: 9:54:25  time: 1.2197  data_time: 0.8566  memory: 1526  grad_norm: 18.2197  loss: 0.7389  top1_acc: 1.0000  top5_acc: 1.0000  loss_cls: 0.7389\r\n"
     ]
    },
    {
     "name": "stdout",
     "output_type": "stream",
     "text": [
      "06/13 00:21:22 - mmengine - \u001b[4m\u001b[97mINFO\u001b[0m - Epoch(train) [2][ 5060/11818]  lr: 1.0000e-04  eta: 9:54:04  time: 1.2533  data_time: 0.8919  memory: 1526  grad_norm: 21.3920  loss: 0.8319  top1_acc: 0.7500  top5_acc: 1.0000  loss_cls: 0.8319\r\n"
     ]
    },
    {
     "name": "stdout",
     "output_type": "stream",
     "text": [
      "06/13 00:21:45 - mmengine - \u001b[4m\u001b[97mINFO\u001b[0m - Epoch(train) [2][ 5080/11818]  lr: 1.0000e-04  eta: 9:53:40  time: 1.1333  data_time: 0.7726  memory: 1526  grad_norm: 16.2562  loss: 0.6891  top1_acc: 1.0000  top5_acc: 1.0000  loss_cls: 0.6891\r\n"
     ]
    },
    {
     "name": "stdout",
     "output_type": "stream",
     "text": [
      "06/13 00:22:06 - mmengine - \u001b[4m\u001b[97mINFO\u001b[0m - Epoch(train) [2][ 5100/11818]  lr: 1.0000e-04  eta: 9:53:12  time: 1.0611  data_time: 0.7006  memory: 1526  grad_norm: 13.7924  loss: 0.5857  top1_acc: 0.7500  top5_acc: 1.0000  loss_cls: 0.5857\r\n"
     ]
    },
    {
     "name": "stdout",
     "output_type": "stream",
     "text": [
      "06/13 00:22:29 - mmengine - \u001b[4m\u001b[97mINFO\u001b[0m - Epoch(train) [2][ 5120/11818]  lr: 1.0000e-04  eta: 9:52:47  time: 1.1316  data_time: 0.7719  memory: 1526  grad_norm: 16.2089  loss: 0.5070  top1_acc: 0.7500  top5_acc: 1.0000  loss_cls: 0.5070\r\n"
     ]
    },
    {
     "name": "stdout",
     "output_type": "stream",
     "text": [
      "06/13 00:22:52 - mmengine - \u001b[4m\u001b[97mINFO\u001b[0m - Epoch(train) [2][ 5140/11818]  lr: 1.0000e-04  eta: 9:52:24  time: 1.1682  data_time: 0.8082  memory: 1526  grad_norm: 17.3714  loss: 0.6316  top1_acc: 0.5000  top5_acc: 1.0000  loss_cls: 0.6316\r\n"
     ]
    },
    {
     "name": "stdout",
     "output_type": "stream",
     "text": [
      "06/13 00:23:17 - mmengine - \u001b[4m\u001b[97mINFO\u001b[0m - Epoch(train) [2][ 5160/11818]  lr: 1.0000e-04  eta: 9:52:02  time: 1.2261  data_time: 0.8636  memory: 1526  grad_norm: 17.8303  loss: 0.7277  top1_acc: 1.0000  top5_acc: 1.0000  loss_cls: 0.7277\r\n"
     ]
    },
    {
     "name": "stdout",
     "output_type": "stream",
     "text": [
      "06/13 00:23:39 - mmengine - \u001b[4m\u001b[97mINFO\u001b[0m - Epoch(train) [2][ 5180/11818]  lr: 1.0000e-04  eta: 9:51:37  time: 1.1417  data_time: 0.7809  memory: 1526  grad_norm: 14.5488  loss: 0.5902  top1_acc: 0.7500  top5_acc: 0.7500  loss_cls: 0.5902\r\n"
     ]
    },
    {
     "name": "stdout",
     "output_type": "stream",
     "text": [
      "06/13 00:23:41 - mmengine - \u001b[4m\u001b[97mINFO\u001b[0m - Exp name: config_20230612_184603\r\n"
     ]
    },
    {
     "name": "stdout",
     "output_type": "stream",
     "text": [
      "06/13 00:24:02 - mmengine - \u001b[4m\u001b[97mINFO\u001b[0m - Epoch(train) [2][ 5200/11818]  lr: 1.0000e-04  eta: 9:51:12  time: 1.1200  data_time: 0.7583  memory: 1526  grad_norm: 17.3442  loss: 0.6404  top1_acc: 1.0000  top5_acc: 1.0000  loss_cls: 0.6404\r\n"
     ]
    },
    {
     "name": "stdout",
     "output_type": "stream",
     "text": [
      "06/13 00:24:28 - mmengine - \u001b[4m\u001b[97mINFO\u001b[0m - Epoch(train) [2][ 5220/11818]  lr: 1.0000e-04  eta: 9:50:53  time: 1.2945  data_time: 0.9313  memory: 1526  grad_norm: 18.4528  loss: 0.7157  top1_acc: 0.7500  top5_acc: 1.0000  loss_cls: 0.7157\r\n"
     ]
    },
    {
     "name": "stdout",
     "output_type": "stream",
     "text": [
      "06/13 00:24:50 - mmengine - \u001b[4m\u001b[97mINFO\u001b[0m - Epoch(train) [2][ 5240/11818]  lr: 1.0000e-04  eta: 9:50:28  time: 1.1280  data_time: 0.7670  memory: 1526  grad_norm: 14.7250  loss: 0.5015  top1_acc: 1.0000  top5_acc: 1.0000  loss_cls: 0.5015\r\n"
     ]
    },
    {
     "name": "stdout",
     "output_type": "stream",
     "text": [
      "06/13 00:25:14 - mmengine - \u001b[4m\u001b[97mINFO\u001b[0m - Epoch(train) [2][ 5260/11818]  lr: 1.0000e-04  eta: 9:50:05  time: 1.1835  data_time: 0.8208  memory: 1526  grad_norm: 15.0601  loss: 0.5166  top1_acc: 1.0000  top5_acc: 1.0000  loss_cls: 0.5166\r\n"
     ]
    },
    {
     "name": "stdout",
     "output_type": "stream",
     "text": [
      "06/13 00:25:36 - mmengine - \u001b[4m\u001b[97mINFO\u001b[0m - Epoch(train) [2][ 5280/11818]  lr: 1.0000e-04  eta: 9:49:39  time: 1.1063  data_time: 0.7460  memory: 1526  grad_norm: 14.9236  loss: 0.5718  top1_acc: 0.7500  top5_acc: 1.0000  loss_cls: 0.5718\r\n"
     ]
    },
    {
     "name": "stdout",
     "output_type": "stream",
     "text": [
      "06/13 00:25:58 - mmengine - \u001b[4m\u001b[97mINFO\u001b[0m - Epoch(train) [2][ 5300/11818]  lr: 1.0000e-04  eta: 9:49:13  time: 1.0872  data_time: 0.7264  memory: 1526  grad_norm: 16.6037  loss: 0.7032  top1_acc: 0.7500  top5_acc: 1.0000  loss_cls: 0.7032\r\n"
     ]
    },
    {
     "name": "stdout",
     "output_type": "stream",
     "text": [
      "06/13 00:26:20 - mmengine - \u001b[4m\u001b[97mINFO\u001b[0m - Epoch(train) [2][ 5320/11818]  lr: 1.0000e-04  eta: 9:48:47  time: 1.1053  data_time: 0.7439  memory: 1526  grad_norm: 14.8639  loss: 0.5305  top1_acc: 0.7500  top5_acc: 1.0000  loss_cls: 0.5305\r\n"
     ]
    },
    {
     "name": "stdout",
     "output_type": "stream",
     "text": [
      "06/13 00:26:44 - mmengine - \u001b[4m\u001b[97mINFO\u001b[0m - Epoch(train) [2][ 5340/11818]  lr: 1.0000e-04  eta: 9:48:24  time: 1.1881  data_time: 0.8270  memory: 1526  grad_norm: 15.8181  loss: 0.5499  top1_acc: 0.7500  top5_acc: 1.0000  loss_cls: 0.5499\r\n"
     ]
    },
    {
     "name": "stdout",
     "output_type": "stream",
     "text": [
      "06/13 00:27:11 - mmengine - \u001b[4m\u001b[97mINFO\u001b[0m - Epoch(train) [2][ 5360/11818]  lr: 1.0000e-04  eta: 9:48:08  time: 1.3811  data_time: 1.0212  memory: 1526  grad_norm: 16.2107  loss: 0.6671  top1_acc: 0.7500  top5_acc: 1.0000  loss_cls: 0.6671\r\n"
     ]
    },
    {
     "name": "stdout",
     "output_type": "stream",
     "text": [
      "06/13 00:27:33 - mmengine - \u001b[4m\u001b[97mINFO\u001b[0m - Epoch(train) [2][ 5380/11818]  lr: 1.0000e-04  eta: 9:47:42  time: 1.0970  data_time: 0.7359  memory: 1526  grad_norm: 20.2675  loss: 0.7381  top1_acc: 0.5000  top5_acc: 1.0000  loss_cls: 0.7381\r\n"
     ]
    },
    {
     "name": "stdout",
     "output_type": "stream",
     "text": [
      "06/13 00:27:54 - mmengine - \u001b[4m\u001b[97mINFO\u001b[0m - Epoch(train) [2][ 5400/11818]  lr: 1.0000e-04  eta: 9:47:13  time: 1.0328  data_time: 0.6713  memory: 1526  grad_norm: 16.5752  loss: 0.5546  top1_acc: 0.7500  top5_acc: 1.0000  loss_cls: 0.5546\r\n"
     ]
    },
    {
     "name": "stdout",
     "output_type": "stream",
     "text": [
      "06/13 00:28:17 - mmengine - \u001b[4m\u001b[97mINFO\u001b[0m - Epoch(train) [2][ 5420/11818]  lr: 1.0000e-04  eta: 9:46:49  time: 1.1461  data_time: 0.7856  memory: 1526  grad_norm: 18.0852  loss: 0.6201  top1_acc: 0.7500  top5_acc: 0.7500  loss_cls: 0.6201\r\n"
     ]
    },
    {
     "name": "stdout",
     "output_type": "stream",
     "text": [
      "06/13 00:28:39 - mmengine - \u001b[4m\u001b[97mINFO\u001b[0m - Epoch(train) [2][ 5440/11818]  lr: 1.0000e-04  eta: 9:46:23  time: 1.1067  data_time: 0.7445  memory: 1526  grad_norm: 13.9489  loss: 0.5088  top1_acc: 1.0000  top5_acc: 1.0000  loss_cls: 0.5088\r\n"
     ]
    },
    {
     "name": "stdout",
     "output_type": "stream",
     "text": [
      "06/13 00:29:04 - mmengine - \u001b[4m\u001b[97mINFO\u001b[0m - Epoch(train) [2][ 5460/11818]  lr: 1.0000e-04  eta: 9:46:03  time: 1.2559  data_time: 0.8955  memory: 1526  grad_norm: 17.5771  loss: 0.6975  top1_acc: 0.7500  top5_acc: 1.0000  loss_cls: 0.6975\r\n"
     ]
    },
    {
     "name": "stdout",
     "output_type": "stream",
     "text": [
      "06/13 00:29:27 - mmengine - \u001b[4m\u001b[97mINFO\u001b[0m - Epoch(train) [2][ 5480/11818]  lr: 1.0000e-04  eta: 9:45:38  time: 1.1444  data_time: 0.7833  memory: 1526  grad_norm: 15.8214  loss: 0.6276  top1_acc: 1.0000  top5_acc: 1.0000  loss_cls: 0.6276\r\n"
     ]
    },
    {
     "name": "stdout",
     "output_type": "stream",
     "text": [
      "06/13 00:29:48 - mmengine - \u001b[4m\u001b[97mINFO\u001b[0m - Epoch(train) [2][ 5500/11818]  lr: 1.0000e-04  eta: 9:45:10  time: 1.0308  data_time: 0.6699  memory: 1526  grad_norm: 17.8975  loss: 0.7732  top1_acc: 1.0000  top5_acc: 1.0000  loss_cls: 0.7732\r\n"
     ]
    },
    {
     "name": "stdout",
     "output_type": "stream",
     "text": [
      "06/13 00:30:08 - mmengine - \u001b[4m\u001b[97mINFO\u001b[0m - Epoch(train) [2][ 5520/11818]  lr: 1.0000e-04  eta: 9:44:42  time: 1.0299  data_time: 0.6686  memory: 1526  grad_norm: 16.3053  loss: 0.6806  top1_acc: 0.5000  top5_acc: 1.0000  loss_cls: 0.6806\r\n"
     ]
    },
    {
     "name": "stdout",
     "output_type": "stream",
     "text": [
      "06/13 00:30:30 - mmengine - \u001b[4m\u001b[97mINFO\u001b[0m - Epoch(train) [2][ 5540/11818]  lr: 1.0000e-04  eta: 9:44:15  time: 1.0853  data_time: 0.7234  memory: 1526  grad_norm: 16.2064  loss: 0.6310  top1_acc: 0.5000  top5_acc: 1.0000  loss_cls: 0.6310\r\n"
     ]
    },
    {
     "name": "stdout",
     "output_type": "stream",
     "text": [
      "06/13 00:30:56 - mmengine - \u001b[4m\u001b[97mINFO\u001b[0m - Epoch(train) [2][ 5560/11818]  lr: 1.0000e-04  eta: 9:43:56  time: 1.3043  data_time: 0.9441  memory: 1526  grad_norm: 15.4380  loss: 0.6088  top1_acc: 0.7500  top5_acc: 0.7500  loss_cls: 0.6088\r\n"
     ]
    },
    {
     "name": "stdout",
     "output_type": "stream",
     "text": [
      "06/13 00:31:18 - mmengine - \u001b[4m\u001b[97mINFO\u001b[0m - Epoch(train) [2][ 5580/11818]  lr: 1.0000e-04  eta: 9:43:31  time: 1.1186  data_time: 0.7558  memory: 1526  grad_norm: 15.8178  loss: 0.6397  top1_acc: 0.7500  top5_acc: 1.0000  loss_cls: 0.6397\r\n"
     ]
    },
    {
     "name": "stdout",
     "output_type": "stream",
     "text": [
      "06/13 00:31:44 - mmengine - \u001b[4m\u001b[97mINFO\u001b[0m - Epoch(train) [2][ 5600/11818]  lr: 1.0000e-04  eta: 9:43:12  time: 1.2941  data_time: 0.9323  memory: 1526  grad_norm: 18.3495  loss: 0.6681  top1_acc: 1.0000  top5_acc: 1.0000  loss_cls: 0.6681\r\n"
     ]
    },
    {
     "name": "stdout",
     "output_type": "stream",
     "text": [
      "06/13 00:32:10 - mmengine - \u001b[4m\u001b[97mINFO\u001b[0m - Epoch(train) [2][ 5620/11818]  lr: 1.0000e-04  eta: 9:42:53  time: 1.3071  data_time: 0.9454  memory: 1526  grad_norm: 15.7284  loss: 0.6235  top1_acc: 1.0000  top5_acc: 1.0000  loss_cls: 0.6235\r\n"
     ]
    },
    {
     "name": "stdout",
     "output_type": "stream",
     "text": [
      "06/13 00:32:34 - mmengine - \u001b[4m\u001b[97mINFO\u001b[0m - Epoch(train) [2][ 5640/11818]  lr: 1.0000e-04  eta: 9:42:30  time: 1.1959  data_time: 0.8329  memory: 1526  grad_norm: 13.1822  loss: 0.4137  top1_acc: 1.0000  top5_acc: 1.0000  loss_cls: 0.4137\r\n"
     ]
    },
    {
     "name": "stdout",
     "output_type": "stream",
     "text": [
      "06/13 00:32:56 - mmengine - \u001b[4m\u001b[97mINFO\u001b[0m - Epoch(train) [2][ 5660/11818]  lr: 1.0000e-04  eta: 9:42:04  time: 1.0782  data_time: 0.7169  memory: 1526  grad_norm: 17.1730  loss: 0.6640  top1_acc: 1.0000  top5_acc: 1.0000  loss_cls: 0.6640\r\n"
     ]
    },
    {
     "name": "stdout",
     "output_type": "stream",
     "text": [
      "06/13 00:33:20 - mmengine - \u001b[4m\u001b[97mINFO\u001b[0m - Epoch(train) [2][ 5680/11818]  lr: 1.0000e-04  eta: 9:41:41  time: 1.1884  data_time: 0.8242  memory: 1526  grad_norm: 15.3400  loss: 0.5648  top1_acc: 0.7500  top5_acc: 1.0000  loss_cls: 0.5648\r\n"
     ]
    },
    {
     "name": "stdout",
     "output_type": "stream",
     "text": [
      "06/13 00:33:40 - mmengine - \u001b[4m\u001b[97mINFO\u001b[0m - Epoch(train) [2][ 5700/11818]  lr: 1.0000e-04  eta: 9:41:12  time: 1.0153  data_time: 0.6528  memory: 1526  grad_norm: 17.1119  loss: 0.7589  top1_acc: 1.0000  top5_acc: 1.0000  loss_cls: 0.7589\r\n"
     ]
    },
    {
     "name": "stdout",
     "output_type": "stream",
     "text": [
      "06/13 00:34:05 - mmengine - \u001b[4m\u001b[97mINFO\u001b[0m - Epoch(train) [2][ 5720/11818]  lr: 1.0000e-04  eta: 9:40:52  time: 1.2666  data_time: 0.9046  memory: 1526  grad_norm: 17.0883  loss: 0.7239  top1_acc: 0.7500  top5_acc: 1.0000  loss_cls: 0.7239\r\n"
     ]
    },
    {
     "name": "stdout",
     "output_type": "stream",
     "text": [
      "06/13 00:34:29 - mmengine - \u001b[4m\u001b[97mINFO\u001b[0m - Epoch(train) [2][ 5740/11818]  lr: 1.0000e-04  eta: 9:40:29  time: 1.1798  data_time: 0.8195  memory: 1526  grad_norm: 16.6169  loss: 0.6353  top1_acc: 1.0000  top5_acc: 1.0000  loss_cls: 0.6353\r\n"
     ]
    },
    {
     "name": "stdout",
     "output_type": "stream",
     "text": [
      "06/13 00:34:49 - mmengine - \u001b[4m\u001b[97mINFO\u001b[0m - Epoch(train) [2][ 5760/11818]  lr: 1.0000e-04  eta: 9:40:00  time: 1.0170  data_time: 0.6539  memory: 1526  grad_norm: 17.1592  loss: 0.6916  top1_acc: 1.0000  top5_acc: 1.0000  loss_cls: 0.6916\r\n"
     ]
    },
    {
     "name": "stdout",
     "output_type": "stream",
     "text": [
      "06/13 00:35:11 - mmengine - \u001b[4m\u001b[97mINFO\u001b[0m - Epoch(train) [2][ 5780/11818]  lr: 1.0000e-04  eta: 9:39:33  time: 1.0747  data_time: 0.7131  memory: 1526  grad_norm: 15.8788  loss: 0.5479  top1_acc: 0.7500  top5_acc: 1.0000  loss_cls: 0.5479\r\n"
     ]
    },
    {
     "name": "stdout",
     "output_type": "stream",
     "text": [
      "06/13 00:35:35 - mmengine - \u001b[4m\u001b[97mINFO\u001b[0m - Epoch(train) [2][ 5800/11818]  lr: 1.0000e-04  eta: 9:39:11  time: 1.2022  data_time: 0.8419  memory: 1526  grad_norm: 15.8496  loss: 0.5762  top1_acc: 1.0000  top5_acc: 1.0000  loss_cls: 0.5762\r\n"
     ]
    },
    {
     "name": "stdout",
     "output_type": "stream",
     "text": [
      "06/13 00:35:59 - mmengine - \u001b[4m\u001b[97mINFO\u001b[0m - Epoch(train) [2][ 5820/11818]  lr: 1.0000e-04  eta: 9:38:49  time: 1.2184  data_time: 0.8570  memory: 1526  grad_norm: 18.8908  loss: 0.7306  top1_acc: 0.5000  top5_acc: 0.7500  loss_cls: 0.7306\r\n"
     ]
    },
    {
     "name": "stdout",
     "output_type": "stream",
     "text": [
      "06/13 00:36:21 - mmengine - \u001b[4m\u001b[97mINFO\u001b[0m - Epoch(train) [2][ 5840/11818]  lr: 1.0000e-04  eta: 9:38:24  time: 1.1178  data_time: 0.7560  memory: 1526  grad_norm: 15.5767  loss: 0.5839  top1_acc: 1.0000  top5_acc: 1.0000  loss_cls: 0.5839\r\n"
     ]
    },
    {
     "name": "stdout",
     "output_type": "stream",
     "text": [
      "06/13 00:36:44 - mmengine - \u001b[4m\u001b[97mINFO\u001b[0m - Epoch(train) [2][ 5860/11818]  lr: 1.0000e-04  eta: 9:38:00  time: 1.1503  data_time: 0.7884  memory: 1526  grad_norm: 17.7544  loss: 0.6263  top1_acc: 0.7500  top5_acc: 1.0000  loss_cls: 0.6263\r\n"
     ]
    },
    {
     "name": "stdout",
     "output_type": "stream",
     "text": [
      "06/13 00:37:05 - mmengine - \u001b[4m\u001b[97mINFO\u001b[0m - Epoch(train) [2][ 5880/11818]  lr: 1.0000e-04  eta: 9:37:31  time: 1.0181  data_time: 0.6571  memory: 1526  grad_norm: 17.3176  loss: 0.6455  top1_acc: 0.7500  top5_acc: 1.0000  loss_cls: 0.6455\r\n"
     ]
    },
    {
     "name": "stdout",
     "output_type": "stream",
     "text": [
      "06/13 00:37:28 - mmengine - \u001b[4m\u001b[97mINFO\u001b[0m - Epoch(train) [2][ 5900/11818]  lr: 1.0000e-04  eta: 9:37:07  time: 1.1458  data_time: 0.7838  memory: 1526  grad_norm: 16.7191  loss: 0.5858  top1_acc: 0.7500  top5_acc: 1.0000  loss_cls: 0.5858\r\n"
     ]
    },
    {
     "name": "stdout",
     "output_type": "stream",
     "text": [
      "06/13 00:37:50 - mmengine - \u001b[4m\u001b[97mINFO\u001b[0m - Epoch(train) [2][ 5920/11818]  lr: 1.0000e-04  eta: 9:36:41  time: 1.1049  data_time: 0.7426  memory: 1526  grad_norm: 22.4926  loss: 0.9100  top1_acc: 0.7500  top5_acc: 1.0000  loss_cls: 0.9100\r\n"
     ]
    },
    {
     "name": "stdout",
     "output_type": "stream",
     "text": [
      "06/13 00:38:11 - mmengine - \u001b[4m\u001b[97mINFO\u001b[0m - Epoch(train) [2][ 5940/11818]  lr: 1.0000e-04  eta: 9:36:14  time: 1.0700  data_time: 0.7099  memory: 1526  grad_norm: 17.3493  loss: 0.7725  top1_acc: 1.0000  top5_acc: 1.0000  loss_cls: 0.7725\r\n"
     ]
    },
    {
     "name": "stdout",
     "output_type": "stream",
     "text": [
      "06/13 00:38:36 - mmengine - \u001b[4m\u001b[97mINFO\u001b[0m - Epoch(train) [2][ 5960/11818]  lr: 1.0000e-04  eta: 9:35:53  time: 1.2275  data_time: 0.8666  memory: 1526  grad_norm: 17.0480  loss: 0.7124  top1_acc: 0.5000  top5_acc: 1.0000  loss_cls: 0.7124\r\n"
     ]
    },
    {
     "name": "stdout",
     "output_type": "stream",
     "text": [
      "06/13 00:38:59 - mmengine - \u001b[4m\u001b[97mINFO\u001b[0m - Epoch(train) [2][ 5980/11818]  lr: 1.0000e-04  eta: 9:35:29  time: 1.1793  data_time: 0.8179  memory: 1526  grad_norm: 17.0783  loss: 0.7032  top1_acc: 1.0000  top5_acc: 1.0000  loss_cls: 0.7032\r\n"
     ]
    },
    {
     "name": "stdout",
     "output_type": "stream",
     "text": [
      "06/13 00:39:24 - mmengine - \u001b[4m\u001b[97mINFO\u001b[0m - Epoch(train) [2][ 6000/11818]  lr: 1.0000e-04  eta: 9:35:07  time: 1.2154  data_time: 0.8537  memory: 1526  grad_norm: 15.4964  loss: 0.6378  top1_acc: 0.7500  top5_acc: 0.7500  loss_cls: 0.6378\r\n"
     ]
    },
    {
     "name": "stdout",
     "output_type": "stream",
     "text": [
      "06/13 00:39:48 - mmengine - \u001b[4m\u001b[97mINFO\u001b[0m - Epoch(train) [2][ 6020/11818]  lr: 1.0000e-04  eta: 9:34:45  time: 1.2101  data_time: 0.8494  memory: 1526  grad_norm: 17.0226  loss: 0.5631  top1_acc: 1.0000  top5_acc: 1.0000  loss_cls: 0.5631\r\n"
     ]
    },
    {
     "name": "stdout",
     "output_type": "stream",
     "text": [
      "06/13 00:40:11 - mmengine - \u001b[4m\u001b[97mINFO\u001b[0m - Epoch(train) [2][ 6040/11818]  lr: 1.0000e-04  eta: 9:34:22  time: 1.1714  data_time: 0.8095  memory: 1526  grad_norm: 14.8396  loss: 0.6073  top1_acc: 1.0000  top5_acc: 1.0000  loss_cls: 0.6073\r\n"
     ]
    },
    {
     "name": "stdout",
     "output_type": "stream",
     "text": [
      "06/13 00:40:34 - mmengine - \u001b[4m\u001b[97mINFO\u001b[0m - Epoch(train) [2][ 6060/11818]  lr: 1.0000e-04  eta: 9:33:58  time: 1.1542  data_time: 0.7916  memory: 1526  grad_norm: 14.8926  loss: 0.7397  top1_acc: 1.0000  top5_acc: 1.0000  loss_cls: 0.7397\r\n"
     ]
    },
    {
     "name": "stdout",
     "output_type": "stream",
     "text": [
      "06/13 00:40:55 - mmengine - \u001b[4m\u001b[97mINFO\u001b[0m - Epoch(train) [2][ 6080/11818]  lr: 1.0000e-04  eta: 9:33:29  time: 1.0209  data_time: 0.6609  memory: 1526  grad_norm: 15.5417  loss: 0.4897  top1_acc: 0.5000  top5_acc: 1.0000  loss_cls: 0.4897\r\n"
     ]
    },
    {
     "name": "stdout",
     "output_type": "stream",
     "text": [
      "06/13 00:41:16 - mmengine - \u001b[4m\u001b[97mINFO\u001b[0m - Epoch(train) [2][ 6100/11818]  lr: 1.0000e-04  eta: 9:33:02  time: 1.0494  data_time: 0.6876  memory: 1526  grad_norm: 19.0984  loss: 0.7798  top1_acc: 1.0000  top5_acc: 1.0000  loss_cls: 0.7798\r\n"
     ]
    },
    {
     "name": "stdout",
     "output_type": "stream",
     "text": [
      "06/13 00:41:38 - mmengine - \u001b[4m\u001b[97mINFO\u001b[0m - Epoch(train) [2][ 6120/11818]  lr: 1.0000e-04  eta: 9:32:36  time: 1.0958  data_time: 0.7337  memory: 1526  grad_norm: 13.4248  loss: 0.5092  top1_acc: 0.7500  top5_acc: 1.0000  loss_cls: 0.5092\r\n"
     ]
    },
    {
     "name": "stdout",
     "output_type": "stream",
     "text": [
      "06/13 00:42:04 - mmengine - \u001b[4m\u001b[97mINFO\u001b[0m - Epoch(train) [2][ 6140/11818]  lr: 1.0000e-04  eta: 9:32:17  time: 1.3000  data_time: 0.9381  memory: 1526  grad_norm: 20.7276  loss: 0.8820  top1_acc: 0.5000  top5_acc: 1.0000  loss_cls: 0.8820\r\n"
     ]
    },
    {
     "name": "stdout",
     "output_type": "stream",
     "text": [
      "06/13 00:42:25 - mmengine - \u001b[4m\u001b[97mINFO\u001b[0m - Epoch(train) [2][ 6160/11818]  lr: 1.0000e-04  eta: 9:31:50  time: 1.0758  data_time: 0.7159  memory: 1526  grad_norm: 19.3116  loss: 0.8157  top1_acc: 0.2500  top5_acc: 1.0000  loss_cls: 0.8157\r\n"
     ]
    },
    {
     "name": "stdout",
     "output_type": "stream",
     "text": [
      "06/13 00:42:50 - mmengine - \u001b[4m\u001b[97mINFO\u001b[0m - Epoch(train) [2][ 6180/11818]  lr: 1.0000e-04  eta: 9:31:29  time: 1.2286  data_time: 0.8687  memory: 1526  grad_norm: 16.6061  loss: 0.6093  top1_acc: 0.7500  top5_acc: 1.0000  loss_cls: 0.6093\r\n"
     ]
    },
    {
     "name": "stdout",
     "output_type": "stream",
     "text": [
      "06/13 00:42:51 - mmengine - \u001b[4m\u001b[97mINFO\u001b[0m - Exp name: config_20230612_184603\r\n"
     ]
    },
    {
     "name": "stdout",
     "output_type": "stream",
     "text": [
      "06/13 00:43:11 - mmengine - \u001b[4m\u001b[97mINFO\u001b[0m - Epoch(train) [2][ 6200/11818]  lr: 1.0000e-04  eta: 9:31:01  time: 1.0359  data_time: 0.6711  memory: 1526  grad_norm: 17.6434  loss: 0.8495  top1_acc: 0.7500  top5_acc: 0.7500  loss_cls: 0.8495\r\n"
     ]
    },
    {
     "name": "stdout",
     "output_type": "stream",
     "text": [
      "06/13 00:43:32 - mmengine - \u001b[4m\u001b[97mINFO\u001b[0m - Epoch(train) [2][ 6220/11818]  lr: 1.0000e-04  eta: 9:30:34  time: 1.0536  data_time: 0.6926  memory: 1526  grad_norm: 14.4177  loss: 0.4803  top1_acc: 0.7500  top5_acc: 1.0000  loss_cls: 0.4803\r\n"
     ]
    },
    {
     "name": "stdout",
     "output_type": "stream",
     "text": [
      "06/13 00:43:59 - mmengine - \u001b[4m\u001b[97mINFO\u001b[0m - Epoch(train) [2][ 6240/11818]  lr: 1.0000e-04  eta: 9:30:16  time: 1.3485  data_time: 0.9864  memory: 1526  grad_norm: 18.8601  loss: 0.5653  top1_acc: 1.0000  top5_acc: 1.0000  loss_cls: 0.5653\r\n"
     ]
    },
    {
     "name": "stdout",
     "output_type": "stream",
     "text": [
      "06/13 00:44:22 - mmengine - \u001b[4m\u001b[97mINFO\u001b[0m - Epoch(train) [2][ 6260/11818]  lr: 1.0000e-04  eta: 9:29:53  time: 1.1896  data_time: 0.8266  memory: 1526  grad_norm: 13.0792  loss: 0.5639  top1_acc: 0.7500  top5_acc: 1.0000  loss_cls: 0.5639\r\n"
     ]
    },
    {
     "name": "stdout",
     "output_type": "stream",
     "text": [
      "06/13 00:44:43 - mmengine - \u001b[4m\u001b[97mINFO\u001b[0m - Epoch(train) [2][ 6280/11818]  lr: 1.0000e-04  eta: 9:29:26  time: 1.0452  data_time: 0.6839  memory: 1526  grad_norm: 15.7274  loss: 0.4948  top1_acc: 1.0000  top5_acc: 1.0000  loss_cls: 0.4948\r\n"
     ]
    },
    {
     "name": "stdout",
     "output_type": "stream",
     "text": [
      "06/13 00:45:06 - mmengine - \u001b[4m\u001b[97mINFO\u001b[0m - Epoch(train) [2][ 6300/11818]  lr: 1.0000e-04  eta: 9:29:01  time: 1.1298  data_time: 0.7684  memory: 1526  grad_norm: 17.0325  loss: 0.7269  top1_acc: 0.7500  top5_acc: 1.0000  loss_cls: 0.7269\r\n"
     ]
    },
    {
     "name": "stdout",
     "output_type": "stream",
     "text": [
      "06/13 00:45:30 - mmengine - \u001b[4m\u001b[97mINFO\u001b[0m - Epoch(train) [2][ 6320/11818]  lr: 1.0000e-04  eta: 9:28:39  time: 1.2101  data_time: 0.8491  memory: 1526  grad_norm: 16.1060  loss: 0.5740  top1_acc: 0.7500  top5_acc: 1.0000  loss_cls: 0.5740\r\n"
     ]
    },
    {
     "name": "stdout",
     "output_type": "stream",
     "text": [
      "06/13 00:45:54 - mmengine - \u001b[4m\u001b[97mINFO\u001b[0m - Epoch(train) [2][ 6340/11818]  lr: 1.0000e-04  eta: 9:28:16  time: 1.1788  data_time: 0.8169  memory: 1526  grad_norm: 16.3934  loss: 0.5972  top1_acc: 1.0000  top5_acc: 1.0000  loss_cls: 0.5972\r\n"
     ]
    },
    {
     "name": "stdout",
     "output_type": "stream",
     "text": [
      "06/13 00:46:15 - mmengine - \u001b[4m\u001b[97mINFO\u001b[0m - Epoch(train) [2][ 6360/11818]  lr: 1.0000e-04  eta: 9:27:49  time: 1.0724  data_time: 0.7101  memory: 1526  grad_norm: 13.7187  loss: 0.5532  top1_acc: 0.5000  top5_acc: 0.7500  loss_cls: 0.5532\r\n"
     ]
    },
    {
     "name": "stdout",
     "output_type": "stream",
     "text": [
      "06/13 00:46:41 - mmengine - \u001b[4m\u001b[97mINFO\u001b[0m - Epoch(train) [2][ 6380/11818]  lr: 1.0000e-04  eta: 9:27:29  time: 1.2850  data_time: 0.9246  memory: 1526  grad_norm: 19.8500  loss: 0.8235  top1_acc: 0.5000  top5_acc: 0.7500  loss_cls: 0.8235\r\n"
     ]
    },
    {
     "name": "stdout",
     "output_type": "stream",
     "text": [
      "06/13 00:47:06 - mmengine - \u001b[4m\u001b[97mINFO\u001b[0m - Epoch(train) [2][ 6400/11818]  lr: 1.0000e-04  eta: 9:27:08  time: 1.2518  data_time: 0.8903  memory: 1526  grad_norm: 17.6288  loss: 0.6866  top1_acc: 1.0000  top5_acc: 1.0000  loss_cls: 0.6866\r\n"
     ]
    },
    {
     "name": "stdout",
     "output_type": "stream",
     "text": [
      "06/13 00:47:28 - mmengine - \u001b[4m\u001b[97mINFO\u001b[0m - Epoch(train) [2][ 6420/11818]  lr: 1.0000e-04  eta: 9:26:43  time: 1.0998  data_time: 0.7370  memory: 1526  grad_norm: 14.4931  loss: 0.5007  top1_acc: 0.7500  top5_acc: 1.0000  loss_cls: 0.5007\r\n"
     ]
    },
    {
     "name": "stdout",
     "output_type": "stream",
     "text": [
      "06/13 00:47:48 - mmengine - \u001b[4m\u001b[97mINFO\u001b[0m - Epoch(train) [2][ 6440/11818]  lr: 1.0000e-04  eta: 9:26:13  time: 0.9850  data_time: 0.6242  memory: 1526  grad_norm: 17.9681  loss: 0.6215  top1_acc: 1.0000  top5_acc: 1.0000  loss_cls: 0.6215\r\n"
     ]
    },
    {
     "name": "stdout",
     "output_type": "stream",
     "text": [
      "06/13 00:48:09 - mmengine - \u001b[4m\u001b[97mINFO\u001b[0m - Epoch(train) [2][ 6460/11818]  lr: 1.0000e-04  eta: 9:25:48  time: 1.0952  data_time: 0.7328  memory: 1526  grad_norm: 17.7324  loss: 0.8292  top1_acc: 0.7500  top5_acc: 1.0000  loss_cls: 0.8292\r\n"
     ]
    },
    {
     "name": "stdout",
     "output_type": "stream",
     "text": [
      "06/13 00:48:33 - mmengine - \u001b[4m\u001b[97mINFO\u001b[0m - Epoch(train) [2][ 6480/11818]  lr: 1.0000e-04  eta: 9:25:24  time: 1.1601  data_time: 0.7985  memory: 1526  grad_norm: 20.5366  loss: 0.6718  top1_acc: 1.0000  top5_acc: 1.0000  loss_cls: 0.6718\r\n"
     ]
    },
    {
     "name": "stdout",
     "output_type": "stream",
     "text": [
      "06/13 00:49:00 - mmengine - \u001b[4m\u001b[97mINFO\u001b[0m - Epoch(train) [2][ 6500/11818]  lr: 1.0000e-04  eta: 9:25:06  time: 1.3524  data_time: 0.9898  memory: 1526  grad_norm: 18.1561  loss: 0.6809  top1_acc: 0.7500  top5_acc: 1.0000  loss_cls: 0.6809\r\n"
     ]
    },
    {
     "name": "stdout",
     "output_type": "stream",
     "text": [
      "06/13 00:49:23 - mmengine - \u001b[4m\u001b[97mINFO\u001b[0m - Epoch(train) [2][ 6520/11818]  lr: 1.0000e-04  eta: 9:24:42  time: 1.1426  data_time: 0.7810  memory: 1526  grad_norm: 16.7296  loss: 0.6900  top1_acc: 0.7500  top5_acc: 1.0000  loss_cls: 0.6900\r\n"
     ]
    },
    {
     "name": "stdout",
     "output_type": "stream",
     "text": [
      "06/13 00:49:50 - mmengine - \u001b[4m\u001b[97mINFO\u001b[0m - Epoch(train) [2][ 6540/11818]  lr: 1.0000e-04  eta: 9:24:24  time: 1.3551  data_time: 0.9950  memory: 1526  grad_norm: 19.0212  loss: 0.6881  top1_acc: 1.0000  top5_acc: 1.0000  loss_cls: 0.6881\r\n"
     ]
    },
    {
     "name": "stdout",
     "output_type": "stream",
     "text": [
      "06/13 00:50:12 - mmengine - \u001b[4m\u001b[97mINFO\u001b[0m - Epoch(train) [2][ 6560/11818]  lr: 1.0000e-04  eta: 9:24:00  time: 1.1337  data_time: 0.7715  memory: 1526  grad_norm: 18.0015  loss: 0.6089  top1_acc: 1.0000  top5_acc: 1.0000  loss_cls: 0.6089\r\n"
     ]
    },
    {
     "name": "stdout",
     "output_type": "stream",
     "text": [
      "06/13 00:50:39 - mmengine - \u001b[4m\u001b[97mINFO\u001b[0m - Epoch(train) [2][ 6580/11818]  lr: 1.0000e-04  eta: 9:23:41  time: 1.3137  data_time: 0.9508  memory: 1526  grad_norm: 17.8429  loss: 0.6859  top1_acc: 0.7500  top5_acc: 1.0000  loss_cls: 0.6859\r\n"
     ]
    },
    {
     "name": "stdout",
     "output_type": "stream",
     "text": [
      "06/13 00:51:00 - mmengine - \u001b[4m\u001b[97mINFO\u001b[0m - Epoch(train) [2][ 6600/11818]  lr: 1.0000e-04  eta: 9:23:14  time: 1.0637  data_time: 0.7012  memory: 1526  grad_norm: 14.7201  loss: 0.5590  top1_acc: 0.7500  top5_acc: 1.0000  loss_cls: 0.5590\r\n"
     ]
    },
    {
     "name": "stdout",
     "output_type": "stream",
     "text": [
      "06/13 00:51:25 - mmengine - \u001b[4m\u001b[97mINFO\u001b[0m - Epoch(train) [2][ 6620/11818]  lr: 1.0000e-04  eta: 9:22:54  time: 1.2774  data_time: 0.9160  memory: 1526  grad_norm: 15.1285  loss: 0.4734  top1_acc: 1.0000  top5_acc: 1.0000  loss_cls: 0.4734\r\n"
     ]
    },
    {
     "name": "stdout",
     "output_type": "stream",
     "text": [
      "06/13 00:51:49 - mmengine - \u001b[4m\u001b[97mINFO\u001b[0m - Epoch(train) [2][ 6640/11818]  lr: 1.0000e-04  eta: 9:22:31  time: 1.1830  data_time: 0.8211  memory: 1526  grad_norm: 15.7120  loss: 0.5711  top1_acc: 1.0000  top5_acc: 1.0000  loss_cls: 0.5711\r\n"
     ]
    },
    {
     "name": "stdout",
     "output_type": "stream",
     "text": [
      "06/13 00:52:14 - mmengine - \u001b[4m\u001b[97mINFO\u001b[0m - Epoch(train) [2][ 6660/11818]  lr: 1.0000e-04  eta: 9:22:10  time: 1.2559  data_time: 0.8937  memory: 1526  grad_norm: 19.3194  loss: 0.7495  top1_acc: 0.7500  top5_acc: 1.0000  loss_cls: 0.7495\r\n"
     ]
    },
    {
     "name": "stdout",
     "output_type": "stream",
     "text": [
      "06/13 00:52:37 - mmengine - \u001b[4m\u001b[97mINFO\u001b[0m - Epoch(train) [2][ 6680/11818]  lr: 1.0000e-04  eta: 9:21:46  time: 1.1392  data_time: 0.7747  memory: 1526  grad_norm: 15.4825  loss: 0.5824  top1_acc: 1.0000  top5_acc: 1.0000  loss_cls: 0.5824\r\n"
     ]
    },
    {
     "name": "stdout",
     "output_type": "stream",
     "text": [
      "06/13 00:53:01 - mmengine - \u001b[4m\u001b[97mINFO\u001b[0m - Epoch(train) [2][ 6700/11818]  lr: 1.0000e-04  eta: 9:21:22  time: 1.1758  data_time: 0.8151  memory: 1526  grad_norm: 14.9962  loss: 0.4330  top1_acc: 1.0000  top5_acc: 1.0000  loss_cls: 0.4330\r\n"
     ]
    },
    {
     "name": "stdout",
     "output_type": "stream",
     "text": [
      "06/13 00:53:26 - mmengine - \u001b[4m\u001b[97mINFO\u001b[0m - Epoch(train) [2][ 6720/11818]  lr: 1.0000e-04  eta: 9:21:01  time: 1.2493  data_time: 0.8869  memory: 1526  grad_norm: 16.2691  loss: 0.5852  top1_acc: 0.7500  top5_acc: 1.0000  loss_cls: 0.5852\r\n"
     ]
    },
    {
     "name": "stdout",
     "output_type": "stream",
     "text": [
      "06/13 00:53:48 - mmengine - \u001b[4m\u001b[97mINFO\u001b[0m - Epoch(train) [2][ 6740/11818]  lr: 1.0000e-04  eta: 9:20:37  time: 1.1328  data_time: 0.7709  memory: 1526  grad_norm: 13.3076  loss: 0.4827  top1_acc: 1.0000  top5_acc: 1.0000  loss_cls: 0.4827\r\n"
     ]
    },
    {
     "name": "stdout",
     "output_type": "stream",
     "text": [
      "06/13 00:54:11 - mmengine - \u001b[4m\u001b[97mINFO\u001b[0m - Epoch(train) [2][ 6760/11818]  lr: 1.0000e-04  eta: 9:20:12  time: 1.1384  data_time: 0.7756  memory: 1526  grad_norm: 17.7253  loss: 0.7422  top1_acc: 0.7500  top5_acc: 0.7500  loss_cls: 0.7422\r\n"
     ]
    },
    {
     "name": "stdout",
     "output_type": "stream",
     "text": [
      "06/13 00:54:34 - mmengine - \u001b[4m\u001b[97mINFO\u001b[0m - Epoch(train) [2][ 6780/11818]  lr: 1.0000e-04  eta: 9:19:48  time: 1.1488  data_time: 0.7874  memory: 1526  grad_norm: 15.9097  loss: 0.6236  top1_acc: 0.7500  top5_acc: 1.0000  loss_cls: 0.6236\r\n"
     ]
    },
    {
     "name": "stdout",
     "output_type": "stream",
     "text": [
      "06/13 00:54:57 - mmengine - \u001b[4m\u001b[97mINFO\u001b[0m - Epoch(train) [2][ 6800/11818]  lr: 1.0000e-04  eta: 9:19:24  time: 1.1608  data_time: 0.7979  memory: 1526  grad_norm: 16.6336  loss: 0.5332  top1_acc: 0.7500  top5_acc: 1.0000  loss_cls: 0.5332\r\n"
     ]
    },
    {
     "name": "stdout",
     "output_type": "stream",
     "text": [
      "06/13 00:55:22 - mmengine - \u001b[4m\u001b[97mINFO\u001b[0m - Epoch(train) [2][ 6820/11818]  lr: 1.0000e-04  eta: 9:19:03  time: 1.2552  data_time: 0.8911  memory: 1526  grad_norm: 16.4609  loss: 0.7070  top1_acc: 0.7500  top5_acc: 1.0000  loss_cls: 0.7070\r\n"
     ]
    },
    {
     "name": "stdout",
     "output_type": "stream",
     "text": [
      "06/13 00:55:43 - mmengine - \u001b[4m\u001b[97mINFO\u001b[0m - Epoch(train) [2][ 6840/11818]  lr: 1.0000e-04  eta: 9:18:36  time: 1.0492  data_time: 0.6866  memory: 1526  grad_norm: 17.3746  loss: 0.6530  top1_acc: 0.7500  top5_acc: 1.0000  loss_cls: 0.6530\r\n"
     ]
    },
    {
     "name": "stdout",
     "output_type": "stream",
     "text": [
      "06/13 00:56:07 - mmengine - \u001b[4m\u001b[97mINFO\u001b[0m - Epoch(train) [2][ 6860/11818]  lr: 1.0000e-04  eta: 9:18:14  time: 1.1985  data_time: 0.8362  memory: 1526  grad_norm: 16.0685  loss: 0.7515  top1_acc: 1.0000  top5_acc: 1.0000  loss_cls: 0.7515\r\n"
     ]
    },
    {
     "name": "stdout",
     "output_type": "stream",
     "text": [
      "06/13 00:56:30 - mmengine - \u001b[4m\u001b[97mINFO\u001b[0m - Epoch(train) [2][ 6880/11818]  lr: 1.0000e-04  eta: 9:17:49  time: 1.1231  data_time: 0.7613  memory: 1526  grad_norm: 16.2783  loss: 0.5768  top1_acc: 0.7500  top5_acc: 0.7500  loss_cls: 0.5768\r\n"
     ]
    },
    {
     "name": "stdout",
     "output_type": "stream",
     "text": [
      "06/13 00:56:54 - mmengine - \u001b[4m\u001b[97mINFO\u001b[0m - Epoch(train) [2][ 6900/11818]  lr: 1.0000e-04  eta: 9:17:26  time: 1.1905  data_time: 0.8263  memory: 1526  grad_norm: 18.6796  loss: 0.7290  top1_acc: 0.7500  top5_acc: 0.7500  loss_cls: 0.7290\r\n"
     ]
    },
    {
     "name": "stdout",
     "output_type": "stream",
     "text": [
      "06/13 00:57:21 - mmengine - \u001b[4m\u001b[97mINFO\u001b[0m - Epoch(train) [2][ 6920/11818]  lr: 1.0000e-04  eta: 9:17:09  time: 1.3764  data_time: 1.0112  memory: 1526  grad_norm: 16.3389  loss: 0.5257  top1_acc: 0.7500  top5_acc: 0.7500  loss_cls: 0.5257\r\n"
     ]
    },
    {
     "name": "stdout",
     "output_type": "stream",
     "text": [
      "06/13 00:57:46 - mmengine - \u001b[4m\u001b[97mINFO\u001b[0m - Epoch(train) [2][ 6940/11818]  lr: 1.0000e-04  eta: 9:16:47  time: 1.2351  data_time: 0.8725  memory: 1526  grad_norm: 16.3037  loss: 0.6005  top1_acc: 0.5000  top5_acc: 0.7500  loss_cls: 0.6005\r\n"
     ]
    },
    {
     "name": "stdout",
     "output_type": "stream",
     "text": [
      "06/13 00:58:11 - mmengine - \u001b[4m\u001b[97mINFO\u001b[0m - Epoch(train) [2][ 6960/11818]  lr: 1.0000e-04  eta: 9:16:27  time: 1.2741  data_time: 0.9117  memory: 1526  grad_norm: 20.6210  loss: 0.7791  top1_acc: 1.0000  top5_acc: 1.0000  loss_cls: 0.7791\r\n"
     ]
    },
    {
     "name": "stdout",
     "output_type": "stream",
     "text": [
      "06/13 00:58:35 - mmengine - \u001b[4m\u001b[97mINFO\u001b[0m - Epoch(train) [2][ 6980/11818]  lr: 1.0000e-04  eta: 9:16:03  time: 1.1662  data_time: 0.8016  memory: 1526  grad_norm: 17.6219  loss: 0.6655  top1_acc: 0.5000  top5_acc: 1.0000  loss_cls: 0.6655\r\n"
     ]
    },
    {
     "name": "stdout",
     "output_type": "stream",
     "text": [
      "06/13 00:59:02 - mmengine - \u001b[4m\u001b[97mINFO\u001b[0m - Epoch(train) [2][ 7000/11818]  lr: 1.0000e-04  eta: 9:15:45  time: 1.3546  data_time: 0.9921  memory: 1526  grad_norm: 13.6562  loss: 0.4270  top1_acc: 1.0000  top5_acc: 1.0000  loss_cls: 0.4270\r\n"
     ]
    },
    {
     "name": "stdout",
     "output_type": "stream",
     "text": [
      "06/13 00:59:28 - mmengine - \u001b[4m\u001b[97mINFO\u001b[0m - Epoch(train) [2][ 7020/11818]  lr: 1.0000e-04  eta: 9:15:27  time: 1.3268  data_time: 0.9640  memory: 1526  grad_norm: 17.1059  loss: 0.5907  top1_acc: 1.0000  top5_acc: 1.0000  loss_cls: 0.5907\r\n"
     ]
    },
    {
     "name": "stdout",
     "output_type": "stream",
     "text": [
      "06/13 00:59:54 - mmengine - \u001b[4m\u001b[97mINFO\u001b[0m - Epoch(train) [2][ 7040/11818]  lr: 1.0000e-04  eta: 9:15:07  time: 1.2935  data_time: 0.9318  memory: 1526  grad_norm: 15.1408  loss: 0.4892  top1_acc: 1.0000  top5_acc: 1.0000  loss_cls: 0.4892\r\n"
     ]
    },
    {
     "name": "stdout",
     "output_type": "stream",
     "text": [
      "06/13 01:00:18 - mmengine - \u001b[4m\u001b[97mINFO\u001b[0m - Epoch(train) [2][ 7060/11818]  lr: 1.0000e-04  eta: 9:14:44  time: 1.2082  data_time: 0.8452  memory: 1526  grad_norm: 15.0395  loss: 0.6047  top1_acc: 0.7500  top5_acc: 1.0000  loss_cls: 0.6047\r\n"
     ]
    },
    {
     "name": "stdout",
     "output_type": "stream",
     "text": [
      "06/13 01:00:43 - mmengine - \u001b[4m\u001b[97mINFO\u001b[0m - Epoch(train) [2][ 7080/11818]  lr: 1.0000e-04  eta: 9:14:23  time: 1.2433  data_time: 0.8823  memory: 1526  grad_norm: 17.6885  loss: 0.6295  top1_acc: 1.0000  top5_acc: 1.0000  loss_cls: 0.6295\r\n"
     ]
    },
    {
     "name": "stdout",
     "output_type": "stream",
     "text": [
      "06/13 01:01:08 - mmengine - \u001b[4m\u001b[97mINFO\u001b[0m - Epoch(train) [2][ 7100/11818]  lr: 1.0000e-04  eta: 9:14:02  time: 1.2471  data_time: 0.8856  memory: 1526  grad_norm: 14.4178  loss: 0.4075  top1_acc: 1.0000  top5_acc: 1.0000  loss_cls: 0.4075\r\n"
     ]
    },
    {
     "name": "stdout",
     "output_type": "stream",
     "text": [
      "06/13 01:01:33 - mmengine - \u001b[4m\u001b[97mINFO\u001b[0m - Epoch(train) [2][ 7120/11818]  lr: 1.0000e-04  eta: 9:13:40  time: 1.2289  data_time: 0.8654  memory: 1526  grad_norm: 15.9397  loss: 0.5602  top1_acc: 0.7500  top5_acc: 1.0000  loss_cls: 0.5602\r\n"
     ]
    },
    {
     "name": "stdout",
     "output_type": "stream",
     "text": [
      "06/13 01:01:53 - mmengine - \u001b[4m\u001b[97mINFO\u001b[0m - Epoch(train) [2][ 7140/11818]  lr: 1.0000e-04  eta: 9:13:12  time: 1.0255  data_time: 0.6630  memory: 1526  grad_norm: 15.9512  loss: 0.6383  top1_acc: 0.7500  top5_acc: 1.0000  loss_cls: 0.6383\r\n"
     ]
    },
    {
     "name": "stdout",
     "output_type": "stream",
     "text": [
      "06/13 01:02:21 - mmengine - \u001b[4m\u001b[97mINFO\u001b[0m - Epoch(train) [2][ 7160/11818]  lr: 1.0000e-04  eta: 9:12:55  time: 1.3688  data_time: 1.0061  memory: 1526  grad_norm: 17.8646  loss: 0.7237  top1_acc: 1.0000  top5_acc: 1.0000  loss_cls: 0.7237\r\n"
     ]
    },
    {
     "name": "stdout",
     "output_type": "stream",
     "text": [
      "06/13 01:02:42 - mmengine - \u001b[4m\u001b[97mINFO\u001b[0m - Epoch(train) [2][ 7180/11818]  lr: 1.0000e-04  eta: 9:12:29  time: 1.0972  data_time: 0.7358  memory: 1526  grad_norm: 16.7586  loss: 0.5794  top1_acc: 0.7500  top5_acc: 1.0000  loss_cls: 0.5794\r\n"
     ]
    },
    {
     "name": "stdout",
     "output_type": "stream",
     "text": [
      "06/13 01:02:44 - mmengine - \u001b[4m\u001b[97mINFO\u001b[0m - Exp name: config_20230612_184603\r\n"
     ]
    },
    {
     "name": "stdout",
     "output_type": "stream",
     "text": [
      "06/13 01:03:06 - mmengine - \u001b[4m\u001b[97mINFO\u001b[0m - Epoch(train) [2][ 7200/11818]  lr: 1.0000e-04  eta: 9:12:06  time: 1.1842  data_time: 0.8194  memory: 1526  grad_norm: 17.8820  loss: 0.6339  top1_acc: 0.5000  top5_acc: 0.7500  loss_cls: 0.6339\r\n"
     ]
    },
    {
     "name": "stdout",
     "output_type": "stream",
     "text": [
      "06/13 01:03:30 - mmengine - \u001b[4m\u001b[97mINFO\u001b[0m - Epoch(train) [2][ 7220/11818]  lr: 1.0000e-04  eta: 9:11:44  time: 1.2077  data_time: 0.8469  memory: 1526  grad_norm: 15.7412  loss: 0.6434  top1_acc: 1.0000  top5_acc: 1.0000  loss_cls: 0.6434\r\n"
     ]
    },
    {
     "name": "stdout",
     "output_type": "stream",
     "text": [
      "06/13 01:03:55 - mmengine - \u001b[4m\u001b[97mINFO\u001b[0m - Epoch(train) [2][ 7240/11818]  lr: 1.0000e-04  eta: 9:11:21  time: 1.2139  data_time: 0.8510  memory: 1526  grad_norm: 18.1156  loss: 0.7610  top1_acc: 0.7500  top5_acc: 1.0000  loss_cls: 0.7610\r\n"
     ]
    },
    {
     "name": "stdout",
     "output_type": "stream",
     "text": [
      "06/13 01:04:21 - mmengine - \u001b[4m\u001b[97mINFO\u001b[0m - Epoch(train) [2][ 7260/11818]  lr: 1.0000e-04  eta: 9:11:02  time: 1.3113  data_time: 0.9479  memory: 1526  grad_norm: 15.2624  loss: 0.5665  top1_acc: 0.7500  top5_acc: 1.0000  loss_cls: 0.5665\r\n"
     ]
    },
    {
     "name": "stdout",
     "output_type": "stream",
     "text": [
      "06/13 01:04:45 - mmengine - \u001b[4m\u001b[97mINFO\u001b[0m - Epoch(train) [2][ 7280/11818]  lr: 1.0000e-04  eta: 9:10:39  time: 1.2038  data_time: 0.8398  memory: 1526  grad_norm: 18.3396  loss: 0.6860  top1_acc: 1.0000  top5_acc: 1.0000  loss_cls: 0.6860\r\n"
     ]
    },
    {
     "name": "stdout",
     "output_type": "stream",
     "text": [
      "06/13 01:05:06 - mmengine - \u001b[4m\u001b[97mINFO\u001b[0m - Epoch(train) [2][ 7300/11818]  lr: 1.0000e-04  eta: 9:10:12  time: 1.0460  data_time: 0.6843  memory: 1526  grad_norm: 16.6965  loss: 0.5319  top1_acc: 0.7500  top5_acc: 1.0000  loss_cls: 0.5319\r\n"
     ]
    },
    {
     "name": "stdout",
     "output_type": "stream",
     "text": [
      "06/13 01:05:34 - mmengine - \u001b[4m\u001b[97mINFO\u001b[0m - Epoch(train) [2][ 7320/11818]  lr: 1.0000e-04  eta: 9:09:56  time: 1.4056  data_time: 1.0426  memory: 1526  grad_norm: 16.3415  loss: 0.5619  top1_acc: 0.5000  top5_acc: 1.0000  loss_cls: 0.5619\r\n"
     ]
    },
    {
     "name": "stdout",
     "output_type": "stream",
     "text": [
      "06/13 01:05:59 - mmengine - \u001b[4m\u001b[97mINFO\u001b[0m - Epoch(train) [2][ 7340/11818]  lr: 1.0000e-04  eta: 9:09:34  time: 1.2328  data_time: 0.8711  memory: 1526  grad_norm: 16.0993  loss: 0.5636  top1_acc: 0.7500  top5_acc: 1.0000  loss_cls: 0.5636\r\n"
     ]
    },
    {
     "name": "stdout",
     "output_type": "stream",
     "text": [
      "06/13 01:06:22 - mmengine - \u001b[4m\u001b[97mINFO\u001b[0m - Epoch(train) [2][ 7360/11818]  lr: 1.0000e-04  eta: 9:09:11  time: 1.1813  data_time: 0.8161  memory: 1526  grad_norm: 15.9825  loss: 0.6072  top1_acc: 0.7500  top5_acc: 1.0000  loss_cls: 0.6072\r\n"
     ]
    },
    {
     "name": "stdout",
     "output_type": "stream",
     "text": [
      "06/13 01:06:46 - mmengine - \u001b[4m\u001b[97mINFO\u001b[0m - Epoch(train) [2][ 7380/11818]  lr: 1.0000e-04  eta: 9:08:47  time: 1.1790  data_time: 0.8178  memory: 1526  grad_norm: 16.6061  loss: 0.6398  top1_acc: 0.7500  top5_acc: 1.0000  loss_cls: 0.6398\r\n"
     ]
    },
    {
     "name": "stdout",
     "output_type": "stream",
     "text": [
      "06/13 01:07:09 - mmengine - \u001b[4m\u001b[97mINFO\u001b[0m - Epoch(train) [2][ 7400/11818]  lr: 1.0000e-04  eta: 9:08:23  time: 1.1365  data_time: 0.7742  memory: 1526  grad_norm: 15.2213  loss: 0.5742  top1_acc: 0.7500  top5_acc: 1.0000  loss_cls: 0.5742\r\n"
     ]
    },
    {
     "name": "stdout",
     "output_type": "stream",
     "text": [
      "06/13 01:07:32 - mmengine - \u001b[4m\u001b[97mINFO\u001b[0m - Epoch(train) [2][ 7420/11818]  lr: 1.0000e-04  eta: 9:08:00  time: 1.1861  data_time: 0.8234  memory: 1526  grad_norm: 17.6415  loss: 0.7486  top1_acc: 0.7500  top5_acc: 0.7500  loss_cls: 0.7486\r\n"
     ]
    },
    {
     "name": "stdout",
     "output_type": "stream",
     "text": [
      "06/13 01:07:55 - mmengine - \u001b[4m\u001b[97mINFO\u001b[0m - Epoch(train) [2][ 7440/11818]  lr: 1.0000e-04  eta: 9:07:36  time: 1.1527  data_time: 0.7892  memory: 1526  grad_norm: 15.4760  loss: 0.6529  top1_acc: 1.0000  top5_acc: 1.0000  loss_cls: 0.6529\r\n"
     ]
    },
    {
     "name": "stdout",
     "output_type": "stream",
     "text": [
      "06/13 01:08:18 - mmengine - \u001b[4m\u001b[97mINFO\u001b[0m - Epoch(train) [2][ 7460/11818]  lr: 1.0000e-04  eta: 9:07:12  time: 1.1433  data_time: 0.7820  memory: 1526  grad_norm: 17.8072  loss: 0.6922  top1_acc: 0.7500  top5_acc: 1.0000  loss_cls: 0.6922\r\n"
     ]
    },
    {
     "name": "stdout",
     "output_type": "stream",
     "text": [
      "06/13 01:08:42 - mmengine - \u001b[4m\u001b[97mINFO\u001b[0m - Epoch(train) [2][ 7480/11818]  lr: 1.0000e-04  eta: 9:06:48  time: 1.1729  data_time: 0.8086  memory: 1526  grad_norm: 18.8638  loss: 0.6073  top1_acc: 0.7500  top5_acc: 0.7500  loss_cls: 0.6073\r\n"
     ]
    },
    {
     "name": "stdout",
     "output_type": "stream",
     "text": [
      "06/13 01:09:12 - mmengine - \u001b[4m\u001b[97mINFO\u001b[0m - Epoch(train) [2][ 7500/11818]  lr: 1.0000e-04  eta: 9:06:35  time: 1.5408  data_time: 1.1766  memory: 1526  grad_norm: 17.9068  loss: 0.5837  top1_acc: 0.5000  top5_acc: 1.0000  loss_cls: 0.5837\r\n"
     ]
    },
    {
     "name": "stdout",
     "output_type": "stream",
     "text": [
      "06/13 01:09:40 - mmengine - \u001b[4m\u001b[97mINFO\u001b[0m - Epoch(train) [2][ 7520/11818]  lr: 1.0000e-04  eta: 9:06:18  time: 1.3961  data_time: 1.0345  memory: 1526  grad_norm: 13.6023  loss: 0.4340  top1_acc: 1.0000  top5_acc: 1.0000  loss_cls: 0.4340\r\n"
     ]
    },
    {
     "name": "stdout",
     "output_type": "stream",
     "text": [
      "06/13 01:10:07 - mmengine - \u001b[4m\u001b[97mINFO\u001b[0m - Epoch(train) [2][ 7540/11818]  lr: 1.0000e-04  eta: 9:05:59  time: 1.3299  data_time: 0.9652  memory: 1526  grad_norm: 18.2716  loss: 0.5309  top1_acc: 0.5000  top5_acc: 1.0000  loss_cls: 0.5309\r\n"
     ]
    },
    {
     "name": "stdout",
     "output_type": "stream",
     "text": [
      "06/13 01:10:33 - mmengine - \u001b[4m\u001b[97mINFO\u001b[0m - Epoch(train) [2][ 7560/11818]  lr: 1.0000e-04  eta: 9:05:40  time: 1.3123  data_time: 0.9496  memory: 1526  grad_norm: 15.8002  loss: 0.5479  top1_acc: 1.0000  top5_acc: 1.0000  loss_cls: 0.5479\r\n"
     ]
    },
    {
     "name": "stdout",
     "output_type": "stream",
     "text": [
      "06/13 01:10:57 - mmengine - \u001b[4m\u001b[97mINFO\u001b[0m - Epoch(train) [2][ 7580/11818]  lr: 1.0000e-04  eta: 9:05:16  time: 1.1639  data_time: 0.8017  memory: 1526  grad_norm: 16.8404  loss: 0.5718  top1_acc: 1.0000  top5_acc: 1.0000  loss_cls: 0.5718\r\n"
     ]
    },
    {
     "name": "stdout",
     "output_type": "stream",
     "text": [
      "06/13 01:11:18 - mmengine - \u001b[4m\u001b[97mINFO\u001b[0m - Epoch(train) [2][ 7600/11818]  lr: 1.0000e-04  eta: 9:04:50  time: 1.0843  data_time: 0.7216  memory: 1526  grad_norm: 18.8189  loss: 0.5992  top1_acc: 1.0000  top5_acc: 1.0000  loss_cls: 0.5992\r\n"
     ]
    },
    {
     "name": "stdout",
     "output_type": "stream",
     "text": [
      "06/13 01:11:42 - mmengine - \u001b[4m\u001b[97mINFO\u001b[0m - Epoch(train) [2][ 7620/11818]  lr: 1.0000e-04  eta: 9:04:27  time: 1.1846  data_time: 0.8205  memory: 1526  grad_norm: 17.4886  loss: 0.7353  top1_acc: 0.7500  top5_acc: 1.0000  loss_cls: 0.7353\r\n"
     ]
    },
    {
     "name": "stdout",
     "output_type": "stream",
     "text": [
      "06/13 01:12:06 - mmengine - \u001b[4m\u001b[97mINFO\u001b[0m - Epoch(train) [2][ 7640/11818]  lr: 1.0000e-04  eta: 9:04:05  time: 1.2254  data_time: 0.8635  memory: 1526  grad_norm: 14.1938  loss: 0.4372  top1_acc: 1.0000  top5_acc: 1.0000  loss_cls: 0.4372\r\n"
     ]
    },
    {
     "name": "stdout",
     "output_type": "stream",
     "text": [
      "06/13 01:12:27 - mmengine - \u001b[4m\u001b[97mINFO\u001b[0m - Epoch(train) [2][ 7660/11818]  lr: 1.0000e-04  eta: 9:03:37  time: 1.0329  data_time: 0.6711  memory: 1526  grad_norm: 16.7706  loss: 0.5030  top1_acc: 0.7500  top5_acc: 1.0000  loss_cls: 0.5030\r\n"
     ]
    },
    {
     "name": "stdout",
     "output_type": "stream",
     "text": [
      "06/13 01:12:51 - mmengine - \u001b[4m\u001b[97mINFO\u001b[0m - Epoch(train) [2][ 7680/11818]  lr: 1.0000e-04  eta: 9:03:14  time: 1.1924  data_time: 0.8310  memory: 1526  grad_norm: 14.0334  loss: 0.5215  top1_acc: 1.0000  top5_acc: 1.0000  loss_cls: 0.5215\r\n"
     ]
    },
    {
     "name": "stdout",
     "output_type": "stream",
     "text": [
      "06/13 01:13:15 - mmengine - \u001b[4m\u001b[97mINFO\u001b[0m - Epoch(train) [2][ 7700/11818]  lr: 1.0000e-04  eta: 9:02:52  time: 1.1985  data_time: 0.8351  memory: 1526  grad_norm: 16.1621  loss: 0.6591  top1_acc: 0.7500  top5_acc: 0.7500  loss_cls: 0.6591\r\n"
     ]
    },
    {
     "name": "stdout",
     "output_type": "stream",
     "text": [
      "06/13 01:13:38 - mmengine - \u001b[4m\u001b[97mINFO\u001b[0m - Epoch(train) [2][ 7720/11818]  lr: 1.0000e-04  eta: 9:02:27  time: 1.1328  data_time: 0.7707  memory: 1526  grad_norm: 15.2501  loss: 0.5228  top1_acc: 1.0000  top5_acc: 1.0000  loss_cls: 0.5228\r\n"
     ]
    },
    {
     "name": "stdout",
     "output_type": "stream",
     "text": [
      "06/13 01:14:02 - mmengine - \u001b[4m\u001b[97mINFO\u001b[0m - Epoch(train) [2][ 7740/11818]  lr: 1.0000e-04  eta: 9:02:04  time: 1.2033  data_time: 0.8408  memory: 1526  grad_norm: 14.4773  loss: 0.4356  top1_acc: 1.0000  top5_acc: 1.0000  loss_cls: 0.4356\r\n"
     ]
    },
    {
     "name": "stdout",
     "output_type": "stream",
     "text": [
      "06/13 01:14:26 - mmengine - \u001b[4m\u001b[97mINFO\u001b[0m - Epoch(train) [2][ 7760/11818]  lr: 1.0000e-04  eta: 9:01:43  time: 1.2328  data_time: 0.8702  memory: 1526  grad_norm: 14.9703  loss: 0.5131  top1_acc: 0.7500  top5_acc: 1.0000  loss_cls: 0.5131\r\n"
     ]
    },
    {
     "name": "stdout",
     "output_type": "stream",
     "text": [
      "06/13 01:14:49 - mmengine - \u001b[4m\u001b[97mINFO\u001b[0m - Epoch(train) [2][ 7780/11818]  lr: 1.0000e-04  eta: 9:01:18  time: 1.1354  data_time: 0.7730  memory: 1526  grad_norm: 16.7561  loss: 0.5417  top1_acc: 0.5000  top5_acc: 1.0000  loss_cls: 0.5417\r\n"
     ]
    },
    {
     "name": "stdout",
     "output_type": "stream",
     "text": [
      "06/13 01:15:13 - mmengine - \u001b[4m\u001b[97mINFO\u001b[0m - Epoch(train) [2][ 7800/11818]  lr: 1.0000e-04  eta: 9:00:55  time: 1.1897  data_time: 0.8291  memory: 1526  grad_norm: 15.7523  loss: 0.5103  top1_acc: 1.0000  top5_acc: 1.0000  loss_cls: 0.5103\r\n"
     ]
    },
    {
     "name": "stdout",
     "output_type": "stream",
     "text": [
      "06/13 01:15:38 - mmengine - \u001b[4m\u001b[97mINFO\u001b[0m - Epoch(train) [2][ 7820/11818]  lr: 1.0000e-04  eta: 9:00:35  time: 1.2815  data_time: 0.9192  memory: 1526  grad_norm: 18.0212  loss: 0.6043  top1_acc: 1.0000  top5_acc: 1.0000  loss_cls: 0.6043\r\n"
     ]
    },
    {
     "name": "stdout",
     "output_type": "stream",
     "text": [
      "06/13 01:16:05 - mmengine - \u001b[4m\u001b[97mINFO\u001b[0m - Epoch(train) [2][ 7840/11818]  lr: 1.0000e-04  eta: 9:00:15  time: 1.3189  data_time: 0.9565  memory: 1526  grad_norm: 16.3132  loss: 0.6306  top1_acc: 1.0000  top5_acc: 1.0000  loss_cls: 0.6306\r\n"
     ]
    },
    {
     "name": "stdout",
     "output_type": "stream",
     "text": [
      "06/13 01:16:33 - mmengine - \u001b[4m\u001b[97mINFO\u001b[0m - Epoch(train) [2][ 7860/11818]  lr: 1.0000e-04  eta: 8:59:58  time: 1.4012  data_time: 1.0378  memory: 1526  grad_norm: 19.1217  loss: 0.6404  top1_acc: 0.7500  top5_acc: 1.0000  loss_cls: 0.6404\r\n"
     ]
    },
    {
     "name": "stdout",
     "output_type": "stream",
     "text": [
      "06/13 01:16:57 - mmengine - \u001b[4m\u001b[97mINFO\u001b[0m - Epoch(train) [2][ 7880/11818]  lr: 1.0000e-04  eta: 8:59:36  time: 1.2333  data_time: 0.8713  memory: 1526  grad_norm: 18.1110  loss: 0.6796  top1_acc: 0.2500  top5_acc: 1.0000  loss_cls: 0.6796\r\n"
     ]
    },
    {
     "name": "stdout",
     "output_type": "stream",
     "text": [
      "06/13 01:17:21 - mmengine - \u001b[4m\u001b[97mINFO\u001b[0m - Epoch(train) [2][ 7900/11818]  lr: 1.0000e-04  eta: 8:59:13  time: 1.1759  data_time: 0.8136  memory: 1526  grad_norm: 18.5703  loss: 0.6608  top1_acc: 0.5000  top5_acc: 1.0000  loss_cls: 0.6608\r\n"
     ]
    },
    {
     "name": "stdout",
     "output_type": "stream",
     "text": [
      "06/13 01:17:45 - mmengine - \u001b[4m\u001b[97mINFO\u001b[0m - Epoch(train) [2][ 7920/11818]  lr: 1.0000e-04  eta: 8:58:50  time: 1.1880  data_time: 0.8270  memory: 1526  grad_norm: 18.5068  loss: 0.5606  top1_acc: 1.0000  top5_acc: 1.0000  loss_cls: 0.5606\r\n"
     ]
    },
    {
     "name": "stdout",
     "output_type": "stream",
     "text": [
      "06/13 01:18:08 - mmengine - \u001b[4m\u001b[97mINFO\u001b[0m - Epoch(train) [2][ 7940/11818]  lr: 1.0000e-04  eta: 8:58:26  time: 1.1718  data_time: 0.8096  memory: 1526  grad_norm: 16.7780  loss: 0.6030  top1_acc: 0.5000  top5_acc: 1.0000  loss_cls: 0.6030\r\n"
     ]
    },
    {
     "name": "stdout",
     "output_type": "stream",
     "text": [
      "06/13 01:18:34 - mmengine - \u001b[4m\u001b[97mINFO\u001b[0m - Epoch(train) [2][ 7960/11818]  lr: 1.0000e-04  eta: 8:58:06  time: 1.2945  data_time: 0.9299  memory: 1526  grad_norm: 17.7062  loss: 0.6013  top1_acc: 1.0000  top5_acc: 1.0000  loss_cls: 0.6013\r\n"
     ]
    },
    {
     "name": "stdout",
     "output_type": "stream",
     "text": [
      "06/13 01:18:54 - mmengine - \u001b[4m\u001b[97mINFO\u001b[0m - Epoch(train) [2][ 7980/11818]  lr: 1.0000e-04  eta: 8:57:38  time: 1.0029  data_time: 0.6417  memory: 1526  grad_norm: 16.9949  loss: 0.5982  top1_acc: 0.7500  top5_acc: 0.7500  loss_cls: 0.5982\r\n"
     ]
    },
    {
     "name": "stdout",
     "output_type": "stream",
     "text": [
      "06/13 01:19:19 - mmengine - \u001b[4m\u001b[97mINFO\u001b[0m - Epoch(train) [2][ 8000/11818]  lr: 1.0000e-04  eta: 8:57:16  time: 1.2460  data_time: 0.8839  memory: 1526  grad_norm: 18.3626  loss: 0.7464  top1_acc: 0.7500  top5_acc: 1.0000  loss_cls: 0.7464\r\n"
     ]
    },
    {
     "name": "stdout",
     "output_type": "stream",
     "text": [
      "06/13 01:19:43 - mmengine - \u001b[4m\u001b[97mINFO\u001b[0m - Epoch(train) [2][ 8020/11818]  lr: 1.0000e-04  eta: 8:56:53  time: 1.1767  data_time: 0.8143  memory: 1526  grad_norm: 16.4338  loss: 0.6387  top1_acc: 0.7500  top5_acc: 0.7500  loss_cls: 0.6387\r\n"
     ]
    },
    {
     "name": "stdout",
     "output_type": "stream",
     "text": [
      "06/13 01:20:10 - mmengine - \u001b[4m\u001b[97mINFO\u001b[0m - Epoch(train) [2][ 8040/11818]  lr: 1.0000e-04  eta: 8:56:35  time: 1.3664  data_time: 1.0024  memory: 1526  grad_norm: 18.8606  loss: 0.6761  top1_acc: 0.5000  top5_acc: 1.0000  loss_cls: 0.6761\r\n"
     ]
    },
    {
     "name": "stdout",
     "output_type": "stream",
     "text": [
      "06/13 01:20:31 - mmengine - \u001b[4m\u001b[97mINFO\u001b[0m - Epoch(train) [2][ 8060/11818]  lr: 1.0000e-04  eta: 8:56:07  time: 1.0340  data_time: 0.6721  memory: 1526  grad_norm: 17.9686  loss: 0.6273  top1_acc: 0.7500  top5_acc: 1.0000  loss_cls: 0.6273\r\n"
     ]
    },
    {
     "name": "stdout",
     "output_type": "stream",
     "text": [
      "06/13 01:20:53 - mmengine - \u001b[4m\u001b[97mINFO\u001b[0m - Epoch(train) [2][ 8080/11818]  lr: 1.0000e-04  eta: 8:55:43  time: 1.1266  data_time: 0.7641  memory: 1526  grad_norm: 21.4335  loss: 0.8326  top1_acc: 0.2500  top5_acc: 0.5000  loss_cls: 0.8326\r\n"
     ]
    },
    {
     "name": "stdout",
     "output_type": "stream",
     "text": [
      "06/13 01:21:15 - mmengine - \u001b[4m\u001b[97mINFO\u001b[0m - Epoch(train) [2][ 8100/11818]  lr: 1.0000e-04  eta: 8:55:17  time: 1.0985  data_time: 0.7341  memory: 1526  grad_norm: 14.8108  loss: 0.5510  top1_acc: 0.7500  top5_acc: 1.0000  loss_cls: 0.5510\r\n"
     ]
    },
    {
     "name": "stdout",
     "output_type": "stream",
     "text": [
      "06/13 01:21:39 - mmengine - \u001b[4m\u001b[97mINFO\u001b[0m - Epoch(train) [2][ 8120/11818]  lr: 1.0000e-04  eta: 8:54:55  time: 1.2165  data_time: 0.8546  memory: 1526  grad_norm: 17.9593  loss: 0.6754  top1_acc: 1.0000  top5_acc: 1.0000  loss_cls: 0.6754\r\n"
     ]
    },
    {
     "name": "stdout",
     "output_type": "stream",
     "text": [
      "06/13 01:22:03 - mmengine - \u001b[4m\u001b[97mINFO\u001b[0m - Epoch(train) [2][ 8140/11818]  lr: 1.0000e-04  eta: 8:54:31  time: 1.1650  data_time: 0.8039  memory: 1526  grad_norm: 17.6479  loss: 0.6021  top1_acc: 1.0000  top5_acc: 1.0000  loss_cls: 0.6021\r\n"
     ]
    },
    {
     "name": "stdout",
     "output_type": "stream",
     "text": [
      "06/13 01:22:28 - mmengine - \u001b[4m\u001b[97mINFO\u001b[0m - Epoch(train) [2][ 8160/11818]  lr: 1.0000e-04  eta: 8:54:10  time: 1.2555  data_time: 0.8944  memory: 1526  grad_norm: 15.7438  loss: 0.5068  top1_acc: 1.0000  top5_acc: 1.0000  loss_cls: 0.5068\r\n"
     ]
    },
    {
     "name": "stdout",
     "output_type": "stream",
     "text": [
      "06/13 01:22:54 - mmengine - \u001b[4m\u001b[97mINFO\u001b[0m - Epoch(train) [2][ 8180/11818]  lr: 1.0000e-04  eta: 8:53:50  time: 1.3254  data_time: 0.9631  memory: 1526  grad_norm: 14.7911  loss: 0.5248  top1_acc: 1.0000  top5_acc: 1.0000  loss_cls: 0.5248\r\n"
     ]
    },
    {
     "name": "stdout",
     "output_type": "stream",
     "text": [
      "06/13 01:22:57 - mmengine - \u001b[4m\u001b[97mINFO\u001b[0m - Exp name: config_20230612_184603\r\n"
     ]
    },
    {
     "name": "stdout",
     "output_type": "stream",
     "text": [
      "06/13 01:23:19 - mmengine - \u001b[4m\u001b[97mINFO\u001b[0m - Epoch(train) [2][ 8200/11818]  lr: 1.0000e-04  eta: 8:53:28  time: 1.2242  data_time: 0.8623  memory: 1526  grad_norm: 15.1482  loss: 0.5971  top1_acc: 1.0000  top5_acc: 1.0000  loss_cls: 0.5971\r\n"
     ]
    },
    {
     "name": "stdout",
     "output_type": "stream",
     "text": [
      "06/13 01:23:42 - mmengine - \u001b[4m\u001b[97mINFO\u001b[0m - Epoch(train) [2][ 8220/11818]  lr: 1.0000e-04  eta: 8:53:04  time: 1.1420  data_time: 0.7783  memory: 1526  grad_norm: 14.6342  loss: 0.5267  top1_acc: 1.0000  top5_acc: 1.0000  loss_cls: 0.5267\r\n"
     ]
    },
    {
     "name": "stdout",
     "output_type": "stream",
     "text": [
      "06/13 01:24:00 - mmengine - \u001b[4m\u001b[97mINFO\u001b[0m - Epoch(train) [2][ 8240/11818]  lr: 1.0000e-04  eta: 8:52:34  time: 0.9281  data_time: 0.5677  memory: 1526  grad_norm: 13.1500  loss: 0.4816  top1_acc: 1.0000  top5_acc: 1.0000  loss_cls: 0.4816\r\n"
     ]
    },
    {
     "name": "stdout",
     "output_type": "stream",
     "text": [
      "06/13 01:24:22 - mmengine - \u001b[4m\u001b[97mINFO\u001b[0m - Epoch(train) [2][ 8260/11818]  lr: 1.0000e-04  eta: 8:52:08  time: 1.1107  data_time: 0.7488  memory: 1526  grad_norm: 15.4362  loss: 0.6468  top1_acc: 1.0000  top5_acc: 1.0000  loss_cls: 0.6468\r\n"
     ]
    },
    {
     "name": "stdout",
     "output_type": "stream",
     "text": [
      "06/13 01:24:46 - mmengine - \u001b[4m\u001b[97mINFO\u001b[0m - Epoch(train) [2][ 8280/11818]  lr: 1.0000e-04  eta: 8:51:45  time: 1.1926  data_time: 0.8302  memory: 1526  grad_norm: 19.4885  loss: 0.7795  top1_acc: 1.0000  top5_acc: 1.0000  loss_cls: 0.7795\r\n"
     ]
    },
    {
     "name": "stdout",
     "output_type": "stream",
     "text": [
      "06/13 01:25:07 - mmengine - \u001b[4m\u001b[97mINFO\u001b[0m - Epoch(train) [2][ 8300/11818]  lr: 1.0000e-04  eta: 8:51:18  time: 1.0273  data_time: 0.6659  memory: 1526  grad_norm: 13.6387  loss: 0.5027  top1_acc: 1.0000  top5_acc: 1.0000  loss_cls: 0.5027\r\n"
     ]
    },
    {
     "name": "stdout",
     "output_type": "stream",
     "text": [
      "06/13 01:25:30 - mmengine - \u001b[4m\u001b[97mINFO\u001b[0m - Epoch(train) [2][ 8320/11818]  lr: 1.0000e-04  eta: 8:50:54  time: 1.1423  data_time: 0.7787  memory: 1526  grad_norm: 19.3810  loss: 0.6332  top1_acc: 1.0000  top5_acc: 1.0000  loss_cls: 0.6332\r\n"
     ]
    },
    {
     "name": "stdout",
     "output_type": "stream",
     "text": [
      "06/13 01:25:49 - mmengine - \u001b[4m\u001b[97mINFO\u001b[0m - Epoch(train) [2][ 8340/11818]  lr: 1.0000e-04  eta: 8:50:25  time: 0.9826  data_time: 0.6203  memory: 1526  grad_norm: 15.8854  loss: 0.5592  top1_acc: 0.5000  top5_acc: 0.7500  loss_cls: 0.5592\r\n"
     ]
    },
    {
     "name": "stdout",
     "output_type": "stream",
     "text": [
      "06/13 01:26:11 - mmengine - \u001b[4m\u001b[97mINFO\u001b[0m - Epoch(train) [2][ 8360/11818]  lr: 1.0000e-04  eta: 8:49:59  time: 1.0711  data_time: 0.7098  memory: 1526  grad_norm: 14.8127  loss: 0.4380  top1_acc: 1.0000  top5_acc: 1.0000  loss_cls: 0.4380\r\n"
     ]
    },
    {
     "name": "stdout",
     "output_type": "stream",
     "text": [
      "06/13 01:26:33 - mmengine - \u001b[4m\u001b[97mINFO\u001b[0m - Epoch(train) [2][ 8380/11818]  lr: 1.0000e-04  eta: 8:49:33  time: 1.0971  data_time: 0.7355  memory: 1526  grad_norm: 14.0971  loss: 0.4320  top1_acc: 1.0000  top5_acc: 1.0000  loss_cls: 0.4320\r\n"
     ]
    },
    {
     "name": "stdout",
     "output_type": "stream",
     "text": [
      "06/13 01:26:57 - mmengine - \u001b[4m\u001b[97mINFO\u001b[0m - Epoch(train) [2][ 8400/11818]  lr: 1.0000e-04  eta: 8:49:11  time: 1.2211  data_time: 0.8595  memory: 1526  grad_norm: 16.1982  loss: 0.5275  top1_acc: 1.0000  top5_acc: 1.0000  loss_cls: 0.5275\r\n"
     ]
    },
    {
     "name": "stdout",
     "output_type": "stream",
     "text": [
      "06/13 01:27:20 - mmengine - \u001b[4m\u001b[97mINFO\u001b[0m - Epoch(train) [2][ 8420/11818]  lr: 1.0000e-04  eta: 8:48:47  time: 1.1347  data_time: 0.7734  memory: 1526  grad_norm: 18.5300  loss: 0.6433  top1_acc: 0.7500  top5_acc: 1.0000  loss_cls: 0.6433\r\n"
     ]
    },
    {
     "name": "stdout",
     "output_type": "stream",
     "text": [
      "06/13 01:27:44 - mmengine - \u001b[4m\u001b[97mINFO\u001b[0m - Epoch(train) [2][ 8440/11818]  lr: 1.0000e-04  eta: 8:48:24  time: 1.1946  data_time: 0.8328  memory: 1526  grad_norm: 16.8880  loss: 0.6494  top1_acc: 1.0000  top5_acc: 1.0000  loss_cls: 0.6494\r\n"
     ]
    },
    {
     "name": "stdout",
     "output_type": "stream",
     "text": [
      "06/13 01:28:06 - mmengine - \u001b[4m\u001b[97mINFO\u001b[0m - Epoch(train) [2][ 8460/11818]  lr: 1.0000e-04  eta: 8:47:59  time: 1.1290  data_time: 0.7659  memory: 1526  grad_norm: 20.6783  loss: 0.5883  top1_acc: 0.5000  top5_acc: 1.0000  loss_cls: 0.5883\r\n"
     ]
    },
    {
     "name": "stdout",
     "output_type": "stream",
     "text": [
      "06/13 01:28:29 - mmengine - \u001b[4m\u001b[97mINFO\u001b[0m - Epoch(train) [2][ 8480/11818]  lr: 1.0000e-04  eta: 8:47:35  time: 1.1384  data_time: 0.7772  memory: 1526  grad_norm: 17.1806  loss: 0.5752  top1_acc: 0.7500  top5_acc: 0.7500  loss_cls: 0.5752\r\n"
     ]
    },
    {
     "name": "stdout",
     "output_type": "stream",
     "text": [
      "06/13 01:28:49 - mmengine - \u001b[4m\u001b[97mINFO\u001b[0m - Epoch(train) [2][ 8500/11818]  lr: 1.0000e-04  eta: 8:47:07  time: 1.0059  data_time: 0.6449  memory: 1526  grad_norm: 16.7147  loss: 0.5688  top1_acc: 0.7500  top5_acc: 1.0000  loss_cls: 0.5688\r\n"
     ]
    },
    {
     "name": "stdout",
     "output_type": "stream",
     "text": [
      "06/13 01:29:15 - mmengine - \u001b[4m\u001b[97mINFO\u001b[0m - Epoch(train) [2][ 8520/11818]  lr: 1.0000e-04  eta: 8:46:46  time: 1.2908  data_time: 0.9301  memory: 1526  grad_norm: 16.2392  loss: 0.4953  top1_acc: 1.0000  top5_acc: 1.0000  loss_cls: 0.4953\r\n"
     ]
    },
    {
     "name": "stdout",
     "output_type": "stream",
     "text": [
      "06/13 01:29:42 - mmengine - \u001b[4m\u001b[97mINFO\u001b[0m - Epoch(train) [2][ 8540/11818]  lr: 1.0000e-04  eta: 8:46:28  time: 1.3662  data_time: 1.0020  memory: 1526  grad_norm: 19.2906  loss: 0.6265  top1_acc: 1.0000  top5_acc: 1.0000  loss_cls: 0.6265\r\n"
     ]
    },
    {
     "name": "stdout",
     "output_type": "stream",
     "text": [
      "06/13 01:30:07 - mmengine - \u001b[4m\u001b[97mINFO\u001b[0m - Epoch(train) [2][ 8560/11818]  lr: 1.0000e-04  eta: 8:46:06  time: 1.2225  data_time: 0.8598  memory: 1526  grad_norm: 18.3108  loss: 0.6530  top1_acc: 0.5000  top5_acc: 1.0000  loss_cls: 0.6530\r\n"
     ]
    },
    {
     "name": "stdout",
     "output_type": "stream",
     "text": [
      "06/13 01:30:30 - mmengine - \u001b[4m\u001b[97mINFO\u001b[0m - Epoch(train) [2][ 8580/11818]  lr: 1.0000e-04  eta: 8:45:42  time: 1.1505  data_time: 0.7895  memory: 1526  grad_norm: 17.6970  loss: 0.4443  top1_acc: 0.7500  top5_acc: 1.0000  loss_cls: 0.4443\r\n"
     ]
    },
    {
     "name": "stdout",
     "output_type": "stream",
     "text": [
      "06/13 01:30:54 - mmengine - \u001b[4m\u001b[97mINFO\u001b[0m - Epoch(train) [2][ 8600/11818]  lr: 1.0000e-04  eta: 8:45:19  time: 1.2085  data_time: 0.8470  memory: 1526  grad_norm: 18.8312  loss: 0.6374  top1_acc: 1.0000  top5_acc: 1.0000  loss_cls: 0.6374\r\n"
     ]
    },
    {
     "name": "stdout",
     "output_type": "stream",
     "text": [
      "06/13 01:31:22 - mmengine - \u001b[4m\u001b[97mINFO\u001b[0m - Epoch(train) [2][ 8620/11818]  lr: 1.0000e-04  eta: 8:45:01  time: 1.3834  data_time: 1.0227  memory: 1526  grad_norm: 17.8513  loss: 0.6114  top1_acc: 1.0000  top5_acc: 1.0000  loss_cls: 0.6114\r\n"
     ]
    },
    {
     "name": "stdout",
     "output_type": "stream",
     "text": [
      "06/13 01:31:48 - mmengine - \u001b[4m\u001b[97mINFO\u001b[0m - Epoch(train) [2][ 8640/11818]  lr: 1.0000e-04  eta: 8:44:41  time: 1.2955  data_time: 0.9338  memory: 1526  grad_norm: 16.9812  loss: 0.5299  top1_acc: 0.7500  top5_acc: 1.0000  loss_cls: 0.5299\r\n"
     ]
    },
    {
     "name": "stdout",
     "output_type": "stream",
     "text": [
      "06/13 01:32:09 - mmengine - \u001b[4m\u001b[97mINFO\u001b[0m - Epoch(train) [2][ 8660/11818]  lr: 1.0000e-04  eta: 8:44:14  time: 1.0601  data_time: 0.6977  memory: 1526  grad_norm: 16.0052  loss: 0.5662  top1_acc: 1.0000  top5_acc: 1.0000  loss_cls: 0.5662\r\n"
     ]
    },
    {
     "name": "stdout",
     "output_type": "stream",
     "text": [
      "06/13 01:32:30 - mmengine - \u001b[4m\u001b[97mINFO\u001b[0m - Epoch(train) [2][ 8680/11818]  lr: 1.0000e-04  eta: 8:43:48  time: 1.0672  data_time: 0.7062  memory: 1526  grad_norm: 14.2807  loss: 0.6259  top1_acc: 1.0000  top5_acc: 1.0000  loss_cls: 0.6259\r\n"
     ]
    },
    {
     "name": "stdout",
     "output_type": "stream",
     "text": [
      "06/13 01:32:52 - mmengine - \u001b[4m\u001b[97mINFO\u001b[0m - Epoch(train) [2][ 8700/11818]  lr: 1.0000e-04  eta: 8:43:22  time: 1.0873  data_time: 0.7257  memory: 1526  grad_norm: 16.2885  loss: 0.5814  top1_acc: 0.7500  top5_acc: 1.0000  loss_cls: 0.5814\r\n"
     ]
    },
    {
     "name": "stdout",
     "output_type": "stream",
     "text": [
      "06/13 01:33:18 - mmengine - \u001b[4m\u001b[97mINFO\u001b[0m - Epoch(train) [2][ 8720/11818]  lr: 1.0000e-04  eta: 8:43:02  time: 1.2810  data_time: 0.9185  memory: 1526  grad_norm: 20.1008  loss: 0.7212  top1_acc: 0.7500  top5_acc: 1.0000  loss_cls: 0.7212\r\n"
     ]
    },
    {
     "name": "stdout",
     "output_type": "stream",
     "text": [
      "06/13 01:33:42 - mmengine - \u001b[4m\u001b[97mINFO\u001b[0m - Epoch(train) [2][ 8740/11818]  lr: 1.0000e-04  eta: 8:42:39  time: 1.2078  data_time: 0.8455  memory: 1526  grad_norm: 19.0192  loss: 0.7165  top1_acc: 1.0000  top5_acc: 1.0000  loss_cls: 0.7165\r\n"
     ]
    },
    {
     "name": "stdout",
     "output_type": "stream",
     "text": [
      "06/13 01:34:05 - mmengine - \u001b[4m\u001b[97mINFO\u001b[0m - Epoch(train) [2][ 8760/11818]  lr: 1.0000e-04  eta: 8:42:16  time: 1.1773  data_time: 0.8144  memory: 1526  grad_norm: 18.2502  loss: 0.6465  top1_acc: 0.7500  top5_acc: 1.0000  loss_cls: 0.6465\r\n"
     ]
    },
    {
     "name": "stdout",
     "output_type": "stream",
     "text": [
      "06/13 01:34:28 - mmengine - \u001b[4m\u001b[97mINFO\u001b[0m - Epoch(train) [2][ 8780/11818]  lr: 1.0000e-04  eta: 8:41:51  time: 1.1399  data_time: 0.7787  memory: 1526  grad_norm: 18.6206  loss: 0.7560  top1_acc: 0.7500  top5_acc: 1.0000  loss_cls: 0.7560\r\n"
     ]
    },
    {
     "name": "stdout",
     "output_type": "stream",
     "text": [
      "06/13 01:34:52 - mmengine - \u001b[4m\u001b[97mINFO\u001b[0m - Epoch(train) [2][ 8800/11818]  lr: 1.0000e-04  eta: 8:41:29  time: 1.2200  data_time: 0.8589  memory: 1526  grad_norm: 17.0401  loss: 0.5271  top1_acc: 1.0000  top5_acc: 1.0000  loss_cls: 0.5271\r\n"
     ]
    },
    {
     "name": "stdout",
     "output_type": "stream",
     "text": [
      "06/13 01:35:12 - mmengine - \u001b[4m\u001b[97mINFO\u001b[0m - Epoch(train) [2][ 8820/11818]  lr: 1.0000e-04  eta: 8:41:01  time: 0.9989  data_time: 0.6367  memory: 1526  grad_norm: 16.0228  loss: 0.4687  top1_acc: 1.0000  top5_acc: 1.0000  loss_cls: 0.4687\r\n"
     ]
    },
    {
     "name": "stdout",
     "output_type": "stream",
     "text": [
      "06/13 01:35:32 - mmengine - \u001b[4m\u001b[97mINFO\u001b[0m - Epoch(train) [2][ 8840/11818]  lr: 1.0000e-04  eta: 8:40:33  time: 0.9802  data_time: 0.6179  memory: 1526  grad_norm: 14.7149  loss: 0.5056  top1_acc: 1.0000  top5_acc: 1.0000  loss_cls: 0.5056\r\n"
     ]
    },
    {
     "name": "stdout",
     "output_type": "stream",
     "text": [
      "06/13 01:35:53 - mmengine - \u001b[4m\u001b[97mINFO\u001b[0m - Epoch(train) [2][ 8860/11818]  lr: 1.0000e-04  eta: 8:40:06  time: 1.0650  data_time: 0.7028  memory: 1526  grad_norm: 16.8875  loss: 0.6384  top1_acc: 0.7500  top5_acc: 1.0000  loss_cls: 0.6384\r\n"
     ]
    },
    {
     "name": "stdout",
     "output_type": "stream",
     "text": [
      "06/13 01:36:17 - mmengine - \u001b[4m\u001b[97mINFO\u001b[0m - Epoch(train) [2][ 8880/11818]  lr: 1.0000e-04  eta: 8:39:43  time: 1.1600  data_time: 0.7999  memory: 1526  grad_norm: 17.3488  loss: 0.6114  top1_acc: 1.0000  top5_acc: 1.0000  loss_cls: 0.6114\r\n"
     ]
    },
    {
     "name": "stdout",
     "output_type": "stream",
     "text": [
      "06/13 01:36:38 - mmengine - \u001b[4m\u001b[97mINFO\u001b[0m - Epoch(train) [2][ 8900/11818]  lr: 1.0000e-04  eta: 8:39:16  time: 1.0691  data_time: 0.7074  memory: 1526  grad_norm: 15.1939  loss: 0.5114  top1_acc: 0.7500  top5_acc: 1.0000  loss_cls: 0.5114\r\n"
     ]
    },
    {
     "name": "stdout",
     "output_type": "stream",
     "text": [
      "06/13 01:37:01 - mmengine - \u001b[4m\u001b[97mINFO\u001b[0m - Epoch(train) [2][ 8920/11818]  lr: 1.0000e-04  eta: 8:38:53  time: 1.1747  data_time: 0.8130  memory: 1526  grad_norm: 16.9736  loss: 0.6100  top1_acc: 0.5000  top5_acc: 1.0000  loss_cls: 0.6100\r\n"
     ]
    },
    {
     "name": "stdout",
     "output_type": "stream",
     "text": [
      "06/13 01:37:27 - mmengine - \u001b[4m\u001b[97mINFO\u001b[0m - Epoch(train) [2][ 8940/11818]  lr: 1.0000e-04  eta: 8:38:33  time: 1.2974  data_time: 0.9365  memory: 1526  grad_norm: 17.2753  loss: 0.5811  top1_acc: 1.0000  top5_acc: 1.0000  loss_cls: 0.5811\r\n"
     ]
    },
    {
     "name": "stdout",
     "output_type": "stream",
     "text": [
      "06/13 01:37:51 - mmengine - \u001b[4m\u001b[97mINFO\u001b[0m - Epoch(train) [2][ 8960/11818]  lr: 1.0000e-04  eta: 8:38:10  time: 1.2067  data_time: 0.8441  memory: 1526  grad_norm: 17.2384  loss: 0.5136  top1_acc: 1.0000  top5_acc: 1.0000  loss_cls: 0.5136\r\n"
     ]
    },
    {
     "name": "stdout",
     "output_type": "stream",
     "text": [
      "06/13 01:38:13 - mmengine - \u001b[4m\u001b[97mINFO\u001b[0m - Epoch(train) [2][ 8980/11818]  lr: 1.0000e-04  eta: 8:37:44  time: 1.0660  data_time: 0.7034  memory: 1526  grad_norm: 13.8300  loss: 0.5585  top1_acc: 1.0000  top5_acc: 1.0000  loss_cls: 0.5585\r\n"
     ]
    },
    {
     "name": "stdout",
     "output_type": "stream",
     "text": [
      "06/13 01:38:39 - mmengine - \u001b[4m\u001b[97mINFO\u001b[0m - Epoch(train) [2][ 9000/11818]  lr: 1.0000e-04  eta: 8:37:23  time: 1.2901  data_time: 0.9276  memory: 1526  grad_norm: 18.3909  loss: 0.6294  top1_acc: 0.5000  top5_acc: 1.0000  loss_cls: 0.6294\r\n"
     ]
    },
    {
     "name": "stdout",
     "output_type": "stream",
     "text": [
      "06/13 01:39:03 - mmengine - \u001b[4m\u001b[97mINFO\u001b[0m - Epoch(train) [2][ 9020/11818]  lr: 1.0000e-04  eta: 8:37:02  time: 1.2448  data_time: 0.8822  memory: 1526  grad_norm: 18.8024  loss: 0.6689  top1_acc: 0.5000  top5_acc: 1.0000  loss_cls: 0.6689\r\n"
     ]
    },
    {
     "name": "stdout",
     "output_type": "stream",
     "text": [
      "06/13 01:39:27 - mmengine - \u001b[4m\u001b[97mINFO\u001b[0m - Epoch(train) [2][ 9040/11818]  lr: 1.0000e-04  eta: 8:36:38  time: 1.1570  data_time: 0.7954  memory: 1526  grad_norm: 16.8922  loss: 0.6807  top1_acc: 1.0000  top5_acc: 1.0000  loss_cls: 0.6807\r\n"
     ]
    },
    {
     "name": "stdout",
     "output_type": "stream",
     "text": [
      "06/13 01:39:54 - mmengine - \u001b[4m\u001b[97mINFO\u001b[0m - Epoch(train) [2][ 9060/11818]  lr: 1.0000e-04  eta: 8:36:19  time: 1.3561  data_time: 0.9932  memory: 1526  grad_norm: 15.5185  loss: 0.5487  top1_acc: 1.0000  top5_acc: 1.0000  loss_cls: 0.5487\r\n"
     ]
    },
    {
     "name": "stdout",
     "output_type": "stream",
     "text": [
      "06/13 01:40:17 - mmengine - \u001b[4m\u001b[97mINFO\u001b[0m - Epoch(train) [2][ 9080/11818]  lr: 1.0000e-04  eta: 8:35:55  time: 1.1717  data_time: 0.8081  memory: 1526  grad_norm: 16.7907  loss: 0.5493  top1_acc: 1.0000  top5_acc: 1.0000  loss_cls: 0.5493\r\n"
     ]
    },
    {
     "name": "stdout",
     "output_type": "stream",
     "text": [
      "06/13 01:40:38 - mmengine - \u001b[4m\u001b[97mINFO\u001b[0m - Epoch(train) [2][ 9100/11818]  lr: 1.0000e-04  eta: 8:35:29  time: 1.0438  data_time: 0.6781  memory: 1526  grad_norm: 19.0984  loss: 0.6963  top1_acc: 1.0000  top5_acc: 1.0000  loss_cls: 0.6963\r\n"
     ]
    },
    {
     "name": "stdout",
     "output_type": "stream",
     "text": [
      "06/13 01:41:03 - mmengine - \u001b[4m\u001b[97mINFO\u001b[0m - Epoch(train) [2][ 9120/11818]  lr: 1.0000e-04  eta: 8:35:06  time: 1.2209  data_time: 0.8596  memory: 1526  grad_norm: 17.0011  loss: 0.6431  top1_acc: 0.7500  top5_acc: 1.0000  loss_cls: 0.6431\r\n"
     ]
    },
    {
     "name": "stdout",
     "output_type": "stream",
     "text": [
      "06/13 01:41:22 - mmengine - \u001b[4m\u001b[97mINFO\u001b[0m - Epoch(train) [2][ 9140/11818]  lr: 1.0000e-04  eta: 8:34:38  time: 0.9721  data_time: 0.6097  memory: 1526  grad_norm: 17.2931  loss: 0.6883  top1_acc: 0.5000  top5_acc: 0.7500  loss_cls: 0.6883\r\n"
     ]
    },
    {
     "name": "stdout",
     "output_type": "stream",
     "text": [
      "06/13 01:41:42 - mmengine - \u001b[4m\u001b[97mINFO\u001b[0m - Epoch(train) [2][ 9160/11818]  lr: 1.0000e-04  eta: 8:34:11  time: 1.0223  data_time: 0.6589  memory: 1526  grad_norm: 18.0181  loss: 0.6665  top1_acc: 0.7500  top5_acc: 0.7500  loss_cls: 0.6665\r\n"
     ]
    },
    {
     "name": "stdout",
     "output_type": "stream",
     "text": [
      "06/13 01:42:05 - mmengine - \u001b[4m\u001b[97mINFO\u001b[0m - Epoch(train) [2][ 9180/11818]  lr: 1.0000e-04  eta: 8:33:46  time: 1.1173  data_time: 0.7556  memory: 1526  grad_norm: 17.6858  loss: 0.6479  top1_acc: 0.7500  top5_acc: 1.0000  loss_cls: 0.6479\r\n"
     ]
    },
    {
     "name": "stdout",
     "output_type": "stream",
     "text": [
      "06/13 01:42:07 - mmengine - \u001b[4m\u001b[97mINFO\u001b[0m - Exp name: config_20230612_184603\r\n"
     ]
    },
    {
     "name": "stdout",
     "output_type": "stream",
     "text": [
      "06/13 01:42:29 - mmengine - \u001b[4m\u001b[97mINFO\u001b[0m - Epoch(train) [2][ 9200/11818]  lr: 1.0000e-04  eta: 8:33:23  time: 1.2092  data_time: 0.8449  memory: 1526  grad_norm: 16.5152  loss: 0.6282  top1_acc: 0.7500  top5_acc: 1.0000  loss_cls: 0.6282\r\n"
     ]
    },
    {
     "name": "stdout",
     "output_type": "stream",
     "text": [
      "06/13 01:42:56 - mmengine - \u001b[4m\u001b[97mINFO\u001b[0m - Epoch(train) [2][ 9220/11818]  lr: 1.0000e-04  eta: 8:33:05  time: 1.3722  data_time: 1.0111  memory: 1526  grad_norm: 19.4518  loss: 0.6192  top1_acc: 0.7500  top5_acc: 1.0000  loss_cls: 0.6192\r\n"
     ]
    },
    {
     "name": "stdout",
     "output_type": "stream",
     "text": [
      "06/13 01:43:20 - mmengine - \u001b[4m\u001b[97mINFO\u001b[0m - Epoch(train) [2][ 9240/11818]  lr: 1.0000e-04  eta: 8:32:41  time: 1.1699  data_time: 0.8083  memory: 1526  grad_norm: 17.3082  loss: 0.5752  top1_acc: 1.0000  top5_acc: 1.0000  loss_cls: 0.5752\r\n"
     ]
    },
    {
     "name": "stdout",
     "output_type": "stream",
     "text": [
      "06/13 01:43:42 - mmengine - \u001b[4m\u001b[97mINFO\u001b[0m - Epoch(train) [2][ 9260/11818]  lr: 1.0000e-04  eta: 8:32:16  time: 1.1102  data_time: 0.7476  memory: 1526  grad_norm: 14.8327  loss: 0.5987  top1_acc: 0.5000  top5_acc: 1.0000  loss_cls: 0.5987\r\n"
     ]
    },
    {
     "name": "stdout",
     "output_type": "stream",
     "text": [
      "06/13 01:44:07 - mmengine - \u001b[4m\u001b[97mINFO\u001b[0m - Epoch(train) [2][ 9280/11818]  lr: 1.0000e-04  eta: 8:31:55  time: 1.2549  data_time: 0.8928  memory: 1526  grad_norm: 17.6298  loss: 0.5404  top1_acc: 0.7500  top5_acc: 1.0000  loss_cls: 0.5404\r\n"
     ]
    },
    {
     "name": "stdout",
     "output_type": "stream",
     "text": [
      "06/13 01:44:34 - mmengine - \u001b[4m\u001b[97mINFO\u001b[0m - Epoch(train) [2][ 9300/11818]  lr: 1.0000e-04  eta: 8:31:35  time: 1.3498  data_time: 0.9874  memory: 1526  grad_norm: 18.1397  loss: 0.7568  top1_acc: 0.7500  top5_acc: 1.0000  loss_cls: 0.7568\r\n"
     ]
    },
    {
     "name": "stdout",
     "output_type": "stream",
     "text": [
      "06/13 01:45:00 - mmengine - \u001b[4m\u001b[97mINFO\u001b[0m - Epoch(train) [2][ 9320/11818]  lr: 1.0000e-04  eta: 8:31:16  time: 1.3159  data_time: 0.9546  memory: 1526  grad_norm: 19.4150  loss: 0.7425  top1_acc: 1.0000  top5_acc: 1.0000  loss_cls: 0.7425\r\n"
     ]
    },
    {
     "name": "stdout",
     "output_type": "stream",
     "text": [
      "06/13 01:45:26 - mmengine - \u001b[4m\u001b[97mINFO\u001b[0m - Epoch(train) [2][ 9340/11818]  lr: 1.0000e-04  eta: 8:30:55  time: 1.2776  data_time: 0.9129  memory: 1526  grad_norm: 15.7545  loss: 0.5664  top1_acc: 1.0000  top5_acc: 1.0000  loss_cls: 0.5664\r\n"
     ]
    },
    {
     "name": "stdout",
     "output_type": "stream",
     "text": [
      "06/13 01:45:50 - mmengine - \u001b[4m\u001b[97mINFO\u001b[0m - Epoch(train) [2][ 9360/11818]  lr: 1.0000e-04  eta: 8:30:32  time: 1.2130  data_time: 0.8506  memory: 1526  grad_norm: 14.6343  loss: 0.4403  top1_acc: 1.0000  top5_acc: 1.0000  loss_cls: 0.4403\r\n"
     ]
    },
    {
     "name": "stdout",
     "output_type": "stream",
     "text": [
      "06/13 01:46:16 - mmengine - \u001b[4m\u001b[97mINFO\u001b[0m - Epoch(train) [2][ 9380/11818]  lr: 1.0000e-04  eta: 8:30:11  time: 1.2811  data_time: 0.9207  memory: 1526  grad_norm: 16.9149  loss: 0.6999  top1_acc: 1.0000  top5_acc: 1.0000  loss_cls: 0.6999\r\n"
     ]
    },
    {
     "name": "stdout",
     "output_type": "stream",
     "text": [
      "06/13 01:46:39 - mmengine - \u001b[4m\u001b[97mINFO\u001b[0m - Epoch(train) [2][ 9400/11818]  lr: 1.0000e-04  eta: 8:29:47  time: 1.1593  data_time: 0.7980  memory: 1526  grad_norm: 14.5397  loss: 0.4781  top1_acc: 1.0000  top5_acc: 1.0000  loss_cls: 0.4781\r\n"
     ]
    },
    {
     "name": "stdout",
     "output_type": "stream",
     "text": [
      "06/13 01:47:02 - mmengine - \u001b[4m\u001b[97mINFO\u001b[0m - Epoch(train) [2][ 9420/11818]  lr: 1.0000e-04  eta: 8:29:24  time: 1.1671  data_time: 0.8055  memory: 1526  grad_norm: 18.7938  loss: 0.7994  top1_acc: 0.5000  top5_acc: 0.5000  loss_cls: 0.7994\r\n"
     ]
    },
    {
     "name": "stdout",
     "output_type": "stream",
     "text": [
      "06/13 01:47:25 - mmengine - \u001b[4m\u001b[97mINFO\u001b[0m - Epoch(train) [2][ 9440/11818]  lr: 1.0000e-04  eta: 8:28:59  time: 1.1400  data_time: 0.7787  memory: 1526  grad_norm: 17.5176  loss: 0.5771  top1_acc: 1.0000  top5_acc: 1.0000  loss_cls: 0.5771\r\n"
     ]
    },
    {
     "name": "stdout",
     "output_type": "stream",
     "text": [
      "06/13 01:47:48 - mmengine - \u001b[4m\u001b[97mINFO\u001b[0m - Epoch(train) [2][ 9460/11818]  lr: 1.0000e-04  eta: 8:28:36  time: 1.1590  data_time: 0.7987  memory: 1526  grad_norm: 18.6022  loss: 0.5781  top1_acc: 0.5000  top5_acc: 1.0000  loss_cls: 0.5781\r\n"
     ]
    },
    {
     "name": "stdout",
     "output_type": "stream",
     "text": [
      "06/13 01:48:09 - mmengine - \u001b[4m\u001b[97mINFO\u001b[0m - Epoch(train) [2][ 9480/11818]  lr: 1.0000e-04  eta: 8:28:09  time: 1.0383  data_time: 0.6762  memory: 1526  grad_norm: 19.5601  loss: 0.7174  top1_acc: 0.7500  top5_acc: 1.0000  loss_cls: 0.7174\r\n"
     ]
    },
    {
     "name": "stdout",
     "output_type": "stream",
     "text": [
      "06/13 01:48:32 - mmengine - \u001b[4m\u001b[97mINFO\u001b[0m - Epoch(train) [2][ 9500/11818]  lr: 1.0000e-04  eta: 8:27:44  time: 1.1266  data_time: 0.7641  memory: 1526  grad_norm: 18.7686  loss: 0.6574  top1_acc: 0.5000  top5_acc: 1.0000  loss_cls: 0.6574\r\n"
     ]
    },
    {
     "name": "stdout",
     "output_type": "stream",
     "text": [
      "06/13 01:48:53 - mmengine - \u001b[4m\u001b[97mINFO\u001b[0m - Epoch(train) [2][ 9520/11818]  lr: 1.0000e-04  eta: 8:27:18  time: 1.0741  data_time: 0.7130  memory: 1526  grad_norm: 17.5699  loss: 0.6124  top1_acc: 1.0000  top5_acc: 1.0000  loss_cls: 0.6124\r\n"
     ]
    },
    {
     "name": "stdout",
     "output_type": "stream",
     "text": [
      "06/13 01:49:16 - mmengine - \u001b[4m\u001b[97mINFO\u001b[0m - Epoch(train) [2][ 9540/11818]  lr: 1.0000e-04  eta: 8:26:54  time: 1.1439  data_time: 0.7823  memory: 1526  grad_norm: 15.4940  loss: 0.5039  top1_acc: 1.0000  top5_acc: 1.0000  loss_cls: 0.5039\r\n"
     ]
    },
    {
     "name": "stdout",
     "output_type": "stream",
     "text": [
      "06/13 01:49:39 - mmengine - \u001b[4m\u001b[97mINFO\u001b[0m - Epoch(train) [2][ 9560/11818]  lr: 1.0000e-04  eta: 8:26:30  time: 1.1560  data_time: 0.7962  memory: 1526  grad_norm: 16.0483  loss: 0.5189  top1_acc: 1.0000  top5_acc: 1.0000  loss_cls: 0.5189\r\n"
     ]
    },
    {
     "name": "stdout",
     "output_type": "stream",
     "text": [
      "06/13 01:50:05 - mmengine - \u001b[4m\u001b[97mINFO\u001b[0m - Epoch(train) [2][ 9580/11818]  lr: 1.0000e-04  eta: 8:26:10  time: 1.3039  data_time: 0.9438  memory: 1526  grad_norm: 19.3853  loss: 0.6114  top1_acc: 1.0000  top5_acc: 1.0000  loss_cls: 0.6114\r\n"
     ]
    },
    {
     "name": "stdout",
     "output_type": "stream",
     "text": [
      "06/13 01:50:27 - mmengine - \u001b[4m\u001b[97mINFO\u001b[0m - Epoch(train) [2][ 9600/11818]  lr: 1.0000e-04  eta: 8:25:45  time: 1.1136  data_time: 0.7538  memory: 1526  grad_norm: 16.8647  loss: 0.5271  top1_acc: 0.7500  top5_acc: 1.0000  loss_cls: 0.5271\r\n"
     ]
    },
    {
     "name": "stdout",
     "output_type": "stream",
     "text": [
      "06/13 01:50:54 - mmengine - \u001b[4m\u001b[97mINFO\u001b[0m - Epoch(train) [2][ 9620/11818]  lr: 1.0000e-04  eta: 8:25:25  time: 1.3254  data_time: 0.9638  memory: 1526  grad_norm: 18.6742  loss: 0.6477  top1_acc: 0.7500  top5_acc: 1.0000  loss_cls: 0.6477\r\n"
     ]
    },
    {
     "name": "stdout",
     "output_type": "stream",
     "text": [
      "06/13 01:51:15 - mmengine - \u001b[4m\u001b[97mINFO\u001b[0m - Epoch(train) [2][ 9640/11818]  lr: 1.0000e-04  eta: 8:24:58  time: 1.0270  data_time: 0.6649  memory: 1526  grad_norm: 17.3001  loss: 0.6600  top1_acc: 0.5000  top5_acc: 0.7500  loss_cls: 0.6600\r\n"
     ]
    },
    {
     "name": "stdout",
     "output_type": "stream",
     "text": [
      "06/13 01:51:41 - mmengine - \u001b[4m\u001b[97mINFO\u001b[0m - Epoch(train) [2][ 9660/11818]  lr: 1.0000e-04  eta: 8:24:38  time: 1.3022  data_time: 0.9412  memory: 1526  grad_norm: 17.4326  loss: 0.5492  top1_acc: 1.0000  top5_acc: 1.0000  loss_cls: 0.5492\r\n"
     ]
    },
    {
     "name": "stdout",
     "output_type": "stream",
     "text": [
      "06/13 01:52:00 - mmengine - \u001b[4m\u001b[97mINFO\u001b[0m - Epoch(train) [2][ 9680/11818]  lr: 1.0000e-04  eta: 8:24:09  time: 0.9751  data_time: 0.6148  memory: 1526  grad_norm: 16.8368  loss: 0.5868  top1_acc: 0.7500  top5_acc: 1.0000  loss_cls: 0.5868\r\n"
     ]
    },
    {
     "name": "stdout",
     "output_type": "stream",
     "text": [
      "06/13 01:52:22 - mmengine - \u001b[4m\u001b[97mINFO\u001b[0m - Epoch(train) [2][ 9700/11818]  lr: 1.0000e-04  eta: 8:23:44  time: 1.0926  data_time: 0.7295  memory: 1526  grad_norm: 15.2169  loss: 0.5128  top1_acc: 1.0000  top5_acc: 1.0000  loss_cls: 0.5128\r\n"
     ]
    },
    {
     "name": "stdout",
     "output_type": "stream",
     "text": [
      "06/13 01:52:45 - mmengine - \u001b[4m\u001b[97mINFO\u001b[0m - Epoch(train) [2][ 9720/11818]  lr: 1.0000e-04  eta: 8:23:20  time: 1.1594  data_time: 0.7978  memory: 1526  grad_norm: 16.5880  loss: 0.5937  top1_acc: 1.0000  top5_acc: 1.0000  loss_cls: 0.5937\r\n"
     ]
    },
    {
     "name": "stdout",
     "output_type": "stream",
     "text": [
      "06/13 01:53:07 - mmengine - \u001b[4m\u001b[97mINFO\u001b[0m - Epoch(train) [2][ 9740/11818]  lr: 1.0000e-04  eta: 8:22:55  time: 1.1157  data_time: 0.7531  memory: 1526  grad_norm: 15.1723  loss: 0.5221  top1_acc: 1.0000  top5_acc: 1.0000  loss_cls: 0.5221\r\n"
     ]
    },
    {
     "name": "stdout",
     "output_type": "stream",
     "text": [
      "06/13 01:53:31 - mmengine - \u001b[4m\u001b[97mINFO\u001b[0m - Epoch(train) [2][ 9760/11818]  lr: 1.0000e-04  eta: 8:22:32  time: 1.1939  data_time: 0.8311  memory: 1526  grad_norm: 20.8728  loss: 0.6845  top1_acc: 1.0000  top5_acc: 1.0000  loss_cls: 0.6845\r\n"
     ]
    },
    {
     "name": "stdout",
     "output_type": "stream",
     "text": [
      "06/13 01:53:54 - mmengine - \u001b[4m\u001b[97mINFO\u001b[0m - Epoch(train) [2][ 9780/11818]  lr: 1.0000e-04  eta: 8:22:08  time: 1.1393  data_time: 0.7775  memory: 1526  grad_norm: 16.4000  loss: 0.5366  top1_acc: 1.0000  top5_acc: 1.0000  loss_cls: 0.5366\r\n"
     ]
    },
    {
     "name": "stdout",
     "output_type": "stream",
     "text": [
      "06/13 01:54:15 - mmengine - \u001b[4m\u001b[97mINFO\u001b[0m - Epoch(train) [2][ 9800/11818]  lr: 1.0000e-04  eta: 8:21:41  time: 1.0304  data_time: 0.6696  memory: 1526  grad_norm: 15.8320  loss: 0.5249  top1_acc: 1.0000  top5_acc: 1.0000  loss_cls: 0.5249\r\n"
     ]
    },
    {
     "name": "stdout",
     "output_type": "stream",
     "text": [
      "06/13 01:54:35 - mmengine - \u001b[4m\u001b[97mINFO\u001b[0m - Epoch(train) [2][ 9820/11818]  lr: 1.0000e-04  eta: 8:21:14  time: 1.0299  data_time: 0.6688  memory: 1526  grad_norm: 17.1459  loss: 0.5253  top1_acc: 0.7500  top5_acc: 1.0000  loss_cls: 0.5253\r\n"
     ]
    },
    {
     "name": "stdout",
     "output_type": "stream",
     "text": [
      "06/13 01:54:59 - mmengine - \u001b[4m\u001b[97mINFO\u001b[0m - Epoch(train) [2][ 9840/11818]  lr: 1.0000e-04  eta: 8:20:52  time: 1.2075  data_time: 0.8427  memory: 1526  grad_norm: 19.1040  loss: 0.7323  top1_acc: 0.5000  top5_acc: 1.0000  loss_cls: 0.7323\r\n"
     ]
    },
    {
     "name": "stdout",
     "output_type": "stream",
     "text": [
      "06/13 01:55:20 - mmengine - \u001b[4m\u001b[97mINFO\u001b[0m - Epoch(train) [2][ 9860/11818]  lr: 1.0000e-04  eta: 8:20:25  time: 1.0222  data_time: 0.6590  memory: 1526  grad_norm: 18.3205  loss: 0.5324  top1_acc: 1.0000  top5_acc: 1.0000  loss_cls: 0.5324\r\n"
     ]
    },
    {
     "name": "stdout",
     "output_type": "stream",
     "text": [
      "06/13 01:55:43 - mmengine - \u001b[4m\u001b[97mINFO\u001b[0m - Epoch(train) [2][ 9880/11818]  lr: 1.0000e-04  eta: 8:20:01  time: 1.1679  data_time: 0.8066  memory: 1526  grad_norm: 18.1742  loss: 0.5726  top1_acc: 0.5000  top5_acc: 1.0000  loss_cls: 0.5726\r\n"
     ]
    },
    {
     "name": "stdout",
     "output_type": "stream",
     "text": [
      "06/13 01:56:09 - mmengine - \u001b[4m\u001b[97mINFO\u001b[0m - Epoch(train) [2][ 9900/11818]  lr: 1.0000e-04  eta: 8:19:40  time: 1.2683  data_time: 0.9053  memory: 1526  grad_norm: 14.7786  loss: 0.3737  top1_acc: 0.7500  top5_acc: 1.0000  loss_cls: 0.3737\r\n"
     ]
    },
    {
     "name": "stdout",
     "output_type": "stream",
     "text": [
      "06/13 01:56:35 - mmengine - \u001b[4m\u001b[97mINFO\u001b[0m - Epoch(train) [2][ 9920/11818]  lr: 1.0000e-04  eta: 8:19:20  time: 1.3332  data_time: 0.9711  memory: 1526  grad_norm: 17.3154  loss: 0.4937  top1_acc: 1.0000  top5_acc: 1.0000  loss_cls: 0.4937\r\n"
     ]
    },
    {
     "name": "stdout",
     "output_type": "stream",
     "text": [
      "06/13 01:56:59 - mmengine - \u001b[4m\u001b[97mINFO\u001b[0m - Epoch(train) [2][ 9940/11818]  lr: 1.0000e-04  eta: 8:18:57  time: 1.1739  data_time: 0.8133  memory: 1526  grad_norm: 16.1228  loss: 0.5604  top1_acc: 0.7500  top5_acc: 1.0000  loss_cls: 0.5604\r\n"
     ]
    },
    {
     "name": "stdout",
     "output_type": "stream",
     "text": [
      "06/13 01:57:24 - mmengine - \u001b[4m\u001b[97mINFO\u001b[0m - Epoch(train) [2][ 9960/11818]  lr: 1.0000e-04  eta: 8:18:36  time: 1.2777  data_time: 0.9174  memory: 1526  grad_norm: 17.3699  loss: 0.5220  top1_acc: 1.0000  top5_acc: 1.0000  loss_cls: 0.5220\r\n"
     ]
    },
    {
     "name": "stdout",
     "output_type": "stream",
     "text": [
      "06/13 01:57:47 - mmengine - \u001b[4m\u001b[97mINFO\u001b[0m - Epoch(train) [2][ 9980/11818]  lr: 1.0000e-04  eta: 8:18:12  time: 1.1502  data_time: 0.7901  memory: 1526  grad_norm: 15.2611  loss: 0.4854  top1_acc: 0.5000  top5_acc: 0.7500  loss_cls: 0.4854\r\n"
     ]
    },
    {
     "name": "stdout",
     "output_type": "stream",
     "text": [
      "06/13 01:58:14 - mmengine - \u001b[4m\u001b[97mINFO\u001b[0m - Epoch(train) [2][10000/11818]  lr: 1.0000e-04  eta: 8:17:51  time: 1.3125  data_time: 0.9487  memory: 1526  grad_norm: 17.3015  loss: 0.5409  top1_acc: 0.7500  top5_acc: 1.0000  loss_cls: 0.5409\r\n"
     ]
    },
    {
     "name": "stdout",
     "output_type": "stream",
     "text": [
      "06/13 01:58:39 - mmengine - \u001b[4m\u001b[97mINFO\u001b[0m - Epoch(train) [2][10020/11818]  lr: 1.0000e-04  eta: 8:17:30  time: 1.2490  data_time: 0.8872  memory: 1526  grad_norm: 22.2117  loss: 0.8632  top1_acc: 0.7500  top5_acc: 1.0000  loss_cls: 0.8632\r\n"
     ]
    },
    {
     "name": "stdout",
     "output_type": "stream",
     "text": [
      "06/13 01:59:02 - mmengine - \u001b[4m\u001b[97mINFO\u001b[0m - Epoch(train) [2][10040/11818]  lr: 1.0000e-04  eta: 8:17:07  time: 1.1875  data_time: 0.8261  memory: 1526  grad_norm: 16.2953  loss: 0.5322  top1_acc: 0.7500  top5_acc: 1.0000  loss_cls: 0.5322\r\n"
     ]
    },
    {
     "name": "stdout",
     "output_type": "stream",
     "text": [
      "06/13 01:59:22 - mmengine - \u001b[4m\u001b[97mINFO\u001b[0m - Epoch(train) [2][10060/11818]  lr: 1.0000e-04  eta: 8:16:38  time: 0.9714  data_time: 0.6100  memory: 1526  grad_norm: 17.0403  loss: 0.4802  top1_acc: 1.0000  top5_acc: 1.0000  loss_cls: 0.4802\r\n"
     ]
    },
    {
     "name": "stdout",
     "output_type": "stream",
     "text": [
      "06/13 01:59:43 - mmengine - \u001b[4m\u001b[97mINFO\u001b[0m - Epoch(train) [2][10080/11818]  lr: 1.0000e-04  eta: 8:16:13  time: 1.0745  data_time: 0.7135  memory: 1526  grad_norm: 13.8981  loss: 0.5516  top1_acc: 1.0000  top5_acc: 1.0000  loss_cls: 0.5516\r\n"
     ]
    },
    {
     "name": "stdout",
     "output_type": "stream",
     "text": [
      "06/13 02:00:02 - mmengine - \u001b[4m\u001b[97mINFO\u001b[0m - Epoch(train) [2][10100/11818]  lr: 1.0000e-04  eta: 8:15:44  time: 0.9575  data_time: 0.5973  memory: 1526  grad_norm: 14.3587  loss: 0.4366  top1_acc: 0.7500  top5_acc: 1.0000  loss_cls: 0.4366\r\n"
     ]
    },
    {
     "name": "stdout",
     "output_type": "stream",
     "text": [
      "06/13 02:00:25 - mmengine - \u001b[4m\u001b[97mINFO\u001b[0m - Epoch(train) [2][10120/11818]  lr: 1.0000e-04  eta: 8:15:19  time: 1.1130  data_time: 0.7517  memory: 1526  grad_norm: 16.8534  loss: 0.6201  top1_acc: 0.7500  top5_acc: 1.0000  loss_cls: 0.6201\r\n"
     ]
    },
    {
     "name": "stdout",
     "output_type": "stream",
     "text": [
      "06/13 02:00:45 - mmengine - \u001b[4m\u001b[97mINFO\u001b[0m - Epoch(train) [2][10140/11818]  lr: 1.0000e-04  eta: 8:14:53  time: 1.0287  data_time: 0.6661  memory: 1526  grad_norm: 19.8675  loss: 0.6932  top1_acc: 0.2500  top5_acc: 1.0000  loss_cls: 0.6932\r\n"
     ]
    },
    {
     "name": "stdout",
     "output_type": "stream",
     "text": [
      "06/13 02:01:09 - mmengine - \u001b[4m\u001b[97mINFO\u001b[0m - Epoch(train) [2][10160/11818]  lr: 1.0000e-04  eta: 8:14:29  time: 1.1852  data_time: 0.8241  memory: 1526  grad_norm: 19.3081  loss: 0.6495  top1_acc: 0.7500  top5_acc: 0.7500  loss_cls: 0.6495\r\n"
     ]
    },
    {
     "name": "stdout",
     "output_type": "stream",
     "text": [
      "06/13 02:01:34 - mmengine - \u001b[4m\u001b[97mINFO\u001b[0m - Epoch(train) [2][10180/11818]  lr: 1.0000e-04  eta: 8:14:08  time: 1.2466  data_time: 0.8868  memory: 1526  grad_norm: 17.4148  loss: 0.4495  top1_acc: 0.7500  top5_acc: 1.0000  loss_cls: 0.4495\r\n"
     ]
    },
    {
     "name": "stdout",
     "output_type": "stream",
     "text": [
      "06/13 02:01:36 - mmengine - \u001b[4m\u001b[97mINFO\u001b[0m - Exp name: config_20230612_184603\r\n"
     ]
    },
    {
     "name": "stdout",
     "output_type": "stream",
     "text": [
      "06/13 02:02:00 - mmengine - \u001b[4m\u001b[97mINFO\u001b[0m - Epoch(train) [2][10200/11818]  lr: 1.0000e-04  eta: 8:13:48  time: 1.3231  data_time: 0.9634  memory: 1526  grad_norm: 18.4746  loss: 0.6015  top1_acc: 0.7500  top5_acc: 0.7500  loss_cls: 0.6015\r\n"
     ]
    },
    {
     "name": "stdout",
     "output_type": "stream",
     "text": [
      "06/13 02:02:23 - mmengine - \u001b[4m\u001b[97mINFO\u001b[0m - Epoch(train) [2][10220/11818]  lr: 1.0000e-04  eta: 8:13:23  time: 1.1349  data_time: 0.7743  memory: 1526  grad_norm: 16.7427  loss: 0.5728  top1_acc: 0.7500  top5_acc: 0.7500  loss_cls: 0.5728\r\n"
     ]
    },
    {
     "name": "stdout",
     "output_type": "stream",
     "text": [
      "06/13 02:02:47 - mmengine - \u001b[4m\u001b[97mINFO\u001b[0m - Epoch(train) [2][10240/11818]  lr: 1.0000e-04  eta: 8:13:00  time: 1.1836  data_time: 0.8238  memory: 1526  grad_norm: 21.3263  loss: 0.6939  top1_acc: 0.7500  top5_acc: 1.0000  loss_cls: 0.6939\r\n"
     ]
    },
    {
     "name": "stdout",
     "output_type": "stream",
     "text": [
      "06/13 02:03:08 - mmengine - \u001b[4m\u001b[97mINFO\u001b[0m - Epoch(train) [2][10260/11818]  lr: 1.0000e-04  eta: 8:12:34  time: 1.0454  data_time: 0.6846  memory: 1526  grad_norm: 18.3737  loss: 0.6740  top1_acc: 0.7500  top5_acc: 0.7500  loss_cls: 0.6740\r\n"
     ]
    },
    {
     "name": "stdout",
     "output_type": "stream",
     "text": [
      "06/13 02:03:31 - mmengine - \u001b[4m\u001b[97mINFO\u001b[0m - Epoch(train) [2][10280/11818]  lr: 1.0000e-04  eta: 8:12:11  time: 1.1914  data_time: 0.8300  memory: 1526  grad_norm: 17.1514  loss: 0.5072  top1_acc: 1.0000  top5_acc: 1.0000  loss_cls: 0.5072\r\n"
     ]
    },
    {
     "name": "stdout",
     "output_type": "stream",
     "text": [
      "06/13 02:03:53 - mmengine - \u001b[4m\u001b[97mINFO\u001b[0m - Epoch(train) [2][10300/11818]  lr: 1.0000e-04  eta: 8:11:45  time: 1.0622  data_time: 0.6986  memory: 1526  grad_norm: 16.1794  loss: 0.6334  top1_acc: 1.0000  top5_acc: 1.0000  loss_cls: 0.6334\r\n"
     ]
    },
    {
     "name": "stdout",
     "output_type": "stream",
     "text": [
      "06/13 02:04:18 - mmengine - \u001b[4m\u001b[97mINFO\u001b[0m - Epoch(train) [2][10320/11818]  lr: 1.0000e-04  eta: 8:11:23  time: 1.2426  data_time: 0.8804  memory: 1526  grad_norm: 16.5895  loss: 0.5243  top1_acc: 0.5000  top5_acc: 1.0000  loss_cls: 0.5243\r\n"
     ]
    },
    {
     "name": "stdout",
     "output_type": "stream",
     "text": [
      "06/13 02:04:37 - mmengine - \u001b[4m\u001b[97mINFO\u001b[0m - Epoch(train) [2][10340/11818]  lr: 1.0000e-04  eta: 8:10:55  time: 0.9756  data_time: 0.6151  memory: 1526  grad_norm: 16.1448  loss: 0.5624  top1_acc: 1.0000  top5_acc: 1.0000  loss_cls: 0.5624\r\n"
     ]
    },
    {
     "name": "stdout",
     "output_type": "stream",
     "text": [
      "06/13 02:05:03 - mmengine - \u001b[4m\u001b[97mINFO\u001b[0m - Epoch(train) [2][10360/11818]  lr: 1.0000e-04  eta: 8:10:34  time: 1.2931  data_time: 0.9311  memory: 1526  grad_norm: 16.2265  loss: 0.4953  top1_acc: 0.7500  top5_acc: 0.7500  loss_cls: 0.4953\r\n"
     ]
    },
    {
     "name": "stdout",
     "output_type": "stream",
     "text": [
      "06/13 02:05:28 - mmengine - \u001b[4m\u001b[97mINFO\u001b[0m - Epoch(train) [2][10380/11818]  lr: 1.0000e-04  eta: 8:10:12  time: 1.2394  data_time: 0.8779  memory: 1526  grad_norm: 16.6998  loss: 0.4654  top1_acc: 1.0000  top5_acc: 1.0000  loss_cls: 0.4654\r\n"
     ]
    },
    {
     "name": "stdout",
     "output_type": "stream",
     "text": [
      "06/13 02:05:52 - mmengine - \u001b[4m\u001b[97mINFO\u001b[0m - Epoch(train) [2][10400/11818]  lr: 1.0000e-04  eta: 8:09:50  time: 1.2325  data_time: 0.8701  memory: 1526  grad_norm: 15.0413  loss: 0.5276  top1_acc: 1.0000  top5_acc: 1.0000  loss_cls: 0.5276\r\n"
     ]
    },
    {
     "name": "stdout",
     "output_type": "stream",
     "text": [
      "06/13 02:06:16 - mmengine - \u001b[4m\u001b[97mINFO\u001b[0m - Epoch(train) [2][10420/11818]  lr: 1.0000e-04  eta: 8:09:27  time: 1.1899  data_time: 0.8296  memory: 1526  grad_norm: 20.0648  loss: 0.7020  top1_acc: 1.0000  top5_acc: 1.0000  loss_cls: 0.7020\r\n"
     ]
    },
    {
     "name": "stdout",
     "output_type": "stream",
     "text": [
      "06/13 02:06:39 - mmengine - \u001b[4m\u001b[97mINFO\u001b[0m - Epoch(train) [2][10440/11818]  lr: 1.0000e-04  eta: 8:09:02  time: 1.1153  data_time: 0.7526  memory: 1526  grad_norm: 13.6925  loss: 0.4077  top1_acc: 0.7500  top5_acc: 1.0000  loss_cls: 0.4077\r\n"
     ]
    },
    {
     "name": "stdout",
     "output_type": "stream",
     "text": [
      "06/13 02:07:03 - mmengine - \u001b[4m\u001b[97mINFO\u001b[0m - Epoch(train) [2][10460/11818]  lr: 1.0000e-04  eta: 8:08:40  time: 1.2090  data_time: 0.8457  memory: 1526  grad_norm: 18.5575  loss: 0.5645  top1_acc: 0.5000  top5_acc: 1.0000  loss_cls: 0.5645\r\n"
     ]
    },
    {
     "name": "stdout",
     "output_type": "stream",
     "text": [
      "06/13 02:07:27 - mmengine - \u001b[4m\u001b[97mINFO\u001b[0m - Epoch(train) [2][10480/11818]  lr: 1.0000e-04  eta: 8:08:17  time: 1.2272  data_time: 0.8664  memory: 1526  grad_norm: 18.1689  loss: 0.6567  top1_acc: 0.7500  top5_acc: 1.0000  loss_cls: 0.6567\r\n"
     ]
    },
    {
     "name": "stdout",
     "output_type": "stream",
     "text": [
      "06/13 02:07:49 - mmengine - \u001b[4m\u001b[97mINFO\u001b[0m - Epoch(train) [2][10500/11818]  lr: 1.0000e-04  eta: 8:07:52  time: 1.0741  data_time: 0.7132  memory: 1526  grad_norm: 12.7338  loss: 0.4552  top1_acc: 1.0000  top5_acc: 1.0000  loss_cls: 0.4552\r\n"
     ]
    },
    {
     "name": "stdout",
     "output_type": "stream",
     "text": [
      "06/13 02:08:13 - mmengine - \u001b[4m\u001b[97mINFO\u001b[0m - Epoch(train) [2][10520/11818]  lr: 1.0000e-04  eta: 8:07:29  time: 1.1960  data_time: 0.8339  memory: 1526  grad_norm: 16.6972  loss: 0.5337  top1_acc: 0.7500  top5_acc: 1.0000  loss_cls: 0.5337\r\n"
     ]
    },
    {
     "name": "stdout",
     "output_type": "stream",
     "text": [
      "06/13 02:08:37 - mmengine - \u001b[4m\u001b[97mINFO\u001b[0m - Epoch(train) [2][10540/11818]  lr: 1.0000e-04  eta: 8:07:06  time: 1.2021  data_time: 0.8394  memory: 1526  grad_norm: 16.9836  loss: 0.7435  top1_acc: 1.0000  top5_acc: 1.0000  loss_cls: 0.7435\r\n"
     ]
    },
    {
     "name": "stdout",
     "output_type": "stream",
     "text": [
      "06/13 02:09:00 - mmengine - \u001b[4m\u001b[97mINFO\u001b[0m - Epoch(train) [2][10560/11818]  lr: 1.0000e-04  eta: 8:06:42  time: 1.1767  data_time: 0.8138  memory: 1526  grad_norm: 19.0186  loss: 0.6091  top1_acc: 0.7500  top5_acc: 1.0000  loss_cls: 0.6091\r\n"
     ]
    },
    {
     "name": "stdout",
     "output_type": "stream",
     "text": [
      "06/13 02:09:21 - mmengine - \u001b[4m\u001b[97mINFO\u001b[0m - Epoch(train) [2][10580/11818]  lr: 1.0000e-04  eta: 8:06:16  time: 1.0607  data_time: 0.6998  memory: 1526  grad_norm: 15.0184  loss: 0.4573  top1_acc: 0.7500  top5_acc: 1.0000  loss_cls: 0.4573\r\n"
     ]
    },
    {
     "name": "stdout",
     "output_type": "stream",
     "text": [
      "06/13 02:09:45 - mmengine - \u001b[4m\u001b[97mINFO\u001b[0m - Epoch(train) [2][10600/11818]  lr: 1.0000e-04  eta: 8:05:53  time: 1.1561  data_time: 0.7932  memory: 1526  grad_norm: 20.0358  loss: 0.6668  top1_acc: 0.7500  top5_acc: 1.0000  loss_cls: 0.6668\r\n"
     ]
    },
    {
     "name": "stdout",
     "output_type": "stream",
     "text": [
      "06/13 02:10:07 - mmengine - \u001b[4m\u001b[97mINFO\u001b[0m - Epoch(train) [2][10620/11818]  lr: 1.0000e-04  eta: 8:05:29  time: 1.1436  data_time: 0.7806  memory: 1526  grad_norm: 11.5335  loss: 0.3521  top1_acc: 0.7500  top5_acc: 1.0000  loss_cls: 0.3521\r\n"
     ]
    },
    {
     "name": "stdout",
     "output_type": "stream",
     "text": [
      "06/13 02:10:29 - mmengine - \u001b[4m\u001b[97mINFO\u001b[0m - Epoch(train) [2][10640/11818]  lr: 1.0000e-04  eta: 8:05:03  time: 1.0838  data_time: 0.7225  memory: 1526  grad_norm: 17.4197  loss: 0.5854  top1_acc: 0.5000  top5_acc: 0.7500  loss_cls: 0.5854\r\n"
     ]
    },
    {
     "name": "stdout",
     "output_type": "stream",
     "text": [
      "06/13 02:10:50 - mmengine - \u001b[4m\u001b[97mINFO\u001b[0m - Epoch(train) [2][10660/11818]  lr: 1.0000e-04  eta: 8:04:36  time: 1.0212  data_time: 0.6599  memory: 1526  grad_norm: 15.8438  loss: 0.5058  top1_acc: 0.7500  top5_acc: 1.0000  loss_cls: 0.5058\r\n"
     ]
    },
    {
     "name": "stdout",
     "output_type": "stream",
     "text": [
      "06/13 02:11:13 - mmengine - \u001b[4m\u001b[97mINFO\u001b[0m - Epoch(train) [2][10680/11818]  lr: 1.0000e-04  eta: 8:04:13  time: 1.1616  data_time: 0.7985  memory: 1526  grad_norm: 19.2447  loss: 0.6419  top1_acc: 1.0000  top5_acc: 1.0000  loss_cls: 0.6419\r\n"
     ]
    },
    {
     "name": "stdout",
     "output_type": "stream",
     "text": [
      "06/13 02:11:38 - mmengine - \u001b[4m\u001b[97mINFO\u001b[0m - Epoch(train) [2][10700/11818]  lr: 1.0000e-04  eta: 8:03:51  time: 1.2400  data_time: 0.8782  memory: 1526  grad_norm: 17.9664  loss: 0.5617  top1_acc: 1.0000  top5_acc: 1.0000  loss_cls: 0.5617\r\n"
     ]
    },
    {
     "name": "stdout",
     "output_type": "stream",
     "text": [
      "06/13 02:12:03 - mmengine - \u001b[4m\u001b[97mINFO\u001b[0m - Epoch(train) [2][10720/11818]  lr: 1.0000e-04  eta: 8:03:29  time: 1.2478  data_time: 0.8843  memory: 1526  grad_norm: 17.9695  loss: 0.5626  top1_acc: 0.7500  top5_acc: 1.0000  loss_cls: 0.5626\r\n"
     ]
    },
    {
     "name": "stdout",
     "output_type": "stream",
     "text": [
      "06/13 02:12:24 - mmengine - \u001b[4m\u001b[97mINFO\u001b[0m - Epoch(train) [2][10740/11818]  lr: 1.0000e-04  eta: 8:03:03  time: 1.0743  data_time: 0.7127  memory: 1526  grad_norm: 17.6714  loss: 0.5597  top1_acc: 1.0000  top5_acc: 1.0000  loss_cls: 0.5597\r\n"
     ]
    },
    {
     "name": "stdout",
     "output_type": "stream",
     "text": [
      "06/13 02:12:46 - mmengine - \u001b[4m\u001b[97mINFO\u001b[0m - Epoch(train) [2][10760/11818]  lr: 1.0000e-04  eta: 8:02:38  time: 1.1074  data_time: 0.7458  memory: 1526  grad_norm: 17.0784  loss: 0.5051  top1_acc: 0.7500  top5_acc: 1.0000  loss_cls: 0.5051\r\n"
     ]
    },
    {
     "name": "stdout",
     "output_type": "stream",
     "text": [
      "06/13 02:13:10 - mmengine - \u001b[4m\u001b[97mINFO\u001b[0m - Epoch(train) [2][10780/11818]  lr: 1.0000e-04  eta: 8:02:15  time: 1.1754  data_time: 0.8149  memory: 1526  grad_norm: 19.9990  loss: 0.7093  top1_acc: 0.7500  top5_acc: 1.0000  loss_cls: 0.7093\r\n"
     ]
    },
    {
     "name": "stdout",
     "output_type": "stream",
     "text": [
      "06/13 02:13:31 - mmengine - \u001b[4m\u001b[97mINFO\u001b[0m - Epoch(train) [2][10800/11818]  lr: 1.0000e-04  eta: 8:01:49  time: 1.0760  data_time: 0.7142  memory: 1526  grad_norm: 14.8993  loss: 0.5269  top1_acc: 1.0000  top5_acc: 1.0000  loss_cls: 0.5269\r\n"
     ]
    },
    {
     "name": "stdout",
     "output_type": "stream",
     "text": [
      "06/13 02:13:53 - mmengine - \u001b[4m\u001b[97mINFO\u001b[0m - Epoch(train) [2][10820/11818]  lr: 1.0000e-04  eta: 8:01:25  time: 1.1089  data_time: 0.7482  memory: 1526  grad_norm: 18.5165  loss: 0.5322  top1_acc: 1.0000  top5_acc: 1.0000  loss_cls: 0.5322\r\n"
     ]
    },
    {
     "name": "stdout",
     "output_type": "stream",
     "text": [
      "06/13 02:14:14 - mmengine - \u001b[4m\u001b[97mINFO\u001b[0m - Epoch(train) [2][10840/11818]  lr: 1.0000e-04  eta: 8:00:59  time: 1.0544  data_time: 0.6938  memory: 1526  grad_norm: 16.0470  loss: 0.6232  top1_acc: 1.0000  top5_acc: 1.0000  loss_cls: 0.6232\r\n"
     ]
    },
    {
     "name": "stdout",
     "output_type": "stream",
     "text": [
      "06/13 02:14:35 - mmengine - \u001b[4m\u001b[97mINFO\u001b[0m - Epoch(train) [2][10860/11818]  lr: 1.0000e-04  eta: 8:00:32  time: 1.0294  data_time: 0.6671  memory: 1526  grad_norm: 13.9839  loss: 0.5078  top1_acc: 1.0000  top5_acc: 1.0000  loss_cls: 0.5078\r\n"
     ]
    },
    {
     "name": "stdout",
     "output_type": "stream",
     "text": [
      "06/13 02:14:57 - mmengine - \u001b[4m\u001b[97mINFO\u001b[0m - Epoch(train) [2][10880/11818]  lr: 1.0000e-04  eta: 8:00:07  time: 1.0995  data_time: 0.7374  memory: 1526  grad_norm: 15.6011  loss: 0.4942  top1_acc: 0.7500  top5_acc: 1.0000  loss_cls: 0.4942\r\n"
     ]
    },
    {
     "name": "stdout",
     "output_type": "stream",
     "text": [
      "06/13 02:15:20 - mmengine - \u001b[4m\u001b[97mINFO\u001b[0m - Epoch(train) [2][10900/11818]  lr: 1.0000e-04  eta: 7:59:43  time: 1.1485  data_time: 0.7859  memory: 1526  grad_norm: 13.6248  loss: 0.4130  top1_acc: 1.0000  top5_acc: 1.0000  loss_cls: 0.4130\r\n"
     ]
    },
    {
     "name": "stdout",
     "output_type": "stream",
     "text": [
      "06/13 02:15:42 - mmengine - \u001b[4m\u001b[97mINFO\u001b[0m - Epoch(train) [2][10920/11818]  lr: 1.0000e-04  eta: 7:59:18  time: 1.1147  data_time: 0.7534  memory: 1526  grad_norm: 16.1588  loss: 0.4814  top1_acc: 0.7500  top5_acc: 1.0000  loss_cls: 0.4814\r\n"
     ]
    },
    {
     "name": "stdout",
     "output_type": "stream",
     "text": [
      "06/13 02:16:07 - mmengine - \u001b[4m\u001b[97mINFO\u001b[0m - Epoch(train) [2][10940/11818]  lr: 1.0000e-04  eta: 7:58:56  time: 1.2421  data_time: 0.8799  memory: 1526  grad_norm: 13.7369  loss: 0.3513  top1_acc: 1.0000  top5_acc: 1.0000  loss_cls: 0.3513\r\n"
     ]
    },
    {
     "name": "stdout",
     "output_type": "stream",
     "text": [
      "06/13 02:16:28 - mmengine - \u001b[4m\u001b[97mINFO\u001b[0m - Epoch(train) [2][10960/11818]  lr: 1.0000e-04  eta: 7:58:30  time: 1.0420  data_time: 0.6783  memory: 1526  grad_norm: 16.4489  loss: 0.5219  top1_acc: 0.7500  top5_acc: 1.0000  loss_cls: 0.5219\r\n"
     ]
    },
    {
     "name": "stdout",
     "output_type": "stream",
     "text": [
      "06/13 02:16:49 - mmengine - \u001b[4m\u001b[97mINFO\u001b[0m - Epoch(train) [2][10980/11818]  lr: 1.0000e-04  eta: 7:58:03  time: 1.0243  data_time: 0.6630  memory: 1526  grad_norm: 18.2291  loss: 0.5255  top1_acc: 0.7500  top5_acc: 1.0000  loss_cls: 0.5255\r\n"
     ]
    },
    {
     "name": "stdout",
     "output_type": "stream",
     "text": [
      "06/13 02:17:09 - mmengine - \u001b[4m\u001b[97mINFO\u001b[0m - Epoch(train) [2][11000/11818]  lr: 1.0000e-04  eta: 7:57:37  time: 1.0371  data_time: 0.6740  memory: 1526  grad_norm: 15.2686  loss: 0.4776  top1_acc: 1.0000  top5_acc: 1.0000  loss_cls: 0.4776\r\n"
     ]
    },
    {
     "name": "stdout",
     "output_type": "stream",
     "text": [
      "06/13 02:17:31 - mmengine - \u001b[4m\u001b[97mINFO\u001b[0m - Epoch(train) [2][11020/11818]  lr: 1.0000e-04  eta: 7:57:12  time: 1.0807  data_time: 0.7185  memory: 1526  grad_norm: 17.9908  loss: 0.5849  top1_acc: 1.0000  top5_acc: 1.0000  loss_cls: 0.5849\r\n"
     ]
    },
    {
     "name": "stdout",
     "output_type": "stream",
     "text": [
      "06/13 02:17:51 - mmengine - \u001b[4m\u001b[97mINFO\u001b[0m - Epoch(train) [2][11040/11818]  lr: 1.0000e-04  eta: 7:56:45  time: 1.0273  data_time: 0.6656  memory: 1526  grad_norm: 15.2660  loss: 0.5297  top1_acc: 1.0000  top5_acc: 1.0000  loss_cls: 0.5297\r\n"
     ]
    },
    {
     "name": "stdout",
     "output_type": "stream",
     "text": [
      "06/13 02:18:16 - mmengine - \u001b[4m\u001b[97mINFO\u001b[0m - Epoch(train) [2][11060/11818]  lr: 1.0000e-04  eta: 7:56:23  time: 1.2493  data_time: 0.8857  memory: 1526  grad_norm: 17.6025  loss: 0.5387  top1_acc: 1.0000  top5_acc: 1.0000  loss_cls: 0.5387\r\n"
     ]
    },
    {
     "name": "stdout",
     "output_type": "stream",
     "text": [
      "06/13 02:18:41 - mmengine - \u001b[4m\u001b[97mINFO\u001b[0m - Epoch(train) [2][11080/11818]  lr: 1.0000e-04  eta: 7:56:01  time: 1.2126  data_time: 0.8502  memory: 1526  grad_norm: 15.9894  loss: 0.4432  top1_acc: 1.0000  top5_acc: 1.0000  loss_cls: 0.4432\r\n"
     ]
    },
    {
     "name": "stdout",
     "output_type": "stream",
     "text": [
      "06/13 02:19:06 - mmengine - \u001b[4m\u001b[97mINFO\u001b[0m - Epoch(train) [2][11100/11818]  lr: 1.0000e-04  eta: 7:55:39  time: 1.2631  data_time: 0.8981  memory: 1526  grad_norm: 17.5391  loss: 0.5731  top1_acc: 0.7500  top5_acc: 1.0000  loss_cls: 0.5731\r\n"
     ]
    },
    {
     "name": "stdout",
     "output_type": "stream",
     "text": [
      "06/13 02:19:28 - mmengine - \u001b[4m\u001b[97mINFO\u001b[0m - Epoch(train) [2][11120/11818]  lr: 1.0000e-04  eta: 7:55:15  time: 1.1246  data_time: 0.7636  memory: 1526  grad_norm: 15.5262  loss: 0.5826  top1_acc: 1.0000  top5_acc: 1.0000  loss_cls: 0.5826\r\n"
     ]
    },
    {
     "name": "stdout",
     "output_type": "stream",
     "text": [
      "06/13 02:19:50 - mmengine - \u001b[4m\u001b[97mINFO\u001b[0m - Epoch(train) [2][11140/11818]  lr: 1.0000e-04  eta: 7:54:49  time: 1.0684  data_time: 0.7065  memory: 1526  grad_norm: 17.5945  loss: 0.5333  top1_acc: 1.0000  top5_acc: 1.0000  loss_cls: 0.5333\r\n"
     ]
    },
    {
     "name": "stdout",
     "output_type": "stream",
     "text": [
      "06/13 02:20:12 - mmengine - \u001b[4m\u001b[97mINFO\u001b[0m - Epoch(train) [2][11160/11818]  lr: 1.0000e-04  eta: 7:54:24  time: 1.1020  data_time: 0.7393  memory: 1526  grad_norm: 15.0645  loss: 0.4316  top1_acc: 0.7500  top5_acc: 1.0000  loss_cls: 0.4316\r\n"
     ]
    },
    {
     "name": "stdout",
     "output_type": "stream",
     "text": [
      "06/13 02:20:39 - mmengine - \u001b[4m\u001b[97mINFO\u001b[0m - Epoch(train) [2][11180/11818]  lr: 1.0000e-04  eta: 7:54:05  time: 1.3656  data_time: 1.0016  memory: 1526  grad_norm: 19.8495  loss: 0.7239  top1_acc: 0.5000  top5_acc: 1.0000  loss_cls: 0.7239\r\n"
     ]
    },
    {
     "name": "stdout",
     "output_type": "stream",
     "text": [
      "06/13 02:20:42 - mmengine - \u001b[4m\u001b[97mINFO\u001b[0m - Exp name: config_20230612_184603\r\n"
     ]
    },
    {
     "name": "stdout",
     "output_type": "stream",
     "text": [
      "06/13 02:21:04 - mmengine - \u001b[4m\u001b[97mINFO\u001b[0m - Epoch(train) [2][11200/11818]  lr: 1.0000e-04  eta: 7:53:43  time: 1.2264  data_time: 0.8651  memory: 1526  grad_norm: 17.6934  loss: 0.4413  top1_acc: 1.0000  top5_acc: 1.0000  loss_cls: 0.4413\r\n"
     ]
    },
    {
     "name": "stdout",
     "output_type": "stream",
     "text": [
      "06/13 02:21:27 - mmengine - \u001b[4m\u001b[97mINFO\u001b[0m - Epoch(train) [2][11220/11818]  lr: 1.0000e-04  eta: 7:53:19  time: 1.1456  data_time: 0.7823  memory: 1526  grad_norm: 19.8382  loss: 0.5263  top1_acc: 1.0000  top5_acc: 1.0000  loss_cls: 0.5263\r\n"
     ]
    },
    {
     "name": "stdout",
     "output_type": "stream",
     "text": [
      "06/13 02:21:50 - mmengine - \u001b[4m\u001b[97mINFO\u001b[0m - Epoch(train) [2][11240/11818]  lr: 1.0000e-04  eta: 7:52:55  time: 1.1757  data_time: 0.8113  memory: 1526  grad_norm: 18.0095  loss: 0.5743  top1_acc: 0.5000  top5_acc: 1.0000  loss_cls: 0.5743\r\n"
     ]
    },
    {
     "name": "stdout",
     "output_type": "stream",
     "text": [
      "06/13 02:22:15 - mmengine - \u001b[4m\u001b[97mINFO\u001b[0m - Epoch(train) [2][11260/11818]  lr: 1.0000e-04  eta: 7:52:34  time: 1.2620  data_time: 0.9006  memory: 1526  grad_norm: 16.9537  loss: 0.6478  top1_acc: 1.0000  top5_acc: 1.0000  loss_cls: 0.6478\r\n"
     ]
    },
    {
     "name": "stdout",
     "output_type": "stream",
     "text": [
      "06/13 02:22:40 - mmengine - \u001b[4m\u001b[97mINFO\u001b[0m - Epoch(train) [2][11280/11818]  lr: 1.0000e-04  eta: 7:52:12  time: 1.2556  data_time: 0.8941  memory: 1526  grad_norm: 16.4115  loss: 0.4736  top1_acc: 1.0000  top5_acc: 1.0000  loss_cls: 0.4736\r\n"
     ]
    },
    {
     "name": "stdout",
     "output_type": "stream",
     "text": [
      "06/13 02:23:04 - mmengine - \u001b[4m\u001b[97mINFO\u001b[0m - Epoch(train) [2][11300/11818]  lr: 1.0000e-04  eta: 7:51:49  time: 1.1769  data_time: 0.8122  memory: 1526  grad_norm: 17.6377  loss: 0.4318  top1_acc: 0.7500  top5_acc: 1.0000  loss_cls: 0.4318\r\n"
     ]
    },
    {
     "name": "stdout",
     "output_type": "stream",
     "text": [
      "06/13 02:23:32 - mmengine - \u001b[4m\u001b[97mINFO\u001b[0m - Epoch(train) [2][11320/11818]  lr: 1.0000e-04  eta: 7:51:30  time: 1.4048  data_time: 1.0412  memory: 1526  grad_norm: 16.1110  loss: 0.4998  top1_acc: 1.0000  top5_acc: 1.0000  loss_cls: 0.4998\r\n"
     ]
    },
    {
     "name": "stdout",
     "output_type": "stream",
     "text": [
      "06/13 02:23:56 - mmengine - \u001b[4m\u001b[97mINFO\u001b[0m - Epoch(train) [2][11340/11818]  lr: 1.0000e-04  eta: 7:51:08  time: 1.2203  data_time: 0.8574  memory: 1526  grad_norm: 17.3604  loss: 0.6377  top1_acc: 0.7500  top5_acc: 1.0000  loss_cls: 0.6377\r\n"
     ]
    },
    {
     "name": "stdout",
     "output_type": "stream",
     "text": [
      "06/13 02:24:23 - mmengine - \u001b[4m\u001b[97mINFO\u001b[0m - Epoch(train) [2][11360/11818]  lr: 1.0000e-04  eta: 7:50:47  time: 1.3086  data_time: 0.9459  memory: 1526  grad_norm: 16.8305  loss: 0.6744  top1_acc: 0.5000  top5_acc: 1.0000  loss_cls: 0.6744\r\n"
     ]
    },
    {
     "name": "stdout",
     "output_type": "stream",
     "text": [
      "06/13 02:24:45 - mmengine - \u001b[4m\u001b[97mINFO\u001b[0m - Epoch(train) [2][11380/11818]  lr: 1.0000e-04  eta: 7:50:23  time: 1.1257  data_time: 0.7623  memory: 1526  grad_norm: 21.1148  loss: 0.7001  top1_acc: 1.0000  top5_acc: 1.0000  loss_cls: 0.7001\r\n"
     ]
    },
    {
     "name": "stdout",
     "output_type": "stream",
     "text": [
      "06/13 02:25:09 - mmengine - \u001b[4m\u001b[97mINFO\u001b[0m - Epoch(train) [2][11400/11818]  lr: 1.0000e-04  eta: 7:49:59  time: 1.1709  data_time: 0.8090  memory: 1526  grad_norm: 18.5074  loss: 0.5995  top1_acc: 1.0000  top5_acc: 1.0000  loss_cls: 0.5995\r\n"
     ]
    },
    {
     "name": "stdout",
     "output_type": "stream",
     "text": [
      "06/13 02:25:34 - mmengine - \u001b[4m\u001b[97mINFO\u001b[0m - Epoch(train) [2][11420/11818]  lr: 1.0000e-04  eta: 7:49:38  time: 1.2920  data_time: 0.9282  memory: 1526  grad_norm: 13.3771  loss: 0.4434  top1_acc: 1.0000  top5_acc: 1.0000  loss_cls: 0.4434\r\n"
     ]
    },
    {
     "name": "stdout",
     "output_type": "stream",
     "text": [
      "06/13 02:26:01 - mmengine - \u001b[4m\u001b[97mINFO\u001b[0m - Epoch(train) [2][11440/11818]  lr: 1.0000e-04  eta: 7:49:18  time: 1.3147  data_time: 0.9521  memory: 1526  grad_norm: 15.8975  loss: 0.5643  top1_acc: 1.0000  top5_acc: 1.0000  loss_cls: 0.5643\r\n"
     ]
    },
    {
     "name": "stdout",
     "output_type": "stream",
     "text": [
      "06/13 02:26:23 - mmengine - \u001b[4m\u001b[97mINFO\u001b[0m - Epoch(train) [2][11460/11818]  lr: 1.0000e-04  eta: 7:48:53  time: 1.1227  data_time: 0.7612  memory: 1526  grad_norm: 19.5702  loss: 0.7271  top1_acc: 1.0000  top5_acc: 1.0000  loss_cls: 0.7271\r\n"
     ]
    },
    {
     "name": "stdout",
     "output_type": "stream",
     "text": [
      "06/13 02:26:49 - mmengine - \u001b[4m\u001b[97mINFO\u001b[0m - Epoch(train) [2][11480/11818]  lr: 1.0000e-04  eta: 7:48:33  time: 1.3069  data_time: 0.9460  memory: 1526  grad_norm: 18.2436  loss: 0.6124  top1_acc: 0.7500  top5_acc: 0.7500  loss_cls: 0.6124\r\n"
     ]
    },
    {
     "name": "stdout",
     "output_type": "stream",
     "text": [
      "06/13 02:27:13 - mmengine - \u001b[4m\u001b[97mINFO\u001b[0m - Epoch(train) [2][11500/11818]  lr: 1.0000e-04  eta: 7:48:10  time: 1.2061  data_time: 0.8438  memory: 1526  grad_norm: 17.8885  loss: 0.5777  top1_acc: 1.0000  top5_acc: 1.0000  loss_cls: 0.5777\r\n"
     ]
    },
    {
     "name": "stdout",
     "output_type": "stream",
     "text": [
      "06/13 02:27:41 - mmengine - \u001b[4m\u001b[97mINFO\u001b[0m - Epoch(train) [2][11520/11818]  lr: 1.0000e-04  eta: 7:47:51  time: 1.3840  data_time: 1.0213  memory: 1526  grad_norm: 22.2709  loss: 0.7300  top1_acc: 0.7500  top5_acc: 0.7500  loss_cls: 0.7300\r\n"
     ]
    },
    {
     "name": "stdout",
     "output_type": "stream",
     "text": [
      "06/13 02:28:09 - mmengine - \u001b[4m\u001b[97mINFO\u001b[0m - Epoch(train) [2][11540/11818]  lr: 1.0000e-04  eta: 7:47:32  time: 1.3894  data_time: 1.0252  memory: 1526  grad_norm: 19.8467  loss: 0.6218  top1_acc: 1.0000  top5_acc: 1.0000  loss_cls: 0.6218\r\n"
     ]
    },
    {
     "name": "stdout",
     "output_type": "stream",
     "text": [
      "06/13 02:28:34 - mmengine - \u001b[4m\u001b[97mINFO\u001b[0m - Epoch(train) [2][11560/11818]  lr: 1.0000e-04  eta: 7:47:10  time: 1.2494  data_time: 0.8890  memory: 1526  grad_norm: 18.1559  loss: 0.5160  top1_acc: 0.7500  top5_acc: 1.0000  loss_cls: 0.5160\r\n"
     ]
    },
    {
     "name": "stdout",
     "output_type": "stream",
     "text": [
      "06/13 02:28:59 - mmengine - \u001b[4m\u001b[97mINFO\u001b[0m - Epoch(train) [2][11580/11818]  lr: 1.0000e-04  eta: 7:46:48  time: 1.2632  data_time: 0.9020  memory: 1526  grad_norm: 16.3218  loss: 0.4257  top1_acc: 1.0000  top5_acc: 1.0000  loss_cls: 0.4257\r\n"
     ]
    },
    {
     "name": "stdout",
     "output_type": "stream",
     "text": [
      "06/13 02:29:27 - mmengine - \u001b[4m\u001b[97mINFO\u001b[0m - Epoch(train) [2][11600/11818]  lr: 1.0000e-04  eta: 7:46:29  time: 1.3798  data_time: 1.0164  memory: 1526  grad_norm: 15.3997  loss: 0.3634  top1_acc: 1.0000  top5_acc: 1.0000  loss_cls: 0.3634\r\n"
     ]
    },
    {
     "name": "stdout",
     "output_type": "stream",
     "text": [
      "06/13 02:29:49 - mmengine - \u001b[4m\u001b[97mINFO\u001b[0m - Epoch(train) [2][11620/11818]  lr: 1.0000e-04  eta: 7:46:04  time: 1.1023  data_time: 0.7375  memory: 1526  grad_norm: 15.3386  loss: 0.4666  top1_acc: 0.5000  top5_acc: 1.0000  loss_cls: 0.4666\r\n"
     ]
    },
    {
     "name": "stdout",
     "output_type": "stream",
     "text": [
      "06/13 02:30:16 - mmengine - \u001b[4m\u001b[97mINFO\u001b[0m - Epoch(train) [2][11640/11818]  lr: 1.0000e-04  eta: 7:45:44  time: 1.3509  data_time: 0.9878  memory: 1526  grad_norm: 18.5792  loss: 0.5135  top1_acc: 0.7500  top5_acc: 1.0000  loss_cls: 0.5135\r\n"
     ]
    },
    {
     "name": "stdout",
     "output_type": "stream",
     "text": [
      "06/13 02:30:41 - mmengine - \u001b[4m\u001b[97mINFO\u001b[0m - Epoch(train) [2][11660/11818]  lr: 1.0000e-04  eta: 7:45:22  time: 1.2583  data_time: 0.8959  memory: 1526  grad_norm: 17.8510  loss: 0.6271  top1_acc: 1.0000  top5_acc: 1.0000  loss_cls: 0.6271\r\n"
     ]
    },
    {
     "name": "stdout",
     "output_type": "stream",
     "text": [
      "06/13 02:31:07 - mmengine - \u001b[4m\u001b[97mINFO\u001b[0m - Epoch(train) [2][11680/11818]  lr: 1.0000e-04  eta: 7:45:01  time: 1.2852  data_time: 0.9240  memory: 1526  grad_norm: 18.8410  loss: 0.6315  top1_acc: 1.0000  top5_acc: 1.0000  loss_cls: 0.6315\r\n"
     ]
    },
    {
     "name": "stdout",
     "output_type": "stream",
     "text": [
      "06/13 02:31:31 - mmengine - \u001b[4m\u001b[97mINFO\u001b[0m - Epoch(train) [2][11700/11818]  lr: 1.0000e-04  eta: 7:44:38  time: 1.2079  data_time: 0.8460  memory: 1526  grad_norm: 14.7790  loss: 0.3842  top1_acc: 1.0000  top5_acc: 1.0000  loss_cls: 0.3842\r\n"
     ]
    },
    {
     "name": "stdout",
     "output_type": "stream",
     "text": [
      "06/13 02:31:54 - mmengine - \u001b[4m\u001b[97mINFO\u001b[0m - Epoch(train) [2][11720/11818]  lr: 1.0000e-04  eta: 7:44:14  time: 1.1327  data_time: 0.7697  memory: 1526  grad_norm: 19.4101  loss: 0.6390  top1_acc: 1.0000  top5_acc: 1.0000  loss_cls: 0.6390\r\n"
     ]
    },
    {
     "name": "stdout",
     "output_type": "stream",
     "text": [
      "06/13 02:32:15 - mmengine - \u001b[4m\u001b[97mINFO\u001b[0m - Epoch(train) [2][11740/11818]  lr: 1.0000e-04  eta: 7:43:48  time: 1.0603  data_time: 0.6985  memory: 1526  grad_norm: 14.5999  loss: 0.4645  top1_acc: 0.5000  top5_acc: 1.0000  loss_cls: 0.4645\r\n"
     ]
    },
    {
     "name": "stdout",
     "output_type": "stream",
     "text": [
      "06/13 02:32:37 - mmengine - \u001b[4m\u001b[97mINFO\u001b[0m - Epoch(train) [2][11760/11818]  lr: 1.0000e-04  eta: 7:43:24  time: 1.1022  data_time: 0.7405  memory: 1526  grad_norm: 17.9608  loss: 0.6024  top1_acc: 0.5000  top5_acc: 0.7500  loss_cls: 0.6024\r\n"
     ]
    },
    {
     "name": "stdout",
     "output_type": "stream",
     "text": [
      "06/13 02:33:00 - mmengine - \u001b[4m\u001b[97mINFO\u001b[0m - Epoch(train) [2][11780/11818]  lr: 1.0000e-04  eta: 7:43:00  time: 1.1499  data_time: 0.7874  memory: 1526  grad_norm: 22.3448  loss: 0.7656  top1_acc: 1.0000  top5_acc: 1.0000  loss_cls: 0.7656\r\n"
     ]
    },
    {
     "name": "stdout",
     "output_type": "stream",
     "text": [
      "06/13 02:33:21 - mmengine - \u001b[4m\u001b[97mINFO\u001b[0m - Epoch(train) [2][11800/11818]  lr: 1.0000e-04  eta: 7:42:34  time: 1.0620  data_time: 0.6979  memory: 1526  grad_norm: 20.2076  loss: 0.6098  top1_acc: 0.5000  top5_acc: 1.0000  loss_cls: 0.6098\r\n"
     ]
    },
    {
     "name": "stdout",
     "output_type": "stream",
     "text": [
      "06/13 02:33:41 - mmengine - \u001b[4m\u001b[97mINFO\u001b[0m - Exp name: config_20230612_184603\r\n",
      "06/13 02:33:41 - mmengine - \u001b[4m\u001b[97mINFO\u001b[0m - Epoch(train) [2][11818/11818]  lr: 1.0000e-04  eta: 7:42:12  time: 1.0998  data_time: 0.7423  memory: 1526  grad_norm: 19.9528  loss: 0.6337  top1_acc: 1.0000  top5_acc: 1.0000  loss_cls: 0.6337\r\n",
      "06/13 02:33:41 - mmengine - \u001b[4m\u001b[97mINFO\u001b[0m - Saving checkpoint at 2 epochs\r\n"
     ]
    },
    {
     "name": "stdout",
     "output_type": "stream",
     "text": [
      "06/13 02:34:02 - mmengine - \u001b[4m\u001b[97mINFO\u001b[0m - Epoch(val) [2][ 20/263]    eta: 0:04:11  time: 1.0350  data_time: 0.9644  memory: 387  \r\n"
     ]
    },
    {
     "name": "stdout",
     "output_type": "stream",
     "text": [
      "06/13 02:34:27 - mmengine - \u001b[4m\u001b[97mINFO\u001b[0m - Epoch(val) [2][ 40/263]    eta: 0:04:10  time: 1.2151  data_time: 1.1426  memory: 387  \r\n"
     ]
    },
    {
     "name": "stdout",
     "output_type": "stream",
     "text": [
      "06/13 02:34:49 - mmengine - \u001b[4m\u001b[97mINFO\u001b[0m - Epoch(val) [2][ 60/263]    eta: 0:03:49  time: 1.1355  data_time: 1.0646  memory: 387  \r\n"
     ]
    },
    {
     "name": "stdout",
     "output_type": "stream",
     "text": [
      "06/13 02:35:11 - mmengine - \u001b[4m\u001b[97mINFO\u001b[0m - Epoch(val) [2][ 80/263]    eta: 0:03:23  time: 1.0709  data_time: 0.9992  memory: 387  \r\n"
     ]
    },
    {
     "name": "stdout",
     "output_type": "stream",
     "text": [
      "06/13 02:35:32 - mmengine - \u001b[4m\u001b[97mINFO\u001b[0m - Epoch(val) [2][100/263]    eta: 0:02:59  time: 1.0384  data_time: 0.9665  memory: 387  \r\n"
     ]
    },
    {
     "name": "stdout",
     "output_type": "stream",
     "text": [
      "06/13 02:35:58 - mmengine - \u001b[4m\u001b[97mINFO\u001b[0m - Epoch(val) [2][120/263]    eta: 0:02:42  time: 1.3030  data_time: 1.2322  memory: 387  \r\n"
     ]
    },
    {
     "name": "stdout",
     "output_type": "stream",
     "text": [
      "06/13 02:36:18 - mmengine - \u001b[4m\u001b[97mINFO\u001b[0m - Epoch(val) [2][140/263]    eta: 0:02:17  time: 1.0054  data_time: 0.9342  memory: 387  \r\n"
     ]
    },
    {
     "name": "stdout",
     "output_type": "stream",
     "text": [
      "06/13 02:36:38 - mmengine - \u001b[4m\u001b[97mINFO\u001b[0m - Epoch(val) [2][160/263]    eta: 0:01:53  time: 1.0337  data_time: 0.9615  memory: 387  \r\n"
     ]
    },
    {
     "name": "stdout",
     "output_type": "stream",
     "text": [
      "06/13 02:37:01 - mmengine - \u001b[4m\u001b[97mINFO\u001b[0m - Epoch(val) [2][180/263]    eta: 0:01:31  time: 1.1359  data_time: 1.0654  memory: 387  \r\n"
     ]
    },
    {
     "name": "stdout",
     "output_type": "stream",
     "text": [
      "06/13 02:37:23 - mmengine - \u001b[4m\u001b[97mINFO\u001b[0m - Epoch(val) [2][200/263]    eta: 0:01:09  time: 1.0845  data_time: 1.0139  memory: 387  \r\n"
     ]
    },
    {
     "name": "stdout",
     "output_type": "stream",
     "text": [
      "06/13 02:37:42 - mmengine - \u001b[4m\u001b[97mINFO\u001b[0m - Epoch(val) [2][220/263]    eta: 0:00:47  time: 0.9696  data_time: 0.8973  memory: 387  \r\n"
     ]
    },
    {
     "name": "stdout",
     "output_type": "stream",
     "text": [
      "06/13 02:38:06 - mmengine - \u001b[4m\u001b[97mINFO\u001b[0m - Epoch(val) [2][240/263]    eta: 0:00:25  time: 1.1724  data_time: 1.1008  memory: 387  \r\n"
     ]
    },
    {
     "name": "stdout",
     "output_type": "stream",
     "text": [
      "06/13 02:38:25 - mmengine - \u001b[4m\u001b[97mINFO\u001b[0m - Epoch(val) [2][260/263]    eta: 0:00:03  time: 0.9890  data_time: 0.9182  memory: 387  \r\n"
     ]
    },
    {
     "name": "stdout",
     "output_type": "stream",
     "text": [
      "06/13 02:38:28 - mmengine - \u001b[4m\u001b[97mINFO\u001b[0m - Epoch(val) [2][263/263]    acc/top1: 0.7479  acc/top5: 0.9705  acc/mean1: 0.7353  data_time: 1.0150  time: 1.0863\r\n"
     ]
    },
    {
     "name": "stdout",
     "output_type": "stream",
     "text": [
      "06/13 02:38:51 - mmengine - \u001b[4m\u001b[97mINFO\u001b[0m - Epoch(train) [3][   20/11818]  lr: 1.0000e-05  eta: 7:41:48  time: 1.1733  data_time: 0.8079  memory: 1526  grad_norm: 15.9331  loss: 0.4965  top1_acc: 0.7500  top5_acc: 1.0000  loss_cls: 0.4965\r\n"
     ]
    },
    {
     "name": "stdout",
     "output_type": "stream",
     "text": [
      "06/13 02:39:14 - mmengine - \u001b[4m\u001b[97mINFO\u001b[0m - Epoch(train) [3][   40/11818]  lr: 1.0000e-05  eta: 7:41:24  time: 1.1322  data_time: 0.7708  memory: 1526  grad_norm: 17.9171  loss: 0.6018  top1_acc: 1.0000  top5_acc: 1.0000  loss_cls: 0.6018\r\n"
     ]
    },
    {
     "name": "stdout",
     "output_type": "stream",
     "text": [
      "06/13 02:39:39 - mmengine - \u001b[4m\u001b[97mINFO\u001b[0m - Epoch(train) [3][   60/11818]  lr: 1.0000e-05  eta: 7:41:02  time: 1.2525  data_time: 0.8911  memory: 1526  grad_norm: 17.0610  loss: 0.4858  top1_acc: 1.0000  top5_acc: 1.0000  loss_cls: 0.4858\r\n"
     ]
    },
    {
     "name": "stdout",
     "output_type": "stream",
     "text": [
      "06/13 02:40:01 - mmengine - \u001b[4m\u001b[97mINFO\u001b[0m - Epoch(train) [3][   80/11818]  lr: 1.0000e-05  eta: 7:40:37  time: 1.1094  data_time: 0.7480  memory: 1526  grad_norm: 16.3733  loss: 0.4700  top1_acc: 1.0000  top5_acc: 1.0000  loss_cls: 0.4700\r\n"
     ]
    },
    {
     "name": "stdout",
     "output_type": "stream",
     "text": [
      "06/13 02:40:25 - mmengine - \u001b[4m\u001b[97mINFO\u001b[0m - Epoch(train) [3][  100/11818]  lr: 1.0000e-05  eta: 7:40:14  time: 1.1989  data_time: 0.8376  memory: 1526  grad_norm: 15.9001  loss: 0.5619  top1_acc: 0.5000  top5_acc: 1.0000  loss_cls: 0.5619\r\n"
     ]
    },
    {
     "name": "stdout",
     "output_type": "stream",
     "text": [
      "06/13 02:40:47 - mmengine - \u001b[4m\u001b[97mINFO\u001b[0m - Epoch(train) [3][  120/11818]  lr: 1.0000e-05  eta: 7:39:49  time: 1.0996  data_time: 0.7357  memory: 1526  grad_norm: 17.9288  loss: 0.5960  top1_acc: 1.0000  top5_acc: 1.0000  loss_cls: 0.5960\r\n"
     ]
    },
    {
     "name": "stdout",
     "output_type": "stream",
     "text": [
      "06/13 02:41:11 - mmengine - \u001b[4m\u001b[97mINFO\u001b[0m - Epoch(train) [3][  140/11818]  lr: 1.0000e-05  eta: 7:39:26  time: 1.2070  data_time: 0.8433  memory: 1526  grad_norm: 15.9269  loss: 0.5408  top1_acc: 0.2500  top5_acc: 1.0000  loss_cls: 0.5408\r\n"
     ]
    },
    {
     "name": "stdout",
     "output_type": "stream",
     "text": [
      "06/13 02:41:35 - mmengine - \u001b[4m\u001b[97mINFO\u001b[0m - Epoch(train) [3][  160/11818]  lr: 1.0000e-05  eta: 7:39:03  time: 1.1880  data_time: 0.8275  memory: 1526  grad_norm: 21.4736  loss: 0.7216  top1_acc: 0.7500  top5_acc: 0.7500  loss_cls: 0.7216\r\n"
     ]
    },
    {
     "name": "stdout",
     "output_type": "stream",
     "text": [
      "06/13 02:41:59 - mmengine - \u001b[4m\u001b[97mINFO\u001b[0m - Epoch(train) [3][  180/11818]  lr: 1.0000e-05  eta: 7:38:41  time: 1.2153  data_time: 0.8534  memory: 1526  grad_norm: 13.3450  loss: 0.3884  top1_acc: 0.5000  top5_acc: 1.0000  loss_cls: 0.3884\r\n"
     ]
    },
    {
     "name": "stdout",
     "output_type": "stream",
     "text": [
      "06/13 02:42:22 - mmengine - \u001b[4m\u001b[97mINFO\u001b[0m - Epoch(train) [3][  200/11818]  lr: 1.0000e-05  eta: 7:38:16  time: 1.1187  data_time: 0.7581  memory: 1526  grad_norm: 14.5694  loss: 0.3929  top1_acc: 1.0000  top5_acc: 1.0000  loss_cls: 0.3929\r\n"
     ]
    },
    {
     "name": "stdout",
     "output_type": "stream",
     "text": [
      "06/13 02:42:44 - mmengine - \u001b[4m\u001b[97mINFO\u001b[0m - Epoch(train) [3][  220/11818]  lr: 1.0000e-05  eta: 7:37:52  time: 1.1416  data_time: 0.7789  memory: 1526  grad_norm: 12.2893  loss: 0.3253  top1_acc: 1.0000  top5_acc: 1.0000  loss_cls: 0.3253\r\n"
     ]
    },
    {
     "name": "stdout",
     "output_type": "stream",
     "text": [
      "06/13 02:43:09 - mmengine - \u001b[4m\u001b[97mINFO\u001b[0m - Epoch(train) [3][  240/11818]  lr: 1.0000e-05  eta: 7:37:30  time: 1.2522  data_time: 0.8898  memory: 1526  grad_norm: 14.8096  loss: 0.4532  top1_acc: 1.0000  top5_acc: 1.0000  loss_cls: 0.4532\r\n"
     ]
    },
    {
     "name": "stdout",
     "output_type": "stream",
     "text": [
      "06/13 02:43:30 - mmengine - \u001b[4m\u001b[97mINFO\u001b[0m - Epoch(train) [3][  260/11818]  lr: 1.0000e-05  eta: 7:37:04  time: 1.0273  data_time: 0.6655  memory: 1526  grad_norm: 15.7055  loss: 0.4346  top1_acc: 0.5000  top5_acc: 1.0000  loss_cls: 0.4346\r\n"
     ]
    },
    {
     "name": "stdout",
     "output_type": "stream",
     "text": [
      "06/13 02:43:55 - mmengine - \u001b[4m\u001b[97mINFO\u001b[0m - Epoch(train) [3][  280/11818]  lr: 1.0000e-05  eta: 7:36:42  time: 1.2726  data_time: 0.9101  memory: 1526  grad_norm: 21.1748  loss: 0.6938  top1_acc: 0.7500  top5_acc: 1.0000  loss_cls: 0.6938\r\n"
     ]
    },
    {
     "name": "stdout",
     "output_type": "stream",
     "text": [
      "06/13 02:44:19 - mmengine - \u001b[4m\u001b[97mINFO\u001b[0m - Epoch(train) [3][  300/11818]  lr: 1.0000e-05  eta: 7:36:19  time: 1.1985  data_time: 0.8364  memory: 1526  grad_norm: 17.4083  loss: 0.6146  top1_acc: 0.5000  top5_acc: 1.0000  loss_cls: 0.6146\r\n"
     ]
    },
    {
     "name": "stdout",
     "output_type": "stream",
     "text": [
      "06/13 02:44:44 - mmengine - \u001b[4m\u001b[97mINFO\u001b[0m - Epoch(train) [3][  320/11818]  lr: 1.0000e-05  eta: 7:35:57  time: 1.2228  data_time: 0.8614  memory: 1526  grad_norm: 20.3473  loss: 0.6124  top1_acc: 0.7500  top5_acc: 1.0000  loss_cls: 0.6124\r\n"
     ]
    },
    {
     "name": "stdout",
     "output_type": "stream",
     "text": [
      "06/13 02:45:08 - mmengine - \u001b[4m\u001b[97mINFO\u001b[0m - Epoch(train) [3][  340/11818]  lr: 1.0000e-05  eta: 7:35:34  time: 1.2244  data_time: 0.8621  memory: 1526  grad_norm: 18.4999  loss: 0.5817  top1_acc: 0.7500  top5_acc: 1.0000  loss_cls: 0.5817\r\n"
     ]
    },
    {
     "name": "stdout",
     "output_type": "stream",
     "text": [
      "06/13 02:45:31 - mmengine - \u001b[4m\u001b[97mINFO\u001b[0m - Epoch(train) [3][  360/11818]  lr: 1.0000e-05  eta: 7:35:10  time: 1.1331  data_time: 0.7714  memory: 1526  grad_norm: 16.7670  loss: 0.5075  top1_acc: 1.0000  top5_acc: 1.0000  loss_cls: 0.5075\r\n"
     ]
    },
    {
     "name": "stdout",
     "output_type": "stream",
     "text": [
      "06/13 02:45:37 - mmengine - \u001b[4m\u001b[97mINFO\u001b[0m - Exp name: config_20230612_184603\r\n"
     ]
    },
    {
     "name": "stdout",
     "output_type": "stream",
     "text": [
      "06/13 02:45:58 - mmengine - \u001b[4m\u001b[97mINFO\u001b[0m - Epoch(train) [3][  380/11818]  lr: 1.0000e-05  eta: 7:34:50  time: 1.3349  data_time: 0.9733  memory: 1526  grad_norm: 16.6325  loss: 0.3985  top1_acc: 1.0000  top5_acc: 1.0000  loss_cls: 0.3985\r\n"
     ]
    },
    {
     "name": "stdout",
     "output_type": "stream",
     "text": [
      "06/13 02:46:20 - mmengine - \u001b[4m\u001b[97mINFO\u001b[0m - Epoch(train) [3][  400/11818]  lr: 1.0000e-05  eta: 7:34:25  time: 1.1336  data_time: 0.7718  memory: 1526  grad_norm: 15.5677  loss: 0.4982  top1_acc: 0.7500  top5_acc: 1.0000  loss_cls: 0.4982\r\n"
     ]
    },
    {
     "name": "stdout",
     "output_type": "stream",
     "text": [
      "06/13 02:46:42 - mmengine - \u001b[4m\u001b[97mINFO\u001b[0m - Epoch(train) [3][  420/11818]  lr: 1.0000e-05  eta: 7:34:00  time: 1.0745  data_time: 0.7123  memory: 1526  grad_norm: 13.1240  loss: 0.3927  top1_acc: 1.0000  top5_acc: 1.0000  loss_cls: 0.3927\r\n"
     ]
    },
    {
     "name": "stdout",
     "output_type": "stream",
     "text": [
      "06/13 02:47:06 - mmengine - \u001b[4m\u001b[97mINFO\u001b[0m - Epoch(train) [3][  440/11818]  lr: 1.0000e-05  eta: 7:33:37  time: 1.2018  data_time: 0.8396  memory: 1526  grad_norm: 16.6589  loss: 0.5681  top1_acc: 0.7500  top5_acc: 1.0000  loss_cls: 0.5681\r\n"
     ]
    },
    {
     "name": "stdout",
     "output_type": "stream",
     "text": [
      "06/13 02:47:30 - mmengine - \u001b[4m\u001b[97mINFO\u001b[0m - Epoch(train) [3][  460/11818]  lr: 1.0000e-05  eta: 7:33:14  time: 1.1925  data_time: 0.8314  memory: 1526  grad_norm: 15.9924  loss: 0.4500  top1_acc: 1.0000  top5_acc: 1.0000  loss_cls: 0.4500\r\n"
     ]
    },
    {
     "name": "stdout",
     "output_type": "stream",
     "text": [
      "06/13 02:47:54 - mmengine - \u001b[4m\u001b[97mINFO\u001b[0m - Epoch(train) [3][  480/11818]  lr: 1.0000e-05  eta: 7:32:51  time: 1.2074  data_time: 0.8462  memory: 1526  grad_norm: 16.4226  loss: 0.6744  top1_acc: 1.0000  top5_acc: 1.0000  loss_cls: 0.6744\r\n"
     ]
    },
    {
     "name": "stdout",
     "output_type": "stream",
     "text": [
      "06/13 02:48:16 - mmengine - \u001b[4m\u001b[97mINFO\u001b[0m - Epoch(train) [3][  500/11818]  lr: 1.0000e-05  eta: 7:32:27  time: 1.1192  data_time: 0.7582  memory: 1526  grad_norm: 12.5697  loss: 0.3276  top1_acc: 1.0000  top5_acc: 1.0000  loss_cls: 0.3276\r\n"
     ]
    },
    {
     "name": "stdout",
     "output_type": "stream",
     "text": [
      "06/13 02:48:40 - mmengine - \u001b[4m\u001b[97mINFO\u001b[0m - Epoch(train) [3][  520/11818]  lr: 1.0000e-05  eta: 7:32:03  time: 1.1827  data_time: 0.8170  memory: 1526  grad_norm: 16.8859  loss: 0.5509  top1_acc: 0.5000  top5_acc: 1.0000  loss_cls: 0.5509\r\n"
     ]
    },
    {
     "name": "stdout",
     "output_type": "stream",
     "text": [
      "06/13 02:49:04 - mmengine - \u001b[4m\u001b[97mINFO\u001b[0m - Epoch(train) [3][  540/11818]  lr: 1.0000e-05  eta: 7:31:41  time: 1.2111  data_time: 0.8499  memory: 1526  grad_norm: 16.8830  loss: 0.5022  top1_acc: 1.0000  top5_acc: 1.0000  loss_cls: 0.5022\r\n"
     ]
    },
    {
     "name": "stdout",
     "output_type": "stream",
     "text": [
      "06/13 02:49:28 - mmengine - \u001b[4m\u001b[97mINFO\u001b[0m - Epoch(train) [3][  560/11818]  lr: 1.0000e-05  eta: 7:31:18  time: 1.1963  data_time: 0.8336  memory: 1526  grad_norm: 13.6060  loss: 0.3589  top1_acc: 0.5000  top5_acc: 1.0000  loss_cls: 0.3589\r\n"
     ]
    },
    {
     "name": "stdout",
     "output_type": "stream",
     "text": [
      "06/13 02:49:50 - mmengine - \u001b[4m\u001b[97mINFO\u001b[0m - Epoch(train) [3][  580/11818]  lr: 1.0000e-05  eta: 7:30:53  time: 1.1076  data_time: 0.7455  memory: 1526  grad_norm: 15.6562  loss: 0.5186  top1_acc: 1.0000  top5_acc: 1.0000  loss_cls: 0.5186\r\n"
     ]
    },
    {
     "name": "stdout",
     "output_type": "stream",
     "text": [
      "06/13 02:50:16 - mmengine - \u001b[4m\u001b[97mINFO\u001b[0m - Epoch(train) [3][  600/11818]  lr: 1.0000e-05  eta: 7:30:31  time: 1.2677  data_time: 0.9060  memory: 1526  grad_norm: 10.9882  loss: 0.2832  top1_acc: 1.0000  top5_acc: 1.0000  loss_cls: 0.2832\r\n"
     ]
    },
    {
     "name": "stdout",
     "output_type": "stream",
     "text": [
      "06/13 02:50:37 - mmengine - \u001b[4m\u001b[97mINFO\u001b[0m - Epoch(train) [3][  620/11818]  lr: 1.0000e-05  eta: 7:30:06  time: 1.0653  data_time: 0.7031  memory: 1526  grad_norm: 15.3813  loss: 0.4221  top1_acc: 0.7500  top5_acc: 0.7500  loss_cls: 0.4221\r\n"
     ]
    },
    {
     "name": "stdout",
     "output_type": "stream",
     "text": [
      "06/13 02:51:03 - mmengine - \u001b[4m\u001b[97mINFO\u001b[0m - Epoch(train) [3][  640/11818]  lr: 1.0000e-05  eta: 7:29:45  time: 1.3231  data_time: 0.9607  memory: 1526  grad_norm: 17.0030  loss: 0.5732  top1_acc: 0.7500  top5_acc: 1.0000  loss_cls: 0.5732\r\n"
     ]
    },
    {
     "name": "stdout",
     "output_type": "stream",
     "text": [
      "06/13 02:51:30 - mmengine - \u001b[4m\u001b[97mINFO\u001b[0m - Epoch(train) [3][  660/11818]  lr: 1.0000e-05  eta: 7:29:24  time: 1.3087  data_time: 0.9464  memory: 1526  grad_norm: 19.1019  loss: 0.5455  top1_acc: 0.7500  top5_acc: 1.0000  loss_cls: 0.5455\r\n"
     ]
    },
    {
     "name": "stdout",
     "output_type": "stream",
     "text": [
      "06/13 02:51:56 - mmengine - \u001b[4m\u001b[97mINFO\u001b[0m - Epoch(train) [3][  680/11818]  lr: 1.0000e-05  eta: 7:29:03  time: 1.3051  data_time: 0.9425  memory: 1526  grad_norm: 16.9525  loss: 0.5131  top1_acc: 1.0000  top5_acc: 1.0000  loss_cls: 0.5131\r\n"
     ]
    },
    {
     "name": "stdout",
     "output_type": "stream",
     "text": [
      "06/13 02:52:18 - mmengine - \u001b[4m\u001b[97mINFO\u001b[0m - Epoch(train) [3][  700/11818]  lr: 1.0000e-05  eta: 7:28:39  time: 1.1354  data_time: 0.7731  memory: 1526  grad_norm: 12.8559  loss: 0.3893  top1_acc: 1.0000  top5_acc: 1.0000  loss_cls: 0.3893\r\n"
     ]
    },
    {
     "name": "stdout",
     "output_type": "stream",
     "text": [
      "06/13 02:52:40 - mmengine - \u001b[4m\u001b[97mINFO\u001b[0m - Epoch(train) [3][  720/11818]  lr: 1.0000e-05  eta: 7:28:14  time: 1.1032  data_time: 0.7417  memory: 1526  grad_norm: 12.9800  loss: 0.3536  top1_acc: 0.7500  top5_acc: 1.0000  loss_cls: 0.3536\r\n"
     ]
    },
    {
     "name": "stdout",
     "output_type": "stream",
     "text": [
      "06/13 02:53:04 - mmengine - \u001b[4m\u001b[97mINFO\u001b[0m - Epoch(train) [3][  740/11818]  lr: 1.0000e-05  eta: 7:27:51  time: 1.1789  data_time: 0.8146  memory: 1526  grad_norm: 16.8666  loss: 0.4920  top1_acc: 0.7500  top5_acc: 1.0000  loss_cls: 0.4920\r\n"
     ]
    },
    {
     "name": "stdout",
     "output_type": "stream",
     "text": [
      "06/13 02:53:26 - mmengine - \u001b[4m\u001b[97mINFO\u001b[0m - Epoch(train) [3][  760/11818]  lr: 1.0000e-05  eta: 7:27:26  time: 1.0794  data_time: 0.7176  memory: 1526  grad_norm: 17.7720  loss: 0.5312  top1_acc: 1.0000  top5_acc: 1.0000  loss_cls: 0.5312\r\n"
     ]
    },
    {
     "name": "stdout",
     "output_type": "stream",
     "text": [
      "06/13 02:53:50 - mmengine - \u001b[4m\u001b[97mINFO\u001b[0m - Epoch(train) [3][  780/11818]  lr: 1.0000e-05  eta: 7:27:03  time: 1.2090  data_time: 0.8481  memory: 1526  grad_norm: 17.5680  loss: 0.5728  top1_acc: 1.0000  top5_acc: 1.0000  loss_cls: 0.5728\r\n"
     ]
    },
    {
     "name": "stdout",
     "output_type": "stream",
     "text": [
      "06/13 02:54:13 - mmengine - \u001b[4m\u001b[97mINFO\u001b[0m - Epoch(train) [3][  800/11818]  lr: 1.0000e-05  eta: 7:26:39  time: 1.1810  data_time: 0.8202  memory: 1526  grad_norm: 16.9386  loss: 0.5081  top1_acc: 0.7500  top5_acc: 1.0000  loss_cls: 0.5081\r\n"
     ]
    },
    {
     "name": "stdout",
     "output_type": "stream",
     "text": [
      "06/13 02:54:38 - mmengine - \u001b[4m\u001b[97mINFO\u001b[0m - Epoch(train) [3][  820/11818]  lr: 1.0000e-05  eta: 7:26:17  time: 1.2301  data_time: 0.8679  memory: 1526  grad_norm: 15.5462  loss: 0.4692  top1_acc: 0.7500  top5_acc: 1.0000  loss_cls: 0.4692\r\n"
     ]
    },
    {
     "name": "stdout",
     "output_type": "stream",
     "text": [
      "06/13 02:55:01 - mmengine - \u001b[4m\u001b[97mINFO\u001b[0m - Epoch(train) [3][  840/11818]  lr: 1.0000e-05  eta: 7:25:53  time: 1.1614  data_time: 0.7993  memory: 1526  grad_norm: 16.2479  loss: 0.4234  top1_acc: 1.0000  top5_acc: 1.0000  loss_cls: 0.4234\r\n"
     ]
    },
    {
     "name": "stdout",
     "output_type": "stream",
     "text": [
      "06/13 02:55:28 - mmengine - \u001b[4m\u001b[97mINFO\u001b[0m - Epoch(train) [3][  860/11818]  lr: 1.0000e-05  eta: 7:25:33  time: 1.3324  data_time: 0.9697  memory: 1526  grad_norm: 14.4547  loss: 0.4219  top1_acc: 0.7500  top5_acc: 1.0000  loss_cls: 0.4219\r\n"
     ]
    },
    {
     "name": "stdout",
     "output_type": "stream",
     "text": [
      "06/13 02:55:50 - mmengine - \u001b[4m\u001b[97mINFO\u001b[0m - Epoch(train) [3][  880/11818]  lr: 1.0000e-05  eta: 7:25:08  time: 1.1003  data_time: 0.7390  memory: 1526  grad_norm: 17.8272  loss: 0.5863  top1_acc: 0.7500  top5_acc: 1.0000  loss_cls: 0.5863\r\n"
     ]
    },
    {
     "name": "stdout",
     "output_type": "stream",
     "text": [
      "06/13 02:56:15 - mmengine - \u001b[4m\u001b[97mINFO\u001b[0m - Epoch(train) [3][  900/11818]  lr: 1.0000e-05  eta: 7:24:46  time: 1.2733  data_time: 0.9112  memory: 1526  grad_norm: 19.2458  loss: 0.6417  top1_acc: 0.5000  top5_acc: 1.0000  loss_cls: 0.6417\r\n"
     ]
    },
    {
     "name": "stdout",
     "output_type": "stream",
     "text": [
      "06/13 02:56:36 - mmengine - \u001b[4m\u001b[97mINFO\u001b[0m - Epoch(train) [3][  920/11818]  lr: 1.0000e-05  eta: 7:24:20  time: 1.0220  data_time: 0.6596  memory: 1526  grad_norm: 16.7568  loss: 0.5750  top1_acc: 1.0000  top5_acc: 1.0000  loss_cls: 0.5750\r\n"
     ]
    },
    {
     "name": "stdout",
     "output_type": "stream",
     "text": [
      "06/13 02:57:02 - mmengine - \u001b[4m\u001b[97mINFO\u001b[0m - Epoch(train) [3][  940/11818]  lr: 1.0000e-05  eta: 7:23:59  time: 1.3206  data_time: 0.9579  memory: 1526  grad_norm: 19.2470  loss: 0.5432  top1_acc: 0.5000  top5_acc: 1.0000  loss_cls: 0.5432\r\n"
     ]
    },
    {
     "name": "stdout",
     "output_type": "stream",
     "text": [
      "06/13 02:57:25 - mmengine - \u001b[4m\u001b[97mINFO\u001b[0m - Epoch(train) [3][  960/11818]  lr: 1.0000e-05  eta: 7:23:35  time: 1.1260  data_time: 0.7654  memory: 1526  grad_norm: 16.3368  loss: 0.5760  top1_acc: 0.5000  top5_acc: 0.7500  loss_cls: 0.5760\r\n"
     ]
    },
    {
     "name": "stdout",
     "output_type": "stream",
     "text": [
      "06/13 02:57:48 - mmengine - \u001b[4m\u001b[97mINFO\u001b[0m - Epoch(train) [3][  980/11818]  lr: 1.0000e-05  eta: 7:23:11  time: 1.1394  data_time: 0.7783  memory: 1526  grad_norm: 20.2796  loss: 0.6304  top1_acc: 0.5000  top5_acc: 0.7500  loss_cls: 0.6304\r\n"
     ]
    },
    {
     "name": "stdout",
     "output_type": "stream",
     "text": [
      "06/13 02:58:09 - mmengine - \u001b[4m\u001b[97mINFO\u001b[0m - Epoch(train) [3][ 1000/11818]  lr: 1.0000e-05  eta: 7:22:45  time: 1.0645  data_time: 0.7037  memory: 1526  grad_norm: 13.6475  loss: 0.3123  top1_acc: 1.0000  top5_acc: 1.0000  loss_cls: 0.3123\r\n"
     ]
    },
    {
     "name": "stdout",
     "output_type": "stream",
     "text": [
      "06/13 02:58:34 - mmengine - \u001b[4m\u001b[97mINFO\u001b[0m - Epoch(train) [3][ 1020/11818]  lr: 1.0000e-05  eta: 7:22:24  time: 1.2786  data_time: 0.9185  memory: 1526  grad_norm: 20.5744  loss: 0.6325  top1_acc: 0.7500  top5_acc: 1.0000  loss_cls: 0.6325\r\n"
     ]
    },
    {
     "name": "stdout",
     "output_type": "stream",
     "text": [
      "06/13 02:58:58 - mmengine - \u001b[4m\u001b[97mINFO\u001b[0m - Epoch(train) [3][ 1040/11818]  lr: 1.0000e-05  eta: 7:22:01  time: 1.1915  data_time: 0.8294  memory: 1526  grad_norm: 15.9436  loss: 0.6149  top1_acc: 0.7500  top5_acc: 1.0000  loss_cls: 0.6149\r\n"
     ]
    },
    {
     "name": "stdout",
     "output_type": "stream",
     "text": [
      "06/13 02:59:23 - mmengine - \u001b[4m\u001b[97mINFO\u001b[0m - Epoch(train) [3][ 1060/11818]  lr: 1.0000e-05  eta: 7:21:38  time: 1.2177  data_time: 0.8552  memory: 1526  grad_norm: 20.5326  loss: 0.5967  top1_acc: 0.7500  top5_acc: 1.0000  loss_cls: 0.5967\r\n"
     ]
    },
    {
     "name": "stdout",
     "output_type": "stream",
     "text": [
      "06/13 02:59:49 - mmengine - \u001b[4m\u001b[97mINFO\u001b[0m - Epoch(train) [3][ 1080/11818]  lr: 1.0000e-05  eta: 7:21:17  time: 1.3126  data_time: 0.9483  memory: 1526  grad_norm: 20.5720  loss: 0.7874  top1_acc: 1.0000  top5_acc: 1.0000  loss_cls: 0.7874\r\n"
     ]
    },
    {
     "name": "stdout",
     "output_type": "stream",
     "text": [
      "06/13 03:00:13 - mmengine - \u001b[4m\u001b[97mINFO\u001b[0m - Epoch(train) [3][ 1100/11818]  lr: 1.0000e-05  eta: 7:20:54  time: 1.1867  data_time: 0.8227  memory: 1526  grad_norm: 17.3741  loss: 0.4647  top1_acc: 0.7500  top5_acc: 1.0000  loss_cls: 0.4647\r\n"
     ]
    },
    {
     "name": "stdout",
     "output_type": "stream",
     "text": [
      "06/13 03:00:38 - mmengine - \u001b[4m\u001b[97mINFO\u001b[0m - Epoch(train) [3][ 1120/11818]  lr: 1.0000e-05  eta: 7:20:32  time: 1.2547  data_time: 0.8946  memory: 1526  grad_norm: 14.2103  loss: 0.3771  top1_acc: 1.0000  top5_acc: 1.0000  loss_cls: 0.3771\r\n"
     ]
    },
    {
     "name": "stdout",
     "output_type": "stream",
     "text": [
      "06/13 03:01:02 - mmengine - \u001b[4m\u001b[97mINFO\u001b[0m - Epoch(train) [3][ 1140/11818]  lr: 1.0000e-05  eta: 7:20:09  time: 1.2294  data_time: 0.8669  memory: 1526  grad_norm: 19.1908  loss: 0.5716  top1_acc: 1.0000  top5_acc: 1.0000  loss_cls: 0.5716\r\n"
     ]
    },
    {
     "name": "stdout",
     "output_type": "stream",
     "text": [
      "06/13 03:01:29 - mmengine - \u001b[4m\u001b[97mINFO\u001b[0m - Epoch(train) [3][ 1160/11818]  lr: 1.0000e-05  eta: 7:19:49  time: 1.3246  data_time: 0.9629  memory: 1526  grad_norm: 16.8417  loss: 0.5527  top1_acc: 0.7500  top5_acc: 1.0000  loss_cls: 0.5527\r\n"
     ]
    },
    {
     "name": "stdout",
     "output_type": "stream",
     "text": [
      "06/13 03:01:53 - mmengine - \u001b[4m\u001b[97mINFO\u001b[0m - Epoch(train) [3][ 1180/11818]  lr: 1.0000e-05  eta: 7:19:26  time: 1.2103  data_time: 0.8484  memory: 1526  grad_norm: 15.3832  loss: 0.4444  top1_acc: 0.7500  top5_acc: 1.0000  loss_cls: 0.4444\r\n"
     ]
    },
    {
     "name": "stdout",
     "output_type": "stream",
     "text": [
      "06/13 03:02:13 - mmengine - \u001b[4m\u001b[97mINFO\u001b[0m - Epoch(train) [3][ 1200/11818]  lr: 1.0000e-05  eta: 7:19:00  time: 1.0203  data_time: 0.6597  memory: 1526  grad_norm: 20.4152  loss: 0.6266  top1_acc: 0.7500  top5_acc: 1.0000  loss_cls: 0.6266\r\n"
     ]
    },
    {
     "name": "stdout",
     "output_type": "stream",
     "text": [
      "06/13 03:02:37 - mmengine - \u001b[4m\u001b[97mINFO\u001b[0m - Epoch(train) [3][ 1220/11818]  lr: 1.0000e-05  eta: 7:18:36  time: 1.1819  data_time: 0.8205  memory: 1526  grad_norm: 15.5204  loss: 0.5081  top1_acc: 0.7500  top5_acc: 1.0000  loss_cls: 0.5081\r\n"
     ]
    },
    {
     "name": "stdout",
     "output_type": "stream",
     "text": [
      "06/13 03:02:58 - mmengine - \u001b[4m\u001b[97mINFO\u001b[0m - Epoch(train) [3][ 1240/11818]  lr: 1.0000e-05  eta: 7:18:11  time: 1.0540  data_time: 0.6925  memory: 1526  grad_norm: 16.3140  loss: 0.5220  top1_acc: 0.7500  top5_acc: 1.0000  loss_cls: 0.5220\r\n"
     ]
    },
    {
     "name": "stdout",
     "output_type": "stream",
     "text": [
      "06/13 03:03:24 - mmengine - \u001b[4m\u001b[97mINFO\u001b[0m - Epoch(train) [3][ 1260/11818]  lr: 1.0000e-05  eta: 7:17:49  time: 1.2814  data_time: 0.9199  memory: 1526  grad_norm: 18.6142  loss: 0.5949  top1_acc: 0.7500  top5_acc: 1.0000  loss_cls: 0.5949\r\n"
     ]
    },
    {
     "name": "stdout",
     "output_type": "stream",
     "text": [
      "06/13 03:03:46 - mmengine - \u001b[4m\u001b[97mINFO\u001b[0m - Epoch(train) [3][ 1280/11818]  lr: 1.0000e-05  eta: 7:17:24  time: 1.0893  data_time: 0.7269  memory: 1526  grad_norm: 20.8293  loss: 0.7419  top1_acc: 1.0000  top5_acc: 1.0000  loss_cls: 0.7419\r\n"
     ]
    },
    {
     "name": "stdout",
     "output_type": "stream",
     "text": [
      "06/13 03:04:08 - mmengine - \u001b[4m\u001b[97mINFO\u001b[0m - Epoch(train) [3][ 1300/11818]  lr: 1.0000e-05  eta: 7:17:00  time: 1.1227  data_time: 0.7607  memory: 1526  grad_norm: 14.5892  loss: 0.4299  top1_acc: 0.7500  top5_acc: 1.0000  loss_cls: 0.4299\r\n"
     ]
    },
    {
     "name": "stdout",
     "output_type": "stream",
     "text": [
      "06/13 03:04:32 - mmengine - \u001b[4m\u001b[97mINFO\u001b[0m - Epoch(train) [3][ 1320/11818]  lr: 1.0000e-05  eta: 7:16:36  time: 1.1806  data_time: 0.8195  memory: 1526  grad_norm: 17.8218  loss: 0.5135  top1_acc: 1.0000  top5_acc: 1.0000  loss_cls: 0.5135\r\n"
     ]
    },
    {
     "name": "stdout",
     "output_type": "stream",
     "text": [
      "06/13 03:04:52 - mmengine - \u001b[4m\u001b[97mINFO\u001b[0m - Epoch(train) [3][ 1340/11818]  lr: 1.0000e-05  eta: 7:16:10  time: 1.0215  data_time: 0.6603  memory: 1526  grad_norm: 16.6107  loss: 0.4567  top1_acc: 1.0000  top5_acc: 1.0000  loss_cls: 0.4567\r\n"
     ]
    },
    {
     "name": "stdout",
     "output_type": "stream",
     "text": [
      "06/13 03:05:15 - mmengine - \u001b[4m\u001b[97mINFO\u001b[0m - Epoch(train) [3][ 1360/11818]  lr: 1.0000e-05  eta: 7:15:46  time: 1.1337  data_time: 0.7726  memory: 1526  grad_norm: 17.4339  loss: 0.4687  top1_acc: 0.7500  top5_acc: 1.0000  loss_cls: 0.4687\r\n"
     ]
    },
    {
     "name": "stdout",
     "output_type": "stream",
     "text": [
      "06/13 03:05:20 - mmengine - \u001b[4m\u001b[97mINFO\u001b[0m - Exp name: config_20230612_184603\r\n"
     ]
    },
    {
     "name": "stdout",
     "output_type": "stream",
     "text": [
      "06/13 03:05:37 - mmengine - \u001b[4m\u001b[97mINFO\u001b[0m - Epoch(train) [3][ 1380/11818]  lr: 1.0000e-05  eta: 7:15:21  time: 1.1047  data_time: 0.7425  memory: 1526  grad_norm: 15.7419  loss: 0.5219  top1_acc: 0.7500  top5_acc: 1.0000  loss_cls: 0.5219\r\n"
     ]
    },
    {
     "name": "stdout",
     "output_type": "stream",
     "text": [
      "06/13 03:06:02 - mmengine - \u001b[4m\u001b[97mINFO\u001b[0m - Epoch(train) [3][ 1400/11818]  lr: 1.0000e-05  eta: 7:14:59  time: 1.2572  data_time: 0.8939  memory: 1526  grad_norm: 16.0503  loss: 0.4712  top1_acc: 1.0000  top5_acc: 1.0000  loss_cls: 0.4712\r\n"
     ]
    },
    {
     "name": "stdout",
     "output_type": "stream",
     "text": [
      "06/13 03:06:29 - mmengine - \u001b[4m\u001b[97mINFO\u001b[0m - Epoch(train) [3][ 1420/11818]  lr: 1.0000e-05  eta: 7:14:39  time: 1.3589  data_time: 0.9954  memory: 1526  grad_norm: 15.1834  loss: 0.3539  top1_acc: 1.0000  top5_acc: 1.0000  loss_cls: 0.3539\r\n"
     ]
    },
    {
     "name": "stdout",
     "output_type": "stream",
     "text": [
      "06/13 03:06:51 - mmengine - \u001b[4m\u001b[97mINFO\u001b[0m - Epoch(train) [3][ 1440/11818]  lr: 1.0000e-05  eta: 7:14:14  time: 1.1125  data_time: 0.7497  memory: 1526  grad_norm: 15.8430  loss: 0.4695  top1_acc: 1.0000  top5_acc: 1.0000  loss_cls: 0.4695\r\n"
     ]
    },
    {
     "name": "stdout",
     "output_type": "stream",
     "text": [
      "06/13 03:07:15 - mmengine - \u001b[4m\u001b[97mINFO\u001b[0m - Epoch(train) [3][ 1460/11818]  lr: 1.0000e-05  eta: 7:13:51  time: 1.1547  data_time: 0.7923  memory: 1526  grad_norm: 15.3844  loss: 0.4981  top1_acc: 0.7500  top5_acc: 1.0000  loss_cls: 0.4981\r\n"
     ]
    },
    {
     "name": "stdout",
     "output_type": "stream",
     "text": [
      "06/13 03:07:38 - mmengine - \u001b[4m\u001b[97mINFO\u001b[0m - Epoch(train) [3][ 1480/11818]  lr: 1.0000e-05  eta: 7:13:27  time: 1.1693  data_time: 0.8068  memory: 1526  grad_norm: 16.2745  loss: 0.5797  top1_acc: 0.7500  top5_acc: 1.0000  loss_cls: 0.5797\r\n"
     ]
    },
    {
     "name": "stdout",
     "output_type": "stream",
     "text": [
      "06/13 03:08:03 - mmengine - \u001b[4m\u001b[97mINFO\u001b[0m - Epoch(train) [3][ 1500/11818]  lr: 1.0000e-05  eta: 7:13:05  time: 1.2393  data_time: 0.8791  memory: 1526  grad_norm: 19.1820  loss: 0.6830  top1_acc: 0.7500  top5_acc: 1.0000  loss_cls: 0.6830\r\n"
     ]
    },
    {
     "name": "stdout",
     "output_type": "stream",
     "text": [
      "06/13 03:08:27 - mmengine - \u001b[4m\u001b[97mINFO\u001b[0m - Epoch(train) [3][ 1520/11818]  lr: 1.0000e-05  eta: 7:12:42  time: 1.2245  data_time: 0.8634  memory: 1526  grad_norm: 21.0656  loss: 0.6343  top1_acc: 0.7500  top5_acc: 1.0000  loss_cls: 0.6343\r\n"
     ]
    },
    {
     "name": "stdout",
     "output_type": "stream",
     "text": [
      "06/13 03:08:52 - mmengine - \u001b[4m\u001b[97mINFO\u001b[0m - Epoch(train) [3][ 1540/11818]  lr: 1.0000e-05  eta: 7:12:20  time: 1.2545  data_time: 0.8921  memory: 1526  grad_norm: 17.5508  loss: 0.4806  top1_acc: 0.7500  top5_acc: 1.0000  loss_cls: 0.4806\r\n"
     ]
    },
    {
     "name": "stdout",
     "output_type": "stream",
     "text": [
      "06/13 03:09:13 - mmengine - \u001b[4m\u001b[97mINFO\u001b[0m - Epoch(train) [3][ 1560/11818]  lr: 1.0000e-05  eta: 7:11:54  time: 1.0255  data_time: 0.6639  memory: 1526  grad_norm: 16.1510  loss: 0.4108  top1_acc: 1.0000  top5_acc: 1.0000  loss_cls: 0.4108\r\n"
     ]
    },
    {
     "name": "stdout",
     "output_type": "stream",
     "text": [
      "06/13 03:09:36 - mmengine - \u001b[4m\u001b[97mINFO\u001b[0m - Epoch(train) [3][ 1580/11818]  lr: 1.0000e-05  eta: 7:11:30  time: 1.1633  data_time: 0.8034  memory: 1526  grad_norm: 14.4903  loss: 0.4228  top1_acc: 1.0000  top5_acc: 1.0000  loss_cls: 0.4228\r\n"
     ]
    },
    {
     "name": "stdout",
     "output_type": "stream",
     "text": [
      "06/13 03:10:01 - mmengine - \u001b[4m\u001b[97mINFO\u001b[0m - Epoch(train) [3][ 1600/11818]  lr: 1.0000e-05  eta: 7:11:08  time: 1.2536  data_time: 0.8915  memory: 1526  grad_norm: 15.0334  loss: 0.4808  top1_acc: 0.7500  top5_acc: 0.7500  loss_cls: 0.4808\r\n"
     ]
    },
    {
     "name": "stdout",
     "output_type": "stream",
     "text": [
      "06/13 03:10:26 - mmengine - \u001b[4m\u001b[97mINFO\u001b[0m - Epoch(train) [3][ 1620/11818]  lr: 1.0000e-05  eta: 7:10:46  time: 1.2372  data_time: 0.8753  memory: 1526  grad_norm: 13.1575  loss: 0.3521  top1_acc: 1.0000  top5_acc: 1.0000  loss_cls: 0.3521\r\n"
     ]
    },
    {
     "name": "stdout",
     "output_type": "stream",
     "text": [
      "06/13 03:10:49 - mmengine - \u001b[4m\u001b[97mINFO\u001b[0m - Epoch(train) [3][ 1640/11818]  lr: 1.0000e-05  eta: 7:10:22  time: 1.1621  data_time: 0.8009  memory: 1526  grad_norm: 16.5261  loss: 0.4325  top1_acc: 1.0000  top5_acc: 1.0000  loss_cls: 0.4325\r\n"
     ]
    },
    {
     "name": "stdout",
     "output_type": "stream",
     "text": [
      "06/13 03:11:14 - mmengine - \u001b[4m\u001b[97mINFO\u001b[0m - Epoch(train) [3][ 1660/11818]  lr: 1.0000e-05  eta: 7:10:00  time: 1.2215  data_time: 0.8605  memory: 1526  grad_norm: 17.6574  loss: 0.4813  top1_acc: 1.0000  top5_acc: 1.0000  loss_cls: 0.4813\r\n"
     ]
    },
    {
     "name": "stdout",
     "output_type": "stream",
     "text": [
      "06/13 03:11:40 - mmengine - \u001b[4m\u001b[97mINFO\u001b[0m - Epoch(train) [3][ 1680/11818]  lr: 1.0000e-05  eta: 7:09:38  time: 1.2976  data_time: 0.9373  memory: 1526  grad_norm: 14.9622  loss: 0.4785  top1_acc: 1.0000  top5_acc: 1.0000  loss_cls: 0.4785\r\n"
     ]
    },
    {
     "name": "stdout",
     "output_type": "stream",
     "text": [
      "06/13 03:12:04 - mmengine - \u001b[4m\u001b[97mINFO\u001b[0m - Epoch(train) [3][ 1700/11818]  lr: 1.0000e-05  eta: 7:09:16  time: 1.2491  data_time: 0.8882  memory: 1526  grad_norm: 13.3457  loss: 0.3657  top1_acc: 1.0000  top5_acc: 1.0000  loss_cls: 0.3657\r\n"
     ]
    },
    {
     "name": "stdout",
     "output_type": "stream",
     "text": [
      "06/13 03:12:26 - mmengine - \u001b[4m\u001b[97mINFO\u001b[0m - Epoch(train) [3][ 1720/11818]  lr: 1.0000e-05  eta: 7:08:51  time: 1.0699  data_time: 0.7082  memory: 1526  grad_norm: 13.7843  loss: 0.4266  top1_acc: 1.0000  top5_acc: 1.0000  loss_cls: 0.4266\r\n"
     ]
    },
    {
     "name": "stdout",
     "output_type": "stream",
     "text": [
      "06/13 03:12:48 - mmengine - \u001b[4m\u001b[97mINFO\u001b[0m - Epoch(train) [3][ 1740/11818]  lr: 1.0000e-05  eta: 7:08:26  time: 1.0905  data_time: 0.7300  memory: 1526  grad_norm: 16.5273  loss: 0.5060  top1_acc: 0.7500  top5_acc: 1.0000  loss_cls: 0.5060\r\n"
     ]
    },
    {
     "name": "stdout",
     "output_type": "stream",
     "text": [
      "06/13 03:13:12 - mmengine - \u001b[4m\u001b[97mINFO\u001b[0m - Epoch(train) [3][ 1760/11818]  lr: 1.0000e-05  eta: 7:08:03  time: 1.2267  data_time: 0.8638  memory: 1526  grad_norm: 15.6716  loss: 0.4382  top1_acc: 1.0000  top5_acc: 1.0000  loss_cls: 0.4382\r\n"
     ]
    },
    {
     "name": "stdout",
     "output_type": "stream",
     "text": [
      "06/13 03:13:38 - mmengine - \u001b[4m\u001b[97mINFO\u001b[0m - Epoch(train) [3][ 1780/11818]  lr: 1.0000e-05  eta: 7:07:42  time: 1.2958  data_time: 0.9312  memory: 1526  grad_norm: 18.5525  loss: 0.7510  top1_acc: 0.7500  top5_acc: 1.0000  loss_cls: 0.7510\r\n"
     ]
    },
    {
     "name": "stdout",
     "output_type": "stream",
     "text": [
      "06/13 03:14:05 - mmengine - \u001b[4m\u001b[97mINFO\u001b[0m - Epoch(train) [3][ 1800/11818]  lr: 1.0000e-05  eta: 7:07:21  time: 1.3404  data_time: 0.9774  memory: 1526  grad_norm: 16.3349  loss: 0.4938  top1_acc: 0.7500  top5_acc: 1.0000  loss_cls: 0.4938\r\n"
     ]
    },
    {
     "name": "stdout",
     "output_type": "stream",
     "text": [
      "06/13 03:14:28 - mmengine - \u001b[4m\u001b[97mINFO\u001b[0m - Epoch(train) [3][ 1820/11818]  lr: 1.0000e-05  eta: 7:06:57  time: 1.1472  data_time: 0.7846  memory: 1526  grad_norm: 13.0640  loss: 0.3608  top1_acc: 1.0000  top5_acc: 1.0000  loss_cls: 0.3608\r\n"
     ]
    },
    {
     "name": "stdout",
     "output_type": "stream",
     "text": [
      "06/13 03:14:48 - mmengine - \u001b[4m\u001b[97mINFO\u001b[0m - Epoch(train) [3][ 1840/11818]  lr: 1.0000e-05  eta: 7:06:31  time: 0.9933  data_time: 0.6312  memory: 1526  grad_norm: 15.0894  loss: 0.3813  top1_acc: 0.7500  top5_acc: 1.0000  loss_cls: 0.3813\r\n"
     ]
    },
    {
     "name": "stdout",
     "output_type": "stream",
     "text": [
      "06/13 03:15:12 - mmengine - \u001b[4m\u001b[97mINFO\u001b[0m - Epoch(train) [3][ 1860/11818]  lr: 1.0000e-05  eta: 7:06:08  time: 1.2253  data_time: 0.8644  memory: 1526  grad_norm: 14.9359  loss: 0.4599  top1_acc: 0.7500  top5_acc: 1.0000  loss_cls: 0.4599\r\n"
     ]
    },
    {
     "name": "stdout",
     "output_type": "stream",
     "text": [
      "06/13 03:15:37 - mmengine - \u001b[4m\u001b[97mINFO\u001b[0m - Epoch(train) [3][ 1880/11818]  lr: 1.0000e-05  eta: 7:05:45  time: 1.2112  data_time: 0.8509  memory: 1526  grad_norm: 15.2165  loss: 0.5301  top1_acc: 0.7500  top5_acc: 1.0000  loss_cls: 0.5301\r\n"
     ]
    },
    {
     "name": "stdout",
     "output_type": "stream",
     "text": [
      "06/13 03:16:01 - mmengine - \u001b[4m\u001b[97mINFO\u001b[0m - Epoch(train) [3][ 1900/11818]  lr: 1.0000e-05  eta: 7:05:23  time: 1.2381  data_time: 0.8764  memory: 1526  grad_norm: 18.1710  loss: 0.5700  top1_acc: 1.0000  top5_acc: 1.0000  loss_cls: 0.5700\r\n"
     ]
    },
    {
     "name": "stdout",
     "output_type": "stream",
     "text": [
      "06/13 03:16:28 - mmengine - \u001b[4m\u001b[97mINFO\u001b[0m - Epoch(train) [3][ 1920/11818]  lr: 1.0000e-05  eta: 7:05:02  time: 1.3326  data_time: 0.9729  memory: 1526  grad_norm: 21.9031  loss: 0.6051  top1_acc: 0.7500  top5_acc: 1.0000  loss_cls: 0.6051\r\n"
     ]
    },
    {
     "name": "stdout",
     "output_type": "stream",
     "text": [
      "06/13 03:16:49 - mmengine - \u001b[4m\u001b[97mINFO\u001b[0m - Epoch(train) [3][ 1940/11818]  lr: 1.0000e-05  eta: 7:04:36  time: 1.0481  data_time: 0.6873  memory: 1526  grad_norm: 15.8633  loss: 0.4038  top1_acc: 0.7500  top5_acc: 1.0000  loss_cls: 0.4038\r\n"
     ]
    },
    {
     "name": "stdout",
     "output_type": "stream",
     "text": [
      "06/13 03:17:13 - mmengine - \u001b[4m\u001b[97mINFO\u001b[0m - Epoch(train) [3][ 1960/11818]  lr: 1.0000e-05  eta: 7:04:13  time: 1.1886  data_time: 0.8273  memory: 1526  grad_norm: 13.1471  loss: 0.3834  top1_acc: 0.7500  top5_acc: 1.0000  loss_cls: 0.3834\r\n"
     ]
    },
    {
     "name": "stdout",
     "output_type": "stream",
     "text": [
      "06/13 03:17:35 - mmengine - \u001b[4m\u001b[97mINFO\u001b[0m - Epoch(train) [3][ 1980/11818]  lr: 1.0000e-05  eta: 7:03:49  time: 1.1338  data_time: 0.7732  memory: 1526  grad_norm: 18.1702  loss: 0.6263  top1_acc: 1.0000  top5_acc: 1.0000  loss_cls: 0.6263\r\n"
     ]
    },
    {
     "name": "stdout",
     "output_type": "stream",
     "text": [
      "06/13 03:17:58 - mmengine - \u001b[4m\u001b[97mINFO\u001b[0m - Epoch(train) [3][ 2000/11818]  lr: 1.0000e-05  eta: 7:03:24  time: 1.1107  data_time: 0.7488  memory: 1526  grad_norm: 15.1734  loss: 0.4003  top1_acc: 1.0000  top5_acc: 1.0000  loss_cls: 0.4003\r\n"
     ]
    },
    {
     "name": "stdout",
     "output_type": "stream",
     "text": [
      "06/13 03:18:21 - mmengine - \u001b[4m\u001b[97mINFO\u001b[0m - Epoch(train) [3][ 2020/11818]  lr: 1.0000e-05  eta: 7:03:01  time: 1.1579  data_time: 0.7966  memory: 1526  grad_norm: 15.4521  loss: 0.4378  top1_acc: 1.0000  top5_acc: 1.0000  loss_cls: 0.4378\r\n"
     ]
    },
    {
     "name": "stdout",
     "output_type": "stream",
     "text": [
      "06/13 03:18:44 - mmengine - \u001b[4m\u001b[97mINFO\u001b[0m - Epoch(train) [3][ 2040/11818]  lr: 1.0000e-05  eta: 7:02:37  time: 1.1435  data_time: 0.7809  memory: 1526  grad_norm: 18.0983  loss: 0.5506  top1_acc: 0.7500  top5_acc: 1.0000  loss_cls: 0.5506\r\n"
     ]
    },
    {
     "name": "stdout",
     "output_type": "stream",
     "text": [
      "06/13 03:19:05 - mmengine - \u001b[4m\u001b[97mINFO\u001b[0m - Epoch(train) [3][ 2060/11818]  lr: 1.0000e-05  eta: 7:02:12  time: 1.0851  data_time: 0.7252  memory: 1526  grad_norm: 18.1126  loss: 0.5961  top1_acc: 0.7500  top5_acc: 1.0000  loss_cls: 0.5961\r\n"
     ]
    },
    {
     "name": "stdout",
     "output_type": "stream",
     "text": [
      "06/13 03:19:29 - mmengine - \u001b[4m\u001b[97mINFO\u001b[0m - Epoch(train) [3][ 2080/11818]  lr: 1.0000e-05  eta: 7:01:48  time: 1.1615  data_time: 0.7988  memory: 1526  grad_norm: 17.7235  loss: 0.5139  top1_acc: 0.7500  top5_acc: 0.7500  loss_cls: 0.5139\r\n"
     ]
    },
    {
     "name": "stdout",
     "output_type": "stream",
     "text": [
      "06/13 03:19:54 - mmengine - \u001b[4m\u001b[97mINFO\u001b[0m - Epoch(train) [3][ 2100/11818]  lr: 1.0000e-05  eta: 7:01:26  time: 1.2748  data_time: 0.9140  memory: 1526  grad_norm: 17.6478  loss: 0.5280  top1_acc: 1.0000  top5_acc: 1.0000  loss_cls: 0.5280\r\n"
     ]
    },
    {
     "name": "stdout",
     "output_type": "stream",
     "text": [
      "06/13 03:20:16 - mmengine - \u001b[4m\u001b[97mINFO\u001b[0m - Epoch(train) [3][ 2120/11818]  lr: 1.0000e-05  eta: 7:01:02  time: 1.1178  data_time: 0.7562  memory: 1526  grad_norm: 15.6322  loss: 0.5186  top1_acc: 0.7500  top5_acc: 1.0000  loss_cls: 0.5186\r\n"
     ]
    },
    {
     "name": "stdout",
     "output_type": "stream",
     "text": [
      "06/13 03:20:39 - mmengine - \u001b[4m\u001b[97mINFO\u001b[0m - Epoch(train) [3][ 2140/11818]  lr: 1.0000e-05  eta: 7:00:38  time: 1.1462  data_time: 0.7870  memory: 1526  grad_norm: 18.5437  loss: 0.7277  top1_acc: 0.7500  top5_acc: 1.0000  loss_cls: 0.7277\r\n"
     ]
    },
    {
     "name": "stdout",
     "output_type": "stream",
     "text": [
      "06/13 03:21:04 - mmengine - \u001b[4m\u001b[97mINFO\u001b[0m - Epoch(train) [3][ 2160/11818]  lr: 1.0000e-05  eta: 7:00:15  time: 1.2393  data_time: 0.8767  memory: 1526  grad_norm: 18.0911  loss: 0.6771  top1_acc: 0.7500  top5_acc: 1.0000  loss_cls: 0.6771\r\n"
     ]
    },
    {
     "name": "stdout",
     "output_type": "stream",
     "text": [
      "06/13 03:21:26 - mmengine - \u001b[4m\u001b[97mINFO\u001b[0m - Epoch(train) [3][ 2180/11818]  lr: 1.0000e-05  eta: 6:59:51  time: 1.1031  data_time: 0.7419  memory: 1526  grad_norm: 15.8419  loss: 0.5207  top1_acc: 1.0000  top5_acc: 1.0000  loss_cls: 0.5207\r\n"
     ]
    },
    {
     "name": "stdout",
     "output_type": "stream",
     "text": [
      "06/13 03:21:48 - mmengine - \u001b[4m\u001b[97mINFO\u001b[0m - Epoch(train) [3][ 2200/11818]  lr: 1.0000e-05  eta: 6:59:26  time: 1.1086  data_time: 0.7474  memory: 1526  grad_norm: 14.8560  loss: 0.4512  top1_acc: 1.0000  top5_acc: 1.0000  loss_cls: 0.4512\r\n"
     ]
    },
    {
     "name": "stdout",
     "output_type": "stream",
     "text": [
      "06/13 03:22:11 - mmengine - \u001b[4m\u001b[97mINFO\u001b[0m - Epoch(train) [3][ 2220/11818]  lr: 1.0000e-05  eta: 6:59:02  time: 1.1416  data_time: 0.7821  memory: 1526  grad_norm: 16.0793  loss: 0.5569  top1_acc: 1.0000  top5_acc: 1.0000  loss_cls: 0.5569\r\n"
     ]
    },
    {
     "name": "stdout",
     "output_type": "stream",
     "text": [
      "06/13 03:22:31 - mmengine - \u001b[4m\u001b[97mINFO\u001b[0m - Epoch(train) [3][ 2240/11818]  lr: 1.0000e-05  eta: 6:58:36  time: 0.9854  data_time: 0.6234  memory: 1526  grad_norm: 12.8747  loss: 0.4042  top1_acc: 1.0000  top5_acc: 1.0000  loss_cls: 0.4042\r\n"
     ]
    },
    {
     "name": "stdout",
     "output_type": "stream",
     "text": [
      "06/13 03:22:55 - mmengine - \u001b[4m\u001b[97mINFO\u001b[0m - Epoch(train) [3][ 2260/11818]  lr: 1.0000e-05  eta: 6:58:13  time: 1.2260  data_time: 0.8629  memory: 1526  grad_norm: 15.6616  loss: 0.4312  top1_acc: 0.7500  top5_acc: 1.0000  loss_cls: 0.4312\r\n"
     ]
    },
    {
     "name": "stdout",
     "output_type": "stream",
     "text": [
      "06/13 03:23:21 - mmengine - \u001b[4m\u001b[97mINFO\u001b[0m - Epoch(train) [3][ 2280/11818]  lr: 1.0000e-05  eta: 6:57:51  time: 1.2641  data_time: 0.9030  memory: 1526  grad_norm: 16.9570  loss: 0.4837  top1_acc: 0.7500  top5_acc: 1.0000  loss_cls: 0.4837\r\n"
     ]
    },
    {
     "name": "stdout",
     "output_type": "stream",
     "text": [
      "06/13 03:23:43 - mmengine - \u001b[4m\u001b[97mINFO\u001b[0m - Epoch(train) [3][ 2300/11818]  lr: 1.0000e-05  eta: 6:57:27  time: 1.1170  data_time: 0.7546  memory: 1526  grad_norm: 15.0821  loss: 0.4270  top1_acc: 1.0000  top5_acc: 1.0000  loss_cls: 0.4270\r\n"
     ]
    },
    {
     "name": "stdout",
     "output_type": "stream",
     "text": [
      "06/13 03:24:06 - mmengine - \u001b[4m\u001b[97mINFO\u001b[0m - Epoch(train) [3][ 2320/11818]  lr: 1.0000e-05  eta: 6:57:03  time: 1.1502  data_time: 0.7877  memory: 1526  grad_norm: 18.5426  loss: 0.5529  top1_acc: 0.7500  top5_acc: 0.7500  loss_cls: 0.5529\r\n"
     ]
    },
    {
     "name": "stdout",
     "output_type": "stream",
     "text": [
      "06/13 03:24:26 - mmengine - \u001b[4m\u001b[97mINFO\u001b[0m - Epoch(train) [3][ 2340/11818]  lr: 1.0000e-05  eta: 6:56:37  time: 1.0109  data_time: 0.6479  memory: 1526  grad_norm: 20.2332  loss: 0.5622  top1_acc: 0.7500  top5_acc: 1.0000  loss_cls: 0.5622\r\n"
     ]
    },
    {
     "name": "stdout",
     "output_type": "stream",
     "text": [
      "06/13 03:24:46 - mmengine - \u001b[4m\u001b[97mINFO\u001b[0m - Epoch(train) [3][ 2360/11818]  lr: 1.0000e-05  eta: 6:56:10  time: 0.9940  data_time: 0.6339  memory: 1526  grad_norm: 15.1434  loss: 0.4765  top1_acc: 0.7500  top5_acc: 1.0000  loss_cls: 0.4765\r\n"
     ]
    },
    {
     "name": "stdout",
     "output_type": "stream",
     "text": [
      "06/13 03:24:50 - mmengine - \u001b[4m\u001b[97mINFO\u001b[0m - Exp name: config_20230612_184603\r\n"
     ]
    },
    {
     "name": "stdout",
     "output_type": "stream",
     "text": [
      "06/13 03:25:14 - mmengine - \u001b[4m\u001b[97mINFO\u001b[0m - Epoch(train) [3][ 2380/11818]  lr: 1.0000e-05  eta: 6:55:50  time: 1.3721  data_time: 1.0095  memory: 1526  grad_norm: 17.9589  loss: 0.5637  top1_acc: 0.7500  top5_acc: 1.0000  loss_cls: 0.5637\r\n"
     ]
    },
    {
     "name": "stdout",
     "output_type": "stream",
     "text": [
      "06/13 03:25:36 - mmengine - \u001b[4m\u001b[97mINFO\u001b[0m - Epoch(train) [3][ 2400/11818]  lr: 1.0000e-05  eta: 6:55:25  time: 1.1060  data_time: 0.7447  memory: 1526  grad_norm: 19.3678  loss: 0.6539  top1_acc: 0.7500  top5_acc: 1.0000  loss_cls: 0.6539\r\n"
     ]
    },
    {
     "name": "stdout",
     "output_type": "stream",
     "text": [
      "06/13 03:25:59 - mmengine - \u001b[4m\u001b[97mINFO\u001b[0m - Epoch(train) [3][ 2420/11818]  lr: 1.0000e-05  eta: 6:55:02  time: 1.1772  data_time: 0.8170  memory: 1526  grad_norm: 17.0988  loss: 0.4925  top1_acc: 1.0000  top5_acc: 1.0000  loss_cls: 0.4925\r\n"
     ]
    },
    {
     "name": "stdout",
     "output_type": "stream",
     "text": [
      "06/13 03:26:22 - mmengine - \u001b[4m\u001b[97mINFO\u001b[0m - Epoch(train) [3][ 2440/11818]  lr: 1.0000e-05  eta: 6:54:37  time: 1.1154  data_time: 0.7549  memory: 1526  grad_norm: 16.6596  loss: 0.5665  top1_acc: 0.5000  top5_acc: 0.7500  loss_cls: 0.5665\r\n"
     ]
    },
    {
     "name": "stdout",
     "output_type": "stream",
     "text": [
      "06/13 03:26:44 - mmengine - \u001b[4m\u001b[97mINFO\u001b[0m - Epoch(train) [3][ 2460/11818]  lr: 1.0000e-05  eta: 6:54:13  time: 1.1410  data_time: 0.7806  memory: 1526  grad_norm: 15.4005  loss: 0.4715  top1_acc: 1.0000  top5_acc: 1.0000  loss_cls: 0.4715\r\n"
     ]
    },
    {
     "name": "stdout",
     "output_type": "stream",
     "text": [
      "06/13 03:27:06 - mmengine - \u001b[4m\u001b[97mINFO\u001b[0m - Epoch(train) [3][ 2480/11818]  lr: 1.0000e-05  eta: 6:53:48  time: 1.0664  data_time: 0.7056  memory: 1526  grad_norm: 16.9697  loss: 0.4866  top1_acc: 0.7500  top5_acc: 0.7500  loss_cls: 0.4866\r\n"
     ]
    },
    {
     "name": "stdout",
     "output_type": "stream",
     "text": [
      "06/13 03:27:30 - mmengine - \u001b[4m\u001b[97mINFO\u001b[0m - Epoch(train) [3][ 2500/11818]  lr: 1.0000e-05  eta: 6:53:25  time: 1.2119  data_time: 0.8527  memory: 1526  grad_norm: 12.5391  loss: 0.3700  top1_acc: 1.0000  top5_acc: 1.0000  loss_cls: 0.3700\r\n"
     ]
    },
    {
     "name": "stdout",
     "output_type": "stream",
     "text": [
      "06/13 03:27:55 - mmengine - \u001b[4m\u001b[97mINFO\u001b[0m - Epoch(train) [3][ 2520/11818]  lr: 1.0000e-05  eta: 6:53:03  time: 1.2637  data_time: 0.9020  memory: 1526  grad_norm: 19.0322  loss: 0.5283  top1_acc: 1.0000  top5_acc: 1.0000  loss_cls: 0.5283\r\n"
     ]
    },
    {
     "name": "stdout",
     "output_type": "stream",
     "text": [
      "06/13 03:28:18 - mmengine - \u001b[4m\u001b[97mINFO\u001b[0m - Epoch(train) [3][ 2540/11818]  lr: 1.0000e-05  eta: 6:52:39  time: 1.1197  data_time: 0.7596  memory: 1526  grad_norm: 16.1063  loss: 0.4902  top1_acc: 0.7500  top5_acc: 1.0000  loss_cls: 0.4902\r\n"
     ]
    },
    {
     "name": "stdout",
     "output_type": "stream",
     "text": [
      "06/13 03:28:41 - mmengine - \u001b[4m\u001b[97mINFO\u001b[0m - Epoch(train) [3][ 2560/11818]  lr: 1.0000e-05  eta: 6:52:15  time: 1.1446  data_time: 0.7814  memory: 1526  grad_norm: 13.3306  loss: 0.4055  top1_acc: 1.0000  top5_acc: 1.0000  loss_cls: 0.4055\r\n"
     ]
    },
    {
     "name": "stdout",
     "output_type": "stream",
     "text": [
      "06/13 03:29:03 - mmengine - \u001b[4m\u001b[97mINFO\u001b[0m - Epoch(train) [3][ 2580/11818]  lr: 1.0000e-05  eta: 6:51:50  time: 1.1033  data_time: 0.7436  memory: 1526  grad_norm: 16.0760  loss: 0.4927  top1_acc: 0.7500  top5_acc: 0.7500  loss_cls: 0.4927\r\n"
     ]
    },
    {
     "name": "stdout",
     "output_type": "stream",
     "text": [
      "06/13 03:29:26 - mmengine - \u001b[4m\u001b[97mINFO\u001b[0m - Epoch(train) [3][ 2600/11818]  lr: 1.0000e-05  eta: 6:51:27  time: 1.1783  data_time: 0.8183  memory: 1526  grad_norm: 12.8220  loss: 0.3740  top1_acc: 0.7500  top5_acc: 1.0000  loss_cls: 0.3740\r\n"
     ]
    },
    {
     "name": "stdout",
     "output_type": "stream",
     "text": [
      "06/13 03:29:50 - mmengine - \u001b[4m\u001b[97mINFO\u001b[0m - Epoch(train) [3][ 2620/11818]  lr: 1.0000e-05  eta: 6:51:04  time: 1.1848  data_time: 0.8246  memory: 1526  grad_norm: 15.1168  loss: 0.4671  top1_acc: 1.0000  top5_acc: 1.0000  loss_cls: 0.4671\r\n"
     ]
    },
    {
     "name": "stdout",
     "output_type": "stream",
     "text": [
      "06/13 03:30:14 - mmengine - \u001b[4m\u001b[97mINFO\u001b[0m - Epoch(train) [3][ 2640/11818]  lr: 1.0000e-05  eta: 6:50:41  time: 1.1909  data_time: 0.8296  memory: 1526  grad_norm: 16.1619  loss: 0.4088  top1_acc: 0.7500  top5_acc: 1.0000  loss_cls: 0.4088\r\n"
     ]
    },
    {
     "name": "stdout",
     "output_type": "stream",
     "text": [
      "06/13 03:30:37 - mmengine - \u001b[4m\u001b[97mINFO\u001b[0m - Epoch(train) [3][ 2660/11818]  lr: 1.0000e-05  eta: 6:50:17  time: 1.1593  data_time: 0.7995  memory: 1526  grad_norm: 15.6825  loss: 0.5057  top1_acc: 1.0000  top5_acc: 1.0000  loss_cls: 0.5057\r\n"
     ]
    },
    {
     "name": "stdout",
     "output_type": "stream",
     "text": [
      "06/13 03:31:00 - mmengine - \u001b[4m\u001b[97mINFO\u001b[0m - Epoch(train) [3][ 2680/11818]  lr: 1.0000e-05  eta: 6:49:53  time: 1.1681  data_time: 0.8087  memory: 1526  grad_norm: 16.1984  loss: 0.3464  top1_acc: 0.7500  top5_acc: 1.0000  loss_cls: 0.3464\r\n"
     ]
    },
    {
     "name": "stdout",
     "output_type": "stream",
     "text": [
      "06/13 03:31:22 - mmengine - \u001b[4m\u001b[97mINFO\u001b[0m - Epoch(train) [3][ 2700/11818]  lr: 1.0000e-05  eta: 6:49:29  time: 1.0907  data_time: 0.7313  memory: 1526  grad_norm: 15.3850  loss: 0.5439  top1_acc: 0.5000  top5_acc: 0.7500  loss_cls: 0.5439\r\n"
     ]
    },
    {
     "name": "stdout",
     "output_type": "stream",
     "text": [
      "06/13 03:31:43 - mmengine - \u001b[4m\u001b[97mINFO\u001b[0m - Epoch(train) [3][ 2720/11818]  lr: 1.0000e-05  eta: 6:49:03  time: 1.0240  data_time: 0.6645  memory: 1526  grad_norm: 19.9161  loss: 0.5843  top1_acc: 0.7500  top5_acc: 1.0000  loss_cls: 0.5843\r\n"
     ]
    },
    {
     "name": "stdout",
     "output_type": "stream",
     "text": [
      "06/13 03:32:06 - mmengine - \u001b[4m\u001b[97mINFO\u001b[0m - Epoch(train) [3][ 2740/11818]  lr: 1.0000e-05  eta: 6:48:40  time: 1.1953  data_time: 0.8356  memory: 1526  grad_norm: 17.0349  loss: 0.5269  top1_acc: 0.7500  top5_acc: 1.0000  loss_cls: 0.5269\r\n"
     ]
    },
    {
     "name": "stdout",
     "output_type": "stream",
     "text": [
      "06/13 03:32:29 - mmengine - \u001b[4m\u001b[97mINFO\u001b[0m - Epoch(train) [3][ 2760/11818]  lr: 1.0000e-05  eta: 6:48:15  time: 1.1273  data_time: 0.7658  memory: 1526  grad_norm: 17.9812  loss: 0.5749  top1_acc: 0.5000  top5_acc: 1.0000  loss_cls: 0.5749\r\n"
     ]
    },
    {
     "name": "stdout",
     "output_type": "stream",
     "text": [
      "06/13 03:32:46 - mmengine - \u001b[4m\u001b[97mINFO\u001b[0m - Epoch(train) [3][ 2780/11818]  lr: 1.0000e-05  eta: 6:47:47  time: 0.8680  data_time: 0.5082  memory: 1526  grad_norm: 16.6423  loss: 0.5665  top1_acc: 1.0000  top5_acc: 1.0000  loss_cls: 0.5665\r\n"
     ]
    },
    {
     "name": "stdout",
     "output_type": "stream",
     "text": [
      "06/13 03:33:09 - mmengine - \u001b[4m\u001b[97mINFO\u001b[0m - Epoch(train) [3][ 2800/11818]  lr: 1.0000e-05  eta: 6:47:23  time: 1.1196  data_time: 0.7580  memory: 1526  grad_norm: 14.2691  loss: 0.3541  top1_acc: 1.0000  top5_acc: 1.0000  loss_cls: 0.3541\r\n"
     ]
    },
    {
     "name": "stdout",
     "output_type": "stream",
     "text": [
      "06/13 03:33:33 - mmengine - \u001b[4m\u001b[97mINFO\u001b[0m - Epoch(train) [3][ 2820/11818]  lr: 1.0000e-05  eta: 6:47:00  time: 1.2236  data_time: 0.8621  memory: 1526  grad_norm: 23.1749  loss: 0.8522  top1_acc: 1.0000  top5_acc: 1.0000  loss_cls: 0.8522\r\n"
     ]
    },
    {
     "name": "stdout",
     "output_type": "stream",
     "text": [
      "06/13 03:34:01 - mmengine - \u001b[4m\u001b[97mINFO\u001b[0m - Epoch(train) [3][ 2840/11818]  lr: 1.0000e-05  eta: 6:46:40  time: 1.3776  data_time: 1.0158  memory: 1526  grad_norm: 12.5142  loss: 0.3108  top1_acc: 1.0000  top5_acc: 1.0000  loss_cls: 0.3108\r\n"
     ]
    },
    {
     "name": "stdout",
     "output_type": "stream",
     "text": [
      "06/13 03:34:21 - mmengine - \u001b[4m\u001b[97mINFO\u001b[0m - Epoch(train) [3][ 2860/11818]  lr: 1.0000e-05  eta: 6:46:14  time: 1.0116  data_time: 0.6515  memory: 1526  grad_norm: 21.8953  loss: 0.6763  top1_acc: 0.5000  top5_acc: 1.0000  loss_cls: 0.6763\r\n"
     ]
    },
    {
     "name": "stdout",
     "output_type": "stream",
     "text": [
      "06/13 03:34:45 - mmengine - \u001b[4m\u001b[97mINFO\u001b[0m - Epoch(train) [3][ 2880/11818]  lr: 1.0000e-05  eta: 6:45:51  time: 1.1972  data_time: 0.8368  memory: 1526  grad_norm: 15.8069  loss: 0.5222  top1_acc: 1.0000  top5_acc: 1.0000  loss_cls: 0.5222\r\n"
     ]
    },
    {
     "name": "stdout",
     "output_type": "stream",
     "text": [
      "06/13 03:35:07 - mmengine - \u001b[4m\u001b[97mINFO\u001b[0m - Epoch(train) [3][ 2900/11818]  lr: 1.0000e-05  eta: 6:45:26  time: 1.1004  data_time: 0.7384  memory: 1526  grad_norm: 14.7706  loss: 0.3982  top1_acc: 0.7500  top5_acc: 1.0000  loss_cls: 0.3982\r\n"
     ]
    },
    {
     "name": "stdout",
     "output_type": "stream",
     "text": [
      "06/13 03:35:30 - mmengine - \u001b[4m\u001b[97mINFO\u001b[0m - Epoch(train) [3][ 2920/11818]  lr: 1.0000e-05  eta: 6:45:02  time: 1.1338  data_time: 0.7736  memory: 1526  grad_norm: 16.3098  loss: 0.5977  top1_acc: 0.7500  top5_acc: 1.0000  loss_cls: 0.5977\r\n"
     ]
    },
    {
     "name": "stdout",
     "output_type": "stream",
     "text": [
      "06/13 03:35:49 - mmengine - \u001b[4m\u001b[97mINFO\u001b[0m - Epoch(train) [3][ 2940/11818]  lr: 1.0000e-05  eta: 6:44:36  time: 0.9780  data_time: 0.6177  memory: 1526  grad_norm: 16.4561  loss: 0.4732  top1_acc: 1.0000  top5_acc: 1.0000  loss_cls: 0.4732\r\n"
     ]
    },
    {
     "name": "stdout",
     "output_type": "stream",
     "text": [
      "06/13 03:36:12 - mmengine - \u001b[4m\u001b[97mINFO\u001b[0m - Epoch(train) [3][ 2960/11818]  lr: 1.0000e-05  eta: 6:44:12  time: 1.1613  data_time: 0.8004  memory: 1526  grad_norm: 13.3120  loss: 0.4321  top1_acc: 0.7500  top5_acc: 0.7500  loss_cls: 0.4321\r\n"
     ]
    },
    {
     "name": "stdout",
     "output_type": "stream",
     "text": [
      "06/13 03:36:35 - mmengine - \u001b[4m\u001b[97mINFO\u001b[0m - Epoch(train) [3][ 2980/11818]  lr: 1.0000e-05  eta: 6:43:48  time: 1.1290  data_time: 0.7661  memory: 1526  grad_norm: 20.7312  loss: 0.7117  top1_acc: 1.0000  top5_acc: 1.0000  loss_cls: 0.7117\r\n"
     ]
    },
    {
     "name": "stdout",
     "output_type": "stream",
     "text": [
      "06/13 03:36:59 - mmengine - \u001b[4m\u001b[97mINFO\u001b[0m - Epoch(train) [3][ 3000/11818]  lr: 1.0000e-05  eta: 6:43:25  time: 1.2212  data_time: 0.8614  memory: 1526  grad_norm: 14.5436  loss: 0.4626  top1_acc: 1.0000  top5_acc: 1.0000  loss_cls: 0.4626\r\n"
     ]
    },
    {
     "name": "stdout",
     "output_type": "stream",
     "text": [
      "06/13 03:37:19 - mmengine - \u001b[4m\u001b[97mINFO\u001b[0m - Epoch(train) [3][ 3020/11818]  lr: 1.0000e-05  eta: 6:42:59  time: 0.9743  data_time: 0.6115  memory: 1526  grad_norm: 16.5523  loss: 0.4577  top1_acc: 1.0000  top5_acc: 1.0000  loss_cls: 0.4577\r\n"
     ]
    },
    {
     "name": "stdout",
     "output_type": "stream",
     "text": [
      "06/13 03:37:41 - mmengine - \u001b[4m\u001b[97mINFO\u001b[0m - Epoch(train) [3][ 3040/11818]  lr: 1.0000e-05  eta: 6:42:34  time: 1.0944  data_time: 0.7336  memory: 1526  grad_norm: 13.9425  loss: 0.4352  top1_acc: 1.0000  top5_acc: 1.0000  loss_cls: 0.4352\r\n"
     ]
    },
    {
     "name": "stdout",
     "output_type": "stream",
     "text": [
      "06/13 03:37:59 - mmengine - \u001b[4m\u001b[97mINFO\u001b[0m - Epoch(train) [3][ 3060/11818]  lr: 1.0000e-05  eta: 6:42:06  time: 0.8963  data_time: 0.5360  memory: 1526  grad_norm: 17.7678  loss: 0.7026  top1_acc: 0.7500  top5_acc: 1.0000  loss_cls: 0.7026\r\n"
     ]
    },
    {
     "name": "stdout",
     "output_type": "stream",
     "text": [
      "06/13 03:38:21 - mmengine - \u001b[4m\u001b[97mINFO\u001b[0m - Epoch(train) [3][ 3080/11818]  lr: 1.0000e-05  eta: 6:41:42  time: 1.0936  data_time: 0.7342  memory: 1526  grad_norm: 19.6267  loss: 0.5762  top1_acc: 1.0000  top5_acc: 1.0000  loss_cls: 0.5762\r\n"
     ]
    },
    {
     "name": "stdout",
     "output_type": "stream",
     "text": [
      "06/13 03:38:43 - mmengine - \u001b[4m\u001b[97mINFO\u001b[0m - Epoch(train) [3][ 3100/11818]  lr: 1.0000e-05  eta: 6:41:18  time: 1.1376  data_time: 0.7763  memory: 1526  grad_norm: 20.7542  loss: 0.6554  top1_acc: 0.7500  top5_acc: 1.0000  loss_cls: 0.6554\r\n"
     ]
    },
    {
     "name": "stdout",
     "output_type": "stream",
     "text": [
      "06/13 03:39:05 - mmengine - \u001b[4m\u001b[97mINFO\u001b[0m - Epoch(train) [3][ 3120/11818]  lr: 1.0000e-05  eta: 6:40:53  time: 1.0993  data_time: 0.7393  memory: 1526  grad_norm: 22.1329  loss: 0.6554  top1_acc: 0.7500  top5_acc: 1.0000  loss_cls: 0.6554\r\n"
     ]
    },
    {
     "name": "stdout",
     "output_type": "stream",
     "text": [
      "06/13 03:39:29 - mmengine - \u001b[4m\u001b[97mINFO\u001b[0m - Epoch(train) [3][ 3140/11818]  lr: 1.0000e-05  eta: 6:40:29  time: 1.1594  data_time: 0.7977  memory: 1526  grad_norm: 13.1406  loss: 0.3878  top1_acc: 0.7500  top5_acc: 1.0000  loss_cls: 0.3878\r\n"
     ]
    },
    {
     "name": "stdout",
     "output_type": "stream",
     "text": [
      "06/13 03:39:53 - mmengine - \u001b[4m\u001b[97mINFO\u001b[0m - Epoch(train) [3][ 3160/11818]  lr: 1.0000e-05  eta: 6:40:07  time: 1.2180  data_time: 0.8584  memory: 1526  grad_norm: 13.7652  loss: 0.3604  top1_acc: 1.0000  top5_acc: 1.0000  loss_cls: 0.3604\r\n"
     ]
    },
    {
     "name": "stdout",
     "output_type": "stream",
     "text": [
      "06/13 03:40:16 - mmengine - \u001b[4m\u001b[97mINFO\u001b[0m - Epoch(train) [3][ 3180/11818]  lr: 1.0000e-05  eta: 6:39:43  time: 1.1360  data_time: 0.7749  memory: 1526  grad_norm: 19.1621  loss: 0.5951  top1_acc: 1.0000  top5_acc: 1.0000  loss_cls: 0.5951\r\n"
     ]
    },
    {
     "name": "stdout",
     "output_type": "stream",
     "text": [
      "06/13 03:40:40 - mmengine - \u001b[4m\u001b[97mINFO\u001b[0m - Epoch(train) [3][ 3200/11818]  lr: 1.0000e-05  eta: 6:39:20  time: 1.2350  data_time: 0.8744  memory: 1526  grad_norm: 17.9985  loss: 0.5430  top1_acc: 1.0000  top5_acc: 1.0000  loss_cls: 0.5430\r\n"
     ]
    },
    {
     "name": "stdout",
     "output_type": "stream",
     "text": [
      "06/13 03:41:05 - mmengine - \u001b[4m\u001b[97mINFO\u001b[0m - Epoch(train) [3][ 3220/11818]  lr: 1.0000e-05  eta: 6:38:57  time: 1.2120  data_time: 0.8508  memory: 1526  grad_norm: 15.1059  loss: 0.4255  top1_acc: 1.0000  top5_acc: 1.0000  loss_cls: 0.4255\r\n"
     ]
    },
    {
     "name": "stdout",
     "output_type": "stream",
     "text": [
      "06/13 03:41:26 - mmengine - \u001b[4m\u001b[97mINFO\u001b[0m - Epoch(train) [3][ 3240/11818]  lr: 1.0000e-05  eta: 6:38:32  time: 1.0880  data_time: 0.7258  memory: 1526  grad_norm: 20.1280  loss: 0.5900  top1_acc: 0.5000  top5_acc: 1.0000  loss_cls: 0.5900\r\n"
     ]
    },
    {
     "name": "stdout",
     "output_type": "stream",
     "text": [
      "06/13 03:41:51 - mmengine - \u001b[4m\u001b[97mINFO\u001b[0m - Epoch(train) [3][ 3260/11818]  lr: 1.0000e-05  eta: 6:38:10  time: 1.2232  data_time: 0.8600  memory: 1526  grad_norm: 17.7713  loss: 0.6579  top1_acc: 0.5000  top5_acc: 1.0000  loss_cls: 0.6579\r\n"
     ]
    },
    {
     "name": "stdout",
     "output_type": "stream",
     "text": [
      "06/13 03:42:12 - mmengine - \u001b[4m\u001b[97mINFO\u001b[0m - Epoch(train) [3][ 3280/11818]  lr: 1.0000e-05  eta: 6:37:45  time: 1.0680  data_time: 0.7080  memory: 1526  grad_norm: 17.7989  loss: 0.5348  top1_acc: 0.5000  top5_acc: 1.0000  loss_cls: 0.5348\r\n"
     ]
    },
    {
     "name": "stdout",
     "output_type": "stream",
     "text": [
      "06/13 03:42:37 - mmengine - \u001b[4m\u001b[97mINFO\u001b[0m - Epoch(train) [3][ 3300/11818]  lr: 1.0000e-05  eta: 6:37:23  time: 1.2559  data_time: 0.8948  memory: 1526  grad_norm: 16.6428  loss: 0.5882  top1_acc: 0.7500  top5_acc: 1.0000  loss_cls: 0.5882\r\n"
     ]
    },
    {
     "name": "stdout",
     "output_type": "stream",
     "text": [
      "06/13 03:42:59 - mmengine - \u001b[4m\u001b[97mINFO\u001b[0m - Epoch(train) [3][ 3320/11818]  lr: 1.0000e-05  eta: 6:36:57  time: 1.0595  data_time: 0.6975  memory: 1526  grad_norm: 18.0343  loss: 0.4952  top1_acc: 0.7500  top5_acc: 1.0000  loss_cls: 0.4952\r\n"
     ]
    },
    {
     "name": "stdout",
     "output_type": "stream",
     "text": [
      "06/13 03:43:24 - mmengine - \u001b[4m\u001b[97mINFO\u001b[0m - Epoch(train) [3][ 3340/11818]  lr: 1.0000e-05  eta: 6:36:35  time: 1.2730  data_time: 0.9124  memory: 1526  grad_norm: 17.3799  loss: 0.5229  top1_acc: 1.0000  top5_acc: 1.0000  loss_cls: 0.5229\r\n"
     ]
    },
    {
     "name": "stdout",
     "output_type": "stream",
     "text": [
      "06/13 03:43:44 - mmengine - \u001b[4m\u001b[97mINFO\u001b[0m - Epoch(train) [3][ 3360/11818]  lr: 1.0000e-05  eta: 6:36:09  time: 0.9899  data_time: 0.6289  memory: 1526  grad_norm: 16.2620  loss: 0.5107  top1_acc: 1.0000  top5_acc: 1.0000  loss_cls: 0.5107\r\n"
     ]
    },
    {
     "name": "stdout",
     "output_type": "stream",
     "text": [
      "06/13 03:43:48 - mmengine - \u001b[4m\u001b[97mINFO\u001b[0m - Exp name: config_20230612_184603\r\n"
     ]
    },
    {
     "name": "stdout",
     "output_type": "stream",
     "text": [
      "06/13 03:44:09 - mmengine - \u001b[4m\u001b[97mINFO\u001b[0m - Epoch(train) [3][ 3380/11818]  lr: 1.0000e-05  eta: 6:35:47  time: 1.2746  data_time: 0.9136  memory: 1526  grad_norm: 17.4017  loss: 0.5554  top1_acc: 1.0000  top5_acc: 1.0000  loss_cls: 0.5554\r\n"
     ]
    },
    {
     "name": "stdout",
     "output_type": "stream",
     "text": [
      "06/13 03:44:28 - mmengine - \u001b[4m\u001b[97mINFO\u001b[0m - Epoch(train) [3][ 3400/11818]  lr: 1.0000e-05  eta: 6:35:21  time: 0.9480  data_time: 0.5874  memory: 1526  grad_norm: 14.2628  loss: 0.3710  top1_acc: 1.0000  top5_acc: 1.0000  loss_cls: 0.3710\r\n"
     ]
    },
    {
     "name": "stdout",
     "output_type": "stream",
     "text": [
      "06/13 03:44:49 - mmengine - \u001b[4m\u001b[97mINFO\u001b[0m - Epoch(train) [3][ 3420/11818]  lr: 1.0000e-05  eta: 6:34:55  time: 1.0443  data_time: 0.6840  memory: 1526  grad_norm: 18.0825  loss: 0.5184  top1_acc: 1.0000  top5_acc: 1.0000  loss_cls: 0.5184\r\n"
     ]
    },
    {
     "name": "stdout",
     "output_type": "stream",
     "text": [
      "06/13 03:45:13 - mmengine - \u001b[4m\u001b[97mINFO\u001b[0m - Epoch(train) [3][ 3440/11818]  lr: 1.0000e-05  eta: 6:34:32  time: 1.1794  data_time: 0.8195  memory: 1526  grad_norm: 17.7186  loss: 0.5402  top1_acc: 0.7500  top5_acc: 1.0000  loss_cls: 0.5402\r\n"
     ]
    },
    {
     "name": "stdout",
     "output_type": "stream",
     "text": [
      "06/13 03:45:37 - mmengine - \u001b[4m\u001b[97mINFO\u001b[0m - Epoch(train) [3][ 3460/11818]  lr: 1.0000e-05  eta: 6:34:09  time: 1.2068  data_time: 0.8465  memory: 1526  grad_norm: 16.8832  loss: 0.5138  top1_acc: 1.0000  top5_acc: 1.0000  loss_cls: 0.5138\r\n"
     ]
    },
    {
     "name": "stdout",
     "output_type": "stream",
     "text": [
      "06/13 03:45:56 - mmengine - \u001b[4m\u001b[97mINFO\u001b[0m - Epoch(train) [3][ 3480/11818]  lr: 1.0000e-05  eta: 6:33:43  time: 0.9769  data_time: 0.6165  memory: 1526  grad_norm: 17.3178  loss: 0.4073  top1_acc: 1.0000  top5_acc: 1.0000  loss_cls: 0.4073\r\n"
     ]
    },
    {
     "name": "stdout",
     "output_type": "stream",
     "text": [
      "06/13 03:46:18 - mmengine - \u001b[4m\u001b[97mINFO\u001b[0m - Epoch(train) [3][ 3500/11818]  lr: 1.0000e-05  eta: 6:33:17  time: 1.0568  data_time: 0.6961  memory: 1526  grad_norm: 13.9330  loss: 0.4181  top1_acc: 0.7500  top5_acc: 1.0000  loss_cls: 0.4181\r\n"
     ]
    },
    {
     "name": "stdout",
     "output_type": "stream",
     "text": [
      "06/13 03:46:41 - mmengine - \u001b[4m\u001b[97mINFO\u001b[0m - Epoch(train) [3][ 3520/11818]  lr: 1.0000e-05  eta: 6:32:54  time: 1.1522  data_time: 0.7913  memory: 1526  grad_norm: 13.7954  loss: 0.3718  top1_acc: 0.7500  top5_acc: 1.0000  loss_cls: 0.3718\r\n"
     ]
    },
    {
     "name": "stdout",
     "output_type": "stream",
     "text": [
      "06/13 03:47:03 - mmengine - \u001b[4m\u001b[97mINFO\u001b[0m - Epoch(train) [3][ 3540/11818]  lr: 1.0000e-05  eta: 6:32:29  time: 1.1121  data_time: 0.7518  memory: 1526  grad_norm: 16.1155  loss: 0.4596  top1_acc: 0.7500  top5_acc: 1.0000  loss_cls: 0.4596\r\n"
     ]
    },
    {
     "name": "stdout",
     "output_type": "stream",
     "text": [
      "06/13 03:47:27 - mmengine - \u001b[4m\u001b[97mINFO\u001b[0m - Epoch(train) [3][ 3560/11818]  lr: 1.0000e-05  eta: 6:32:07  time: 1.2123  data_time: 0.8534  memory: 1526  grad_norm: 14.1628  loss: 0.4205  top1_acc: 1.0000  top5_acc: 1.0000  loss_cls: 0.4205\r\n"
     ]
    },
    {
     "name": "stdout",
     "output_type": "stream",
     "text": [
      "06/13 03:47:47 - mmengine - \u001b[4m\u001b[97mINFO\u001b[0m - Epoch(train) [3][ 3580/11818]  lr: 1.0000e-05  eta: 6:31:41  time: 1.0033  data_time: 0.6411  memory: 1526  grad_norm: 15.0529  loss: 0.4364  top1_acc: 1.0000  top5_acc: 1.0000  loss_cls: 0.4364\r\n"
     ]
    },
    {
     "name": "stdout",
     "output_type": "stream",
     "text": [
      "06/13 03:48:10 - mmengine - \u001b[4m\u001b[97mINFO\u001b[0m - Epoch(train) [3][ 3600/11818]  lr: 1.0000e-05  eta: 6:31:17  time: 1.1303  data_time: 0.7686  memory: 1526  grad_norm: 17.1319  loss: 0.6262  top1_acc: 0.7500  top5_acc: 0.7500  loss_cls: 0.6262\r\n"
     ]
    },
    {
     "name": "stdout",
     "output_type": "stream",
     "text": [
      "06/13 03:48:34 - mmengine - \u001b[4m\u001b[97mINFO\u001b[0m - Epoch(train) [3][ 3620/11818]  lr: 1.0000e-05  eta: 6:30:54  time: 1.2028  data_time: 0.8429  memory: 1526  grad_norm: 14.9817  loss: 0.4594  top1_acc: 1.0000  top5_acc: 1.0000  loss_cls: 0.4594\r\n"
     ]
    },
    {
     "name": "stdout",
     "output_type": "stream",
     "text": [
      "06/13 03:48:54 - mmengine - \u001b[4m\u001b[97mINFO\u001b[0m - Epoch(train) [3][ 3640/11818]  lr: 1.0000e-05  eta: 6:30:28  time: 1.0034  data_time: 0.6428  memory: 1526  grad_norm: 16.3409  loss: 0.4960  top1_acc: 0.5000  top5_acc: 1.0000  loss_cls: 0.4960\r\n"
     ]
    },
    {
     "name": "stdout",
     "output_type": "stream",
     "text": [
      "06/13 03:49:17 - mmengine - \u001b[4m\u001b[97mINFO\u001b[0m - Epoch(train) [3][ 3660/11818]  lr: 1.0000e-05  eta: 6:30:04  time: 1.1528  data_time: 0.7928  memory: 1526  grad_norm: 16.1555  loss: 0.4492  top1_acc: 1.0000  top5_acc: 1.0000  loss_cls: 0.4492\r\n"
     ]
    },
    {
     "name": "stdout",
     "output_type": "stream",
     "text": [
      "06/13 03:49:38 - mmengine - \u001b[4m\u001b[97mINFO\u001b[0m - Epoch(train) [3][ 3680/11818]  lr: 1.0000e-05  eta: 6:29:39  time: 1.0392  data_time: 0.6790  memory: 1526  grad_norm: 16.1121  loss: 0.4178  top1_acc: 0.7500  top5_acc: 1.0000  loss_cls: 0.4178\r\n"
     ]
    },
    {
     "name": "stdout",
     "output_type": "stream",
     "text": [
      "06/13 03:50:01 - mmengine - \u001b[4m\u001b[97mINFO\u001b[0m - Epoch(train) [3][ 3700/11818]  lr: 1.0000e-05  eta: 6:29:15  time: 1.1711  data_time: 0.8065  memory: 1526  grad_norm: 13.9952  loss: 0.5536  top1_acc: 0.7500  top5_acc: 0.7500  loss_cls: 0.5536\r\n"
     ]
    },
    {
     "name": "stdout",
     "output_type": "stream",
     "text": [
      "06/13 03:50:29 - mmengine - \u001b[4m\u001b[97mINFO\u001b[0m - Epoch(train) [3][ 3720/11818]  lr: 1.0000e-05  eta: 6:28:55  time: 1.4111  data_time: 1.0464  memory: 1526  grad_norm: 15.8821  loss: 0.5256  top1_acc: 1.0000  top5_acc: 1.0000  loss_cls: 0.5256\r\n"
     ]
    },
    {
     "name": "stdout",
     "output_type": "stream",
     "text": [
      "06/13 03:50:53 - mmengine - \u001b[4m\u001b[97mINFO\u001b[0m - Epoch(train) [3][ 3740/11818]  lr: 1.0000e-05  eta: 6:28:32  time: 1.1823  data_time: 0.8200  memory: 1526  grad_norm: 14.4700  loss: 0.5485  top1_acc: 0.7500  top5_acc: 1.0000  loss_cls: 0.5485\r\n"
     ]
    },
    {
     "name": "stdout",
     "output_type": "stream",
     "text": [
      "06/13 03:51:20 - mmengine - \u001b[4m\u001b[97mINFO\u001b[0m - Epoch(train) [3][ 3760/11818]  lr: 1.0000e-05  eta: 6:28:11  time: 1.3340  data_time: 0.9716  memory: 1526  grad_norm: 18.7790  loss: 0.5766  top1_acc: 0.7500  top5_acc: 1.0000  loss_cls: 0.5766\r\n"
     ]
    },
    {
     "name": "stdout",
     "output_type": "stream",
     "text": [
      "06/13 03:51:42 - mmengine - \u001b[4m\u001b[97mINFO\u001b[0m - Epoch(train) [3][ 3780/11818]  lr: 1.0000e-05  eta: 6:27:47  time: 1.1383  data_time: 0.7768  memory: 1526  grad_norm: 15.6459  loss: 0.4683  top1_acc: 1.0000  top5_acc: 1.0000  loss_cls: 0.4683\r\n"
     ]
    },
    {
     "name": "stdout",
     "output_type": "stream",
     "text": [
      "06/13 03:52:04 - mmengine - \u001b[4m\u001b[97mINFO\u001b[0m - Epoch(train) [3][ 3800/11818]  lr: 1.0000e-05  eta: 6:27:22  time: 1.0985  data_time: 0.7364  memory: 1526  grad_norm: 16.7578  loss: 0.6859  top1_acc: 0.5000  top5_acc: 0.7500  loss_cls: 0.6859\r\n"
     ]
    },
    {
     "name": "stdout",
     "output_type": "stream",
     "text": [
      "06/13 03:52:28 - mmengine - \u001b[4m\u001b[97mINFO\u001b[0m - Epoch(train) [3][ 3820/11818]  lr: 1.0000e-05  eta: 6:26:59  time: 1.1881  data_time: 0.8253  memory: 1526  grad_norm: 14.9013  loss: 0.5118  top1_acc: 0.5000  top5_acc: 1.0000  loss_cls: 0.5118\r\n"
     ]
    },
    {
     "name": "stdout",
     "output_type": "stream",
     "text": [
      "06/13 03:52:53 - mmengine - \u001b[4m\u001b[97mINFO\u001b[0m - Epoch(train) [3][ 3840/11818]  lr: 1.0000e-05  eta: 6:26:37  time: 1.2255  data_time: 0.8647  memory: 1526  grad_norm: 16.5565  loss: 0.4012  top1_acc: 0.5000  top5_acc: 1.0000  loss_cls: 0.4012\r\n"
     ]
    },
    {
     "name": "stdout",
     "output_type": "stream",
     "text": [
      "06/13 03:53:19 - mmengine - \u001b[4m\u001b[97mINFO\u001b[0m - Epoch(train) [3][ 3860/11818]  lr: 1.0000e-05  eta: 6:26:15  time: 1.3121  data_time: 0.9519  memory: 1526  grad_norm: 18.2350  loss: 0.5836  top1_acc: 0.2500  top5_acc: 1.0000  loss_cls: 0.5836\r\n"
     ]
    },
    {
     "name": "stdout",
     "output_type": "stream",
     "text": [
      "06/13 03:53:42 - mmengine - \u001b[4m\u001b[97mINFO\u001b[0m - Epoch(train) [3][ 3880/11818]  lr: 1.0000e-05  eta: 6:25:52  time: 1.1539  data_time: 0.7922  memory: 1526  grad_norm: 15.5169  loss: 0.4021  top1_acc: 1.0000  top5_acc: 1.0000  loss_cls: 0.4021\r\n"
     ]
    },
    {
     "name": "stdout",
     "output_type": "stream",
     "text": [
      "06/13 03:54:06 - mmengine - \u001b[4m\u001b[97mINFO\u001b[0m - Epoch(train) [3][ 3900/11818]  lr: 1.0000e-05  eta: 6:25:29  time: 1.2111  data_time: 0.8494  memory: 1526  grad_norm: 14.2233  loss: 0.4235  top1_acc: 1.0000  top5_acc: 1.0000  loss_cls: 0.4235\r\n"
     ]
    },
    {
     "name": "stdout",
     "output_type": "stream",
     "text": [
      "06/13 03:54:28 - mmengine - \u001b[4m\u001b[97mINFO\u001b[0m - Epoch(train) [3][ 3920/11818]  lr: 1.0000e-05  eta: 6:25:04  time: 1.1009  data_time: 0.7396  memory: 1526  grad_norm: 19.2286  loss: 0.6350  top1_acc: 0.7500  top5_acc: 1.0000  loss_cls: 0.6350\r\n"
     ]
    },
    {
     "name": "stdout",
     "output_type": "stream",
     "text": [
      "06/13 03:54:51 - mmengine - \u001b[4m\u001b[97mINFO\u001b[0m - Epoch(train) [3][ 3940/11818]  lr: 1.0000e-05  eta: 6:24:40  time: 1.1154  data_time: 0.7538  memory: 1526  grad_norm: 14.0875  loss: 0.4296  top1_acc: 1.0000  top5_acc: 1.0000  loss_cls: 0.4296\r\n"
     ]
    },
    {
     "name": "stdout",
     "output_type": "stream",
     "text": [
      "06/13 03:55:12 - mmengine - \u001b[4m\u001b[97mINFO\u001b[0m - Epoch(train) [3][ 3960/11818]  lr: 1.0000e-05  eta: 6:24:15  time: 1.0899  data_time: 0.7255  memory: 1526  grad_norm: 19.6105  loss: 0.6454  top1_acc: 1.0000  top5_acc: 1.0000  loss_cls: 0.6454\r\n"
     ]
    },
    {
     "name": "stdout",
     "output_type": "stream",
     "text": [
      "06/13 03:55:37 - mmengine - \u001b[4m\u001b[97mINFO\u001b[0m - Epoch(train) [3][ 3980/11818]  lr: 1.0000e-05  eta: 6:23:53  time: 1.2502  data_time: 0.8879  memory: 1526  grad_norm: 17.6158  loss: 0.4599  top1_acc: 0.7500  top5_acc: 1.0000  loss_cls: 0.4599\r\n"
     ]
    },
    {
     "name": "stdout",
     "output_type": "stream",
     "text": [
      "06/13 03:56:02 - mmengine - \u001b[4m\u001b[97mINFO\u001b[0m - Epoch(train) [3][ 4000/11818]  lr: 1.0000e-05  eta: 6:23:30  time: 1.2276  data_time: 0.8672  memory: 1526  grad_norm: 15.8893  loss: 0.5100  top1_acc: 1.0000  top5_acc: 1.0000  loss_cls: 0.5100\r\n"
     ]
    },
    {
     "name": "stdout",
     "output_type": "stream",
     "text": [
      "06/13 03:56:27 - mmengine - \u001b[4m\u001b[97mINFO\u001b[0m - Epoch(train) [3][ 4020/11818]  lr: 1.0000e-05  eta: 6:23:08  time: 1.2674  data_time: 0.9057  memory: 1526  grad_norm: 16.5082  loss: 0.4527  top1_acc: 0.7500  top5_acc: 1.0000  loss_cls: 0.4527\r\n"
     ]
    },
    {
     "name": "stdout",
     "output_type": "stream",
     "text": [
      "06/13 03:56:49 - mmengine - \u001b[4m\u001b[97mINFO\u001b[0m - Epoch(train) [3][ 4040/11818]  lr: 1.0000e-05  eta: 6:22:43  time: 1.0707  data_time: 0.7070  memory: 1526  grad_norm: 13.9529  loss: 0.4065  top1_acc: 1.0000  top5_acc: 1.0000  loss_cls: 0.4065\r\n"
     ]
    },
    {
     "name": "stdout",
     "output_type": "stream",
     "text": [
      "06/13 03:57:14 - mmengine - \u001b[4m\u001b[97mINFO\u001b[0m - Epoch(train) [3][ 4060/11818]  lr: 1.0000e-05  eta: 6:22:21  time: 1.2748  data_time: 0.9132  memory: 1526  grad_norm: 19.5300  loss: 0.6052  top1_acc: 0.5000  top5_acc: 1.0000  loss_cls: 0.6052\r\n"
     ]
    },
    {
     "name": "stdout",
     "output_type": "stream",
     "text": [
      "06/13 03:57:40 - mmengine - \u001b[4m\u001b[97mINFO\u001b[0m - Epoch(train) [3][ 4080/11818]  lr: 1.0000e-05  eta: 6:21:59  time: 1.2714  data_time: 0.9102  memory: 1526  grad_norm: 15.6635  loss: 0.4614  top1_acc: 1.0000  top5_acc: 1.0000  loss_cls: 0.4614\r\n"
     ]
    },
    {
     "name": "stdout",
     "output_type": "stream",
     "text": [
      "06/13 03:58:02 - mmengine - \u001b[4m\u001b[97mINFO\u001b[0m - Epoch(train) [3][ 4100/11818]  lr: 1.0000e-05  eta: 6:21:35  time: 1.1117  data_time: 0.7501  memory: 1526  grad_norm: 17.5562  loss: 0.5787  top1_acc: 0.7500  top5_acc: 1.0000  loss_cls: 0.5787\r\n"
     ]
    },
    {
     "name": "stdout",
     "output_type": "stream",
     "text": [
      "06/13 03:58:26 - mmengine - \u001b[4m\u001b[97mINFO\u001b[0m - Epoch(train) [3][ 4120/11818]  lr: 1.0000e-05  eta: 6:21:12  time: 1.2098  data_time: 0.8483  memory: 1526  grad_norm: 15.8717  loss: 0.5210  top1_acc: 0.7500  top5_acc: 1.0000  loss_cls: 0.5210\r\n"
     ]
    },
    {
     "name": "stdout",
     "output_type": "stream",
     "text": [
      "06/13 03:58:52 - mmengine - \u001b[4m\u001b[97mINFO\u001b[0m - Epoch(train) [3][ 4140/11818]  lr: 1.0000e-05  eta: 6:20:51  time: 1.3184  data_time: 0.9558  memory: 1526  grad_norm: 15.4114  loss: 0.4524  top1_acc: 0.7500  top5_acc: 0.7500  loss_cls: 0.4524\r\n"
     ]
    },
    {
     "name": "stdout",
     "output_type": "stream",
     "text": [
      "06/13 03:59:16 - mmengine - \u001b[4m\u001b[97mINFO\u001b[0m - Epoch(train) [3][ 4160/11818]  lr: 1.0000e-05  eta: 6:20:27  time: 1.1574  data_time: 0.7952  memory: 1526  grad_norm: 13.7748  loss: 0.4506  top1_acc: 1.0000  top5_acc: 1.0000  loss_cls: 0.4506\r\n"
     ]
    },
    {
     "name": "stdout",
     "output_type": "stream",
     "text": [
      "06/13 03:59:38 - mmengine - \u001b[4m\u001b[97mINFO\u001b[0m - Epoch(train) [3][ 4180/11818]  lr: 1.0000e-05  eta: 6:20:03  time: 1.1296  data_time: 0.7691  memory: 1526  grad_norm: 16.1351  loss: 0.4822  top1_acc: 1.0000  top5_acc: 1.0000  loss_cls: 0.4822\r\n"
     ]
    },
    {
     "name": "stdout",
     "output_type": "stream",
     "text": [
      "06/13 04:00:00 - mmengine - \u001b[4m\u001b[97mINFO\u001b[0m - Epoch(train) [3][ 4200/11818]  lr: 1.0000e-05  eta: 6:19:39  time: 1.1029  data_time: 0.7404  memory: 1526  grad_norm: 17.8594  loss: 0.5585  top1_acc: 0.5000  top5_acc: 1.0000  loss_cls: 0.5585\r\n"
     ]
    },
    {
     "name": "stdout",
     "output_type": "stream",
     "text": [
      "06/13 04:00:22 - mmengine - \u001b[4m\u001b[97mINFO\u001b[0m - Epoch(train) [3][ 4220/11818]  lr: 1.0000e-05  eta: 6:19:14  time: 1.0986  data_time: 0.7359  memory: 1526  grad_norm: 17.8903  loss: 0.5632  top1_acc: 1.0000  top5_acc: 1.0000  loss_cls: 0.5632\r\n"
     ]
    },
    {
     "name": "stdout",
     "output_type": "stream",
     "text": [
      "06/13 04:00:45 - mmengine - \u001b[4m\u001b[97mINFO\u001b[0m - Epoch(train) [3][ 4240/11818]  lr: 1.0000e-05  eta: 6:18:50  time: 1.1188  data_time: 0.7557  memory: 1526  grad_norm: 14.7453  loss: 0.5069  top1_acc: 1.0000  top5_acc: 1.0000  loss_cls: 0.5069\r\n"
     ]
    },
    {
     "name": "stdout",
     "output_type": "stream",
     "text": [
      "06/13 04:01:10 - mmengine - \u001b[4m\u001b[97mINFO\u001b[0m - Epoch(train) [3][ 4260/11818]  lr: 1.0000e-05  eta: 6:18:28  time: 1.2695  data_time: 0.9071  memory: 1526  grad_norm: 13.1810  loss: 0.3709  top1_acc: 1.0000  top5_acc: 1.0000  loss_cls: 0.3709\r\n"
     ]
    },
    {
     "name": "stdout",
     "output_type": "stream",
     "text": [
      "06/13 04:01:36 - mmengine - \u001b[4m\u001b[97mINFO\u001b[0m - Epoch(train) [3][ 4280/11818]  lr: 1.0000e-05  eta: 6:18:06  time: 1.2894  data_time: 0.9273  memory: 1526  grad_norm: 15.3010  loss: 0.4522  top1_acc: 1.0000  top5_acc: 1.0000  loss_cls: 0.4522\r\n"
     ]
    },
    {
     "name": "stdout",
     "output_type": "stream",
     "text": [
      "06/13 04:02:01 - mmengine - \u001b[4m\u001b[97mINFO\u001b[0m - Epoch(train) [3][ 4300/11818]  lr: 1.0000e-05  eta: 6:17:44  time: 1.2469  data_time: 0.8856  memory: 1526  grad_norm: 18.6317  loss: 0.5321  top1_acc: 1.0000  top5_acc: 1.0000  loss_cls: 0.5321\r\n"
     ]
    },
    {
     "name": "stdout",
     "output_type": "stream",
     "text": [
      "06/13 04:02:22 - mmengine - \u001b[4m\u001b[97mINFO\u001b[0m - Epoch(train) [3][ 4320/11818]  lr: 1.0000e-05  eta: 6:17:19  time: 1.0721  data_time: 0.7101  memory: 1526  grad_norm: 16.1886  loss: 0.4351  top1_acc: 1.0000  top5_acc: 1.0000  loss_cls: 0.4351\r\n"
     ]
    },
    {
     "name": "stdout",
     "output_type": "stream",
     "text": [
      "06/13 04:02:48 - mmengine - \u001b[4m\u001b[97mINFO\u001b[0m - Epoch(train) [3][ 4340/11818]  lr: 1.0000e-05  eta: 6:16:57  time: 1.2935  data_time: 0.9322  memory: 1526  grad_norm: 19.0486  loss: 0.5605  top1_acc: 1.0000  top5_acc: 1.0000  loss_cls: 0.5605\r\n"
     ]
    },
    {
     "name": "stdout",
     "output_type": "stream",
     "text": [
      "06/13 04:03:12 - mmengine - \u001b[4m\u001b[97mINFO\u001b[0m - Epoch(train) [3][ 4360/11818]  lr: 1.0000e-05  eta: 6:16:34  time: 1.1903  data_time: 0.8290  memory: 1526  grad_norm: 17.8443  loss: 0.5580  top1_acc: 1.0000  top5_acc: 1.0000  loss_cls: 0.5580\r\n"
     ]
    },
    {
     "name": "stdout",
     "output_type": "stream",
     "text": [
      "06/13 04:03:16 - mmengine - \u001b[4m\u001b[97mINFO\u001b[0m - Exp name: config_20230612_184603\r\n"
     ]
    },
    {
     "name": "stdout",
     "output_type": "stream",
     "text": [
      "06/13 04:03:35 - mmengine - \u001b[4m\u001b[97mINFO\u001b[0m - Epoch(train) [3][ 4380/11818]  lr: 1.0000e-05  eta: 6:16:10  time: 1.1457  data_time: 0.7833  memory: 1526  grad_norm: 13.7740  loss: 0.3643  top1_acc: 1.0000  top5_acc: 1.0000  loss_cls: 0.3643\r\n"
     ]
    },
    {
     "name": "stdout",
     "output_type": "stream",
     "text": [
      "06/13 04:03:59 - mmengine - \u001b[4m\u001b[97mINFO\u001b[0m - Epoch(train) [3][ 4400/11818]  lr: 1.0000e-05  eta: 6:15:47  time: 1.1994  data_time: 0.8375  memory: 1526  grad_norm: 13.3721  loss: 0.3866  top1_acc: 1.0000  top5_acc: 1.0000  loss_cls: 0.3866\r\n"
     ]
    },
    {
     "name": "stdout",
     "output_type": "stream",
     "text": [
      "06/13 04:04:23 - mmengine - \u001b[4m\u001b[97mINFO\u001b[0m - Epoch(train) [3][ 4420/11818]  lr: 1.0000e-05  eta: 6:15:24  time: 1.2024  data_time: 0.8406  memory: 1526  grad_norm: 19.0246  loss: 0.5514  top1_acc: 0.5000  top5_acc: 0.7500  loss_cls: 0.5514\r\n"
     ]
    },
    {
     "name": "stdout",
     "output_type": "stream",
     "text": [
      "06/13 04:04:46 - mmengine - \u001b[4m\u001b[97mINFO\u001b[0m - Epoch(train) [3][ 4440/11818]  lr: 1.0000e-05  eta: 6:15:01  time: 1.1770  data_time: 0.8150  memory: 1526  grad_norm: 18.9575  loss: 0.5691  top1_acc: 1.0000  top5_acc: 1.0000  loss_cls: 0.5691\r\n"
     ]
    },
    {
     "name": "stdout",
     "output_type": "stream",
     "text": [
      "06/13 04:05:12 - mmengine - \u001b[4m\u001b[97mINFO\u001b[0m - Epoch(train) [3][ 4460/11818]  lr: 1.0000e-05  eta: 6:14:39  time: 1.2775  data_time: 0.9145  memory: 1526  grad_norm: 13.1787  loss: 0.3558  top1_acc: 1.0000  top5_acc: 1.0000  loss_cls: 0.3558\r\n"
     ]
    },
    {
     "name": "stdout",
     "output_type": "stream",
     "text": [
      "06/13 04:05:35 - mmengine - \u001b[4m\u001b[97mINFO\u001b[0m - Epoch(train) [3][ 4480/11818]  lr: 1.0000e-05  eta: 6:14:15  time: 1.1679  data_time: 0.8063  memory: 1526  grad_norm: 16.1361  loss: 0.3634  top1_acc: 1.0000  top5_acc: 1.0000  loss_cls: 0.3634\r\n"
     ]
    },
    {
     "name": "stdout",
     "output_type": "stream",
     "text": [
      "06/13 04:05:57 - mmengine - \u001b[4m\u001b[97mINFO\u001b[0m - Epoch(train) [3][ 4500/11818]  lr: 1.0000e-05  eta: 6:13:51  time: 1.0930  data_time: 0.7322  memory: 1526  grad_norm: 11.6740  loss: 0.3185  top1_acc: 0.2500  top5_acc: 1.0000  loss_cls: 0.3185\r\n"
     ]
    },
    {
     "name": "stdout",
     "output_type": "stream",
     "text": [
      "06/13 04:06:18 - mmengine - \u001b[4m\u001b[97mINFO\u001b[0m - Epoch(train) [3][ 4520/11818]  lr: 1.0000e-05  eta: 6:13:25  time: 1.0370  data_time: 0.6758  memory: 1526  grad_norm: 16.7292  loss: 0.5016  top1_acc: 1.0000  top5_acc: 1.0000  loss_cls: 0.5016\r\n"
     ]
    },
    {
     "name": "stdout",
     "output_type": "stream",
     "text": [
      "06/13 04:06:42 - mmengine - \u001b[4m\u001b[97mINFO\u001b[0m - Epoch(train) [3][ 4540/11818]  lr: 1.0000e-05  eta: 6:13:02  time: 1.1875  data_time: 0.8258  memory: 1526  grad_norm: 16.6430  loss: 0.3800  top1_acc: 1.0000  top5_acc: 1.0000  loss_cls: 0.3800\r\n"
     ]
    },
    {
     "name": "stdout",
     "output_type": "stream",
     "text": [
      "06/13 04:07:07 - mmengine - \u001b[4m\u001b[97mINFO\u001b[0m - Epoch(train) [3][ 4560/11818]  lr: 1.0000e-05  eta: 6:12:40  time: 1.2588  data_time: 0.8978  memory: 1526  grad_norm: 16.5355  loss: 0.5406  top1_acc: 1.0000  top5_acc: 1.0000  loss_cls: 0.5406\r\n"
     ]
    },
    {
     "name": "stdout",
     "output_type": "stream",
     "text": [
      "06/13 04:07:28 - mmengine - \u001b[4m\u001b[97mINFO\u001b[0m - Epoch(train) [3][ 4580/11818]  lr: 1.0000e-05  eta: 6:12:15  time: 1.0743  data_time: 0.7138  memory: 1526  grad_norm: 16.2664  loss: 0.5205  top1_acc: 1.0000  top5_acc: 1.0000  loss_cls: 0.5205\r\n"
     ]
    },
    {
     "name": "stdout",
     "output_type": "stream",
     "text": [
      "06/13 04:07:49 - mmengine - \u001b[4m\u001b[97mINFO\u001b[0m - Epoch(train) [3][ 4600/11818]  lr: 1.0000e-05  eta: 6:11:50  time: 1.0566  data_time: 0.6940  memory: 1526  grad_norm: 17.2396  loss: 0.5374  top1_acc: 1.0000  top5_acc: 1.0000  loss_cls: 0.5374\r\n"
     ]
    },
    {
     "name": "stdout",
     "output_type": "stream",
     "text": [
      "06/13 04:08:12 - mmengine - \u001b[4m\u001b[97mINFO\u001b[0m - Epoch(train) [3][ 4620/11818]  lr: 1.0000e-05  eta: 6:11:26  time: 1.1290  data_time: 0.7670  memory: 1526  grad_norm: 14.4225  loss: 0.4135  top1_acc: 1.0000  top5_acc: 1.0000  loss_cls: 0.4135\r\n"
     ]
    },
    {
     "name": "stdout",
     "output_type": "stream",
     "text": [
      "06/13 04:08:33 - mmengine - \u001b[4m\u001b[97mINFO\u001b[0m - Epoch(train) [3][ 4640/11818]  lr: 1.0000e-05  eta: 6:11:01  time: 1.0692  data_time: 0.7085  memory: 1526  grad_norm: 18.0699  loss: 0.5615  top1_acc: 0.7500  top5_acc: 1.0000  loss_cls: 0.5615\r\n"
     ]
    },
    {
     "name": "stdout",
     "output_type": "stream",
     "text": [
      "06/13 04:08:54 - mmengine - \u001b[4m\u001b[97mINFO\u001b[0m - Epoch(train) [3][ 4660/11818]  lr: 1.0000e-05  eta: 6:10:36  time: 1.0402  data_time: 0.6773  memory: 1526  grad_norm: 16.2486  loss: 0.4594  top1_acc: 1.0000  top5_acc: 1.0000  loss_cls: 0.4594\r\n"
     ]
    },
    {
     "name": "stdout",
     "output_type": "stream",
     "text": [
      "06/13 04:09:18 - mmengine - \u001b[4m\u001b[97mINFO\u001b[0m - Epoch(train) [3][ 4680/11818]  lr: 1.0000e-05  eta: 6:10:13  time: 1.2110  data_time: 0.8492  memory: 1526  grad_norm: 12.8785  loss: 0.4234  top1_acc: 1.0000  top5_acc: 1.0000  loss_cls: 0.4234\r\n"
     ]
    },
    {
     "name": "stdout",
     "output_type": "stream",
     "text": [
      "06/13 04:09:42 - mmengine - \u001b[4m\u001b[97mINFO\u001b[0m - Epoch(train) [3][ 4700/11818]  lr: 1.0000e-05  eta: 6:09:49  time: 1.1531  data_time: 0.7930  memory: 1526  grad_norm: 18.0198  loss: 0.4813  top1_acc: 0.7500  top5_acc: 1.0000  loss_cls: 0.4813\r\n"
     ]
    },
    {
     "name": "stdout",
     "output_type": "stream",
     "text": [
      "06/13 04:10:03 - mmengine - \u001b[4m\u001b[97mINFO\u001b[0m - Epoch(train) [3][ 4720/11818]  lr: 1.0000e-05  eta: 6:09:25  time: 1.0719  data_time: 0.7108  memory: 1526  grad_norm: 14.2819  loss: 0.5425  top1_acc: 0.7500  top5_acc: 1.0000  loss_cls: 0.5425\r\n"
     ]
    },
    {
     "name": "stdout",
     "output_type": "stream",
     "text": [
      "06/13 04:10:22 - mmengine - \u001b[4m\u001b[97mINFO\u001b[0m - Epoch(train) [3][ 4740/11818]  lr: 1.0000e-05  eta: 6:08:58  time: 0.9502  data_time: 0.5882  memory: 1526  grad_norm: 16.8180  loss: 0.5716  top1_acc: 0.5000  top5_acc: 0.7500  loss_cls: 0.5716\r\n"
     ]
    },
    {
     "name": "stdout",
     "output_type": "stream",
     "text": [
      "06/13 04:10:45 - mmengine - \u001b[4m\u001b[97mINFO\u001b[0m - Epoch(train) [3][ 4760/11818]  lr: 1.0000e-05  eta: 6:08:35  time: 1.1553  data_time: 0.7946  memory: 1526  grad_norm: 18.9395  loss: 0.4915  top1_acc: 1.0000  top5_acc: 1.0000  loss_cls: 0.4915\r\n"
     ]
    },
    {
     "name": "stdout",
     "output_type": "stream",
     "text": [
      "06/13 04:11:14 - mmengine - \u001b[4m\u001b[97mINFO\u001b[0m - Epoch(train) [3][ 4780/11818]  lr: 1.0000e-05  eta: 6:08:15  time: 1.4385  data_time: 1.0768  memory: 1526  grad_norm: 18.9779  loss: 0.5712  top1_acc: 0.2500  top5_acc: 1.0000  loss_cls: 0.5712\r\n"
     ]
    },
    {
     "name": "stdout",
     "output_type": "stream",
     "text": [
      "06/13 04:11:35 - mmengine - \u001b[4m\u001b[97mINFO\u001b[0m - Epoch(train) [3][ 4800/11818]  lr: 1.0000e-05  eta: 6:07:50  time: 1.0640  data_time: 0.7016  memory: 1526  grad_norm: 16.9012  loss: 0.5913  top1_acc: 1.0000  top5_acc: 1.0000  loss_cls: 0.5913\r\n"
     ]
    },
    {
     "name": "stdout",
     "output_type": "stream",
     "text": [
      "06/13 04:11:55 - mmengine - \u001b[4m\u001b[97mINFO\u001b[0m - Epoch(train) [3][ 4820/11818]  lr: 1.0000e-05  eta: 6:07:24  time: 1.0125  data_time: 0.6498  memory: 1526  grad_norm: 15.4404  loss: 0.4718  top1_acc: 0.7500  top5_acc: 1.0000  loss_cls: 0.4718\r\n"
     ]
    },
    {
     "name": "stdout",
     "output_type": "stream",
     "text": [
      "06/13 04:12:18 - mmengine - \u001b[4m\u001b[97mINFO\u001b[0m - Epoch(train) [3][ 4840/11818]  lr: 1.0000e-05  eta: 6:07:00  time: 1.1339  data_time: 0.7734  memory: 1526  grad_norm: 11.4668  loss: 0.3612  top1_acc: 1.0000  top5_acc: 1.0000  loss_cls: 0.3612\r\n"
     ]
    },
    {
     "name": "stdout",
     "output_type": "stream",
     "text": [
      "06/13 04:12:40 - mmengine - \u001b[4m\u001b[97mINFO\u001b[0m - Epoch(train) [3][ 4860/11818]  lr: 1.0000e-05  eta: 6:06:36  time: 1.0907  data_time: 0.7285  memory: 1526  grad_norm: 17.0822  loss: 0.5874  top1_acc: 0.7500  top5_acc: 1.0000  loss_cls: 0.5874\r\n"
     ]
    },
    {
     "name": "stdout",
     "output_type": "stream",
     "text": [
      "06/13 04:13:04 - mmengine - \u001b[4m\u001b[97mINFO\u001b[0m - Epoch(train) [3][ 4880/11818]  lr: 1.0000e-05  eta: 6:06:13  time: 1.2103  data_time: 0.8470  memory: 1526  grad_norm: 17.9473  loss: 0.5177  top1_acc: 0.7500  top5_acc: 1.0000  loss_cls: 0.5177\r\n"
     ]
    },
    {
     "name": "stdout",
     "output_type": "stream",
     "text": [
      "06/13 04:13:32 - mmengine - \u001b[4m\u001b[97mINFO\u001b[0m - Epoch(train) [3][ 4900/11818]  lr: 1.0000e-05  eta: 6:05:52  time: 1.3769  data_time: 1.0140  memory: 1526  grad_norm: 16.9262  loss: 0.5014  top1_acc: 0.5000  top5_acc: 1.0000  loss_cls: 0.5014\r\n"
     ]
    },
    {
     "name": "stdout",
     "output_type": "stream",
     "text": [
      "06/13 04:13:55 - mmengine - \u001b[4m\u001b[97mINFO\u001b[0m - Epoch(train) [3][ 4920/11818]  lr: 1.0000e-05  eta: 6:05:29  time: 1.1609  data_time: 0.7958  memory: 1526  grad_norm: 15.3530  loss: 0.4612  top1_acc: 1.0000  top5_acc: 1.0000  loss_cls: 0.4612\r\n"
     ]
    },
    {
     "name": "stdout",
     "output_type": "stream",
     "text": [
      "06/13 04:14:19 - mmengine - \u001b[4m\u001b[97mINFO\u001b[0m - Epoch(train) [3][ 4940/11818]  lr: 1.0000e-05  eta: 6:05:06  time: 1.1957  data_time: 0.8329  memory: 1526  grad_norm: 18.6387  loss: 0.7010  top1_acc: 0.7500  top5_acc: 1.0000  loss_cls: 0.7010\r\n"
     ]
    },
    {
     "name": "stdout",
     "output_type": "stream",
     "text": [
      "06/13 04:14:43 - mmengine - \u001b[4m\u001b[97mINFO\u001b[0m - Epoch(train) [3][ 4960/11818]  lr: 1.0000e-05  eta: 6:04:43  time: 1.2275  data_time: 0.8630  memory: 1526  grad_norm: 15.9619  loss: 0.3757  top1_acc: 1.0000  top5_acc: 1.0000  loss_cls: 0.3757\r\n"
     ]
    },
    {
     "name": "stdout",
     "output_type": "stream",
     "text": [
      "06/13 04:15:07 - mmengine - \u001b[4m\u001b[97mINFO\u001b[0m - Epoch(train) [3][ 4980/11818]  lr: 1.0000e-05  eta: 6:04:19  time: 1.1736  data_time: 0.8096  memory: 1526  grad_norm: 15.9863  loss: 0.3910  top1_acc: 0.7500  top5_acc: 1.0000  loss_cls: 0.3910\r\n"
     ]
    },
    {
     "name": "stdout",
     "output_type": "stream",
     "text": [
      "06/13 04:15:35 - mmengine - \u001b[4m\u001b[97mINFO\u001b[0m - Epoch(train) [3][ 5000/11818]  lr: 1.0000e-05  eta: 6:03:59  time: 1.4087  data_time: 1.0453  memory: 1526  grad_norm: 19.7978  loss: 0.6484  top1_acc: 0.7500  top5_acc: 1.0000  loss_cls: 0.6484\r\n"
     ]
    },
    {
     "name": "stdout",
     "output_type": "stream",
     "text": [
      "06/13 04:16:02 - mmengine - \u001b[4m\u001b[97mINFO\u001b[0m - Epoch(train) [3][ 5020/11818]  lr: 1.0000e-05  eta: 6:03:38  time: 1.3427  data_time: 0.9815  memory: 1526  grad_norm: 15.5712  loss: 0.5117  top1_acc: 1.0000  top5_acc: 1.0000  loss_cls: 0.5117\r\n"
     ]
    },
    {
     "name": "stdout",
     "output_type": "stream",
     "text": [
      "06/13 04:16:25 - mmengine - \u001b[4m\u001b[97mINFO\u001b[0m - Epoch(train) [3][ 5040/11818]  lr: 1.0000e-05  eta: 6:03:14  time: 1.1597  data_time: 0.7975  memory: 1526  grad_norm: 16.7804  loss: 0.3993  top1_acc: 1.0000  top5_acc: 1.0000  loss_cls: 0.3993\r\n"
     ]
    },
    {
     "name": "stdout",
     "output_type": "stream",
     "text": [
      "06/13 04:16:48 - mmengine - \u001b[4m\u001b[97mINFO\u001b[0m - Epoch(train) [3][ 5060/11818]  lr: 1.0000e-05  eta: 6:02:51  time: 1.1583  data_time: 0.7951  memory: 1526  grad_norm: 18.0646  loss: 0.4878  top1_acc: 1.0000  top5_acc: 1.0000  loss_cls: 0.4878\r\n"
     ]
    },
    {
     "name": "stdout",
     "output_type": "stream",
     "text": [
      "06/13 04:17:12 - mmengine - \u001b[4m\u001b[97mINFO\u001b[0m - Epoch(train) [3][ 5080/11818]  lr: 1.0000e-05  eta: 6:02:27  time: 1.1858  data_time: 0.8236  memory: 1526  grad_norm: 14.2733  loss: 0.5650  top1_acc: 0.7500  top5_acc: 1.0000  loss_cls: 0.5650\r\n"
     ]
    },
    {
     "name": "stdout",
     "output_type": "stream",
     "text": [
      "06/13 04:17:35 - mmengine - \u001b[4m\u001b[97mINFO\u001b[0m - Epoch(train) [3][ 5100/11818]  lr: 1.0000e-05  eta: 6:02:04  time: 1.1639  data_time: 0.8035  memory: 1526  grad_norm: 13.4190  loss: 0.4044  top1_acc: 0.5000  top5_acc: 1.0000  loss_cls: 0.4044\r\n"
     ]
    },
    {
     "name": "stdout",
     "output_type": "stream",
     "text": [
      "06/13 04:17:59 - mmengine - \u001b[4m\u001b[97mINFO\u001b[0m - Epoch(train) [3][ 5120/11818]  lr: 1.0000e-05  eta: 6:01:41  time: 1.2127  data_time: 0.8519  memory: 1526  grad_norm: 15.2901  loss: 0.4221  top1_acc: 0.7500  top5_acc: 1.0000  loss_cls: 0.4221\r\n"
     ]
    },
    {
     "name": "stdout",
     "output_type": "stream",
     "text": [
      "06/13 04:18:23 - mmengine - \u001b[4m\u001b[97mINFO\u001b[0m - Epoch(train) [3][ 5140/11818]  lr: 1.0000e-05  eta: 6:01:18  time: 1.2010  data_time: 0.8390  memory: 1526  grad_norm: 18.2252  loss: 0.5856  top1_acc: 1.0000  top5_acc: 1.0000  loss_cls: 0.5856\r\n"
     ]
    },
    {
     "name": "stdout",
     "output_type": "stream",
     "text": [
      "06/13 04:18:51 - mmengine - \u001b[4m\u001b[97mINFO\u001b[0m - Epoch(train) [3][ 5160/11818]  lr: 1.0000e-05  eta: 6:00:57  time: 1.3860  data_time: 1.0234  memory: 1526  grad_norm: 15.5249  loss: 0.4102  top1_acc: 0.5000  top5_acc: 1.0000  loss_cls: 0.4102\r\n"
     ]
    },
    {
     "name": "stdout",
     "output_type": "stream",
     "text": [
      "06/13 04:19:13 - mmengine - \u001b[4m\u001b[97mINFO\u001b[0m - Epoch(train) [3][ 5180/11818]  lr: 1.0000e-05  eta: 6:00:32  time: 1.0721  data_time: 0.7110  memory: 1526  grad_norm: 15.2436  loss: 0.3956  top1_acc: 1.0000  top5_acc: 1.0000  loss_cls: 0.3956\r\n"
     ]
    },
    {
     "name": "stdout",
     "output_type": "stream",
     "text": [
      "06/13 04:19:35 - mmengine - \u001b[4m\u001b[97mINFO\u001b[0m - Epoch(train) [3][ 5200/11818]  lr: 1.0000e-05  eta: 6:00:09  time: 1.1374  data_time: 0.7767  memory: 1526  grad_norm: 14.7973  loss: 0.4317  top1_acc: 1.0000  top5_acc: 1.0000  loss_cls: 0.4317\r\n"
     ]
    },
    {
     "name": "stdout",
     "output_type": "stream",
     "text": [
      "06/13 04:20:00 - mmengine - \u001b[4m\u001b[97mINFO\u001b[0m - Epoch(train) [3][ 5220/11818]  lr: 1.0000e-05  eta: 5:59:46  time: 1.2121  data_time: 0.8508  memory: 1526  grad_norm: 16.6579  loss: 0.4613  top1_acc: 1.0000  top5_acc: 1.0000  loss_cls: 0.4613\r\n"
     ]
    },
    {
     "name": "stdout",
     "output_type": "stream",
     "text": [
      "06/13 04:20:23 - mmengine - \u001b[4m\u001b[97mINFO\u001b[0m - Epoch(train) [3][ 5240/11818]  lr: 1.0000e-05  eta: 5:59:22  time: 1.1449  data_time: 0.7813  memory: 1526  grad_norm: 13.9834  loss: 0.4395  top1_acc: 1.0000  top5_acc: 1.0000  loss_cls: 0.4395\r\n"
     ]
    },
    {
     "name": "stdout",
     "output_type": "stream",
     "text": [
      "06/13 04:20:49 - mmengine - \u001b[4m\u001b[97mINFO\u001b[0m - Epoch(train) [3][ 5260/11818]  lr: 1.0000e-05  eta: 5:59:00  time: 1.3170  data_time: 0.9559  memory: 1526  grad_norm: 15.6608  loss: 0.5048  top1_acc: 0.7500  top5_acc: 1.0000  loss_cls: 0.5048\r\n"
     ]
    },
    {
     "name": "stdout",
     "output_type": "stream",
     "text": [
      "06/13 04:21:12 - mmengine - \u001b[4m\u001b[97mINFO\u001b[0m - Epoch(train) [3][ 5280/11818]  lr: 1.0000e-05  eta: 5:58:37  time: 1.1552  data_time: 0.7950  memory: 1526  grad_norm: 19.0012  loss: 0.5373  top1_acc: 1.0000  top5_acc: 1.0000  loss_cls: 0.5373\r\n"
     ]
    },
    {
     "name": "stdout",
     "output_type": "stream",
     "text": [
      "06/13 04:21:36 - mmengine - \u001b[4m\u001b[97mINFO\u001b[0m - Epoch(train) [3][ 5300/11818]  lr: 1.0000e-05  eta: 5:58:13  time: 1.1959  data_time: 0.8334  memory: 1526  grad_norm: 18.2420  loss: 0.4636  top1_acc: 0.7500  top5_acc: 1.0000  loss_cls: 0.4636\r\n"
     ]
    },
    {
     "name": "stdout",
     "output_type": "stream",
     "text": [
      "06/13 04:22:00 - mmengine - \u001b[4m\u001b[97mINFO\u001b[0m - Epoch(train) [3][ 5320/11818]  lr: 1.0000e-05  eta: 5:57:50  time: 1.2026  data_time: 0.8400  memory: 1526  grad_norm: 18.8950  loss: 0.6120  top1_acc: 1.0000  top5_acc: 1.0000  loss_cls: 0.6120\r\n"
     ]
    },
    {
     "name": "stdout",
     "output_type": "stream",
     "text": [
      "06/13 04:22:24 - mmengine - \u001b[4m\u001b[97mINFO\u001b[0m - Epoch(train) [3][ 5340/11818]  lr: 1.0000e-05  eta: 5:57:27  time: 1.1987  data_time: 0.8363  memory: 1526  grad_norm: 17.3746  loss: 0.5708  top1_acc: 0.7500  top5_acc: 0.7500  loss_cls: 0.5708\r\n"
     ]
    },
    {
     "name": "stdout",
     "output_type": "stream",
     "text": [
      "06/13 04:22:49 - mmengine - \u001b[4m\u001b[97mINFO\u001b[0m - Epoch(train) [3][ 5360/11818]  lr: 1.0000e-05  eta: 5:57:05  time: 1.2639  data_time: 0.9023  memory: 1526  grad_norm: 20.2004  loss: 0.6408  top1_acc: 0.7500  top5_acc: 1.0000  loss_cls: 0.6408\r\n"
     ]
    },
    {
     "name": "stdout",
     "output_type": "stream",
     "text": [
      "06/13 04:22:52 - mmengine - \u001b[4m\u001b[97mINFO\u001b[0m - Exp name: config_20230612_184603\r\n"
     ]
    },
    {
     "name": "stdout",
     "output_type": "stream",
     "text": [
      "06/13 04:23:10 - mmengine - \u001b[4m\u001b[97mINFO\u001b[0m - Epoch(train) [3][ 5380/11818]  lr: 1.0000e-05  eta: 5:56:40  time: 1.0298  data_time: 0.6686  memory: 1526  grad_norm: 16.3928  loss: 0.5155  top1_acc: 1.0000  top5_acc: 1.0000  loss_cls: 0.5155\r\n"
     ]
    },
    {
     "name": "stdout",
     "output_type": "stream",
     "text": [
      "06/13 04:23:32 - mmengine - \u001b[4m\u001b[97mINFO\u001b[0m - Epoch(train) [3][ 5400/11818]  lr: 1.0000e-05  eta: 5:56:15  time: 1.0905  data_time: 0.7291  memory: 1526  grad_norm: 14.4097  loss: 0.4759  top1_acc: 0.7500  top5_acc: 1.0000  loss_cls: 0.4759\r\n"
     ]
    },
    {
     "name": "stdout",
     "output_type": "stream",
     "text": [
      "06/13 04:23:52 - mmengine - \u001b[4m\u001b[97mINFO\u001b[0m - Epoch(train) [3][ 5420/11818]  lr: 1.0000e-05  eta: 5:55:50  time: 1.0375  data_time: 0.6765  memory: 1526  grad_norm: 16.4058  loss: 0.3714  top1_acc: 1.0000  top5_acc: 1.0000  loss_cls: 0.3714\r\n"
     ]
    },
    {
     "name": "stdout",
     "output_type": "stream",
     "text": [
      "06/13 04:24:17 - mmengine - \u001b[4m\u001b[97mINFO\u001b[0m - Epoch(train) [3][ 5440/11818]  lr: 1.0000e-05  eta: 5:55:28  time: 1.2451  data_time: 0.8836  memory: 1526  grad_norm: 20.4569  loss: 0.6371  top1_acc: 1.0000  top5_acc: 1.0000  loss_cls: 0.6371\r\n"
     ]
    },
    {
     "name": "stdout",
     "output_type": "stream",
     "text": [
      "06/13 04:24:42 - mmengine - \u001b[4m\u001b[97mINFO\u001b[0m - Epoch(train) [3][ 5460/11818]  lr: 1.0000e-05  eta: 5:55:05  time: 1.2309  data_time: 0.8702  memory: 1526  grad_norm: 16.3537  loss: 0.4918  top1_acc: 0.7500  top5_acc: 1.0000  loss_cls: 0.4918\r\n"
     ]
    },
    {
     "name": "stdout",
     "output_type": "stream",
     "text": [
      "06/13 04:25:06 - mmengine - \u001b[4m\u001b[97mINFO\u001b[0m - Epoch(train) [3][ 5480/11818]  lr: 1.0000e-05  eta: 5:54:42  time: 1.2094  data_time: 0.8475  memory: 1526  grad_norm: 14.1653  loss: 0.4355  top1_acc: 0.5000  top5_acc: 0.7500  loss_cls: 0.4355\r\n"
     ]
    },
    {
     "name": "stdout",
     "output_type": "stream",
     "text": [
      "06/13 04:25:27 - mmengine - \u001b[4m\u001b[97mINFO\u001b[0m - Epoch(train) [3][ 5500/11818]  lr: 1.0000e-05  eta: 5:54:17  time: 1.0517  data_time: 0.6913  memory: 1526  grad_norm: 11.8908  loss: 0.2890  top1_acc: 1.0000  top5_acc: 1.0000  loss_cls: 0.2890\r\n"
     ]
    },
    {
     "name": "stdout",
     "output_type": "stream",
     "text": [
      "06/13 04:25:53 - mmengine - \u001b[4m\u001b[97mINFO\u001b[0m - Epoch(train) [3][ 5520/11818]  lr: 1.0000e-05  eta: 5:53:55  time: 1.2919  data_time: 0.9289  memory: 1526  grad_norm: 17.1112  loss: 0.4852  top1_acc: 1.0000  top5_acc: 1.0000  loss_cls: 0.4852\r\n"
     ]
    },
    {
     "name": "stdout",
     "output_type": "stream",
     "text": [
      "06/13 04:26:18 - mmengine - \u001b[4m\u001b[97mINFO\u001b[0m - Epoch(train) [3][ 5540/11818]  lr: 1.0000e-05  eta: 5:53:33  time: 1.2515  data_time: 0.8897  memory: 1526  grad_norm: 20.0061  loss: 0.7600  top1_acc: 0.2500  top5_acc: 1.0000  loss_cls: 0.7600\r\n"
     ]
    },
    {
     "name": "stdout",
     "output_type": "stream",
     "text": [
      "06/13 04:26:43 - mmengine - \u001b[4m\u001b[97mINFO\u001b[0m - Epoch(train) [3][ 5560/11818]  lr: 1.0000e-05  eta: 5:53:10  time: 1.2512  data_time: 0.8888  memory: 1526  grad_norm: 16.2858  loss: 0.5128  top1_acc: 0.7500  top5_acc: 1.0000  loss_cls: 0.5128\r\n"
     ]
    },
    {
     "name": "stdout",
     "output_type": "stream",
     "text": [
      "06/13 04:27:08 - mmengine - \u001b[4m\u001b[97mINFO\u001b[0m - Epoch(train) [3][ 5580/11818]  lr: 1.0000e-05  eta: 5:52:48  time: 1.2636  data_time: 0.9010  memory: 1526  grad_norm: 23.5977  loss: 0.7596  top1_acc: 0.7500  top5_acc: 1.0000  loss_cls: 0.7596\r\n"
     ]
    },
    {
     "name": "stdout",
     "output_type": "stream",
     "text": [
      "06/13 04:27:30 - mmengine - \u001b[4m\u001b[97mINFO\u001b[0m - Epoch(train) [3][ 5600/11818]  lr: 1.0000e-05  eta: 5:52:23  time: 1.0954  data_time: 0.7339  memory: 1526  grad_norm: 17.3103  loss: 0.4509  top1_acc: 1.0000  top5_acc: 1.0000  loss_cls: 0.4509\r\n"
     ]
    },
    {
     "name": "stdout",
     "output_type": "stream",
     "text": [
      "06/13 04:27:56 - mmengine - \u001b[4m\u001b[97mINFO\u001b[0m - Epoch(train) [3][ 5620/11818]  lr: 1.0000e-05  eta: 5:52:01  time: 1.2886  data_time: 0.9268  memory: 1526  grad_norm: 19.8485  loss: 0.6629  top1_acc: 1.0000  top5_acc: 1.0000  loss_cls: 0.6629\r\n"
     ]
    },
    {
     "name": "stdout",
     "output_type": "stream",
     "text": [
      "06/13 04:28:17 - mmengine - \u001b[4m\u001b[97mINFO\u001b[0m - Epoch(train) [3][ 5640/11818]  lr: 1.0000e-05  eta: 5:51:37  time: 1.0602  data_time: 0.6962  memory: 1526  grad_norm: 16.8962  loss: 0.4941  top1_acc: 1.0000  top5_acc: 1.0000  loss_cls: 0.4941\r\n"
     ]
    },
    {
     "name": "stdout",
     "output_type": "stream",
     "text": [
      "06/13 04:28:39 - mmengine - \u001b[4m\u001b[97mINFO\u001b[0m - Epoch(train) [3][ 5660/11818]  lr: 1.0000e-05  eta: 5:51:12  time: 1.1062  data_time: 0.7442  memory: 1526  grad_norm: 14.9171  loss: 0.5155  top1_acc: 1.0000  top5_acc: 1.0000  loss_cls: 0.5155\r\n"
     ]
    },
    {
     "name": "stdout",
     "output_type": "stream",
     "text": [
      "06/13 04:29:04 - mmengine - \u001b[4m\u001b[97mINFO\u001b[0m - Epoch(train) [3][ 5680/11818]  lr: 1.0000e-05  eta: 5:50:49  time: 1.2118  data_time: 0.8500  memory: 1526  grad_norm: 17.4306  loss: 0.4759  top1_acc: 0.7500  top5_acc: 1.0000  loss_cls: 0.4759\r\n"
     ]
    },
    {
     "name": "stdout",
     "output_type": "stream",
     "text": [
      "06/13 04:29:30 - mmengine - \u001b[4m\u001b[97mINFO\u001b[0m - Epoch(train) [3][ 5700/11818]  lr: 1.0000e-05  eta: 5:50:28  time: 1.3390  data_time: 0.9764  memory: 1526  grad_norm: 18.9414  loss: 0.4781  top1_acc: 1.0000  top5_acc: 1.0000  loss_cls: 0.4781\r\n"
     ]
    },
    {
     "name": "stdout",
     "output_type": "stream",
     "text": [
      "06/13 04:29:54 - mmengine - \u001b[4m\u001b[97mINFO\u001b[0m - Epoch(train) [3][ 5720/11818]  lr: 1.0000e-05  eta: 5:50:05  time: 1.1816  data_time: 0.8192  memory: 1526  grad_norm: 17.3923  loss: 0.6012  top1_acc: 1.0000  top5_acc: 1.0000  loss_cls: 0.6012\r\n"
     ]
    },
    {
     "name": "stdout",
     "output_type": "stream",
     "text": [
      "06/13 04:30:20 - mmengine - \u001b[4m\u001b[97mINFO\u001b[0m - Epoch(train) [3][ 5740/11818]  lr: 1.0000e-05  eta: 5:49:43  time: 1.2868  data_time: 0.9265  memory: 1526  grad_norm: 14.0163  loss: 0.4217  top1_acc: 1.0000  top5_acc: 1.0000  loss_cls: 0.4217\r\n"
     ]
    },
    {
     "name": "stdout",
     "output_type": "stream",
     "text": [
      "06/13 04:30:43 - mmengine - \u001b[4m\u001b[97mINFO\u001b[0m - Epoch(train) [3][ 5760/11818]  lr: 1.0000e-05  eta: 5:49:19  time: 1.1721  data_time: 0.8107  memory: 1526  grad_norm: 16.2901  loss: 0.5428  top1_acc: 1.0000  top5_acc: 1.0000  loss_cls: 0.5428\r\n"
     ]
    },
    {
     "name": "stdout",
     "output_type": "stream",
     "text": [
      "06/13 04:31:08 - mmengine - \u001b[4m\u001b[97mINFO\u001b[0m - Epoch(train) [3][ 5780/11818]  lr: 1.0000e-05  eta: 5:48:56  time: 1.2304  data_time: 0.8680  memory: 1526  grad_norm: 18.2927  loss: 0.4640  top1_acc: 1.0000  top5_acc: 1.0000  loss_cls: 0.4640\r\n"
     ]
    },
    {
     "name": "stdout",
     "output_type": "stream",
     "text": [
      "06/13 04:31:29 - mmengine - \u001b[4m\u001b[97mINFO\u001b[0m - Epoch(train) [3][ 5800/11818]  lr: 1.0000e-05  eta: 5:48:31  time: 1.0544  data_time: 0.6930  memory: 1526  grad_norm: 16.4825  loss: 0.5104  top1_acc: 0.7500  top5_acc: 1.0000  loss_cls: 0.5104\r\n"
     ]
    },
    {
     "name": "stdout",
     "output_type": "stream",
     "text": [
      "06/13 04:31:51 - mmengine - \u001b[4m\u001b[97mINFO\u001b[0m - Epoch(train) [3][ 5820/11818]  lr: 1.0000e-05  eta: 5:48:07  time: 1.1141  data_time: 0.7519  memory: 1526  grad_norm: 17.0348  loss: 0.4982  top1_acc: 0.5000  top5_acc: 0.7500  loss_cls: 0.4982\r\n"
     ]
    },
    {
     "name": "stdout",
     "output_type": "stream",
     "text": [
      "06/13 04:32:13 - mmengine - \u001b[4m\u001b[97mINFO\u001b[0m - Epoch(train) [3][ 5840/11818]  lr: 1.0000e-05  eta: 5:47:43  time: 1.0955  data_time: 0.7334  memory: 1526  grad_norm: 15.6094  loss: 0.4783  top1_acc: 1.0000  top5_acc: 1.0000  loss_cls: 0.4783\r\n"
     ]
    },
    {
     "name": "stdout",
     "output_type": "stream",
     "text": [
      "06/13 04:32:36 - mmengine - \u001b[4m\u001b[97mINFO\u001b[0m - Epoch(train) [3][ 5860/11818]  lr: 1.0000e-05  eta: 5:47:19  time: 1.1539  data_time: 0.7916  memory: 1526  grad_norm: 15.9300  loss: 0.3735  top1_acc: 1.0000  top5_acc: 1.0000  loss_cls: 0.3735\r\n"
     ]
    },
    {
     "name": "stdout",
     "output_type": "stream",
     "text": [
      "06/13 04:33:00 - mmengine - \u001b[4m\u001b[97mINFO\u001b[0m - Epoch(train) [3][ 5880/11818]  lr: 1.0000e-05  eta: 5:46:56  time: 1.1730  data_time: 0.8112  memory: 1526  grad_norm: 16.0020  loss: 0.4929  top1_acc: 0.5000  top5_acc: 1.0000  loss_cls: 0.4929\r\n"
     ]
    },
    {
     "name": "stdout",
     "output_type": "stream",
     "text": [
      "06/13 04:33:26 - mmengine - \u001b[4m\u001b[97mINFO\u001b[0m - Epoch(train) [3][ 5900/11818]  lr: 1.0000e-05  eta: 5:46:34  time: 1.3398  data_time: 0.9761  memory: 1526  grad_norm: 14.0758  loss: 0.3448  top1_acc: 0.7500  top5_acc: 1.0000  loss_cls: 0.3448\r\n"
     ]
    },
    {
     "name": "stdout",
     "output_type": "stream",
     "text": [
      "06/13 04:33:50 - mmengine - \u001b[4m\u001b[97mINFO\u001b[0m - Epoch(train) [3][ 5920/11818]  lr: 1.0000e-05  eta: 5:46:11  time: 1.1685  data_time: 0.8077  memory: 1526  grad_norm: 14.8908  loss: 0.4581  top1_acc: 1.0000  top5_acc: 1.0000  loss_cls: 0.4581\r\n"
     ]
    },
    {
     "name": "stdout",
     "output_type": "stream",
     "text": [
      "06/13 04:34:14 - mmengine - \u001b[4m\u001b[97mINFO\u001b[0m - Epoch(train) [3][ 5940/11818]  lr: 1.0000e-05  eta: 5:45:48  time: 1.2229  data_time: 0.8598  memory: 1526  grad_norm: 14.7499  loss: 0.5062  top1_acc: 0.5000  top5_acc: 0.7500  loss_cls: 0.5062\r\n"
     ]
    },
    {
     "name": "stdout",
     "output_type": "stream",
     "text": [
      "06/13 04:34:38 - mmengine - \u001b[4m\u001b[97mINFO\u001b[0m - Epoch(train) [3][ 5960/11818]  lr: 1.0000e-05  eta: 5:45:25  time: 1.2100  data_time: 0.8460  memory: 1526  grad_norm: 14.4780  loss: 0.4509  top1_acc: 1.0000  top5_acc: 1.0000  loss_cls: 0.4509\r\n"
     ]
    },
    {
     "name": "stdout",
     "output_type": "stream",
     "text": [
      "06/13 04:35:03 - mmengine - \u001b[4m\u001b[97mINFO\u001b[0m - Epoch(train) [3][ 5980/11818]  lr: 1.0000e-05  eta: 5:45:02  time: 1.2177  data_time: 0.8550  memory: 1526  grad_norm: 16.1853  loss: 0.5057  top1_acc: 1.0000  top5_acc: 1.0000  loss_cls: 0.5057\r\n"
     ]
    },
    {
     "name": "stdout",
     "output_type": "stream",
     "text": [
      "06/13 04:35:24 - mmengine - \u001b[4m\u001b[97mINFO\u001b[0m - Epoch(train) [3][ 6000/11818]  lr: 1.0000e-05  eta: 5:44:37  time: 1.0403  data_time: 0.6796  memory: 1526  grad_norm: 12.1492  loss: 0.3050  top1_acc: 0.7500  top5_acc: 1.0000  loss_cls: 0.3050\r\n"
     ]
    },
    {
     "name": "stdout",
     "output_type": "stream",
     "text": [
      "06/13 04:35:51 - mmengine - \u001b[4m\u001b[97mINFO\u001b[0m - Epoch(train) [3][ 6020/11818]  lr: 1.0000e-05  eta: 5:44:16  time: 1.3702  data_time: 1.0092  memory: 1526  grad_norm: 14.0959  loss: 0.3768  top1_acc: 1.0000  top5_acc: 1.0000  loss_cls: 0.3768\r\n"
     ]
    },
    {
     "name": "stdout",
     "output_type": "stream",
     "text": [
      "06/13 04:36:13 - mmengine - \u001b[4m\u001b[97mINFO\u001b[0m - Epoch(train) [3][ 6040/11818]  lr: 1.0000e-05  eta: 5:43:52  time: 1.0920  data_time: 0.7292  memory: 1526  grad_norm: 18.3941  loss: 0.5131  top1_acc: 0.7500  top5_acc: 1.0000  loss_cls: 0.5131\r\n"
     ]
    },
    {
     "name": "stdout",
     "output_type": "stream",
     "text": [
      "06/13 04:36:36 - mmengine - \u001b[4m\u001b[97mINFO\u001b[0m - Epoch(train) [3][ 6060/11818]  lr: 1.0000e-05  eta: 5:43:28  time: 1.1796  data_time: 0.8178  memory: 1526  grad_norm: 16.3562  loss: 0.5011  top1_acc: 1.0000  top5_acc: 1.0000  loss_cls: 0.5011\r\n"
     ]
    },
    {
     "name": "stdout",
     "output_type": "stream",
     "text": [
      "06/13 04:36:59 - mmengine - \u001b[4m\u001b[97mINFO\u001b[0m - Epoch(train) [3][ 6080/11818]  lr: 1.0000e-05  eta: 5:43:04  time: 1.1193  data_time: 0.7576  memory: 1526  grad_norm: 16.0401  loss: 0.3903  top1_acc: 0.7500  top5_acc: 1.0000  loss_cls: 0.3903\r\n"
     ]
    },
    {
     "name": "stdout",
     "output_type": "stream",
     "text": [
      "06/13 04:37:23 - mmengine - \u001b[4m\u001b[97mINFO\u001b[0m - Epoch(train) [3][ 6100/11818]  lr: 1.0000e-05  eta: 5:42:41  time: 1.1865  data_time: 0.8253  memory: 1526  grad_norm: 16.5781  loss: 0.4852  top1_acc: 0.7500  top5_acc: 1.0000  loss_cls: 0.4852\r\n"
     ]
    },
    {
     "name": "stdout",
     "output_type": "stream",
     "text": [
      "06/13 04:37:43 - mmengine - \u001b[4m\u001b[97mINFO\u001b[0m - Epoch(train) [3][ 6120/11818]  lr: 1.0000e-05  eta: 5:42:16  time: 1.0428  data_time: 0.6817  memory: 1526  grad_norm: 16.6395  loss: 0.5208  top1_acc: 0.7500  top5_acc: 1.0000  loss_cls: 0.5208\r\n"
     ]
    },
    {
     "name": "stdout",
     "output_type": "stream",
     "text": [
      "06/13 04:38:08 - mmengine - \u001b[4m\u001b[97mINFO\u001b[0m - Epoch(train) [3][ 6140/11818]  lr: 1.0000e-05  eta: 5:41:53  time: 1.2177  data_time: 0.8545  memory: 1526  grad_norm: 17.1792  loss: 0.4938  top1_acc: 0.7500  top5_acc: 1.0000  loss_cls: 0.4938\r\n"
     ]
    },
    {
     "name": "stdout",
     "output_type": "stream",
     "text": [
      "06/13 04:38:32 - mmengine - \u001b[4m\u001b[97mINFO\u001b[0m - Epoch(train) [3][ 6160/11818]  lr: 1.0000e-05  eta: 5:41:30  time: 1.2254  data_time: 0.8619  memory: 1526  grad_norm: 14.4353  loss: 0.4336  top1_acc: 1.0000  top5_acc: 1.0000  loss_cls: 0.4336\r\n"
     ]
    },
    {
     "name": "stdout",
     "output_type": "stream",
     "text": [
      "06/13 04:38:57 - mmengine - \u001b[4m\u001b[97mINFO\u001b[0m - Epoch(train) [3][ 6180/11818]  lr: 1.0000e-05  eta: 5:41:07  time: 1.2245  data_time: 0.8632  memory: 1526  grad_norm: 17.1896  loss: 0.5542  top1_acc: 0.7500  top5_acc: 0.7500  loss_cls: 0.5542\r\n"
     ]
    },
    {
     "name": "stdout",
     "output_type": "stream",
     "text": [
      "06/13 04:39:21 - mmengine - \u001b[4m\u001b[97mINFO\u001b[0m - Epoch(train) [3][ 6200/11818]  lr: 1.0000e-05  eta: 5:40:44  time: 1.2016  data_time: 0.8399  memory: 1526  grad_norm: 15.4942  loss: 0.4750  top1_acc: 0.5000  top5_acc: 0.7500  loss_cls: 0.4750\r\n"
     ]
    },
    {
     "name": "stdout",
     "output_type": "stream",
     "text": [
      "06/13 04:39:44 - mmengine - \u001b[4m\u001b[97mINFO\u001b[0m - Epoch(train) [3][ 6220/11818]  lr: 1.0000e-05  eta: 5:40:21  time: 1.1717  data_time: 0.8113  memory: 1526  grad_norm: 17.5894  loss: 0.4744  top1_acc: 1.0000  top5_acc: 1.0000  loss_cls: 0.4744\r\n"
     ]
    },
    {
     "name": "stdout",
     "output_type": "stream",
     "text": [
      "06/13 04:40:08 - mmengine - \u001b[4m\u001b[97mINFO\u001b[0m - Epoch(train) [3][ 6240/11818]  lr: 1.0000e-05  eta: 5:39:57  time: 1.1834  data_time: 0.8219  memory: 1526  grad_norm: 18.7697  loss: 0.6019  top1_acc: 1.0000  top5_acc: 1.0000  loss_cls: 0.6019\r\n"
     ]
    },
    {
     "name": "stdout",
     "output_type": "stream",
     "text": [
      "06/13 04:40:28 - mmengine - \u001b[4m\u001b[97mINFO\u001b[0m - Epoch(train) [3][ 6260/11818]  lr: 1.0000e-05  eta: 5:39:32  time: 1.0074  data_time: 0.6458  memory: 1526  grad_norm: 19.2901  loss: 0.6646  top1_acc: 1.0000  top5_acc: 1.0000  loss_cls: 0.6646\r\n"
     ]
    },
    {
     "name": "stdout",
     "output_type": "stream",
     "text": [
      "06/13 04:40:50 - mmengine - \u001b[4m\u001b[97mINFO\u001b[0m - Epoch(train) [3][ 6280/11818]  lr: 1.0000e-05  eta: 5:39:08  time: 1.1000  data_time: 0.7361  memory: 1526  grad_norm: 20.3747  loss: 0.5623  top1_acc: 0.7500  top5_acc: 1.0000  loss_cls: 0.5623\r\n"
     ]
    },
    {
     "name": "stdout",
     "output_type": "stream",
     "text": [
      "06/13 04:41:13 - mmengine - \u001b[4m\u001b[97mINFO\u001b[0m - Epoch(train) [3][ 6300/11818]  lr: 1.0000e-05  eta: 5:38:44  time: 1.1397  data_time: 0.7795  memory: 1526  grad_norm: 17.2471  loss: 0.5215  top1_acc: 1.0000  top5_acc: 1.0000  loss_cls: 0.5215\r\n"
     ]
    },
    {
     "name": "stdout",
     "output_type": "stream",
     "text": [
      "06/13 04:41:35 - mmengine - \u001b[4m\u001b[97mINFO\u001b[0m - Epoch(train) [3][ 6320/11818]  lr: 1.0000e-05  eta: 5:38:20  time: 1.1035  data_time: 0.7412  memory: 1526  grad_norm: 14.3419  loss: 0.3584  top1_acc: 0.7500  top5_acc: 1.0000  loss_cls: 0.3584\r\n"
     ]
    },
    {
     "name": "stdout",
     "output_type": "stream",
     "text": [
      "06/13 04:41:58 - mmengine - \u001b[4m\u001b[97mINFO\u001b[0m - Epoch(train) [3][ 6340/11818]  lr: 1.0000e-05  eta: 5:37:56  time: 1.1530  data_time: 0.7908  memory: 1526  grad_norm: 18.5415  loss: 0.5831  top1_acc: 0.5000  top5_acc: 1.0000  loss_cls: 0.5831\r\n"
     ]
    },
    {
     "name": "stdout",
     "output_type": "stream",
     "text": [
      "06/13 04:42:20 - mmengine - \u001b[4m\u001b[97mINFO\u001b[0m - Epoch(train) [3][ 6360/11818]  lr: 1.0000e-05  eta: 5:37:32  time: 1.0910  data_time: 0.7303  memory: 1526  grad_norm: 15.8167  loss: 0.4926  top1_acc: 0.7500  top5_acc: 0.7500  loss_cls: 0.4926\r\n"
     ]
    },
    {
     "name": "stdout",
     "output_type": "stream",
     "text": [
      "06/13 04:42:25 - mmengine - \u001b[4m\u001b[97mINFO\u001b[0m - Exp name: config_20230612_184603\r\n"
     ]
    },
    {
     "name": "stdout",
     "output_type": "stream",
     "text": [
      "06/13 04:42:41 - mmengine - \u001b[4m\u001b[97mINFO\u001b[0m - Epoch(train) [3][ 6380/11818]  lr: 1.0000e-05  eta: 5:37:07  time: 1.0502  data_time: 0.6875  memory: 1526  grad_norm: 16.3960  loss: 0.5393  top1_acc: 1.0000  top5_acc: 1.0000  loss_cls: 0.5393\r\n"
     ]
    },
    {
     "name": "stdout",
     "output_type": "stream",
     "text": [
      "06/13 04:43:03 - mmengine - \u001b[4m\u001b[97mINFO\u001b[0m - Epoch(train) [3][ 6400/11818]  lr: 1.0000e-05  eta: 5:36:43  time: 1.1090  data_time: 0.7470  memory: 1526  grad_norm: 16.8123  loss: 0.4182  top1_acc: 1.0000  top5_acc: 1.0000  loss_cls: 0.4182\r\n"
     ]
    },
    {
     "name": "stdout",
     "output_type": "stream",
     "text": [
      "06/13 04:43:30 - mmengine - \u001b[4m\u001b[97mINFO\u001b[0m - Epoch(train) [3][ 6420/11818]  lr: 1.0000e-05  eta: 5:36:21  time: 1.3524  data_time: 0.9917  memory: 1526  grad_norm: 14.0471  loss: 0.4341  top1_acc: 1.0000  top5_acc: 1.0000  loss_cls: 0.4341\r\n"
     ]
    },
    {
     "name": "stdout",
     "output_type": "stream",
     "text": [
      "06/13 04:43:55 - mmengine - \u001b[4m\u001b[97mINFO\u001b[0m - Epoch(train) [3][ 6440/11818]  lr: 1.0000e-05  eta: 5:35:59  time: 1.2356  data_time: 0.8743  memory: 1526  grad_norm: 14.8015  loss: 0.4225  top1_acc: 1.0000  top5_acc: 1.0000  loss_cls: 0.4225\r\n"
     ]
    },
    {
     "name": "stdout",
     "output_type": "stream",
     "text": [
      "06/13 04:44:19 - mmengine - \u001b[4m\u001b[97mINFO\u001b[0m - Epoch(train) [3][ 6460/11818]  lr: 1.0000e-05  eta: 5:35:36  time: 1.2175  data_time: 0.8554  memory: 1526  grad_norm: 15.3077  loss: 0.4932  top1_acc: 1.0000  top5_acc: 1.0000  loss_cls: 0.4932\r\n"
     ]
    },
    {
     "name": "stdout",
     "output_type": "stream",
     "text": [
      "06/13 04:44:40 - mmengine - \u001b[4m\u001b[97mINFO\u001b[0m - Epoch(train) [3][ 6480/11818]  lr: 1.0000e-05  eta: 5:35:11  time: 1.0361  data_time: 0.6751  memory: 1526  grad_norm: 16.9599  loss: 0.5686  top1_acc: 1.0000  top5_acc: 1.0000  loss_cls: 0.5686\r\n"
     ]
    },
    {
     "name": "stdout",
     "output_type": "stream",
     "text": [
      "06/13 04:45:04 - mmengine - \u001b[4m\u001b[97mINFO\u001b[0m - Epoch(train) [3][ 6500/11818]  lr: 1.0000e-05  eta: 5:34:48  time: 1.2090  data_time: 0.8476  memory: 1526  grad_norm: 18.9088  loss: 0.6079  top1_acc: 0.7500  top5_acc: 1.0000  loss_cls: 0.6079\r\n"
     ]
    },
    {
     "name": "stdout",
     "output_type": "stream",
     "text": [
      "06/13 04:45:30 - mmengine - \u001b[4m\u001b[97mINFO\u001b[0m - Epoch(train) [3][ 6520/11818]  lr: 1.0000e-05  eta: 5:34:26  time: 1.3189  data_time: 0.9583  memory: 1526  grad_norm: 16.2088  loss: 0.5483  top1_acc: 1.0000  top5_acc: 1.0000  loss_cls: 0.5483\r\n"
     ]
    },
    {
     "name": "stdout",
     "output_type": "stream",
     "text": [
      "06/13 04:45:53 - mmengine - \u001b[4m\u001b[97mINFO\u001b[0m - Epoch(train) [3][ 6540/11818]  lr: 1.0000e-05  eta: 5:34:02  time: 1.1473  data_time: 0.7849  memory: 1526  grad_norm: 14.5846  loss: 0.3411  top1_acc: 1.0000  top5_acc: 1.0000  loss_cls: 0.3411\r\n"
     ]
    },
    {
     "name": "stdout",
     "output_type": "stream",
     "text": [
      "06/13 04:46:16 - mmengine - \u001b[4m\u001b[97mINFO\u001b[0m - Epoch(train) [3][ 6560/11818]  lr: 1.0000e-05  eta: 5:33:38  time: 1.1258  data_time: 0.7632  memory: 1526  grad_norm: 17.8273  loss: 0.6458  top1_acc: 0.7500  top5_acc: 1.0000  loss_cls: 0.6458\r\n"
     ]
    },
    {
     "name": "stdout",
     "output_type": "stream",
     "text": [
      "06/13 04:46:39 - mmengine - \u001b[4m\u001b[97mINFO\u001b[0m - Epoch(train) [3][ 6580/11818]  lr: 1.0000e-05  eta: 5:33:15  time: 1.1684  data_time: 0.8061  memory: 1526  grad_norm: 17.3115  loss: 0.5409  top1_acc: 1.0000  top5_acc: 1.0000  loss_cls: 0.5409\r\n"
     ]
    },
    {
     "name": "stdout",
     "output_type": "stream",
     "text": [
      "06/13 04:47:01 - mmengine - \u001b[4m\u001b[97mINFO\u001b[0m - Epoch(train) [3][ 6600/11818]  lr: 1.0000e-05  eta: 5:32:50  time: 1.0837  data_time: 0.7207  memory: 1526  grad_norm: 16.4332  loss: 0.4831  top1_acc: 1.0000  top5_acc: 1.0000  loss_cls: 0.4831\r\n"
     ]
    },
    {
     "name": "stdout",
     "output_type": "stream",
     "text": [
      "06/13 04:47:24 - mmengine - \u001b[4m\u001b[97mINFO\u001b[0m - Epoch(train) [3][ 6620/11818]  lr: 1.0000e-05  eta: 5:32:26  time: 1.1295  data_time: 0.7677  memory: 1526  grad_norm: 18.0946  loss: 0.5739  top1_acc: 1.0000  top5_acc: 1.0000  loss_cls: 0.5739\r\n"
     ]
    },
    {
     "name": "stdout",
     "output_type": "stream",
     "text": [
      "06/13 04:47:46 - mmengine - \u001b[4m\u001b[97mINFO\u001b[0m - Epoch(train) [3][ 6640/11818]  lr: 1.0000e-05  eta: 5:32:02  time: 1.1208  data_time: 0.7576  memory: 1526  grad_norm: 17.8271  loss: 0.5248  top1_acc: 0.7500  top5_acc: 1.0000  loss_cls: 0.5248\r\n"
     ]
    },
    {
     "name": "stdout",
     "output_type": "stream",
     "text": [
      "06/13 04:48:15 - mmengine - \u001b[4m\u001b[97mINFO\u001b[0m - Epoch(train) [3][ 6660/11818]  lr: 1.0000e-05  eta: 5:31:42  time: 1.4420  data_time: 1.0812  memory: 1526  grad_norm: 17.2852  loss: 0.4950  top1_acc: 1.0000  top5_acc: 1.0000  loss_cls: 0.4950\r\n"
     ]
    },
    {
     "name": "stdout",
     "output_type": "stream",
     "text": [
      "06/13 04:48:37 - mmengine - \u001b[4m\u001b[97mINFO\u001b[0m - Epoch(train) [3][ 6680/11818]  lr: 1.0000e-05  eta: 5:31:18  time: 1.1351  data_time: 0.7742  memory: 1526  grad_norm: 16.4175  loss: 0.4335  top1_acc: 1.0000  top5_acc: 1.0000  loss_cls: 0.4335\r\n"
     ]
    },
    {
     "name": "stdout",
     "output_type": "stream",
     "text": [
      "06/13 04:49:00 - mmengine - \u001b[4m\u001b[97mINFO\u001b[0m - Epoch(train) [3][ 6700/11818]  lr: 1.0000e-05  eta: 5:30:54  time: 1.1155  data_time: 0.7533  memory: 1526  grad_norm: 17.3046  loss: 0.5179  top1_acc: 0.7500  top5_acc: 1.0000  loss_cls: 0.5179\r\n"
     ]
    },
    {
     "name": "stdout",
     "output_type": "stream",
     "text": [
      "06/13 04:49:24 - mmengine - \u001b[4m\u001b[97mINFO\u001b[0m - Epoch(train) [3][ 6720/11818]  lr: 1.0000e-05  eta: 5:30:31  time: 1.1909  data_time: 0.8280  memory: 1526  grad_norm: 19.8570  loss: 0.5580  top1_acc: 0.7500  top5_acc: 1.0000  loss_cls: 0.5580\r\n"
     ]
    },
    {
     "name": "stdout",
     "output_type": "stream",
     "text": [
      "06/13 04:49:47 - mmengine - \u001b[4m\u001b[97mINFO\u001b[0m - Epoch(train) [3][ 6740/11818]  lr: 1.0000e-05  eta: 5:30:07  time: 1.1691  data_time: 0.8070  memory: 1526  grad_norm: 16.1452  loss: 0.3941  top1_acc: 1.0000  top5_acc: 1.0000  loss_cls: 0.3941\r\n"
     ]
    },
    {
     "name": "stdout",
     "output_type": "stream",
     "text": [
      "06/13 04:50:08 - mmengine - \u001b[4m\u001b[97mINFO\u001b[0m - Epoch(train) [3][ 6760/11818]  lr: 1.0000e-05  eta: 5:29:42  time: 1.0454  data_time: 0.6836  memory: 1526  grad_norm: 14.5495  loss: 0.4655  top1_acc: 1.0000  top5_acc: 1.0000  loss_cls: 0.4655\r\n"
     ]
    },
    {
     "name": "stdout",
     "output_type": "stream",
     "text": [
      "06/13 04:50:31 - mmengine - \u001b[4m\u001b[97mINFO\u001b[0m - Epoch(train) [3][ 6780/11818]  lr: 1.0000e-05  eta: 5:29:18  time: 1.1352  data_time: 0.7739  memory: 1526  grad_norm: 16.3992  loss: 0.4772  top1_acc: 0.7500  top5_acc: 1.0000  loss_cls: 0.4772\r\n"
     ]
    },
    {
     "name": "stdout",
     "output_type": "stream",
     "text": [
      "06/13 04:50:51 - mmengine - \u001b[4m\u001b[97mINFO\u001b[0m - Epoch(train) [3][ 6800/11818]  lr: 1.0000e-05  eta: 5:28:53  time: 0.9965  data_time: 0.6333  memory: 1526  grad_norm: 17.1398  loss: 0.4597  top1_acc: 0.7500  top5_acc: 1.0000  loss_cls: 0.4597\r\n"
     ]
    },
    {
     "name": "stdout",
     "output_type": "stream",
     "text": [
      "06/13 04:51:15 - mmengine - \u001b[4m\u001b[97mINFO\u001b[0m - Epoch(train) [3][ 6820/11818]  lr: 1.0000e-05  eta: 5:28:30  time: 1.2422  data_time: 0.8809  memory: 1526  grad_norm: 13.8775  loss: 0.4985  top1_acc: 1.0000  top5_acc: 1.0000  loss_cls: 0.4985\r\n"
     ]
    },
    {
     "name": "stdout",
     "output_type": "stream",
     "text": [
      "06/13 04:51:41 - mmengine - \u001b[4m\u001b[97mINFO\u001b[0m - Epoch(train) [3][ 6840/11818]  lr: 1.0000e-05  eta: 5:28:08  time: 1.2948  data_time: 0.9305  memory: 1526  grad_norm: 18.2468  loss: 0.5684  top1_acc: 1.0000  top5_acc: 1.0000  loss_cls: 0.5684\r\n"
     ]
    },
    {
     "name": "stdout",
     "output_type": "stream",
     "text": [
      "06/13 04:52:03 - mmengine - \u001b[4m\u001b[97mINFO\u001b[0m - Epoch(train) [3][ 6860/11818]  lr: 1.0000e-05  eta: 5:27:44  time: 1.0854  data_time: 0.7210  memory: 1526  grad_norm: 17.7620  loss: 0.4684  top1_acc: 1.0000  top5_acc: 1.0000  loss_cls: 0.4684\r\n"
     ]
    },
    {
     "name": "stdout",
     "output_type": "stream",
     "text": [
      "06/13 04:52:24 - mmengine - \u001b[4m\u001b[97mINFO\u001b[0m - Epoch(train) [3][ 6880/11818]  lr: 1.0000e-05  eta: 5:27:19  time: 1.0317  data_time: 0.6703  memory: 1526  grad_norm: 17.8190  loss: 0.4977  top1_acc: 1.0000  top5_acc: 1.0000  loss_cls: 0.4977\r\n"
     ]
    },
    {
     "name": "stdout",
     "output_type": "stream",
     "text": [
      "06/13 04:52:46 - mmengine - \u001b[4m\u001b[97mINFO\u001b[0m - Epoch(train) [3][ 6900/11818]  lr: 1.0000e-05  eta: 5:26:55  time: 1.1378  data_time: 0.7737  memory: 1526  grad_norm: 15.7299  loss: 0.5656  top1_acc: 1.0000  top5_acc: 1.0000  loss_cls: 0.5656\r\n"
     ]
    },
    {
     "name": "stdout",
     "output_type": "stream",
     "text": [
      "06/13 04:53:12 - mmengine - \u001b[4m\u001b[97mINFO\u001b[0m - Epoch(train) [3][ 6920/11818]  lr: 1.0000e-05  eta: 5:26:33  time: 1.2942  data_time: 0.9302  memory: 1526  grad_norm: 14.8352  loss: 0.3885  top1_acc: 1.0000  top5_acc: 1.0000  loss_cls: 0.3885\r\n"
     ]
    },
    {
     "name": "stdout",
     "output_type": "stream",
     "text": [
      "06/13 04:53:39 - mmengine - \u001b[4m\u001b[97mINFO\u001b[0m - Epoch(train) [3][ 6940/11818]  lr: 1.0000e-05  eta: 5:26:11  time: 1.3351  data_time: 0.9723  memory: 1526  grad_norm: 15.5709  loss: 0.4423  top1_acc: 1.0000  top5_acc: 1.0000  loss_cls: 0.4423\r\n"
     ]
    },
    {
     "name": "stdout",
     "output_type": "stream",
     "text": [
      "06/13 04:54:02 - mmengine - \u001b[4m\u001b[97mINFO\u001b[0m - Epoch(train) [3][ 6960/11818]  lr: 1.0000e-05  eta: 5:25:48  time: 1.1686  data_time: 0.8080  memory: 1526  grad_norm: 13.9366  loss: 0.4404  top1_acc: 0.7500  top5_acc: 1.0000  loss_cls: 0.4404\r\n"
     ]
    },
    {
     "name": "stdout",
     "output_type": "stream",
     "text": [
      "06/13 04:54:22 - mmengine - \u001b[4m\u001b[97mINFO\u001b[0m - Epoch(train) [3][ 6980/11818]  lr: 1.0000e-05  eta: 5:25:22  time: 1.0019  data_time: 0.6408  memory: 1526  grad_norm: 12.2317  loss: 0.3354  top1_acc: 1.0000  top5_acc: 1.0000  loss_cls: 0.3354\r\n"
     ]
    },
    {
     "name": "stdout",
     "output_type": "stream",
     "text": [
      "06/13 04:54:46 - mmengine - \u001b[4m\u001b[97mINFO\u001b[0m - Epoch(train) [3][ 7000/11818]  lr: 1.0000e-05  eta: 5:24:59  time: 1.1584  data_time: 0.7964  memory: 1526  grad_norm: 18.1535  loss: 0.5430  top1_acc: 0.7500  top5_acc: 1.0000  loss_cls: 0.5430\r\n"
     ]
    },
    {
     "name": "stdout",
     "output_type": "stream",
     "text": [
      "06/13 04:55:11 - mmengine - \u001b[4m\u001b[97mINFO\u001b[0m - Epoch(train) [3][ 7020/11818]  lr: 1.0000e-05  eta: 5:24:36  time: 1.2530  data_time: 0.8879  memory: 1526  grad_norm: 17.6679  loss: 0.5294  top1_acc: 0.7500  top5_acc: 1.0000  loss_cls: 0.5294\r\n"
     ]
    },
    {
     "name": "stdout",
     "output_type": "stream",
     "text": [
      "06/13 04:55:35 - mmengine - \u001b[4m\u001b[97mINFO\u001b[0m - Epoch(train) [3][ 7040/11818]  lr: 1.0000e-05  eta: 5:24:13  time: 1.2054  data_time: 0.8415  memory: 1526  grad_norm: 16.5512  loss: 0.5132  top1_acc: 0.7500  top5_acc: 1.0000  loss_cls: 0.5132\r\n"
     ]
    },
    {
     "name": "stdout",
     "output_type": "stream",
     "text": [
      "06/13 04:55:59 - mmengine - \u001b[4m\u001b[97mINFO\u001b[0m - Epoch(train) [3][ 7060/11818]  lr: 1.0000e-05  eta: 5:23:50  time: 1.2156  data_time: 0.8540  memory: 1526  grad_norm: 18.3252  loss: 0.4735  top1_acc: 0.7500  top5_acc: 1.0000  loss_cls: 0.4735\r\n"
     ]
    },
    {
     "name": "stdout",
     "output_type": "stream",
     "text": [
      "06/13 04:56:25 - mmengine - \u001b[4m\u001b[97mINFO\u001b[0m - Epoch(train) [3][ 7080/11818]  lr: 1.0000e-05  eta: 5:23:28  time: 1.2821  data_time: 0.9208  memory: 1526  grad_norm: 18.5554  loss: 0.5958  top1_acc: 1.0000  top5_acc: 1.0000  loss_cls: 0.5958\r\n"
     ]
    },
    {
     "name": "stdout",
     "output_type": "stream",
     "text": [
      "06/13 04:56:47 - mmengine - \u001b[4m\u001b[97mINFO\u001b[0m - Epoch(train) [3][ 7100/11818]  lr: 1.0000e-05  eta: 5:23:04  time: 1.1022  data_time: 0.7408  memory: 1526  grad_norm: 17.7712  loss: 0.5545  top1_acc: 1.0000  top5_acc: 1.0000  loss_cls: 0.5545\r\n"
     ]
    },
    {
     "name": "stdout",
     "output_type": "stream",
     "text": [
      "06/13 04:57:09 - mmengine - \u001b[4m\u001b[97mINFO\u001b[0m - Epoch(train) [3][ 7120/11818]  lr: 1.0000e-05  eta: 5:22:39  time: 1.0900  data_time: 0.7291  memory: 1526  grad_norm: 19.6816  loss: 0.5986  top1_acc: 1.0000  top5_acc: 1.0000  loss_cls: 0.5986\r\n"
     ]
    },
    {
     "name": "stdout",
     "output_type": "stream",
     "text": [
      "06/13 04:57:30 - mmengine - \u001b[4m\u001b[97mINFO\u001b[0m - Epoch(train) [3][ 7140/11818]  lr: 1.0000e-05  eta: 5:22:15  time: 1.0498  data_time: 0.6866  memory: 1526  grad_norm: 16.1294  loss: 0.5267  top1_acc: 1.0000  top5_acc: 1.0000  loss_cls: 0.5267\r\n"
     ]
    },
    {
     "name": "stdout",
     "output_type": "stream",
     "text": [
      "06/13 04:57:50 - mmengine - \u001b[4m\u001b[97mINFO\u001b[0m - Epoch(train) [3][ 7160/11818]  lr: 1.0000e-05  eta: 5:21:50  time: 1.0405  data_time: 0.6783  memory: 1526  grad_norm: 16.2032  loss: 0.5375  top1_acc: 0.7500  top5_acc: 0.7500  loss_cls: 0.5375\r\n"
     ]
    },
    {
     "name": "stdout",
     "output_type": "stream",
     "text": [
      "06/13 04:58:13 - mmengine - \u001b[4m\u001b[97mINFO\u001b[0m - Epoch(train) [3][ 7180/11818]  lr: 1.0000e-05  eta: 5:21:26  time: 1.1206  data_time: 0.7576  memory: 1526  grad_norm: 18.7516  loss: 0.5172  top1_acc: 0.7500  top5_acc: 1.0000  loss_cls: 0.5172\r\n"
     ]
    },
    {
     "name": "stdout",
     "output_type": "stream",
     "text": [
      "06/13 04:58:37 - mmengine - \u001b[4m\u001b[97mINFO\u001b[0m - Epoch(train) [3][ 7200/11818]  lr: 1.0000e-05  eta: 5:21:03  time: 1.1996  data_time: 0.8374  memory: 1526  grad_norm: 15.5201  loss: 0.5037  top1_acc: 1.0000  top5_acc: 1.0000  loss_cls: 0.5037\r\n"
     ]
    },
    {
     "name": "stdout",
     "output_type": "stream",
     "text": [
      "06/13 04:59:01 - mmengine - \u001b[4m\u001b[97mINFO\u001b[0m - Epoch(train) [3][ 7220/11818]  lr: 1.0000e-05  eta: 5:20:40  time: 1.2134  data_time: 0.8512  memory: 1526  grad_norm: 19.8875  loss: 0.6373  top1_acc: 0.7500  top5_acc: 1.0000  loss_cls: 0.6373\r\n"
     ]
    },
    {
     "name": "stdout",
     "output_type": "stream",
     "text": [
      "06/13 04:59:27 - mmengine - \u001b[4m\u001b[97mINFO\u001b[0m - Epoch(train) [3][ 7240/11818]  lr: 1.0000e-05  eta: 5:20:18  time: 1.3112  data_time: 0.9483  memory: 1526  grad_norm: 16.9365  loss: 0.4956  top1_acc: 1.0000  top5_acc: 1.0000  loss_cls: 0.4956\r\n"
     ]
    },
    {
     "name": "stdout",
     "output_type": "stream",
     "text": [
      "06/13 04:59:47 - mmengine - \u001b[4m\u001b[97mINFO\u001b[0m - Epoch(train) [3][ 7260/11818]  lr: 1.0000e-05  eta: 5:19:53  time: 1.0069  data_time: 0.6438  memory: 1526  grad_norm: 15.3825  loss: 0.5498  top1_acc: 1.0000  top5_acc: 1.0000  loss_cls: 0.5498\r\n"
     ]
    },
    {
     "name": "stdout",
     "output_type": "stream",
     "text": [
      "06/13 05:00:12 - mmengine - \u001b[4m\u001b[97mINFO\u001b[0m - Epoch(train) [3][ 7280/11818]  lr: 1.0000e-05  eta: 5:19:30  time: 1.2539  data_time: 0.8929  memory: 1526  grad_norm: 14.9303  loss: 0.4942  top1_acc: 1.0000  top5_acc: 1.0000  loss_cls: 0.4942\r\n"
     ]
    },
    {
     "name": "stdout",
     "output_type": "stream",
     "text": [
      "06/13 05:00:33 - mmengine - \u001b[4m\u001b[97mINFO\u001b[0m - Epoch(train) [3][ 7300/11818]  lr: 1.0000e-05  eta: 5:19:05  time: 1.0085  data_time: 0.6462  memory: 1526  grad_norm: 14.4943  loss: 0.4518  top1_acc: 0.7500  top5_acc: 1.0000  loss_cls: 0.4518\r\n"
     ]
    },
    {
     "name": "stdout",
     "output_type": "stream",
     "text": [
      "06/13 05:00:58 - mmengine - \u001b[4m\u001b[97mINFO\u001b[0m - Epoch(train) [3][ 7320/11818]  lr: 1.0000e-05  eta: 5:18:42  time: 1.2516  data_time: 0.8890  memory: 1526  grad_norm: 14.9530  loss: 0.4570  top1_acc: 0.5000  top5_acc: 1.0000  loss_cls: 0.4570\r\n"
     ]
    },
    {
     "name": "stdout",
     "output_type": "stream",
     "text": [
      "06/13 05:01:19 - mmengine - \u001b[4m\u001b[97mINFO\u001b[0m - Epoch(train) [3][ 7340/11818]  lr: 1.0000e-05  eta: 5:18:18  time: 1.0762  data_time: 0.7152  memory: 1526  grad_norm: 15.4080  loss: 0.3768  top1_acc: 0.7500  top5_acc: 1.0000  loss_cls: 0.3768\r\n"
     ]
    },
    {
     "name": "stdout",
     "output_type": "stream",
     "text": [
      "06/13 05:01:41 - mmengine - \u001b[4m\u001b[97mINFO\u001b[0m - Epoch(train) [3][ 7360/11818]  lr: 1.0000e-05  eta: 5:17:54  time: 1.0928  data_time: 0.7304  memory: 1526  grad_norm: 13.1141  loss: 0.3811  top1_acc: 1.0000  top5_acc: 1.0000  loss_cls: 0.3811\r\n"
     ]
    },
    {
     "name": "stdout",
     "output_type": "stream",
     "text": [
      "06/13 05:01:46 - mmengine - \u001b[4m\u001b[97mINFO\u001b[0m - Exp name: config_20230612_184603\r\n"
     ]
    },
    {
     "name": "stdout",
     "output_type": "stream",
     "text": [
      "06/13 05:02:04 - mmengine - \u001b[4m\u001b[97mINFO\u001b[0m - Epoch(train) [3][ 7380/11818]  lr: 1.0000e-05  eta: 5:17:30  time: 1.1278  data_time: 0.7656  memory: 1526  grad_norm: 12.9793  loss: 0.3184  top1_acc: 0.7500  top5_acc: 1.0000  loss_cls: 0.3184\r\n"
     ]
    },
    {
     "name": "stdout",
     "output_type": "stream",
     "text": [
      "06/13 05:02:24 - mmengine - \u001b[4m\u001b[97mINFO\u001b[0m - Epoch(train) [3][ 7400/11818]  lr: 1.0000e-05  eta: 5:17:04  time: 1.0111  data_time: 0.6497  memory: 1526  grad_norm: 14.9120  loss: 0.5019  top1_acc: 1.0000  top5_acc: 1.0000  loss_cls: 0.5019\r\n"
     ]
    },
    {
     "name": "stdout",
     "output_type": "stream",
     "text": [
      "06/13 05:02:46 - mmengine - \u001b[4m\u001b[97mINFO\u001b[0m - Epoch(train) [3][ 7420/11818]  lr: 1.0000e-05  eta: 5:16:40  time: 1.1050  data_time: 0.7436  memory: 1526  grad_norm: 17.2070  loss: 0.5330  top1_acc: 0.2500  top5_acc: 1.0000  loss_cls: 0.5330\r\n"
     ]
    },
    {
     "name": "stdout",
     "output_type": "stream",
     "text": [
      "06/13 05:03:11 - mmengine - \u001b[4m\u001b[97mINFO\u001b[0m - Epoch(train) [3][ 7440/11818]  lr: 1.0000e-05  eta: 5:16:18  time: 1.2294  data_time: 0.8662  memory: 1526  grad_norm: 20.2936  loss: 0.5707  top1_acc: 1.0000  top5_acc: 1.0000  loss_cls: 0.5707\r\n"
     ]
    },
    {
     "name": "stdout",
     "output_type": "stream",
     "text": [
      "06/13 05:03:35 - mmengine - \u001b[4m\u001b[97mINFO\u001b[0m - Epoch(train) [3][ 7460/11818]  lr: 1.0000e-05  eta: 5:15:54  time: 1.2071  data_time: 0.8448  memory: 1526  grad_norm: 15.9859  loss: 0.5394  top1_acc: 0.7500  top5_acc: 0.7500  loss_cls: 0.5394\r\n"
     ]
    },
    {
     "name": "stdout",
     "output_type": "stream",
     "text": [
      "06/13 05:03:58 - mmengine - \u001b[4m\u001b[97mINFO\u001b[0m - Epoch(train) [3][ 7480/11818]  lr: 1.0000e-05  eta: 5:15:31  time: 1.1477  data_time: 0.7860  memory: 1526  grad_norm: 15.7945  loss: 0.5302  top1_acc: 1.0000  top5_acc: 1.0000  loss_cls: 0.5302\r\n"
     ]
    },
    {
     "name": "stdout",
     "output_type": "stream",
     "text": [
      "06/13 05:04:21 - mmengine - \u001b[4m\u001b[97mINFO\u001b[0m - Epoch(train) [3][ 7500/11818]  lr: 1.0000e-05  eta: 5:15:07  time: 1.1679  data_time: 0.8047  memory: 1526  grad_norm: 19.2922  loss: 0.5656  top1_acc: 1.0000  top5_acc: 1.0000  loss_cls: 0.5656\r\n"
     ]
    },
    {
     "name": "stdout",
     "output_type": "stream",
     "text": [
      "06/13 05:04:45 - mmengine - \u001b[4m\u001b[97mINFO\u001b[0m - Epoch(train) [3][ 7520/11818]  lr: 1.0000e-05  eta: 5:14:44  time: 1.2179  data_time: 0.8551  memory: 1526  grad_norm: 17.2214  loss: 0.4798  top1_acc: 0.5000  top5_acc: 0.5000  loss_cls: 0.4798\r\n"
     ]
    },
    {
     "name": "stdout",
     "output_type": "stream",
     "text": [
      "06/13 05:05:07 - mmengine - \u001b[4m\u001b[97mINFO\u001b[0m - Epoch(train) [3][ 7540/11818]  lr: 1.0000e-05  eta: 5:14:20  time: 1.0957  data_time: 0.7340  memory: 1526  grad_norm: 19.3339  loss: 0.5729  top1_acc: 0.7500  top5_acc: 1.0000  loss_cls: 0.5729\r\n"
     ]
    },
    {
     "name": "stdout",
     "output_type": "stream",
     "text": [
      "06/13 05:05:28 - mmengine - \u001b[4m\u001b[97mINFO\u001b[0m - Epoch(train) [3][ 7560/11818]  lr: 1.0000e-05  eta: 5:13:55  time: 1.0531  data_time: 0.6923  memory: 1526  grad_norm: 20.1510  loss: 0.5047  top1_acc: 1.0000  top5_acc: 1.0000  loss_cls: 0.5047\r\n"
     ]
    },
    {
     "name": "stdout",
     "output_type": "stream",
     "text": [
      "06/13 05:05:53 - mmengine - \u001b[4m\u001b[97mINFO\u001b[0m - Epoch(train) [3][ 7580/11818]  lr: 1.0000e-05  eta: 5:13:33  time: 1.2412  data_time: 0.8795  memory: 1526  grad_norm: 13.0179  loss: 0.3802  top1_acc: 1.0000  top5_acc: 1.0000  loss_cls: 0.3802\r\n"
     ]
    },
    {
     "name": "stdout",
     "output_type": "stream",
     "text": [
      "06/13 05:06:16 - mmengine - \u001b[4m\u001b[97mINFO\u001b[0m - Epoch(train) [3][ 7600/11818]  lr: 1.0000e-05  eta: 5:13:09  time: 1.1299  data_time: 0.7684  memory: 1526  grad_norm: 16.7539  loss: 0.4578  top1_acc: 0.5000  top5_acc: 1.0000  loss_cls: 0.4578\r\n"
     ]
    },
    {
     "name": "stdout",
     "output_type": "stream",
     "text": [
      "06/13 05:06:37 - mmengine - \u001b[4m\u001b[97mINFO\u001b[0m - Epoch(train) [3][ 7620/11818]  lr: 1.0000e-05  eta: 5:12:45  time: 1.0801  data_time: 0.7194  memory: 1526  grad_norm: 13.0631  loss: 0.3923  top1_acc: 0.7500  top5_acc: 1.0000  loss_cls: 0.3923\r\n"
     ]
    },
    {
     "name": "stdout",
     "output_type": "stream",
     "text": [
      "06/13 05:07:00 - mmengine - \u001b[4m\u001b[97mINFO\u001b[0m - Epoch(train) [3][ 7640/11818]  lr: 1.0000e-05  eta: 5:12:21  time: 1.1364  data_time: 0.7746  memory: 1526  grad_norm: 16.8578  loss: 0.5279  top1_acc: 1.0000  top5_acc: 1.0000  loss_cls: 0.5279\r\n"
     ]
    },
    {
     "name": "stdout",
     "output_type": "stream",
     "text": [
      "06/13 05:07:24 - mmengine - \u001b[4m\u001b[97mINFO\u001b[0m - Epoch(train) [3][ 7660/11818]  lr: 1.0000e-05  eta: 5:11:58  time: 1.1939  data_time: 0.8320  memory: 1526  grad_norm: 15.9742  loss: 0.4474  top1_acc: 0.7500  top5_acc: 1.0000  loss_cls: 0.4474\r\n"
     ]
    },
    {
     "name": "stdout",
     "output_type": "stream",
     "text": [
      "06/13 05:07:48 - mmengine - \u001b[4m\u001b[97mINFO\u001b[0m - Epoch(train) [3][ 7680/11818]  lr: 1.0000e-05  eta: 5:11:35  time: 1.2187  data_time: 0.8554  memory: 1526  grad_norm: 19.9169  loss: 0.6277  top1_acc: 1.0000  top5_acc: 1.0000  loss_cls: 0.6277\r\n"
     ]
    },
    {
     "name": "stdout",
     "output_type": "stream",
     "text": [
      "06/13 05:08:12 - mmengine - \u001b[4m\u001b[97mINFO\u001b[0m - Epoch(train) [3][ 7700/11818]  lr: 1.0000e-05  eta: 5:11:11  time: 1.1986  data_time: 0.8372  memory: 1526  grad_norm: 16.2024  loss: 0.4140  top1_acc: 0.7500  top5_acc: 1.0000  loss_cls: 0.4140\r\n"
     ]
    },
    {
     "name": "stdout",
     "output_type": "stream",
     "text": [
      "06/13 05:08:33 - mmengine - \u001b[4m\u001b[97mINFO\u001b[0m - Epoch(train) [3][ 7720/11818]  lr: 1.0000e-05  eta: 5:10:46  time: 1.0092  data_time: 0.6460  memory: 1526  grad_norm: 13.8516  loss: 0.4575  top1_acc: 1.0000  top5_acc: 1.0000  loss_cls: 0.4575\r\n"
     ]
    },
    {
     "name": "stdout",
     "output_type": "stream",
     "text": [
      "06/13 05:08:56 - mmengine - \u001b[4m\u001b[97mINFO\u001b[0m - Epoch(train) [3][ 7740/11818]  lr: 1.0000e-05  eta: 5:10:23  time: 1.1545  data_time: 0.7921  memory: 1526  grad_norm: 15.0812  loss: 0.3522  top1_acc: 1.0000  top5_acc: 1.0000  loss_cls: 0.3522\r\n"
     ]
    },
    {
     "name": "stdout",
     "output_type": "stream",
     "text": [
      "06/13 05:09:19 - mmengine - \u001b[4m\u001b[97mINFO\u001b[0m - Epoch(train) [3][ 7760/11818]  lr: 1.0000e-05  eta: 5:09:59  time: 1.1498  data_time: 0.7869  memory: 1526  grad_norm: 14.4988  loss: 0.3833  top1_acc: 1.0000  top5_acc: 1.0000  loss_cls: 0.3833\r\n"
     ]
    },
    {
     "name": "stdout",
     "output_type": "stream",
     "text": [
      "06/13 05:09:43 - mmengine - \u001b[4m\u001b[97mINFO\u001b[0m - Epoch(train) [3][ 7780/11818]  lr: 1.0000e-05  eta: 5:09:36  time: 1.2350  data_time: 0.8739  memory: 1526  grad_norm: 19.3413  loss: 0.6680  top1_acc: 0.5000  top5_acc: 0.7500  loss_cls: 0.6680\r\n"
     ]
    },
    {
     "name": "stdout",
     "output_type": "stream",
     "text": [
      "06/13 05:10:05 - mmengine - \u001b[4m\u001b[97mINFO\u001b[0m - Epoch(train) [3][ 7800/11818]  lr: 1.0000e-05  eta: 5:09:12  time: 1.0728  data_time: 0.7120  memory: 1526  grad_norm: 17.0288  loss: 0.5252  top1_acc: 1.0000  top5_acc: 1.0000  loss_cls: 0.5252\r\n"
     ]
    },
    {
     "name": "stdout",
     "output_type": "stream",
     "text": [
      "06/13 05:10:24 - mmengine - \u001b[4m\u001b[97mINFO\u001b[0m - Epoch(train) [3][ 7820/11818]  lr: 1.0000e-05  eta: 5:08:46  time: 0.9391  data_time: 0.5763  memory: 1526  grad_norm: 14.9269  loss: 0.5458  top1_acc: 1.0000  top5_acc: 1.0000  loss_cls: 0.5458\r\n"
     ]
    },
    {
     "name": "stdout",
     "output_type": "stream",
     "text": [
      "06/13 05:10:46 - mmengine - \u001b[4m\u001b[97mINFO\u001b[0m - Epoch(train) [3][ 7840/11818]  lr: 1.0000e-05  eta: 5:08:22  time: 1.1248  data_time: 0.7638  memory: 1526  grad_norm: 16.2490  loss: 0.4642  top1_acc: 1.0000  top5_acc: 1.0000  loss_cls: 0.4642\r\n"
     ]
    },
    {
     "name": "stdout",
     "output_type": "stream",
     "text": [
      "06/13 05:11:08 - mmengine - \u001b[4m\u001b[97mINFO\u001b[0m - Epoch(train) [3][ 7860/11818]  lr: 1.0000e-05  eta: 5:07:58  time: 1.1069  data_time: 0.7448  memory: 1526  grad_norm: 15.1464  loss: 0.4390  top1_acc: 0.7500  top5_acc: 1.0000  loss_cls: 0.4390\r\n"
     ]
    },
    {
     "name": "stdout",
     "output_type": "stream",
     "text": [
      "06/13 05:11:32 - mmengine - \u001b[4m\u001b[97mINFO\u001b[0m - Epoch(train) [3][ 7880/11818]  lr: 1.0000e-05  eta: 5:07:35  time: 1.1685  data_time: 0.8066  memory: 1526  grad_norm: 17.3736  loss: 0.4416  top1_acc: 0.5000  top5_acc: 1.0000  loss_cls: 0.4416\r\n"
     ]
    },
    {
     "name": "stdout",
     "output_type": "stream",
     "text": [
      "06/13 05:11:58 - mmengine - \u001b[4m\u001b[97mINFO\u001b[0m - Epoch(train) [3][ 7900/11818]  lr: 1.0000e-05  eta: 5:07:13  time: 1.3036  data_time: 0.9406  memory: 1526  grad_norm: 16.5817  loss: 0.4617  top1_acc: 0.7500  top5_acc: 0.7500  loss_cls: 0.4617\r\n"
     ]
    },
    {
     "name": "stdout",
     "output_type": "stream",
     "text": [
      "06/13 05:12:20 - mmengine - \u001b[4m\u001b[97mINFO\u001b[0m - Epoch(train) [3][ 7920/11818]  lr: 1.0000e-05  eta: 5:06:49  time: 1.1228  data_time: 0.7614  memory: 1526  grad_norm: 16.8921  loss: 0.4879  top1_acc: 0.7500  top5_acc: 1.0000  loss_cls: 0.4879\r\n"
     ]
    },
    {
     "name": "stdout",
     "output_type": "stream",
     "text": [
      "06/13 05:12:44 - mmengine - \u001b[4m\u001b[97mINFO\u001b[0m - Epoch(train) [3][ 7940/11818]  lr: 1.0000e-05  eta: 5:06:25  time: 1.1910  data_time: 0.8308  memory: 1526  grad_norm: 15.6177  loss: 0.5194  top1_acc: 0.7500  top5_acc: 0.7500  loss_cls: 0.5194\r\n"
     ]
    },
    {
     "name": "stdout",
     "output_type": "stream",
     "text": [
      "06/13 05:13:07 - mmengine - \u001b[4m\u001b[97mINFO\u001b[0m - Epoch(train) [3][ 7960/11818]  lr: 1.0000e-05  eta: 5:06:02  time: 1.1769  data_time: 0.8131  memory: 1526  grad_norm: 18.3983  loss: 0.4639  top1_acc: 1.0000  top5_acc: 1.0000  loss_cls: 0.4639\r\n"
     ]
    },
    {
     "name": "stdout",
     "output_type": "stream",
     "text": [
      "06/13 05:13:33 - mmengine - \u001b[4m\u001b[97mINFO\u001b[0m - Epoch(train) [3][ 7980/11818]  lr: 1.0000e-05  eta: 5:05:40  time: 1.2648  data_time: 0.9026  memory: 1526  grad_norm: 16.8522  loss: 0.5615  top1_acc: 0.5000  top5_acc: 1.0000  loss_cls: 0.5615\r\n"
     ]
    },
    {
     "name": "stdout",
     "output_type": "stream",
     "text": [
      "06/13 05:13:55 - mmengine - \u001b[4m\u001b[97mINFO\u001b[0m - Epoch(train) [3][ 8000/11818]  lr: 1.0000e-05  eta: 5:05:16  time: 1.1324  data_time: 0.7714  memory: 1526  grad_norm: 18.6874  loss: 0.5804  top1_acc: 1.0000  top5_acc: 1.0000  loss_cls: 0.5804\r\n"
     ]
    },
    {
     "name": "stdout",
     "output_type": "stream",
     "text": [
      "06/13 05:14:19 - mmengine - \u001b[4m\u001b[97mINFO\u001b[0m - Epoch(train) [3][ 8020/11818]  lr: 1.0000e-05  eta: 5:04:52  time: 1.1537  data_time: 0.7905  memory: 1526  grad_norm: 19.7323  loss: 0.5103  top1_acc: 0.5000  top5_acc: 1.0000  loss_cls: 0.5103\r\n"
     ]
    },
    {
     "name": "stdout",
     "output_type": "stream",
     "text": [
      "06/13 05:14:40 - mmengine - \u001b[4m\u001b[97mINFO\u001b[0m - Epoch(train) [3][ 8040/11818]  lr: 1.0000e-05  eta: 5:04:28  time: 1.0798  data_time: 0.7166  memory: 1526  grad_norm: 18.2551  loss: 0.8171  top1_acc: 0.7500  top5_acc: 1.0000  loss_cls: 0.8171\r\n"
     ]
    },
    {
     "name": "stdout",
     "output_type": "stream",
     "text": [
      "06/13 05:15:03 - mmengine - \u001b[4m\u001b[97mINFO\u001b[0m - Epoch(train) [3][ 8060/11818]  lr: 1.0000e-05  eta: 5:04:04  time: 1.1467  data_time: 0.7856  memory: 1526  grad_norm: 18.5356  loss: 0.5714  top1_acc: 0.7500  top5_acc: 1.0000  loss_cls: 0.5714\r\n"
     ]
    },
    {
     "name": "stdout",
     "output_type": "stream",
     "text": [
      "06/13 05:15:27 - mmengine - \u001b[4m\u001b[97mINFO\u001b[0m - Epoch(train) [3][ 8080/11818]  lr: 1.0000e-05  eta: 5:03:41  time: 1.1757  data_time: 0.8142  memory: 1526  grad_norm: 16.4131  loss: 0.4733  top1_acc: 0.2500  top5_acc: 1.0000  loss_cls: 0.4733\r\n"
     ]
    },
    {
     "name": "stdout",
     "output_type": "stream",
     "text": [
      "06/13 05:15:49 - mmengine - \u001b[4m\u001b[97mINFO\u001b[0m - Epoch(train) [3][ 8100/11818]  lr: 1.0000e-05  eta: 5:03:17  time: 1.1355  data_time: 0.7741  memory: 1526  grad_norm: 14.6766  loss: 0.4819  top1_acc: 1.0000  top5_acc: 1.0000  loss_cls: 0.4819\r\n"
     ]
    },
    {
     "name": "stdout",
     "output_type": "stream",
     "text": [
      "06/13 05:16:14 - mmengine - \u001b[4m\u001b[97mINFO\u001b[0m - Epoch(train) [3][ 8120/11818]  lr: 1.0000e-05  eta: 5:02:54  time: 1.2435  data_time: 0.8822  memory: 1526  grad_norm: 16.6739  loss: 0.5157  top1_acc: 0.5000  top5_acc: 0.7500  loss_cls: 0.5157\r\n"
     ]
    },
    {
     "name": "stdout",
     "output_type": "stream",
     "text": [
      "06/13 05:16:39 - mmengine - \u001b[4m\u001b[97mINFO\u001b[0m - Epoch(train) [3][ 8140/11818]  lr: 1.0000e-05  eta: 5:02:32  time: 1.2582  data_time: 0.8959  memory: 1526  grad_norm: 16.3760  loss: 0.4979  top1_acc: 0.7500  top5_acc: 1.0000  loss_cls: 0.4979\r\n"
     ]
    },
    {
     "name": "stdout",
     "output_type": "stream",
     "text": [
      "06/13 05:17:03 - mmengine - \u001b[4m\u001b[97mINFO\u001b[0m - Epoch(train) [3][ 8160/11818]  lr: 1.0000e-05  eta: 5:02:08  time: 1.1721  data_time: 0.8116  memory: 1526  grad_norm: 16.5307  loss: 0.4565  top1_acc: 1.0000  top5_acc: 1.0000  loss_cls: 0.4565\r\n"
     ]
    },
    {
     "name": "stdout",
     "output_type": "stream",
     "text": [
      "06/13 05:17:28 - mmengine - \u001b[4m\u001b[97mINFO\u001b[0m - Epoch(train) [3][ 8180/11818]  lr: 1.0000e-05  eta: 5:01:46  time: 1.2855  data_time: 0.9234  memory: 1526  grad_norm: 17.4196  loss: 0.5226  top1_acc: 1.0000  top5_acc: 1.0000  loss_cls: 0.5226\r\n"
     ]
    },
    {
     "name": "stdout",
     "output_type": "stream",
     "text": [
      "06/13 05:17:50 - mmengine - \u001b[4m\u001b[97mINFO\u001b[0m - Epoch(train) [3][ 8200/11818]  lr: 1.0000e-05  eta: 5:01:22  time: 1.0874  data_time: 0.7266  memory: 1526  grad_norm: 15.0686  loss: 0.4108  top1_acc: 1.0000  top5_acc: 1.0000  loss_cls: 0.4108\r\n"
     ]
    },
    {
     "name": "stdout",
     "output_type": "stream",
     "text": [
      "06/13 05:18:13 - mmengine - \u001b[4m\u001b[97mINFO\u001b[0m - Epoch(train) [3][ 8220/11818]  lr: 1.0000e-05  eta: 5:00:58  time: 1.1607  data_time: 0.7980  memory: 1526  grad_norm: 18.6752  loss: 0.5375  top1_acc: 1.0000  top5_acc: 1.0000  loss_cls: 0.5375\r\n"
     ]
    },
    {
     "name": "stdout",
     "output_type": "stream",
     "text": [
      "06/13 05:18:38 - mmengine - \u001b[4m\u001b[97mINFO\u001b[0m - Epoch(train) [3][ 8240/11818]  lr: 1.0000e-05  eta: 5:00:35  time: 1.2231  data_time: 0.8619  memory: 1526  grad_norm: 15.6784  loss: 0.4815  top1_acc: 1.0000  top5_acc: 1.0000  loss_cls: 0.4815\r\n"
     ]
    },
    {
     "name": "stdout",
     "output_type": "stream",
     "text": [
      "06/13 05:19:03 - mmengine - \u001b[4m\u001b[97mINFO\u001b[0m - Epoch(train) [3][ 8260/11818]  lr: 1.0000e-05  eta: 5:00:13  time: 1.2653  data_time: 0.9032  memory: 1526  grad_norm: 18.6250  loss: 0.6402  top1_acc: 1.0000  top5_acc: 1.0000  loss_cls: 0.6402\r\n"
     ]
    },
    {
     "name": "stdout",
     "output_type": "stream",
     "text": [
      "06/13 05:19:27 - mmengine - \u001b[4m\u001b[97mINFO\u001b[0m - Epoch(train) [3][ 8280/11818]  lr: 1.0000e-05  eta: 4:59:49  time: 1.1921  data_time: 0.8301  memory: 1526  grad_norm: 15.2637  loss: 0.4322  top1_acc: 0.5000  top5_acc: 0.7500  loss_cls: 0.4322\r\n"
     ]
    },
    {
     "name": "stdout",
     "output_type": "stream",
     "text": [
      "06/13 05:19:52 - mmengine - \u001b[4m\u001b[97mINFO\u001b[0m - Epoch(train) [3][ 8300/11818]  lr: 1.0000e-05  eta: 4:59:27  time: 1.2424  data_time: 0.8809  memory: 1526  grad_norm: 17.3031  loss: 0.5349  top1_acc: 0.7500  top5_acc: 1.0000  loss_cls: 0.5349\r\n"
     ]
    },
    {
     "name": "stdout",
     "output_type": "stream",
     "text": [
      "06/13 05:20:13 - mmengine - \u001b[4m\u001b[97mINFO\u001b[0m - Epoch(train) [3][ 8320/11818]  lr: 1.0000e-05  eta: 4:59:02  time: 1.0750  data_time: 0.7134  memory: 1526  grad_norm: 16.7012  loss: 0.5145  top1_acc: 1.0000  top5_acc: 1.0000  loss_cls: 0.5145\r\n"
     ]
    },
    {
     "name": "stdout",
     "output_type": "stream",
     "text": [
      "06/13 05:20:38 - mmengine - \u001b[4m\u001b[97mINFO\u001b[0m - Epoch(train) [3][ 8340/11818]  lr: 1.0000e-05  eta: 4:58:39  time: 1.2251  data_time: 0.8622  memory: 1526  grad_norm: 19.9027  loss: 0.6435  top1_acc: 0.7500  top5_acc: 1.0000  loss_cls: 0.6435\r\n"
     ]
    },
    {
     "name": "stdout",
     "output_type": "stream",
     "text": [
      "06/13 05:21:00 - mmengine - \u001b[4m\u001b[97mINFO\u001b[0m - Epoch(train) [3][ 8360/11818]  lr: 1.0000e-05  eta: 4:58:15  time: 1.1158  data_time: 0.7541  memory: 1526  grad_norm: 15.0861  loss: 0.5394  top1_acc: 1.0000  top5_acc: 1.0000  loss_cls: 0.5394\r\n"
     ]
    },
    {
     "name": "stdout",
     "output_type": "stream",
     "text": [
      "06/13 05:21:04 - mmengine - \u001b[4m\u001b[97mINFO\u001b[0m - Exp name: config_20230612_184603\r\n"
     ]
    },
    {
     "name": "stdout",
     "output_type": "stream",
     "text": [
      "06/13 05:21:20 - mmengine - \u001b[4m\u001b[97mINFO\u001b[0m - Epoch(train) [3][ 8380/11818]  lr: 1.0000e-05  eta: 4:57:50  time: 1.0062  data_time: 0.6449  memory: 1526  grad_norm: 13.5299  loss: 0.3697  top1_acc: 1.0000  top5_acc: 1.0000  loss_cls: 0.3697\r\n"
     ]
    },
    {
     "name": "stdout",
     "output_type": "stream",
     "text": [
      "06/13 05:21:43 - mmengine - \u001b[4m\u001b[97mINFO\u001b[0m - Epoch(train) [3][ 8400/11818]  lr: 1.0000e-05  eta: 4:57:27  time: 1.1521  data_time: 0.7886  memory: 1526  grad_norm: 15.9825  loss: 0.4088  top1_acc: 0.7500  top5_acc: 1.0000  loss_cls: 0.4088\r\n"
     ]
    },
    {
     "name": "stdout",
     "output_type": "stream",
     "text": [
      "06/13 05:22:08 - mmengine - \u001b[4m\u001b[97mINFO\u001b[0m - Epoch(train) [3][ 8420/11818]  lr: 1.0000e-05  eta: 4:57:04  time: 1.2392  data_time: 0.8772  memory: 1526  grad_norm: 18.3068  loss: 0.5158  top1_acc: 0.7500  top5_acc: 1.0000  loss_cls: 0.5158\r\n"
     ]
    },
    {
     "name": "stdout",
     "output_type": "stream",
     "text": [
      "06/13 05:22:31 - mmengine - \u001b[4m\u001b[97mINFO\u001b[0m - Epoch(train) [3][ 8440/11818]  lr: 1.0000e-05  eta: 4:56:40  time: 1.1508  data_time: 0.7883  memory: 1526  grad_norm: 17.5848  loss: 0.5279  top1_acc: 0.7500  top5_acc: 1.0000  loss_cls: 0.5279\r\n"
     ]
    },
    {
     "name": "stdout",
     "output_type": "stream",
     "text": [
      "06/13 05:22:54 - mmengine - \u001b[4m\u001b[97mINFO\u001b[0m - Epoch(train) [3][ 8460/11818]  lr: 1.0000e-05  eta: 4:56:17  time: 1.1332  data_time: 0.7703  memory: 1526  grad_norm: 19.4596  loss: 0.5861  top1_acc: 0.7500  top5_acc: 1.0000  loss_cls: 0.5861\r\n"
     ]
    },
    {
     "name": "stdout",
     "output_type": "stream",
     "text": [
      "06/13 05:23:20 - mmengine - \u001b[4m\u001b[97mINFO\u001b[0m - Epoch(train) [3][ 8480/11818]  lr: 1.0000e-05  eta: 4:55:55  time: 1.3167  data_time: 0.9558  memory: 1526  grad_norm: 17.9602  loss: 0.4350  top1_acc: 1.0000  top5_acc: 1.0000  loss_cls: 0.4350\r\n"
     ]
    },
    {
     "name": "stdout",
     "output_type": "stream",
     "text": [
      "06/13 05:23:43 - mmengine - \u001b[4m\u001b[97mINFO\u001b[0m - Epoch(train) [3][ 8500/11818]  lr: 1.0000e-05  eta: 4:55:31  time: 1.1579  data_time: 0.7958  memory: 1526  grad_norm: 19.6730  loss: 0.5467  top1_acc: 0.5000  top5_acc: 1.0000  loss_cls: 0.5467\r\n"
     ]
    },
    {
     "name": "stdout",
     "output_type": "stream",
     "text": [
      "06/13 05:24:06 - mmengine - \u001b[4m\u001b[97mINFO\u001b[0m - Epoch(train) [3][ 8520/11818]  lr: 1.0000e-05  eta: 4:55:07  time: 1.1149  data_time: 0.7523  memory: 1526  grad_norm: 14.1915  loss: 0.5669  top1_acc: 0.7500  top5_acc: 1.0000  loss_cls: 0.5669\r\n"
     ]
    },
    {
     "name": "stdout",
     "output_type": "stream",
     "text": [
      "06/13 05:24:25 - mmengine - \u001b[4m\u001b[97mINFO\u001b[0m - Epoch(train) [3][ 8540/11818]  lr: 1.0000e-05  eta: 4:54:42  time: 0.9595  data_time: 0.5985  memory: 1526  grad_norm: 16.5778  loss: 0.4680  top1_acc: 0.5000  top5_acc: 1.0000  loss_cls: 0.4680\r\n"
     ]
    },
    {
     "name": "stdout",
     "output_type": "stream",
     "text": [
      "06/13 05:24:49 - mmengine - \u001b[4m\u001b[97mINFO\u001b[0m - Epoch(train) [3][ 8560/11818]  lr: 1.0000e-05  eta: 4:54:18  time: 1.1856  data_time: 0.8248  memory: 1526  grad_norm: 16.3585  loss: 0.4617  top1_acc: 1.0000  top5_acc: 1.0000  loss_cls: 0.4617\r\n"
     ]
    },
    {
     "name": "stdout",
     "output_type": "stream",
     "text": [
      "06/13 05:25:13 - mmengine - \u001b[4m\u001b[97mINFO\u001b[0m - Epoch(train) [3][ 8580/11818]  lr: 1.0000e-05  eta: 4:53:56  time: 1.2364  data_time: 0.8742  memory: 1526  grad_norm: 22.8968  loss: 0.7271  top1_acc: 0.5000  top5_acc: 1.0000  loss_cls: 0.7271\r\n"
     ]
    },
    {
     "name": "stdout",
     "output_type": "stream",
     "text": [
      "06/13 05:25:34 - mmengine - \u001b[4m\u001b[97mINFO\u001b[0m - Epoch(train) [3][ 8600/11818]  lr: 1.0000e-05  eta: 4:53:31  time: 1.0344  data_time: 0.6713  memory: 1526  grad_norm: 18.6957  loss: 0.5597  top1_acc: 0.7500  top5_acc: 1.0000  loss_cls: 0.5597\r\n"
     ]
    },
    {
     "name": "stdout",
     "output_type": "stream",
     "text": [
      "06/13 05:25:56 - mmengine - \u001b[4m\u001b[97mINFO\u001b[0m - Epoch(train) [3][ 8620/11818]  lr: 1.0000e-05  eta: 4:53:07  time: 1.1235  data_time: 0.7626  memory: 1526  grad_norm: 14.6746  loss: 0.4629  top1_acc: 1.0000  top5_acc: 1.0000  loss_cls: 0.4629\r\n"
     ]
    },
    {
     "name": "stdout",
     "output_type": "stream",
     "text": [
      "06/13 05:26:19 - mmengine - \u001b[4m\u001b[97mINFO\u001b[0m - Epoch(train) [3][ 8640/11818]  lr: 1.0000e-05  eta: 4:52:43  time: 1.1273  data_time: 0.7656  memory: 1526  grad_norm: 18.4336  loss: 0.6692  top1_acc: 0.7500  top5_acc: 1.0000  loss_cls: 0.6692\r\n"
     ]
    },
    {
     "name": "stdout",
     "output_type": "stream",
     "text": [
      "06/13 05:26:40 - mmengine - \u001b[4m\u001b[97mINFO\u001b[0m - Epoch(train) [3][ 8660/11818]  lr: 1.0000e-05  eta: 4:52:19  time: 1.0547  data_time: 0.6923  memory: 1526  grad_norm: 13.7012  loss: 0.3372  top1_acc: 1.0000  top5_acc: 1.0000  loss_cls: 0.3372\r\n"
     ]
    },
    {
     "name": "stdout",
     "output_type": "stream",
     "text": [
      "06/13 05:27:04 - mmengine - \u001b[4m\u001b[97mINFO\u001b[0m - Epoch(train) [3][ 8680/11818]  lr: 1.0000e-05  eta: 4:51:55  time: 1.2032  data_time: 0.8424  memory: 1526  grad_norm: 16.7607  loss: 0.4519  top1_acc: 0.7500  top5_acc: 0.7500  loss_cls: 0.4519\r\n"
     ]
    },
    {
     "name": "stdout",
     "output_type": "stream",
     "text": [
      "06/13 05:27:27 - mmengine - \u001b[4m\u001b[97mINFO\u001b[0m - Epoch(train) [3][ 8700/11818]  lr: 1.0000e-05  eta: 4:51:32  time: 1.1200  data_time: 0.7558  memory: 1526  grad_norm: 14.7909  loss: 0.3869  top1_acc: 0.7500  top5_acc: 1.0000  loss_cls: 0.3869\r\n"
     ]
    },
    {
     "name": "stdout",
     "output_type": "stream",
     "text": [
      "06/13 05:27:48 - mmengine - \u001b[4m\u001b[97mINFO\u001b[0m - Epoch(train) [3][ 8720/11818]  lr: 1.0000e-05  eta: 4:51:07  time: 1.0611  data_time: 0.6983  memory: 1526  grad_norm: 17.8291  loss: 0.4655  top1_acc: 1.0000  top5_acc: 1.0000  loss_cls: 0.4655\r\n"
     ]
    },
    {
     "name": "stdout",
     "output_type": "stream",
     "text": [
      "06/13 05:28:11 - mmengine - \u001b[4m\u001b[97mINFO\u001b[0m - Epoch(train) [3][ 8740/11818]  lr: 1.0000e-05  eta: 4:50:43  time: 1.1406  data_time: 0.7793  memory: 1526  grad_norm: 17.4696  loss: 0.4949  top1_acc: 1.0000  top5_acc: 1.0000  loss_cls: 0.4949\r\n"
     ]
    },
    {
     "name": "stdout",
     "output_type": "stream",
     "text": [
      "06/13 05:28:37 - mmengine - \u001b[4m\u001b[97mINFO\u001b[0m - Epoch(train) [3][ 8760/11818]  lr: 1.0000e-05  eta: 4:50:21  time: 1.3144  data_time: 0.9529  memory: 1526  grad_norm: 17.5422  loss: 0.4977  top1_acc: 1.0000  top5_acc: 1.0000  loss_cls: 0.4977\r\n"
     ]
    },
    {
     "name": "stdout",
     "output_type": "stream",
     "text": [
      "06/13 05:29:04 - mmengine - \u001b[4m\u001b[97mINFO\u001b[0m - Epoch(train) [3][ 8780/11818]  lr: 1.0000e-05  eta: 4:49:59  time: 1.3318  data_time: 0.9690  memory: 1526  grad_norm: 14.8409  loss: 0.5034  top1_acc: 1.0000  top5_acc: 1.0000  loss_cls: 0.5034\r\n"
     ]
    },
    {
     "name": "stdout",
     "output_type": "stream",
     "text": [
      "06/13 05:29:24 - mmengine - \u001b[4m\u001b[97mINFO\u001b[0m - Epoch(train) [3][ 8800/11818]  lr: 1.0000e-05  eta: 4:49:35  time: 1.0410  data_time: 0.6773  memory: 1526  grad_norm: 15.3549  loss: 0.4213  top1_acc: 1.0000  top5_acc: 1.0000  loss_cls: 0.4213\r\n"
     ]
    },
    {
     "name": "stdout",
     "output_type": "stream",
     "text": [
      "06/13 05:29:47 - mmengine - \u001b[4m\u001b[97mINFO\u001b[0m - Epoch(train) [3][ 8820/11818]  lr: 1.0000e-05  eta: 4:49:11  time: 1.1265  data_time: 0.7659  memory: 1526  grad_norm: 15.1193  loss: 0.4461  top1_acc: 0.7500  top5_acc: 1.0000  loss_cls: 0.4461\r\n"
     ]
    },
    {
     "name": "stdout",
     "output_type": "stream",
     "text": [
      "06/13 05:30:10 - mmengine - \u001b[4m\u001b[97mINFO\u001b[0m - Epoch(train) [3][ 8840/11818]  lr: 1.0000e-05  eta: 4:48:48  time: 1.1731  data_time: 0.8091  memory: 1526  grad_norm: 11.7651  loss: 0.3251  top1_acc: 1.0000  top5_acc: 1.0000  loss_cls: 0.3251\r\n"
     ]
    },
    {
     "name": "stdout",
     "output_type": "stream",
     "text": [
      "06/13 05:30:31 - mmengine - \u001b[4m\u001b[97mINFO\u001b[0m - Epoch(train) [3][ 8860/11818]  lr: 1.0000e-05  eta: 4:48:23  time: 1.0428  data_time: 0.6790  memory: 1526  grad_norm: 16.9690  loss: 0.4996  top1_acc: 0.7500  top5_acc: 1.0000  loss_cls: 0.4996\r\n"
     ]
    },
    {
     "name": "stdout",
     "output_type": "stream",
     "text": [
      "06/13 05:30:59 - mmengine - \u001b[4m\u001b[97mINFO\u001b[0m - Epoch(train) [3][ 8880/11818]  lr: 1.0000e-05  eta: 4:48:01  time: 1.3857  data_time: 1.0245  memory: 1526  grad_norm: 17.0449  loss: 0.6316  top1_acc: 0.7500  top5_acc: 0.7500  loss_cls: 0.6316\r\n"
     ]
    },
    {
     "name": "stdout",
     "output_type": "stream",
     "text": [
      "06/13 05:31:18 - mmengine - \u001b[4m\u001b[97mINFO\u001b[0m - Epoch(train) [3][ 8900/11818]  lr: 1.0000e-05  eta: 4:47:36  time: 0.9615  data_time: 0.6007  memory: 1526  grad_norm: 15.0795  loss: 0.3784  top1_acc: 0.7500  top5_acc: 1.0000  loss_cls: 0.3784\r\n"
     ]
    },
    {
     "name": "stdout",
     "output_type": "stream",
     "text": [
      "06/13 05:31:43 - mmengine - \u001b[4m\u001b[97mINFO\u001b[0m - Epoch(train) [3][ 8920/11818]  lr: 1.0000e-05  eta: 4:47:13  time: 1.2227  data_time: 0.8590  memory: 1526  grad_norm: 20.9472  loss: 0.7011  top1_acc: 1.0000  top5_acc: 1.0000  loss_cls: 0.7011\r\n"
     ]
    },
    {
     "name": "stdout",
     "output_type": "stream",
     "text": [
      "06/13 05:32:05 - mmengine - \u001b[4m\u001b[97mINFO\u001b[0m - Epoch(train) [3][ 8940/11818]  lr: 1.0000e-05  eta: 4:46:49  time: 1.1233  data_time: 0.7610  memory: 1526  grad_norm: 16.8485  loss: 0.5274  top1_acc: 1.0000  top5_acc: 1.0000  loss_cls: 0.5274\r\n"
     ]
    },
    {
     "name": "stdout",
     "output_type": "stream",
     "text": [
      "06/13 05:32:29 - mmengine - \u001b[4m\u001b[97mINFO\u001b[0m - Epoch(train) [3][ 8960/11818]  lr: 1.0000e-05  eta: 4:46:26  time: 1.1947  data_time: 0.8331  memory: 1526  grad_norm: 14.7011  loss: 0.4278  top1_acc: 1.0000  top5_acc: 1.0000  loss_cls: 0.4278\r\n"
     ]
    },
    {
     "name": "stdout",
     "output_type": "stream",
     "text": [
      "06/13 05:32:52 - mmengine - \u001b[4m\u001b[97mINFO\u001b[0m - Epoch(train) [3][ 8980/11818]  lr: 1.0000e-05  eta: 4:46:03  time: 1.1556  data_time: 0.7954  memory: 1526  grad_norm: 19.7181  loss: 0.6489  top1_acc: 0.7500  top5_acc: 1.0000  loss_cls: 0.6489\r\n"
     ]
    },
    {
     "name": "stdout",
     "output_type": "stream",
     "text": [
      "06/13 05:33:18 - mmengine - \u001b[4m\u001b[97mINFO\u001b[0m - Epoch(train) [3][ 9000/11818]  lr: 1.0000e-05  eta: 4:45:40  time: 1.3036  data_time: 0.9417  memory: 1526  grad_norm: 17.8867  loss: 0.5820  top1_acc: 1.0000  top5_acc: 1.0000  loss_cls: 0.5820\r\n"
     ]
    },
    {
     "name": "stdout",
     "output_type": "stream",
     "text": [
      "06/13 05:33:45 - mmengine - \u001b[4m\u001b[97mINFO\u001b[0m - Epoch(train) [3][ 9020/11818]  lr: 1.0000e-05  eta: 4:45:18  time: 1.3340  data_time: 0.9706  memory: 1526  grad_norm: 15.6038  loss: 0.4160  top1_acc: 1.0000  top5_acc: 1.0000  loss_cls: 0.4160\r\n"
     ]
    },
    {
     "name": "stdout",
     "output_type": "stream",
     "text": [
      "06/13 05:34:12 - mmengine - \u001b[4m\u001b[97mINFO\u001b[0m - Epoch(train) [3][ 9040/11818]  lr: 1.0000e-05  eta: 4:44:57  time: 1.3559  data_time: 0.9938  memory: 1526  grad_norm: 15.6769  loss: 0.4555  top1_acc: 1.0000  top5_acc: 1.0000  loss_cls: 0.4555\r\n"
     ]
    },
    {
     "name": "stdout",
     "output_type": "stream",
     "text": [
      "06/13 05:34:35 - mmengine - \u001b[4m\u001b[97mINFO\u001b[0m - Epoch(train) [3][ 9060/11818]  lr: 1.0000e-05  eta: 4:44:33  time: 1.1455  data_time: 0.7829  memory: 1526  grad_norm: 14.0659  loss: 0.4543  top1_acc: 0.7500  top5_acc: 1.0000  loss_cls: 0.4543\r\n"
     ]
    },
    {
     "name": "stdout",
     "output_type": "stream",
     "text": [
      "06/13 05:34:55 - mmengine - \u001b[4m\u001b[97mINFO\u001b[0m - Epoch(train) [3][ 9080/11818]  lr: 1.0000e-05  eta: 4:44:08  time: 1.0100  data_time: 0.6489  memory: 1526  grad_norm: 14.8197  loss: 0.4155  top1_acc: 1.0000  top5_acc: 1.0000  loss_cls: 0.4155\r\n"
     ]
    },
    {
     "name": "stdout",
     "output_type": "stream",
     "text": [
      "06/13 05:35:14 - mmengine - \u001b[4m\u001b[97mINFO\u001b[0m - Epoch(train) [3][ 9100/11818]  lr: 1.0000e-05  eta: 4:43:42  time: 0.9191  data_time: 0.5559  memory: 1526  grad_norm: 14.4011  loss: 0.3861  top1_acc: 1.0000  top5_acc: 1.0000  loss_cls: 0.3861\r\n"
     ]
    },
    {
     "name": "stdout",
     "output_type": "stream",
     "text": [
      "06/13 05:35:35 - mmengine - \u001b[4m\u001b[97mINFO\u001b[0m - Epoch(train) [3][ 9120/11818]  lr: 1.0000e-05  eta: 4:43:18  time: 1.0702  data_time: 0.7089  memory: 1526  grad_norm: 17.6484  loss: 0.6191  top1_acc: 1.0000  top5_acc: 1.0000  loss_cls: 0.6191\r\n"
     ]
    },
    {
     "name": "stdout",
     "output_type": "stream",
     "text": [
      "06/13 05:36:01 - mmengine - \u001b[4m\u001b[97mINFO\u001b[0m - Epoch(train) [3][ 9140/11818]  lr: 1.0000e-05  eta: 4:42:56  time: 1.2932  data_time: 0.9324  memory: 1526  grad_norm: 16.7063  loss: 0.4706  top1_acc: 0.7500  top5_acc: 1.0000  loss_cls: 0.4706\r\n"
     ]
    },
    {
     "name": "stdout",
     "output_type": "stream",
     "text": [
      "06/13 05:36:27 - mmengine - \u001b[4m\u001b[97mINFO\u001b[0m - Epoch(train) [3][ 9160/11818]  lr: 1.0000e-05  eta: 4:42:33  time: 1.2970  data_time: 0.9333  memory: 1526  grad_norm: 18.0807  loss: 0.4415  top1_acc: 0.7500  top5_acc: 1.0000  loss_cls: 0.4415\r\n"
     ]
    },
    {
     "name": "stdout",
     "output_type": "stream",
     "text": [
      "06/13 05:36:51 - mmengine - \u001b[4m\u001b[97mINFO\u001b[0m - Epoch(train) [3][ 9180/11818]  lr: 1.0000e-05  eta: 4:42:10  time: 1.2134  data_time: 0.8518  memory: 1526  grad_norm: 15.8180  loss: 0.4197  top1_acc: 1.0000  top5_acc: 1.0000  loss_cls: 0.4197\r\n"
     ]
    },
    {
     "name": "stdout",
     "output_type": "stream",
     "text": [
      "06/13 05:37:13 - mmengine - \u001b[4m\u001b[97mINFO\u001b[0m - Epoch(train) [3][ 9200/11818]  lr: 1.0000e-05  eta: 4:41:46  time: 1.0769  data_time: 0.7150  memory: 1526  grad_norm: 20.0367  loss: 0.5235  top1_acc: 0.7500  top5_acc: 1.0000  loss_cls: 0.5235\r\n"
     ]
    },
    {
     "name": "stdout",
     "output_type": "stream",
     "text": [
      "06/13 05:37:38 - mmengine - \u001b[4m\u001b[97mINFO\u001b[0m - Epoch(train) [3][ 9220/11818]  lr: 1.0000e-05  eta: 4:41:24  time: 1.2817  data_time: 0.9204  memory: 1526  grad_norm: 17.1996  loss: 0.5129  top1_acc: 0.7500  top5_acc: 1.0000  loss_cls: 0.5129\r\n"
     ]
    },
    {
     "name": "stdout",
     "output_type": "stream",
     "text": [
      "06/13 05:38:02 - mmengine - \u001b[4m\u001b[97mINFO\u001b[0m - Epoch(train) [3][ 9240/11818]  lr: 1.0000e-05  eta: 4:41:00  time: 1.1872  data_time: 0.8234  memory: 1526  grad_norm: 19.5973  loss: 0.5688  top1_acc: 0.7500  top5_acc: 1.0000  loss_cls: 0.5688\r\n"
     ]
    },
    {
     "name": "stdout",
     "output_type": "stream",
     "text": [
      "06/13 05:38:26 - mmengine - \u001b[4m\u001b[97mINFO\u001b[0m - Epoch(train) [3][ 9260/11818]  lr: 1.0000e-05  eta: 4:40:37  time: 1.2241  data_time: 0.8635  memory: 1526  grad_norm: 16.7514  loss: 0.5655  top1_acc: 0.7500  top5_acc: 0.7500  loss_cls: 0.5655\r\n"
     ]
    },
    {
     "name": "stdout",
     "output_type": "stream",
     "text": [
      "06/13 05:38:51 - mmengine - \u001b[4m\u001b[97mINFO\u001b[0m - Epoch(train) [3][ 9280/11818]  lr: 1.0000e-05  eta: 4:40:14  time: 1.2163  data_time: 0.8538  memory: 1526  grad_norm: 16.0686  loss: 0.5414  top1_acc: 1.0000  top5_acc: 1.0000  loss_cls: 0.5414\r\n"
     ]
    },
    {
     "name": "stdout",
     "output_type": "stream",
     "text": [
      "06/13 05:39:13 - mmengine - \u001b[4m\u001b[97mINFO\u001b[0m - Epoch(train) [3][ 9300/11818]  lr: 1.0000e-05  eta: 4:39:51  time: 1.1175  data_time: 0.7567  memory: 1526  grad_norm: 17.9019  loss: 0.4681  top1_acc: 0.7500  top5_acc: 0.7500  loss_cls: 0.4681\r\n"
     ]
    },
    {
     "name": "stdout",
     "output_type": "stream",
     "text": [
      "06/13 05:39:32 - mmengine - \u001b[4m\u001b[97mINFO\u001b[0m - Epoch(train) [3][ 9320/11818]  lr: 1.0000e-05  eta: 4:39:25  time: 0.9427  data_time: 0.5787  memory: 1526  grad_norm: 18.2742  loss: 0.5527  top1_acc: 1.0000  top5_acc: 1.0000  loss_cls: 0.5527\r\n"
     ]
    },
    {
     "name": "stdout",
     "output_type": "stream",
     "text": [
      "06/13 05:39:56 - mmengine - \u001b[4m\u001b[97mINFO\u001b[0m - Epoch(train) [3][ 9340/11818]  lr: 1.0000e-05  eta: 4:39:02  time: 1.1869  data_time: 0.8265  memory: 1526  grad_norm: 16.7653  loss: 0.4632  top1_acc: 1.0000  top5_acc: 1.0000  loss_cls: 0.4632\r\n"
     ]
    },
    {
     "name": "stdout",
     "output_type": "stream",
     "text": [
      "06/13 05:40:17 - mmengine - \u001b[4m\u001b[97mINFO\u001b[0m - Epoch(train) [3][ 9360/11818]  lr: 1.0000e-05  eta: 4:38:38  time: 1.0878  data_time: 0.7240  memory: 1526  grad_norm: 12.8419  loss: 0.4912  top1_acc: 1.0000  top5_acc: 1.0000  loss_cls: 0.4912\r\n"
     ]
    },
    {
     "name": "stdout",
     "output_type": "stream",
     "text": [
      "06/13 05:40:21 - mmengine - \u001b[4m\u001b[97mINFO\u001b[0m - Exp name: config_20230612_184603\r\n"
     ]
    },
    {
     "name": "stdout",
     "output_type": "stream",
     "text": [
      "06/13 05:40:39 - mmengine - \u001b[4m\u001b[97mINFO\u001b[0m - Epoch(train) [3][ 9380/11818]  lr: 1.0000e-05  eta: 4:38:14  time: 1.0876  data_time: 0.7232  memory: 1526  grad_norm: 16.4439  loss: 0.5129  top1_acc: 1.0000  top5_acc: 1.0000  loss_cls: 0.5129\r\n"
     ]
    },
    {
     "name": "stdout",
     "output_type": "stream",
     "text": [
      "06/13 05:41:03 - mmengine - \u001b[4m\u001b[97mINFO\u001b[0m - Epoch(train) [3][ 9400/11818]  lr: 1.0000e-05  eta: 4:37:50  time: 1.1664  data_time: 0.8052  memory: 1526  grad_norm: 17.1876  loss: 0.4521  top1_acc: 0.5000  top5_acc: 1.0000  loss_cls: 0.4521\r\n"
     ]
    },
    {
     "name": "stdout",
     "output_type": "stream",
     "text": [
      "06/13 05:41:26 - mmengine - \u001b[4m\u001b[97mINFO\u001b[0m - Epoch(train) [3][ 9420/11818]  lr: 1.0000e-05  eta: 4:37:27  time: 1.1923  data_time: 0.8301  memory: 1526  grad_norm: 18.1138  loss: 0.5361  top1_acc: 0.7500  top5_acc: 1.0000  loss_cls: 0.5361\r\n"
     ]
    },
    {
     "name": "stdout",
     "output_type": "stream",
     "text": [
      "06/13 05:41:47 - mmengine - \u001b[4m\u001b[97mINFO\u001b[0m - Epoch(train) [3][ 9440/11818]  lr: 1.0000e-05  eta: 4:37:02  time: 1.0520  data_time: 0.6914  memory: 1526  grad_norm: 18.3301  loss: 0.5933  top1_acc: 1.0000  top5_acc: 1.0000  loss_cls: 0.5933\r\n"
     ]
    },
    {
     "name": "stdout",
     "output_type": "stream",
     "text": [
      "06/13 05:42:14 - mmengine - \u001b[4m\u001b[97mINFO\u001b[0m - Epoch(train) [3][ 9460/11818]  lr: 1.0000e-05  eta: 4:36:40  time: 1.3056  data_time: 0.9417  memory: 1526  grad_norm: 18.4691  loss: 0.5515  top1_acc: 1.0000  top5_acc: 1.0000  loss_cls: 0.5515\r\n"
     ]
    },
    {
     "name": "stdout",
     "output_type": "stream",
     "text": [
      "06/13 05:42:39 - mmengine - \u001b[4m\u001b[97mINFO\u001b[0m - Epoch(train) [3][ 9480/11818]  lr: 1.0000e-05  eta: 4:36:17  time: 1.2503  data_time: 0.8860  memory: 1526  grad_norm: 13.3813  loss: 0.4194  top1_acc: 0.7500  top5_acc: 1.0000  loss_cls: 0.4194\r\n"
     ]
    },
    {
     "name": "stdout",
     "output_type": "stream",
     "text": [
      "06/13 05:42:57 - mmengine - \u001b[4m\u001b[97mINFO\u001b[0m - Epoch(train) [3][ 9500/11818]  lr: 1.0000e-05  eta: 4:35:52  time: 0.9087  data_time: 0.5473  memory: 1526  grad_norm: 16.1225  loss: 0.4763  top1_acc: 1.0000  top5_acc: 1.0000  loss_cls: 0.4763\r\n"
     ]
    },
    {
     "name": "stdout",
     "output_type": "stream",
     "text": [
      "06/13 05:43:19 - mmengine - \u001b[4m\u001b[97mINFO\u001b[0m - Epoch(train) [3][ 9520/11818]  lr: 1.0000e-05  eta: 4:35:28  time: 1.1108  data_time: 0.7449  memory: 1526  grad_norm: 18.2116  loss: 0.4083  top1_acc: 1.0000  top5_acc: 1.0000  loss_cls: 0.4083\r\n"
     ]
    },
    {
     "name": "stdout",
     "output_type": "stream",
     "text": [
      "06/13 05:43:40 - mmengine - \u001b[4m\u001b[97mINFO\u001b[0m - Epoch(train) [3][ 9540/11818]  lr: 1.0000e-05  eta: 4:35:04  time: 1.0721  data_time: 0.7101  memory: 1526  grad_norm: 16.2725  loss: 0.5023  top1_acc: 0.7500  top5_acc: 0.7500  loss_cls: 0.5023\r\n"
     ]
    },
    {
     "name": "stdout",
     "output_type": "stream",
     "text": [
      "06/13 05:44:06 - mmengine - \u001b[4m\u001b[97mINFO\u001b[0m - Epoch(train) [3][ 9560/11818]  lr: 1.0000e-05  eta: 4:34:41  time: 1.2688  data_time: 0.9061  memory: 1526  grad_norm: 14.6891  loss: 0.3859  top1_acc: 1.0000  top5_acc: 1.0000  loss_cls: 0.3859\r\n"
     ]
    },
    {
     "name": "stdout",
     "output_type": "stream",
     "text": [
      "06/13 05:44:35 - mmengine - \u001b[4m\u001b[97mINFO\u001b[0m - Epoch(train) [3][ 9580/11818]  lr: 1.0000e-05  eta: 4:34:20  time: 1.4519  data_time: 1.0900  memory: 1526  grad_norm: 17.0804  loss: 0.4697  top1_acc: 1.0000  top5_acc: 1.0000  loss_cls: 0.4697\r\n"
     ]
    },
    {
     "name": "stdout",
     "output_type": "stream",
     "text": [
      "06/13 05:45:01 - mmengine - \u001b[4m\u001b[97mINFO\u001b[0m - Epoch(train) [3][ 9600/11818]  lr: 1.0000e-05  eta: 4:33:58  time: 1.2997  data_time: 0.9369  memory: 1526  grad_norm: 15.5466  loss: 0.4139  top1_acc: 1.0000  top5_acc: 1.0000  loss_cls: 0.4139\r\n"
     ]
    },
    {
     "name": "stdout",
     "output_type": "stream",
     "text": [
      "06/13 05:45:23 - mmengine - \u001b[4m\u001b[97mINFO\u001b[0m - Epoch(train) [3][ 9620/11818]  lr: 1.0000e-05  eta: 4:33:33  time: 1.0875  data_time: 0.7245  memory: 1526  grad_norm: 15.5620  loss: 0.4583  top1_acc: 0.5000  top5_acc: 1.0000  loss_cls: 0.4583\r\n"
     ]
    },
    {
     "name": "stdout",
     "output_type": "stream",
     "text": [
      "06/13 05:45:45 - mmengine - \u001b[4m\u001b[97mINFO\u001b[0m - Epoch(train) [3][ 9640/11818]  lr: 1.0000e-05  eta: 4:33:10  time: 1.1184  data_time: 0.7566  memory: 1526  grad_norm: 17.7491  loss: 0.5497  top1_acc: 0.7500  top5_acc: 1.0000  loss_cls: 0.5497\r\n"
     ]
    },
    {
     "name": "stdout",
     "output_type": "stream",
     "text": [
      "06/13 05:46:13 - mmengine - \u001b[4m\u001b[97mINFO\u001b[0m - Epoch(train) [3][ 9660/11818]  lr: 1.0000e-05  eta: 4:32:48  time: 1.4075  data_time: 1.0419  memory: 1526  grad_norm: 14.9209  loss: 0.3833  top1_acc: 1.0000  top5_acc: 1.0000  loss_cls: 0.3833\r\n"
     ]
    },
    {
     "name": "stdout",
     "output_type": "stream",
     "text": [
      "06/13 05:46:37 - mmengine - \u001b[4m\u001b[97mINFO\u001b[0m - Epoch(train) [3][ 9680/11818]  lr: 1.0000e-05  eta: 4:32:25  time: 1.1820  data_time: 0.8195  memory: 1526  grad_norm: 13.7831  loss: 0.3329  top1_acc: 0.7500  top5_acc: 1.0000  loss_cls: 0.3329\r\n"
     ]
    },
    {
     "name": "stdout",
     "output_type": "stream",
     "text": [
      "06/13 05:47:00 - mmengine - \u001b[4m\u001b[97mINFO\u001b[0m - Epoch(train) [3][ 9700/11818]  lr: 1.0000e-05  eta: 4:32:01  time: 1.1500  data_time: 0.7869  memory: 1526  grad_norm: 18.4138  loss: 0.6772  top1_acc: 0.7500  top5_acc: 1.0000  loss_cls: 0.6772\r\n"
     ]
    },
    {
     "name": "stdout",
     "output_type": "stream",
     "text": [
      "06/13 05:47:24 - mmengine - \u001b[4m\u001b[97mINFO\u001b[0m - Epoch(train) [3][ 9720/11818]  lr: 1.0000e-05  eta: 4:31:38  time: 1.2131  data_time: 0.8493  memory: 1526  grad_norm: 16.7730  loss: 0.5327  top1_acc: 1.0000  top5_acc: 1.0000  loss_cls: 0.5327\r\n"
     ]
    },
    {
     "name": "stdout",
     "output_type": "stream",
     "text": [
      "06/13 05:47:54 - mmengine - \u001b[4m\u001b[97mINFO\u001b[0m - Epoch(train) [3][ 9740/11818]  lr: 1.0000e-05  eta: 4:31:17  time: 1.5015  data_time: 1.1388  memory: 1526  grad_norm: 10.9733  loss: 0.2895  top1_acc: 1.0000  top5_acc: 1.0000  loss_cls: 0.2895\r\n"
     ]
    },
    {
     "name": "stdout",
     "output_type": "stream",
     "text": [
      "06/13 05:48:21 - mmengine - \u001b[4m\u001b[97mINFO\u001b[0m - Epoch(train) [3][ 9760/11818]  lr: 1.0000e-05  eta: 4:30:55  time: 1.3406  data_time: 0.9769  memory: 1526  grad_norm: 19.2717  loss: 0.5160  top1_acc: 1.0000  top5_acc: 1.0000  loss_cls: 0.5160\r\n"
     ]
    },
    {
     "name": "stdout",
     "output_type": "stream",
     "text": [
      "06/13 05:48:42 - mmengine - \u001b[4m\u001b[97mINFO\u001b[0m - Epoch(train) [3][ 9780/11818]  lr: 1.0000e-05  eta: 4:30:31  time: 1.0733  data_time: 0.7119  memory: 1526  grad_norm: 15.9005  loss: 0.4426  top1_acc: 0.7500  top5_acc: 1.0000  loss_cls: 0.4426\r\n"
     ]
    },
    {
     "name": "stdout",
     "output_type": "stream",
     "text": [
      "06/13 05:49:08 - mmengine - \u001b[4m\u001b[97mINFO\u001b[0m - Epoch(train) [3][ 9800/11818]  lr: 1.0000e-05  eta: 4:30:09  time: 1.2804  data_time: 0.9186  memory: 1526  grad_norm: 18.1387  loss: 0.5145  top1_acc: 1.0000  top5_acc: 1.0000  loss_cls: 0.5145\r\n"
     ]
    },
    {
     "name": "stdout",
     "output_type": "stream",
     "text": [
      "06/13 05:49:33 - mmengine - \u001b[4m\u001b[97mINFO\u001b[0m - Epoch(train) [3][ 9820/11818]  lr: 1.0000e-05  eta: 4:29:46  time: 1.2311  data_time: 0.8671  memory: 1526  grad_norm: 16.9271  loss: 0.4417  top1_acc: 0.5000  top5_acc: 1.0000  loss_cls: 0.4417\r\n"
     ]
    },
    {
     "name": "stdout",
     "output_type": "stream",
     "text": [
      "06/13 05:49:58 - mmengine - \u001b[4m\u001b[97mINFO\u001b[0m - Epoch(train) [3][ 9840/11818]  lr: 1.0000e-05  eta: 4:29:23  time: 1.2703  data_time: 0.9081  memory: 1526  grad_norm: 18.2347  loss: 0.5400  top1_acc: 1.0000  top5_acc: 1.0000  loss_cls: 0.5400\r\n"
     ]
    },
    {
     "name": "stdout",
     "output_type": "stream",
     "text": [
      "06/13 05:50:19 - mmengine - \u001b[4m\u001b[97mINFO\u001b[0m - Epoch(train) [3][ 9860/11818]  lr: 1.0000e-05  eta: 4:28:59  time: 1.0347  data_time: 0.6728  memory: 1526  grad_norm: 13.7407  loss: 0.4566  top1_acc: 1.0000  top5_acc: 1.0000  loss_cls: 0.4566\r\n"
     ]
    },
    {
     "name": "stdout",
     "output_type": "stream",
     "text": [
      "06/13 05:50:47 - mmengine - \u001b[4m\u001b[97mINFO\u001b[0m - Epoch(train) [3][ 9880/11818]  lr: 1.0000e-05  eta: 4:28:37  time: 1.4029  data_time: 1.0394  memory: 1526  grad_norm: 17.1390  loss: 0.5295  top1_acc: 1.0000  top5_acc: 1.0000  loss_cls: 0.5295\r\n"
     ]
    },
    {
     "name": "stdout",
     "output_type": "stream",
     "text": [
      "06/13 05:51:11 - mmengine - \u001b[4m\u001b[97mINFO\u001b[0m - Epoch(train) [3][ 9900/11818]  lr: 1.0000e-05  eta: 4:28:14  time: 1.2035  data_time: 0.8402  memory: 1526  grad_norm: 17.0357  loss: 0.4879  top1_acc: 0.5000  top5_acc: 1.0000  loss_cls: 0.4879\r\n"
     ]
    },
    {
     "name": "stdout",
     "output_type": "stream",
     "text": [
      "06/13 05:51:37 - mmengine - \u001b[4m\u001b[97mINFO\u001b[0m - Epoch(train) [3][ 9920/11818]  lr: 1.0000e-05  eta: 4:27:51  time: 1.2971  data_time: 0.9353  memory: 1526  grad_norm: 19.2366  loss: 0.5072  top1_acc: 1.0000  top5_acc: 1.0000  loss_cls: 0.5072\r\n"
     ]
    },
    {
     "name": "stdout",
     "output_type": "stream",
     "text": [
      "06/13 05:51:59 - mmengine - \u001b[4m\u001b[97mINFO\u001b[0m - Epoch(train) [3][ 9940/11818]  lr: 1.0000e-05  eta: 4:27:28  time: 1.1281  data_time: 0.7656  memory: 1526  grad_norm: 20.2751  loss: 0.5423  top1_acc: 1.0000  top5_acc: 1.0000  loss_cls: 0.5423\r\n"
     ]
    },
    {
     "name": "stdout",
     "output_type": "stream",
     "text": [
      "06/13 05:52:23 - mmengine - \u001b[4m\u001b[97mINFO\u001b[0m - Epoch(train) [3][ 9960/11818]  lr: 1.0000e-05  eta: 4:27:04  time: 1.1911  data_time: 0.8294  memory: 1526  grad_norm: 13.7705  loss: 0.4136  top1_acc: 1.0000  top5_acc: 1.0000  loss_cls: 0.4136\r\n"
     ]
    },
    {
     "name": "stdout",
     "output_type": "stream",
     "text": [
      "06/13 05:52:44 - mmengine - \u001b[4m\u001b[97mINFO\u001b[0m - Epoch(train) [3][ 9980/11818]  lr: 1.0000e-05  eta: 4:26:40  time: 1.0239  data_time: 0.6593  memory: 1526  grad_norm: 11.1410  loss: 0.3663  top1_acc: 0.7500  top5_acc: 1.0000  loss_cls: 0.3663\r\n"
     ]
    },
    {
     "name": "stdout",
     "output_type": "stream",
     "text": [
      "06/13 05:53:05 - mmengine - \u001b[4m\u001b[97mINFO\u001b[0m - Epoch(train) [3][10000/11818]  lr: 1.0000e-05  eta: 4:26:16  time: 1.0830  data_time: 0.7212  memory: 1526  grad_norm: 17.2119  loss: 0.5190  top1_acc: 1.0000  top5_acc: 1.0000  loss_cls: 0.5190\r\n"
     ]
    },
    {
     "name": "stdout",
     "output_type": "stream",
     "text": [
      "06/13 05:53:26 - mmengine - \u001b[4m\u001b[97mINFO\u001b[0m - Epoch(train) [3][10020/11818]  lr: 1.0000e-05  eta: 4:25:51  time: 1.0276  data_time: 0.6660  memory: 1526  grad_norm: 12.7075  loss: 0.2724  top1_acc: 1.0000  top5_acc: 1.0000  loss_cls: 0.2724\r\n"
     ]
    },
    {
     "name": "stdout",
     "output_type": "stream",
     "text": [
      "06/13 05:53:51 - mmengine - \u001b[4m\u001b[97mINFO\u001b[0m - Epoch(train) [3][10040/11818]  lr: 1.0000e-05  eta: 4:25:28  time: 1.2738  data_time: 0.9121  memory: 1526  grad_norm: 13.9857  loss: 0.3569  top1_acc: 1.0000  top5_acc: 1.0000  loss_cls: 0.3569\r\n"
     ]
    },
    {
     "name": "stdout",
     "output_type": "stream",
     "text": [
      "06/13 05:54:16 - mmengine - \u001b[4m\u001b[97mINFO\u001b[0m - Epoch(train) [3][10060/11818]  lr: 1.0000e-05  eta: 4:25:05  time: 1.2346  data_time: 0.8721  memory: 1526  grad_norm: 16.6477  loss: 0.4803  top1_acc: 1.0000  top5_acc: 1.0000  loss_cls: 0.4803\r\n"
     ]
    },
    {
     "name": "stdout",
     "output_type": "stream",
     "text": [
      "06/13 05:54:41 - mmengine - \u001b[4m\u001b[97mINFO\u001b[0m - Epoch(train) [3][10080/11818]  lr: 1.0000e-05  eta: 4:24:43  time: 1.2543  data_time: 0.8928  memory: 1526  grad_norm: 13.7905  loss: 0.3701  top1_acc: 0.7500  top5_acc: 1.0000  loss_cls: 0.3701\r\n"
     ]
    },
    {
     "name": "stdout",
     "output_type": "stream",
     "text": [
      "06/13 05:55:04 - mmengine - \u001b[4m\u001b[97mINFO\u001b[0m - Epoch(train) [3][10100/11818]  lr: 1.0000e-05  eta: 4:24:19  time: 1.1631  data_time: 0.7999  memory: 1526  grad_norm: 14.6902  loss: 0.3714  top1_acc: 0.7500  top5_acc: 1.0000  loss_cls: 0.3714\r\n"
     ]
    },
    {
     "name": "stdout",
     "output_type": "stream",
     "text": [
      "06/13 05:55:28 - mmengine - \u001b[4m\u001b[97mINFO\u001b[0m - Epoch(train) [3][10120/11818]  lr: 1.0000e-05  eta: 4:23:56  time: 1.2079  data_time: 0.8425  memory: 1526  grad_norm: 17.1063  loss: 0.4459  top1_acc: 0.7500  top5_acc: 1.0000  loss_cls: 0.4459\r\n"
     ]
    },
    {
     "name": "stdout",
     "output_type": "stream",
     "text": [
      "06/13 05:55:51 - mmengine - \u001b[4m\u001b[97mINFO\u001b[0m - Epoch(train) [3][10140/11818]  lr: 1.0000e-05  eta: 4:23:32  time: 1.1457  data_time: 0.7830  memory: 1526  grad_norm: 16.5137  loss: 0.4415  top1_acc: 1.0000  top5_acc: 1.0000  loss_cls: 0.4415\r\n"
     ]
    },
    {
     "name": "stdout",
     "output_type": "stream",
     "text": [
      "06/13 05:56:16 - mmengine - \u001b[4m\u001b[97mINFO\u001b[0m - Epoch(train) [3][10160/11818]  lr: 1.0000e-05  eta: 4:23:09  time: 1.2064  data_time: 0.8449  memory: 1526  grad_norm: 14.6672  loss: 0.4119  top1_acc: 1.0000  top5_acc: 1.0000  loss_cls: 0.4119\r\n"
     ]
    },
    {
     "name": "stdout",
     "output_type": "stream",
     "text": [
      "06/13 05:56:40 - mmengine - \u001b[4m\u001b[97mINFO\u001b[0m - Epoch(train) [3][10180/11818]  lr: 1.0000e-05  eta: 4:22:46  time: 1.2268  data_time: 0.8657  memory: 1526  grad_norm: 12.8570  loss: 0.4182  top1_acc: 1.0000  top5_acc: 1.0000  loss_cls: 0.4182\r\n"
     ]
    },
    {
     "name": "stdout",
     "output_type": "stream",
     "text": [
      "06/13 05:57:03 - mmengine - \u001b[4m\u001b[97mINFO\u001b[0m - Epoch(train) [3][10200/11818]  lr: 1.0000e-05  eta: 4:22:23  time: 1.1440  data_time: 0.7804  memory: 1526  grad_norm: 18.6520  loss: 0.6290  top1_acc: 0.5000  top5_acc: 1.0000  loss_cls: 0.6290\r\n"
     ]
    },
    {
     "name": "stdout",
     "output_type": "stream",
     "text": [
      "06/13 05:57:29 - mmengine - \u001b[4m\u001b[97mINFO\u001b[0m - Epoch(train) [3][10220/11818]  lr: 1.0000e-05  eta: 4:22:00  time: 1.2897  data_time: 0.9266  memory: 1526  grad_norm: 17.6669  loss: 0.5150  top1_acc: 0.7500  top5_acc: 1.0000  loss_cls: 0.5150\r\n"
     ]
    },
    {
     "name": "stdout",
     "output_type": "stream",
     "text": [
      "06/13 05:57:53 - mmengine - \u001b[4m\u001b[97mINFO\u001b[0m - Epoch(train) [3][10240/11818]  lr: 1.0000e-05  eta: 4:21:37  time: 1.2207  data_time: 0.8581  memory: 1526  grad_norm: 16.0342  loss: 0.4776  top1_acc: 1.0000  top5_acc: 1.0000  loss_cls: 0.4776\r\n"
     ]
    },
    {
     "name": "stdout",
     "output_type": "stream",
     "text": [
      "06/13 05:58:19 - mmengine - \u001b[4m\u001b[97mINFO\u001b[0m - Epoch(train) [3][10260/11818]  lr: 1.0000e-05  eta: 4:21:15  time: 1.2883  data_time: 0.9252  memory: 1526  grad_norm: 14.9950  loss: 0.4891  top1_acc: 1.0000  top5_acc: 1.0000  loss_cls: 0.4891\r\n"
     ]
    },
    {
     "name": "stdout",
     "output_type": "stream",
     "text": [
      "06/13 05:58:42 - mmengine - \u001b[4m\u001b[97mINFO\u001b[0m - Epoch(train) [3][10280/11818]  lr: 1.0000e-05  eta: 4:20:51  time: 1.1374  data_time: 0.7739  memory: 1526  grad_norm: 15.4438  loss: 0.4577  top1_acc: 1.0000  top5_acc: 1.0000  loss_cls: 0.4577\r\n"
     ]
    },
    {
     "name": "stdout",
     "output_type": "stream",
     "text": [
      "06/13 05:59:06 - mmengine - \u001b[4m\u001b[97mINFO\u001b[0m - Epoch(train) [3][10300/11818]  lr: 1.0000e-05  eta: 4:20:28  time: 1.2023  data_time: 0.8348  memory: 1526  grad_norm: 18.6736  loss: 0.6952  top1_acc: 0.2500  top5_acc: 0.7500  loss_cls: 0.6952\r\n"
     ]
    },
    {
     "name": "stdout",
     "output_type": "stream",
     "text": [
      "06/13 05:59:28 - mmengine - \u001b[4m\u001b[97mINFO\u001b[0m - Epoch(train) [3][10320/11818]  lr: 1.0000e-05  eta: 4:20:04  time: 1.1135  data_time: 0.7510  memory: 1526  grad_norm: 16.0960  loss: 0.3566  top1_acc: 1.0000  top5_acc: 1.0000  loss_cls: 0.3566\r\n"
     ]
    },
    {
     "name": "stdout",
     "output_type": "stream",
     "text": [
      "06/13 05:59:50 - mmengine - \u001b[4m\u001b[97mINFO\u001b[0m - Epoch(train) [3][10340/11818]  lr: 1.0000e-05  eta: 4:19:40  time: 1.1147  data_time: 0.7536  memory: 1526  grad_norm: 13.9964  loss: 0.4592  top1_acc: 1.0000  top5_acc: 1.0000  loss_cls: 0.4592\r\n"
     ]
    },
    {
     "name": "stdout",
     "output_type": "stream",
     "text": [
      "06/13 06:00:16 - mmengine - \u001b[4m\u001b[97mINFO\u001b[0m - Epoch(train) [3][10360/11818]  lr: 1.0000e-05  eta: 4:19:17  time: 1.2807  data_time: 0.9162  memory: 1526  grad_norm: 17.6998  loss: 0.4726  top1_acc: 1.0000  top5_acc: 1.0000  loss_cls: 0.4726\r\n"
     ]
    },
    {
     "name": "stdout",
     "output_type": "stream",
     "text": [
      "06/13 06:00:21 - mmengine - \u001b[4m\u001b[97mINFO\u001b[0m - Exp name: config_20230612_184603\r\n"
     ]
    },
    {
     "name": "stdout",
     "output_type": "stream",
     "text": [
      "06/13 06:00:40 - mmengine - \u001b[4m\u001b[97mINFO\u001b[0m - Epoch(train) [3][10380/11818]  lr: 1.0000e-05  eta: 4:18:54  time: 1.1801  data_time: 0.8168  memory: 1526  grad_norm: 15.3470  loss: 0.3724  top1_acc: 0.7500  top5_acc: 1.0000  loss_cls: 0.3724\r\n"
     ]
    },
    {
     "name": "stdout",
     "output_type": "stream",
     "text": [
      "06/13 06:01:04 - mmengine - \u001b[4m\u001b[97mINFO\u001b[0m - Epoch(train) [3][10400/11818]  lr: 1.0000e-05  eta: 4:18:31  time: 1.1989  data_time: 0.8369  memory: 1526  grad_norm: 17.8980  loss: 0.5444  top1_acc: 0.7500  top5_acc: 1.0000  loss_cls: 0.5444\r\n"
     ]
    },
    {
     "name": "stdout",
     "output_type": "stream",
     "text": [
      "06/13 06:01:27 - mmengine - \u001b[4m\u001b[97mINFO\u001b[0m - Epoch(train) [3][10420/11818]  lr: 1.0000e-05  eta: 4:18:07  time: 1.1902  data_time: 0.8269  memory: 1526  grad_norm: 17.0413  loss: 0.4773  top1_acc: 0.5000  top5_acc: 0.7500  loss_cls: 0.4773\r\n"
     ]
    },
    {
     "name": "stdout",
     "output_type": "stream",
     "text": [
      "06/13 06:01:51 - mmengine - \u001b[4m\u001b[97mINFO\u001b[0m - Epoch(train) [3][10440/11818]  lr: 1.0000e-05  eta: 4:17:44  time: 1.1867  data_time: 0.8246  memory: 1526  grad_norm: 16.9026  loss: 0.4875  top1_acc: 0.5000  top5_acc: 1.0000  loss_cls: 0.4875\r\n"
     ]
    },
    {
     "name": "stdout",
     "output_type": "stream",
     "text": [
      "06/13 06:02:12 - mmengine - \u001b[4m\u001b[97mINFO\u001b[0m - Epoch(train) [3][10460/11818]  lr: 1.0000e-05  eta: 4:17:20  time: 1.0542  data_time: 0.6920  memory: 1526  grad_norm: 12.8970  loss: 0.4587  top1_acc: 1.0000  top5_acc: 1.0000  loss_cls: 0.4587\r\n"
     ]
    },
    {
     "name": "stdout",
     "output_type": "stream",
     "text": [
      "06/13 06:02:36 - mmengine - \u001b[4m\u001b[97mINFO\u001b[0m - Epoch(train) [3][10480/11818]  lr: 1.0000e-05  eta: 4:16:56  time: 1.1873  data_time: 0.8259  memory: 1526  grad_norm: 14.8221  loss: 0.4206  top1_acc: 0.7500  top5_acc: 1.0000  loss_cls: 0.4206\r\n"
     ]
    },
    {
     "name": "stdout",
     "output_type": "stream",
     "text": [
      "06/13 06:02:59 - mmengine - \u001b[4m\u001b[97mINFO\u001b[0m - Epoch(train) [3][10500/11818]  lr: 1.0000e-05  eta: 4:16:33  time: 1.1571  data_time: 0.7954  memory: 1526  grad_norm: 13.5810  loss: 0.3675  top1_acc: 1.0000  top5_acc: 1.0000  loss_cls: 0.3675\r\n"
     ]
    },
    {
     "name": "stdout",
     "output_type": "stream",
     "text": [
      "06/13 06:03:21 - mmengine - \u001b[4m\u001b[97mINFO\u001b[0m - Epoch(train) [3][10520/11818]  lr: 1.0000e-05  eta: 4:16:09  time: 1.0756  data_time: 0.7121  memory: 1526  grad_norm: 17.1769  loss: 0.4808  top1_acc: 1.0000  top5_acc: 1.0000  loss_cls: 0.4808\r\n"
     ]
    },
    {
     "name": "stdout",
     "output_type": "stream",
     "text": [
      "06/13 06:03:44 - mmengine - \u001b[4m\u001b[97mINFO\u001b[0m - Epoch(train) [3][10540/11818]  lr: 1.0000e-05  eta: 4:15:45  time: 1.1705  data_time: 0.8047  memory: 1526  grad_norm: 13.0726  loss: 0.3257  top1_acc: 1.0000  top5_acc: 1.0000  loss_cls: 0.3257\r\n"
     ]
    },
    {
     "name": "stdout",
     "output_type": "stream",
     "text": [
      "06/13 06:04:04 - mmengine - \u001b[4m\u001b[97mINFO\u001b[0m - Epoch(train) [3][10560/11818]  lr: 1.0000e-05  eta: 4:15:21  time: 1.0178  data_time: 0.6557  memory: 1526  grad_norm: 15.0671  loss: 0.4079  top1_acc: 0.7500  top5_acc: 1.0000  loss_cls: 0.4079\r\n"
     ]
    },
    {
     "name": "stdout",
     "output_type": "stream",
     "text": [
      "06/13 06:04:30 - mmengine - \u001b[4m\u001b[97mINFO\u001b[0m - Epoch(train) [3][10580/11818]  lr: 1.0000e-05  eta: 4:14:58  time: 1.2744  data_time: 0.9103  memory: 1526  grad_norm: 16.8562  loss: 0.4633  top1_acc: 0.5000  top5_acc: 1.0000  loss_cls: 0.4633\r\n"
     ]
    },
    {
     "name": "stdout",
     "output_type": "stream",
     "text": [
      "06/13 06:04:52 - mmengine - \u001b[4m\u001b[97mINFO\u001b[0m - Epoch(train) [3][10600/11818]  lr: 1.0000e-05  eta: 4:14:34  time: 1.1213  data_time: 0.7588  memory: 1526  grad_norm: 13.5551  loss: 0.3594  top1_acc: 1.0000  top5_acc: 1.0000  loss_cls: 0.3594\r\n"
     ]
    },
    {
     "name": "stdout",
     "output_type": "stream",
     "text": [
      "06/13 06:05:20 - mmengine - \u001b[4m\u001b[97mINFO\u001b[0m - Epoch(train) [3][10620/11818]  lr: 1.0000e-05  eta: 4:14:12  time: 1.3733  data_time: 1.0101  memory: 1526  grad_norm: 15.1163  loss: 0.4549  top1_acc: 0.7500  top5_acc: 1.0000  loss_cls: 0.4549\r\n"
     ]
    },
    {
     "name": "stdout",
     "output_type": "stream",
     "text": [
      "06/13 06:05:45 - mmengine - \u001b[4m\u001b[97mINFO\u001b[0m - Epoch(train) [3][10640/11818]  lr: 1.0000e-05  eta: 4:13:50  time: 1.2814  data_time: 0.9189  memory: 1526  grad_norm: 18.0132  loss: 0.5145  top1_acc: 0.7500  top5_acc: 1.0000  loss_cls: 0.5145\r\n"
     ]
    },
    {
     "name": "stdout",
     "output_type": "stream",
     "text": [
      "06/13 06:06:09 - mmengine - \u001b[4m\u001b[97mINFO\u001b[0m - Epoch(train) [3][10660/11818]  lr: 1.0000e-05  eta: 4:13:26  time: 1.1724  data_time: 0.8111  memory: 1526  grad_norm: 14.6929  loss: 0.5134  top1_acc: 0.5000  top5_acc: 0.7500  loss_cls: 0.5134\r\n"
     ]
    },
    {
     "name": "stdout",
     "output_type": "stream",
     "text": [
      "06/13 06:06:34 - mmengine - \u001b[4m\u001b[97mINFO\u001b[0m - Epoch(train) [3][10680/11818]  lr: 1.0000e-05  eta: 4:13:03  time: 1.2492  data_time: 0.8862  memory: 1526  grad_norm: 18.3233  loss: 0.5421  top1_acc: 0.7500  top5_acc: 1.0000  loss_cls: 0.5421\r\n"
     ]
    },
    {
     "name": "stdout",
     "output_type": "stream",
     "text": [
      "06/13 06:06:58 - mmengine - \u001b[4m\u001b[97mINFO\u001b[0m - Epoch(train) [3][10700/11818]  lr: 1.0000e-05  eta: 4:12:40  time: 1.2134  data_time: 0.8506  memory: 1526  grad_norm: 12.3633  loss: 0.3686  top1_acc: 1.0000  top5_acc: 1.0000  loss_cls: 0.3686\r\n"
     ]
    },
    {
     "name": "stdout",
     "output_type": "stream",
     "text": [
      "06/13 06:07:24 - mmengine - \u001b[4m\u001b[97mINFO\u001b[0m - Epoch(train) [3][10720/11818]  lr: 1.0000e-05  eta: 4:12:18  time: 1.2793  data_time: 0.9177  memory: 1526  grad_norm: 14.1311  loss: 0.4703  top1_acc: 0.7500  top5_acc: 1.0000  loss_cls: 0.4703\r\n"
     ]
    },
    {
     "name": "stdout",
     "output_type": "stream",
     "text": [
      "06/13 06:07:44 - mmengine - \u001b[4m\u001b[97mINFO\u001b[0m - Epoch(train) [3][10740/11818]  lr: 1.0000e-05  eta: 4:11:53  time: 1.0079  data_time: 0.6457  memory: 1526  grad_norm: 17.0849  loss: 0.5569  top1_acc: 1.0000  top5_acc: 1.0000  loss_cls: 0.5569\r\n"
     ]
    },
    {
     "name": "stdout",
     "output_type": "stream",
     "text": [
      "06/13 06:08:11 - mmengine - \u001b[4m\u001b[97mINFO\u001b[0m - Epoch(train) [3][10760/11818]  lr: 1.0000e-05  eta: 4:11:31  time: 1.3547  data_time: 0.9911  memory: 1526  grad_norm: 16.8971  loss: 0.5243  top1_acc: 1.0000  top5_acc: 1.0000  loss_cls: 0.5243\r\n"
     ]
    },
    {
     "name": "stdout",
     "output_type": "stream",
     "text": [
      "06/13 06:08:35 - mmengine - \u001b[4m\u001b[97mINFO\u001b[0m - Epoch(train) [3][10780/11818]  lr: 1.0000e-05  eta: 4:11:08  time: 1.1914  data_time: 0.8289  memory: 1526  grad_norm: 19.1218  loss: 0.5947  top1_acc: 0.7500  top5_acc: 1.0000  loss_cls: 0.5947\r\n"
     ]
    },
    {
     "name": "stdout",
     "output_type": "stream",
     "text": [
      "06/13 06:08:58 - mmengine - \u001b[4m\u001b[97mINFO\u001b[0m - Epoch(train) [3][10800/11818]  lr: 1.0000e-05  eta: 4:10:44  time: 1.1690  data_time: 0.8062  memory: 1526  grad_norm: 16.8672  loss: 0.5568  top1_acc: 0.7500  top5_acc: 1.0000  loss_cls: 0.5568\r\n"
     ]
    },
    {
     "name": "stdout",
     "output_type": "stream",
     "text": [
      "06/13 06:09:24 - mmengine - \u001b[4m\u001b[97mINFO\u001b[0m - Epoch(train) [3][10820/11818]  lr: 1.0000e-05  eta: 4:10:22  time: 1.3098  data_time: 0.9466  memory: 1526  grad_norm: 22.1554  loss: 0.5281  top1_acc: 1.0000  top5_acc: 1.0000  loss_cls: 0.5281\r\n"
     ]
    },
    {
     "name": "stdout",
     "output_type": "stream",
     "text": [
      "06/13 06:09:46 - mmengine - \u001b[4m\u001b[97mINFO\u001b[0m - Epoch(train) [3][10840/11818]  lr: 1.0000e-05  eta: 4:09:58  time: 1.0951  data_time: 0.7335  memory: 1526  grad_norm: 17.5636  loss: 0.5259  top1_acc: 0.7500  top5_acc: 1.0000  loss_cls: 0.5259\r\n"
     ]
    },
    {
     "name": "stdout",
     "output_type": "stream",
     "text": [
      "06/13 06:10:09 - mmengine - \u001b[4m\u001b[97mINFO\u001b[0m - Epoch(train) [3][10860/11818]  lr: 1.0000e-05  eta: 4:09:34  time: 1.1509  data_time: 0.7894  memory: 1526  grad_norm: 16.5164  loss: 0.5182  top1_acc: 0.7500  top5_acc: 0.7500  loss_cls: 0.5182\r\n"
     ]
    },
    {
     "name": "stdout",
     "output_type": "stream",
     "text": [
      "06/13 06:10:34 - mmengine - \u001b[4m\u001b[97mINFO\u001b[0m - Epoch(train) [3][10880/11818]  lr: 1.0000e-05  eta: 4:09:11  time: 1.2359  data_time: 0.8732  memory: 1526  grad_norm: 16.3318  loss: 0.4741  top1_acc: 0.5000  top5_acc: 1.0000  loss_cls: 0.4741\r\n"
     ]
    },
    {
     "name": "stdout",
     "output_type": "stream",
     "text": [
      "06/13 06:10:59 - mmengine - \u001b[4m\u001b[97mINFO\u001b[0m - Epoch(train) [3][10900/11818]  lr: 1.0000e-05  eta: 4:08:48  time: 1.2369  data_time: 0.8718  memory: 1526  grad_norm: 17.0590  loss: 0.5247  top1_acc: 0.5000  top5_acc: 1.0000  loss_cls: 0.5247\r\n"
     ]
    },
    {
     "name": "stdout",
     "output_type": "stream",
     "text": [
      "06/13 06:11:19 - mmengine - \u001b[4m\u001b[97mINFO\u001b[0m - Epoch(train) [3][10920/11818]  lr: 1.0000e-05  eta: 4:08:24  time: 1.0311  data_time: 0.6704  memory: 1526  grad_norm: 13.9567  loss: 0.4265  top1_acc: 1.0000  top5_acc: 1.0000  loss_cls: 0.4265\r\n"
     ]
    },
    {
     "name": "stdout",
     "output_type": "stream",
     "text": [
      "06/13 06:11:45 - mmengine - \u001b[4m\u001b[97mINFO\u001b[0m - Epoch(train) [3][10940/11818]  lr: 1.0000e-05  eta: 4:08:01  time: 1.3061  data_time: 0.9431  memory: 1526  grad_norm: 17.0698  loss: 0.4951  top1_acc: 1.0000  top5_acc: 1.0000  loss_cls: 0.4951\r\n"
     ]
    },
    {
     "name": "stdout",
     "output_type": "stream",
     "text": [
      "06/13 06:12:12 - mmengine - \u001b[4m\u001b[97mINFO\u001b[0m - Epoch(train) [3][10960/11818]  lr: 1.0000e-05  eta: 4:07:39  time: 1.3058  data_time: 0.9412  memory: 1526  grad_norm: 15.1531  loss: 0.3618  top1_acc: 1.0000  top5_acc: 1.0000  loss_cls: 0.3618\r\n"
     ]
    },
    {
     "name": "stdout",
     "output_type": "stream",
     "text": [
      "06/13 06:12:37 - mmengine - \u001b[4m\u001b[97mINFO\u001b[0m - Epoch(train) [3][10980/11818]  lr: 1.0000e-05  eta: 4:07:16  time: 1.2853  data_time: 0.9215  memory: 1526  grad_norm: 19.7886  loss: 0.4567  top1_acc: 0.7500  top5_acc: 1.0000  loss_cls: 0.4567\r\n"
     ]
    },
    {
     "name": "stdout",
     "output_type": "stream",
     "text": [
      "06/13 06:13:00 - mmengine - \u001b[4m\u001b[97mINFO\u001b[0m - Epoch(train) [3][11000/11818]  lr: 1.0000e-05  eta: 4:06:52  time: 1.1500  data_time: 0.7879  memory: 1526  grad_norm: 15.9708  loss: 0.4875  top1_acc: 1.0000  top5_acc: 1.0000  loss_cls: 0.4875\r\n"
     ]
    },
    {
     "name": "stdout",
     "output_type": "stream",
     "text": [
      "06/13 06:13:26 - mmengine - \u001b[4m\u001b[97mINFO\u001b[0m - Epoch(train) [3][11020/11818]  lr: 1.0000e-05  eta: 4:06:30  time: 1.2931  data_time: 0.9300  memory: 1526  grad_norm: 18.2623  loss: 0.5350  top1_acc: 0.7500  top5_acc: 1.0000  loss_cls: 0.5350\r\n"
     ]
    },
    {
     "name": "stdout",
     "output_type": "stream",
     "text": [
      "06/13 06:13:49 - mmengine - \u001b[4m\u001b[97mINFO\u001b[0m - Epoch(train) [3][11040/11818]  lr: 1.0000e-05  eta: 4:06:06  time: 1.1627  data_time: 0.8003  memory: 1526  grad_norm: 19.1560  loss: 0.5781  top1_acc: 0.7500  top5_acc: 1.0000  loss_cls: 0.5781\r\n"
     ]
    },
    {
     "name": "stdout",
     "output_type": "stream",
     "text": [
      "06/13 06:14:15 - mmengine - \u001b[4m\u001b[97mINFO\u001b[0m - Epoch(train) [3][11060/11818]  lr: 1.0000e-05  eta: 4:05:44  time: 1.2839  data_time: 0.9208  memory: 1526  grad_norm: 20.7270  loss: 0.6995  top1_acc: 0.7500  top5_acc: 1.0000  loss_cls: 0.6995\r\n"
     ]
    },
    {
     "name": "stdout",
     "output_type": "stream",
     "text": [
      "06/13 06:14:40 - mmengine - \u001b[4m\u001b[97mINFO\u001b[0m - Epoch(train) [3][11080/11818]  lr: 1.0000e-05  eta: 4:05:21  time: 1.2457  data_time: 0.8845  memory: 1526  grad_norm: 14.4684  loss: 0.3909  top1_acc: 1.0000  top5_acc: 1.0000  loss_cls: 0.3909\r\n"
     ]
    },
    {
     "name": "stdout",
     "output_type": "stream",
     "text": [
      "06/13 06:15:05 - mmengine - \u001b[4m\u001b[97mINFO\u001b[0m - Epoch(train) [3][11100/11818]  lr: 1.0000e-05  eta: 4:04:58  time: 1.2254  data_time: 0.8647  memory: 1526  grad_norm: 15.6353  loss: 0.3843  top1_acc: 0.7500  top5_acc: 1.0000  loss_cls: 0.3843\r\n"
     ]
    },
    {
     "name": "stdout",
     "output_type": "stream",
     "text": [
      "06/13 06:15:31 - mmengine - \u001b[4m\u001b[97mINFO\u001b[0m - Epoch(train) [3][11120/11818]  lr: 1.0000e-05  eta: 4:04:35  time: 1.3034  data_time: 0.9380  memory: 1526  grad_norm: 13.3868  loss: 0.3937  top1_acc: 1.0000  top5_acc: 1.0000  loss_cls: 0.3937\r\n"
     ]
    },
    {
     "name": "stdout",
     "output_type": "stream",
     "text": [
      "06/13 06:15:55 - mmengine - \u001b[4m\u001b[97mINFO\u001b[0m - Epoch(train) [3][11140/11818]  lr: 1.0000e-05  eta: 4:04:12  time: 1.2374  data_time: 0.8750  memory: 1526  grad_norm: 15.1368  loss: 0.3952  top1_acc: 0.7500  top5_acc: 1.0000  loss_cls: 0.3952\r\n"
     ]
    },
    {
     "name": "stdout",
     "output_type": "stream",
     "text": [
      "06/13 06:16:18 - mmengine - \u001b[4m\u001b[97mINFO\u001b[0m - Epoch(train) [3][11160/11818]  lr: 1.0000e-05  eta: 4:03:49  time: 1.1420  data_time: 0.7800  memory: 1526  grad_norm: 15.9795  loss: 0.4608  top1_acc: 1.0000  top5_acc: 1.0000  loss_cls: 0.4608\r\n"
     ]
    },
    {
     "name": "stdout",
     "output_type": "stream",
     "text": [
      "06/13 06:16:42 - mmengine - \u001b[4m\u001b[97mINFO\u001b[0m - Epoch(train) [3][11180/11818]  lr: 1.0000e-05  eta: 4:03:25  time: 1.1975  data_time: 0.8343  memory: 1526  grad_norm: 14.8072  loss: 0.4069  top1_acc: 1.0000  top5_acc: 1.0000  loss_cls: 0.4069\r\n"
     ]
    },
    {
     "name": "stdout",
     "output_type": "stream",
     "text": [
      "06/13 06:17:06 - mmengine - \u001b[4m\u001b[97mINFO\u001b[0m - Epoch(train) [3][11200/11818]  lr: 1.0000e-05  eta: 4:03:02  time: 1.2084  data_time: 0.8471  memory: 1526  grad_norm: 15.2587  loss: 0.3662  top1_acc: 0.5000  top5_acc: 1.0000  loss_cls: 0.3662\r\n"
     ]
    },
    {
     "name": "stdout",
     "output_type": "stream",
     "text": [
      "06/13 06:17:26 - mmengine - \u001b[4m\u001b[97mINFO\u001b[0m - Epoch(train) [3][11220/11818]  lr: 1.0000e-05  eta: 4:02:38  time: 1.0098  data_time: 0.6474  memory: 1526  grad_norm: 20.7784  loss: 0.6090  top1_acc: 0.7500  top5_acc: 1.0000  loss_cls: 0.6090\r\n"
     ]
    },
    {
     "name": "stdout",
     "output_type": "stream",
     "text": [
      "06/13 06:17:49 - mmengine - \u001b[4m\u001b[97mINFO\u001b[0m - Epoch(train) [3][11240/11818]  lr: 1.0000e-05  eta: 4:02:14  time: 1.1359  data_time: 0.7732  memory: 1526  grad_norm: 13.8865  loss: 0.2749  top1_acc: 1.0000  top5_acc: 1.0000  loss_cls: 0.2749\r\n"
     ]
    },
    {
     "name": "stdout",
     "output_type": "stream",
     "text": [
      "06/13 06:18:13 - mmengine - \u001b[4m\u001b[97mINFO\u001b[0m - Epoch(train) [3][11260/11818]  lr: 1.0000e-05  eta: 4:01:50  time: 1.1797  data_time: 0.8173  memory: 1526  grad_norm: 17.2645  loss: 0.4759  top1_acc: 1.0000  top5_acc: 1.0000  loss_cls: 0.4759\r\n"
     ]
    },
    {
     "name": "stdout",
     "output_type": "stream",
     "text": [
      "06/13 06:18:39 - mmengine - \u001b[4m\u001b[97mINFO\u001b[0m - Epoch(train) [3][11280/11818]  lr: 1.0000e-05  eta: 4:01:28  time: 1.3239  data_time: 0.9624  memory: 1526  grad_norm: 17.4010  loss: 0.5236  top1_acc: 0.7500  top5_acc: 1.0000  loss_cls: 0.5236\r\n"
     ]
    },
    {
     "name": "stdout",
     "output_type": "stream",
     "text": [
      "06/13 06:19:01 - mmengine - \u001b[4m\u001b[97mINFO\u001b[0m - Epoch(train) [3][11300/11818]  lr: 1.0000e-05  eta: 4:01:04  time: 1.0976  data_time: 0.7336  memory: 1526  grad_norm: 16.0661  loss: 0.4111  top1_acc: 0.7500  top5_acc: 1.0000  loss_cls: 0.4111\r\n"
     ]
    },
    {
     "name": "stdout",
     "output_type": "stream",
     "text": [
      "06/13 06:19:25 - mmengine - \u001b[4m\u001b[97mINFO\u001b[0m - Epoch(train) [3][11320/11818]  lr: 1.0000e-05  eta: 4:00:41  time: 1.2051  data_time: 0.8430  memory: 1526  grad_norm: 18.2432  loss: 0.5042  top1_acc: 0.5000  top5_acc: 0.5000  loss_cls: 0.5042\r\n"
     ]
    },
    {
     "name": "stdout",
     "output_type": "stream",
     "text": [
      "06/13 06:19:51 - mmengine - \u001b[4m\u001b[97mINFO\u001b[0m - Epoch(train) [3][11340/11818]  lr: 1.0000e-05  eta: 4:00:18  time: 1.2602  data_time: 0.8983  memory: 1526  grad_norm: 18.8333  loss: 0.6061  top1_acc: 0.7500  top5_acc: 1.0000  loss_cls: 0.6061\r\n"
     ]
    },
    {
     "name": "stdout",
     "output_type": "stream",
     "text": [
      "06/13 06:20:14 - mmengine - \u001b[4m\u001b[97mINFO\u001b[0m - Epoch(train) [3][11360/11818]  lr: 1.0000e-05  eta: 3:59:55  time: 1.1668  data_time: 0.8025  memory: 1526  grad_norm: 16.4743  loss: 0.4221  top1_acc: 1.0000  top5_acc: 1.0000  loss_cls: 0.4221\r\n"
     ]
    },
    {
     "name": "stdout",
     "output_type": "stream",
     "text": [
      "06/13 06:20:17 - mmengine - \u001b[4m\u001b[97mINFO\u001b[0m - Exp name: config_20230612_184603\r\n"
     ]
    },
    {
     "name": "stdout",
     "output_type": "stream",
     "text": [
      "06/13 06:20:33 - mmengine - \u001b[4m\u001b[97mINFO\u001b[0m - Epoch(train) [3][11380/11818]  lr: 1.0000e-05  eta: 3:59:29  time: 0.9322  data_time: 0.5691  memory: 1526  grad_norm: 17.6039  loss: 0.4748  top1_acc: 0.5000  top5_acc: 1.0000  loss_cls: 0.4748\r\n"
     ]
    },
    {
     "name": "stdout",
     "output_type": "stream",
     "text": [
      "06/13 06:20:55 - mmengine - \u001b[4m\u001b[97mINFO\u001b[0m - Epoch(train) [3][11400/11818]  lr: 1.0000e-05  eta: 3:59:06  time: 1.1259  data_time: 0.7648  memory: 1526  grad_norm: 14.2446  loss: 0.4363  top1_acc: 0.7500  top5_acc: 1.0000  loss_cls: 0.4363\r\n"
     ]
    },
    {
     "name": "stdout",
     "output_type": "stream",
     "text": [
      "06/13 06:21:16 - mmengine - \u001b[4m\u001b[97mINFO\u001b[0m - Epoch(train) [3][11420/11818]  lr: 1.0000e-05  eta: 3:58:41  time: 1.0397  data_time: 0.6744  memory: 1526  grad_norm: 17.0319  loss: 0.4941  top1_acc: 1.0000  top5_acc: 1.0000  loss_cls: 0.4941\r\n"
     ]
    },
    {
     "name": "stdout",
     "output_type": "stream",
     "text": [
      "06/13 06:21:40 - mmengine - \u001b[4m\u001b[97mINFO\u001b[0m - Epoch(train) [3][11440/11818]  lr: 1.0000e-05  eta: 3:58:18  time: 1.1896  data_time: 0.8266  memory: 1526  grad_norm: 15.2546  loss: 0.4071  top1_acc: 0.7500  top5_acc: 1.0000  loss_cls: 0.4071\r\n"
     ]
    },
    {
     "name": "stdout",
     "output_type": "stream",
     "text": [
      "06/13 06:22:01 - mmengine - \u001b[4m\u001b[97mINFO\u001b[0m - Epoch(train) [3][11460/11818]  lr: 1.0000e-05  eta: 3:57:54  time: 1.0754  data_time: 0.7139  memory: 1526  grad_norm: 18.2362  loss: 0.5828  top1_acc: 1.0000  top5_acc: 1.0000  loss_cls: 0.5828\r\n"
     ]
    },
    {
     "name": "stdout",
     "output_type": "stream",
     "text": [
      "06/13 06:22:23 - mmengine - \u001b[4m\u001b[97mINFO\u001b[0m - Epoch(train) [3][11480/11818]  lr: 1.0000e-05  eta: 3:57:30  time: 1.1033  data_time: 0.7410  memory: 1526  grad_norm: 19.0866  loss: 0.6360  top1_acc: 1.0000  top5_acc: 1.0000  loss_cls: 0.6360\r\n"
     ]
    },
    {
     "name": "stdout",
     "output_type": "stream",
     "text": [
      "06/13 06:22:49 - mmengine - \u001b[4m\u001b[97mINFO\u001b[0m - Epoch(train) [3][11500/11818]  lr: 1.0000e-05  eta: 3:57:07  time: 1.2874  data_time: 0.9233  memory: 1526  grad_norm: 19.0989  loss: 0.5455  top1_acc: 1.0000  top5_acc: 1.0000  loss_cls: 0.5455\r\n"
     ]
    },
    {
     "name": "stdout",
     "output_type": "stream",
     "text": [
      "06/13 06:23:12 - mmengine - \u001b[4m\u001b[97mINFO\u001b[0m - Epoch(train) [3][11520/11818]  lr: 1.0000e-05  eta: 3:56:44  time: 1.1592  data_time: 0.7966  memory: 1526  grad_norm: 20.6205  loss: 0.5406  top1_acc: 1.0000  top5_acc: 1.0000  loss_cls: 0.5406\r\n"
     ]
    },
    {
     "name": "stdout",
     "output_type": "stream",
     "text": [
      "06/13 06:23:33 - mmengine - \u001b[4m\u001b[97mINFO\u001b[0m - Epoch(train) [3][11540/11818]  lr: 1.0000e-05  eta: 3:56:19  time: 1.0504  data_time: 0.6876  memory: 1526  grad_norm: 16.6240  loss: 0.3521  top1_acc: 1.0000  top5_acc: 1.0000  loss_cls: 0.3521\r\n"
     ]
    },
    {
     "name": "stdout",
     "output_type": "stream",
     "text": [
      "06/13 06:23:52 - mmengine - \u001b[4m\u001b[97mINFO\u001b[0m - Epoch(train) [3][11560/11818]  lr: 1.0000e-05  eta: 3:55:54  time: 0.9502  data_time: 0.5873  memory: 1526  grad_norm: 21.5501  loss: 0.6193  top1_acc: 1.0000  top5_acc: 1.0000  loss_cls: 0.6193\r\n"
     ]
    },
    {
     "name": "stdout",
     "output_type": "stream",
     "text": [
      "06/13 06:24:14 - mmengine - \u001b[4m\u001b[97mINFO\u001b[0m - Epoch(train) [3][11580/11818]  lr: 1.0000e-05  eta: 3:55:30  time: 1.0810  data_time: 0.7206  memory: 1526  grad_norm: 14.7415  loss: 0.4908  top1_acc: 1.0000  top5_acc: 1.0000  loss_cls: 0.4908\r\n"
     ]
    },
    {
     "name": "stdout",
     "output_type": "stream",
     "text": [
      "06/13 06:24:33 - mmengine - \u001b[4m\u001b[97mINFO\u001b[0m - Epoch(train) [3][11600/11818]  lr: 1.0000e-05  eta: 3:55:05  time: 0.9444  data_time: 0.5817  memory: 1526  grad_norm: 13.3250  loss: 0.3720  top1_acc: 0.7500  top5_acc: 0.7500  loss_cls: 0.3720\r\n"
     ]
    },
    {
     "name": "stdout",
     "output_type": "stream",
     "text": [
      "06/13 06:24:55 - mmengine - \u001b[4m\u001b[97mINFO\u001b[0m - Epoch(train) [3][11620/11818]  lr: 1.0000e-05  eta: 3:54:41  time: 1.1017  data_time: 0.7379  memory: 1526  grad_norm: 17.6826  loss: 0.4134  top1_acc: 1.0000  top5_acc: 1.0000  loss_cls: 0.4134\r\n"
     ]
    },
    {
     "name": "stdout",
     "output_type": "stream",
     "text": [
      "06/13 06:25:17 - mmengine - \u001b[4m\u001b[97mINFO\u001b[0m - Epoch(train) [3][11640/11818]  lr: 1.0000e-05  eta: 3:54:17  time: 1.0905  data_time: 0.7275  memory: 1526  grad_norm: 16.5428  loss: 0.4977  top1_acc: 1.0000  top5_acc: 1.0000  loss_cls: 0.4977\r\n"
     ]
    },
    {
     "name": "stdout",
     "output_type": "stream",
     "text": [
      "06/13 06:25:37 - mmengine - \u001b[4m\u001b[97mINFO\u001b[0m - Epoch(train) [3][11660/11818]  lr: 1.0000e-05  eta: 3:53:53  time: 1.0237  data_time: 0.6610  memory: 1526  grad_norm: 14.7221  loss: 0.4059  top1_acc: 0.7500  top5_acc: 1.0000  loss_cls: 0.4059\r\n"
     ]
    },
    {
     "name": "stdout",
     "output_type": "stream",
     "text": [
      "06/13 06:26:04 - mmengine - \u001b[4m\u001b[97mINFO\u001b[0m - Epoch(train) [3][11680/11818]  lr: 1.0000e-05  eta: 3:53:31  time: 1.3345  data_time: 0.9720  memory: 1526  grad_norm: 15.9161  loss: 0.4856  top1_acc: 1.0000  top5_acc: 1.0000  loss_cls: 0.4856\r\n"
     ]
    },
    {
     "name": "stdout",
     "output_type": "stream",
     "text": [
      "06/13 06:26:25 - mmengine - \u001b[4m\u001b[97mINFO\u001b[0m - Epoch(train) [3][11700/11818]  lr: 1.0000e-05  eta: 3:53:06  time: 1.0393  data_time: 0.6777  memory: 1526  grad_norm: 12.9428  loss: 0.3965  top1_acc: 1.0000  top5_acc: 1.0000  loss_cls: 0.3965\r\n"
     ]
    },
    {
     "name": "stdout",
     "output_type": "stream",
     "text": [
      "06/13 06:26:52 - mmengine - \u001b[4m\u001b[97mINFO\u001b[0m - Epoch(train) [3][11720/11818]  lr: 1.0000e-05  eta: 3:52:44  time: 1.3733  data_time: 1.0107  memory: 1526  grad_norm: 15.5511  loss: 0.4250  top1_acc: 1.0000  top5_acc: 1.0000  loss_cls: 0.4250\r\n"
     ]
    },
    {
     "name": "stdout",
     "output_type": "stream",
     "text": [
      "06/13 06:27:16 - mmengine - \u001b[4m\u001b[97mINFO\u001b[0m - Epoch(train) [3][11740/11818]  lr: 1.0000e-05  eta: 3:52:21  time: 1.1955  data_time: 0.8348  memory: 1526  grad_norm: 16.5318  loss: 0.4903  top1_acc: 0.7500  top5_acc: 1.0000  loss_cls: 0.4903\r\n"
     ]
    },
    {
     "name": "stdout",
     "output_type": "stream",
     "text": [
      "06/13 06:27:39 - mmengine - \u001b[4m\u001b[97mINFO\u001b[0m - Epoch(train) [3][11760/11818]  lr: 1.0000e-05  eta: 3:51:57  time: 1.1666  data_time: 0.8041  memory: 1526  grad_norm: 16.9163  loss: 0.5030  top1_acc: 0.5000  top5_acc: 1.0000  loss_cls: 0.5030\r\n"
     ]
    },
    {
     "name": "stdout",
     "output_type": "stream",
     "text": [
      "06/13 06:28:01 - mmengine - \u001b[4m\u001b[97mINFO\u001b[0m - Epoch(train) [3][11780/11818]  lr: 1.0000e-05  eta: 3:51:33  time: 1.0803  data_time: 0.7187  memory: 1526  grad_norm: 15.5130  loss: 0.4066  top1_acc: 1.0000  top5_acc: 1.0000  loss_cls: 0.4066\r\n"
     ]
    },
    {
     "name": "stdout",
     "output_type": "stream",
     "text": [
      "06/13 06:28:23 - mmengine - \u001b[4m\u001b[97mINFO\u001b[0m - Epoch(train) [3][11800/11818]  lr: 1.0000e-05  eta: 3:51:10  time: 1.1257  data_time: 0.7636  memory: 1526  grad_norm: 14.9486  loss: 0.4481  top1_acc: 1.0000  top5_acc: 1.0000  loss_cls: 0.4481\r\n"
     ]
    },
    {
     "name": "stdout",
     "output_type": "stream",
     "text": [
      "06/13 06:28:46 - mmengine - \u001b[4m\u001b[97mINFO\u001b[0m - Exp name: config_20230612_184603\r\n",
      "06/13 06:28:46 - mmengine - \u001b[4m\u001b[97mINFO\u001b[0m - Epoch(train) [3][11818/11818]  lr: 1.0000e-05  eta: 3:50:49  time: 1.3295  data_time: 0.9708  memory: 1526  grad_norm: 20.0378  loss: 0.5369  top1_acc: 1.0000  top5_acc: 1.0000  loss_cls: 0.5369\r\n",
      "06/13 06:28:46 - mmengine - \u001b[4m\u001b[97mINFO\u001b[0m - Saving checkpoint at 3 epochs\r\n"
     ]
    },
    {
     "name": "stdout",
     "output_type": "stream",
     "text": [
      "06/13 06:29:07 - mmengine - \u001b[4m\u001b[97mINFO\u001b[0m - Epoch(val) [3][ 20/263]    eta: 0:04:01  time: 0.9943  data_time: 0.9235  memory: 387  \r\n"
     ]
    },
    {
     "name": "stdout",
     "output_type": "stream",
     "text": [
      "06/13 06:29:30 - mmengine - \u001b[4m\u001b[97mINFO\u001b[0m - Epoch(val) [3][ 40/263]    eta: 0:04:01  time: 1.1697  data_time: 1.0984  memory: 387  \r\n"
     ]
    },
    {
     "name": "stdout",
     "output_type": "stream",
     "text": [
      "06/13 06:29:52 - mmengine - \u001b[4m\u001b[97mINFO\u001b[0m - Epoch(val) [3][ 60/263]    eta: 0:03:39  time: 1.0835  data_time: 1.0131  memory: 387  \r\n"
     ]
    },
    {
     "name": "stdout",
     "output_type": "stream",
     "text": [
      "06/13 06:30:13 - mmengine - \u001b[4m\u001b[97mINFO\u001b[0m - Epoch(val) [3][ 80/263]    eta: 0:03:15  time: 1.0302  data_time: 0.9587  memory: 387  \r\n"
     ]
    },
    {
     "name": "stdout",
     "output_type": "stream",
     "text": [
      "06/13 06:30:32 - mmengine - \u001b[4m\u001b[97mINFO\u001b[0m - Epoch(val) [3][100/263]    eta: 0:02:51  time: 0.9957  data_time: 0.9251  memory: 387  \r\n"
     ]
    },
    {
     "name": "stdout",
     "output_type": "stream",
     "text": [
      "06/13 06:30:57 - mmengine - \u001b[4m\u001b[97mINFO\u001b[0m - Epoch(val) [3][120/263]    eta: 0:02:35  time: 1.2398  data_time: 1.1684  memory: 387  \r\n"
     ]
    },
    {
     "name": "stdout",
     "output_type": "stream",
     "text": [
      "06/13 06:31:17 - mmengine - \u001b[4m\u001b[97mINFO\u001b[0m - Epoch(val) [3][140/263]    eta: 0:02:12  time: 1.0067  data_time: 0.9355  memory: 387  \r\n"
     ]
    },
    {
     "name": "stdout",
     "output_type": "stream",
     "text": [
      "06/13 06:31:38 - mmengine - \u001b[4m\u001b[97mINFO\u001b[0m - Epoch(val) [3][160/263]    eta: 0:01:49  time: 1.0182  data_time: 0.9472  memory: 387  \r\n"
     ]
    },
    {
     "name": "stdout",
     "output_type": "stream",
     "text": [
      "06/13 06:31:59 - mmengine - \u001b[4m\u001b[97mINFO\u001b[0m - Epoch(val) [3][180/263]    eta: 0:01:28  time: 1.0762  data_time: 1.0055  memory: 387  \r\n"
     ]
    },
    {
     "name": "stdout",
     "output_type": "stream",
     "text": [
      "06/13 06:32:21 - mmengine - \u001b[4m\u001b[97mINFO\u001b[0m - Epoch(val) [3][200/263]    eta: 0:01:07  time: 1.0918  data_time: 1.0202  memory: 387  \r\n"
     ]
    },
    {
     "name": "stdout",
     "output_type": "stream",
     "text": [
      "06/13 06:32:40 - mmengine - \u001b[4m\u001b[97mINFO\u001b[0m - Epoch(val) [3][220/263]    eta: 0:00:45  time: 0.9378  data_time: 0.8667  memory: 387  \r\n"
     ]
    },
    {
     "name": "stdout",
     "output_type": "stream",
     "text": [
      "06/13 06:33:02 - mmengine - \u001b[4m\u001b[97mINFO\u001b[0m - Epoch(val) [3][240/263]    eta: 0:00:24  time: 1.1229  data_time: 1.0522  memory: 387  \r\n"
     ]
    },
    {
     "name": "stdout",
     "output_type": "stream",
     "text": [
      "06/13 06:33:23 - mmengine - \u001b[4m\u001b[97mINFO\u001b[0m - Epoch(val) [3][260/263]    eta: 0:00:03  time: 1.0136  data_time: 0.9413  memory: 387  \r\n"
     ]
    },
    {
     "name": "stdout",
     "output_type": "stream",
     "text": [
      "06/13 06:33:25 - mmengine - \u001b[4m\u001b[97mINFO\u001b[0m - Epoch(val) [3][263/263]    acc/top1: 0.7650  acc/top5: 0.9743  acc/mean1: 0.7526  data_time: 0.9842  time: 1.0552\r\n",
      "06/13 06:33:25 - mmengine - \u001b[4m\u001b[97mINFO\u001b[0m - The previous best checkpoint /kaggle/working/work_dirs/config/best_acc_top1_epoch_1.pth is removed\r\n"
     ]
    },
    {
     "name": "stdout",
     "output_type": "stream",
     "text": [
      "06/13 06:33:25 - mmengine - \u001b[4m\u001b[97mINFO\u001b[0m - The best checkpoint with 0.7650 acc/top1 at 3 epoch is saved to best_acc_top1_epoch_3.pth.\r\n"
     ]
    },
    {
     "name": "stdout",
     "output_type": "stream",
     "text": [
      "06/13 06:33:50 - mmengine - \u001b[4m\u001b[97mINFO\u001b[0m - Epoch(train) [4][   20/11818]  lr: 1.0000e-06  eta: 3:50:26  time: 1.1727  data_time: 0.8101  memory: 1526  grad_norm: 15.1682  loss: 0.4736  top1_acc: 1.0000  top5_acc: 1.0000  loss_cls: 0.4736\r\n"
     ]
    },
    {
     "name": "stdout",
     "output_type": "stream",
     "text": [
      "06/13 06:34:15 - mmengine - \u001b[4m\u001b[97mINFO\u001b[0m - Epoch(train) [4][   40/11818]  lr: 1.0000e-06  eta: 3:50:03  time: 1.2494  data_time: 0.8862  memory: 1526  grad_norm: 18.5921  loss: 0.5844  top1_acc: 0.2500  top5_acc: 1.0000  loss_cls: 0.5844\r\n"
     ]
    },
    {
     "name": "stdout",
     "output_type": "stream",
     "text": [
      "06/13 06:34:37 - mmengine - \u001b[4m\u001b[97mINFO\u001b[0m - Epoch(train) [4][   60/11818]  lr: 1.0000e-06  eta: 3:49:39  time: 1.1419  data_time: 0.7808  memory: 1526  grad_norm: 17.3471  loss: 0.4635  top1_acc: 0.7500  top5_acc: 1.0000  loss_cls: 0.4635\r\n"
     ]
    },
    {
     "name": "stdout",
     "output_type": "stream",
     "text": [
      "06/13 06:35:02 - mmengine - \u001b[4m\u001b[97mINFO\u001b[0m - Epoch(train) [4][   80/11818]  lr: 1.0000e-06  eta: 3:49:16  time: 1.2068  data_time: 0.8431  memory: 1526  grad_norm: 14.3089  loss: 0.3677  top1_acc: 0.5000  top5_acc: 1.0000  loss_cls: 0.3677\r\n"
     ]
    },
    {
     "name": "stdout",
     "output_type": "stream",
     "text": [
      "06/13 06:35:23 - mmengine - \u001b[4m\u001b[97mINFO\u001b[0m - Epoch(train) [4][  100/11818]  lr: 1.0000e-06  eta: 3:48:52  time: 1.0831  data_time: 0.7218  memory: 1526  grad_norm: 15.1634  loss: 0.4330  top1_acc: 0.5000  top5_acc: 1.0000  loss_cls: 0.4330\r\n"
     ]
    },
    {
     "name": "stdout",
     "output_type": "stream",
     "text": [
      "06/13 06:35:42 - mmengine - \u001b[4m\u001b[97mINFO\u001b[0m - Epoch(train) [4][  120/11818]  lr: 1.0000e-06  eta: 3:48:27  time: 0.9329  data_time: 0.5708  memory: 1526  grad_norm: 15.7769  loss: 0.5031  top1_acc: 0.7500  top5_acc: 1.0000  loss_cls: 0.5031\r\n"
     ]
    },
    {
     "name": "stdout",
     "output_type": "stream",
     "text": [
      "06/13 06:36:05 - mmengine - \u001b[4m\u001b[97mINFO\u001b[0m - Epoch(train) [4][  140/11818]  lr: 1.0000e-06  eta: 3:48:04  time: 1.1835  data_time: 0.8215  memory: 1526  grad_norm: 14.2672  loss: 0.3961  top1_acc: 1.0000  top5_acc: 1.0000  loss_cls: 0.3961\r\n"
     ]
    },
    {
     "name": "stdout",
     "output_type": "stream",
     "text": [
      "06/13 06:36:28 - mmengine - \u001b[4m\u001b[97mINFO\u001b[0m - Epoch(train) [4][  160/11818]  lr: 1.0000e-06  eta: 3:47:40  time: 1.1046  data_time: 0.7415  memory: 1526  grad_norm: 13.3049  loss: 0.3503  top1_acc: 1.0000  top5_acc: 1.0000  loss_cls: 0.3503\r\n"
     ]
    },
    {
     "name": "stdout",
     "output_type": "stream",
     "text": [
      "06/13 06:36:54 - mmengine - \u001b[4m\u001b[97mINFO\u001b[0m - Epoch(train) [4][  180/11818]  lr: 1.0000e-06  eta: 3:47:17  time: 1.2957  data_time: 0.9335  memory: 1526  grad_norm: 16.1305  loss: 0.5555  top1_acc: 0.7500  top5_acc: 1.0000  loss_cls: 0.5555\r\n"
     ]
    },
    {
     "name": "stdout",
     "output_type": "stream",
     "text": [
      "06/13 06:37:19 - mmengine - \u001b[4m\u001b[97mINFO\u001b[0m - Epoch(train) [4][  200/11818]  lr: 1.0000e-06  eta: 3:46:54  time: 1.2625  data_time: 0.8998  memory: 1526  grad_norm: 15.4220  loss: 0.5019  top1_acc: 1.0000  top5_acc: 1.0000  loss_cls: 0.5019\r\n"
     ]
    },
    {
     "name": "stdout",
     "output_type": "stream",
     "text": [
      "06/13 06:37:39 - mmengine - \u001b[4m\u001b[97mINFO\u001b[0m - Epoch(train) [4][  220/11818]  lr: 1.0000e-06  eta: 3:46:30  time: 1.0239  data_time: 0.6627  memory: 1526  grad_norm: 13.4892  loss: 0.3991  top1_acc: 1.0000  top5_acc: 1.0000  loss_cls: 0.3991\r\n"
     ]
    },
    {
     "name": "stdout",
     "output_type": "stream",
     "text": [
      "06/13 06:38:04 - mmengine - \u001b[4m\u001b[97mINFO\u001b[0m - Epoch(train) [4][  240/11818]  lr: 1.0000e-06  eta: 3:46:07  time: 1.2579  data_time: 0.8958  memory: 1526  grad_norm: 14.4755  loss: 0.4616  top1_acc: 1.0000  top5_acc: 1.0000  loss_cls: 0.4616\r\n"
     ]
    },
    {
     "name": "stdout",
     "output_type": "stream",
     "text": [
      "06/13 06:38:30 - mmengine - \u001b[4m\u001b[97mINFO\u001b[0m - Epoch(train) [4][  260/11818]  lr: 1.0000e-06  eta: 3:45:44  time: 1.2769  data_time: 0.9139  memory: 1526  grad_norm: 17.6230  loss: 0.4787  top1_acc: 0.5000  top5_acc: 1.0000  loss_cls: 0.4787\r\n"
     ]
    },
    {
     "name": "stdout",
     "output_type": "stream",
     "text": [
      "06/13 06:38:56 - mmengine - \u001b[4m\u001b[97mINFO\u001b[0m - Epoch(train) [4][  280/11818]  lr: 1.0000e-06  eta: 3:45:22  time: 1.2897  data_time: 0.9279  memory: 1526  grad_norm: 16.1197  loss: 0.3865  top1_acc: 1.0000  top5_acc: 1.0000  loss_cls: 0.3865\r\n"
     ]
    },
    {
     "name": "stdout",
     "output_type": "stream",
     "text": [
      "06/13 06:39:18 - mmengine - \u001b[4m\u001b[97mINFO\u001b[0m - Epoch(train) [4][  300/11818]  lr: 1.0000e-06  eta: 3:44:58  time: 1.0985  data_time: 0.7374  memory: 1526  grad_norm: 17.9838  loss: 0.4939  top1_acc: 1.0000  top5_acc: 1.0000  loss_cls: 0.4939\r\n"
     ]
    },
    {
     "name": "stdout",
     "output_type": "stream",
     "text": [
      "06/13 06:39:41 - mmengine - \u001b[4m\u001b[97mINFO\u001b[0m - Epoch(train) [4][  320/11818]  lr: 1.0000e-06  eta: 3:44:34  time: 1.1617  data_time: 0.8001  memory: 1526  grad_norm: 16.4915  loss: 0.4699  top1_acc: 0.7500  top5_acc: 1.0000  loss_cls: 0.4699\r\n"
     ]
    },
    {
     "name": "stdout",
     "output_type": "stream",
     "text": [
      "06/13 06:40:04 - mmengine - \u001b[4m\u001b[97mINFO\u001b[0m - Epoch(train) [4][  340/11818]  lr: 1.0000e-06  eta: 3:44:11  time: 1.1417  data_time: 0.7812  memory: 1526  grad_norm: 18.0542  loss: 0.5340  top1_acc: 0.5000  top5_acc: 0.7500  loss_cls: 0.5340\r\n"
     ]
    },
    {
     "name": "stdout",
     "output_type": "stream",
     "text": [
      "06/13 06:40:27 - mmengine - \u001b[4m\u001b[97mINFO\u001b[0m - Epoch(train) [4][  360/11818]  lr: 1.0000e-06  eta: 3:43:47  time: 1.1617  data_time: 0.7985  memory: 1526  grad_norm: 15.8781  loss: 0.4497  top1_acc: 1.0000  top5_acc: 1.0000  loss_cls: 0.4497\r\n"
     ]
    },
    {
     "name": "stdout",
     "output_type": "stream",
     "text": [
      "06/13 06:40:48 - mmengine - \u001b[4m\u001b[97mINFO\u001b[0m - Epoch(train) [4][  380/11818]  lr: 1.0000e-06  eta: 3:43:23  time: 1.0271  data_time: 0.6658  memory: 1526  grad_norm: 14.2426  loss: 0.3280  top1_acc: 1.0000  top5_acc: 1.0000  loss_cls: 0.3280\r\n"
     ]
    },
    {
     "name": "stdout",
     "output_type": "stream",
     "text": [
      "06/13 06:41:10 - mmengine - \u001b[4m\u001b[97mINFO\u001b[0m - Epoch(train) [4][  400/11818]  lr: 1.0000e-06  eta: 3:42:59  time: 1.1262  data_time: 0.7653  memory: 1526  grad_norm: 16.5252  loss: 0.5042  top1_acc: 1.0000  top5_acc: 1.0000  loss_cls: 0.5042\r\n"
     ]
    },
    {
     "name": "stdout",
     "output_type": "stream",
     "text": [
      "06/13 06:41:34 - mmengine - \u001b[4m\u001b[97mINFO\u001b[0m - Epoch(train) [4][  420/11818]  lr: 1.0000e-06  eta: 3:42:36  time: 1.1936  data_time: 0.8313  memory: 1526  grad_norm: 15.9732  loss: 0.4244  top1_acc: 1.0000  top5_acc: 1.0000  loss_cls: 0.4244\r\n"
     ]
    },
    {
     "name": "stdout",
     "output_type": "stream",
     "text": [
      "06/13 06:42:00 - mmengine - \u001b[4m\u001b[97mINFO\u001b[0m - Epoch(train) [4][  440/11818]  lr: 1.0000e-06  eta: 3:42:13  time: 1.2941  data_time: 0.9333  memory: 1526  grad_norm: 22.1836  loss: 0.5461  top1_acc: 0.7500  top5_acc: 1.0000  loss_cls: 0.5461\r\n"
     ]
    },
    {
     "name": "stdout",
     "output_type": "stream",
     "text": [
      "06/13 06:42:22 - mmengine - \u001b[4m\u001b[97mINFO\u001b[0m - Epoch(train) [4][  460/11818]  lr: 1.0000e-06  eta: 3:41:49  time: 1.0919  data_time: 0.7270  memory: 1526  grad_norm: 15.3630  loss: 0.5337  top1_acc: 1.0000  top5_acc: 1.0000  loss_cls: 0.5337\r\n"
     ]
    },
    {
     "name": "stdout",
     "output_type": "stream",
     "text": [
      "06/13 06:42:45 - mmengine - \u001b[4m\u001b[97mINFO\u001b[0m - Epoch(train) [4][  480/11818]  lr: 1.0000e-06  eta: 3:41:26  time: 1.1688  data_time: 0.8059  memory: 1526  grad_norm: 14.0379  loss: 0.3748  top1_acc: 1.0000  top5_acc: 1.0000  loss_cls: 0.3748\r\n"
     ]
    }
   ],
   "source": [
    "!python ./mmaction2/tools/train.py config.py"
   ]
  },
  {
   "cell_type": "code",
   "execution_count": null,
   "id": "196f1eb3",
   "metadata": {
    "execution": {
     "iopub.execute_input": "2023-06-12T18:31:35.242864Z",
     "iopub.status.busy": "2023-06-12T18:31:35.242562Z",
     "iopub.status.idle": "2023-06-12T18:31:36.225701Z",
     "shell.execute_reply": "2023-06-12T18:31:36.224555Z",
     "shell.execute_reply.started": "2023-06-12T18:31:35.242836Z"
    },
    "id": "iVy6KiL6McyL",
    "papermill": {
     "duration": null,
     "end_time": null,
     "exception": null,
     "start_time": null,
     "status": "pending"
    },
    "tags": []
   },
   "outputs": [],
   "source": [
    "!ls ../input"
   ]
  }
 ],
 "metadata": {
  "kernelspec": {
   "display_name": "Python 3",
   "language": "python",
   "name": "python3"
  },
  "language_info": {
   "codemirror_mode": {
    "name": "ipython",
    "version": 3
   },
   "file_extension": ".py",
   "mimetype": "text/x-python",
   "name": "python",
   "nbconvert_exporter": "python",
   "pygments_lexer": "ipython3",
   "version": "3.6.4"
  },
  "papermill": {
   "default_parameters": {},
   "duration": null,
   "end_time": null,
   "environment_variables": {},
   "exception": null,
   "input_path": "__notebook__.ipynb",
   "output_path": "__notebook__.ipynb",
   "parameters": {},
   "start_time": "2023-06-12T18:43:24.835212",
   "version": "2.4.0"
  }
 },
 "nbformat": 4,
 "nbformat_minor": 5
}