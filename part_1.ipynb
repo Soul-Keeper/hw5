{
  "cells": [
    {
      "cell_type": "code",
      "source": [
        "!pip install av"
      ],
      "metadata": {
        "colab": {
          "base_uri": "https://localhost:8080/"
        },
        "id": "VtpEvyBW_KD4",
        "outputId": "813caf96-b11b-4e72-c960-82a153941ef6"
      },
      "execution_count": 1,
      "outputs": [
        {
          "output_type": "stream",
          "name": "stdout",
          "text": [
            "Looking in indexes: https://pypi.org/simple, https://us-python.pkg.dev/colab-wheels/public/simple/\n",
            "Collecting av\n",
            "  Downloading av-10.0.0-cp310-cp310-manylinux_2_17_x86_64.manylinux2014_x86_64.whl (31.0 MB)\n",
            "\u001b[2K     \u001b[90m━━━━━━━━━━━━━━━━━━━━━━━━━━━━━━━━━━━━━━━━\u001b[0m \u001b[32m31.0/31.0 MB\u001b[0m \u001b[31m59.8 MB/s\u001b[0m eta \u001b[36m0:00:00\u001b[0m\n",
            "\u001b[?25hInstalling collected packages: av\n",
            "Successfully installed av-10.0.0\n"
          ]
        }
      ]
    },
    {
      "cell_type": "code",
      "source": [
        "from google.colab import drive\n",
        "drive.mount('/content/drive')"
      ],
      "metadata": {
        "colab": {
          "base_uri": "https://localhost:8080/"
        },
        "id": "A95Zl4g6_BmV",
        "outputId": "697e5ecb-68ac-4ee2-8ddf-b27b29cafbeb"
      },
      "execution_count": 2,
      "outputs": [
        {
          "output_type": "stream",
          "name": "stdout",
          "text": [
            "Mounted at /content/drive\n"
          ]
        }
      ]
    },
    {
      "cell_type": "code",
      "source": [
        "!cp /content/drive/MyDrive/my_kinetics/train.zip /content/train.zip\n",
        "!unzip /content/train.zip\n",
        "\n",
        "!cp /content/drive/MyDrive/my_kinetics/val.zip /content/val.zip\n",
        "!unzip /content/val.zip"
      ],
      "metadata": {
        "id": "ZBP1G9b6_0HB"
      },
      "execution_count": null,
      "outputs": []
    },
    {
      "cell_type": "code",
      "execution_count": 4,
      "metadata": {
        "id": "Jv22zjoM-4Gu"
      },
      "outputs": [],
      "source": [
        "import av\n",
        "import torch\n",
        "import numpy as np\n",
        "import pandas as pd\n",
        "import torch.optim as optim\n",
        "import albumentations as A\n",
        "\n",
        "import torch.nn as nn\n",
        "import torchvision.models \n",
        "from sklearn.metrics import accuracy_score\n",
        "\n",
        "from tqdm import tqdm\n",
        "from torch.utils.data import Dataset, DataLoader"
      ]
    },
    {
      "cell_type": "code",
      "execution_count": 5,
      "metadata": {
        "id": "2HxVIsFj-4Gv"
      },
      "outputs": [],
      "source": [
        "def read_video_pyav(container, indices):\n",
        "    '''\n",
        "    Decode the video with PyAV decoder.\n",
        "    Args:\n",
        "        container (`av.container.input.InputContainer`): PyAV container.\n",
        "        indices (`List[int]`): List of frame indices to decode.\n",
        "    Returns:\n",
        "        result (np.ndarray): np array of decoded frames of shape (num_frames, height, width, 3).\n",
        "    '''\n",
        "    frames = []\n",
        "    container.seek(0)\n",
        "    start_index = indices[0]\n",
        "    end_index = indices[-1]\n",
        "    for i, frame in enumerate(container.decode(video=0)):\n",
        "        if i > end_index:\n",
        "            break\n",
        "        if i >= start_index and i in indices:\n",
        "            frames.append(frame)\n",
        "    return np.stack([x.to_ndarray(format=\"rgb24\") for x in frames])\n",
        "\n",
        "def sample_frame_indices(clip_len, frame_sample_rate, seg_len):\n",
        "    converted_len = int(clip_len * frame_sample_rate)\n",
        "    end_idx = converted_len\n",
        "    start_idx = end_idx - converted_len\n",
        "    indices = np.linspace(start_idx, end_idx, num=clip_len)\n",
        "    indices = np.clip(indices, start_idx, end_idx - 1).astype(np.int64)\n",
        "    return indices\n",
        "\n",
        "def apply_video_augmentations(video, transform):\n",
        "    targets={'image': video[0]}\n",
        "    for i in range(1, video.shape[0]):\n",
        "        targets[f'image{i}'] = video[i]\n",
        "    \n",
        "    transformed = transform(**targets)\n",
        "    transformed = np.concatenate(\n",
        "        [np.expand_dims(transformed['image'], axis=0)]\n",
        "        + [np.expand_dims(transformed[f'image{i}'], axis=0) for i in range(1, video.shape[0])]\n",
        "    )\n",
        "    return transformed"
      ]
    },
    {
      "cell_type": "code",
      "execution_count": 6,
      "metadata": {
        "id": "UKGVihfP-4Gw"
      },
      "outputs": [],
      "source": [
        "class MyKinetics(Dataset):\n",
        "    def __init__(self, meta, transform=None):\n",
        "        self.meta = meta\n",
        "        self.transform = transform\n",
        "\n",
        "    def __len__(self):\n",
        "        return len(self.meta)\n",
        "\n",
        "    def __getitem__(self, idx):\n",
        "        if torch.is_tensor(idx):\n",
        "            idx = idx.tolist()\n",
        "\n",
        "        my_transform = A.Compose([\n",
        "            A.Resize(128, 171, always_apply=True),\n",
        "            A.CenterCrop(112, 112, always_apply=True),\n",
        "            A.Normalize(mean = [0.43216, 0.394666, 0.37645],\n",
        "                        std = [0.22803, 0.22145, 0.216989], \n",
        "                        always_apply=True)\n",
        "                    ], additional_targets={\n",
        "                        f'image{i}': 'image'for i in range(1, 8)\n",
        "                        }\n",
        "        )\n",
        "\n",
        "        file_path = '/content/content/' + str(self.meta['split'].iloc[idx]) + '/' + str(self.meta['label'].iloc[idx]) +  '/my_' + str(self.meta['youtube_id'].iloc[idx]) + '.mp4'\n",
        "        container = av.open(file_path)\n",
        "        indices = sample_frame_indices(clip_len=8, frame_sample_rate=5, seg_len=container.streams.video[0].frames)\n",
        "        video = read_video_pyav(container, indices)\n",
        "        transformed = apply_video_augmentations(video, my_transform)\n",
        "\n",
        "        label = torch.tensor(self.meta['num_label'].iloc[idx]).long()\n",
        "        video = torch.from_numpy(transformed).permute(3, 0, 1, 2)\n",
        "\n",
        "        return video, label "
      ]
    },
    {
      "cell_type": "code",
      "execution_count": 7,
      "metadata": {
        "id": "RDB-pvOT-4Gx"
      },
      "outputs": [],
      "source": [
        "train_info = pd.read_csv('/content/drive/MyDrive/my_kinetics/train.csv', sep=',')\n",
        "train_dataset = MyKinetics(train_info)\n",
        "train_dataloader = DataLoader(train_dataset, batch_size=16, shuffle=True, num_workers=2)\n",
        "\n",
        "val_info = pd.read_csv('/content/drive/MyDrive/my_kinetics/val.csv', sep=',')\n",
        "val_dataset = MyKinetics(val_info)\n",
        "val_dataloader = DataLoader(val_dataset, batch_size=16, num_workers=2)"
      ]
    },
    {
      "cell_type": "code",
      "execution_count": 11,
      "metadata": {
        "colab": {
          "base_uri": "https://localhost:8080/"
        },
        "id": "d7b9-_Yo-4Gy",
        "outputId": "b787c37e-65cb-458b-8028-a042031381d3"
      },
      "outputs": [
        {
          "output_type": "stream",
          "name": "stdout",
          "text": [
            "cuda\n"
          ]
        }
      ],
      "source": [
        "epochs = 5\n",
        "device = 'cuda' if torch.cuda.is_available() else 'cpu'\n",
        "print(device)\n",
        "\n",
        "model = torchvision.models.video.r3d_18(pretrained=True)\n",
        "model.fc = torch.nn.Linear(model.fc.in_features, 14)\n",
        "model.to(device)\n",
        "\n",
        "optimizer = optim.AdamW(model.parameters(), lr=1e-4)\n",
        "loss_fn = nn.CrossEntropyLoss()"
      ]
    },
    {
      "cell_type": "code",
      "execution_count": 12,
      "metadata": {
        "colab": {
          "base_uri": "https://localhost:8080/"
        },
        "id": "bmyJbKOV-4Gz",
        "outputId": "6025abc4-847b-4fbc-84a4-c50a9fb6325b"
      },
      "outputs": [
        {
          "output_type": "stream",
          "name": "stderr",
          "text": [
            "Epoch 0 | TRAIN: 100%|██████████| 68/68 [01:46<00:00,  1.57s/it]\n",
            "Epoch 0 | VALID: 100%|██████████| 9/9 [00:09<00:00,  1.05s/it]\n"
          ]
        },
        {
          "output_type": "stream",
          "name": "stdout",
          "text": [
            "Training loss: 2.208620234447367\n",
            "Validation loss: 1.997698148091634\n",
            "ACC: 0.3923076923076923\n",
            "\n"
          ]
        },
        {
          "output_type": "stream",
          "name": "stderr",
          "text": [
            "Epoch 1 | TRAIN: 100%|██████████| 68/68 [01:49<00:00,  1.60s/it]\n",
            "Epoch 1 | VALID: 100%|██████████| 9/9 [00:11<00:00,  1.31s/it]\n"
          ]
        },
        {
          "output_type": "stream",
          "name": "stdout",
          "text": [
            "Training loss: 1.0589971735196955\n",
            "Validation loss: 1.888624217775133\n",
            "ACC: 0.4\n",
            "\n"
          ]
        },
        {
          "output_type": "stream",
          "name": "stderr",
          "text": [
            "Epoch 2 | TRAIN: 100%|██████████| 68/68 [01:45<00:00,  1.55s/it]\n",
            "Epoch 2 | VALID: 100%|██████████| 9/9 [00:11<00:00,  1.27s/it]\n"
          ]
        },
        {
          "output_type": "stream",
          "name": "stdout",
          "text": [
            "Training loss: 0.467551968553487\n",
            "Validation loss: 1.8283549414740667\n",
            "ACC: 0.4307692307692308\n",
            "\n"
          ]
        },
        {
          "output_type": "stream",
          "name": "stderr",
          "text": [
            "Epoch 3 | TRAIN: 100%|██████████| 68/68 [01:46<00:00,  1.56s/it]\n",
            "Epoch 3 | VALID: 100%|██████████| 9/9 [00:11<00:00,  1.27s/it]\n"
          ]
        },
        {
          "output_type": "stream",
          "name": "stdout",
          "text": [
            "Training loss: 0.20146447825519478\n",
            "Validation loss: 1.7948171430163913\n",
            "ACC: 0.4230769230769231\n",
            "\n"
          ]
        },
        {
          "output_type": "stream",
          "name": "stderr",
          "text": [
            "Epoch 4 | TRAIN: 100%|██████████| 68/68 [01:47<00:00,  1.58s/it]\n",
            "Epoch 4 | VALID: 100%|██████████| 9/9 [00:11<00:00,  1.26s/it]"
          ]
        },
        {
          "output_type": "stream",
          "name": "stdout",
          "text": [
            "Training loss: 0.12773847125251503\n",
            "Validation loss: 1.8479702075322468\n",
            "ACC: 0.3769230769230769\n",
            "\n"
          ]
        },
        {
          "output_type": "stream",
          "name": "stderr",
          "text": [
            "\n"
          ]
        }
      ],
      "source": [
        "for epoch in range(epochs):\n",
        "    model.train()\n",
        "\n",
        "    train_loss = []\n",
        "    for i, (batch, targets) in enumerate(tqdm(train_dataloader, desc=f\"Epoch {epoch} | TRAIN\")):\n",
        "        optimizer.zero_grad()\n",
        "\n",
        "        batch = batch.to(device)\n",
        "        targets = targets.to(device)\n",
        "\n",
        "        outputs = model.forward(batch)\n",
        "        loss = loss_fn(outputs, targets)\n",
        "\n",
        "        loss.backward()\n",
        "        optimizer.step()\n",
        "\n",
        "        train_loss.append(loss.item())\n",
        "\n",
        "        del batch, outputs\n",
        "\n",
        "    model.eval()\n",
        "\n",
        "    val_loss = []\n",
        "    val_targets = []\n",
        "    val_preds = []\n",
        "\n",
        "    for i, (batch, targets) in enumerate(tqdm(val_dataloader, desc=f\"Epoch {epoch} | VALID\")):\n",
        "        with torch.no_grad():\n",
        "            batch = batch.to(device)\n",
        "            targets = targets.to(device)\n",
        "\n",
        "            outputs = model.forward(batch)\n",
        "            loss = loss_fn(outputs, targets)\n",
        "\n",
        "            outputs = torch.argmax(torch.nn.functional.softmax(outputs, dim=1), dim=1)\n",
        "            \n",
        "            val_loss.append(loss.item())\n",
        "            val_targets.extend(targets.cpu().numpy())\n",
        "            val_preds.extend(outputs.cpu().numpy())\n",
        "\n",
        "            del batch, outputs\n",
        "\n",
        "    print('Training loss:', np.mean(train_loss))\n",
        "    print('Validation loss:', np.mean(val_loss))\n",
        "    print('ACC:', accuracy_score(val_targets, val_preds), end='\\n\\n')"
      ]
    },
    {
      "cell_type": "markdown",
      "source": [
        "Из эксперимента выше, и других, проведенных отдельно, можно сказать, что сеть достаточно быстро перееобучается. Скорее всего это происходит из-за того, что бекбон предобучен на том же наборе данных.\n",
        "\n",
        "Лучшая достигнутая точность (accuracy) составила 0.43"
      ],
      "metadata": {
        "id": "tvqFGpHPE-fg"
      }
    }
  ],
  "metadata": {
    "kernelspec": {
      "display_name": "Python 3",
      "name": "python3"
    },
    "language_info": {
      "codemirror_mode": {
        "name": "ipython",
        "version": 3
      },
      "file_extension": ".py",
      "mimetype": "text/x-python",
      "name": "python",
      "nbconvert_exporter": "python",
      "pygments_lexer": "ipython3",
      "version": "3.9.16"
    },
    "orig_nbformat": 4,
    "colab": {
      "provenance": [],
      "gpuType": "T4"
    },
    "accelerator": "GPU"
  },
  "nbformat": 4,
  "nbformat_minor": 0
}